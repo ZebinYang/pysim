{
 "cells": [
  {
   "cell_type": "code",
   "execution_count": 1,
   "metadata": {},
   "outputs": [],
   "source": [
    "import numpy as np\n",
    "import pandas as pd\n",
    "import matplotlib.pyplot as plt\n",
    "from scipy.stats import truncnorm\n",
    "from sklearn.model_selection import train_test_split\n",
    "from sklearn.metrics import mean_squared_error, roc_auc_score\n",
    "from sklearn.model_selection import GridSearchCV, PredefinedSplit\n",
    "\n",
    "from pysim import SimBoostRegressor, SimBoostClassifier"
   ]
  },
  {
   "cell_type": "markdown",
   "metadata": {},
   "source": [
    "## Regression"
   ]
  },
  {
   "cell_type": "markdown",
   "metadata": {},
   "source": [
    "```python\n",
    "from pysim import SimBoostRegressor\n",
    "clf = SimBoostRegressor(n_estimators, val_ratio=0.2, degree=2, knot_num=20, reg_lambda=0.1, reg_gamma=10, random_state=0)\n",
    "```"
   ]
  },
  {
   "cell_type": "code",
   "execution_count": 8,
   "metadata": {},
   "outputs": [],
   "source": [
    "def data_generator1_reg(random_state=0):\n",
    "    \n",
    "    np.random.seed(random_state)\n",
    "    # data generation\n",
    "    beta1 = np.array([.2, 0.3, 0.5, 0, 0, 0, 0, 0, 0, 0])\n",
    "    beta2 = np.array([0, .2, 0.3, 0.5, 0, 0, 0, 0, 0, 0])\n",
    "    beta3 = np.array([0, 0, 0.2, 0.3, 0.5, 0, 0, 0, 0, 0])\n",
    "    \n",
    "    beta = np.vstack([beta1,beta2,beta3])\n",
    "    model_list = [lambda x: 0.2*np.exp(-4*x), lambda x: 3*x**2, lambda x: 2.5*np.sin(1.5 * np.pi*x)]\n",
    "    \n",
    "    x = truncnorm.rvs(a=-3,b=3,loc = 0, scale=1/3, size=(20000,10),random_state=random_state)\n",
    "    noise = np.random.randn(20000).reshape(-1, 1)\n",
    "    y = np.reshape(0.2 * np.exp(-4 * np.dot(x, beta1)) + \\\n",
    "                   3 * (np.dot(x, beta2))**2 + 2.5 * np.sin(np.pi * 1.5 * np.dot(x, beta3)), [-1, 1]) + noise\n",
    "    train_x, test_x, train_y, test_y = train_test_split(x, y, test_size=0.2, random_state=random_state)\n",
    "    return beta, model_list, train_x, test_x, train_y, test_y"
   ]
  },
  {
   "cell_type": "code",
   "execution_count": null,
   "metadata": {
    "scrolled": false
   },
   "outputs": [],
   "source": [
    "beta, model_list, train_x, test_x, train_y, test_y = data_generator1_reg()\n",
    "\n",
    "clf = SimBoostRegressor(n_estimators=10, knot_num=20, \n",
    "                        reg_lambda=[0.1, 0.2, 0.3, 0.4, 0.5],\n",
    "                        reg_gamma=[1, 10, 100])\n",
    "clf.fit(train_x, train_y)\n",
    "clf.visualize()\n",
    "mean_squared_error(test_y, clf.predict(test_x))"
   ]
  },
  {
   "cell_type": "code",
   "execution_count": null,
   "metadata": {},
   "outputs": [],
   "source": [
    "clf.validation_performance()"
   ]
  },
  {
   "cell_type": "markdown",
   "metadata": {},
   "source": [
    "## LogitBoost"
   ]
  },
  {
   "cell_type": "markdown",
   "metadata": {},
   "source": [
    "```python\n",
    "from pysim import SimBoostClassifier\n",
    "clf = SimBoostClassifier(n_estimators, val_ratio=0.2, degree=2, knot_num=20, reg_lambda=0.1, reg_gamma=10, random_state=0)\n",
    "```"
   ]
  },
  {
   "cell_type": "code",
   "execution_count": 5,
   "metadata": {},
   "outputs": [],
   "source": [
    "def data_generator1_cls(random_state=0):\n",
    "    \n",
    "    np.random.seed(random_state)\n",
    "    # data generation\n",
    "    beta1 = np.array([.2, 0.3, 0.5, 0, 0, 0, 0, 0, 0, 0])\n",
    "    beta2 = np.array([0, .2, 0.3, 0.5, 0, 0, 0, 0, 0, 0])\n",
    "    beta3 = np.array([0, 0, 0.2, 0.3, 0.5, 0, 0, 0, 0, 0])\n",
    "    \n",
    "    beta = np.vstack([beta1,beta2,beta3])\n",
    "    model_list = [lambda x: 0.2*np.exp(-4*x), lambda x: 3*x**2, lambda x: 2.5*np.sin(1.5 * np.pi*x)]\n",
    "    \n",
    "    x = truncnorm.rvs(a=-3, b=3, loc = 0, scale=1/3, size=(10000, 10),random_state=random_state)\n",
    "    noise = np.random.randn(10000).reshape(-1, 1)\n",
    "    y = np.reshape(0.2 * np.exp(-4 * np.dot(x, beta1)) + \\\n",
    "                   3 * (np.dot(x, beta2))**2 + 2.5 * np.sin(np.pi * 1.5 * np.dot(x, beta3)), [-1, 1]) + noise\n",
    "    y[y <= 0] = 0\n",
    "    y[y > 0] = 1\n",
    "    train_x, test_x, train_y, test_y = train_test_split(x, y, test_size=0.2, random_state=random_state)\n",
    "    return beta, model_list, train_x, test_x, train_y, test_y"
   ]
  },
  {
   "cell_type": "code",
   "execution_count": 6,
   "metadata": {},
   "outputs": [
    {
     "data": {
      "image/png": "[encoded data removed]",
      "text/plain": [
       "<Figure size 1728x331.2 with 3 Axes>"
      ]
     },
     "metadata": {
      "needs_background": "light"
     },
     "output_type": "display_data"
    },
    {
     "data": {
      "text/plain": [
       "0.9181100048136607"
      ]
     },
     "execution_count": 6,
     "metadata": {},
     "output_type": "execute_result"
    }
   ],
   "source": [
    "beta, model_list, train_x, test_x, train_y, test_y = data_generator1_cls()\n",
    "\n",
    "clf = SimBoostClassifier(n_estimators=10, knot_num=20, \n",
    "                         reg_lambda=[0.1, 0.2, 0.3, 0.4, 0.5],\n",
    "                         reg_gamma=[0.1, 1, 10])\n",
    "clf.fit(train_x, train_y)\n",
    "clf.visualize()\n",
    "roc_auc_score(test_y, clf.predict_proba(test_x))"
   ]
  }
 ],
 "metadata": {
  "kernelspec": {
   "display_name": "Python (tf2)",
   "language": "python",
   "name": "tf2"
  },
  "language_info": {
   "codemirror_mode": {
    "name": "ipython",
    "version": 3
   },
   "file_extension": ".py",
   "mimetype": "text/x-python",
   "name": "python",
   "nbconvert_exporter": "python",
   "pygments_lexer": "ipython3",
   "version": "3.6.8"
  }
 },
 "nbformat": 4,
 "nbformat_minor": 2
}
