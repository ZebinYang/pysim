{
 "cells": [
  {
   "cell_type": "code",
   "execution_count": 1,
   "metadata": {},
   "outputs": [],
   "source": [
    "import numpy as np\n",
    "import pandas as pd\n",
    "import matplotlib.pyplot as plt\n",
    "from scipy.stats import truncnorm\n",
    "from sklearn.model_selection import train_test_split\n",
    "from sklearn.metrics import mean_squared_error, roc_auc_score\n",
    "from sklearn.model_selection import GridSearchCV, PredefinedSplit\n",
    "\n",
    "from pysim import SimBoostRegressor, SimBoostClassifier"
   ]
  },
  {
   "cell_type": "markdown",
   "metadata": {},
   "source": [
    "## Regression"
   ]
  },
  {
   "cell_type": "markdown",
   "metadata": {},
   "source": [
    "```python\n",
    "from pysim import SimBoostRegressor\n",
    "clf = SimBoostRegressor(n_estimators, val_ratio=0.2, degree=2, knot_num=20, reg_lambda=0.1, reg_gamma=10, random_state=0)\n",
    "```"
   ]
  },
  {
   "cell_type": "code",
   "execution_count": 2,
   "metadata": {},
   "outputs": [],
   "source": [
    "def data_generator1_reg(random_state=0):\n",
    "    \n",
    "    np.random.seed(random_state)\n",
    "    # data generation\n",
    "    beta1 = np.array([.2, 0.3, 0.5, 0, 0, 0, 0, 0, 0, 0])\n",
    "    beta2 = np.array([0, .2, 0.3, 0.5, 0, 0, 0, 0, 0, 0])\n",
    "    beta3 = np.array([0, 0, 0.2, 0.3, 0.5, 0, 0, 0, 0, 0])\n",
    "    \n",
    "    beta = np.vstack([beta1,beta2,beta3])\n",
    "    model_list = [lambda x: 0.2*np.exp(-4*x), lambda x: 3*x**2, lambda x: 2.5*np.sin(1.5 * np.pi*x)]\n",
    "    \n",
    "    x = truncnorm.rvs(a=-3,b=3,loc = 0, scale=1/3, size=(20000,10),random_state=random_state)\n",
    "    noise = np.random.randn(20000).reshape(-1, 1)\n",
    "    y = np.reshape(0.2 * np.exp(-4 * np.dot(x, beta1)) + \\\n",
    "                   3 * (np.dot(x, beta2))**2 + 2.5 * np.sin(np.pi * 1.5 * np.dot(x, beta3)), [-1, 1]) + noise\n",
    "    train_x, test_x, train_y, test_y = train_test_split(x, y, test_size=0.2, random_state=random_state)\n",
    "    return beta, model_list, train_x, test_x, train_y, test_y"
   ]
  },
  {
   "cell_type": "code",
   "execution_count": 3,
   "metadata": {
    "scrolled": false
   },
   "outputs": [
    {
     "ename": "KeyError",
     "evalue": "'ir'",
     "output_type": "error",
     "traceback": [
      "\u001b[0;31m---------------------------------------------------------------------------\u001b[0m",
      "\u001b[0;31mKeyError\u001b[0m                                  Traceback (most recent call last)",
      "\u001b[0;32m<ipython-input-3-c411dc1f5392>\u001b[0m in \u001b[0;36m<module>\u001b[0;34m\u001b[0m\n\u001b[1;32m      3\u001b[0m \u001b[0mclf\u001b[0m \u001b[0;34m=\u001b[0m \u001b[0mSimBoostRegressor\u001b[0m\u001b[0;34m(\u001b[0m\u001b[0mn_estimators\u001b[0m\u001b[0;34m=\u001b[0m\u001b[0;36m5\u001b[0m\u001b[0;34m,\u001b[0m \u001b[0mknot_num\u001b[0m\u001b[0;34m=\u001b[0m\u001b[0;36m20\u001b[0m\u001b[0;34m,\u001b[0m \u001b[0mreg_lambda\u001b[0m\u001b[0;34m=\u001b[0m\u001b[0;36m0.05\u001b[0m\u001b[0;34m,\u001b[0m \u001b[0mreg_gamma\u001b[0m\u001b[0;34m=\u001b[0m\u001b[0;36m10\u001b[0m\u001b[0;34m)\u001b[0m\u001b[0;34m\u001b[0m\u001b[0;34m\u001b[0m\u001b[0m\n\u001b[1;32m      4\u001b[0m \u001b[0;34m\u001b[0m\u001b[0m\n\u001b[0;32m----> 5\u001b[0;31m \u001b[0mclf\u001b[0m\u001b[0;34m.\u001b[0m\u001b[0mfit\u001b[0m\u001b[0;34m(\u001b[0m\u001b[0mtrain_x\u001b[0m\u001b[0;34m,\u001b[0m \u001b[0mtrain_y\u001b[0m\u001b[0;34m)\u001b[0m\u001b[0;34m\u001b[0m\u001b[0;34m\u001b[0m\u001b[0m\n\u001b[0m\u001b[1;32m      6\u001b[0m \u001b[0mclf\u001b[0m\u001b[0;34m.\u001b[0m\u001b[0mvisualize\u001b[0m\u001b[0;34m(\u001b[0m\u001b[0;34m)\u001b[0m\u001b[0;34m\u001b[0m\u001b[0;34m\u001b[0m\u001b[0m\n\u001b[1;32m      7\u001b[0m \u001b[0mmean_squared_error\u001b[0m\u001b[0;34m(\u001b[0m\u001b[0mtest_y\u001b[0m\u001b[0;34m,\u001b[0m \u001b[0mclf\u001b[0m\u001b[0;34m.\u001b[0m\u001b[0mpredict\u001b[0m\u001b[0;34m(\u001b[0m\u001b[0mtest_x\u001b[0m\u001b[0;34m)\u001b[0m\u001b[0;34m)\u001b[0m\u001b[0;34m\u001b[0m\u001b[0;34m\u001b[0m\u001b[0m\n",
      "\u001b[0;32m~/anaconda2_local/envs/tf2/lib/python3.6/site-packages/pysim/simboost.py\u001b[0m in \u001b[0;36mfit\u001b[0;34m(self, x, y, sample_weight, meta_info)\u001b[0m\n\u001b[1;32m    372\u001b[0m                                       random_state=self.random_state)\n\u001b[1;32m    373\u001b[0m         \u001b[0mself\u001b[0m\u001b[0;34m.\u001b[0m\u001b[0m_fit\u001b[0m\u001b[0;34m(\u001b[0m\u001b[0mx\u001b[0m\u001b[0;34m,\u001b[0m \u001b[0my\u001b[0m\u001b[0;34m,\u001b[0m \u001b[0msample_weight\u001b[0m\u001b[0;34m)\u001b[0m\u001b[0;34m\u001b[0m\u001b[0;34m\u001b[0m\u001b[0m\n\u001b[0;32m--> 374\u001b[0;31m         \u001b[0mself\u001b[0m\u001b[0;34m.\u001b[0m\u001b[0m_pruning\u001b[0m\u001b[0;34m(\u001b[0m\u001b[0mx\u001b[0m\u001b[0;34m,\u001b[0m \u001b[0my\u001b[0m\u001b[0;34m)\u001b[0m\u001b[0;34m\u001b[0m\u001b[0;34m\u001b[0m\u001b[0m\n\u001b[0m\u001b[1;32m    375\u001b[0m         \u001b[0mself\u001b[0m\u001b[0;34m.\u001b[0m\u001b[0mtime_cost_\u001b[0m \u001b[0;34m=\u001b[0m \u001b[0mtime\u001b[0m\u001b[0;34m.\u001b[0m\u001b[0mtime\u001b[0m\u001b[0;34m(\u001b[0m\u001b[0;34m)\u001b[0m \u001b[0;34m-\u001b[0m \u001b[0mstart\u001b[0m\u001b[0;34m\u001b[0m\u001b[0;34m\u001b[0m\u001b[0m\n\u001b[1;32m    376\u001b[0m         \u001b[0;32mreturn\u001b[0m \u001b[0mself\u001b[0m\u001b[0;34m\u001b[0m\u001b[0;34m\u001b[0m\u001b[0m\n",
      "\u001b[0;32m~/anaconda2_local/envs/tf2/lib/python3.6/site-packages/pysim/simboost.py\u001b[0m in \u001b[0;36m_pruning\u001b[0;34m(self, x, y)\u001b[0m\n\u001b[1;32m    465\u001b[0m                                              \"importance\": np.std(est.predict(x[self.tr_idx, :]))}})\n\u001b[1;32m    466\u001b[0m \u001b[0;34m\u001b[0m\u001b[0m\n\u001b[0;32m--> 467\u001b[0;31m         \u001b[0;32mfor\u001b[0m \u001b[0mkey\u001b[0m\u001b[0;34m,\u001b[0m \u001b[0mitem\u001b[0m \u001b[0;32min\u001b[0m \u001b[0msorted\u001b[0m\u001b[0;34m(\u001b[0m\u001b[0mcomponent_importance_temp\u001b[0m\u001b[0;34m.\u001b[0m\u001b[0mitems\u001b[0m\u001b[0;34m(\u001b[0m\u001b[0;34m)\u001b[0m\u001b[0;34m,\u001b[0m \u001b[0mkey\u001b[0m\u001b[0;34m=\u001b[0m\u001b[0;32mlambda\u001b[0m \u001b[0mitem\u001b[0m\u001b[0;34m:\u001b[0m \u001b[0mitem\u001b[0m\u001b[0;34m[\u001b[0m\u001b[0;36m1\u001b[0m\u001b[0;34m]\u001b[0m\u001b[0;34m[\u001b[0m\u001b[0;34m\"ir\"\u001b[0m\u001b[0;34m]\u001b[0m\u001b[0;34m)\u001b[0m\u001b[0;34m[\u001b[0m\u001b[0;34m:\u001b[0m\u001b[0;34m:\u001b[0m\u001b[0;34m-\u001b[0m\u001b[0;36m1\u001b[0m\u001b[0;34m]\u001b[0m\u001b[0;34m:\u001b[0m\u001b[0;34m\u001b[0m\u001b[0;34m\u001b[0m\u001b[0m\n\u001b[0m\u001b[1;32m    468\u001b[0m \u001b[0;34m\u001b[0m\u001b[0m\n\u001b[1;32m    469\u001b[0m             \u001b[0;32mif\u001b[0m \u001b[0mitem\u001b[0m\u001b[0;34m[\u001b[0m\u001b[0;34m\"type\"\u001b[0m\u001b[0;34m]\u001b[0m \u001b[0;34m==\u001b[0m \u001b[0;34m\"sim\"\u001b[0m\u001b[0;34m:\u001b[0m\u001b[0;34m\u001b[0m\u001b[0;34m\u001b[0m\u001b[0m\n",
      "\u001b[0;32m~/anaconda2_local/envs/tf2/lib/python3.6/site-packages/pysim/simboost.py\u001b[0m in \u001b[0;36m<lambda>\u001b[0;34m(item)\u001b[0m\n\u001b[1;32m    465\u001b[0m                                              \"importance\": np.std(est.predict(x[self.tr_idx, :]))}})\n\u001b[1;32m    466\u001b[0m \u001b[0;34m\u001b[0m\u001b[0m\n\u001b[0;32m--> 467\u001b[0;31m         \u001b[0;32mfor\u001b[0m \u001b[0mkey\u001b[0m\u001b[0;34m,\u001b[0m \u001b[0mitem\u001b[0m \u001b[0;32min\u001b[0m \u001b[0msorted\u001b[0m\u001b[0;34m(\u001b[0m\u001b[0mcomponent_importance_temp\u001b[0m\u001b[0;34m.\u001b[0m\u001b[0mitems\u001b[0m\u001b[0;34m(\u001b[0m\u001b[0;34m)\u001b[0m\u001b[0;34m,\u001b[0m \u001b[0mkey\u001b[0m\u001b[0;34m=\u001b[0m\u001b[0;32mlambda\u001b[0m \u001b[0mitem\u001b[0m\u001b[0;34m:\u001b[0m \u001b[0mitem\u001b[0m\u001b[0;34m[\u001b[0m\u001b[0;36m1\u001b[0m\u001b[0;34m]\u001b[0m\u001b[0;34m[\u001b[0m\u001b[0;34m\"ir\"\u001b[0m\u001b[0;34m]\u001b[0m\u001b[0;34m)\u001b[0m\u001b[0;34m[\u001b[0m\u001b[0;34m:\u001b[0m\u001b[0;34m:\u001b[0m\u001b[0;34m-\u001b[0m\u001b[0;36m1\u001b[0m\u001b[0;34m]\u001b[0m\u001b[0;34m:\u001b[0m\u001b[0;34m\u001b[0m\u001b[0;34m\u001b[0m\u001b[0m\n\u001b[0m\u001b[1;32m    468\u001b[0m \u001b[0;34m\u001b[0m\u001b[0m\n\u001b[1;32m    469\u001b[0m             \u001b[0;32mif\u001b[0m \u001b[0mitem\u001b[0m\u001b[0;34m[\u001b[0m\u001b[0;34m\"type\"\u001b[0m\u001b[0;34m]\u001b[0m \u001b[0;34m==\u001b[0m \u001b[0;34m\"sim\"\u001b[0m\u001b[0;34m:\u001b[0m\u001b[0;34m\u001b[0m\u001b[0;34m\u001b[0m\u001b[0m\n",
      "\u001b[0;31mKeyError\u001b[0m: 'ir'"
     ]
    }
   ],
   "source": [
    "beta, model_list, train_x, test_x, train_y, test_y = data_generator1_reg()\n",
    "\n",
    "clf = SimBoostRegressor(n_estimators=5, knot_num=20, reg_lambda=0.05, reg_gamma=10)\n",
    "\n",
    "clf.fit(train_x, train_y)\n",
    "clf.visualize()\n",
    "mean_squared_error(test_y, clf.predict(test_x))"
   ]
  },
  {
   "cell_type": "code",
   "execution_count": 10,
   "metadata": {},
   "outputs": [],
   "source": [
    "x = train_x\n",
    "y = train_y\n",
    "\n",
    "clf.val_auc_ = []\n",
    "clf.estimators_ = []\n",
    "component_importance = {}\n",
    "clf.component_importance_ = {}\n",
    "\n",
    "for indice, est in enumerate(clf.sim_estimators_):\n",
    "    component_importance.update({\"sim \" + str(indice + 1): {\"type\": \"sim\", \"indice\": indice,\n",
    "                                          \"importance\": np.std(est.predict(x[clf.tr_idx, :]))}})\n",
    "\n",
    "for indice, est in enumerate(clf.dummy_estimators_):\n",
    "    feature_name = list(est.named_steps.keys())[0]\n",
    "    component_importance.update({feature_name: {\"type\": \"dummy_lr\", \"indice\": indice,\n",
    "                                      \"importance\": np.std(est.predict(x[self.tr_idx, :]))}})\n"
   ]
  },
  {
   "cell_type": "code",
   "execution_count": 17,
   "metadata": {},
   "outputs": [
    {
     "name": "stdout",
     "output_type": "stream",
     "text": [
      "0\n",
      "1\n",
      "2\n",
      "4\n",
      "3\n"
     ]
    }
   ],
   "source": [
    "clf.val_mse_ = []\n",
    "clf.estimators_ = []\n",
    "pred_val = clf.dummy_intercept_ + np.zeros(len(clf.val_idx))\n",
    "val_mse = mean_squared_error(y[clf.val_idx], pred_val)\n",
    "\n",
    "for key, item in sorted(component_importance.items(), key=lambda item: item[1][\"importance\"])[::-1]:\n",
    "\n",
    "    if item[\"type\"] == \"sim\":\n",
    "        est = clf.sim_estimators_[item[\"indice\"]]\n",
    "    elif item[\"type\"] == \"dummy_lr\":\n",
    "        est = clf.dummy_estimators_[item[\"indice\"]]\n",
    "\n",
    "    clf.component_importance_.update()\n",
    "\n",
    "    print(item[\"indice\"])\n",
    "    pred_val += est.predict(x[clf.val_idx])\n",
    "    val_mse = mean_squared_error(y[clf.val_idx], pred_val)\n",
    "    clf.val_mse_.append(val_mse)\n",
    "    clf.estimators_.append(est)\n",
    "    clf.component_importance_.update({key: item})"
   ]
  },
  {
   "cell_type": "code",
   "execution_count": 21,
   "metadata": {},
   "outputs": [
    {
     "data": {
      "text/plain": [
       "{'sim 1': {'type': 'sim', 'indice': 0, 'importance': 1.5662593572409669},\n",
       " 'sim 2': {'type': 'sim', 'indice': 1, 'importance': 0.1977154004903683}}"
      ]
     },
     "execution_count": 21,
     "metadata": {},
     "output_type": "execute_result"
    }
   ],
   "source": []
  },
  {
   "cell_type": "code",
   "execution_count": 16,
   "metadata": {},
   "outputs": [
    {
     "data": {
      "text/plain": [
       "1"
      ]
     },
     "execution_count": 16,
     "metadata": {},
     "output_type": "execute_result"
    }
   ],
   "source": [
    "best_loss = np.min(clf.val_mse_)\n",
    "if np.sum((clf.val_mse_ / best_loss - 1) < clf.loss_threshold) > 0:\n",
    "    best_idx = np.where((clf.val_mse_ / best_loss - 1) < clf.loss_threshold)[0][0]\n",
    "else:\n",
    "    best_idx = np.argmin(clf.val_mse_)\n",
    "clf.best_estimators_ = clf.estimators_[:(best_idx + 1)]\n",
    "best_idx"
   ]
  },
  {
   "cell_type": "code",
   "execution_count": null,
   "metadata": {},
   "outputs": [],
   "source": []
  },
  {
   "cell_type": "code",
   "execution_count": 14,
   "metadata": {},
   "outputs": [
    {
     "data": {
      "text/plain": [
       "['sim 1', 'sim 2', 'sim 3']"
      ]
     },
     "execution_count": 14,
     "metadata": {},
     "output_type": "execute_result"
    }
   ],
   "source": [
    "list(component_importance_temp)[:3]"
   ]
  },
  {
   "cell_type": "code",
   "execution_count": null,
   "metadata": {},
   "outputs": [],
   "source": [
    "clf.validation_performance()"
   ]
  },
  {
   "cell_type": "markdown",
   "metadata": {},
   "source": [
    "## LogitBoost"
   ]
  },
  {
   "cell_type": "markdown",
   "metadata": {},
   "source": [
    "```python\n",
    "from pysim import SimBoostClassifier\n",
    "clf = SimBoostClassifier(n_estimators, val_ratio=0.2, degree=2, knot_num=20, reg_lambda=0.1, reg_gamma=10, random_state=0)\n",
    "```"
   ]
  },
  {
   "cell_type": "code",
   "execution_count": null,
   "metadata": {},
   "outputs": [],
   "source": [
    "def data_generator1_cls(random_state=0):\n",
    "    \n",
    "    np.random.seed(random_state)\n",
    "    # data generation\n",
    "    beta1 = np.array([.2, 0.3, 0.5, 0, 0, 0, 0, 0, 0, 0])\n",
    "    beta2 = np.array([0, .2, 0.3, 0.5, 0, 0, 0, 0, 0, 0])\n",
    "    beta3 = np.array([0, 0, 0.2, 0.3, 0.5, 0, 0, 0, 0, 0])\n",
    "    \n",
    "    beta = np.vstack([beta1,beta2,beta3])\n",
    "    model_list = [lambda x: 0.2*np.exp(-4*x), lambda x: 3*x**2, lambda x: 2.5*np.sin(1.5 * np.pi*x)]\n",
    "    \n",
    "    x = truncnorm.rvs(a=-3, b=3, loc = 0, scale=1/3, size=(10000, 10),random_state=random_state)\n",
    "    noise = np.random.randn(10000).reshape(-1, 1)\n",
    "    y = np.reshape(0.2 * np.exp(-4 * np.dot(x, beta1)) + \\\n",
    "                   3 * (np.dot(x, beta2))**2 + 2.5 * np.sin(np.pi * 1.5 * np.dot(x, beta3)), [-1, 1]) + noise\n",
    "    y[y <= 0] = 0\n",
    "    y[y > 0] = 1\n",
    "    train_x, test_x, train_y, test_y = train_test_split(x, y, test_size=0.2, random_state=random_state)\n",
    "    return beta, model_list, train_x, test_x, train_y, test_y"
   ]
  },
  {
   "cell_type": "code",
   "execution_count": null,
   "metadata": {},
   "outputs": [],
   "source": [
    "beta, model_list, train_x, test_x, train_y, test_y = data_generator1_cls()\n",
    "\n",
    "clf = SimBoostClassifier(n_estimators=5, knot_num=20, reg_lambda=0.05, reg_gamma=10)\n",
    "clf.fit(train_x, train_y)\n",
    "clf.visualize()\n",
    "roc_auc_score(test_y, clf.predict_proba(test_x))"
   ]
  }
 ],
 "metadata": {
  "kernelspec": {
   "display_name": "Python (tf2)",
   "language": "python",
   "name": "tf2"
  },
  "language_info": {
   "codemirror_mode": {
    "name": "ipython",
    "version": 3
   },
   "file_extension": ".py",
   "mimetype": "text/x-python",
   "name": "python",
   "nbconvert_exporter": "python",
   "pygments_lexer": "ipython3",
   "version": "3.6.8"
  }
 },
 "nbformat": 4,
 "nbformat_minor": 2
}
