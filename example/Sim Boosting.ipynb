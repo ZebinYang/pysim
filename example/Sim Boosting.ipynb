{
 "cells": [
  {
   "cell_type": "code",
   "execution_count": 1,
   "metadata": {
    "ExecuteTime": {
     "end_time": "2020-06-24T09:35:12.669434Z",
     "start_time": "2020-06-24T09:35:10.252217Z"
    }
   },
   "outputs": [],
   "source": [
    "import numpy as np\n",
    "import pandas as pd\n",
    "import matplotlib.pyplot as plt\n",
    "from scipy.stats import truncnorm\n",
    "from sklearn.model_selection import train_test_split\n",
    "from sklearn.metrics import mean_squared_error, roc_auc_score\n",
    "from sklearn.model_selection import GridSearchCV, PredefinedSplit\n",
    "\n",
    "from pysim import SimBoostRegressor, SimBoostClassifier"
   ]
  },
  {
   "cell_type": "markdown",
   "metadata": {},
   "source": [
    "## Regression"
   ]
  },
  {
   "cell_type": "code",
   "execution_count": 2,
   "metadata": {
    "ExecuteTime": {
     "end_time": "2020-06-24T09:36:33.738743Z",
     "start_time": "2020-06-24T09:35:12.671731Z"
    },
    "scrolled": true
   },
   "outputs": [
    {
     "name": "stdout",
     "output_type": "stream",
     "text": [
      "1.0\n",
      "1.0\n",
      "1.0\n",
      "1.0\n",
      "1.0\n",
      "1.0\n",
      "0.8331\n",
      "0.8331\n",
      "0.8331\n",
      "0.6671\n",
      "0.6671\n",
      "0.6671\n",
      "0.6671\n",
      "0.6671\n",
      "0.6671\n",
      "0.6954\n",
      "0.6954\n",
      "0.6954\n",
      "0.0829\n",
      "0.0829\n",
      "0.0829\n",
      "0.0829\n",
      "0.0829\n",
      "0.0829\n",
      "0.0865\n",
      "0.0865\n",
      "0.0865\n",
      "0.0438\n",
      "0.0438\n",
      "0.0438\n",
      "0.0438\n",
      "0.0438\n",
      "0.0438\n",
      "0.0456\n",
      "0.0456\n",
      "0.0456\n",
      "0.0595\n",
      "0.0595\n",
      "0.0595\n",
      "0.0595\n",
      "0.0595\n",
      "0.0595\n",
      "0.0621\n",
      "0.0621\n",
      "0.0621\n",
      "0.0253\n",
      "0.0253\n",
      "0.0253\n",
      "0.0253\n",
      "0.0253\n",
      "0.0253\n",
      "0.0264\n",
      "0.0264\n",
      "0.0264\n",
      "0.0662\n",
      "0.0662\n",
      "0.0662\n",
      "0.0662\n",
      "0.0662\n",
      "0.0662\n",
      "0.0691\n",
      "0.0691\n",
      "0.0691\n",
      "0.0105\n",
      "0.0105\n",
      "0.0105\n",
      "0.0105\n",
      "0.0105\n",
      "0.0105\n",
      "0.011\n",
      "0.011\n",
      "0.011\n",
      "0.0155\n",
      "0.0155\n",
      "0.0155\n",
      "0.0155\n",
      "0.0155\n",
      "0.0155\n",
      "0.0254\n",
      "0.0254\n",
      "0.0254\n",
      "0.006\n",
      "0.006\n",
      "0.006\n",
      "0.006\n",
      "0.006\n",
      "0.006\n",
      "0.006\n",
      "0.006\n",
      "0.006\n"
     ]
    }
   ],
   "source": [
    "random_state = 0\n",
    "np.random.seed(random_state)\n",
    "# data generation\n",
    "beta1 = np.array([.2, 0.3, 0.5, 0, 0, 0, 0, 0, 0, 0])\n",
    "beta2 = np.array([0, .2, 0.3, 0.5, 0, 0, 0, 0, 0, 0])\n",
    "beta3 = np.array([0, 0, 0.2, 0.3, 0.5, 0, 0, 0, 0, 0])\n",
    "beta = np.vstack([beta1, beta2, beta3])\n",
    "\n",
    "x = truncnorm.rvs(a=-3, b=3, loc = 0, scale=1 / 3, size=(10000, 10), random_state=random_state)\n",
    "y = np.reshape(0.2 * np.exp(-4 * np.dot(x, beta1)) + \\\n",
    "               3 * (np.dot(x, beta2)) ** 2 + 2.5 * np.sin(np.pi * 1.5 * np.dot(x, beta3)), [-1, 1]) + \\\n",
    "    np.random.randn(10000).reshape(-1, 1)\n",
    "y[y <= 0] = 0\n",
    "y[y > 0] = 1\n",
    "train_x, test_x, train_y, test_y = train_test_split(x, y, test_size=0.2, random_state=random_state)\n",
    "\n",
    "from pysim import *\n",
    "from sklearn.pipeline import Pipeline\n",
    "from sklearn.utils.extmath import softmax\n",
    "from sklearn.compose import ColumnTransformer\n",
    "from sklearn.utils import check_X_y, column_or_1d\n",
    "from sklearn.utils.validation import check_is_fitted\n",
    "from sklearn.linear_model import LinearRegression, RidgeCV\n",
    "from sklearn.metrics import make_scorer, mean_squared_error, roc_auc_score\n",
    "from sklearn.model_selection import GridSearchCV, PredefinedSplit, train_test_split\n",
    "from sklearn.preprocessing import LabelBinarizer, FunctionTransformer, OneHotEncoder\n",
    "from sklearn.base import BaseEstimator, RegressorMixin, ClassifierMixin, is_classifier, is_regressor\n",
    "\n",
    "middle_update = {\"method\":\"bfgs\",\n",
    "                 \"tol\":0.0001,\n",
    "                 \"max_middle_iter\":3,\n",
    "                 \"n_middle_iter_no_change\":3, \n",
    "                 \"max_inner_iter\":20,\n",
    "                 \"learning_rate\":1e-3,\n",
    "                 \"stratify\":True,\n",
    "                 \"verbose\":False}\n",
    "\n",
    "clf = SimBoostClassifier(n_estimators=10, knot_num=10, knot_dist=\"quantile\", spline=\"smoothing_spline\", learning_rate=1,\n",
    "                         reg_lambda=[0.1, 0.2, 0.3, 0.4, 0.5], degree=3, \n",
    "                         reg_gamma=\"GCV\", middle_update=middle_update, meta_info=None)\n",
    "\n",
    "x = train_x\n",
    "y = train_y\n",
    "\n",
    "x, y = clf._validate_input(x, y)\n",
    "n_samples, n_features = x.shape\n",
    "clf._validate_hyperparameters()\n",
    "clf._preprocess_meta_info(n_features)\n",
    "sample_weight = clf._validate_sample_weight(n_samples, None)\n",
    "\n",
    "clf.intercept_ = 0\n",
    "clf.sim_estimators_ = []\n",
    "clf.dummy_estimators_ = []\n",
    "clf.dummy_density_ = {}\n",
    "clf.learning_rates = [1] + [clf.learning_rate] * (clf.n_estimators - 1)\n",
    "\n",
    "clf.tr_idx, clf.val_idx = train_test_split(np.arange(n_samples), test_size=clf.val_ratio,\n",
    "                              stratify=y, random_state=clf.random_state)\n",
    "\n",
    "\n",
    "n_samples = x.shape[0]\n",
    "val_fold = np.ones((n_samples))\n",
    "val_fold[clf.tr_idx] = -1\n",
    "\n",
    "# Initialize the intercept\n",
    "z = y.copy() * 4 - 2\n",
    "clf.intercept_ = np.mean(z)\n",
    "pred_train = clf.intercept_ * np.ones(len(clf.tr_idx))\n",
    "pred_val = clf.intercept_ * np.ones(len(clf.val_idx))\n",
    "proba_train = 1 / (1 + np.exp(-pred_train.ravel()))\n",
    "proba_val = 1 / (1 + np.exp(-pred_val.ravel()))\n",
    "\n",
    "sample_weight[clf.tr_idx] = proba_train * (1 - proba_train)\n",
    "sample_weight[clf.tr_idx] /= np.sum(sample_weight[clf.tr_idx])\n",
    "sample_weight[clf.tr_idx] = np.maximum(sample_weight[clf.tr_idx], 2 * np.finfo(np.float64).eps)\n",
    "\n",
    "with np.errstate(divide=\"ignore\", over=\"ignore\"):\n",
    "\tz = np.where(y.ravel(), 1. / np.hstack([proba_train, proba_val]),\n",
    "\t\t\t\t\t-1. / (1. - np.hstack([proba_train, proba_val]))) \n",
    "\tz = np.clip(z, a_min=-8, a_max=8)\n",
    "\n",
    "# Fit categorical variables\n",
    "if clf.cfeature_num_ > 0:\n",
    "\tclf._fit_dummy(x[clf.tr_idx], z[clf.tr_idx], sample_weight[clf.tr_idx])\n",
    "\tpred_train = np.sum([est.predict(x[clf.tr_idx]) for est in clf.dummy_estimators_], axis=0) + clf.intercept_\n",
    "\tproba_train = 1 / (1 + np.exp(-pred_train.ravel()))\n",
    "\tpred_val = np.sum([est.predict(x[clf.val_idx]) for est in clf.dummy_estimators_], axis=0) + clf.intercept_\n",
    "\tproba_val = 1 / (1 + np.exp(-pred_val.ravel()))\n",
    "\n",
    "\n",
    "for indice in range(clf.n_estimators):\n",
    "\tsample_weight[clf.tr_idx] = proba_train * (1 - proba_train)\n",
    "\tsample_weight[clf.tr_idx] /= np.sum(sample_weight[clf.tr_idx])\n",
    "\tsample_weight[clf.tr_idx] = np.maximum(sample_weight[clf.tr_idx], 2 * np.finfo(np.float64).eps)\n",
    "\n",
    "\twith np.errstate(divide=\"ignore\", over=\"ignore\"):\n",
    "\t\tz = np.where(y.ravel(), 1. / np.hstack([proba_train, proba_val]),\n",
    "\t\t\t\t\t\t-1. / (1. - np.hstack([proba_train, proba_val]))) \n",
    "\t\tz = np.clip(z, a_min=-8, a_max=8)\n",
    "\n",
    "\t# projection matrix\n",
    "\tif clf.learning_rate == 1:\n",
    "\t\tif (indice == 0) or (indice >= clf.nfeature_num_) or (clf.ortho_shrink == 0):\n",
    "\t\t\tproj_mat = np.eye(clf.nfeature_num_)\n",
    "\t\telse:\n",
    "\t\t\tprojection_indices_ = np.array([est[\"sim\"].beta_.flatten() for est in clf.sim_estimators_]).T\n",
    "\t\t\tu, _, _ = np.linalg.svd(projection_indices_, full_matrices=False)\n",
    "\t\t\tproj_mat = np.eye(u.shape[0]) - clf.ortho_shrink * np.dot(u, u.T)\n",
    "\telse:\n",
    "\t\tproj_mat = None\n",
    "\n",
    "\t# fit Sim estimator\n",
    "\tparam_grid = {\"method\": clf.prjection_method_list, \n",
    "\t\t\t  \"reg_lambda\": clf.reg_lambda_list,\n",
    "\t\t\t  \"reg_gamma\": clf.reg_gamma_list}\n",
    "\tgrid = GridSearchCV(SimRegressor(degree=clf.degree, knot_num=clf.knot_num, spline=clf.spline,\n",
    "\t\t\t\t\t\t  knot_dist=clf.knot_dist, random_state=clf.random_state), \n",
    "\t\t\t\t  scoring={\"mse\": make_scorer(mean_squared_error, greater_is_better=False)}, refit=False,\n",
    "\t\t\t\t  cv=PredefinedSplit(val_fold), param_grid=param_grid, verbose=0, error_score=np.nan)\n",
    "\n",
    "\tgrid.fit(x[:, clf.nfeature_index_list_], z, sample_weight=sample_weight, proj_mat=proj_mat)\n",
    "\tsim = grid.estimator.set_params(**grid.cv_results_[\"params\"][np.where((grid.cv_results_[\"rank_test_mse\"] == 1))[0][0]])\n",
    "\tsim_estimator = Pipeline(steps = [(\"select\", FunctionTransformer(lambda data: data[:, clf.nfeature_index_list_], \n",
    "\t\t\t\t\t\t\t\t\t\t\t\tvalidate=False)),\n",
    "\t\t\t\t\t\t   (\"sim\", sim)])\n",
    "\tsim_estimator.fit(x[clf.tr_idx], z[clf.tr_idx],\n",
    "\t\t\t\tsim__sample_weight=sample_weight[clf.tr_idx], sim__proj_mat=proj_mat)\n",
    "\n",
    "\t# update\n",
    "\tsim_estimator[\"sim\"].fit_middle_update(x[:, clf.nfeature_index_list_], z, \n",
    "\t\t\tsample_weight=sample_weight, proj_mat=proj_mat, val_ratio=clf.val_ratio, **clf.middle_update)\n",
    "\tpred_train += clf.learning_rates[indice] * sim_estimator.predict(x[clf.tr_idx])\n",
    "\tproba_train = 1 / (1 + np.exp(-pred_train.ravel()))\n",
    "\tpred_val += clf.learning_rates[indice] * sim_estimator.predict(x[clf.val_idx])\n",
    "\tproba_val = 1 / (1 + np.exp(-pred_val.ravel()))\n",
    "\tclf.sim_estimators_.append(sim_estimator)"
   ]
  },
  {
   "cell_type": "code",
   "execution_count": null,
   "metadata": {
    "ExecuteTime": {
     "start_time": "2020-06-24T09:35:08.058Z"
    }
   },
   "outputs": [],
   "source": [
    "random_state = 0\n",
    "np.random.seed(random_state)\n",
    "# data generation\n",
    "beta1 = np.array([.2, 0.3, 0.5, 0, 0, 0, 0, 0, 0, 0])\n",
    "beta2 = np.array([0, .2, 0.3, 0.5, 0, 0, 0, 0, 0, 0])\n",
    "beta3 = np.array([0, 0, 0.2, 0.3, 0.5, 0, 0, 0, 0, 0])\n",
    "\n",
    "beta = np.vstack([beta1, beta2, beta3])\n",
    "model_list = [lambda x: 0.2 * np.exp(-4 * x), lambda x: 3 * x ** 2, lambda x: 2.5 * np.sin(1.5 * np.pi * x)]\n",
    "\n",
    "x = truncnorm.rvs(a=-3, b=3, loc = 0, scale=1 / 3, size=(20000, 10), random_state=random_state)\n",
    "noise = np.random.randn(20000).reshape(-1, 1)\n",
    "y = np.reshape(0.2 * np.exp(-4 * np.dot(x, beta1)) + \\\n",
    "               3 * (np.dot(x, beta2)) ** 2 + 2.5 * np.sin(np.pi * 1.5 * np.dot(x, beta3)), [-1, 1]) + noise\n",
    "train_x, test_x, train_y, test_y = train_test_split(x, y, test_size=0.2, random_state=random_state)"
   ]
  },
  {
   "cell_type": "code",
   "execution_count": null,
   "metadata": {
    "ExecuteTime": {
     "start_time": "2020-06-24T09:35:08.068Z"
    },
    "scrolled": false
   },
   "outputs": [
    {
     "name": "stdout",
     "output_type": "stream",
     "text": [
      "1.0\n",
      "1.0\n",
      "1.0\n",
      "1.0\n",
      "1.0\n",
      "1.0\n"
     ]
    }
   ],
   "source": [
    "%%time \n",
    "\n",
    "middle_update = {\"method\":\"bfgs\",\n",
    "                 \"tol\":0.0001,\n",
    "                 \"max_middle_iter\":3,\n",
    "                 \"n_middle_iter_no_change\":3, \n",
    "                 \"max_inner_iter\":20,\n",
    "                 \"learning_rate\":1e-3,\n",
    "                 \"stratify\":True,\n",
    "                 \"verbose\":False}\n",
    "        \n",
    "clf = SimBoostRegressor(n_estimators=20, knot_num=10, knot_dist=\"uniform\", spline=\"smoothing_spline\", learning_rate=1,\n",
    "                        reg_lambda=[0.1, 0.2, 0.3, 0.4, 0.5], degree=3,\n",
    "                        reg_gamma=\"GCV\", middle_update=middle_update, meta_info=None)\n",
    "clf.fit(train_x, train_y)"
   ]
  },
  {
   "cell_type": "code",
   "execution_count": null,
   "metadata": {
    "ExecuteTime": {
     "start_time": "2020-06-24T09:35:08.078Z"
    }
   },
   "outputs": [],
   "source": [
    "clf.visualize()"
   ]
  },
  {
   "cell_type": "code",
   "execution_count": null,
   "metadata": {
    "ExecuteTime": {
     "start_time": "2020-06-24T09:35:08.088Z"
    }
   },
   "outputs": [],
   "source": [
    "clf.validation_performance()"
   ]
  },
  {
   "cell_type": "code",
   "execution_count": null,
   "metadata": {
    "ExecuteTime": {
     "start_time": "2020-06-24T09:35:08.100Z"
    }
   },
   "outputs": [],
   "source": [
    "mean_squared_error(test_y, clf.predict(test_x))"
   ]
  },
  {
   "cell_type": "markdown",
   "metadata": {},
   "source": [
    "## LogitBoost"
   ]
  },
  {
   "cell_type": "code",
   "execution_count": null,
   "metadata": {
    "ExecuteTime": {
     "start_time": "2020-06-24T09:35:08.136Z"
    }
   },
   "outputs": [],
   "source": [
    "random_state = 0\n",
    "np.random.seed(random_state)\n",
    "# data generation\n",
    "beta1 = np.array([.2, 0.3, 0.5, 0, 0, 0, 0, 0, 0, 0])\n",
    "beta2 = np.array([0, .2, 0.3, 0.5, 0, 0, 0, 0, 0, 0])\n",
    "beta3 = np.array([0, 0, 0.2, 0.3, 0.5, 0, 0, 0, 0, 0])\n",
    "beta = np.vstack([beta1, beta2, beta3])\n",
    "\n",
    "x = truncnorm.rvs(a=-3, b=3, loc = 0, scale=1 / 3, size=(10000, 10), random_state=random_state)\n",
    "y = np.reshape(0.2 * np.exp(-4 * np.dot(x, beta1)) + \\\n",
    "               3 * (np.dot(x, beta2)) ** 2 + 2.5 * np.sin(np.pi * 1.5 * np.dot(x, beta3)), [-1, 1]) + \\\n",
    "    np.random.randn(10000).reshape(-1, 1)\n",
    "y[y <= 0] = 0\n",
    "y[y > 0] = 1\n",
    "train_x, test_x, train_y, test_y = train_test_split(x, y, test_size=0.2, random_state=random_state)"
   ]
  },
  {
   "cell_type": "code",
   "execution_count": null,
   "metadata": {
    "ExecuteTime": {
     "start_time": "2020-06-24T09:35:08.152Z"
    }
   },
   "outputs": [],
   "source": [
    "%%time \n",
    "\n",
    "middle_update = {\"method\":\"bfgs\",\n",
    "                 \"tol\":0.0001,\n",
    "                 \"max_middle_iter\":3,\n",
    "                 \"n_middle_iter_no_change\":3, \n",
    "                 \"max_inner_iter\":20,\n",
    "                 \"learning_rate\":1e-3,\n",
    "                 \"stratify\":True,\n",
    "                 \"verbose\":False}\n",
    "\n",
    "clf = SimBoostClassifier(n_estimators=10, knot_num=10, knot_dist=\"quantile\", spline=\"smoothing_spline\", learning_rate=1,\n",
    "                         reg_lambda=[0.1, 0.2, 0.3, 0.4, 0.5], degree=3, \n",
    "                         reg_gamma=\"GCV\", middle_update=middle_update, meta_info=None)\n",
    "clf.fit(train_x, train_y)\n",
    "clf.visualize()"
   ]
  },
  {
   "cell_type": "code",
   "execution_count": null,
   "metadata": {
    "ExecuteTime": {
     "start_time": "2020-06-24T09:35:08.163Z"
    }
   },
   "outputs": [],
   "source": [
    "clf.validation_performance()"
   ]
  },
  {
   "cell_type": "code",
   "execution_count": null,
   "metadata": {
    "ExecuteTime": {
     "start_time": "2020-06-24T09:35:08.177Z"
    }
   },
   "outputs": [],
   "source": [
    "roc_auc_score(test_y, clf.predict_proba(test_x))"
   ]
  }
 ],
 "metadata": {
  "kernelspec": {
   "display_name": "Python (tf2)",
   "language": "python",
   "name": "tf2"
  },
  "language_info": {
   "codemirror_mode": {
    "name": "ipython",
    "version": 3
   },
   "file_extension": ".py",
   "mimetype": "text/x-python",
   "name": "python",
   "nbconvert_exporter": "python",
   "pygments_lexer": "ipython3",
   "version": "3.6.8"
  },
  "latex_envs": {
   "LaTeX_envs_menu_present": true,
   "autoclose": false,
   "autocomplete": true,
   "bibliofile": "biblio.bib",
   "cite_by": "apalike",
   "current_citInitial": 1,
   "eqLabelWithNumbers": true,
   "eqNumInitial": 1,
   "hotkeys": {
    "equation": "Ctrl-E",
    "itemize": "Ctrl-I"
   },
   "labels_anchors": false,
   "latex_user_defs": false,
   "report_style_numbering": false,
   "user_envs_cfg": false
  },
  "varInspector": {
   "cols": {
    "lenName": 16,
    "lenType": 16,
    "lenVar": 40
   },
   "kernels_config": {
    "python": {
     "delete_cmd_postfix": "",
     "delete_cmd_prefix": "del ",
     "library": "var_list.py",
     "varRefreshCmd": "print(var_dic_list())"
    },
    "r": {
     "delete_cmd_postfix": ") ",
     "delete_cmd_prefix": "rm(",
     "library": "var_list.r",
     "varRefreshCmd": "cat(var_dic_list()) "
    }
   },
   "types_to_exclude": [
    "module",
    "function",
    "builtin_function_or_method",
    "instance",
    "_Feature"
   ],
   "window_display": false
  }
 },
 "nbformat": 4,
 "nbformat_minor": 2
}
