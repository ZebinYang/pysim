{
 "cells": [
  {
   "cell_type": "code",
   "execution_count": 1,
   "metadata": {
    "ExecuteTime": {
     "end_time": "2020-05-24T03:40:14.876278Z",
     "start_time": "2020-05-24T03:40:08.226906Z"
    }
   },
   "outputs": [],
   "source": [
    "import numpy as np\n",
    "import pandas as pd\n",
    "import matplotlib.pyplot as plt\n",
    "from scipy.stats import truncnorm\n",
    "from sklearn.model_selection import train_test_split\n",
    "from sklearn.metrics import mean_squared_error, roc_auc_score\n",
    "from sklearn.model_selection import GridSearchCV, PredefinedSplit\n",
    "\n",
    "from pysim import SimBoostRegressor, SimBoostClassifier"
   ]
  },
  {
   "cell_type": "markdown",
   "metadata": {},
   "source": [
    "## Regression"
   ]
  },
  {
   "cell_type": "markdown",
   "metadata": {},
   "source": [
    "```python\n",
    "from pysim import SimBoostRegressor\n",
    "clf = SimBoostRegressor(n_estimators, stein_method=\"first_order\", spline=\"a_spline\", knot_dist=\"uniform\",\n",
    "                 learning_rate=1.0, reg_lambda=0.1, reg_gamma=0.1, degree=2, knot_num=20,\n",
    "                 ortho_shrink=1, loss_threshold=0.01, inner_update=True, meta_info=None, val_ratio=0.2, random_state=0)\n",
    "```"
   ]
  },
  {
   "cell_type": "code",
   "execution_count": 2,
   "metadata": {
    "ExecuteTime": {
     "end_time": "2020-05-24T03:40:19.851643Z",
     "start_time": "2020-05-24T03:40:14.882991Z"
    }
   },
   "outputs": [],
   "source": [
    "random_state = 0\n",
    "np.random.seed(random_state)\n",
    "# data generation\n",
    "beta1 = np.array([.2, 0.3, 0.5, 0, 0, 0, 0, 0, 0, 0])\n",
    "beta2 = np.array([0, .2, 0.3, 0.5, 0, 0, 0, 0, 0, 0])\n",
    "beta3 = np.array([0, 0, 0.2, 0.3, 0.5, 0, 0, 0, 0, 0])\n",
    "\n",
    "beta = np.vstack([beta1, beta2, beta3])\n",
    "model_list = [lambda x: 0.2 * np.exp(-4 * x), lambda x: 3 * x ** 2, lambda x: 2.5 * np.sin(1.5 * np.pi * x)]\n",
    "\n",
    "x = truncnorm.rvs(a=-3, b=3, loc = 0, scale=1 / 3, size=(20000, 10), random_state=random_state)\n",
    "noise = np.random.randn(20000).reshape(-1, 1)\n",
    "y = np.reshape(0.2 * np.exp(-4 * np.dot(x, beta1)) + \\\n",
    "               3 * (np.dot(x, beta2)) ** 2 + 2.5 * np.sin(np.pi * 1.5 * np.dot(x, beta3)), [-1, 1]) + noise\n",
    "train_x, test_x, train_y, test_y = train_test_split(x, y, test_size=0.2, random_state=random_state)"
   ]
  },
  {
   "cell_type": "code",
   "execution_count": null,
   "metadata": {
    "ExecuteTime": {
     "start_time": "2020-05-24T03:40:07.482Z"
    },
    "scrolled": false
   },
   "outputs": [],
   "source": [
    "%%time \n",
    "\n",
    "clf = SimBoostRegressor(n_estimators=50, knot_num=20, knot_dist=\"uniform\", spline=\"a_spline\", learning_rate=0.5,\n",
    "                        reg_lambda=[0.1, 0.2, 0.3, 0.4, 0.5],\n",
    "                        reg_gamma=[0.1, 1, 10], inner_update=False, meta_info=None)\n",
    "clf.fit(train_x, train_y)"
   ]
  },
  {
   "cell_type": "code",
   "execution_count": null,
   "metadata": {
    "ExecuteTime": {
     "start_time": "2020-05-24T03:40:07.493Z"
    }
   },
   "outputs": [],
   "source": [
    "clf.visualize()"
   ]
  },
  {
   "cell_type": "code",
   "execution_count": null,
   "metadata": {
    "ExecuteTime": {
     "start_time": "2020-05-24T03:40:07.509Z"
    }
   },
   "outputs": [],
   "source": [
    "clf.validation_performance()"
   ]
  },
  {
   "cell_type": "code",
   "execution_count": null,
   "metadata": {
    "ExecuteTime": {
     "start_time": "2020-05-24T03:40:07.519Z"
    }
   },
   "outputs": [],
   "source": [
    "mean_squared_error(test_y, clf.predict(test_x))"
   ]
  },
  {
   "cell_type": "markdown",
   "metadata": {},
   "source": [
    "## LogitBoost"
   ]
  },
  {
   "cell_type": "markdown",
   "metadata": {},
   "source": [
    "```python\n",
    "from pysim import SimBoostClassifier\n",
    "clf = SimBoostClassifier(n_estimators, stein_method=\"first_order\", spline=\"a_spline\", knot_dist=\"uniform\",\n",
    "                 learning_rate=1.0, reg_lambda=0.1, reg_gamma=0.1, degree=2, knot_num=20,\n",
    "                 ortho_shrink=1, loss_threshold=0.01, inner_update=True, meta_info=None, val_ratio=0.2, random_state=0)\n",
    "```"
   ]
  },
  {
   "cell_type": "code",
   "execution_count": null,
   "metadata": {
    "ExecuteTime": {
     "start_time": "2020-05-24T03:40:07.574Z"
    }
   },
   "outputs": [],
   "source": [
    "random_state = 0\n",
    "np.random.seed(random_state)\n",
    "# data generation\n",
    "beta1 = np.array([.2, 0.3, 0.5, 0, 0, 0, 0, 0, 0, 0])\n",
    "beta2 = np.array([0, .2, 0.3, 0.5, 0, 0, 0, 0, 0, 0])\n",
    "beta3 = np.array([0, 0, 0.2, 0.3, 0.5, 0, 0, 0, 0, 0])\n",
    "beta = np.vstack([beta1, beta2, beta3])\n",
    "\n",
    "x = truncnorm.rvs(a=-3, b=3, loc = 0, scale=1 / 3, size=(10000, 10), random_state=random_state)\n",
    "y = np.reshape(0.2 * np.exp(-4 * np.dot(x, beta1)) + \\\n",
    "               3 * (np.dot(x, beta2)) ** 2 + 2.5 * np.sin(np.pi * 1.5 * np.dot(x, beta3)), [-1, 1]) + \\\n",
    "    np.random.randn(10000).reshape(-1, 1)\n",
    "y[y <= 0] = 0\n",
    "y[y > 0] = 1\n",
    "train_x, test_x, train_y, test_y = train_test_split(x, y, test_size=0.2, random_state=random_state)"
   ]
  },
  {
   "cell_type": "code",
   "execution_count": null,
   "metadata": {
    "ExecuteTime": {
     "start_time": "2020-05-24T03:40:07.583Z"
    }
   },
   "outputs": [],
   "source": [
    "%%time \n",
    "\n",
    "clf = SimBoostClassifier(n_estimators=50, knot_num=20, knot_dist=\"uniform\", spline=\"a_spline\", learning_rate=0.5,\n",
    "                         reg_lambda=[0.1, 0.2, 0.3, 0.4, 0.5],\n",
    "                         reg_gamma=[0.1, 1, 10], inner_update=False, meta_info=None)\n",
    "clf.fit(train_x, train_y)"
   ]
  },
  {
   "cell_type": "code",
   "execution_count": null,
   "metadata": {
    "ExecuteTime": {
     "start_time": "2020-05-24T03:40:07.592Z"
    }
   },
   "outputs": [],
   "source": [
    "clf.visualize()"
   ]
  },
  {
   "cell_type": "code",
   "execution_count": null,
   "metadata": {
    "ExecuteTime": {
     "start_time": "2020-05-24T03:40:07.602Z"
    }
   },
   "outputs": [],
   "source": [
    "clf.validation_performance()"
   ]
  },
  {
   "cell_type": "code",
   "execution_count": null,
   "metadata": {
    "ExecuteTime": {
     "start_time": "2020-05-24T03:40:07.615Z"
    }
   },
   "outputs": [],
   "source": [
    "roc_auc_score(test_y, clf.predict_proba(test_x))"
   ]
  },
  {
   "cell_type": "code",
   "execution_count": null,
   "metadata": {},
   "outputs": [],
   "source": []
  }
 ],
 "metadata": {
  "kernelspec": {
   "display_name": "Python (tf2)",
   "language": "python",
   "name": "tf2"
  },
  "language_info": {
   "codemirror_mode": {
    "name": "ipython",
    "version": 3
   },
   "file_extension": ".py",
   "mimetype": "text/x-python",
   "name": "python",
   "nbconvert_exporter": "python",
   "pygments_lexer": "ipython3",
   "version": "3.6.8"
  },
  "latex_envs": {
   "LaTeX_envs_menu_present": true,
   "autoclose": false,
   "autocomplete": true,
   "bibliofile": "biblio.bib",
   "cite_by": "apalike",
   "current_citInitial": 1,
   "eqLabelWithNumbers": true,
   "eqNumInitial": 1,
   "hotkeys": {
    "equation": "Ctrl-E",
    "itemize": "Ctrl-I"
   },
   "labels_anchors": false,
   "latex_user_defs": false,
   "report_style_numbering": false,
   "user_envs_cfg": false
  },
  "varInspector": {
   "cols": {
    "lenName": 16,
    "lenType": 16,
    "lenVar": 40
   },
   "kernels_config": {
    "python": {
     "delete_cmd_postfix": "",
     "delete_cmd_prefix": "del ",
     "library": "var_list.py",
     "varRefreshCmd": "print(var_dic_list())"
    },
    "r": {
     "delete_cmd_postfix": ") ",
     "delete_cmd_prefix": "rm(",
     "library": "var_list.r",
     "varRefreshCmd": "cat(var_dic_list()) "
    }
   },
   "types_to_exclude": [
    "module",
    "function",
    "builtin_function_or_method",
    "instance",
    "_Feature"
   ],
   "window_display": false
  }
 },
 "nbformat": 4,
 "nbformat_minor": 2
}
