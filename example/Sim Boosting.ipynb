{
 "cells": [
  {
   "cell_type": "code",
   "execution_count": 1,
   "metadata": {
    "ExecuteTime": {
     "end_time": "2020-06-24T08:19:43.437728Z",
     "start_time": "2020-06-24T08:19:40.938334Z"
    }
   },
   "outputs": [],
   "source": [
    "import numpy as np\n",
    "import pandas as pd\n",
    "import matplotlib.pyplot as plt\n",
    "from scipy.stats import truncnorm\n",
    "from sklearn.model_selection import train_test_split\n",
    "from sklearn.metrics import mean_squared_error, roc_auc_score\n",
    "from sklearn.model_selection import GridSearchCV, PredefinedSplit\n",
    "\n",
    "from pysim import SimBoostRegressor, SimBoostClassifier"
   ]
  },
  {
   "cell_type": "markdown",
   "metadata": {},
   "source": [
    "## Regression"
   ]
  },
  {
   "cell_type": "code",
   "execution_count": 2,
   "metadata": {
    "ExecuteTime": {
     "end_time": "2020-06-24T08:19:45.161261Z",
     "start_time": "2020-06-24T08:19:43.440209Z"
    }
   },
   "outputs": [],
   "source": [
    "random_state = 0\n",
    "np.random.seed(random_state)\n",
    "# data generation\n",
    "beta1 = np.array([.2, 0.3, 0.5, 0, 0, 0, 0, 0, 0, 0])\n",
    "beta2 = np.array([0, .2, 0.3, 0.5, 0, 0, 0, 0, 0, 0])\n",
    "beta3 = np.array([0, 0, 0.2, 0.3, 0.5, 0, 0, 0, 0, 0])\n",
    "\n",
    "beta = np.vstack([beta1, beta2, beta3])\n",
    "model_list = [lambda x: 0.2 * np.exp(-4 * x), lambda x: 3 * x ** 2, lambda x: 2.5 * np.sin(1.5 * np.pi * x)]\n",
    "\n",
    "x = truncnorm.rvs(a=-3, b=3, loc = 0, scale=1 / 3, size=(20000, 10), random_state=random_state)\n",
    "noise = np.random.randn(20000).reshape(-1, 1)\n",
    "y = np.reshape(0.2 * np.exp(-4 * np.dot(x, beta1)) + \\\n",
    "               3 * (np.dot(x, beta2)) ** 2 + 2.5 * np.sin(np.pi * 1.5 * np.dot(x, beta3)), [-1, 1]) + noise\n",
    "train_x, test_x, train_y, test_y = train_test_split(x, y, test_size=0.2, random_state=random_state)"
   ]
  },
  {
   "cell_type": "code",
   "execution_count": 3,
   "metadata": {
    "ExecuteTime": {
     "end_time": "2020-06-24T08:19:47.185826Z",
     "start_time": "2020-06-24T08:19:45.165004Z"
    },
    "scrolled": false
   },
   "outputs": [
    {
     "ename": "AttributeError",
     "evalue": "'SimBoostRegressor' object has no attribute 'inner_update'",
     "output_type": "error",
     "traceback": [
      "\u001b[0;31m---------------------------------------------------------------------------\u001b[0m",
      "\u001b[0;31mAttributeError\u001b[0m                            Traceback (most recent call last)",
      "\u001b[0;32m<timed exec>\u001b[0m in \u001b[0;36m<module>\u001b[0;34m\u001b[0m\n",
      "\u001b[0;32m~/anaconda2_local/envs/tf2/lib/python3.6/site-packages/pysim/simboost.py\u001b[0m in \u001b[0;36mfit\u001b[0;34m(self, x, y, sample_weight)\u001b[0m\n\u001b[1;32m    631\u001b[0m                                           stratify=y, random_state=self.random_state)\n\u001b[1;32m    632\u001b[0m \u001b[0;34m\u001b[0m\u001b[0m\n\u001b[0;32m--> 633\u001b[0;31m         \u001b[0mself\u001b[0m\u001b[0;34m.\u001b[0m\u001b[0m_fit\u001b[0m\u001b[0;34m(\u001b[0m\u001b[0mx\u001b[0m\u001b[0;34m,\u001b[0m \u001b[0my\u001b[0m\u001b[0;34m,\u001b[0m \u001b[0msample_weight\u001b[0m\u001b[0;34m)\u001b[0m\u001b[0;34m\u001b[0m\u001b[0;34m\u001b[0m\u001b[0m\n\u001b[0m\u001b[1;32m    634\u001b[0m         \u001b[0mself\u001b[0m\u001b[0;34m.\u001b[0m\u001b[0m_pruning\u001b[0m\u001b[0;34m(\u001b[0m\u001b[0mx\u001b[0m\u001b[0;34m,\u001b[0m \u001b[0my\u001b[0m\u001b[0;34m)\u001b[0m\u001b[0;34m\u001b[0m\u001b[0;34m\u001b[0m\u001b[0m\n\u001b[1;32m    635\u001b[0m         \u001b[0mself\u001b[0m\u001b[0;34m.\u001b[0m\u001b[0mtime_cost_\u001b[0m \u001b[0;34m=\u001b[0m \u001b[0mtime\u001b[0m\u001b[0;34m.\u001b[0m\u001b[0mtime\u001b[0m\u001b[0;34m(\u001b[0m\u001b[0;34m)\u001b[0m \u001b[0;34m-\u001b[0m \u001b[0mstart\u001b[0m\u001b[0;34m\u001b[0m\u001b[0;34m\u001b[0m\u001b[0m\n",
      "\u001b[0;32m~/anaconda2_local/envs/tf2/lib/python3.6/site-packages/pysim/simboost.py\u001b[0m in \u001b[0;36m_fit\u001b[0;34m(self, x, y, sample_weight)\u001b[0m\n\u001b[1;32m    863\u001b[0m             sim_estimator.fit(x[self.tr_idx], z[self.tr_idx],\n\u001b[1;32m    864\u001b[0m                        sim__sample_weight=sample_weight[self.tr_idx], sim__proj_mat=proj_mat)\n\u001b[0;32m--> 865\u001b[0;31m             \u001b[0;32mif\u001b[0m \u001b[0mself\u001b[0m\u001b[0;34m.\u001b[0m\u001b[0minner_update\u001b[0m \u001b[0;32mis\u001b[0m \u001b[0;32mnot\u001b[0m \u001b[0;32mNone\u001b[0m\u001b[0;34m:\u001b[0m\u001b[0;34m\u001b[0m\u001b[0;34m\u001b[0m\u001b[0m\n\u001b[0m\u001b[1;32m    866\u001b[0m                 sim_estimator[\"sim\"].fit_inner_update(x[:, self.nfeature_index_list_], z, \n\u001b[1;32m    867\u001b[0m                         sample_weight=sample_weight, proj_mat=proj_mat, val_ratio=self.val_ratio, **self.middle_update)\n",
      "\u001b[0;31mAttributeError\u001b[0m: 'SimBoostRegressor' object has no attribute 'inner_update'"
     ]
    }
   ],
   "source": [
    "%%time \n",
    "\n",
    "middle_update = {\"method\":\"bfgs\",\n",
    "                 \"tol\":0.0001,\n",
    "                 \"max_middle_iter\":3,\n",
    "                 \"n_middle_iter_no_change\":3, \n",
    "                 \"max_inner_iter\":20,\n",
    "                 \"learning_rate\":1e-3,\n",
    "                 \"stratify\":True,\n",
    "                 \"verbose\":False}\n",
    "        \n",
    "clf = SimBoostRegressor(n_estimators=20, knot_num=10, knot_dist=\"uniform\", spline=\"smoothing_spline\", learning_rate=1,\n",
    "                        reg_lambda=[0.1, 0.2, 0.3, 0.4, 0.5], degree=3,\n",
    "                        reg_gamma=\"GCV\", middle_update=middle_update, meta_info=None)\n",
    "clf.fit(train_x, train_y)"
   ]
  },
  {
   "cell_type": "code",
   "execution_count": 4,
   "metadata": {
    "ExecuteTime": {
     "end_time": "2020-06-24T08:19:47.199219Z",
     "start_time": "2020-06-24T08:19:47.188049Z"
    }
   },
   "outputs": [
    {
     "ename": "NotFittedError",
     "evalue": "This SimBoostRegressor instance is not fitted yet. Call 'fit' with appropriate arguments before using this estimator.",
     "output_type": "error",
     "traceback": [
      "\u001b[0;31m---------------------------------------------------------------------------\u001b[0m",
      "\u001b[0;31mNotFittedError\u001b[0m                            Traceback (most recent call last)",
      "\u001b[0;32m<ipython-input-4-a54439c08edc>\u001b[0m in \u001b[0;36m<module>\u001b[0;34m\u001b[0m\n\u001b[0;32m----> 1\u001b[0;31m \u001b[0mclf\u001b[0m\u001b[0;34m.\u001b[0m\u001b[0mvisualize\u001b[0m\u001b[0;34m(\u001b[0m\u001b[0;34m)\u001b[0m\u001b[0;34m\u001b[0m\u001b[0;34m\u001b[0m\u001b[0m\n\u001b[0m",
      "\u001b[0;32m~/anaconda2_local/envs/tf2/lib/python3.6/site-packages/pysim/simboost.py\u001b[0m in \u001b[0;36mvisualize\u001b[0;34m(self, cols_per_row, folder, name, save_png, save_eps)\u001b[0m\n\u001b[1;32m    296\u001b[0m         \"\"\"\n\u001b[1;32m    297\u001b[0m \u001b[0;34m\u001b[0m\u001b[0m\n\u001b[0;32m--> 298\u001b[0;31m         \u001b[0mcheck_is_fitted\u001b[0m\u001b[0;34m(\u001b[0m\u001b[0mself\u001b[0m\u001b[0;34m,\u001b[0m \u001b[0;34m\"best_estimators_\"\u001b[0m\u001b[0;34m)\u001b[0m\u001b[0;34m\u001b[0m\u001b[0;34m\u001b[0m\u001b[0m\n\u001b[0m\u001b[1;32m    299\u001b[0m \u001b[0;34m\u001b[0m\u001b[0m\n\u001b[1;32m    300\u001b[0m         \u001b[0msubfig_idx\u001b[0m \u001b[0;34m=\u001b[0m \u001b[0;36m0\u001b[0m\u001b[0;34m\u001b[0m\u001b[0;34m\u001b[0m\u001b[0m\n",
      "\u001b[0;32m~/anaconda2_local/envs/tf2/lib/python3.6/site-packages/sklearn/utils/validation.py\u001b[0m in \u001b[0;36mcheck_is_fitted\u001b[0;34m(estimator, attributes, msg, all_or_any)\u001b[0m\n\u001b[1;32m    965\u001b[0m \u001b[0;34m\u001b[0m\u001b[0m\n\u001b[1;32m    966\u001b[0m     \u001b[0;32mif\u001b[0m \u001b[0;32mnot\u001b[0m \u001b[0mattrs\u001b[0m\u001b[0;34m:\u001b[0m\u001b[0;34m\u001b[0m\u001b[0;34m\u001b[0m\u001b[0m\n\u001b[0;32m--> 967\u001b[0;31m         \u001b[0;32mraise\u001b[0m \u001b[0mNotFittedError\u001b[0m\u001b[0;34m(\u001b[0m\u001b[0mmsg\u001b[0m \u001b[0;34m%\u001b[0m \u001b[0;34m{\u001b[0m\u001b[0;34m'name'\u001b[0m\u001b[0;34m:\u001b[0m \u001b[0mtype\u001b[0m\u001b[0;34m(\u001b[0m\u001b[0mestimator\u001b[0m\u001b[0;34m)\u001b[0m\u001b[0;34m.\u001b[0m\u001b[0m__name__\u001b[0m\u001b[0;34m}\u001b[0m\u001b[0;34m)\u001b[0m\u001b[0;34m\u001b[0m\u001b[0;34m\u001b[0m\u001b[0m\n\u001b[0m\u001b[1;32m    968\u001b[0m \u001b[0;34m\u001b[0m\u001b[0m\n\u001b[1;32m    969\u001b[0m \u001b[0;34m\u001b[0m\u001b[0m\n",
      "\u001b[0;31mNotFittedError\u001b[0m: This SimBoostRegressor instance is not fitted yet. Call 'fit' with appropriate arguments before using this estimator."
     ]
    }
   ],
   "source": [
    "clf.visualize()"
   ]
  },
  {
   "cell_type": "code",
   "execution_count": null,
   "metadata": {
    "ExecuteTime": {
     "end_time": "2020-06-24T08:19:47.202238Z",
     "start_time": "2020-06-24T08:19:38.892Z"
    }
   },
   "outputs": [],
   "source": [
    "clf.validation_performance()"
   ]
  },
  {
   "cell_type": "code",
   "execution_count": null,
   "metadata": {
    "ExecuteTime": {
     "end_time": "2020-06-24T08:19:47.203264Z",
     "start_time": "2020-06-24T08:19:38.910Z"
    }
   },
   "outputs": [],
   "source": [
    "mean_squared_error(test_y, clf.predict(test_x))"
   ]
  },
  {
   "cell_type": "markdown",
   "metadata": {},
   "source": [
    "## LogitBoost"
   ]
  },
  {
   "cell_type": "code",
   "execution_count": null,
   "metadata": {
    "ExecuteTime": {
     "end_time": "2020-06-24T08:19:47.204101Z",
     "start_time": "2020-06-24T08:19:38.975Z"
    }
   },
   "outputs": [],
   "source": [
    "random_state = 0\n",
    "np.random.seed(random_state)\n",
    "# data generation\n",
    "beta1 = np.array([.2, 0.3, 0.5, 0, 0, 0, 0, 0, 0, 0])\n",
    "beta2 = np.array([0, .2, 0.3, 0.5, 0, 0, 0, 0, 0, 0])\n",
    "beta3 = np.array([0, 0, 0.2, 0.3, 0.5, 0, 0, 0, 0, 0])\n",
    "beta = np.vstack([beta1, beta2, beta3])\n",
    "\n",
    "x = truncnorm.rvs(a=-3, b=3, loc = 0, scale=1 / 3, size=(10000, 10), random_state=random_state)\n",
    "y = np.reshape(0.2 * np.exp(-4 * np.dot(x, beta1)) + \\\n",
    "               3 * (np.dot(x, beta2)) ** 2 + 2.5 * np.sin(np.pi * 1.5 * np.dot(x, beta3)), [-1, 1]) + \\\n",
    "    np.random.randn(10000).reshape(-1, 1)\n",
    "y[y <= 0] = 0\n",
    "y[y > 0] = 1\n",
    "train_x, test_x, train_y, test_y = train_test_split(x, y, test_size=0.2, random_state=random_state)"
   ]
  },
  {
   "cell_type": "code",
   "execution_count": null,
   "metadata": {
    "ExecuteTime": {
     "end_time": "2020-06-24T08:19:47.205268Z",
     "start_time": "2020-06-24T08:19:38.995Z"
    }
   },
   "outputs": [],
   "source": [
    "%%time \n",
    "\n",
    "middle_update = {\"method\":\"bfgs\",\n",
    "                 \"tol\":0.0001,\n",
    "                 \"max_middle_iter\":3,\n",
    "                 \"n_middle_iter_no_change\":3, \n",
    "                 \"max_inner_iter\":20,\n",
    "                 \"learning_rate\":1e-3,\n",
    "                 \"stratify\":True,\n",
    "                 \"verbose\":False}\n",
    "\n",
    "clf = SimBoostClassifier(n_estimators=10, knot_num=10, knot_dist=\"quantile\", spline=\"smoothing_spline\", learning_rate=1,\n",
    "                         reg_lambda=[0.1, 0.2, 0.3, 0.4, 0.5], degree=3, \n",
    "                         reg_gamma=\"GCV\", middle_update=middle_update, meta_info=None)\n",
    "clf.fit(train_x, train_y)\n",
    "clf.visualize()"
   ]
  },
  {
   "cell_type": "code",
   "execution_count": null,
   "metadata": {
    "ExecuteTime": {
     "end_time": "2020-06-24T08:19:47.206429Z",
     "start_time": "2020-06-24T08:19:39.009Z"
    }
   },
   "outputs": [],
   "source": [
    "clf.validation_performance()"
   ]
  },
  {
   "cell_type": "code",
   "execution_count": null,
   "metadata": {
    "ExecuteTime": {
     "end_time": "2020-06-24T08:19:47.207359Z",
     "start_time": "2020-06-24T08:19:39.026Z"
    }
   },
   "outputs": [],
   "source": [
    "roc_auc_score(test_y, clf.predict_proba(test_x))"
   ]
  },
  {
   "cell_type": "code",
   "execution_count": null,
   "metadata": {},
   "outputs": [],
   "source": []
  }
 ],
 "metadata": {
  "kernelspec": {
   "display_name": "Python (tf2)",
   "language": "python",
   "name": "tf2"
  },
  "language_info": {
   "codemirror_mode": {
    "name": "ipython",
    "version": 3
   },
   "file_extension": ".py",
   "mimetype": "text/x-python",
   "name": "python",
   "nbconvert_exporter": "python",
   "pygments_lexer": "ipython3",
   "version": "3.6.8"
  },
  "latex_envs": {
   "LaTeX_envs_menu_present": true,
   "autoclose": false,
   "autocomplete": true,
   "bibliofile": "biblio.bib",
   "cite_by": "apalike",
   "current_citInitial": 1,
   "eqLabelWithNumbers": true,
   "eqNumInitial": 1,
   "hotkeys": {
    "equation": "Ctrl-E",
    "itemize": "Ctrl-I"
   },
   "labels_anchors": false,
   "latex_user_defs": false,
   "report_style_numbering": false,
   "user_envs_cfg": false
  },
  "varInspector": {
   "cols": {
    "lenName": 16,
    "lenType": 16,
    "lenVar": 40
   },
   "kernels_config": {
    "python": {
     "delete_cmd_postfix": "",
     "delete_cmd_prefix": "del ",
     "library": "var_list.py",
     "varRefreshCmd": "print(var_dic_list())"
    },
    "r": {
     "delete_cmd_postfix": ") ",
     "delete_cmd_prefix": "rm(",
     "library": "var_list.r",
     "varRefreshCmd": "cat(var_dic_list()) "
    }
   },
   "types_to_exclude": [
    "module",
    "function",
    "builtin_function_or_method",
    "instance",
    "_Feature"
   ],
   "window_display": false
  }
 },
 "nbformat": 4,
 "nbformat_minor": 2
}
