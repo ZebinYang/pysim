{
 "cells": [
  {
   "cell_type": "markdown",
   "metadata": {},
   "source": [
    "## SIM Training by Stein's Method"
   ]
  },
  {
   "cell_type": "code",
   "execution_count": 1,
   "metadata": {},
   "outputs": [],
   "source": [
    "import numpy as np\n",
    "from matplotlib import pylab as plt\n",
    "from sklearn.model_selection import KFold\n",
    "from sklearn.model_selection import GridSearchCV\n",
    "from sklearn.preprocessing import MinMaxScaler\n",
    "from sklearn.metrics import make_scorer, roc_auc_score\n",
    "\n",
    "from pysim import SimClassifier"
   ]
  },
  {
   "cell_type": "markdown",
   "metadata": {},
   "source": [
    "## pySIM - A python package for Sparse SIM "
   ]
  },
  {
   "cell_type": "markdown",
   "metadata": {},
   "source": [
    "**To install**:\n",
    "    \n",
    "```sheel\n",
    "    pip install git+https://github.com/Zebinyang/pysim.git\n",
    "```\n",
    "\n",
    "Note pysim will call the R package fps (https://github.com/vqv/fps) using rpy2 interface. "
   ]
  },
  {
   "cell_type": "markdown",
   "metadata": {},
   "source": [
    "```python\n",
    "from pysim import SimClassifier\n",
    "clf = SimClassifier(method=\"first_order\", spline=\"a_spline\", reg_lambda=0.1, reg_gamma=10, knot_num=20, degree=2, random_state=0)\n",
    "## clf.fit(x, y)\n",
    "```"
   ]
  },
  {
   "cell_type": "markdown",
   "metadata": {},
   "source": [
    "**Usage**"
   ]
  },
  {
   "cell_type": "markdown",
   "metadata": {},
   "source": [
    "**Hyperparameters**\n",
    "\n",
    "- method: the base method for estimating the projection coefficients in sparse SIM. default=\"first_order\"\n",
    "\n",
    "        \"first_order\": First-order Stein's Identity via sparse PCA solver\n",
    "\n",
    "        \"second_order\": Second-order Stein's Identity via sparse PCA solver\n",
    "\n",
    "        \"first_order_thres\": First-order Stein's Identity via hard thresholding (A simplified verison)        \n",
    "    \n",
    "- spline: The type of spline method. default=\"a_spline\"\n",
    "\n",
    "        \"p_spline\": p-spline (from pygam package)\n",
    "    \n",
    "        \"p_spline_mono\": p-spline with monotonic constraint (from pygam package)\n",
    "    \n",
    "        \"a_spline\": adaptive spline where knots are automatically selected (see Goepp, V., Bouaziz, O. and Nuel, G., 2018. Spline regression with automatic knot selection. arXiv preprint arXiv:1808.01770.)\n",
    "\n",
    "- reg_lambda: The regularization strength of sparsity of beta. default=0.1, from 0 to 1 \n",
    "\n",
    "- reg_gamma: The regularization strength of the spline algorithm. default=10, from 0 to $+\\infty$\n",
    "\n",
    "- degree: The order of the spline basis. default=2\n",
    "\n",
    "- knot_num: The number of knots spanned uniformly over the domain. default=20\n",
    "\n",
    "- random_state: the random seed. default=0"
   ]
  },
  {
   "cell_type": "markdown",
   "metadata": {},
   "source": [
    "# Case 1: Sine Ridge Function"
   ]
  },
  {
   "cell_type": "markdown",
   "metadata": {},
   "source": [
    "- covariates: $x\\sim N(0, 0.3^2)$\n",
    "- ridge function: $ f(u) = \\sin{(u\\pi)} $\n",
    "- projection: $ u = \\beta^{T} x $, where $\\beta$ has 5 non-zero entries\n",
    "- noise: $N(0, 1)$\n",
    "- sample size: 10000\n",
    "- feature size: 100"
   ]
  },
  {
   "cell_type": "code",
   "execution_count": 2,
   "metadata": {
    "scrolled": true
   },
   "outputs": [],
   "source": [
    "s_star = 5\n",
    "n_features = 100\n",
    "n_samples = 10000\n",
    "\n",
    "np.random.seed(0)\n",
    "beta = np.zeros(n_features)\n",
    "supp_ids = np.random.choice(n_features, s_star)\n",
    "beta[supp_ids]=np.random.choice((-1, 1), s_star) / np.sqrt(s_star)\n",
    "\n",
    "x = np.random.normal(0, 0.3, size=(n_samples, n_features))\n",
    "y = np.sin(np.pi*(np.dot(x, beta))) + 0.1 * np.random.randn(n_samples)\n",
    "ymu = np.mean(y)\n",
    "y[y > ymu] = 1\n",
    "y[y <= ymu] = 0"
   ]
  },
  {
   "cell_type": "code",
   "execution_count": 3,
   "metadata": {},
   "outputs": [
    {
     "data": {
      "text/plain": [
       "<matplotlib.collections.PathCollection at 0x7fca510de0f0>"
      ]
     },
     "execution_count": 3,
     "metadata": {},
     "output_type": "execute_result"
    },
    {
     "data": {
      "image/png": "[encoded data removed]",
      "text/plain": [
       "<Figure size 432x288 with 1 Axes>"
      ]
     },
     "metadata": {
      "needs_background": "light"
     },
     "output_type": "display_data"
    }
   ],
   "source": [
    "plt.scatter(np.dot(x, beta), y)"
   ]
  },
  {
   "cell_type": "markdown",
   "metadata": {},
   "source": [
    "The best hyperparameter combination can be selected via cross-validation"
   ]
  },
  {
   "cell_type": "code",
   "execution_count": 4,
   "metadata": {
    "scrolled": true
   },
   "outputs": [
    {
     "name": "stdout",
     "output_type": "stream",
     "text": [
      "Fitting 3 folds for each of 18 candidates, totalling 54 fits\n"
     ]
    },
    {
     "name": "stderr",
     "output_type": "stream",
     "text": [
      "[Parallel(n_jobs=-1)]: Using backend LokyBackend with 64 concurrent workers.\n",
      "[Parallel(n_jobs=-1)]: Done  11 out of  54 | elapsed:   34.1s remaining:  2.2min\n",
      "[Parallel(n_jobs=-1)]: Done  39 out of  54 | elapsed:   46.1s remaining:   17.7s\n",
      "[Parallel(n_jobs=-1)]: Done  54 out of  54 | elapsed:   49.8s finished\n"
     ]
    },
    {
     "name": "stdout",
     "output_type": "stream",
     "text": [
      "CPU times: user 5.55 s, sys: 20.9 s, total: 26.5 s\n",
      "Wall time: 51.3 s\n"
     ]
    }
   ],
   "source": [
    "%%time \n",
    "\n",
    "param_grid = {\"method\": [\"first_order\", \"second_order\"],\n",
    "              \"reg_lambda\": [0.01, 0.05, 0.1],\n",
    "              \"reg_gamma\": np.logspace(-1, 1, 3)}\n",
    "grid = GridSearchCV(SimClassifier(degree=2, knot_num=20, spline=\"a_spline\", random_state=0), \n",
    "                    cv=KFold(3, shuffle=True, random_state=0), \n",
    "                    scoring={\"auc\": make_scorer(roc_auc_score)},\n",
    "                    param_grid=param_grid, n_jobs=-1, verbose=2, refit=\"auc\", error_score=np.nan)\n",
    "grid.fit(x, y)"
   ]
  },
  {
   "cell_type": "code",
   "execution_count": 5,
   "metadata": {},
   "outputs": [
    {
     "data": {
      "text/plain": [
       "{'method': 'first_order', 'reg_gamma': 0.1, 'reg_lambda': 0.05}"
      ]
     },
     "execution_count": 5,
     "metadata": {},
     "output_type": "execute_result"
    }
   ],
   "source": [
    "grid.best_params_"
   ]
  },
  {
   "cell_type": "markdown",
   "metadata": {},
   "source": [
    "**NB**: The first-order Setin's method is selected, as $\\mathbb{E}[f^{\\prime\\prime}(u)]=0$. Therefore, the second order method cannot provide any information about the projection coefficients. "
   ]
  },
  {
   "cell_type": "markdown",
   "metadata": {},
   "source": [
    "In this case, the first-order Setin's method is selected. "
   ]
  },
  {
   "cell_type": "code",
   "execution_count": 6,
   "metadata": {},
   "outputs": [
    {
     "data": {
      "text/plain": [
       "SimClassifier(degree=2, knot_num=20, method='first_order', random_state=0,\n",
       "              reg_gamma=0.1, reg_lambda=0.05, spline='a_spline')"
      ]
     },
     "execution_count": 6,
     "metadata": {},
     "output_type": "execute_result"
    }
   ],
   "source": [
    "clf = grid.best_estimator_\n",
    "clf"
   ]
  },
  {
   "cell_type": "code",
   "execution_count": 7,
   "metadata": {},
   "outputs": [
    {
     "data": {
      "image/png": "[encoded data removed]",
      "text/plain": [
       "<Figure size 432x288 with 1 Axes>"
      ]
     },
     "metadata": {
      "needs_background": "light"
     },
     "output_type": "display_data"
    }
   ],
   "source": [
    "plt.plot(clf.beta_, \"o\")\n",
    "plt.plot(beta, \"o\")\n",
    "plt.legend([\"Estimated\", \"Ground Truth\"])\n",
    "plt.show()"
   ]
  },
  {
   "cell_type": "code",
   "execution_count": 8,
   "metadata": {
    "scrolled": true
   },
   "outputs": [
    {
     "data": {
      "image/png": "[encoded data removed]",
      "text/plain": [
       "<Figure size 864x288 with 2 Axes>"
      ]
     },
     "metadata": {
      "needs_background": "light"
     },
     "output_type": "display_data"
    }
   ],
   "source": [
    "grid.best_estimator_.visualize()"
   ]
  },
  {
   "cell_type": "code",
   "execution_count": 9,
   "metadata": {},
   "outputs": [
    {
     "data": {
      "text/plain": [
       "0.995407851905614"
      ]
     },
     "execution_count": 9,
     "metadata": {},
     "output_type": "execute_result"
    }
   ],
   "source": [
    "roc_auc_score(y, grid.predict_proba(x))"
   ]
  },
  {
   "cell_type": "markdown",
   "metadata": {},
   "source": [
    "## Case 2: Quadratic Ridge Function"
   ]
  },
  {
   "cell_type": "markdown",
   "metadata": {},
   "source": [
    "- covariates: $x\\sim N(0, 0.3^2)$\n",
    "- ridge function: $ f(u) = u^{2} $\n",
    "- projection: $ u = \\beta^{T} x $, where $\\beta$ has 5 non-zero entries\n",
    "- noise: $N(0, 1)$\n",
    "- sample size: 10000\n",
    "- feature size: 100"
   ]
  },
  {
   "cell_type": "code",
   "execution_count": 10,
   "metadata": {
    "scrolled": true
   },
   "outputs": [],
   "source": [
    "s_star = 5\n",
    "n_features = 100\n",
    "n_samples = 10000\n",
    "\n",
    "np.random.seed(0)\n",
    "beta = np.zeros(n_features)\n",
    "supp_ids = np.random.choice(n_features, s_star)\n",
    "beta[supp_ids]=np.random.choice((-1, 1), s_star) / np.sqrt(s_star)\n",
    "\n",
    "x = np.random.normal(0, 0.3, size=(n_samples, n_features))\n",
    "y = 5 * np.dot(x, beta) ** 2 + 0.1 * np.random.randn(n_samples)\n",
    "ymu = np.mean(y)\n",
    "y[y > ymu] = 1\n",
    "y[y <= ymu] = 0"
   ]
  },
  {
   "cell_type": "code",
   "execution_count": 11,
   "metadata": {},
   "outputs": [
    {
     "data": {
      "text/plain": [
       "<matplotlib.collections.PathCollection at 0x7fca39852ef0>"
      ]
     },
     "execution_count": 11,
     "metadata": {},
     "output_type": "execute_result"
    },
    {
     "data": {
      "image/png": "[encoded data removed]",
      "text/plain": [
       "<Figure size 432x288 with 1 Axes>"
      ]
     },
     "metadata": {
      "needs_background": "light"
     },
     "output_type": "display_data"
    }
   ],
   "source": [
    "plt.scatter(np.dot(x, beta), y)"
   ]
  },
  {
   "cell_type": "code",
   "execution_count": 12,
   "metadata": {
    "scrolled": true
   },
   "outputs": [
    {
     "name": "stdout",
     "output_type": "stream",
     "text": [
      "Fitting 3 folds for each of 18 candidates, totalling 54 fits\n"
     ]
    },
    {
     "name": "stderr",
     "output_type": "stream",
     "text": [
      "[Parallel(n_jobs=-1)]: Using backend LokyBackend with 64 concurrent workers.\n",
      "[Parallel(n_jobs=-1)]: Done  11 out of  54 | elapsed:   12.3s remaining:   48.3s\n",
      "[Parallel(n_jobs=-1)]: Done  39 out of  54 | elapsed:   17.4s remaining:    6.7s\n",
      "[Parallel(n_jobs=-1)]: Done  54 out of  54 | elapsed:   40.9s finished\n"
     ]
    },
    {
     "name": "stdout",
     "output_type": "stream",
     "text": [
      "CPU times: user 5.52 s, sys: 20.8 s, total: 26.3 s\n",
      "Wall time: 43.8 s\n"
     ]
    }
   ],
   "source": [
    "%%time \n",
    "\n",
    "param_grid = {\"method\": [\"first_order\", \"second_order\"],\n",
    "              \"reg_lambda\": [0.01, 0.05, 0.1],\n",
    "              \"reg_gamma\": np.logspace(-1, 1, 3)}\n",
    "grid = GridSearchCV(SimClassifier(degree=2, knot_num=20, spline=\"a_spline\", random_state=0), \n",
    "                    cv=KFold(3, shuffle=True, random_state=0), \n",
    "                    scoring={\"auc\": make_scorer(roc_auc_score)},\n",
    "                    param_grid=param_grid, n_jobs=-1, verbose=2, refit=\"auc\", error_score=np.nan)\n",
    "grid.fit(x, y)"
   ]
  },
  {
   "cell_type": "code",
   "execution_count": 13,
   "metadata": {},
   "outputs": [
    {
     "data": {
      "text/plain": [
       "{'method': 'second_order', 'reg_gamma': 10.0, 'reg_lambda': 0.05}"
      ]
     },
     "execution_count": 13,
     "metadata": {},
     "output_type": "execute_result"
    }
   ],
   "source": [
    "grid.best_params_"
   ]
  },
  {
   "cell_type": "markdown",
   "metadata": {},
   "source": [
    "**NB**: The second-order Setin's method is selected, as $\\mathbb{E}[f^{\\prime}(u)]=0$. Therefore, the first order method cannot provide any information about the projection coefficients. "
   ]
  },
  {
   "cell_type": "code",
   "execution_count": 14,
   "metadata": {},
   "outputs": [
    {
     "data": {
      "text/plain": [
       "SimClassifier(degree=2, knot_num=20, method='second_order', random_state=0,\n",
       "              reg_gamma=10.0, reg_lambda=0.05, spline='a_spline')"
      ]
     },
     "execution_count": 14,
     "metadata": {},
     "output_type": "execute_result"
    }
   ],
   "source": [
    "clf = grid.best_estimator_\n",
    "clf"
   ]
  },
  {
   "cell_type": "code",
   "execution_count": 15,
   "metadata": {},
   "outputs": [
    {
     "data": {
      "image/png": "[encoded data removed]",
      "text/plain": [
       "<Figure size 432x288 with 1 Axes>"
      ]
     },
     "metadata": {
      "needs_background": "light"
     },
     "output_type": "display_data"
    }
   ],
   "source": [
    "plt.plot(clf.beta_, \"o\")\n",
    "plt.plot(beta, \"o\")\n",
    "plt.legend([\"Estimated\", \"Ground Truth\"])\n",
    "plt.show()"
   ]
  },
  {
   "cell_type": "code",
   "execution_count": 16,
   "metadata": {},
   "outputs": [
    {
     "data": {
      "image/png": "[encoded data removed]",
      "text/plain": [
       "<Figure size 864x288 with 2 Axes>"
      ]
     },
     "metadata": {
      "needs_background": "light"
     },
     "output_type": "display_data"
    }
   ],
   "source": [
    "grid.best_estimator_.visualize()"
   ]
  },
  {
   "cell_type": "code",
   "execution_count": 17,
   "metadata": {},
   "outputs": [
    {
     "data": {
      "text/plain": [
       "0.986785480555321"
      ]
     },
     "execution_count": 17,
     "metadata": {},
     "output_type": "execute_result"
    }
   ],
   "source": [
    "roc_auc_score(y, grid.predict_proba(x))"
   ]
  },
  {
   "cell_type": "code",
   "execution_count": 20,
   "metadata": {},
   "outputs": [],
   "source": [
    "import scipy\n",
    "import numpy as np\n",
    "import pandas as pd \n",
    "from scipy.linalg import cholesky\n",
    "from matplotlib import pyplot as plt\n",
    "from abc import ABCMeta, abstractmethod\n",
    "\n",
    "from sklearn.utils.extmath import softmax\n",
    "from sklearn.preprocessing import LabelBinarizer\n",
    "from sklearn.utils.validation import check_is_fitted\n",
    "from sklearn.utils import check_array, check_X_y, column_or_1d\n",
    "from sklearn.base import BaseEstimator, RegressorMixin, ClassifierMixin\n",
    "from patsy import dmatrix, build_design_matrices\n",
    "\n",
    "\n",
    "class BaseASpline(BaseEstimator, metaclass=ABCMeta):\n",
    "    \"\"\"\n",
    "        Base class for ASpline classification and regression.\n",
    "     \"\"\"\n",
    "\n",
    "    @abstractmethod\n",
    "    def __init__(self, knot_num=20, reg_gamma=0.1, xmin=-1, xmax=1, degree=2, epsilon=0.00001, threshold=0.99, maxiter=10):\n",
    "\n",
    "        self.knot_num = knot_num\n",
    "        self.reg_gamma = reg_gamma\n",
    "        self.xmin = xmin\n",
    "        self.xmax = xmax\n",
    "        self.degree = degree\n",
    "        self.epsilon = epsilon\n",
    "        self.threshold = threshold\n",
    "        self.maxiter = maxiter\n",
    "\n",
    "    @staticmethod\n",
    "    def diff_matrix(order, knot_num):\n",
    "        results = [] # a container to collect the rows\n",
    "        n_rows = order + 2\n",
    "        for _ in range(n_rows): \n",
    "            row = [1] # a starter 1 in the row\n",
    "            if results: # then we are in the second row or beyond\n",
    "                last_row = results[-1] # reference the previous row\n",
    "                row.extend([sum(pair) for pair in zip(last_row, last_row[1:])])\n",
    "                row.append(1)\n",
    "            results.append(row) # add the row to the results.\n",
    "\n",
    "        diss_operator = [] # a container to collect the rows\n",
    "        for i, item in enumerate(np.array(row)):\n",
    "            diss_operator.append(item * (-1) ** i)\n",
    "        diss_operator.reverse()\n",
    "        D = np.zeros((knot_num, knot_num + order + 1), dtype=np.float32)\n",
    "        for i in range(knot_num):\n",
    "            D[i,i:(i+order+2)] = diss_operator\n",
    "        return D\n",
    "\n",
    "    def _validate_hyperparameters(self):\n",
    "        \n",
    "        if not isinstance(self.degree, int):\n",
    "            raise ValueError(\"degree must be an integer, got %s.\" % self.degree)\n",
    "\n",
    "        if self.degree < 0:\n",
    "            raise ValueError(\"degree must be >= 0, got\" % self.degree)\n",
    "        \n",
    "        if not isinstance(self.knot_num, int):\n",
    "            raise ValueError(\"knot_num must be an integer, got %s.\" % self.knot_num)\n",
    "\n",
    "        if self.knot_num <= 0:\n",
    "            raise ValueError(\"knot_num must be > 0, got\" % self.knot_num)\n",
    "\n",
    "        if self.reg_gamma <= 0:\n",
    "            raise ValueError(\"reg_gamma must be > 0, got %s.\" % self.reg_gamma)\n",
    "\n",
    "        if self.xmin >= self.xmax:\n",
    "            raise ValueError(\"xmin must be < xmax, got %s and %s.\" % (self.xmin, self.xmax))\n",
    "\n",
    "        if self.epsilon <= 0:\n",
    "            raise ValueError(\"epsilon must be > 0, got %s.\" % self.epsilon)\n",
    "\n",
    "        if self.threshold <= 0:\n",
    "            raise ValueError(\"threshold must be > 0, got %s.\" % self.threshold)\n",
    "\n",
    "        if not isinstance(self.maxiter, int):\n",
    "            raise ValueError(\"maxiter must be an integer, got %s.\" % self.maxiter)\n",
    "\n",
    "        if self.maxiter <= 0:\n",
    "            raise ValueError(\"maxiter must be > 0, got\" % self.maxiter)\n",
    "\n",
    "            \n",
    "    def visualize(self):\n",
    "\n",
    "        check_is_fitted(self, \"coef_\")\n",
    "\n",
    "        fig = plt.figure(figsize=(6, 4))\n",
    "        xgrid = np.linspace(self.xmin, self.xmax, 100).reshape([-1, 1])\n",
    "        ygrid = self.decision_function(xgrid)\n",
    "        plt.plot(xgrid, ygrid)\n",
    "        plt.title(\"Shape Function\", fontsize=12)\n",
    "        plt.show()\n",
    "\n",
    "    def decision_function(self, x):\n",
    "\n",
    "        check_is_fitted(self, \"coef_\")\n",
    "        x = x.copy()\n",
    "        x[x < self.xmin] = self.xmin\n",
    "        x[x > self.xmax] = self.xmax\n",
    "        design_matrix = np.asarray(build_design_matrices([self.selected_xphi_.design_info],\n",
    "                                         {\"x\": x, \"knots\": self.selected_knots_, \"degree\": self.degree})[0])\n",
    "        pred = np.dot(design_matrix, self.coef_)\n",
    "        return pred\n",
    "\n",
    "\n",
    "class ASplineRegressor(BaseASpline, RegressorMixin):\n",
    "\n",
    "    def __init__(self, knot_num=20, reg_gamma=0.1, xmin=-1, xmax=1, degree=2, epsilon=0.00001, threshold=0.99, maxiter=10):\n",
    "\n",
    "        super(ASplineRegressor, self).__init__(knot_num=knot_num,\n",
    "                                  reg_gamma=reg_gamma,\n",
    "                                  xmin=xmin,\n",
    "                                  xmax=xmax,\n",
    "                                  degree=degree,\n",
    "                                  epsilon=epsilon,\n",
    "                                  threshold=threshold,\n",
    "                                  maxiter=maxiter)\n",
    "\n",
    "    @staticmethod\n",
    "    def _get_loss(label, pred):\n",
    "        return - np.mean((label - pred) ** 2)\n",
    "\n",
    "    def _validate_input(self, x, y):\n",
    "        x, y = check_X_y(x, y, accept_sparse=[\"csr\", \"csc\", \"coo\"],\n",
    "                         multi_output=True, y_numeric=True)\n",
    "        return x, y.reshape([-1, 1])\n",
    "\n",
    "    def fit(self, x, y, sample_weight=None):\n",
    "\n",
    "        self._validate_hyperparameters()\n",
    "        x, y = self._validate_input(x, y)\n",
    "\n",
    "        n_samples = x.shape[0]\n",
    "        if sample_weight is None:\n",
    "            sample_weight = np.ones(n_samples)\n",
    "        else:\n",
    "            sample_weight = sample_weight * n_samples\n",
    "        knots = list(np.linspace(self.xmin, self.xmax, self.knot_num + 2, dtype=np.float32)[1:-1])\n",
    "        xphi = dmatrix(\"bs(x, knots = knots, degree=degree, include_intercept=True) - 1\",\n",
    "                   {\"x\": [self.xmin, self.xmax], \"knots\": knots, \"degree\": self.degree})\n",
    "        init_basis = np.asarray(build_design_matrices([xphi.design_info],\n",
    "                   {\"x\": x, \"knots\": knots, \"degree\": self.degree})[0])\n",
    "\n",
    "        best_loss = np.inf\n",
    "        D = self.diff_matrix(self.degree, self.knot_num)\n",
    "        update_w = np.ones([self.knot_num, 1], dtype=np.float32) \n",
    "        BWB = np.tensordot(init_basis * sample_weight.reshape([-1, 1]), init_basis, axes=([0], [0]))\n",
    "        BWY = np.tensordot(init_basis * sample_weight.reshape([-1, 1]), y, axes=([0], [0]))\n",
    "        for i in range(self.maxiter):\n",
    "            DwD = np.tensordot(D * update_w.reshape([-1, 1]), D, axes=([0], [0]))\n",
    "            U = cholesky(BWB + self.reg_gamma * DwD)\n",
    "            M = scipy.linalg.lapack.clapack.dtrtri(U)[0]\n",
    "            update_a_temp = np.dot(np.dot(M, M.T.conj()), BWY)\n",
    "            new_loss = self._get_loss(y, np.dot(init_basis, update_a_temp))\n",
    "            if new_loss - best_loss >= 0:\n",
    "                break\n",
    "            best_loss = new_loss\n",
    "            update_a = update_a_temp\n",
    "            update_w = 1 / (np.dot(D, update_a) ** 2 + self.epsilon ** 2)\n",
    "\n",
    "        self.selected_knots_ = list(np.array(knots)[np.reshape(update_w * np.dot(D, update_a) ** 2 > self.threshold, [-1])])\n",
    "        self.selected_xphi_ = dmatrix(\"bs(x, knots = knots, degree=degree, include_intercept=True) - 1\", \n",
    "               {\"x\": [self.xmin, self.xmax], \"knots\": self.selected_knots_, \"degree\": self.degree})\n",
    "        selected_basis = np.asarray(build_design_matrices([self.selected_xphi_.design_info],\n",
    "                          {\"x\": x, \"knots\": self.selected_knots_, \"degree\": self.degree})[0])\n",
    "        seBWB = np.tensordot(selected_basis * sample_weight.reshape([-1, 1]), selected_basis, axes=([0], [0]))\n",
    "        seBWY = np.tensordot(selected_basis * sample_weight.reshape([-1, 1]), y, axes=([0], [0]))\n",
    "        self.coef_ = np.dot(np.linalg.pinv(seBWB, rcond=1e-8), seBWY)\n",
    "        return self\n",
    "\n",
    "    def predict(self, x):\n",
    "\n",
    "        pred = self.decision_function(x)\n",
    "        return pred\n",
    "    \n",
    "\n",
    "class ASplineClassifier(BaseASpline, ClassifierMixin):\n",
    "\n",
    "    def __init__(self, knot_num=20, reg_gamma=0.1, xmin=-1, xmax=1, degree=2, epsilon=0.00001, threshold=0.99,\n",
    "                 maxiter=10, maxiter_irls=10):\n",
    "\n",
    "        super(ASplineClassifier, self).__init__(knot_num=knot_num,\n",
    "                                   reg_gamma=reg_gamma,\n",
    "                                   xmin=xmin,\n",
    "                                   xmax=xmax,\n",
    "                                   degree=degree,\n",
    "                                   epsilon=epsilon,\n",
    "                                   threshold=threshold,\n",
    "                                   maxiter=maxiter)\n",
    "\n",
    "        self.maxiter_irls = maxiter_irls\n",
    "        self.EPS = 10**(-8)\n",
    "\n",
    "    @staticmethod\n",
    "    def _link(x):\n",
    "        with np.errstate(divide=\"ignore\", over=\"ignore\"):\n",
    "            return 1 / (1 + np.exp(-x))\n",
    "\n",
    "    @staticmethod\n",
    "    def _inv_link(x):\n",
    "        with np.errstate(divide=\"ignore\", over=\"ignore\"):\n",
    "            return np.log(x) - np.log(1 - x)\n",
    "    \n",
    "    @staticmethod\n",
    "    def _get_loss(label, pred):\n",
    "        with np.errstate(divide=\"ignore\", over=\"ignore\"):\n",
    "            pred = np.clip(pred, 10 ** (-8), 1. - 10 ** (-8))\n",
    "            return - np.mean(label * np.log(pred) + (1 - label) * np.log(1 - pred))\n",
    "       \n",
    "    def _validate_input(self, x, y):\n",
    "        x, y = check_X_y(x, y, accept_sparse=[\"csr\", \"csc\", \"coo\"],\n",
    "                         multi_output=True)\n",
    "\n",
    "        self._label_binarizer = LabelBinarizer()\n",
    "        self._label_binarizer.fit(y)\n",
    "        self.classes_ = self._label_binarizer.classes_\n",
    "\n",
    "        y = self._label_binarizer.transform(y) * 1.0\n",
    "        return x, y\n",
    "\n",
    "    def fit(self, x, y, sample_weight=None):\n",
    "\n",
    "        self._validate_hyperparameters()\n",
    "        x, y = self._validate_input(x, y)\n",
    "        n_samples = x.shape[0]\n",
    "        if sample_weight is None:\n",
    "            sample_weight = np.ones(n_samples)\n",
    "        else:\n",
    "            sample_weight = sample_weight * n_samples\n",
    "\n",
    "        knots = list(np.linspace(self.xmin, self.xmax, self.knot_num + 2, dtype=np.float32)[1:-1])\n",
    "        xphi = dmatrix(\"bs(x, knots = knots, degree=degree, include_intercept=True) - 1\",\n",
    "                       {\"x\": [self.xmin, self.xmax], \"knots\": knots, \"degree\": self.degree})\n",
    "        init_basis = np.asarray(build_design_matrices([xphi.design_info],\n",
    "                          {\"x\": x, \"knots\": knots, \"degree\": self.degree})[0])\n",
    "\n",
    "        tempy = y.copy().astype(np.float32)\n",
    "        tempy[tempy==0] = 0.01\n",
    "        tempy[tempy==1] = 0.99\n",
    "        D = self.diff_matrix(self.degree, self.knot_num)\n",
    "        update_w = np.ones([self.knot_num, 1], dtype=np.float32) \n",
    "        DwD = np.tensordot(D * update_w.reshape([-1, 1]), D, axes=([0], [0]))\n",
    "        BWB = np.tensordot(init_basis * sample_weight.reshape([-1, 1]), init_basis, axes=([0], [0]))\n",
    "        BWY = np.tensordot(init_basis * sample_weight.reshape([-1, 1]), self._inv_link(tempy), axes=([0], [0]))\n",
    "        update_a = np.dot(np.linalg.pinv(BWB + self.reg_gamma * DwD, rcond=1e-8), BWY)\n",
    "        best_loss = self._get_loss(y, self._link(np.dot(init_basis, update_a)))\n",
    "        for i in range(self.maxiter):\n",
    "            best_loss_irls = np.inf\n",
    "            for j in range(self.maxiter_irls):\n",
    "                lp = np.dot(init_basis, update_a)\n",
    "                mu = self._link(lp)\n",
    "                omega = mu * (1 - mu)\n",
    "                mask = (np.abs(omega) >= self.EPS) * np.isfinite(omega)\n",
    "                mask = mask.ravel()\n",
    "                if np.sum(mask) == 0:\n",
    "                    break\n",
    "\n",
    "                BW = init_basis[mask] * sample_weight[mask].reshape([-1, 1])\n",
    "                DwD = np.tensordot(D * update_w.reshape([-1, 1]), D, axes=([0], [0]))\n",
    "                BWOB = np.tensordot(BW * omega[mask].reshape([-1, 1]), init_basis[mask], axes=([0], [0]))\n",
    "                update_a_temp = np.dot(np.linalg.pinv(BWOB + self.reg_gamma * DwD, rcond=1e-8),\n",
    "                                BWOB.dot(update_a) + np.tensordot(BW, y[mask] - mu[mask], axes=([0], [0])))\n",
    "                new_loss = self._get_loss(y, self._link(np.dot(init_basis, update_a_temp)))\n",
    "                if new_loss - best_loss_irls >= 0:\n",
    "                    break\n",
    "                best_loss_irls = new_loss\n",
    "                update_a = update_a_temp\n",
    "\n",
    "            if best_loss_irls - best_loss >= 0:\n",
    "                break\n",
    "            best_loss = best_loss_irls\n",
    "            update_w = 1 / (np.dot(D, update_a) ** 2 + self.epsilon ** 2)\n",
    "\n",
    "        self.selected_knots_ = list(np.array(knots)[(update_w * np.dot(D, update_a) ** 2 > self.threshold).ravel()])\n",
    "        self.selected_xphi_ = dmatrix(\"bs(x, knots = knots, degree=degree, include_intercept=True) - 1\", \n",
    "               {\"x\": [self.xmin, self.xmax], \"knots\": self.selected_knots_, \"degree\": self.degree})\n",
    "        selected_basis = np.asarray(build_design_matrices([self.selected_xphi_.design_info],\n",
    "                          {\"x\": x, \"knots\": self.selected_knots_, \"degree\": self.degree})[0])\n",
    "\n",
    "        seBWB = np.tensordot(selected_basis * sample_weight.reshape([-1, 1]), selected_basis, axes=([0], [0]))\n",
    "        seBWY = np.tensordot(selected_basis * sample_weight.reshape([-1, 1]), self._inv_link(tempy), axes=([0], [0]))\n",
    "        self.coef_ = np.dot(np.linalg.pinv(seBWB, rcond=1e-8), seBWY)\n",
    "        for j in range(self.maxiter_irls):\n",
    "            lp = np.dot(selected_basis, self.coef_)\n",
    "            mu = self._link(lp)\n",
    "            omega = mu * (1 - mu)\n",
    "            mask = (np.abs(omega) >= self.EPS) * np.isfinite(omega)\n",
    "            mask = mask.ravel()\n",
    "            if np.sum(mask) == 0:\n",
    "                break\n",
    "            seBW = selected_basis[mask] * sample_weight[mask].reshape([-1, 1])\n",
    "            seBWOB = np.tensordot(seBW * omega[mask].reshape([-1, 1]), selected_basis[mask], axes=([0], [0]))\n",
    "            self.coef_ = np.dot(np.linalg.pinv(seBWOB, rcond=1e-8),\n",
    "                          seBWOB.dot(self.coef_) + np.tensordot(seBW, y[mask] - mu[mask], axes=([0], [0])))\n",
    "        return self\n",
    "    \n",
    "    def predict_proba(self, x):\n",
    "\n",
    "        pred = self.decision_function(x)\n",
    "        pred_proba = softmax(np.hstack([-pred, pred]) / 2, copy=False)[:, [1]]\n",
    "        return pred_proba\n",
    "\n",
    "    def predict(self, x):\n",
    "\n",
    "        pred_proba = self.predict_proba(x)\n",
    "        return self._label_binarizer.inverse_transform(pred_proba).reshape([-1, 1])"
   ]
  },
  {
   "cell_type": "code",
   "execution_count": 23,
   "metadata": {},
   "outputs": [
    {
     "data": {
      "text/plain": [
       "ASplineClassifier(degree=2, epsilon=1e-05, knot_num=20, maxiter=10,\n",
       "                  maxiter_irls=10, reg_gamma=0.1, threshold=0.99,\n",
       "                  xmax=1.0395031257860987, xmin=-1.281460237981836)"
      ]
     },
     "execution_count": 23,
     "metadata": {},
     "output_type": "execute_result"
    }
   ],
   "source": [
    "xb = np.dot(x, grid.best_estimator_.beta_)\n",
    "clf = ASplineClassifier(knot_num=20, reg_gamma=0.1, xmin=xb.min(), xmax=xb.max())\n",
    "clf.fit(xb, y)"
   ]
  },
  {
   "cell_type": "code",
   "execution_count": 26,
   "metadata": {},
   "outputs": [
    {
     "data": {
      "image/png": "[encoded data removed]",
      "text/plain": [
       "<Figure size 432x288 with 1 Axes>"
      ]
     },
     "metadata": {
      "needs_background": "light"
     },
     "output_type": "display_data"
    }
   ],
   "source": [
    "clf.visualize()"
   ]
  }
 ],
 "metadata": {
  "kernelspec": {
   "display_name": "Python (tf2)",
   "language": "python",
   "name": "tf2"
  },
  "language_info": {
   "codemirror_mode": {
    "name": "ipython",
    "version": 3
   },
   "file_extension": ".py",
   "mimetype": "text/x-python",
   "name": "python",
   "nbconvert_exporter": "python",
   "pygments_lexer": "ipython3",
   "version": "3.6.8"
  }
 },
 "nbformat": 4,
 "nbformat_minor": 2
}
