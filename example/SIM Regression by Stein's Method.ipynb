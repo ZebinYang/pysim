{
 "cells": [
  {
   "cell_type": "markdown",
   "metadata": {},
   "source": [
    "## SIM Training by Stein's Method"
   ]
  },
  {
   "cell_type": "code",
   "execution_count": 1,
   "metadata": {
    "ExecuteTime": {
     "end_time": "2020-04-01T14:06:23.396859Z",
     "start_time": "2020-04-01T14:06:15.244953Z"
    }
   },
   "outputs": [],
   "source": [
    "import numpy as np\n",
    "from matplotlib import pylab as plt\n",
    "from sklearn.model_selection import KFold\n",
    "from sklearn.model_selection import GridSearchCV\n",
    "from sklearn.preprocessing import MinMaxScaler\n",
    "from sklearn.metrics import make_scorer, mean_squared_error\n",
    "\n",
    "from pysim import SimRegressor"
   ]
  },
  {
   "cell_type": "markdown",
   "metadata": {},
   "source": [
    "## pySIM - A python package for Sparse SIM "
   ]
  },
  {
   "cell_type": "markdown",
   "metadata": {},
   "source": [
    "**To install**:\n",
    "    \n",
    "```sheel\n",
    "    pip install git+https://github.com/Zebinyang/pysim.git\n",
    "```\n",
    "\n",
    "Note pysim will call the R package fps (https://github.com/vqv/fps) using rpy2 interface. "
   ]
  },
  {
   "cell_type": "markdown",
   "metadata": {},
   "source": [
    "**Usage**"
   ]
  },
  {
   "cell_type": "markdown",
   "metadata": {},
   "source": [
    "```python\n",
    "from pysim import SimRegressor\n",
    "clf = SimRegressor(method=\"first_order\", reg_lambda=0.1, reg_gamma=10, knot_num=20, degree=2, random_state=0)\n",
    "## clf.fit(x, y)\n",
    "```"
   ]
  },
  {
   "cell_type": "markdown",
   "metadata": {},
   "source": [
    "**Hyperparameters**\n",
    "\n",
    "- method: the base method for estimating the projection coefficients in sparse SIM. default=\"first_order\"\n",
    "\n",
    "        \"first_order\": First-order Stein's Identity via sparse PCA solver\n",
    "\n",
    "        \"second_order\": Second-order Stein's Identity via sparse PCA solver\n",
    "\n",
    "        \"first_order_thres\": First-order Stein's Identity via hard thresholding (A simplified verison)        \n",
    "    \n",
    "- reg_lambda: The regularization strength of sparsity of beta. default=0.1, from 0 to 1 \n",
    "\n",
    "- reg_gamma: The regularization strength of the spline algorithm. default=10, from 0 to $+\\infty$\n",
    "\n",
    "- degree: The order of the spline basis. default=2\n",
    "\n",
    "- knot_num: The number of knots spanned uniformly over the domain. default=20\n",
    "\n",
    "- random_state: the random seed. default=0"
   ]
  },
  {
   "cell_type": "markdown",
   "metadata": {},
   "source": [
    "# Case 1: Sine Ridge Function"
   ]
  },
  {
   "cell_type": "code",
   "execution_count": 2,
   "metadata": {
    "ExecuteTime": {
     "end_time": "2020-04-01T14:06:23.594109Z",
     "start_time": "2020-04-01T14:06:23.408613Z"
    },
    "scrolled": true
   },
   "outputs": [],
   "source": [
    "s_star = 5\n",
    "n_features = 100\n",
    "n_samples = 10000\n",
    "\n",
    "np.random.seed(1)\n",
    "beta = np.zeros(n_features)\n",
    "supp_ids = np.random.choice(n_features, s_star)\n",
    "beta[supp_ids]=np.random.choice((-1, 1), s_star) / np.sqrt(s_star)\n",
    "\n",
    "x = np.random.normal(0, 0.3, size=(n_samples, n_features))\n",
    "y = np.sin(np.pi*(np.dot(x, beta))) + 0.1 * np.random.randn(n_samples)"
   ]
  },
  {
   "cell_type": "markdown",
   "metadata": {},
   "source": [
    "The best hyperparameter combination can be selected via cross-validation"
   ]
  },
  {
   "cell_type": "code",
   "execution_count": 3,
   "metadata": {
    "ExecuteTime": {
     "end_time": "2020-04-01T14:07:15.645460Z",
     "start_time": "2020-04-01T14:06:23.608249Z"
    },
    "scrolled": true
   },
   "outputs": [
    {
     "name": "stdout",
     "output_type": "stream",
     "text": [
      "Fitting 3 folds for each of 30 candidates, totalling 90 fits\n"
     ]
    },
    {
     "name": "stderr",
     "output_type": "stream",
     "text": [
      "[Parallel(n_jobs=-1)]: Using backend LokyBackend with 64 concurrent workers.\n",
      "[Parallel(n_jobs=-1)]: Done   9 out of  90 | elapsed:   30.0s remaining:  4.5min\n",
      "[Parallel(n_jobs=-1)]: Done  55 out of  90 | elapsed:   41.7s remaining:   26.5s\n",
      "[Parallel(n_jobs=-1)]: Done  90 out of  90 | elapsed:   50.3s finished\n"
     ]
    },
    {
     "name": "stdout",
     "output_type": "stream",
     "text": [
      "CPU times: user 4.08 s, sys: 12.5 s, total: 16.5 s\n",
      "Wall time: 52 s\n"
     ]
    }
   ],
   "source": [
    "%%time \n",
    "\n",
    "param_grid = {\"method\": [\"first_order\", \"second_order\"],\n",
    "              \"reg_lambda\": [0.1, 0.2, 0.3, 0.4, 0.5], \n",
    "              \"reg_gamma\": np.logspace(-1, 1, 3)}\n",
    "grid = GridSearchCV(SimRegressor(degree=2, knot_num=20, random_state=0), iid=False,\n",
    "                    cv=KFold(3, shuffle=True, random_state=0), param_grid=param_grid, n_jobs=-1, verbose=2, error_score=np.nan)\n",
    "grid.fit(x, y)"
   ]
  },
  {
   "cell_type": "code",
   "execution_count": 4,
   "metadata": {
    "ExecuteTime": {
     "end_time": "2020-04-01T14:07:15.673269Z",
     "start_time": "2020-04-01T14:07:15.649122Z"
    }
   },
   "outputs": [
    {
     "data": {
      "text/plain": [
       "{'method': 'first_order', 'reg_gamma': 0.1, 'reg_lambda': 0.1}"
      ]
     },
     "execution_count": 4,
     "metadata": {},
     "output_type": "execute_result"
    }
   ],
   "source": [
    "grid.best_params_"
   ]
  },
  {
   "cell_type": "markdown",
   "metadata": {},
   "source": [
    "**NB**: The first-order Setin's method is selected, as $\\mathbb{E}[f^{\\prime\\prime}(u)]=0$. Therefore, the second order method cannot provide any information about the projection coefficients. "
   ]
  },
  {
   "cell_type": "markdown",
   "metadata": {},
   "source": [
    "In this case, the first-order Setin's method is selected. "
   ]
  },
  {
   "cell_type": "code",
   "execution_count": 5,
   "metadata": {
    "ExecuteTime": {
     "end_time": "2020-04-01T14:07:15.690254Z",
     "start_time": "2020-04-01T14:07:15.675946Z"
    }
   },
   "outputs": [
    {
     "data": {
      "text/plain": [
       "SimRegressor(degree=2, knot_num=20, method='first_order', random_state=0,\n",
       "             reg_gamma=0.1, reg_lambda=0.1)"
      ]
     },
     "execution_count": 5,
     "metadata": {},
     "output_type": "execute_result"
    }
   ],
   "source": [
    "clf = grid.best_estimator_\n",
    "clf"
   ]
  },
  {
   "cell_type": "code",
   "execution_count": 6,
   "metadata": {
    "ExecuteTime": {
     "end_time": "2020-04-01T14:07:16.702011Z",
     "start_time": "2020-04-01T14:07:15.693168Z"
    }
   },
   "outputs": [
    {
     "data": {
      "image/png": "[encoded data removed]",
      "text/plain": [
       "<Figure size 432x288 with 1 Axes>"
      ]
     },
     "metadata": {
      "needs_background": "light"
     },
     "output_type": "display_data"
    }
   ],
   "source": [
    "plt.plot(np.abs(clf.beta_), \"o\")\n",
    "plt.plot(np.abs(beta), \"o\")\n",
    "plt.legend([\"Estimated\", \"Ground Truth\"])\n",
    "plt.show()"
   ]
  },
  {
   "cell_type": "code",
   "execution_count": 7,
   "metadata": {
    "ExecuteTime": {
     "end_time": "2020-04-01T14:07:18.485433Z",
     "start_time": "2020-04-01T14:07:16.705338Z"
    },
    "scrolled": true
   },
   "outputs": [
    {
     "data": {
      "image/png": "[encoded data removed]",
      "text/plain": [
       "<Figure size 864x288 with 3 Axes>"
      ]
     },
     "metadata": {
      "needs_background": "light"
     },
     "output_type": "display_data"
    }
   ],
   "source": [
    "clf.visualize()"
   ]
  },
  {
   "cell_type": "markdown",
   "metadata": {},
   "source": [
    "## Case 2: Quadratic Ridge Function"
   ]
  },
  {
   "cell_type": "code",
   "execution_count": 8,
   "metadata": {
    "ExecuteTime": {
     "end_time": "2020-04-01T14:07:18.894355Z",
     "start_time": "2020-04-01T14:07:18.489492Z"
    },
    "scrolled": true
   },
   "outputs": [],
   "source": [
    "s_star = 5\n",
    "n_features = 100\n",
    "n_samples = 10000\n",
    "\n",
    "np.random.seed(1)\n",
    "beta = np.zeros(n_features)\n",
    "supp_ids = np.random.choice(n_features, s_star)\n",
    "beta[supp_ids]=np.random.choice((-1, 1), s_star) / np.sqrt(s_star)\n",
    "\n",
    "x = np.random.normal(0, 0.3, size=(n_samples, n_features))\n",
    "y = np.dot(x, beta) ** 2 + 0.1 * np.random.randn(n_samples)"
   ]
  },
  {
   "cell_type": "code",
   "execution_count": 9,
   "metadata": {
    "ExecuteTime": {
     "end_time": "2020-04-01T14:07:53.738059Z",
     "start_time": "2020-04-01T14:07:18.905408Z"
    },
    "scrolled": true
   },
   "outputs": [
    {
     "name": "stdout",
     "output_type": "stream",
     "text": [
      "Fitting 3 folds for each of 60 candidates, totalling 180 fits\n"
     ]
    },
    {
     "name": "stderr",
     "output_type": "stream",
     "text": [
      "[Parallel(n_jobs=-1)]: Using backend LokyBackend with 64 concurrent workers.\n",
      "[Parallel(n_jobs=-1)]: Done  34 tasks      | elapsed:   10.0s\n",
      "[Parallel(n_jobs=-1)]: Done 144 out of 180 | elapsed:   24.9s remaining:    6.2s\n",
      "[Parallel(n_jobs=-1)]: Done 180 out of 180 | elapsed:   30.6s finished\n"
     ]
    },
    {
     "name": "stdout",
     "output_type": "stream",
     "text": [
      "CPU times: user 2.49 s, sys: 7.29 s, total: 9.78 s\n",
      "Wall time: 34.8 s\n"
     ]
    }
   ],
   "source": [
    "%%time \n",
    "\n",
    "param_grid = {\"method\": [\"first_order\", \"second_order\"],\n",
    "              \"reg_lambda\": [0.1, 0.2, 0.3, 0.35, 0.4, 0.5], \n",
    "              \"reg_gamma\": np.logspace(-2, 2, 5)}\n",
    "grid = GridSearchCV(SimRegressor(degree=2, knot_num=20, random_state=0), \n",
    "                    cv=KFold(3, shuffle=True, random_state=0), param_grid=param_grid, n_jobs=-1, verbose=2, error_score=np.nan)\n",
    "grid.fit(x, y)"
   ]
  },
  {
   "cell_type": "code",
   "execution_count": 10,
   "metadata": {
    "ExecuteTime": {
     "end_time": "2020-04-01T14:07:53.788676Z",
     "start_time": "2020-04-01T14:07:53.760581Z"
    }
   },
   "outputs": [
    {
     "data": {
      "text/plain": [
       "{'method': 'second_order', 'reg_gamma': 0.1, 'reg_lambda': 0.1}"
      ]
     },
     "execution_count": 10,
     "metadata": {},
     "output_type": "execute_result"
    }
   ],
   "source": [
    "grid.best_params_"
   ]
  },
  {
   "cell_type": "markdown",
   "metadata": {},
   "source": [
    "**NB**: The second-order Setin's method is selected, as $\\mathbb{E}[f^{\\prime}(u)]=0$. Therefore, the first order method cannot provide any information about the projection coefficients. "
   ]
  },
  {
   "cell_type": "code",
   "execution_count": 11,
   "metadata": {
    "ExecuteTime": {
     "end_time": "2020-04-01T14:07:53.816766Z",
     "start_time": "2020-04-01T14:07:53.801169Z"
    }
   },
   "outputs": [
    {
     "data": {
      "text/plain": [
       "SimRegressor(degree=2, knot_num=20, method='second_order', random_state=0,\n",
       "             reg_gamma=0.1, reg_lambda=0.1)"
      ]
     },
     "execution_count": 11,
     "metadata": {},
     "output_type": "execute_result"
    }
   ],
   "source": [
    "clf = grid.best_estimator_\n",
    "clf"
   ]
  },
  {
   "cell_type": "code",
   "execution_count": 12,
   "metadata": {
    "ExecuteTime": {
     "end_time": "2020-04-01T14:07:56.337419Z",
     "start_time": "2020-04-01T14:07:53.822261Z"
    }
   },
   "outputs": [
    {
     "data": {
      "image/png": "[encoded data removed]",
      "text/plain": [
       "<Figure size 432x288 with 1 Axes>"
      ]
     },
     "metadata": {
      "needs_background": "light"
     },
     "output_type": "display_data"
    }
   ],
   "source": [
    "plt.plot(np.abs(clf.beta_), \"o\")\n",
    "plt.plot(np.abs(beta), \"o\")\n",
    "plt.legend([\"Estimated\", \"Ground Truth\"])\n",
    "plt.show()"
   ]
  },
  {
   "cell_type": "code",
   "execution_count": 13,
   "metadata": {
    "ExecuteTime": {
     "end_time": "2020-04-01T14:08:02.813335Z",
     "start_time": "2020-04-01T14:07:56.357506Z"
    }
   },
   "outputs": [
    {
     "data": {
      "image/png": "[encoded data removed]",
      "text/plain": [
       "<Figure size 864x288 with 3 Axes>"
      ]
     },
     "metadata": {
      "needs_background": "light"
     },
     "output_type": "display_data"
    }
   ],
   "source": [
    "clf.visualize()"
   ]
  },
  {
   "cell_type": "markdown",
   "metadata": {},
   "source": [
    "## Case 3: Improve a rough estimator via inner update"
   ]
  },
  {
   "cell_type": "code",
   "execution_count": 14,
   "metadata": {
    "ExecuteTime": {
     "end_time": "2020-04-01T14:08:03.600172Z",
     "start_time": "2020-04-01T14:08:02.824059Z"
    },
    "scrolled": true
   },
   "outputs": [],
   "source": [
    "s_star = 5\n",
    "n_features = 100\n",
    "n_samples = 10000\n",
    "\n",
    "np.random.seed(1)\n",
    "beta = np.zeros(n_features)\n",
    "supp_ids = np.random.choice(n_features, s_star)\n",
    "beta[supp_ids]=np.random.choice((-1, 1), s_star) / np.sqrt(s_star)\n",
    "\n",
    "x = np.random.gamma(1, 0.3, size=(n_samples, n_features))\n",
    "y = np.sin(np.pi*(np.dot(x, beta))) + 0.1 * np.random.randn(n_samples)"
   ]
  },
  {
   "cell_type": "code",
   "execution_count": 15,
   "metadata": {
    "ExecuteTime": {
     "end_time": "2020-04-01T14:08:06.238894Z",
     "start_time": "2020-04-01T14:08:03.617529Z"
    },
    "scrolled": true
   },
   "outputs": [
    {
     "name": "stdout",
     "output_type": "stream",
     "text": [
      "CPU times: user 1.14 s, sys: 4.17 s, total: 5.3 s\n",
      "Wall time: 2.59 s\n"
     ]
    }
   ],
   "source": [
    "%%time\n",
    "\n",
    "clf = SimRegressor(degree=2, knot_num=20, reg_lambda=0.1, reg_gamma=1, random_state=0)\n",
    "clf.fit(x, y)"
   ]
  },
  {
   "cell_type": "code",
   "execution_count": 16,
   "metadata": {
    "ExecuteTime": {
     "end_time": "2020-04-01T14:08:13.253976Z",
     "start_time": "2020-04-01T14:08:06.258123Z"
    },
    "scrolled": true
   },
   "outputs": [
    {
     "data": {
      "image/png": "[encoded data removed]",
      "text/plain": [
       "<Figure size 864x288 with 3 Axes>"
      ]
     },
     "metadata": {
      "needs_background": "light"
     },
     "output_type": "display_data"
    }
   ],
   "source": [
    "clf.visualize()"
   ]
  },
  {
   "cell_type": "markdown",
   "metadata": {},
   "source": [
    "**Remark**：The data does not follow a normal distribution, so the performance is relatively poorer, we use adam optimizer to improve the estimation."
   ]
  },
  {
   "cell_type": "code",
   "execution_count": 17,
   "metadata": {
    "ExecuteTime": {
     "end_time": "2020-04-01T14:08:28.681882Z",
     "start_time": "2020-04-01T14:08:13.257276Z"
    },
    "scrolled": true
   },
   "outputs": [
    {
     "name": "stdout",
     "output_type": "stream",
     "text": [
      "Inner iter: 1 epoch: 1 with validation loss: 0.0188\n",
      "Inner iter: 1 epoch: 2 with validation loss: 0.01839\n",
      "Inner iter: 1 epoch: 3 with validation loss: 0.01925\n",
      "Inner iter: 1 epoch: 4 with validation loss: 0.0181\n",
      "Inner iter: 1 epoch: 5 with validation loss: 0.01817\n",
      "Inner iter: 1 epoch: 6 with validation loss: 0.01778\n",
      "Inner iter: 1 epoch: 7 with validation loss: 0.01827\n",
      "Inner iter: 1 epoch: 8 with validation loss: 0.01797\n",
      "Inner iter: 1 epoch: 9 with validation loss: 0.01789\n",
      "Inner iter: 1 epoch: 10 with validation loss: 0.01781\n",
      "Inner iter: 2 epoch: 1 with validation loss: 0.01259\n",
      "Inner iter: 2 epoch: 2 with validation loss: 0.01137\n",
      "Inner iter: 2 epoch: 3 with validation loss: 0.01106\n",
      "Inner iter: 2 epoch: 4 with validation loss: 0.011\n",
      "Inner iter: 2 epoch: 5 with validation loss: 0.01104\n",
      "Inner iter: 2 epoch: 6 with validation loss: 0.01119\n",
      "Inner iter: 2 epoch: 7 with validation loss: 0.01102\n",
      "Inner iter: 3 epoch: 1 with validation loss: 0.01048\n",
      "Inner iter: 3 epoch: 2 with validation loss: 0.01063\n",
      "Inner iter: 3 epoch: 3 with validation loss: 0.01058\n",
      "Inner iter: 3 epoch: 4 with validation loss: 0.01076\n",
      "Inner iter: 3 epoch: 5 with validation loss: 0.01046\n"
     ]
    }
   ],
   "source": [
    "clf.fit_inner_update(x, y, verbose=True)"
   ]
  },
  {
   "cell_type": "code",
   "execution_count": 18,
   "metadata": {
    "ExecuteTime": {
     "end_time": "2020-04-01T14:08:29.552728Z",
     "start_time": "2020-04-01T14:08:28.696442Z"
    },
    "scrolled": true
   },
   "outputs": [
    {
     "data": {
      "image/png": "[encoded data removed]",
      "text/plain": [
       "<Figure size 864x288 with 3 Axes>"
      ]
     },
     "metadata": {
      "needs_background": "light"
     },
     "output_type": "display_data"
    }
   ],
   "source": [
    "clf.visualize()"
   ]
  }
 ],
 "metadata": {
  "kernelspec": {
   "display_name": "Python (tf2)",
   "language": "python",
   "name": "tf2"
  },
  "language_info": {
   "codemirror_mode": {
    "name": "ipython",
    "version": 3
   },
   "file_extension": ".py",
   "mimetype": "text/x-python",
   "name": "python",
   "nbconvert_exporter": "python",
   "pygments_lexer": "ipython3",
   "version": "3.6.8"
  },
  "latex_envs": {
   "LaTeX_envs_menu_present": true,
   "autoclose": false,
   "autocomplete": true,
   "bibliofile": "biblio.bib",
   "cite_by": "apalike",
   "current_citInitial": 1,
   "eqLabelWithNumbers": true,
   "eqNumInitial": 1,
   "hotkeys": {
    "equation": "Ctrl-E",
    "itemize": "Ctrl-I"
   },
   "labels_anchors": false,
   "latex_user_defs": false,
   "report_style_numbering": false,
   "user_envs_cfg": false
  },
  "varInspector": {
   "cols": {
    "lenName": 16,
    "lenType": 16,
    "lenVar": 40
   },
   "kernels_config": {
    "python": {
     "delete_cmd_postfix": "",
     "delete_cmd_prefix": "del ",
     "library": "var_list.py",
     "varRefreshCmd": "print(var_dic_list())"
    },
    "r": {
     "delete_cmd_postfix": ") ",
     "delete_cmd_prefix": "rm(",
     "library": "var_list.r",
     "varRefreshCmd": "cat(var_dic_list()) "
    }
   },
   "types_to_exclude": [
    "module",
    "function",
    "builtin_function_or_method",
    "instance",
    "_Feature"
   ],
   "window_display": false
  }
 },
 "nbformat": 4,
 "nbformat_minor": 2
}
