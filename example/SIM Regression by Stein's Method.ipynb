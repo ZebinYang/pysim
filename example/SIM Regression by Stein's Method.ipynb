{
 "cells": [
  {
   "cell_type": "markdown",
   "metadata": {},
   "source": [
    "## SIM Training by Stein's Method"
   ]
  },
  {
   "cell_type": "code",
   "execution_count": 1,
   "metadata": {},
   "outputs": [],
   "source": [
    "import numpy as np\n",
    "from matplotlib import pylab as plt\n",
    "from sklearn.model_selection import KFold\n",
    "from sklearn.model_selection import GridSearchCV\n",
    "from sklearn.preprocessing import MinMaxScaler\n",
    "from sklearn.metrics import make_scorer, mean_squared_error\n",
    "\n",
    "from pysim import SimRegressor"
   ]
  },
  {
   "cell_type": "markdown",
   "metadata": {},
   "source": [
    "## pySIM - A python package for Sparse SIM "
   ]
  },
  {
   "cell_type": "markdown",
   "metadata": {},
   "source": [
    "**To install**:\n",
    "    \n",
    "```sheel\n",
    "    pip install git+https://github.com/Zebinyang/pysim.git\n",
    "```\n",
    "\n",
    "Note pysim will call the R package fps (https://github.com/vqv/fps) using rpy2 interface. "
   ]
  },
  {
   "cell_type": "markdown",
   "metadata": {},
   "source": [
    "**Usage**"
   ]
  },
  {
   "cell_type": "markdown",
   "metadata": {},
   "source": [
    "```python\n",
    "from pysim import SimRegressor\n",
    "clf = SimRegressor(method=\"first_order\", reg_lambda=0.1, reg_gamma=10, knot_num=20, degree=2, random_state=0)\n",
    "## clf.fit(x, y)\n",
    "```"
   ]
  },
  {
   "cell_type": "markdown",
   "metadata": {},
   "source": [
    "**Hyperparameters**\n",
    "\n",
    "- method: the base method for estimating the projection coefficients in sparse SIM. default=\"first_order\"\n",
    "\n",
    "        \"first_order\": First-order Stein's Identity via sparse PCA solver\n",
    "\n",
    "        \"second_order\": Second-order Stein's Identity via sparse PCA solver\n",
    "\n",
    "        \"first_order_thres\": First-order Stein's Identity via hard thresholding (A simplified verison)        \n",
    "    \n",
    "- reg_lambda: The regularization strength of sparsity of beta. default=0.1, from 0 to 1 \n",
    "\n",
    "- reg_gamma: The regularization strength of the spline algorithm. default=10, from 0 to $+\\infty$\n",
    "\n",
    "- degree: The order of the spline basis. default=2\n",
    "\n",
    "- knot_num: The number of knots spanned uniformly over the domain. default=20\n",
    "\n",
    "- random_state: the random seed. default=0"
   ]
  },
  {
   "cell_type": "markdown",
   "metadata": {},
   "source": [
    "# Case 1: Sine Ridge Function"
   ]
  },
  {
   "cell_type": "markdown",
   "metadata": {},
   "source": [
    "- covariates: $x\\sim N(0, 0.3^2)$\n",
    "- ridge function: $ f(u) = \\sin{(u\\pi)} $\n",
    "- projection: $ u = \\beta^{T} x $, where $\\beta$ has 5 non-zero entries\n",
    "- noise: $N(0, 1)$\n",
    "- sample size: 10000\n",
    "- feature size: 100"
   ]
  },
  {
   "cell_type": "code",
   "execution_count": 2,
   "metadata": {
    "scrolled": true
   },
   "outputs": [],
   "source": [
    "s_star = 5\n",
    "n_features = 100\n",
    "n_samples = 10000\n",
    "\n",
    "np.random.seed(0)\n",
    "beta = np.zeros(n_features)\n",
    "supp_ids = np.random.choice(n_features, s_star)\n",
    "beta[supp_ids]=np.random.choice((-1, 1), s_star) / np.sqrt(s_star)\n",
    "\n",
    "x = np.random.normal(0, 0.3, size=(n_samples, n_features))\n",
    "y = np.sin(np.pi*(np.dot(x, beta))) + 0.1 * np.random.randn(n_samples)"
   ]
  },
  {
   "cell_type": "markdown",
   "metadata": {},
   "source": [
    "The best hyperparameter combination can be selected via cross-validation"
   ]
  },
  {
   "cell_type": "code",
   "execution_count": 3,
   "metadata": {
    "scrolled": true
   },
   "outputs": [
    {
     "name": "stdout",
     "output_type": "stream",
     "text": [
      "Fitting 3 folds for each of 18 candidates, totalling 54 fits\n"
     ]
    },
    {
     "name": "stderr",
     "output_type": "stream",
     "text": [
      "[Parallel(n_jobs=-1)]: Using backend LokyBackend with 64 concurrent workers.\n",
      "[Parallel(n_jobs=-1)]: Done  11 out of  54 | elapsed:   12.2s remaining:   47.6s\n",
      "[Parallel(n_jobs=-1)]: Done  39 out of  54 | elapsed:   17.5s remaining:    6.7s\n",
      "[Parallel(n_jobs=-1)]: Done  54 out of  54 | elapsed:   18.5s finished\n"
     ]
    },
    {
     "name": "stdout",
     "output_type": "stream",
     "text": [
      "CPU times: user 2.02 s, sys: 6.24 s, total: 8.26 s\n",
      "Wall time: 18.8 s\n"
     ]
    }
   ],
   "source": [
    "%%time \n",
    "\n",
    "param_grid = {\"method\": [\"first_order\", \"second_order\"],\n",
    "              \"reg_lambda\": [0.05, 0.1, 0.2], \n",
    "              \"reg_gamma\": np.logspace(-1, 1, 3)}\n",
    "grid = GridSearchCV(SimRegressor(degree=2, knot_num=20, random_state=0), \n",
    "                    cv=KFold(3, shuffle=True, random_state=0), param_grid=param_grid, n_jobs=-1, verbose=2, error_score=np.nan)\n",
    "grid.fit(x, y)"
   ]
  },
  {
   "cell_type": "code",
   "execution_count": 4,
   "metadata": {},
   "outputs": [
    {
     "data": {
      "text/plain": [
       "{'method': 'second_order', 'reg_gamma': 0.1, 'reg_lambda': 0.05}"
      ]
     },
     "execution_count": 4,
     "metadata": {},
     "output_type": "execute_result"
    }
   ],
   "source": [
    "grid.best_params_"
   ]
  },
  {
   "cell_type": "markdown",
   "metadata": {},
   "source": [
    "**NB**: The first-order Setin's method is selected, as $\\mathbb{E}[f^{\\prime\\prime}(u)]=0$. Therefore, the second order method cannot provide any information about the projection coefficients. "
   ]
  },
  {
   "cell_type": "markdown",
   "metadata": {},
   "source": [
    "In this case, the first-order Setin's method is selected. "
   ]
  },
  {
   "cell_type": "code",
   "execution_count": 5,
   "metadata": {},
   "outputs": [
    {
     "data": {
      "text/plain": [
       "SimRegressor(degree=2, knot_num=20, method='second_order', random_state=0,\n",
       "             reg_gamma=0.1, reg_lambda=0.05)"
      ]
     },
     "execution_count": 5,
     "metadata": {},
     "output_type": "execute_result"
    }
   ],
   "source": [
    "clf = grid.best_estimator_\n",
    "clf"
   ]
  },
  {
   "cell_type": "code",
   "execution_count": 7,
   "metadata": {},
   "outputs": [
    {
     "data": {
      "image/png": "[encoded data removed]",
      "text/plain": [
       "<Figure size 432x288 with 1 Axes>"
      ]
     },
     "metadata": {
      "needs_background": "light"
     },
     "output_type": "display_data"
    }
   ],
   "source": [
    "plt.plot(clf.beta_, \"o\")\n",
    "plt.plot(beta, \"o\")\n",
    "plt.legend([\"Estimated\", \"Ground Truth\"])\n",
    "plt.show()"
   ]
  },
  {
   "cell_type": "code",
   "execution_count": 8,
   "metadata": {
    "scrolled": true
   },
   "outputs": [
    {
     "data": {
      "image/png": "[encoded data removed]",
      "text/plain": [
       "<Figure size 864x288 with 3 Axes>"
      ]
     },
     "metadata": {
      "needs_background": "light"
     },
     "output_type": "display_data"
    }
   ],
   "source": [
    "clf.visualize()\n",
    "plt.show()"
   ]
  },
  {
   "cell_type": "markdown",
   "metadata": {},
   "source": [
    "## Case 2: Quadratic Ridge Function"
   ]
  },
  {
   "cell_type": "markdown",
   "metadata": {},
   "source": [
    "- covariates: $x\\sim N(0, 0.3^2)$\n",
    "- ridge function: $ f(u) = u^{2} $\n",
    "- projection: $ u = \\beta^{T} x $, where $\\beta$ has 5 non-zero entries\n",
    "- noise: $N(0, 1)$\n",
    "- sample size: 10000\n",
    "- feature size: 100"
   ]
  },
  {
   "cell_type": "code",
   "execution_count": 9,
   "metadata": {
    "scrolled": true
   },
   "outputs": [],
   "source": [
    "s_star = 5\n",
    "n_features = 100\n",
    "n_samples = 10000\n",
    "\n",
    "np.random.seed(0)\n",
    "beta = np.zeros(n_features)\n",
    "supp_ids = np.random.choice(n_features, s_star)\n",
    "beta[supp_ids]=np.random.choice((-1, 1), s_star) / np.sqrt(s_star)\n",
    "\n",
    "x = np.random.normal(0, 0.3, size=(n_samples, n_features))\n",
    "y = np.dot(x, beta) ** 2 + np.random.randn(n_samples)"
   ]
  },
  {
   "cell_type": "code",
   "execution_count": 10,
   "metadata": {
    "scrolled": true
   },
   "outputs": [
    {
     "name": "stdout",
     "output_type": "stream",
     "text": [
      "Fitting 3 folds for each of 30 candidates, totalling 90 fits\n"
     ]
    },
    {
     "name": "stderr",
     "output_type": "stream",
     "text": [
      "[Parallel(n_jobs=-1)]: Using backend LokyBackend with 64 concurrent workers.\n",
      "[Parallel(n_jobs=-1)]: Done   9 out of  90 | elapsed:    5.4s remaining:   48.8s\n",
      "[Parallel(n_jobs=-1)]: Done  55 out of  90 | elapsed:   11.9s remaining:    7.6s\n",
      "[Parallel(n_jobs=-1)]: Done  90 out of  90 | elapsed:   19.5s finished\n"
     ]
    },
    {
     "name": "stdout",
     "output_type": "stream",
     "text": [
      "CPU times: user 6.58 s, sys: 15.1 s, total: 21.7 s\n",
      "Wall time: 19.9 s\n"
     ]
    }
   ],
   "source": [
    "%%time \n",
    "\n",
    "param_grid = {\"method\": [\"first_order\", \"second_order\"],\n",
    "              \"reg_lambda\": [0.02, 0.05, 0.1], \n",
    "              \"reg_gamma\": np.logspace(-2, 2, 5)}\n",
    "grid = GridSearchCV(SimRegressor(degree=2, knot_num=20, random_state=0), \n",
    "                    cv=KFold(3, shuffle=True, random_state=0), param_grid=param_grid, n_jobs=-1, verbose=2, error_score=np.nan)\n",
    "grid.fit(x, y)"
   ]
  },
  {
   "cell_type": "code",
   "execution_count": 11,
   "metadata": {},
   "outputs": [
    {
     "data": {
      "text/plain": [
       "{'method': 'second_order', 'reg_gamma': 1.0, 'reg_lambda': 0.02}"
      ]
     },
     "execution_count": 11,
     "metadata": {},
     "output_type": "execute_result"
    }
   ],
   "source": [
    "grid.best_params_"
   ]
  },
  {
   "cell_type": "markdown",
   "metadata": {},
   "source": [
    "**NB**: The second-order Setin's method is selected, as $\\mathbb{E}[f^{\\prime}(u)]=0$. Therefore, the first order method cannot provide any information about the projection coefficients. "
   ]
  },
  {
   "cell_type": "code",
   "execution_count": 12,
   "metadata": {},
   "outputs": [
    {
     "data": {
      "text/plain": [
       "SimRegressor(degree=2, knot_num=20, method='second_order', random_state=0,\n",
       "             reg_gamma=1.0, reg_lambda=0.02)"
      ]
     },
     "execution_count": 12,
     "metadata": {},
     "output_type": "execute_result"
    }
   ],
   "source": [
    "clf = grid.best_estimator_\n",
    "clf"
   ]
  },
  {
   "cell_type": "code",
   "execution_count": 13,
   "metadata": {},
   "outputs": [
    {
     "data": {
      "image/png": "[encoded data removed]",
      "text/plain": [
       "<Figure size 432x288 with 1 Axes>"
      ]
     },
     "metadata": {
      "needs_background": "light"
     },
     "output_type": "display_data"
    }
   ],
   "source": [
    "plt.plot(clf.beta_, \"o\")\n",
    "plt.plot(beta, \"o\")\n",
    "plt.legend([\"Estimated\", \"Ground Truth\"])\n",
    "plt.show()"
   ]
  },
  {
   "cell_type": "code",
   "execution_count": 14,
   "metadata": {},
   "outputs": [
    {
     "data": {
      "image/png": "[encoded data removed]",
      "text/plain": [
       "<Figure size 864x288 with 3 Axes>"
      ]
     },
     "metadata": {
      "needs_background": "light"
     },
     "output_type": "display_data"
    }
   ],
   "source": [
    "clf.visualize()"
   ]
  },
  {
   "cell_type": "markdown",
   "metadata": {},
   "source": [
    "## Case 3: Improve a rough estimator with inner update"
   ]
  },
  {
   "cell_type": "code",
   "execution_count": 16,
   "metadata": {
    "scrolled": true
   },
   "outputs": [],
   "source": [
    "s_star = 5\n",
    "n_features = 100\n",
    "n_samples = 10000\n",
    "\n",
    "np.random.seed(0)\n",
    "beta = np.zeros(n_features)\n",
    "supp_ids = np.random.choice(n_features, s_star)\n",
    "beta[supp_ids]=np.random.choice((-1, 1), s_star) / np.sqrt(s_star)\n",
    "\n",
    "x = np.random.gamma(1, 0.3, size=(n_samples, n_features))\n",
    "y = np.sin(np.pi*(np.dot(x, beta))) + 0.1 * np.random.randn(n_samples)"
   ]
  },
  {
   "cell_type": "code",
   "execution_count": 23,
   "metadata": {
    "scrolled": true
   },
   "outputs": [
    {
     "name": "stdout",
     "output_type": "stream",
     "text": [
      "CPU times: user 3.91 s, sys: 9.06 s, total: 13 s\n",
      "Wall time: 328 ms\n"
     ]
    }
   ],
   "source": [
    "%%time \n",
    "\n",
    "clf = SimRegressor(degree=2, knot_num=20, reg_lambda=0.01, random_state=0)\n",
    "clf.fit(x, y)"
   ]
  },
  {
   "cell_type": "code",
   "execution_count": 24,
   "metadata": {
    "scrolled": true
   },
   "outputs": [
    {
     "data": {
      "image/png": "[encoded data removed]",
      "text/plain": [
       "<Figure size 864x288 with 3 Axes>"
      ]
     },
     "metadata": {
      "needs_background": "light"
     },
     "output_type": "display_data"
    }
   ],
   "source": [
    "clf.visualize()"
   ]
  },
  {
   "cell_type": "markdown",
   "metadata": {},
   "source": [
    "**Remark**：The data does not follow a normal distribution, so the performance is relatively poor."
   ]
  },
  {
   "cell_type": "code",
   "execution_count": 25,
   "metadata": {
    "scrolled": true
   },
   "outputs": [
    {
     "name": "stdout",
     "output_type": "stream",
     "text": [
      "Inner iter: 0 epoch: 0 with validation loss: 0.05662\n",
      "Inner iter: 0 epoch: 1 with validation loss: 0.05033\n",
      "Inner iter: 0 epoch: 2 with validation loss: 0.04912\n",
      "Inner iter: 0 epoch: 3 with validation loss: 0.04686\n",
      "Inner iter: 0 epoch: 4 with validation loss: 0.04641\n",
      "Inner iter: 0 epoch: 5 with validation loss: 0.04609\n",
      "Inner iter: 0 epoch: 6 with validation loss: 0.04641\n",
      "Inner iter: 0 epoch: 7 with validation loss: 0.04684\n",
      "Inner iter: 0 epoch: 8 with validation loss: 0.04636\n",
      "Inner iter: 0 epoch: 9 with validation loss: 0.04691\n",
      "Inner iter: 1 epoch: 0 with validation loss: 0.02971\n",
      "Inner iter: 1 epoch: 1 with validation loss: 0.02863\n",
      "Inner iter: 1 epoch: 2 with validation loss: 0.02821\n",
      "Inner iter: 2 epoch: 0 with validation loss: 0.04035\n",
      "Inner iter: 2 epoch: 1 with validation loss: 0.03583\n",
      "Inner iter: 2 epoch: 2 with validation loss: 0.03408\n",
      "Inner iter: 2 epoch: 3 with validation loss: 0.03352\n",
      "Inner iter: 2 epoch: 4 with validation loss: 0.03403\n",
      "Inner iter: 2 epoch: 5 with validation loss: 0.03337\n",
      "Inner iter: 2 epoch: 6 with validation loss: 0.03381\n",
      "Inner iter: 2 epoch: 7 with validation loss: 0.0337\n",
      "Inner iter: 3 epoch: 0 with validation loss: 0.02837\n",
      "Inner iter: 3 epoch: 1 with validation loss: 0.02763\n",
      "Inner iter: 3 epoch: 2 with validation loss: 0.02822\n",
      "Inner iter: 3 epoch: 3 with validation loss: 0.0279\n",
      "Inner iter: 3 epoch: 4 with validation loss: 0.02874\n",
      "Inner iter: 3 epoch: 5 with validation loss: 0.02822\n",
      "Inner iter: 3 epoch: 6 with validation loss: 0.02839\n",
      "Inner iter: 3 epoch: 7 with validation loss: 0.03167\n",
      "Inner iter: 3 epoch: 8 with validation loss: 0.03041\n",
      "Inner iter: 3 epoch: 9 with validation loss: 0.02836\n",
      "Inner iter: 4 epoch: 0 with validation loss: 0.02744\n",
      "Inner iter: 4 epoch: 1 with validation loss: 0.02769\n",
      "Inner iter: 4 epoch: 2 with validation loss: 0.02751\n",
      "Inner iter: 4 epoch: 3 with validation loss: 0.02805\n",
      "Inner iter: 4 epoch: 4 with validation loss: 0.02903\n",
      "Inner iter: 4 epoch: 5 with validation loss: 0.02802\n",
      "Inner iter: 4 epoch: 6 with validation loss: 0.02759\n",
      "Inner iter: 4 epoch: 7 with validation loss: 0.02796\n",
      "Inner iter: 5 epoch: 0 with validation loss: 0.02995\n",
      "Inner iter: 5 epoch: 1 with validation loss: 0.02791\n",
      "Inner iter: 5 epoch: 2 with validation loss: 0.02893\n",
      "Inner iter: 5 epoch: 3 with validation loss: 0.02848\n",
      "Inner iter: 5 epoch: 4 with validation loss: 0.02826\n",
      "Inner iter: 6 epoch: 0 with validation loss: 0.02768\n",
      "Inner iter: 7 epoch: 0 with validation loss: 0.02775\n",
      "Inner iter: 8 epoch: 0 with validation loss: 0.02843\n",
      "Inner iter: 8 epoch: 1 with validation loss: 0.03075\n",
      "Inner iter: 8 epoch: 2 with validation loss: 0.02815\n",
      "Inner iter: 8 epoch: 3 with validation loss: 0.02827\n",
      "Inner iter: 8 epoch: 4 with validation loss: 0.0306\n",
      "Inner iter: 8 epoch: 5 with validation loss: 0.02951\n",
      "Inner iter: 8 epoch: 6 with validation loss: 0.02793\n",
      "Inner iter: 8 epoch: 7 with validation loss: 0.02813\n",
      "Inner iter: 8 epoch: 8 with validation loss: 0.02884\n",
      "Inner iter: 8 epoch: 9 with validation loss: 0.02848\n",
      "Inner iter: 9 epoch: 0 with validation loss: 0.02806\n"
     ]
    }
   ],
   "source": [
    "clf.fit_inner_update(x, y, max_inner_iter=10, epoches=10, n_iter_no_change=1,\n",
    "                     batch_size=100, val_ratio=0.2, learning_rate=1e-3, beta_1=0.9, beta_2=0.999, verbose=True)"
   ]
  },
  {
   "cell_type": "code",
   "execution_count": 26,
   "metadata": {
    "scrolled": true
   },
   "outputs": [
    {
     "data": {
      "image/png": "[encoded data removed]",
      "text/plain": [
       "<Figure size 864x288 with 3 Axes>"
      ]
     },
     "metadata": {
      "needs_background": "light"
     },
     "output_type": "display_data"
    }
   ],
   "source": [
    "clf.visualize()"
   ]
  },
  {
   "cell_type": "code",
   "execution_count": null,
   "metadata": {},
   "outputs": [],
   "source": []
  }
 ],
 "metadata": {
  "kernelspec": {
   "display_name": "Python (tf2)",
   "language": "python",
   "name": "tf2"
  },
  "language_info": {
   "codemirror_mode": {
    "name": "ipython",
    "version": 3
   },
   "file_extension": ".py",
   "mimetype": "text/x-python",
   "name": "python",
   "nbconvert_exporter": "python",
   "pygments_lexer": "ipython3",
   "version": "3.6.8"
  }
 },
 "nbformat": 4,
 "nbformat_minor": 2
}
