{
 "cells": [
  {
   "cell_type": "markdown",
   "metadata": {},
   "source": [
    "## SIM Training by Stein's Method"
   ]
  },
  {
   "cell_type": "code",
   "execution_count": 1,
   "metadata": {
    "ExecuteTime": {
     "end_time": "2020-05-18T12:24:20.143303Z",
     "start_time": "2020-05-18T12:24:16.224788Z"
    }
   },
   "outputs": [],
   "source": [
    "import numpy as np\n",
    "from matplotlib import pylab as plt\n",
    "from sklearn.model_selection import KFold\n",
    "from sklearn.model_selection import GridSearchCV\n",
    "from sklearn.preprocessing import MinMaxScaler\n",
    "from sklearn.metrics import make_scorer, mean_squared_error\n",
    "\n",
    "from pysim import SimRegressor"
   ]
  },
  {
   "cell_type": "markdown",
   "metadata": {},
   "source": [
    "## pySIM - A python package for Sparse SIM "
   ]
  },
  {
   "cell_type": "markdown",
   "metadata": {},
   "source": [
    "**To install**:\n",
    "    \n",
    "```sheel\n",
    "    pip install git+https://github.com/Zebinyang/pysim.git\n",
    "```\n",
    "\n",
    "Note pysim will call the R package fps (https://github.com/vqv/fps) using rpy2 interface. "
   ]
  },
  {
   "cell_type": "markdown",
   "metadata": {},
   "source": [
    "**Usage**"
   ]
  },
  {
   "cell_type": "markdown",
   "metadata": {},
   "source": [
    "```python\n",
    "from pysim import SimRegressor\n",
    "clf = SimRegressor(method=\"first_order\", reg_lambda=0.1, spline=\"smoothing_spline\", reg_gamma=10, knot_num=20, knot_dist=\"uniform\", degree=2, random_state=0)\n",
    "## clf.fit(x, y)\n",
    "```"
   ]
  },
  {
   "cell_type": "markdown",
   "metadata": {},
   "source": [
    "**Hyperparameters**\n",
    "\n",
    "- method: the base method for estimating the projection coefficients in sparse SIM. default=\"first_order\"\n",
    "\n",
    "        \"first_order\": First-order Stein's Identity via sparse PCA solver\n",
    "\n",
    "        \"second_order\": Second-order Stein's Identity via sparse PCA solver\n",
    "\n",
    "        \"first_order_thres\": First-order Stein's Identity via hard thresholding (A simplified verison)        \n",
    "    \n",
    "- reg_lambda: The regularization strength of sparsity of beta. default=0.1, from 0 to 1 \n",
    "\n",
    "- spline: The type of spline for fitting the curve. default=\"smoothing_spline\"\n",
    "        \n",
    "        \"smoothing_spline\": Smoothing spline\n",
    "\n",
    "        \"p_spline\": P-spline\n",
    "\n",
    "        \"mono_p_spline\": P-spline with monotonic constraint\n",
    "        \n",
    "        \"a_spline\": Adaptive B-spline\n",
    "\n",
    "- reg_gamma: The regularization strength of the spline algorithm. default=0.1.\n",
    "\n",
    "        For spline=\"smoothing_spline\", it ranges from 0 to 1 \n",
    "        \n",
    "        For spline=\"p_spline\",\"mono_p_spline\" or \"a_spline\", it ranges from 0 to $+\\infty$.\n",
    "\n",
    "- degree: The order of the spline basis, , not used in \"smoothing_spline\". default=2\n",
    "\n",
    "- knot_num: The number of knots, not used in \"smoothing_spline\". default=20\n",
    "\n",
    "- knot_dist: The method of specifying the knots, only used in \"a_spline\". default=\"uniform\"\n",
    "\n",
    "        \"uniform\": uniformly over the domain\n",
    "        \n",
    "        \"quantile\": uniform quantiles of the given input data (not available when spline=\"p_spline\" or \"mono_p_spline\")\n",
    "\n",
    "- random_state: the random seed. default=0"
   ]
  },
  {
   "cell_type": "markdown",
   "metadata": {},
   "source": [
    "# Case 1: Sine Ridge Function"
   ]
  },
  {
   "cell_type": "code",
   "execution_count": 2,
   "metadata": {
    "ExecuteTime": {
     "end_time": "2020-05-18T12:24:20.297691Z",
     "start_time": "2020-05-18T12:24:20.147024Z"
    },
    "scrolled": true
   },
   "outputs": [],
   "source": [
    "s_star = 5\n",
    "n_features = 100\n",
    "n_samples = 10000\n",
    "\n",
    "np.random.seed(1)\n",
    "beta = np.zeros(n_features)\n",
    "supp_ids = np.random.choice(n_features, s_star)\n",
    "beta[supp_ids]=np.random.choice((-1, 1), s_star) / np.sqrt(s_star)\n",
    "\n",
    "x = np.random.normal(0, 0.3, size=(n_samples, n_features))\n",
    "y = np.sin(np.pi*(np.dot(x, beta))) + 0.1 * np.random.randn(n_samples)"
   ]
  },
  {
   "cell_type": "markdown",
   "metadata": {},
   "source": [
    "The best hyperparameter combination can be selected via cross-validation"
   ]
  },
  {
   "cell_type": "code",
   "execution_count": 3,
   "metadata": {
    "ExecuteTime": {
     "end_time": "2020-05-18T12:24:35.749532Z",
     "start_time": "2020-05-18T12:24:20.305091Z"
    },
    "scrolled": true
   },
   "outputs": [
    {
     "name": "stdout",
     "output_type": "stream",
     "text": [
      "Fitting 3 folds for each of 50 candidates, totalling 150 fits\n"
     ]
    },
    {
     "name": "stderr",
     "output_type": "stream",
     "text": [
      "[Parallel(n_jobs=-1)]: Using backend LokyBackend with 64 concurrent workers.\n",
      "[Parallel(n_jobs=-1)]: Done  99 out of 150 | elapsed:   14.0s remaining:    7.2s\n",
      "[Parallel(n_jobs=-1)]: Done 150 out of 150 | elapsed:   14.8s finished\n",
      "/home/r7user1/anaconda2_local/envs/tf2/lib/python3.6/site-packages/sklearn/model_selection/_search.py:823: FutureWarning: The parameter 'iid' is deprecated in 0.22 and will be removed in 0.24.\n",
      "  \"removed in 0.24.\", FutureWarning\n"
     ]
    },
    {
     "name": "stdout",
     "output_type": "stream",
     "text": [
      "CPU times: user 2.74 s, sys: 8.8 s, total: 11.5 s\n",
      "Wall time: 15.4 s\n"
     ]
    }
   ],
   "source": [
    "%%time \n",
    "\n",
    "param_grid = {\"method\": [\"first_order\", \"second_order\"],\n",
    "              \"reg_lambda\": [0.1, 0.2, 0.3, 0.4, 0.5], \n",
    "              \"reg_gamma\": [0.2, 0.4, 0.6, 0.8, 1.0]}\n",
    "grid = GridSearchCV(SimRegressor(spline=\"smoothing_spline\", random_state=0), iid=False,\n",
    "                    cv=KFold(3, shuffle=True, random_state=0), param_grid=param_grid, n_jobs=-1, verbose=2, error_score=np.nan)\n",
    "grid.fit(x, y)"
   ]
  },
  {
   "cell_type": "code",
   "execution_count": 4,
   "metadata": {
    "ExecuteTime": {
     "end_time": "2020-05-18T12:24:35.759386Z",
     "start_time": "2020-05-18T12:24:35.752170Z"
    }
   },
   "outputs": [
    {
     "data": {
      "text/plain": [
       "{'method': 'first_order', 'reg_gamma': 0.8, 'reg_lambda': 0.1}"
      ]
     },
     "execution_count": 4,
     "metadata": {},
     "output_type": "execute_result"
    }
   ],
   "source": [
    "grid.best_params_"
   ]
  },
  {
   "cell_type": "markdown",
   "metadata": {},
   "source": [
    "**NB**: The first-order Setin's method is selected, as $\\mathbb{E}[f^{\\prime\\prime}(u)]=0$. Therefore, the second order method cannot provide any information about the projection coefficients. "
   ]
  },
  {
   "cell_type": "markdown",
   "metadata": {},
   "source": [
    "In this case, the first-order Setin's method is selected. "
   ]
  },
  {
   "cell_type": "code",
   "execution_count": 5,
   "metadata": {
    "ExecuteTime": {
     "end_time": "2020-05-18T12:24:35.770495Z",
     "start_time": "2020-05-18T12:24:35.761636Z"
    }
   },
   "outputs": [
    {
     "data": {
      "text/plain": [
       "SimRegressor(degree=2, knot_dist='uniform', knot_num=20, method='first_order',\n",
       "             random_state=0, reg_gamma=0.8, reg_lambda=0.1,\n",
       "             spline='smoothing_spline')"
      ]
     },
     "execution_count": 5,
     "metadata": {},
     "output_type": "execute_result"
    }
   ],
   "source": [
    "clf = grid.best_estimator_\n",
    "clf"
   ]
  },
  {
   "cell_type": "code",
   "execution_count": 6,
   "metadata": {
    "ExecuteTime": {
     "end_time": "2020-05-18T12:24:36.156946Z",
     "start_time": "2020-05-18T12:24:35.772813Z"
    }
   },
   "outputs": [
    {
     "data": {
      "image/png": "[encoded data removed]",
      "text/plain": [
       "<Figure size 432x288 with 1 Axes>"
      ]
     },
     "metadata": {
      "needs_background": "light"
     },
     "output_type": "display_data"
    }
   ],
   "source": [
    "plt.plot(np.abs(clf.beta_), \"o\")\n",
    "plt.plot(np.abs(beta), \"o\")\n",
    "plt.legend([\"Estimated\", \"Ground Truth\"])\n",
    "plt.show()"
   ]
  },
  {
   "cell_type": "code",
   "execution_count": 7,
   "metadata": {
    "ExecuteTime": {
     "end_time": "2020-05-18T12:24:36.963815Z",
     "start_time": "2020-05-18T12:24:36.159229Z"
    },
    "scrolled": true
   },
   "outputs": [
    {
     "data": {
      "image/png": "[encoded data removed]",
      "text/plain": [
       "<Figure size 864x288 with 3 Axes>"
      ]
     },
     "metadata": {
      "needs_background": "light"
     },
     "output_type": "display_data"
    }
   ],
   "source": [
    "clf.visualize()"
   ]
  },
  {
   "cell_type": "markdown",
   "metadata": {},
   "source": [
    "## Case 2: Quadratic Ridge Function"
   ]
  },
  {
   "cell_type": "code",
   "execution_count": 8,
   "metadata": {
    "ExecuteTime": {
     "end_time": "2020-05-18T12:24:37.131334Z",
     "start_time": "2020-05-18T12:24:36.966869Z"
    },
    "scrolled": true
   },
   "outputs": [],
   "source": [
    "s_star = 5\n",
    "n_features = 100\n",
    "n_samples = 10000\n",
    "\n",
    "np.random.seed(1)\n",
    "beta = np.zeros(n_features)\n",
    "supp_ids = np.random.choice(n_features, s_star)\n",
    "beta[supp_ids]=np.random.choice((-1, 1), s_star) / np.sqrt(s_star)\n",
    "\n",
    "x = np.random.normal(0, 0.3, size=(n_samples, n_features))\n",
    "y = np.dot(x, beta) ** 2 + 0.1 * np.random.randn(n_samples)"
   ]
  },
  {
   "cell_type": "code",
   "execution_count": 9,
   "metadata": {
    "ExecuteTime": {
     "end_time": "2020-05-18T12:24:39.905217Z",
     "start_time": "2020-05-18T12:24:37.136044Z"
    },
    "scrolled": true
   },
   "outputs": [
    {
     "name": "stdout",
     "output_type": "stream",
     "text": [
      "Fitting 3 folds for each of 50 candidates, totalling 150 fits\n"
     ]
    },
    {
     "name": "stderr",
     "output_type": "stream",
     "text": [
      "[Parallel(n_jobs=-1)]: Using backend LokyBackend with 64 concurrent workers.\n",
      "[Parallel(n_jobs=-1)]: Done  99 out of 150 | elapsed:    1.6s remaining:    0.8s\n",
      "[Parallel(n_jobs=-1)]: Done 150 out of 150 | elapsed:    2.2s finished\n",
      "/home/r7user1/anaconda2_local/envs/tf2/lib/python3.6/site-packages/sklearn/model_selection/_search.py:823: FutureWarning: The parameter 'iid' is deprecated in 0.22 and will be removed in 0.24.\n",
      "  \"removed in 0.24.\", FutureWarning\n"
     ]
    },
    {
     "name": "stdout",
     "output_type": "stream",
     "text": [
      "CPU times: user 2.87 s, sys: 9.58 s, total: 12.4 s\n",
      "Wall time: 2.75 s\n"
     ]
    }
   ],
   "source": [
    "%%time \n",
    "\n",
    "param_grid = {\"method\": [\"first_order\", \"second_order\"],\n",
    "              \"reg_lambda\": [0.1, 0.2, 0.3, 0.4, 0.5], \n",
    "              \"reg_gamma\": [0.2, 0.4, 0.6, 0.8, 1.0]}\n",
    "grid = GridSearchCV(SimRegressor(spline=\"smoothing_spline\", random_state=0), iid=False,\n",
    "                    cv=KFold(3, shuffle=True, random_state=0), param_grid=param_grid, n_jobs=-1, verbose=2, error_score=np.nan)\n",
    "grid.fit(x, y)"
   ]
  },
  {
   "cell_type": "code",
   "execution_count": 10,
   "metadata": {
    "ExecuteTime": {
     "end_time": "2020-05-18T12:24:39.913991Z",
     "start_time": "2020-05-18T12:24:39.907611Z"
    }
   },
   "outputs": [
    {
     "data": {
      "text/plain": [
       "{'method': 'second_order', 'reg_gamma': 1.0, 'reg_lambda': 0.1}"
      ]
     },
     "execution_count": 10,
     "metadata": {},
     "output_type": "execute_result"
    }
   ],
   "source": [
    "grid.best_params_"
   ]
  },
  {
   "cell_type": "markdown",
   "metadata": {},
   "source": [
    "**NB**: The second-order Setin's method is selected, as $\\mathbb{E}[f^{\\prime}(u)]=0$. Therefore, the first order method cannot provide any information about the projection coefficients. "
   ]
  },
  {
   "cell_type": "code",
   "execution_count": 11,
   "metadata": {
    "ExecuteTime": {
     "end_time": "2020-05-18T12:24:39.925468Z",
     "start_time": "2020-05-18T12:24:39.917081Z"
    }
   },
   "outputs": [
    {
     "data": {
      "text/plain": [
       "SimRegressor(degree=2, knot_dist='uniform', knot_num=20, method='second_order',\n",
       "             random_state=0, reg_gamma=1.0, reg_lambda=0.1,\n",
       "             spline='smoothing_spline')"
      ]
     },
     "execution_count": 11,
     "metadata": {},
     "output_type": "execute_result"
    }
   ],
   "source": [
    "clf = grid.best_estimator_\n",
    "clf"
   ]
  },
  {
   "cell_type": "code",
   "execution_count": 12,
   "metadata": {
    "ExecuteTime": {
     "end_time": "2020-05-18T12:24:40.304910Z",
     "start_time": "2020-05-18T12:24:39.928640Z"
    }
   },
   "outputs": [
    {
     "data": {
      "image/png": "[encoded data removed]",
      "text/plain": [
       "<Figure size 432x288 with 1 Axes>"
      ]
     },
     "metadata": {
      "needs_background": "light"
     },
     "output_type": "display_data"
    }
   ],
   "source": [
    "plt.plot(np.abs(clf.beta_), \"o\")\n",
    "plt.plot(np.abs(beta), \"o\")\n",
    "plt.legend([\"Estimated\", \"Ground Truth\"])\n",
    "plt.show()"
   ]
  },
  {
   "cell_type": "code",
   "execution_count": 13,
   "metadata": {
    "ExecuteTime": {
     "end_time": "2020-05-18T12:24:41.395439Z",
     "start_time": "2020-05-18T12:24:40.307333Z"
    }
   },
   "outputs": [
    {
     "data": {
      "image/png": "[encoded data removed]",
      "text/plain": [
       "<Figure size 864x288 with 3 Axes>"
      ]
     },
     "metadata": {
      "needs_background": "light"
     },
     "output_type": "display_data"
    }
   ],
   "source": [
    "clf.visualize()"
   ]
  },
  {
   "cell_type": "markdown",
   "metadata": {},
   "source": [
    "## Case 3: Improve a rough estimator via inner update"
   ]
  },
  {
   "cell_type": "code",
   "execution_count": 14,
   "metadata": {
    "ExecuteTime": {
     "end_time": "2020-05-18T12:24:41.513538Z",
     "start_time": "2020-05-18T12:24:41.397472Z"
    },
    "scrolled": true
   },
   "outputs": [],
   "source": [
    "s_star = 5\n",
    "n_features = 100\n",
    "n_samples = 10000\n",
    "\n",
    "np.random.seed(1)\n",
    "beta = np.zeros(n_features)\n",
    "supp_ids = np.random.choice(n_features, s_star)\n",
    "beta[supp_ids]=np.random.choice((-1, 1), s_star) / np.sqrt(s_star)\n",
    "\n",
    "x = np.random.gamma(1, 0.3, size=(n_samples, n_features))\n",
    "y = np.sin(np.pi*(np.dot(x, beta))) + 0.1 * np.random.randn(n_samples)"
   ]
  },
  {
   "cell_type": "code",
   "execution_count": 15,
   "metadata": {
    "ExecuteTime": {
     "end_time": "2020-05-18T12:24:42.172349Z",
     "start_time": "2020-05-18T12:24:41.519362Z"
    },
    "scrolled": true
   },
   "outputs": [
    {
     "name": "stdout",
     "output_type": "stream",
     "text": [
      "CPU times: user 2.56 s, sys: 9.76 s, total: 12.3 s\n",
      "Wall time: 638 ms\n"
     ]
    }
   ],
   "source": [
    "%%time\n",
    "\n",
    "clf = SimRegressor(degree=2, knot_num=20, reg_lambda=0.1, reg_gamma=0.4, spline=\"a_spline\", random_state=0)\n",
    "clf.fit(x, y)"
   ]
  },
  {
   "cell_type": "code",
   "execution_count": 16,
   "metadata": {
    "ExecuteTime": {
     "end_time": "2020-05-18T12:24:43.027656Z",
     "start_time": "2020-05-18T12:24:42.178310Z"
    },
    "scrolled": true
   },
   "outputs": [
    {
     "data": {
      "image/png": "[encoded data removed]",
      "text/plain": [
       "<Figure size 864x288 with 3 Axes>"
      ]
     },
     "metadata": {
      "needs_background": "light"
     },
     "output_type": "display_data"
    }
   ],
   "source": [
    "clf.visualize()"
   ]
  },
  {
   "cell_type": "markdown",
   "metadata": {},
   "source": [
    "**Remark**：The data does not follow a normal distribution, so the performance is relatively poorer, we use adam optimizer to improve the estimation."
   ]
  },
  {
   "cell_type": "code",
   "execution_count": 17,
   "metadata": {
    "ExecuteTime": {
     "end_time": "2020-05-18T12:24:55.182417Z",
     "start_time": "2020-05-18T12:24:43.029794Z"
    },
    "scrolled": true
   },
   "outputs": [
    {
     "name": "stdout",
     "output_type": "stream",
     "text": [
      "Inner iter: 1 epoch: 1 with validation loss: 0.01881\n",
      "Inner iter: 1 epoch: 2 with validation loss: 0.01837\n",
      "Inner iter: 1 epoch: 3 with validation loss: 0.0192\n",
      "Inner iter: 1 epoch: 4 with validation loss: 0.01809\n",
      "Inner iter: 1 epoch: 5 with validation loss: 0.01815\n",
      "Inner iter: 1 epoch: 6 with validation loss: 0.01778\n",
      "Inner iter: 1 epoch: 7 with validation loss: 0.01825\n",
      "Inner iter: 1 epoch: 8 with validation loss: 0.01796\n",
      "Inner iter: 1 epoch: 9 with validation loss: 0.01791\n",
      "Inner iter: 1 epoch: 10 with validation loss: 0.01781\n",
      "Inner iter: 2 epoch: 1 with validation loss: 0.01226\n",
      "Inner iter: 2 epoch: 2 with validation loss: 0.01128\n",
      "Inner iter: 2 epoch: 3 with validation loss: 0.01094\n",
      "Inner iter: 2 epoch: 4 with validation loss: 0.01092\n",
      "Inner iter: 2 epoch: 5 with validation loss: 0.01093\n",
      "Inner iter: 2 epoch: 6 with validation loss: 0.0111\n",
      "Inner iter: 2 epoch: 7 with validation loss: 0.01093\n",
      "Inner iter: 3 epoch: 1 with validation loss: 0.01048\n",
      "Inner iter: 3 epoch: 2 with validation loss: 0.01062\n",
      "Inner iter: 3 epoch: 3 with validation loss: 0.01057\n",
      "Inner iter: 3 epoch: 4 with validation loss: 0.01077\n",
      "Inner iter: 3 epoch: 5 with validation loss: 0.01045\n"
     ]
    }
   ],
   "source": [
    "clf.fit_inner_update(x, y, verbose=True, n_inner_iter_no_change=1)"
   ]
  },
  {
   "cell_type": "markdown",
   "metadata": {},
   "source": [
    "**Remark**: fit_inner_update is not available for spline=\"p_spline\" or \"mono_p_spline\""
   ]
  },
  {
   "cell_type": "code",
   "execution_count": 18,
   "metadata": {
    "ExecuteTime": {
     "end_time": "2020-05-18T12:24:56.274071Z",
     "start_time": "2020-05-18T12:24:55.185279Z"
    },
    "scrolled": true
   },
   "outputs": [
    {
     "data": {
      "image/png": "[encoded data removed]",
      "text/plain": [
       "<Figure size 864x288 with 3 Axes>"
      ]
     },
     "metadata": {
      "needs_background": "light"
     },
     "output_type": "display_data"
    }
   ],
   "source": [
    "clf.visualize()"
   ]
  }
 ],
 "metadata": {
  "kernelspec": {
   "display_name": "Python (tf2)",
   "language": "python",
   "name": "tf2"
  },
  "language_info": {
   "codemirror_mode": {
    "name": "ipython",
    "version": 3
   },
   "file_extension": ".py",
   "mimetype": "text/x-python",
   "name": "python",
   "nbconvert_exporter": "python",
   "pygments_lexer": "ipython3",
   "version": "3.6.8"
  },
  "latex_envs": {
   "LaTeX_envs_menu_present": true,
   "autoclose": false,
   "autocomplete": true,
   "bibliofile": "biblio.bib",
   "cite_by": "apalike",
   "current_citInitial": 1,
   "eqLabelWithNumbers": true,
   "eqNumInitial": 1,
   "hotkeys": {
    "equation": "Ctrl-E",
    "itemize": "Ctrl-I"
   },
   "labels_anchors": false,
   "latex_user_defs": false,
   "report_style_numbering": false,
   "user_envs_cfg": false
  },
  "varInspector": {
   "cols": {
    "lenName": 16,
    "lenType": 16,
    "lenVar": 40
   },
   "kernels_config": {
    "python": {
     "delete_cmd_postfix": "",
     "delete_cmd_prefix": "del ",
     "library": "var_list.py",
     "varRefreshCmd": "print(var_dic_list())"
    },
    "r": {
     "delete_cmd_postfix": ") ",
     "delete_cmd_prefix": "rm(",
     "library": "var_list.r",
     "varRefreshCmd": "cat(var_dic_list()) "
    }
   },
   "types_to_exclude": [
    "module",
    "function",
    "builtin_function_or_method",
    "instance",
    "_Feature"
   ],
   "window_display": false
  }
 },
 "nbformat": 4,
 "nbformat_minor": 2
}
