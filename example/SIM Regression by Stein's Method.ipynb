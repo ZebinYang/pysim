{
 "cells": [
  {
   "cell_type": "markdown",
   "metadata": {},
   "source": [
    "## SIM Training by Stein's Method"
   ]
  },
  {
   "cell_type": "code",
   "execution_count": 1,
   "metadata": {},
   "outputs": [],
   "source": [
    "import numpy as np\n",
    "from matplotlib import pylab as plt\n",
    "from sklearn.model_selection import KFold\n",
    "from sklearn.model_selection import GridSearchCV\n",
    "from sklearn.preprocessing import MinMaxScaler\n",
    "from sklearn.metrics import make_scorer, mean_squared_error\n",
    "\n",
    "from pysim import SimRegressor"
   ]
  },
  {
   "cell_type": "markdown",
   "metadata": {},
   "source": [
    "## pySIM - A python package for Sparse SIM "
   ]
  },
  {
   "cell_type": "markdown",
   "metadata": {},
   "source": [
    "**To install**:\n",
    "    \n",
    "```sheel\n",
    "    pip install git+https://github.com/Zebinyang/pysim.git\n",
    "```\n",
    "\n",
    "Note pysim will call the R package fps (https://github.com/vqv/fps) using rpy2 interface. "
   ]
  },
  {
   "cell_type": "markdown",
   "metadata": {},
   "source": [
    "**Usage**"
   ]
  },
  {
   "cell_type": "markdown",
   "metadata": {},
   "source": [
    "```python\n",
    "from pysim import SimRegressor\n",
    "clf = SimRegressor(method=\"first_order\", reg_lambda=0.1, reg_gamma=10, knot_num=20, degree=2, random_state=0)\n",
    "## clf.fit(x, y)\n",
    "```"
   ]
  },
  {
   "cell_type": "markdown",
   "metadata": {},
   "source": [
    "**Hyperparameters**\n",
    "\n",
    "- method: the base method for estimating the projection coefficients in sparse SIM. default=\"first_order\"\n",
    "\n",
    "        \"first_order\": First-order Stein's Identity via sparse PCA solver\n",
    "\n",
    "        \"second_order\": Second-order Stein's Identity via sparse PCA solver\n",
    "\n",
    "        \"first_order_thres\": First-order Stein's Identity via hard thresholding (A simplified verison)        \n",
    "    \n",
    "- reg_lambda: The regularization strength of sparsity of beta. default=0.1, from 0 to 1 \n",
    "\n",
    "- reg_gamma: The regularization strength of the spline algorithm. default=10, from 0 to $+\\infty$\n",
    "\n",
    "- degree: The order of the spline basis. default=2\n",
    "\n",
    "- knot_num: The number of knots spanned uniformly over the domain. default=20\n",
    "\n",
    "- random_state: the random seed. default=0"
   ]
  },
  {
   "cell_type": "markdown",
   "metadata": {},
   "source": [
    "# Case 1: Sine Ridge Function"
   ]
  },
  {
   "cell_type": "markdown",
   "metadata": {},
   "source": [
    "- covariates: $x\\sim N(0, 0.3^2)$\n",
    "- ridge function: $ f(u) = \\sin{(u\\pi)} $\n",
    "- projection: $ u = \\beta^{T} x $, where $\\beta$ has 5 non-zero entries\n",
    "- noise: $N(0, 1)$\n",
    "- sample size: 10000\n",
    "- feature size: 100"
   ]
  },
  {
   "cell_type": "code",
   "execution_count": 2,
   "metadata": {
    "scrolled": true
   },
   "outputs": [],
   "source": [
    "s_star = 5\n",
    "n_features = 100\n",
    "n_samples = 10000\n",
    "\n",
    "np.random.seed(0)\n",
    "beta = np.zeros(n_features)\n",
    "supp_ids = np.random.choice(n_features, s_star)\n",
    "beta[supp_ids]=np.random.choice((-1, 1), s_star) / np.sqrt(s_star)\n",
    "\n",
    "x = np.random.normal(0, 0.3, size=(n_samples, n_features))\n",
    "y = np.sin(np.pi*(np.dot(x, beta))) + np.random.randn(n_samples)"
   ]
  },
  {
   "cell_type": "markdown",
   "metadata": {},
   "source": [
    "The best hyperparameter combination can be selected via cross-validation"
   ]
  },
  {
   "cell_type": "code",
   "execution_count": 3,
   "metadata": {
    "scrolled": true
   },
   "outputs": [
    {
     "name": "stdout",
     "output_type": "stream",
     "text": [
      "Fitting 3 folds for each of 18 candidates, totalling 54 fits\n"
     ]
    },
    {
     "name": "stderr",
     "output_type": "stream",
     "text": [
      "[Parallel(n_jobs=-1)]: Using backend LokyBackend with 64 concurrent workers.\n",
      "[Parallel(n_jobs=-1)]: Done  11 out of  54 | elapsed:   21.8s remaining:  1.4min\n",
      "[Parallel(n_jobs=-1)]: Done  39 out of  54 | elapsed:   28.8s remaining:   11.1s\n",
      "[Parallel(n_jobs=-1)]: Done  54 out of  54 | elapsed:   30.7s finished\n"
     ]
    },
    {
     "name": "stdout",
     "output_type": "stream",
     "text": [
      "CPU times: user 2.89 s, sys: 8.47 s, total: 11.4 s\n",
      "Wall time: 31.1 s\n"
     ]
    }
   ],
   "source": [
    "%%time \n",
    "\n",
    "param_grid = {\"method\": [\"first_order\", \"second_order\"],\n",
    "              \"reg_lambda\": [0.05, 0.1, 0.2], \n",
    "              \"reg_gamma\": np.logspace(-1, 1, 3)}\n",
    "grid = GridSearchCV(SimRegressor(degree=2, knot_num=20, random_state=0), \n",
    "                    cv=KFold(3, shuffle=True, random_state=0), param_grid=param_grid, n_jobs=-1, verbose=2, error_score=np.nan)\n",
    "grid.fit(x, y)"
   ]
  },
  {
   "cell_type": "code",
   "execution_count": 4,
   "metadata": {},
   "outputs": [
    {
     "data": {
      "text/plain": [
       "{'method': 'first_order', 'reg_gamma': 1.0, 'reg_lambda': 0.05}"
      ]
     },
     "execution_count": 4,
     "metadata": {},
     "output_type": "execute_result"
    }
   ],
   "source": [
    "grid.best_params_"
   ]
  },
  {
   "cell_type": "markdown",
   "metadata": {},
   "source": [
    "**NB**: The first-order Setin's method is selected, as $\\mathbb{E}[f^{\\prime\\prime}(u)]=0$. Therefore, the second order method cannot provide any information about the projection coefficients. "
   ]
  },
  {
   "cell_type": "markdown",
   "metadata": {},
   "source": [
    "In this case, the first-order Setin's method is selected. "
   ]
  },
  {
   "cell_type": "code",
   "execution_count": 5,
   "metadata": {},
   "outputs": [
    {
     "data": {
      "text/plain": [
       "SimRegressor(degree=2, knot_num=20, method='first_order', random_state=0,\n",
       "             reg_gamma=1.0, reg_lambda=0.05)"
      ]
     },
     "execution_count": 5,
     "metadata": {},
     "output_type": "execute_result"
    }
   ],
   "source": [
    "clf = grid.best_estimator_\n",
    "clf"
   ]
  },
  {
   "cell_type": "code",
   "execution_count": 6,
   "metadata": {},
   "outputs": [
    {
     "data": {
      "image/png": "[encoded data removed]",
      "text/plain": [
       "<Figure size 432x288 with 1 Axes>"
      ]
     },
     "metadata": {
      "needs_background": "light"
     },
     "output_type": "display_data"
    }
   ],
   "source": [
    "plt.plot(clf.beta_, \"o\")\n",
    "plt.plot(beta, \"o\")\n",
    "plt.legend([\"Estimated\", \"Ground Truth\"])\n",
    "plt.show()"
   ]
  },
  {
   "cell_type": "code",
   "execution_count": 7,
   "metadata": {
    "scrolled": true
   },
   "outputs": [
    {
     "ename": "AttributeError",
     "evalue": "'SimRegressor' object has no attribute 'shape_fit'",
     "output_type": "error",
     "traceback": [
      "\u001b[0;31m---------------------------------------------------------------------------\u001b[0m",
      "\u001b[0;31mAttributeError\u001b[0m                            Traceback (most recent call last)",
      "\u001b[0;32m<ipython-input-7-29b3de2e3d13>\u001b[0m in \u001b[0;36m<module>\u001b[0;34m\u001b[0m\n\u001b[0;32m----> 1\u001b[0;31m \u001b[0mclf\u001b[0m\u001b[0;34m.\u001b[0m\u001b[0mvisualize\u001b[0m\u001b[0;34m(\u001b[0m\u001b[0;34m)\u001b[0m\u001b[0;34m\u001b[0m\u001b[0;34m\u001b[0m\u001b[0m\n\u001b[0m\u001b[1;32m      2\u001b[0m \u001b[0mplt\u001b[0m\u001b[0;34m.\u001b[0m\u001b[0mshow\u001b[0m\u001b[0;34m(\u001b[0m\u001b[0;34m)\u001b[0m\u001b[0;34m\u001b[0m\u001b[0;34m\u001b[0m\u001b[0m\n",
      "\u001b[0;32m~/anaconda2_local/envs/tf2/lib/python3.6/site-packages/pysim/pysim.py\u001b[0m in \u001b[0;36mvisualize\u001b[0;34m(self)\u001b[0m\n\u001b[1;32m    137\u001b[0m         \u001b[0max1_density\u001b[0m \u001b[0;34m=\u001b[0m \u001b[0mplt\u001b[0m\u001b[0;34m.\u001b[0m\u001b[0mSubplot\u001b[0m\u001b[0;34m(\u001b[0m\u001b[0mfig\u001b[0m\u001b[0;34m,\u001b[0m \u001b[0minner\u001b[0m\u001b[0;34m[\u001b[0m\u001b[0;36m1\u001b[0m\u001b[0;34m]\u001b[0m\u001b[0;34m)\u001b[0m\u001b[0;34m\u001b[0m\u001b[0;34m\u001b[0m\u001b[0m\n\u001b[1;32m    138\u001b[0m         \u001b[0mxint\u001b[0m \u001b[0;34m=\u001b[0m \u001b[0;34m(\u001b[0m\u001b[0;34m(\u001b[0m\u001b[0mnp\u001b[0m\u001b[0;34m.\u001b[0m\u001b[0marray\u001b[0m\u001b[0;34m(\u001b[0m\u001b[0mself\u001b[0m\u001b[0;34m.\u001b[0m\u001b[0mshape_fit_\u001b[0m\u001b[0;34m.\u001b[0m\u001b[0mbins_\u001b[0m\u001b[0;34m[\u001b[0m\u001b[0;36m1\u001b[0m\u001b[0;34m:\u001b[0m\u001b[0;34m]\u001b[0m\u001b[0;34m)\u001b[0m \u001b[0;34m+\u001b[0m \u001b[0mnp\u001b[0m\u001b[0;34m.\u001b[0m\u001b[0marray\u001b[0m\u001b[0;34m(\u001b[0m\u001b[0mself\u001b[0m\u001b[0;34m.\u001b[0m\u001b[0mshape_fit_\u001b[0m\u001b[0;34m.\u001b[0m\u001b[0mbins_\u001b[0m\u001b[0;34m[\u001b[0m\u001b[0;34m:\u001b[0m\u001b[0;34m-\u001b[0m\u001b[0;36m1\u001b[0m\u001b[0;34m]\u001b[0m\u001b[0;34m)\u001b[0m\u001b[0;34m)\u001b[0m \u001b[0;34m/\u001b[0m \u001b[0;36m2\u001b[0m\u001b[0;34m)\u001b[0m\u001b[0;34m.\u001b[0m\u001b[0mreshape\u001b[0m\u001b[0;34m(\u001b[0m\u001b[0;34m[\u001b[0m\u001b[0;34m-\u001b[0m\u001b[0;36m1\u001b[0m\u001b[0;34m,\u001b[0m \u001b[0;36m1\u001b[0m\u001b[0;34m]\u001b[0m\u001b[0;34m)\u001b[0m\u001b[0;34m.\u001b[0m\u001b[0mreshape\u001b[0m\u001b[0;34m(\u001b[0m\u001b[0;34m[\u001b[0m\u001b[0;34m-\u001b[0m\u001b[0;36m1\u001b[0m\u001b[0;34m]\u001b[0m\u001b[0;34m)\u001b[0m\u001b[0;34m\u001b[0m\u001b[0;34m\u001b[0m\u001b[0m\n\u001b[0;32m--> 139\u001b[0;31m         \u001b[0max1_density\u001b[0m\u001b[0;34m.\u001b[0m\u001b[0mbar\u001b[0m\u001b[0;34m(\u001b[0m\u001b[0mxint\u001b[0m\u001b[0;34m,\u001b[0m \u001b[0mself\u001b[0m\u001b[0;34m.\u001b[0m\u001b[0mshape_fit\u001b[0m\u001b[0;34m.\u001b[0m\u001b[0mdensity_\u001b[0m\u001b[0;34m,\u001b[0m \u001b[0mwidth\u001b[0m\u001b[0;34m=\u001b[0m\u001b[0mxint\u001b[0m\u001b[0;34m[\u001b[0m\u001b[0;36m1\u001b[0m\u001b[0;34m]\u001b[0m \u001b[0;34m-\u001b[0m \u001b[0mxint\u001b[0m\u001b[0;34m[\u001b[0m\u001b[0;36m0\u001b[0m\u001b[0;34m]\u001b[0m\u001b[0;34m)\u001b[0m\u001b[0;34m\u001b[0m\u001b[0;34m\u001b[0m\u001b[0m\n\u001b[0m\u001b[1;32m    140\u001b[0m         \u001b[0max1_main\u001b[0m\u001b[0;34m.\u001b[0m\u001b[0mget_shared_x_axes\u001b[0m\u001b[0;34m(\u001b[0m\u001b[0;34m)\u001b[0m\u001b[0;34m.\u001b[0m\u001b[0mjoin\u001b[0m\u001b[0;34m(\u001b[0m\u001b[0max1_main\u001b[0m\u001b[0;34m,\u001b[0m \u001b[0max1_density\u001b[0m\u001b[0;34m)\u001b[0m\u001b[0;34m\u001b[0m\u001b[0;34m\u001b[0m\u001b[0m\n\u001b[1;32m    141\u001b[0m         \u001b[0max1_density\u001b[0m\u001b[0;34m.\u001b[0m\u001b[0mset_yticklabels\u001b[0m\u001b[0;34m(\u001b[0m\u001b[0;34m[\u001b[0m\u001b[0;34m]\u001b[0m\u001b[0;34m)\u001b[0m\u001b[0;34m\u001b[0m\u001b[0;34m\u001b[0m\u001b[0m\n",
      "\u001b[0;31mAttributeError\u001b[0m: 'SimRegressor' object has no attribute 'shape_fit'"
     ]
    },
    {
     "data": {
      "image/png": "[encoded data removed]",
      "text/plain": [
       "<Figure size 864x288 with 1 Axes>"
      ]
     },
     "metadata": {
      "needs_background": "light"
     },
     "output_type": "display_data"
    }
   ],
   "source": [
    "clf.visualize()\n",
    "plt.show()"
   ]
  },
  {
   "cell_type": "markdown",
   "metadata": {},
   "source": [
    "## Case 2: Quadratic Ridge Function"
   ]
  },
  {
   "cell_type": "markdown",
   "metadata": {},
   "source": [
    "- covariates: $x\\sim N(0, 0.3^2)$\n",
    "- ridge function: $ f(u) = u^{2} $\n",
    "- projection: $ u = \\beta^{T} x $, where $\\beta$ has 5 non-zero entries\n",
    "- noise: $N(0, 1)$\n",
    "- sample size: 10000\n",
    "- feature size: 100"
   ]
  },
  {
   "cell_type": "code",
   "execution_count": null,
   "metadata": {
    "scrolled": true
   },
   "outputs": [],
   "source": [
    "s_star = 5\n",
    "n_features = 100\n",
    "n_samples = 10000\n",
    "\n",
    "np.random.seed(0)\n",
    "beta = np.zeros(n_features)\n",
    "supp_ids = np.random.choice(n_features, s_star)\n",
    "beta[supp_ids]=np.random.choice((-1, 1), s_star) / np.sqrt(s_star)\n",
    "\n",
    "x = np.random.normal(0, 0.3, size=(n_samples, n_features))\n",
    "y = np.dot(x, beta) ** 2 + np.random.randn(n_samples)"
   ]
  },
  {
   "cell_type": "code",
   "execution_count": null,
   "metadata": {
    "scrolled": true
   },
   "outputs": [],
   "source": [
    "%%time \n",
    "\n",
    "param_grid = {\"method\": [\"first_order\", \"second_order\"],\n",
    "              \"reg_lambda\": [0.02, 0.05, 0.1], \n",
    "              \"reg_gamma\": np.logspace(-2, 2, 5)}\n",
    "grid = GridSearchCV(SimRegressor(degree=2, knot_num=20, random_state=0), \n",
    "                    cv=KFold(3, shuffle=True, random_state=0), param_grid=param_grid, n_jobs=-1, verbose=2, error_score=np.nan)\n",
    "grid.fit(x, y)"
   ]
  },
  {
   "cell_type": "code",
   "execution_count": null,
   "metadata": {},
   "outputs": [],
   "source": [
    "grid.best_params_"
   ]
  },
  {
   "cell_type": "markdown",
   "metadata": {},
   "source": [
    "**NB**: The second-order Setin's method is selected, as $\\mathbb{E}[f^{\\prime}(u)]=0$. Therefore, the first order method cannot provide any information about the projection coefficients. "
   ]
  },
  {
   "cell_type": "code",
   "execution_count": null,
   "metadata": {},
   "outputs": [],
   "source": [
    "clf = grid.best_estimator_\n",
    "clf"
   ]
  },
  {
   "cell_type": "code",
   "execution_count": null,
   "metadata": {},
   "outputs": [],
   "source": [
    "plt.plot(clf.beta_, \"o\")\n",
    "plt.plot(beta, \"o\")\n",
    "plt.legend([\"Estimated\", \"Ground Truth\"])\n",
    "plt.show()"
   ]
  },
  {
   "cell_type": "code",
   "execution_count": null,
   "metadata": {},
   "outputs": [],
   "source": [
    "clf.visualize()"
   ]
  }
 ],
 "metadata": {
  "kernelspec": {
   "display_name": "Python (tf2)",
   "language": "python",
   "name": "tf2"
  },
  "language_info": {
   "codemirror_mode": {
    "name": "ipython",
    "version": 3
   },
   "file_extension": ".py",
   "mimetype": "text/x-python",
   "name": "python",
   "nbconvert_exporter": "python",
   "pygments_lexer": "ipython3",
   "version": "3.6.8"
  }
 },
 "nbformat": 4,
 "nbformat_minor": 2
}
