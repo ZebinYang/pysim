{
 "cells": [
  {
   "cell_type": "markdown",
   "metadata": {},
   "source": [
    "## SIM Training by Stein's Method"
   ]
  },
  {
   "cell_type": "code",
   "execution_count": 1,
   "metadata": {
    "ExecuteTime": {
     "end_time": "2020-05-14T08:19:40.455142Z",
     "start_time": "2020-05-14T08:19:36.947664Z"
    }
   },
   "outputs": [],
   "source": [
    "import numpy as np\n",
    "from matplotlib import pylab as plt\n",
    "from sklearn.model_selection import KFold\n",
    "from sklearn.model_selection import GridSearchCV\n",
    "from sklearn.preprocessing import MinMaxScaler\n",
    "from sklearn.metrics import make_scorer, mean_squared_error\n",
    "\n",
    "from pysim import SimRegressor"
   ]
  },
  {
   "cell_type": "markdown",
   "metadata": {},
   "source": [
    "## pySIM - A python package for Sparse SIM "
   ]
  },
  {
   "cell_type": "markdown",
   "metadata": {},
   "source": [
    "**To install**:\n",
    "    \n",
    "```sheel\n",
    "    pip install git+https://github.com/Zebinyang/pysim.git\n",
    "```\n",
    "\n",
    "Note pysim will call the R package fps (https://github.com/vqv/fps) using rpy2 interface. "
   ]
  },
  {
   "cell_type": "markdown",
   "metadata": {},
   "source": [
    "**Usage**"
   ]
  },
  {
   "cell_type": "markdown",
   "metadata": {},
   "source": [
    "```python\n",
    "from pysim import SimRegressor\n",
    "clf = SimRegressor(method=\"first_order\", reg_lambda=0.1, reg_gamma=10, knot_num=20, knot_dist=\"uniform\", degree=2, random_state=0)\n",
    "## clf.fit(x, y)\n",
    "```"
   ]
  },
  {
   "cell_type": "markdown",
   "metadata": {},
   "source": [
    "**Hyperparameters**\n",
    "\n",
    "- method: the base method for estimating the projection coefficients in sparse SIM. default=\"first_order\"\n",
    "\n",
    "        \"first_order\": First-order Stein's Identity via sparse PCA solver\n",
    "\n",
    "        \"second_order\": Second-order Stein's Identity via sparse PCA solver\n",
    "\n",
    "        \"first_order_thres\": First-order Stein's Identity via hard thresholding (A simplified verison)        \n",
    "    \n",
    "- reg_lambda: The regularization strength of sparsity of beta. default=0.1, from 0 to 1 \n",
    "\n",
    "- reg_gamma: The regularization strength of the spline algorithm. default=10, from 0 to $+\\infty$\n",
    "\n",
    "- degree: The order of the spline basis. default=2\n",
    "\n",
    "- knot_num: The number of knots. default=20\n",
    "\n",
    "- knot_dist: The method of specifying the knots. default=\"uniform\"\n",
    "\n",
    "        \"uniform\": uniformly over the domain\n",
    "        \n",
    "        \"quantile\": uniform quantiles of the given input data\n",
    "\n",
    "- random_state: the random seed. default=0"
   ]
  },
  {
   "cell_type": "markdown",
   "metadata": {},
   "source": [
    "# Case 1: Sine Ridge Function"
   ]
  },
  {
   "cell_type": "code",
   "execution_count": 23,
   "metadata": {
    "ExecuteTime": {
     "end_time": "2020-05-14T08:21:49.918923Z",
     "start_time": "2020-05-14T08:21:49.863823Z"
    },
    "scrolled": true
   },
   "outputs": [],
   "source": [
    "s_star = 5\n",
    "n_features = 100\n",
    "n_samples = 10000\n",
    "\n",
    "np.random.seed(1)\n",
    "beta = np.zeros(n_features)\n",
    "supp_ids = np.random.choice(n_features, s_star)\n",
    "beta[supp_ids]=np.random.choice((-1, 1), s_star) / np.sqrt(s_star)\n",
    "\n",
    "x = np.random.normal(0, 0.3, size=(n_samples, n_features))\n",
    "y = np.sin(np.pi*(np.dot(x, beta))) + 0.1 * np.random.randn(n_samples)"
   ]
  },
  {
   "cell_type": "markdown",
   "metadata": {},
   "source": [
    "The best hyperparameter combination can be selected via cross-validation"
   ]
  },
  {
   "cell_type": "code",
   "execution_count": 41,
   "metadata": {
    "ExecuteTime": {
     "end_time": "2020-05-14T08:25:15.775960Z",
     "start_time": "2020-05-14T08:25:11.903457Z"
    },
    "scrolled": true
   },
   "outputs": [
    {
     "name": "stdout",
     "output_type": "stream",
     "text": [
      "Fitting 3 folds for each of 100 candidates, totalling 300 fits\n"
     ]
    },
    {
     "name": "stderr",
     "output_type": "stream",
     "text": [
      "[Parallel(n_jobs=-1)]: Using backend LokyBackend with 64 concurrent workers.\n",
      "[Parallel(n_jobs=-1)]: Done  34 tasks      | elapsed:    0.8s\n",
      "[Parallel(n_jobs=-1)]: Done 300 out of 300 | elapsed:    3.4s finished\n",
      "/home/r7user1/anaconda2_local/envs/tf2/lib/python3.6/site-packages/sklearn/model_selection/_search.py:823: FutureWarning: The parameter 'iid' is deprecated in 0.22 and will be removed in 0.24.\n",
      "  \"removed in 0.24.\", FutureWarning\n"
     ]
    },
    {
     "name": "stdout",
     "output_type": "stream",
     "text": [
      "CPU times: user 8.85 s, sys: 17.6 s, total: 26.5 s\n",
      "Wall time: 3.86 s\n"
     ]
    }
   ],
   "source": [
    "%%time \n",
    "\n",
    "param_grid = {\"method\": [\"first_order\", \"second_order\"],\n",
    "              \"knot_dist\": [\"uniform\", \"quantile\"],\n",
    "              \"reg_lambda\": [0.1, 0.2, 0.3, 0.4, 0.5], \n",
    "              \"reg_gamma\": [0.1, 0.2, 0.3, 0.4, 0.5]}\n",
    "grid = GridSearchCV(SimRegressor(degree=2, knot_num=20, spline=\"mono_p_spline\", random_state=0), iid=False,\n",
    "                    cv=KFold(3, shuffle=True, random_state=0), param_grid=param_grid, n_jobs=-1, verbose=2, error_score=np.nan)\n",
    "grid.fit(x, y)"
   ]
  },
  {
   "cell_type": "code",
   "execution_count": 48,
   "metadata": {
    "ExecuteTime": {
     "end_time": "2020-05-14T08:27:13.329855Z",
     "start_time": "2020-05-14T08:27:13.088941Z"
    }
   },
   "outputs": [
    {
     "data": {
      "text/plain": [
       "LinearGAM(callbacks=[Deviance(), Diffs()], fit_intercept=True, \n",
       "   max_iter=100, scale=None, terms=s(0) + intercept, tol=0.0001, \n",
       "   verbose=False)"
      ]
     },
     "execution_count": 48,
     "metadata": {},
     "output_type": "execute_result"
    }
   ],
   "source": [
    "from pygam import LinearGAM, LogisticGAM, s\n",
    "\n",
    "ps_ = LinearGAM(s(0, basis=\"ps\", n_splines=20, spline_order=2,\n",
    "                             lam=1, constraints='monotonic_inc'))\n",
    "ps_.fit(np.dot(x, beta), y)"
   ]
  },
  {
   "cell_type": "code",
   "execution_count": 52,
   "metadata": {
    "ExecuteTime": {
     "end_time": "2020-05-14T08:27:36.469291Z",
     "start_time": "2020-05-14T08:27:36.252561Z"
    }
   },
   "outputs": [
    {
     "data": {
      "text/plain": [
       "[<matplotlib.lines.Line2D at 0x7f596456f208>]"
      ]
     },
     "execution_count": 52,
     "metadata": {},
     "output_type": "execute_result"
    },
    {
     "data": {
      "image/png": "[encoded data removed]",
      "text/plain": [
       "<Figure size 432x288 with 1 Axes>"
      ]
     },
     "metadata": {
      "needs_background": "light"
     },
     "output_type": "display_data"
    }
   ],
   "source": [
    "plt.plot(ps_.partial_dependence(0))"
   ]
  },
  {
   "cell_type": "code",
   "execution_count": 46,
   "metadata": {
    "ExecuteTime": {
     "end_time": "2020-05-14T08:25:34.914474Z",
     "start_time": "2020-05-14T08:25:34.887792Z"
    }
   },
   "outputs": [
    {
     "data": {
      "text/plain": [
       "{'mean_fit_time': array([0.5492626 , 0.6216042 , 0.55296779, 0.58261108, 0.64636811,\n",
       "        0.62894471, 0.62775278, 0.58114521, 0.59542632, 0.62995036,\n",
       "        0.57577864, 0.58114417, 0.60267758, 0.57207982, 0.57362429,\n",
       "        0.6198229 , 0.57246923, 0.54240584, 0.52422682, 0.5438656 ,\n",
       "        0.52190264, 0.46577525, 0.44746725, 0.44877036, 0.45916549,\n",
       "        0.70871671, 0.73767058, 0.70098917, 0.55241712, 0.58565998,\n",
       "        0.74681568, 0.82007551, 0.72662926, 0.55609377, 0.61361305,\n",
       "        0.7958885 , 0.72836439, 0.70846661, 0.62700796, 0.63575522,\n",
       "        0.77899003, 0.76984469, 0.72902664, 0.61691753, 0.64180064,\n",
       "        0.72226183, 0.77680643, 0.71659795, 0.56634768, 0.64057962,\n",
       "        0.49480645, 0.47694691, 0.49406266, 0.51713451, 0.51025788,\n",
       "        0.50993681, 0.50538373, 0.513146  , 0.50079767, 0.52645445,\n",
       "        0.50192746, 0.48378086, 0.515143  , 0.48718596, 0.52582288,\n",
       "        0.50572538, 0.48364131, 0.47578025, 0.48976413, 0.48813693,\n",
       "        0.4946301 , 0.4905258 , 0.46574299, 0.51131082, 0.49840999,\n",
       "        0.72995512, 0.75686797, 0.69176356, 0.56264091, 0.59595497,\n",
       "        0.73510178, 0.73889105, 0.69501599, 0.5865291 , 0.60286554,\n",
       "        0.70986096, 0.70004233, 0.67436632, 0.56219117, 0.58553425,\n",
       "        0.66374636, 0.65019377, 0.59878286, 0.53361042, 0.53656395,\n",
       "        0.61811264, 0.56245478, 0.49936581, 0.41569273, 0.42776418]),\n",
       " 'std_fit_time': array([0.07858164, 0.04636756, 0.02070451, 0.00428732, 0.01512785,\n",
       "        0.03306425, 0.06015362, 0.02164657, 0.04832341, 0.05648839,\n",
       "        0.01276437, 0.02430764, 0.03862837, 0.02975997, 0.03878773,\n",
       "        0.02443605, 0.03823716, 0.03253294, 0.00815222, 0.00363569,\n",
       "        0.02872848, 0.01463157, 0.04678931, 0.01725816, 0.02662813,\n",
       "        0.07502557, 0.03924948, 0.06984813, 0.00898337, 0.04034516,\n",
       "        0.04451148, 0.02960262, 0.06775277, 0.05257183, 0.05045827,\n",
       "        0.01125803, 0.0294188 , 0.01630794, 0.06746312, 0.01682025,\n",
       "        0.0134408 , 0.01230804, 0.027702  , 0.04915713, 0.01594337,\n",
       "        0.04402544, 0.02266452, 0.04215886, 0.04960048, 0.05152155,\n",
       "        0.00573525, 0.02222826, 0.00919823, 0.02977654, 0.00953469,\n",
       "        0.00120793, 0.02155536, 0.01840481, 0.03021288, 0.02853377,\n",
       "        0.02307085, 0.03103408, 0.03051538, 0.02772627, 0.01776666,\n",
       "        0.01879139, 0.05024638, 0.01272439, 0.01001137, 0.02202615,\n",
       "        0.04144013, 0.01473346, 0.01456816, 0.01340614, 0.01023773,\n",
       "        0.05012855, 0.0447529 , 0.0499652 , 0.02617023, 0.05202164,\n",
       "        0.04784873, 0.0389095 , 0.05709016, 0.0335407 , 0.03129243,\n",
       "        0.00797676, 0.02201574, 0.03464139, 0.02437303, 0.04002113,\n",
       "        0.02151002, 0.02806309, 0.0295809 , 0.03378301, 0.04013202,\n",
       "        0.02058298, 0.01805212, 0.02816507, 0.02731989, 0.01919062]),\n",
       " 'mean_score_time': array([0.01099261, 0.01330336, 0.01172765, 0.01230232, 0.01278679,\n",
       "        0.01326632, 0.01087721, 0.01302608, 0.01307877, 0.012151  ,\n",
       "        0.01354512, 0.01265343, 0.0128599 , 0.00975561, 0.01326712,\n",
       "        0.01249743, 0.01153922, 0.01200732, 0.01220655, 0.01089636,\n",
       "        0.00934283, 0.00980846, 0.00973225, 0.01034427, 0.01248678,\n",
       "        0.01011554, 0.01108249, 0.01221434, 0.01064793, 0.01013613,\n",
       "        0.01148884, 0.012055  , 0.01536632, 0.01116649, 0.01135858,\n",
       "        0.01263579, 0.01222825, 0.01114901, 0.01089541, 0.01074211,\n",
       "        0.01182723, 0.01302393, 0.01206112, 0.01146722, 0.01219893,\n",
       "        0.01156537, 0.01119677, 0.01232767, 0.00988762, 0.0122203 ,\n",
       "        0.01229437, 0.01183629, 0.01069276, 0.01159906, 0.01299055,\n",
       "        0.01388232, 0.01006993, 0.00952196, 0.01094309, 0.01066955,\n",
       "        0.00995024, 0.0102636 , 0.01180291, 0.01177478, 0.01063625,\n",
       "        0.01698327, 0.01023976, 0.00949915, 0.01038726, 0.01103258,\n",
       "        0.01056488, 0.00948016, 0.01124994, 0.01043431, 0.01169594,\n",
       "        0.01052149, 0.00994627, 0.01131487, 0.00938312, 0.01056592,\n",
       "        0.01075792, 0.00877015, 0.00881863, 0.01043709, 0.01187412,\n",
       "        0.00889309, 0.00796374, 0.00844089, 0.01041396, 0.00778739,\n",
       "        0.00630363, 0.00615978, 0.00803018, 0.00760444, 0.00667191,\n",
       "        0.00613499, 0.00578809, 0.00590913, 0.00612879, 0.00621065]),\n",
       " 'std_score_time': array([0.001382  , 0.00172844, 0.0020108 , 0.00119911, 0.00058449,\n",
       "        0.00098648, 0.00115444, 0.00138119, 0.00106022, 0.00121859,\n",
       "        0.00051196, 0.00146103, 0.00110481, 0.00137675, 0.00119722,\n",
       "        0.00307074, 0.0016874 , 0.00044585, 0.00297664, 0.00050146,\n",
       "        0.00159265, 0.00061078, 0.00044739, 0.00109928, 0.0028162 ,\n",
       "        0.0021876 , 0.00114071, 0.00204583, 0.00177951, 0.00148945,\n",
       "        0.00104553, 0.00062925, 0.00477341, 0.00090912, 0.00074101,\n",
       "        0.00030252, 0.00036945, 0.00037736, 0.00137441, 0.00263605,\n",
       "        0.00140072, 0.00136715, 0.00130244, 0.00096639, 0.00039281,\n",
       "        0.00099168, 0.00095499, 0.00213635, 0.00116579, 0.00118957,\n",
       "        0.00116789, 0.00057352, 0.00038949, 0.0014749 , 0.00142017,\n",
       "        0.0003906 , 0.00198868, 0.00222535, 0.00092795, 0.00284946,\n",
       "        0.00186177, 0.00229528, 0.00250708, 0.00154221, 0.00031494,\n",
       "        0.00965536, 0.00109942, 0.000304  , 0.00054419, 0.00134767,\n",
       "        0.00112365, 0.00073035, 0.00035866, 0.00076248, 0.00049723,\n",
       "        0.00040818, 0.00054625, 0.00081589, 0.00071213, 0.00103561,\n",
       "        0.00106103, 0.00189155, 0.00200791, 0.00037253, 0.00028338,\n",
       "        0.00210728, 0.00196243, 0.00260904, 0.00106341, 0.00183626,\n",
       "        0.00062883, 0.00040272, 0.00211146, 0.00099404, 0.00041494,\n",
       "        0.00038244, 0.00022125, 0.00046448, 0.00033703, 0.00020614]),\n",
       " 'param_knot_dist': masked_array(data=['uniform', 'uniform', 'uniform', 'uniform', 'uniform',\n",
       "                    'uniform', 'uniform', 'uniform', 'uniform', 'uniform',\n",
       "                    'uniform', 'uniform', 'uniform', 'uniform', 'uniform',\n",
       "                    'uniform', 'uniform', 'uniform', 'uniform', 'uniform',\n",
       "                    'uniform', 'uniform', 'uniform', 'uniform', 'uniform',\n",
       "                    'uniform', 'uniform', 'uniform', 'uniform', 'uniform',\n",
       "                    'uniform', 'uniform', 'uniform', 'uniform', 'uniform',\n",
       "                    'uniform', 'uniform', 'uniform', 'uniform', 'uniform',\n",
       "                    'uniform', 'uniform', 'uniform', 'uniform', 'uniform',\n",
       "                    'uniform', 'uniform', 'uniform', 'uniform', 'uniform',\n",
       "                    'quantile', 'quantile', 'quantile', 'quantile',\n",
       "                    'quantile', 'quantile', 'quantile', 'quantile',\n",
       "                    'quantile', 'quantile', 'quantile', 'quantile',\n",
       "                    'quantile', 'quantile', 'quantile', 'quantile',\n",
       "                    'quantile', 'quantile', 'quantile', 'quantile',\n",
       "                    'quantile', 'quantile', 'quantile', 'quantile',\n",
       "                    'quantile', 'quantile', 'quantile', 'quantile',\n",
       "                    'quantile', 'quantile', 'quantile', 'quantile',\n",
       "                    'quantile', 'quantile', 'quantile', 'quantile',\n",
       "                    'quantile', 'quantile', 'quantile', 'quantile',\n",
       "                    'quantile', 'quantile', 'quantile', 'quantile',\n",
       "                    'quantile', 'quantile', 'quantile', 'quantile',\n",
       "                    'quantile', 'quantile'],\n",
       "              mask=[False, False, False, False, False, False, False, False,\n",
       "                    False, False, False, False, False, False, False, False,\n",
       "                    False, False, False, False, False, False, False, False,\n",
       "                    False, False, False, False, False, False, False, False,\n",
       "                    False, False, False, False, False, False, False, False,\n",
       "                    False, False, False, False, False, False, False, False,\n",
       "                    False, False, False, False, False, False, False, False,\n",
       "                    False, False, False, False, False, False, False, False,\n",
       "                    False, False, False, False, False, False, False, False,\n",
       "                    False, False, False, False, False, False, False, False,\n",
       "                    False, False, False, False, False, False, False, False,\n",
       "                    False, False, False, False, False, False, False, False,\n",
       "                    False, False, False, False],\n",
       "        fill_value='?',\n",
       "             dtype=object),\n",
       " 'param_method': masked_array(data=['first_order', 'first_order', 'first_order',\n",
       "                    'first_order', 'first_order', 'first_order',\n",
       "                    'first_order', 'first_order', 'first_order',\n",
       "                    'first_order', 'first_order', 'first_order',\n",
       "                    'first_order', 'first_order', 'first_order',\n",
       "                    'first_order', 'first_order', 'first_order',\n",
       "                    'first_order', 'first_order', 'first_order',\n",
       "                    'first_order', 'first_order', 'first_order',\n",
       "                    'first_order', 'second_order', 'second_order',\n",
       "                    'second_order', 'second_order', 'second_order',\n",
       "                    'second_order', 'second_order', 'second_order',\n",
       "                    'second_order', 'second_order', 'second_order',\n",
       "                    'second_order', 'second_order', 'second_order',\n",
       "                    'second_order', 'second_order', 'second_order',\n",
       "                    'second_order', 'second_order', 'second_order',\n",
       "                    'second_order', 'second_order', 'second_order',\n",
       "                    'second_order', 'second_order', 'first_order',\n",
       "                    'first_order', 'first_order', 'first_order',\n",
       "                    'first_order', 'first_order', 'first_order',\n",
       "                    'first_order', 'first_order', 'first_order',\n",
       "                    'first_order', 'first_order', 'first_order',\n",
       "                    'first_order', 'first_order', 'first_order',\n",
       "                    'first_order', 'first_order', 'first_order',\n",
       "                    'first_order', 'first_order', 'first_order',\n",
       "                    'first_order', 'first_order', 'first_order',\n",
       "                    'second_order', 'second_order', 'second_order',\n",
       "                    'second_order', 'second_order', 'second_order',\n",
       "                    'second_order', 'second_order', 'second_order',\n",
       "                    'second_order', 'second_order', 'second_order',\n",
       "                    'second_order', 'second_order', 'second_order',\n",
       "                    'second_order', 'second_order', 'second_order',\n",
       "                    'second_order', 'second_order', 'second_order',\n",
       "                    'second_order', 'second_order', 'second_order',\n",
       "                    'second_order'],\n",
       "              mask=[False, False, False, False, False, False, False, False,\n",
       "                    False, False, False, False, False, False, False, False,\n",
       "                    False, False, False, False, False, False, False, False,\n",
       "                    False, False, False, False, False, False, False, False,\n",
       "                    False, False, False, False, False, False, False, False,\n",
       "                    False, False, False, False, False, False, False, False,\n",
       "                    False, False, False, False, False, False, False, False,\n",
       "                    False, False, False, False, False, False, False, False,\n",
       "                    False, False, False, False, False, False, False, False,\n",
       "                    False, False, False, False, False, False, False, False,\n",
       "                    False, False, False, False, False, False, False, False,\n",
       "                    False, False, False, False, False, False, False, False,\n",
       "                    False, False, False, False],\n",
       "        fill_value='?',\n",
       "             dtype=object),\n",
       " 'param_reg_gamma': masked_array(data=[0.1, 0.1, 0.1, 0.1, 0.1, 0.2, 0.2, 0.2, 0.2, 0.2, 0.3,\n",
       "                    0.3, 0.3, 0.3, 0.3, 0.4, 0.4, 0.4, 0.4, 0.4, 0.5, 0.5,\n",
       "                    0.5, 0.5, 0.5, 0.1, 0.1, 0.1, 0.1, 0.1, 0.2, 0.2, 0.2,\n",
       "                    0.2, 0.2, 0.3, 0.3, 0.3, 0.3, 0.3, 0.4, 0.4, 0.4, 0.4,\n",
       "                    0.4, 0.5, 0.5, 0.5, 0.5, 0.5, 0.1, 0.1, 0.1, 0.1, 0.1,\n",
       "                    0.2, 0.2, 0.2, 0.2, 0.2, 0.3, 0.3, 0.3, 0.3, 0.3, 0.4,\n",
       "                    0.4, 0.4, 0.4, 0.4, 0.5, 0.5, 0.5, 0.5, 0.5, 0.1, 0.1,\n",
       "                    0.1, 0.1, 0.1, 0.2, 0.2, 0.2, 0.2, 0.2, 0.3, 0.3, 0.3,\n",
       "                    0.3, 0.3, 0.4, 0.4, 0.4, 0.4, 0.4, 0.5, 0.5, 0.5, 0.5,\n",
       "                    0.5],\n",
       "              mask=[False, False, False, False, False, False, False, False,\n",
       "                    False, False, False, False, False, False, False, False,\n",
       "                    False, False, False, False, False, False, False, False,\n",
       "                    False, False, False, False, False, False, False, False,\n",
       "                    False, False, False, False, False, False, False, False,\n",
       "                    False, False, False, False, False, False, False, False,\n",
       "                    False, False, False, False, False, False, False, False,\n",
       "                    False, False, False, False, False, False, False, False,\n",
       "                    False, False, False, False, False, False, False, False,\n",
       "                    False, False, False, False, False, False, False, False,\n",
       "                    False, False, False, False, False, False, False, False,\n",
       "                    False, False, False, False, False, False, False, False,\n",
       "                    False, False, False, False],\n",
       "        fill_value='?',\n",
       "             dtype=object),\n",
       " 'param_reg_lambda': masked_array(data=[0.1, 0.2, 0.3, 0.4, 0.5, 0.1, 0.2, 0.3, 0.4, 0.5, 0.1,\n",
       "                    0.2, 0.3, 0.4, 0.5, 0.1, 0.2, 0.3, 0.4, 0.5, 0.1, 0.2,\n",
       "                    0.3, 0.4, 0.5, 0.1, 0.2, 0.3, 0.4, 0.5, 0.1, 0.2, 0.3,\n",
       "                    0.4, 0.5, 0.1, 0.2, 0.3, 0.4, 0.5, 0.1, 0.2, 0.3, 0.4,\n",
       "                    0.5, 0.1, 0.2, 0.3, 0.4, 0.5, 0.1, 0.2, 0.3, 0.4, 0.5,\n",
       "                    0.1, 0.2, 0.3, 0.4, 0.5, 0.1, 0.2, 0.3, 0.4, 0.5, 0.1,\n",
       "                    0.2, 0.3, 0.4, 0.5, 0.1, 0.2, 0.3, 0.4, 0.5, 0.1, 0.2,\n",
       "                    0.3, 0.4, 0.5, 0.1, 0.2, 0.3, 0.4, 0.5, 0.1, 0.2, 0.3,\n",
       "                    0.4, 0.5, 0.1, 0.2, 0.3, 0.4, 0.5, 0.1, 0.2, 0.3, 0.4,\n",
       "                    0.5],\n",
       "              mask=[False, False, False, False, False, False, False, False,\n",
       "                    False, False, False, False, False, False, False, False,\n",
       "                    False, False, False, False, False, False, False, False,\n",
       "                    False, False, False, False, False, False, False, False,\n",
       "                    False, False, False, False, False, False, False, False,\n",
       "                    False, False, False, False, False, False, False, False,\n",
       "                    False, False, False, False, False, False, False, False,\n",
       "                    False, False, False, False, False, False, False, False,\n",
       "                    False, False, False, False, False, False, False, False,\n",
       "                    False, False, False, False, False, False, False, False,\n",
       "                    False, False, False, False, False, False, False, False,\n",
       "                    False, False, False, False, False, False, False, False,\n",
       "                    False, False, False, False],\n",
       "        fill_value='?',\n",
       "             dtype=object),\n",
       " 'params': [{'knot_dist': 'uniform',\n",
       "   'method': 'first_order',\n",
       "   'reg_gamma': 0.1,\n",
       "   'reg_lambda': 0.1},\n",
       "  {'knot_dist': 'uniform',\n",
       "   'method': 'first_order',\n",
       "   'reg_gamma': 0.1,\n",
       "   'reg_lambda': 0.2},\n",
       "  {'knot_dist': 'uniform',\n",
       "   'method': 'first_order',\n",
       "   'reg_gamma': 0.1,\n",
       "   'reg_lambda': 0.3},\n",
       "  {'knot_dist': 'uniform',\n",
       "   'method': 'first_order',\n",
       "   'reg_gamma': 0.1,\n",
       "   'reg_lambda': 0.4},\n",
       "  {'knot_dist': 'uniform',\n",
       "   'method': 'first_order',\n",
       "   'reg_gamma': 0.1,\n",
       "   'reg_lambda': 0.5},\n",
       "  {'knot_dist': 'uniform',\n",
       "   'method': 'first_order',\n",
       "   'reg_gamma': 0.2,\n",
       "   'reg_lambda': 0.1},\n",
       "  {'knot_dist': 'uniform',\n",
       "   'method': 'first_order',\n",
       "   'reg_gamma': 0.2,\n",
       "   'reg_lambda': 0.2},\n",
       "  {'knot_dist': 'uniform',\n",
       "   'method': 'first_order',\n",
       "   'reg_gamma': 0.2,\n",
       "   'reg_lambda': 0.3},\n",
       "  {'knot_dist': 'uniform',\n",
       "   'method': 'first_order',\n",
       "   'reg_gamma': 0.2,\n",
       "   'reg_lambda': 0.4},\n",
       "  {'knot_dist': 'uniform',\n",
       "   'method': 'first_order',\n",
       "   'reg_gamma': 0.2,\n",
       "   'reg_lambda': 0.5},\n",
       "  {'knot_dist': 'uniform',\n",
       "   'method': 'first_order',\n",
       "   'reg_gamma': 0.3,\n",
       "   'reg_lambda': 0.1},\n",
       "  {'knot_dist': 'uniform',\n",
       "   'method': 'first_order',\n",
       "   'reg_gamma': 0.3,\n",
       "   'reg_lambda': 0.2},\n",
       "  {'knot_dist': 'uniform',\n",
       "   'method': 'first_order',\n",
       "   'reg_gamma': 0.3,\n",
       "   'reg_lambda': 0.3},\n",
       "  {'knot_dist': 'uniform',\n",
       "   'method': 'first_order',\n",
       "   'reg_gamma': 0.3,\n",
       "   'reg_lambda': 0.4},\n",
       "  {'knot_dist': 'uniform',\n",
       "   'method': 'first_order',\n",
       "   'reg_gamma': 0.3,\n",
       "   'reg_lambda': 0.5},\n",
       "  {'knot_dist': 'uniform',\n",
       "   'method': 'first_order',\n",
       "   'reg_gamma': 0.4,\n",
       "   'reg_lambda': 0.1},\n",
       "  {'knot_dist': 'uniform',\n",
       "   'method': 'first_order',\n",
       "   'reg_gamma': 0.4,\n",
       "   'reg_lambda': 0.2},\n",
       "  {'knot_dist': 'uniform',\n",
       "   'method': 'first_order',\n",
       "   'reg_gamma': 0.4,\n",
       "   'reg_lambda': 0.3},\n",
       "  {'knot_dist': 'uniform',\n",
       "   'method': 'first_order',\n",
       "   'reg_gamma': 0.4,\n",
       "   'reg_lambda': 0.4},\n",
       "  {'knot_dist': 'uniform',\n",
       "   'method': 'first_order',\n",
       "   'reg_gamma': 0.4,\n",
       "   'reg_lambda': 0.5},\n",
       "  {'knot_dist': 'uniform',\n",
       "   'method': 'first_order',\n",
       "   'reg_gamma': 0.5,\n",
       "   'reg_lambda': 0.1},\n",
       "  {'knot_dist': 'uniform',\n",
       "   'method': 'first_order',\n",
       "   'reg_gamma': 0.5,\n",
       "   'reg_lambda': 0.2},\n",
       "  {'knot_dist': 'uniform',\n",
       "   'method': 'first_order',\n",
       "   'reg_gamma': 0.5,\n",
       "   'reg_lambda': 0.3},\n",
       "  {'knot_dist': 'uniform',\n",
       "   'method': 'first_order',\n",
       "   'reg_gamma': 0.5,\n",
       "   'reg_lambda': 0.4},\n",
       "  {'knot_dist': 'uniform',\n",
       "   'method': 'first_order',\n",
       "   'reg_gamma': 0.5,\n",
       "   'reg_lambda': 0.5},\n",
       "  {'knot_dist': 'uniform',\n",
       "   'method': 'second_order',\n",
       "   'reg_gamma': 0.1,\n",
       "   'reg_lambda': 0.1},\n",
       "  {'knot_dist': 'uniform',\n",
       "   'method': 'second_order',\n",
       "   'reg_gamma': 0.1,\n",
       "   'reg_lambda': 0.2},\n",
       "  {'knot_dist': 'uniform',\n",
       "   'method': 'second_order',\n",
       "   'reg_gamma': 0.1,\n",
       "   'reg_lambda': 0.3},\n",
       "  {'knot_dist': 'uniform',\n",
       "   'method': 'second_order',\n",
       "   'reg_gamma': 0.1,\n",
       "   'reg_lambda': 0.4},\n",
       "  {'knot_dist': 'uniform',\n",
       "   'method': 'second_order',\n",
       "   'reg_gamma': 0.1,\n",
       "   'reg_lambda': 0.5},\n",
       "  {'knot_dist': 'uniform',\n",
       "   'method': 'second_order',\n",
       "   'reg_gamma': 0.2,\n",
       "   'reg_lambda': 0.1},\n",
       "  {'knot_dist': 'uniform',\n",
       "   'method': 'second_order',\n",
       "   'reg_gamma': 0.2,\n",
       "   'reg_lambda': 0.2},\n",
       "  {'knot_dist': 'uniform',\n",
       "   'method': 'second_order',\n",
       "   'reg_gamma': 0.2,\n",
       "   'reg_lambda': 0.3},\n",
       "  {'knot_dist': 'uniform',\n",
       "   'method': 'second_order',\n",
       "   'reg_gamma': 0.2,\n",
       "   'reg_lambda': 0.4},\n",
       "  {'knot_dist': 'uniform',\n",
       "   'method': 'second_order',\n",
       "   'reg_gamma': 0.2,\n",
       "   'reg_lambda': 0.5},\n",
       "  {'knot_dist': 'uniform',\n",
       "   'method': 'second_order',\n",
       "   'reg_gamma': 0.3,\n",
       "   'reg_lambda': 0.1},\n",
       "  {'knot_dist': 'uniform',\n",
       "   'method': 'second_order',\n",
       "   'reg_gamma': 0.3,\n",
       "   'reg_lambda': 0.2},\n",
       "  {'knot_dist': 'uniform',\n",
       "   'method': 'second_order',\n",
       "   'reg_gamma': 0.3,\n",
       "   'reg_lambda': 0.3},\n",
       "  {'knot_dist': 'uniform',\n",
       "   'method': 'second_order',\n",
       "   'reg_gamma': 0.3,\n",
       "   'reg_lambda': 0.4},\n",
       "  {'knot_dist': 'uniform',\n",
       "   'method': 'second_order',\n",
       "   'reg_gamma': 0.3,\n",
       "   'reg_lambda': 0.5},\n",
       "  {'knot_dist': 'uniform',\n",
       "   'method': 'second_order',\n",
       "   'reg_gamma': 0.4,\n",
       "   'reg_lambda': 0.1},\n",
       "  {'knot_dist': 'uniform',\n",
       "   'method': 'second_order',\n",
       "   'reg_gamma': 0.4,\n",
       "   'reg_lambda': 0.2},\n",
       "  {'knot_dist': 'uniform',\n",
       "   'method': 'second_order',\n",
       "   'reg_gamma': 0.4,\n",
       "   'reg_lambda': 0.3},\n",
       "  {'knot_dist': 'uniform',\n",
       "   'method': 'second_order',\n",
       "   'reg_gamma': 0.4,\n",
       "   'reg_lambda': 0.4},\n",
       "  {'knot_dist': 'uniform',\n",
       "   'method': 'second_order',\n",
       "   'reg_gamma': 0.4,\n",
       "   'reg_lambda': 0.5},\n",
       "  {'knot_dist': 'uniform',\n",
       "   'method': 'second_order',\n",
       "   'reg_gamma': 0.5,\n",
       "   'reg_lambda': 0.1},\n",
       "  {'knot_dist': 'uniform',\n",
       "   'method': 'second_order',\n",
       "   'reg_gamma': 0.5,\n",
       "   'reg_lambda': 0.2},\n",
       "  {'knot_dist': 'uniform',\n",
       "   'method': 'second_order',\n",
       "   'reg_gamma': 0.5,\n",
       "   'reg_lambda': 0.3},\n",
       "  {'knot_dist': 'uniform',\n",
       "   'method': 'second_order',\n",
       "   'reg_gamma': 0.5,\n",
       "   'reg_lambda': 0.4},\n",
       "  {'knot_dist': 'uniform',\n",
       "   'method': 'second_order',\n",
       "   'reg_gamma': 0.5,\n",
       "   'reg_lambda': 0.5},\n",
       "  {'knot_dist': 'quantile',\n",
       "   'method': 'first_order',\n",
       "   'reg_gamma': 0.1,\n",
       "   'reg_lambda': 0.1},\n",
       "  {'knot_dist': 'quantile',\n",
       "   'method': 'first_order',\n",
       "   'reg_gamma': 0.1,\n",
       "   'reg_lambda': 0.2},\n",
       "  {'knot_dist': 'quantile',\n",
       "   'method': 'first_order',\n",
       "   'reg_gamma': 0.1,\n",
       "   'reg_lambda': 0.3},\n",
       "  {'knot_dist': 'quantile',\n",
       "   'method': 'first_order',\n",
       "   'reg_gamma': 0.1,\n",
       "   'reg_lambda': 0.4},\n",
       "  {'knot_dist': 'quantile',\n",
       "   'method': 'first_order',\n",
       "   'reg_gamma': 0.1,\n",
       "   'reg_lambda': 0.5},\n",
       "  {'knot_dist': 'quantile',\n",
       "   'method': 'first_order',\n",
       "   'reg_gamma': 0.2,\n",
       "   'reg_lambda': 0.1},\n",
       "  {'knot_dist': 'quantile',\n",
       "   'method': 'first_order',\n",
       "   'reg_gamma': 0.2,\n",
       "   'reg_lambda': 0.2},\n",
       "  {'knot_dist': 'quantile',\n",
       "   'method': 'first_order',\n",
       "   'reg_gamma': 0.2,\n",
       "   'reg_lambda': 0.3},\n",
       "  {'knot_dist': 'quantile',\n",
       "   'method': 'first_order',\n",
       "   'reg_gamma': 0.2,\n",
       "   'reg_lambda': 0.4},\n",
       "  {'knot_dist': 'quantile',\n",
       "   'method': 'first_order',\n",
       "   'reg_gamma': 0.2,\n",
       "   'reg_lambda': 0.5},\n",
       "  {'knot_dist': 'quantile',\n",
       "   'method': 'first_order',\n",
       "   'reg_gamma': 0.3,\n",
       "   'reg_lambda': 0.1},\n",
       "  {'knot_dist': 'quantile',\n",
       "   'method': 'first_order',\n",
       "   'reg_gamma': 0.3,\n",
       "   'reg_lambda': 0.2},\n",
       "  {'knot_dist': 'quantile',\n",
       "   'method': 'first_order',\n",
       "   'reg_gamma': 0.3,\n",
       "   'reg_lambda': 0.3},\n",
       "  {'knot_dist': 'quantile',\n",
       "   'method': 'first_order',\n",
       "   'reg_gamma': 0.3,\n",
       "   'reg_lambda': 0.4},\n",
       "  {'knot_dist': 'quantile',\n",
       "   'method': 'first_order',\n",
       "   'reg_gamma': 0.3,\n",
       "   'reg_lambda': 0.5},\n",
       "  {'knot_dist': 'quantile',\n",
       "   'method': 'first_order',\n",
       "   'reg_gamma': 0.4,\n",
       "   'reg_lambda': 0.1},\n",
       "  {'knot_dist': 'quantile',\n",
       "   'method': 'first_order',\n",
       "   'reg_gamma': 0.4,\n",
       "   'reg_lambda': 0.2},\n",
       "  {'knot_dist': 'quantile',\n",
       "   'method': 'first_order',\n",
       "   'reg_gamma': 0.4,\n",
       "   'reg_lambda': 0.3},\n",
       "  {'knot_dist': 'quantile',\n",
       "   'method': 'first_order',\n",
       "   'reg_gamma': 0.4,\n",
       "   'reg_lambda': 0.4},\n",
       "  {'knot_dist': 'quantile',\n",
       "   'method': 'first_order',\n",
       "   'reg_gamma': 0.4,\n",
       "   'reg_lambda': 0.5},\n",
       "  {'knot_dist': 'quantile',\n",
       "   'method': 'first_order',\n",
       "   'reg_gamma': 0.5,\n",
       "   'reg_lambda': 0.1},\n",
       "  {'knot_dist': 'quantile',\n",
       "   'method': 'first_order',\n",
       "   'reg_gamma': 0.5,\n",
       "   'reg_lambda': 0.2},\n",
       "  {'knot_dist': 'quantile',\n",
       "   'method': 'first_order',\n",
       "   'reg_gamma': 0.5,\n",
       "   'reg_lambda': 0.3},\n",
       "  {'knot_dist': 'quantile',\n",
       "   'method': 'first_order',\n",
       "   'reg_gamma': 0.5,\n",
       "   'reg_lambda': 0.4},\n",
       "  {'knot_dist': 'quantile',\n",
       "   'method': 'first_order',\n",
       "   'reg_gamma': 0.5,\n",
       "   'reg_lambda': 0.5},\n",
       "  {'knot_dist': 'quantile',\n",
       "   'method': 'second_order',\n",
       "   'reg_gamma': 0.1,\n",
       "   'reg_lambda': 0.1},\n",
       "  {'knot_dist': 'quantile',\n",
       "   'method': 'second_order',\n",
       "   'reg_gamma': 0.1,\n",
       "   'reg_lambda': 0.2},\n",
       "  {'knot_dist': 'quantile',\n",
       "   'method': 'second_order',\n",
       "   'reg_gamma': 0.1,\n",
       "   'reg_lambda': 0.3},\n",
       "  {'knot_dist': 'quantile',\n",
       "   'method': 'second_order',\n",
       "   'reg_gamma': 0.1,\n",
       "   'reg_lambda': 0.4},\n",
       "  {'knot_dist': 'quantile',\n",
       "   'method': 'second_order',\n",
       "   'reg_gamma': 0.1,\n",
       "   'reg_lambda': 0.5},\n",
       "  {'knot_dist': 'quantile',\n",
       "   'method': 'second_order',\n",
       "   'reg_gamma': 0.2,\n",
       "   'reg_lambda': 0.1},\n",
       "  {'knot_dist': 'quantile',\n",
       "   'method': 'second_order',\n",
       "   'reg_gamma': 0.2,\n",
       "   'reg_lambda': 0.2},\n",
       "  {'knot_dist': 'quantile',\n",
       "   'method': 'second_order',\n",
       "   'reg_gamma': 0.2,\n",
       "   'reg_lambda': 0.3},\n",
       "  {'knot_dist': 'quantile',\n",
       "   'method': 'second_order',\n",
       "   'reg_gamma': 0.2,\n",
       "   'reg_lambda': 0.4},\n",
       "  {'knot_dist': 'quantile',\n",
       "   'method': 'second_order',\n",
       "   'reg_gamma': 0.2,\n",
       "   'reg_lambda': 0.5},\n",
       "  {'knot_dist': 'quantile',\n",
       "   'method': 'second_order',\n",
       "   'reg_gamma': 0.3,\n",
       "   'reg_lambda': 0.1},\n",
       "  {'knot_dist': 'quantile',\n",
       "   'method': 'second_order',\n",
       "   'reg_gamma': 0.3,\n",
       "   'reg_lambda': 0.2},\n",
       "  {'knot_dist': 'quantile',\n",
       "   'method': 'second_order',\n",
       "   'reg_gamma': 0.3,\n",
       "   'reg_lambda': 0.3},\n",
       "  {'knot_dist': 'quantile',\n",
       "   'method': 'second_order',\n",
       "   'reg_gamma': 0.3,\n",
       "   'reg_lambda': 0.4},\n",
       "  {'knot_dist': 'quantile',\n",
       "   'method': 'second_order',\n",
       "   'reg_gamma': 0.3,\n",
       "   'reg_lambda': 0.5},\n",
       "  {'knot_dist': 'quantile',\n",
       "   'method': 'second_order',\n",
       "   'reg_gamma': 0.4,\n",
       "   'reg_lambda': 0.1},\n",
       "  {'knot_dist': 'quantile',\n",
       "   'method': 'second_order',\n",
       "   'reg_gamma': 0.4,\n",
       "   'reg_lambda': 0.2},\n",
       "  {'knot_dist': 'quantile',\n",
       "   'method': 'second_order',\n",
       "   'reg_gamma': 0.4,\n",
       "   'reg_lambda': 0.3},\n",
       "  {'knot_dist': 'quantile',\n",
       "   'method': 'second_order',\n",
       "   'reg_gamma': 0.4,\n",
       "   'reg_lambda': 0.4},\n",
       "  {'knot_dist': 'quantile',\n",
       "   'method': 'second_order',\n",
       "   'reg_gamma': 0.4,\n",
       "   'reg_lambda': 0.5},\n",
       "  {'knot_dist': 'quantile',\n",
       "   'method': 'second_order',\n",
       "   'reg_gamma': 0.5,\n",
       "   'reg_lambda': 0.1},\n",
       "  {'knot_dist': 'quantile',\n",
       "   'method': 'second_order',\n",
       "   'reg_gamma': 0.5,\n",
       "   'reg_lambda': 0.2},\n",
       "  {'knot_dist': 'quantile',\n",
       "   'method': 'second_order',\n",
       "   'reg_gamma': 0.5,\n",
       "   'reg_lambda': 0.3},\n",
       "  {'knot_dist': 'quantile',\n",
       "   'method': 'second_order',\n",
       "   'reg_gamma': 0.5,\n",
       "   'reg_lambda': 0.4},\n",
       "  {'knot_dist': 'quantile',\n",
       "   'method': 'second_order',\n",
       "   'reg_gamma': 0.5,\n",
       "   'reg_lambda': 0.5}],\n",
       " 'split0_test_score': array([-0.00022349, -0.00022422, -0.0002252 , -0.00022672, -0.00022898,\n",
       "        -0.00022516, -0.00022588, -0.00022685, -0.00022835, -0.00023058,\n",
       "        -0.00022682, -0.00022755, -0.00022851, -0.00023001, -0.00023222,\n",
       "        -0.00022844, -0.00022917, -0.00023014, -0.00023163, -0.00023382,\n",
       "        -0.00023004, -0.00023077, -0.00023174, -0.00023323, -0.0002354 ,\n",
       "        -0.00760955,  0.00046905, -0.00107577, -0.00041214, -0.00038012,\n",
       "        -0.00765412,  0.00045733, -0.00101698, -0.00041263, -0.00038263,\n",
       "        -0.00767757,  0.00045319, -0.00097793, -0.00041366, -0.00038486,\n",
       "        -0.00768948,  0.0004525 , -0.00094951, -0.00041471, -0.00038685,\n",
       "        -0.00769448,  0.00045344, -0.0009275 , -0.0004157 , -0.00038863,\n",
       "        -0.00022349, -0.00022422, -0.0002252 , -0.00022672, -0.00022898,\n",
       "        -0.00022516, -0.00022588, -0.00022685, -0.00022835, -0.00023058,\n",
       "        -0.00022682, -0.00022755, -0.00022851, -0.00023001, -0.00023222,\n",
       "        -0.00022844, -0.00022917, -0.00023014, -0.00023163, -0.00023382,\n",
       "        -0.00023004, -0.00023077, -0.00023174, -0.00023323, -0.0002354 ,\n",
       "        -0.00760955,  0.00046905, -0.00107577, -0.00041214, -0.00038012,\n",
       "        -0.00765412,  0.00045733, -0.00101698, -0.00041263, -0.00038263,\n",
       "        -0.00767757,  0.00045319, -0.00097793, -0.00041366, -0.00038486,\n",
       "        -0.00768948,  0.0004525 , -0.00094951, -0.00041471, -0.00038685,\n",
       "        -0.00769448,  0.00045344, -0.0009275 , -0.0004157 , -0.00038863]),\n",
       " 'split1_test_score': array([-8.38899963e-05, -8.38664774e-05, -8.38423870e-05, -8.38227716e-05,\n",
       "        -8.38224507e-05, -8.33095382e-05, -8.32659567e-05, -8.32158922e-05,\n",
       "        -8.31586430e-05, -8.31060531e-05, -8.28775543e-05, -8.28248838e-05,\n",
       "        -8.27629704e-05, -8.26883183e-05, -8.26111804e-05, -8.25058664e-05,\n",
       "        -8.24478799e-05, -8.23789957e-05, -8.22939717e-05, -8.22019909e-05,\n",
       "        -8.21701812e-05, -8.21086790e-05, -8.20351566e-05, -8.19431376e-05,\n",
       "        -8.18409969e-05, -6.07231650e-04, -1.46997066e-04, -1.34349505e-03,\n",
       "        -1.74156408e-03, -1.65833234e-03, -5.69474130e-04, -1.48119397e-04,\n",
       "        -1.20245639e-03, -1.53685363e-03, -1.44236057e-03, -5.36223362e-04,\n",
       "        -1.49161380e-04, -1.14558326e-03, -1.43549017e-03, -1.26962052e-03,\n",
       "        -5.05255740e-04, -1.50132086e-04, -1.11091219e-03, -1.37260237e-03,\n",
       "        -1.15156270e-03, -4.76611131e-04, -1.51039285e-04, -1.08672942e-03,\n",
       "         2.13304280e-04, -1.07140102e-03, -8.38899963e-05, -8.38664774e-05,\n",
       "        -8.38423870e-05, -8.38227716e-05, -8.38224507e-05, -8.33095382e-05,\n",
       "        -8.32659567e-05, -8.32158922e-05, -8.31586430e-05, -8.31060531e-05,\n",
       "        -8.28775543e-05, -8.28248838e-05, -8.27629704e-05, -8.26883183e-05,\n",
       "        -8.26111804e-05, -8.25058664e-05, -8.24478799e-05, -8.23789957e-05,\n",
       "        -8.22939717e-05, -8.22019909e-05, -8.21701812e-05, -8.21086790e-05,\n",
       "        -8.20351566e-05, -8.19431376e-05, -8.18409969e-05, -6.07231650e-04,\n",
       "        -1.46997066e-04, -1.34349505e-03, -1.74156408e-03, -1.65833234e-03,\n",
       "        -5.69474130e-04, -1.48119397e-04, -1.20245639e-03, -1.53685363e-03,\n",
       "        -1.44236057e-03, -5.36223362e-04, -1.49161380e-04, -1.14558326e-03,\n",
       "        -1.43549017e-03, -1.26962052e-03, -5.05255740e-04, -1.50132086e-04,\n",
       "        -1.11091219e-03, -1.37260237e-03, -1.15156270e-03, -4.76611131e-04,\n",
       "        -1.51039285e-04, -1.08672942e-03,  2.13304280e-04, -1.07140102e-03]),\n",
       " 'split2_test_score': array([-0.00055246, -0.00055329, -0.00055445, -0.00055629, -0.00055944,\n",
       "        -0.00054571, -0.00054585, -0.00054605, -0.00054639, -0.00054701,\n",
       "        -0.00054668, -0.00054674, -0.00054683, -0.00054698, -0.00054726,\n",
       "        -0.00054926, -0.00054935, -0.00054948, -0.00054969, -0.00055005,\n",
       "        -0.00055232, -0.00055246, -0.00055267, -0.00055298, -0.0005535 ,\n",
       "        -0.00031535, -0.00081541, -0.00051059, -0.00015976,  0.00030028,\n",
       "        -0.00029695, -0.00080238, -0.0005029 , -0.00019402,  0.00029119,\n",
       "        -0.00026838, -0.0007914 , -0.00049748, -0.00021041,  0.00028109,\n",
       "        -0.00024597, -0.000782  , -0.00049364, -0.0002213 ,  0.00027092,\n",
       "        -0.00022944, -0.00077386, -0.00049064, -0.00022973,  0.00026091,\n",
       "        -0.00055246, -0.00055329, -0.00055445, -0.00055629, -0.00055944,\n",
       "        -0.00054571, -0.00054585, -0.00054605, -0.00054639, -0.00054701,\n",
       "        -0.00054668, -0.00054674, -0.00054683, -0.00054698, -0.00054726,\n",
       "        -0.00054926, -0.00054935, -0.00054948, -0.00054969, -0.00055005,\n",
       "        -0.00055232, -0.00055246, -0.00055267, -0.00055298, -0.0005535 ,\n",
       "        -0.00031535, -0.00081541, -0.00051059, -0.00015976,  0.00030028,\n",
       "        -0.00029695, -0.00080238, -0.0005029 , -0.00019402,  0.00029119,\n",
       "        -0.00026838, -0.0007914 , -0.00049748, -0.00021041,  0.00028109,\n",
       "        -0.00024597, -0.000782  , -0.00049364, -0.0002213 ,  0.00027092,\n",
       "        -0.00022944, -0.00077386, -0.00049064, -0.00022973,  0.00026091]),\n",
       " 'mean_test_score': array([-0.00028661, -0.00028713, -0.00028783, -0.00028894, -0.00029075,\n",
       "        -0.00028473, -0.000285  , -0.00028537, -0.00028597, -0.0002869 ,\n",
       "        -0.00028546, -0.0002857 , -0.00028603, -0.00028656, -0.00028736,\n",
       "        -0.00028674, -0.00028699, -0.00028733, -0.00028787, -0.00028869,\n",
       "        -0.00028818, -0.00028845, -0.00028881, -0.00028938, -0.00029025,\n",
       "        -0.00284404, -0.00016445, -0.00097662, -0.00077115, -0.00057939,\n",
       "        -0.00284018, -0.00016439, -0.00090745, -0.0007145 , -0.00051127,\n",
       "        -0.00282739, -0.00016246, -0.00087366, -0.00068652, -0.0004578 ,\n",
       "        -0.00281357, -0.00015988, -0.00085135, -0.00066954, -0.0004225 ,\n",
       "        -0.00280018, -0.00015715, -0.00083496, -0.00014404, -0.00039971,\n",
       "        -0.00028661, -0.00028713, -0.00028783, -0.00028894, -0.00029075,\n",
       "        -0.00028473, -0.000285  , -0.00028537, -0.00028597, -0.0002869 ,\n",
       "        -0.00028546, -0.0002857 , -0.00028603, -0.00028656, -0.00028736,\n",
       "        -0.00028674, -0.00028699, -0.00028733, -0.00028787, -0.00028869,\n",
       "        -0.00028818, -0.00028845, -0.00028881, -0.00028938, -0.00029025,\n",
       "        -0.00284404, -0.00016445, -0.00097662, -0.00077115, -0.00057939,\n",
       "        -0.00284018, -0.00016439, -0.00090745, -0.0007145 , -0.00051127,\n",
       "        -0.00282739, -0.00016246, -0.00087366, -0.00068652, -0.0004578 ,\n",
       "        -0.00281357, -0.00015988, -0.00085135, -0.00066954, -0.0004225 ,\n",
       "        -0.00280018, -0.00015715, -0.00083496, -0.00014404, -0.00039971]),\n",
       " 'std_test_score': array([0.00019643, 0.00019674, 0.00019716, 0.00019784, 0.00019902,\n",
       "        0.00019342, 0.00019342, 0.00019343, 0.00019345, 0.00019353,\n",
       "        0.00019383, 0.0001938 , 0.00019377, 0.00019372, 0.00019366,\n",
       "        0.00019496, 0.00019495, 0.00019494, 0.00019492, 0.0001949 ,\n",
       "        0.00019629, 0.00019631, 0.00019633, 0.00019636, 0.00019642,\n",
       "        0.00337183, 0.00052452, 0.00034718, 0.00069388, 0.00081192,\n",
       "        0.00340579, 0.00051441, 0.00029591, 0.0005883 , 0.00071354,\n",
       "        0.00343134, 0.00050819, 0.00027467, 0.00053606, 0.00063517,\n",
       "        0.00344942, 0.00050403, 0.00026139, 0.00050337, 0.00058127,\n",
       "        0.00346227, 0.00050106, 0.000252  , 0.00026384, 0.00054397,\n",
       "        0.00019643, 0.00019674, 0.00019716, 0.00019784, 0.00019902,\n",
       "        0.00019342, 0.00019342, 0.00019343, 0.00019345, 0.00019353,\n",
       "        0.00019383, 0.0001938 , 0.00019377, 0.00019372, 0.00019366,\n",
       "        0.00019496, 0.00019495, 0.00019494, 0.00019492, 0.0001949 ,\n",
       "        0.00019629, 0.00019631, 0.00019633, 0.00019636, 0.00019642,\n",
       "        0.00337183, 0.00052452, 0.00034718, 0.00069388, 0.00081192,\n",
       "        0.00340579, 0.00051441, 0.00029591, 0.0005883 , 0.00071354,\n",
       "        0.00343134, 0.00050819, 0.00027467, 0.00053606, 0.00063517,\n",
       "        0.00344942, 0.00050403, 0.00026139, 0.00050337, 0.00058127,\n",
       "        0.00346227, 0.00050106, 0.000252  , 0.00026384, 0.00054397]),\n",
       " 'rank_test_score': array([29, 37, 43, 55, 61, 13, 15, 17, 23, 33, 19, 21, 25, 27, 41, 31, 35,\n",
       "        39, 45, 51, 47, 49, 53, 57, 59, 99, 11, 89, 79, 71, 97,  9, 87, 77,\n",
       "        69, 95,  7, 85, 75, 67, 93,  5, 83, 73, 65, 91,  3, 81,  1, 63, 29,\n",
       "        37, 43, 55, 61, 13, 15, 17, 23, 33, 19, 21, 25, 27, 41, 31, 35, 39,\n",
       "        45, 51, 47, 49, 53, 57, 59, 99, 11, 89, 79, 71, 97,  9, 87, 77, 69,\n",
       "        95,  7, 85, 75, 67, 93,  5, 83, 73, 65, 91,  3, 81,  1, 63],\n",
       "       dtype=int32)}"
      ]
     },
     "execution_count": 46,
     "metadata": {},
     "output_type": "execute_result"
    }
   ],
   "source": [
    "grid.cv_results_"
   ]
  },
  {
   "cell_type": "code",
   "execution_count": 42,
   "metadata": {
    "ExecuteTime": {
     "end_time": "2020-05-14T08:25:15.937627Z",
     "start_time": "2020-05-14T08:25:15.934036Z"
    }
   },
   "outputs": [
    {
     "data": {
      "text/plain": [
       "{'knot_dist': 'uniform',\n",
       " 'method': 'second_order',\n",
       " 'reg_gamma': 0.5,\n",
       " 'reg_lambda': 0.4}"
      ]
     },
     "execution_count": 42,
     "metadata": {},
     "output_type": "execute_result"
    }
   ],
   "source": [
    "grid.best_params_"
   ]
  },
  {
   "cell_type": "markdown",
   "metadata": {},
   "source": [
    "**NB**: The first-order Setin's method is selected, as $\\mathbb{E}[f^{\\prime\\prime}(u)]=0$. Therefore, the second order method cannot provide any information about the projection coefficients. "
   ]
  },
  {
   "cell_type": "markdown",
   "metadata": {},
   "source": [
    "In this case, the first-order Setin's method is selected. "
   ]
  },
  {
   "cell_type": "code",
   "execution_count": 43,
   "metadata": {
    "ExecuteTime": {
     "end_time": "2020-05-14T08:25:17.683558Z",
     "start_time": "2020-05-14T08:25:17.678581Z"
    }
   },
   "outputs": [
    {
     "data": {
      "text/plain": [
       "SimRegressor(degree=2, knot_dist='uniform', knot_num=20, method='second_order',\n",
       "             random_state=0, reg_gamma=0.5, reg_lambda=0.4,\n",
       "             spline='mono_p_spline')"
      ]
     },
     "execution_count": 43,
     "metadata": {},
     "output_type": "execute_result"
    }
   ],
   "source": [
    "clf = grid.best_estimator_\n",
    "clf"
   ]
  },
  {
   "cell_type": "code",
   "execution_count": 44,
   "metadata": {
    "ExecuteTime": {
     "end_time": "2020-05-14T08:25:19.708448Z",
     "start_time": "2020-05-14T08:25:19.473874Z"
    }
   },
   "outputs": [
    {
     "data": {
      "image/png": "[encoded data removed]",
      "text/plain": [
       "<Figure size 432x288 with 1 Axes>"
      ]
     },
     "metadata": {
      "needs_background": "light"
     },
     "output_type": "display_data"
    }
   ],
   "source": [
    "plt.plot(np.abs(clf.beta_), \"o\")\n",
    "plt.plot(np.abs(beta), \"o\")\n",
    "plt.legend([\"Estimated\", \"Ground Truth\"])\n",
    "plt.show()"
   ]
  },
  {
   "cell_type": "code",
   "execution_count": 45,
   "metadata": {
    "ExecuteTime": {
     "end_time": "2020-05-14T08:25:23.049106Z",
     "start_time": "2020-05-14T08:25:22.502622Z"
    },
    "scrolled": true
   },
   "outputs": [
    {
     "data": {
      "image/png": "[encoded data removed]",
      "text/plain": [
       "<Figure size 864x288 with 3 Axes>"
      ]
     },
     "metadata": {
      "needs_background": "light"
     },
     "output_type": "display_data"
    }
   ],
   "source": [
    "clf.visualize()"
   ]
  },
  {
   "cell_type": "markdown",
   "metadata": {},
   "source": [
    "## Case 2: Quadratic Ridge Function"
   ]
  },
  {
   "cell_type": "code",
   "execution_count": 8,
   "metadata": {
    "ExecuteTime": {
     "end_time": "2020-05-14T08:19:50.457218Z",
     "start_time": "2020-05-14T08:19:50.394999Z"
    },
    "scrolled": true
   },
   "outputs": [],
   "source": [
    "s_star = 5\n",
    "n_features = 100\n",
    "n_samples = 10000\n",
    "\n",
    "np.random.seed(1)\n",
    "beta = np.zeros(n_features)\n",
    "supp_ids = np.random.choice(n_features, s_star)\n",
    "beta[supp_ids]=np.random.choice((-1, 1), s_star) / np.sqrt(s_star)\n",
    "\n",
    "x = np.random.normal(0, 0.3, size=(n_samples, n_features))\n",
    "y = np.dot(x, beta) ** 2 + 0.1 * np.random.randn(n_samples)"
   ]
  },
  {
   "cell_type": "code",
   "execution_count": 9,
   "metadata": {
    "ExecuteTime": {
     "end_time": "2020-05-14T08:19:51.528839Z",
     "start_time": "2020-05-14T08:19:50.460005Z"
    },
    "scrolled": true
   },
   "outputs": [
    {
     "name": "stdout",
     "output_type": "stream",
     "text": [
      "Fitting 3 folds for each of 60 candidates, totalling 180 fits\n"
     ]
    },
    {
     "name": "stderr",
     "output_type": "stream",
     "text": [
      "[Parallel(n_jobs=-1)]: Using backend LokyBackend with 64 concurrent workers.\n",
      "[Parallel(n_jobs=-1)]: Done  34 tasks      | elapsed:    0.3s\n",
      "[Parallel(n_jobs=-1)]: Done 144 out of 180 | elapsed:    0.7s remaining:    0.2s\n",
      "[Parallel(n_jobs=-1)]: Done 180 out of 180 | elapsed:    0.8s finished\n"
     ]
    },
    {
     "name": "stdout",
     "output_type": "stream",
     "text": [
      "CPU times: user 4.81 s, sys: 10.5 s, total: 15.3 s\n",
      "Wall time: 1.06 s\n"
     ]
    }
   ],
   "source": [
    "%%time \n",
    "\n",
    "param_grid = {\"method\": [\"first_order\", \"second_order\"],\n",
    "              \"knot_dist\": [\"uniform\", \"quantile\"],\n",
    "              \"reg_lambda\": [0.1, 0.2, 0.3, 0.4, 0.5], \n",
    "              \"reg_gamma\": np.logspace(-1, 1, 3)}\n",
    "grid = GridSearchCV(SimRegressor(degree=2, knot_num=20, random_state=0), \n",
    "                    cv=KFold(3, shuffle=True, random_state=0), param_grid=param_grid, n_jobs=-1, verbose=2, error_score=np.nan)\n",
    "grid.fit(x, y)"
   ]
  },
  {
   "cell_type": "code",
   "execution_count": 10,
   "metadata": {
    "ExecuteTime": {
     "end_time": "2020-05-14T08:19:51.534774Z",
     "start_time": "2020-05-14T08:19:51.531014Z"
    }
   },
   "outputs": [
    {
     "data": {
      "text/plain": [
       "{'knot_dist': 'uniform',\n",
       " 'method': 'second_order',\n",
       " 'reg_gamma': 0.1,\n",
       " 'reg_lambda': 0.1}"
      ]
     },
     "execution_count": 10,
     "metadata": {},
     "output_type": "execute_result"
    }
   ],
   "source": [
    "grid.best_params_"
   ]
  },
  {
   "cell_type": "markdown",
   "metadata": {},
   "source": [
    "**NB**: The second-order Setin's method is selected, as $\\mathbb{E}[f^{\\prime}(u)]=0$. Therefore, the first order method cannot provide any information about the projection coefficients. "
   ]
  },
  {
   "cell_type": "code",
   "execution_count": 11,
   "metadata": {
    "ExecuteTime": {
     "end_time": "2020-05-14T08:19:51.539309Z",
     "start_time": "2020-05-14T08:19:51.536107Z"
    }
   },
   "outputs": [
    {
     "data": {
      "text/plain": [
       "SimRegressor(degree=2, knot_dist='uniform', knot_num=20, method='second_order',\n",
       "             random_state=0, reg_gamma=0.1, reg_lambda=0.1,\n",
       "             spline='smoothing_spline')"
      ]
     },
     "execution_count": 11,
     "metadata": {},
     "output_type": "execute_result"
    }
   ],
   "source": [
    "clf = grid.best_estimator_\n",
    "clf"
   ]
  },
  {
   "cell_type": "code",
   "execution_count": 12,
   "metadata": {
    "ExecuteTime": {
     "end_time": "2020-05-14T08:19:51.748773Z",
     "start_time": "2020-05-14T08:19:51.540601Z"
    }
   },
   "outputs": [
    {
     "data": {
      "image/png": "[encoded data removed]",
      "text/plain": [
       "<Figure size 432x288 with 1 Axes>"
      ]
     },
     "metadata": {
      "needs_background": "light"
     },
     "output_type": "display_data"
    }
   ],
   "source": [
    "plt.plot(np.abs(clf.beta_), \"o\")\n",
    "plt.plot(np.abs(beta), \"o\")\n",
    "plt.legend([\"Estimated\", \"Ground Truth\"])\n",
    "plt.show()"
   ]
  },
  {
   "cell_type": "code",
   "execution_count": 13,
   "metadata": {
    "ExecuteTime": {
     "end_time": "2020-05-14T08:19:52.200969Z",
     "start_time": "2020-05-14T08:19:51.750836Z"
    }
   },
   "outputs": [
    {
     "data": {
      "image/png": "[encoded data removed]",
      "text/plain": [
       "<Figure size 864x288 with 3 Axes>"
      ]
     },
     "metadata": {
      "needs_background": "light"
     },
     "output_type": "display_data"
    }
   ],
   "source": [
    "clf.visualize()"
   ]
  },
  {
   "cell_type": "markdown",
   "metadata": {},
   "source": [
    "## Case 3: Improve a rough estimator via inner update"
   ]
  },
  {
   "cell_type": "code",
   "execution_count": 14,
   "metadata": {
    "ExecuteTime": {
     "end_time": "2020-05-14T08:19:52.265785Z",
     "start_time": "2020-05-14T08:19:52.202666Z"
    },
    "scrolled": true
   },
   "outputs": [],
   "source": [
    "s_star = 5\n",
    "n_features = 100\n",
    "n_samples = 10000\n",
    "\n",
    "np.random.seed(1)\n",
    "beta = np.zeros(n_features)\n",
    "supp_ids = np.random.choice(n_features, s_star)\n",
    "beta[supp_ids]=np.random.choice((-1, 1), s_star) / np.sqrt(s_star)\n",
    "\n",
    "x = np.random.gamma(1, 0.3, size=(n_samples, n_features))\n",
    "y = np.sin(np.pi*(np.dot(x, beta))) + 0.1 * np.random.randn(n_samples)"
   ]
  },
  {
   "cell_type": "code",
   "execution_count": 15,
   "metadata": {
    "ExecuteTime": {
     "end_time": "2020-05-14T08:19:52.411610Z",
     "start_time": "2020-05-14T08:19:52.267559Z"
    },
    "scrolled": true
   },
   "outputs": [
    {
     "name": "stdout",
     "output_type": "stream",
     "text": [
      "CPU times: user 2.45 s, sys: 5.63 s, total: 8.08 s\n",
      "Wall time: 133 ms\n"
     ]
    }
   ],
   "source": [
    "%%time\n",
    "\n",
    "clf = SimRegressor(degree=2, knot_num=20, reg_lambda=0.1, reg_gamma=1, random_state=0)\n",
    "clf.fit(x, y)"
   ]
  },
  {
   "cell_type": "code",
   "execution_count": 16,
   "metadata": {
    "ExecuteTime": {
     "end_time": "2020-05-14T08:19:52.928760Z",
     "start_time": "2020-05-14T08:19:52.413621Z"
    },
    "scrolled": true
   },
   "outputs": [
    {
     "data": {
      "image/png": "[encoded data removed]",
      "text/plain": [
       "<Figure size 864x288 with 3 Axes>"
      ]
     },
     "metadata": {
      "needs_background": "light"
     },
     "output_type": "display_data"
    }
   ],
   "source": [
    "clf.visualize()"
   ]
  },
  {
   "cell_type": "markdown",
   "metadata": {},
   "source": [
    "**Remark**：The data does not follow a normal distribution, so the performance is relatively poorer, we use adam optimizer to improve the estimation."
   ]
  },
  {
   "cell_type": "code",
   "execution_count": 17,
   "metadata": {
    "ExecuteTime": {
     "end_time": "2020-05-14T08:19:53.115956Z",
     "start_time": "2020-05-14T08:19:52.930394Z"
    },
    "scrolled": true
   },
   "outputs": [
    {
     "ename": "ValueError",
     "evalue": "operands could not be broadcast together with shapes (10000,1) (100,100) ",
     "output_type": "error",
     "traceback": [
      "\u001b[0;31m---------------------------------------------------------------------------\u001b[0m",
      "\u001b[0;31mValueError\u001b[0m                                Traceback (most recent call last)",
      "\u001b[0;32m<ipython-input-17-0c4fcbd5fed9>\u001b[0m in \u001b[0;36m<module>\u001b[0;34m\u001b[0m\n\u001b[0;32m----> 1\u001b[0;31m \u001b[0mclf\u001b[0m\u001b[0;34m.\u001b[0m\u001b[0mfit_inner_update\u001b[0m\u001b[0;34m(\u001b[0m\u001b[0mx\u001b[0m\u001b[0;34m,\u001b[0m \u001b[0my\u001b[0m\u001b[0;34m,\u001b[0m \u001b[0mverbose\u001b[0m\u001b[0;34m=\u001b[0m\u001b[0;32mTrue\u001b[0m\u001b[0;34m,\u001b[0m \u001b[0mn_inner_iter_no_change\u001b[0m\u001b[0;34m=\u001b[0m\u001b[0;36m1\u001b[0m\u001b[0;34m)\u001b[0m\u001b[0;34m\u001b[0m\u001b[0;34m\u001b[0m\u001b[0m\n\u001b[0m",
      "\u001b[0;32m~/anaconda2_local/envs/tf2/lib/python3.6/site-packages/pysim/pysim.py\u001b[0m in \u001b[0;36mfit_inner_update\u001b[0;34m(self, x, y, sample_weight, proj_mat, val_ratio, max_inner_iter, n_inner_iter_no_change, max_epoches, n_epoch_no_change, batch_size, learning_rate, beta_1, beta_2, tol, verbose)\u001b[0m\n\u001b[1;32m    226\u001b[0m                     \u001b[0;31m# gradient\u001b[0m\u001b[0;34m\u001b[0m\u001b[0;34m\u001b[0m\u001b[0;34m\u001b[0m\u001b[0m\n\u001b[1;32m    227\u001b[0m                     \u001b[0mdfxb\u001b[0m \u001b[0;34m=\u001b[0m \u001b[0mself\u001b[0m\u001b[0;34m.\u001b[0m\u001b[0mshape_fit_\u001b[0m\u001b[0;34m.\u001b[0m\u001b[0mdiff\u001b[0m\u001b[0;34m(\u001b[0m\u001b[0mxb\u001b[0m\u001b[0;34m,\u001b[0m \u001b[0morder\u001b[0m\u001b[0;34m=\u001b[0m\u001b[0;36m1\u001b[0m\u001b[0;34m)\u001b[0m\u001b[0;34m\u001b[0m\u001b[0;34m\u001b[0m\u001b[0m\n\u001b[0;32m--> 228\u001b[0;31m                     g_t = np.average((- dfxb * r).reshape(-1, 1) * batch_xx, axis=0,\n\u001b[0m\u001b[1;32m    229\u001b[0m                                 weights=batch_sample_weight).reshape(-1, 1)\n\u001b[1;32m    230\u001b[0m \u001b[0;34m\u001b[0m\u001b[0m\n",
      "\u001b[0;31mValueError\u001b[0m: operands could not be broadcast together with shapes (10000,1) (100,100) "
     ]
    }
   ],
   "source": [
    "clf.fit_inner_update(x, y, verbose=True, n_inner_iter_no_change=1)"
   ]
  },
  {
   "cell_type": "code",
   "execution_count": null,
   "metadata": {
    "ExecuteTime": {
     "end_time": "2020-05-14T08:19:53.128034Z",
     "start_time": "2020-05-14T08:19:29.986Z"
    },
    "scrolled": true
   },
   "outputs": [],
   "source": [
    "clf.visualize()"
   ]
  }
 ],
 "metadata": {
  "kernelspec": {
   "display_name": "Python (tf2)",
   "language": "python",
   "name": "tf2"
  },
  "language_info": {
   "codemirror_mode": {
    "name": "ipython",
    "version": 3
   },
   "file_extension": ".py",
   "mimetype": "text/x-python",
   "name": "python",
   "nbconvert_exporter": "python",
   "pygments_lexer": "ipython3",
   "version": "3.6.8"
  },
  "latex_envs": {
   "LaTeX_envs_menu_present": true,
   "autoclose": false,
   "autocomplete": true,
   "bibliofile": "biblio.bib",
   "cite_by": "apalike",
   "current_citInitial": 1,
   "eqLabelWithNumbers": true,
   "eqNumInitial": 1,
   "hotkeys": {
    "equation": "Ctrl-E",
    "itemize": "Ctrl-I"
   },
   "labels_anchors": false,
   "latex_user_defs": false,
   "report_style_numbering": false,
   "user_envs_cfg": false
  },
  "varInspector": {
   "cols": {
    "lenName": 16,
    "lenType": 16,
    "lenVar": 40
   },
   "kernels_config": {
    "python": {
     "delete_cmd_postfix": "",
     "delete_cmd_prefix": "del ",
     "library": "var_list.py",
     "varRefreshCmd": "print(var_dic_list())"
    },
    "r": {
     "delete_cmd_postfix": ") ",
     "delete_cmd_prefix": "rm(",
     "library": "var_list.r",
     "varRefreshCmd": "cat(var_dic_list()) "
    }
   },
   "types_to_exclude": [
    "module",
    "function",
    "builtin_function_or_method",
    "instance",
    "_Feature"
   ],
   "window_display": false
  }
 },
 "nbformat": 4,
 "nbformat_minor": 2
}
