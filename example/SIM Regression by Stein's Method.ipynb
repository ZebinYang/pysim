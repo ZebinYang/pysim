{
 "cells": [
  {
   "cell_type": "markdown",
   "metadata": {},
   "source": [
    "## SIM Training by Stein's Method"
   ]
  },
  {
   "cell_type": "code",
   "execution_count": 19,
   "metadata": {
    "ExecuteTime": {
     "end_time": "2020-05-21T09:01:00.885518Z",
     "start_time": "2020-05-21T09:01:00.879721Z"
    }
   },
   "outputs": [],
   "source": [
    "import numpy as np\n",
    "from matplotlib import pylab as plt\n",
    "from sklearn.model_selection import KFold\n",
    "from sklearn.model_selection import GridSearchCV\n",
    "from sklearn.preprocessing import MinMaxScaler\n",
    "from sklearn.metrics import make_scorer, mean_squared_error\n",
    "\n",
    "from pysim import SimRegressor"
   ]
  },
  {
   "cell_type": "markdown",
   "metadata": {},
   "source": [
    "## pySIM - A python package for Sparse SIM "
   ]
  },
  {
   "cell_type": "markdown",
   "metadata": {},
   "source": [
    "**To install**:\n",
    "    \n",
    "```sheel\n",
    "    pip install git+https://github.com/Zebinyang/pysim.git\n",
    "```\n",
    "\n",
    "Note pysim will call the R package fps (https://github.com/vqv/fps) using rpy2 interface. "
   ]
  },
  {
   "cell_type": "markdown",
   "metadata": {},
   "source": [
    "**Usage**"
   ]
  },
  {
   "cell_type": "markdown",
   "metadata": {},
   "source": [
    "```python\n",
    "from pysim import SimRegressor\n",
    "clf = SimRegressor(method=\"first_order\", reg_lambda=0.1, spline=\"smoothing_spline\", reg_gamma=10, knot_num=20, knot_dist=\"uniform\", degree=2, random_state=0)\n",
    "## clf.fit(x, y)\n",
    "```"
   ]
  },
  {
   "cell_type": "markdown",
   "metadata": {},
   "source": [
    "**Hyperparameters**\n",
    "\n",
    "- method: the base method for estimating the projection coefficients in sparse SIM. default=\"first_order\"\n",
    "\n",
    "        \"first_order\": First-order Stein's Identity via sparse PCA solver\n",
    "\n",
    "        \"second_order\": Second-order Stein's Identity via sparse PCA solver\n",
    "\n",
    "        \"first_order_thres\": First-order Stein's Identity via hard thresholding (A simplified verison)        \n",
    "    \n",
    "- reg_lambda: The regularization strength of sparsity of beta. default=0.1, from 0 to 1 \n",
    "\n",
    "- spline: The type of spline for fitting the curve. default=\"smoothing_spline\"\n",
    "        \n",
    "        \"smoothing_spline\": Smoothing spline\n",
    "\n",
    "        \"p_spline\": P-spline\n",
    "\n",
    "        \"mono_p_spline\": P-spline with monotonic constraint\n",
    "        \n",
    "        \"a_spline\": Adaptive B-spline\n",
    "\n",
    "- reg_gamma: The regularization strength of the spline algorithm. default=0.1.\n",
    "\n",
    "        For spline=\"smoothing_spline\", it ranges from 0 to 1 \n",
    "        \n",
    "        For spline=\"p_spline\",\"mono_p_spline\" or \"a_spline\", it ranges from 0 to $+\\infty$.\n",
    "\n",
    "- degree: The order of the spline basis, not used in \"smoothing_spline\". default=2\n",
    "\n",
    "- knot_num: The number of knots. default=20\n",
    "\n",
    "- knot_dist: The method of specifying the knots. default=\"uniform\"\n",
    "\n",
    "        \"uniform\": uniformly over the domain\n",
    "        \n",
    "        \"quantile\": uniform quantiles of the given input data (not available when spline=\"p_spline\" or \"mono_p_spline\")\n",
    "\n",
    "- random_state: the random seed. default=0"
   ]
  },
  {
   "cell_type": "markdown",
   "metadata": {},
   "source": [
    "# Case 1: Sine Ridge Function"
   ]
  },
  {
   "cell_type": "code",
   "execution_count": 20,
   "metadata": {
    "ExecuteTime": {
     "end_time": "2020-05-21T09:01:02.745618Z",
     "start_time": "2020-05-21T09:01:02.641991Z"
    },
    "scrolled": true
   },
   "outputs": [],
   "source": [
    "s_star = 5\n",
    "n_features = 100\n",
    "n_samples = 10000\n",
    "\n",
    "np.random.seed(1)\n",
    "beta = np.zeros(n_features)\n",
    "supp_ids = np.random.choice(n_features, s_star)\n",
    "beta[supp_ids]=np.random.choice((-1, 1), s_star) / np.sqrt(s_star)\n",
    "\n",
    "x = np.random.normal(0, 0.3, size=(n_samples, n_features))\n",
    "y = np.sin(np.pi*(np.dot(x, beta))) + 0.1 * np.random.randn(n_samples)"
   ]
  },
  {
   "cell_type": "markdown",
   "metadata": {},
   "source": [
    "The best hyperparameter combination can be selected via cross-validation"
   ]
  },
  {
   "cell_type": "code",
   "execution_count": 21,
   "metadata": {
    "ExecuteTime": {
     "end_time": "2020-05-21T09:01:13.799896Z",
     "start_time": "2020-05-21T09:01:03.002318Z"
    },
    "scrolled": true
   },
   "outputs": [
    {
     "name": "stdout",
     "output_type": "stream",
     "text": [
      "Fitting 3 folds for each of 100 candidates, totalling 300 fits\n"
     ]
    },
    {
     "name": "stderr",
     "output_type": "stream",
     "text": [
      "[Parallel(n_jobs=-1)]: Using backend LokyBackend with 64 concurrent workers.\n",
      "[Parallel(n_jobs=-1)]: Done  34 tasks      | elapsed:    9.0s\n"
     ]
    },
    {
     "name": "stdout",
     "output_type": "stream",
     "text": [
      "CPU times: user 3.54 s, sys: 6.32 s, total: 9.87 s\n",
      "Wall time: 10.8 s\n"
     ]
    },
    {
     "name": "stderr",
     "output_type": "stream",
     "text": [
      "[Parallel(n_jobs=-1)]: Done 300 out of 300 | elapsed:   10.6s finished\n",
      "/home/r7user1/anaconda2_local/envs/tf2/lib/python3.6/site-packages/sklearn/model_selection/_search.py:823: FutureWarning: The parameter 'iid' is deprecated in 0.22 and will be removed in 0.24.\n",
      "  \"removed in 0.24.\", FutureWarning\n"
     ]
    }
   ],
   "source": [
    "%%time \n",
    "\n",
    "param_grid = {\"method\": [\"first_order\", \"second_order\"],\n",
    "              \"knot_dist\": [\"uniform\", \"quantile\"],\n",
    "              \"reg_lambda\": [0.1, 0.2, 0.3, 0.4, 0.5], \n",
    "              \"reg_gamma\": [0.2, 0.4, 0.6, 0.8, 1.0]}\n",
    "grid = GridSearchCV(SimRegressor(spline=\"smoothing_spline\", knot_num=20, random_state=0), iid=False,\n",
    "                    cv=KFold(3, shuffle=True, random_state=0), param_grid=param_grid, n_jobs=-1, verbose=2, error_score=np.nan)\n",
    "grid.fit(x, y)"
   ]
  },
  {
   "cell_type": "code",
   "execution_count": 22,
   "metadata": {
    "ExecuteTime": {
     "end_time": "2020-05-21T09:01:13.808843Z",
     "start_time": "2020-05-21T09:01:13.802080Z"
    }
   },
   "outputs": [
    {
     "data": {
      "text/plain": [
       "{'knot_dist': 'uniform',\n",
       " 'method': 'first_order',\n",
       " 'reg_gamma': 0.2,\n",
       " 'reg_lambda': 0.1}"
      ]
     },
     "execution_count": 22,
     "metadata": {},
     "output_type": "execute_result"
    }
   ],
   "source": [
    "grid.best_params_"
   ]
  },
  {
   "cell_type": "markdown",
   "metadata": {},
   "source": [
    "**NB**: The first-order Setin's method is selected, as $\\mathbb{E}[f^{\\prime\\prime}(u)]=0$. Therefore, the second order method cannot provide any information about the projection coefficients. "
   ]
  },
  {
   "cell_type": "markdown",
   "metadata": {},
   "source": [
    "In this case, the first-order Setin's method is selected. "
   ]
  },
  {
   "cell_type": "code",
   "execution_count": 23,
   "metadata": {
    "ExecuteTime": {
     "end_time": "2020-05-21T09:01:13.817421Z",
     "start_time": "2020-05-21T09:01:13.810797Z"
    }
   },
   "outputs": [
    {
     "data": {
      "text/plain": [
       "SimRegressor(degree=2, knot_dist='uniform', knot_num=20, method='first_order',\n",
       "             random_state=0, reg_gamma=0.2, reg_lambda=0.1,\n",
       "             spline='smoothing_spline')"
      ]
     },
     "execution_count": 23,
     "metadata": {},
     "output_type": "execute_result"
    }
   ],
   "source": [
    "clf = grid.best_estimator_\n",
    "clf"
   ]
  },
  {
   "cell_type": "code",
   "execution_count": 24,
   "metadata": {
    "ExecuteTime": {
     "end_time": "2020-05-21T09:01:14.016550Z",
     "start_time": "2020-05-21T09:01:13.819330Z"
    }
   },
   "outputs": [
    {
     "data": {
      "image/png": "[encoded data removed]",
      "text/plain": [
       "<Figure size 432x288 with 1 Axes>"
      ]
     },
     "metadata": {
      "needs_background": "light"
     },
     "output_type": "display_data"
    }
   ],
   "source": [
    "plt.plot(np.abs(clf.beta_), \"o\")\n",
    "plt.plot(np.abs(beta), \"o\")\n",
    "plt.legend([\"Estimated\", \"Ground Truth\"])\n",
    "plt.show()"
   ]
  },
  {
   "cell_type": "code",
   "execution_count": 25,
   "metadata": {
    "ExecuteTime": {
     "end_time": "2020-05-21T09:01:14.445868Z",
     "start_time": "2020-05-21T09:01:14.017731Z"
    },
    "scrolled": true
   },
   "outputs": [
    {
     "data": {
      "image/png": "[encoded data removed]",
      "text/plain": [
       "<Figure size 864x288 with 3 Axes>"
      ]
     },
     "metadata": {
      "needs_background": "light"
     },
     "output_type": "display_data"
    }
   ],
   "source": [
    "clf.visualize()"
   ]
  },
  {
   "cell_type": "markdown",
   "metadata": {},
   "source": [
    "## Case 2: Quadratic Ridge Function"
   ]
  },
  {
   "cell_type": "code",
   "execution_count": 26,
   "metadata": {
    "ExecuteTime": {
     "end_time": "2020-05-21T09:01:14.496815Z",
     "start_time": "2020-05-21T09:01:14.447093Z"
    },
    "scrolled": true
   },
   "outputs": [],
   "source": [
    "s_star = 5\n",
    "n_features = 100\n",
    "n_samples = 10000\n",
    "\n",
    "np.random.seed(1)\n",
    "beta = np.zeros(n_features)\n",
    "supp_ids = np.random.choice(n_features, s_star)\n",
    "beta[supp_ids]=np.random.choice((-1, 1), s_star) / np.sqrt(s_star)\n",
    "\n",
    "x = np.random.normal(0, 0.3, size=(n_samples, n_features))\n",
    "y = np.dot(x, beta) ** 2 + 0.1 * np.random.randn(n_samples)"
   ]
  },
  {
   "cell_type": "code",
   "execution_count": 27,
   "metadata": {
    "ExecuteTime": {
     "end_time": "2020-05-21T09:01:15.928166Z",
     "start_time": "2020-05-21T09:01:14.498635Z"
    },
    "scrolled": true
   },
   "outputs": [
    {
     "name": "stdout",
     "output_type": "stream",
     "text": [
      "Fitting 3 folds for each of 100 candidates, totalling 300 fits\n"
     ]
    },
    {
     "name": "stderr",
     "output_type": "stream",
     "text": [
      "[Parallel(n_jobs=-1)]: Using backend LokyBackend with 64 concurrent workers.\n",
      "[Parallel(n_jobs=-1)]: Done  34 tasks      | elapsed:    0.3s\n"
     ]
    },
    {
     "name": "stdout",
     "output_type": "stream",
     "text": [
      "CPU times: user 4.43 s, sys: 8.46 s, total: 12.9 s\n",
      "Wall time: 1.42 s\n"
     ]
    },
    {
     "name": "stderr",
     "output_type": "stream",
     "text": [
      "[Parallel(n_jobs=-1)]: Done 300 out of 300 | elapsed:    1.3s finished\n",
      "/home/r7user1/anaconda2_local/envs/tf2/lib/python3.6/site-packages/sklearn/model_selection/_search.py:823: FutureWarning: The parameter 'iid' is deprecated in 0.22 and will be removed in 0.24.\n",
      "  \"removed in 0.24.\", FutureWarning\n"
     ]
    }
   ],
   "source": [
    "%%time\n",
    "\n",
    "param_grid = {\"method\": [\"first_order\", \"second_order\"],\n",
    "              \"knot_dist\": [\"uniform\", \"quantile\"],\n",
    "              \"reg_lambda\": [0.1, 0.2, 0.3, 0.4, 0.5], \n",
    "              \"reg_gamma\": [0.2, 0.4, 0.6, 0.8, 1.0]}\n",
    "grid = GridSearchCV(SimRegressor(spline=\"smoothing_spline\", knot_num=20, random_state=0), iid=False,\n",
    "                    cv=KFold(3, shuffle=True, random_state=0), param_grid=param_grid, n_jobs=-1, verbose=2, error_score=np.nan)\n",
    "grid.fit(x, y)"
   ]
  },
  {
   "cell_type": "code",
   "execution_count": 28,
   "metadata": {
    "ExecuteTime": {
     "end_time": "2020-05-21T09:01:15.936804Z",
     "start_time": "2020-05-21T09:01:15.932110Z"
    }
   },
   "outputs": [
    {
     "data": {
      "text/plain": [
       "{'knot_dist': 'quantile',\n",
       " 'method': 'second_order',\n",
       " 'reg_gamma': 0.4,\n",
       " 'reg_lambda': 0.1}"
      ]
     },
     "execution_count": 28,
     "metadata": {},
     "output_type": "execute_result"
    }
   ],
   "source": [
    "grid.best_params_"
   ]
  },
  {
   "cell_type": "markdown",
   "metadata": {},
   "source": [
    "**NB**: The second-order Setin's method is selected, as $\\mathbb{E}[f^{\\prime}(u)]=0$. Therefore, the first order method cannot provide any information about the projection coefficients. "
   ]
  },
  {
   "cell_type": "code",
   "execution_count": 29,
   "metadata": {
    "ExecuteTime": {
     "end_time": "2020-05-21T09:01:15.943136Z",
     "start_time": "2020-05-21T09:01:15.939079Z"
    }
   },
   "outputs": [
    {
     "data": {
      "text/plain": [
       "SimRegressor(degree=2, knot_dist='quantile', knot_num=20, method='second_order',\n",
       "             random_state=0, reg_gamma=0.4, reg_lambda=0.1,\n",
       "             spline='smoothing_spline')"
      ]
     },
     "execution_count": 29,
     "metadata": {},
     "output_type": "execute_result"
    }
   ],
   "source": [
    "clf = grid.best_estimator_\n",
    "clf"
   ]
  },
  {
   "cell_type": "code",
   "execution_count": 30,
   "metadata": {
    "ExecuteTime": {
     "end_time": "2020-05-21T09:01:16.211997Z",
     "start_time": "2020-05-21T09:01:16.014972Z"
    }
   },
   "outputs": [
    {
     "data": {
      "image/png": "[encoded data removed]",
      "text/plain": [
       "<Figure size 432x288 with 1 Axes>"
      ]
     },
     "metadata": {
      "needs_background": "light"
     },
     "output_type": "display_data"
    }
   ],
   "source": [
    "plt.plot(np.abs(clf.beta_), \"o\")\n",
    "plt.plot(np.abs(beta), \"o\")\n",
    "plt.legend([\"Estimated\", \"Ground Truth\"])\n",
    "plt.show()"
   ]
  },
  {
   "cell_type": "code",
   "execution_count": 31,
   "metadata": {
    "ExecuteTime": {
     "end_time": "2020-05-21T09:01:16.639684Z",
     "start_time": "2020-05-21T09:01:16.220679Z"
    }
   },
   "outputs": [
    {
     "data": {
      "image/png": "[encoded data removed]",
      "text/plain": [
       "<Figure size 864x288 with 3 Axes>"
      ]
     },
     "metadata": {
      "needs_background": "light"
     },
     "output_type": "display_data"
    }
   ],
   "source": [
    "clf.visualize()"
   ]
  },
  {
   "cell_type": "markdown",
   "metadata": {},
   "source": [
    "## Case 3: Improve a rough estimator via inner update"
   ]
  },
  {
   "cell_type": "code",
   "execution_count": 32,
   "metadata": {
    "ExecuteTime": {
     "end_time": "2020-05-21T09:01:16.716124Z",
     "start_time": "2020-05-21T09:01:16.649691Z"
    },
    "scrolled": true
   },
   "outputs": [],
   "source": [
    "s_star = 5\n",
    "n_features = 100\n",
    "n_samples = 10000\n",
    "\n",
    "np.random.seed(1)\n",
    "beta = np.zeros(n_features)\n",
    "supp_ids = np.random.choice(n_features, s_star)\n",
    "beta[supp_ids]=np.random.choice((-1, 1), s_star) / np.sqrt(s_star)\n",
    "\n",
    "x = np.random.gamma(1, 0.3, size=(n_samples, n_features))\n",
    "y = np.sin(np.pi*(np.dot(x, beta))) + 0.1 * np.random.randn(n_samples)"
   ]
  },
  {
   "cell_type": "code",
   "execution_count": 74,
   "metadata": {
    "ExecuteTime": {
     "end_time": "2020-05-21T09:19:51.931719Z",
     "start_time": "2020-05-21T09:19:51.391290Z"
    },
    "scrolled": false
   },
   "outputs": [
    {
     "name": "stdout",
     "output_type": "stream",
     "text": [
      "CPU times: user 2.18 s, sys: 9.76 s, total: 11.9 s\n",
      "Wall time: 529 ms\n"
     ]
    }
   ],
   "source": [
    "%%time\n",
    "\n",
    "clf = SimRegressor(degree=2, knot_num=20, reg_lambda=0.1, reg_gamma=0.4, spline=\"smoothing_spline\", random_state=0)\n",
    "clf.fit(x, y)"
   ]
  },
  {
   "cell_type": "code",
   "execution_count": 75,
   "metadata": {
    "ExecuteTime": {
     "end_time": "2020-05-21T09:19:53.130216Z",
     "start_time": "2020-05-21T09:19:51.977791Z"
    },
    "scrolled": true
   },
   "outputs": [
    {
     "data": {
      "image/png": "[encoded data removed]",
      "text/plain": [
       "<Figure size 864x288 with 3 Axes>"
      ]
     },
     "metadata": {
      "needs_background": "light"
     },
     "output_type": "display_data"
    }
   ],
   "source": [
    "clf.visualize()"
   ]
  },
  {
   "cell_type": "markdown",
   "metadata": {},
   "source": [
    "**Remark**：The data does not follow a normal distribution, so the performance is relatively poorer, we use adam optimizer to improve the estimation."
   ]
  },
  {
   "cell_type": "code",
   "execution_count": 35,
   "metadata": {
    "ExecuteTime": {
     "end_time": "2020-05-21T09:01:23.449330Z",
     "start_time": "2020-05-21T09:01:17.329549Z"
    },
    "scrolled": true
   },
   "outputs": [
    {
     "name": "stdout",
     "output_type": "stream",
     "text": [
      "Inner iter: 1 epoch: 1 with validation loss: 0.01792\n",
      "Inner iter: 1 epoch: 2 with validation loss: 0.0175\n",
      "Inner iter: 1 epoch: 3 with validation loss: 0.01793\n",
      "Inner iter: 1 epoch: 4 with validation loss: 0.01706\n",
      "Inner iter: 1 epoch: 5 with validation loss: 0.01712\n",
      "Inner iter: 1 epoch: 6 with validation loss: 0.0168\n",
      "Inner iter: 1 epoch: 7 with validation loss: 0.01706\n",
      "Inner iter: 1 epoch: 8 with validation loss: 0.0169\n",
      "Inner iter: 1 epoch: 9 with validation loss: 0.01691\n",
      "Inner iter: 1 epoch: 10 with validation loss: 0.01692\n",
      "Inner iter: 2 epoch: 1 with validation loss: 0.01209\n",
      "Inner iter: 2 epoch: 2 with validation loss: 0.01112\n",
      "Inner iter: 2 epoch: 3 with validation loss: 0.01079\n",
      "Inner iter: 2 epoch: 4 with validation loss: 0.01075\n",
      "Inner iter: 2 epoch: 5 with validation loss: 0.01079\n",
      "Inner iter: 2 epoch: 6 with validation loss: 0.01084\n",
      "Inner iter: 2 epoch: 7 with validation loss: 0.01067\n",
      "Inner iter: 3 epoch: 1 with validation loss: 0.01041\n",
      "Inner iter: 3 epoch: 2 with validation loss: 0.01071\n",
      "Inner iter: 3 epoch: 3 with validation loss: 0.01061\n",
      "Inner iter: 3 epoch: 4 with validation loss: 0.01059\n",
      "Inner iter: 3 epoch: 5 with validation loss: 0.01031\n",
      "Inner iter: 3 epoch: 6 with validation loss: 0.01039\n",
      "Inner iter: 3 epoch: 7 with validation loss: 0.01066\n",
      "Inner iter: 3 epoch: 8 with validation loss: 0.0106\n",
      "Inner iter: 3 epoch: 9 with validation loss: 0.01068\n"
     ]
    }
   ],
   "source": [
    "clf.fit_inner_update(x, y, verbose=True, n_inner_iter_no_change=1)"
   ]
  },
  {
   "cell_type": "markdown",
   "metadata": {},
   "source": [
    "**Remark**: fit_inner_update is not available for spline=\"p_spline\" or \"mono_p_spline\""
   ]
  },
  {
   "cell_type": "code",
   "execution_count": 36,
   "metadata": {
    "ExecuteTime": {
     "end_time": "2020-05-21T09:01:24.055873Z",
     "start_time": "2020-05-21T09:01:23.465765Z"
    },
    "scrolled": true
   },
   "outputs": [
    {
     "data": {
      "image/png": "[encoded data removed]",
      "text/plain": [
       "<Figure size 864x288 with 3 Axes>"
      ]
     },
     "metadata": {
      "needs_background": "light"
     },
     "output_type": "display_data"
    }
   ],
   "source": [
    "clf.visualize()"
   ]
  },
  {
   "cell_type": "code",
   "execution_count": 122,
   "metadata": {
    "ExecuteTime": {
     "end_time": "2020-05-21T09:55:55.221639Z",
     "start_time": "2020-05-21T09:55:47.991922Z"
    },
    "scrolled": true
   },
   "outputs": [
    {
     "name": "stdout",
     "output_type": "stream",
     "text": [
      "Warning: Desired error not necessarily achieved due to precision loss.\n",
      "         Current function value: 0.015783\n",
      "         Iterations: 12\n",
      "         Function evaluations: 80\n",
      "         Gradient evaluations: 68\n",
      "[ 0.          0.          0.          0.          0.          0.\n",
      "  0.          0.          0.          0.47616773  0.          0.\n",
      " -0.42393319  0.          0.          0.          0.          0.\n",
      "  0.          0.          0.          0.          0.          0.\n",
      "  0.          0.          0.          0.          0.          0.\n",
      "  0.          0.          0.          0.          0.          0.\n",
      "  0.         -0.426869    0.          0.          0.          0.\n",
      "  0.          0.          0.          0.          0.          0.\n",
      "  0.          0.          0.          0.          0.          0.\n",
      "  0.          0.          0.          0.          0.          0.\n",
      "  0.          0.          0.          0.          0.          0.\n",
      "  0.          0.          0.          0.          0.          0.\n",
      "  0.47603307  0.          0.         -0.42979102  0.          0.\n",
      "  0.          0.          0.          0.          0.          0.\n",
      "  0.          0.          0.          0.          0.          0.\n",
      "  0.          0.          0.          0.          0.          0.\n",
      "  0.          0.          0.          0.        ]\n",
      "Warning: Desired error not necessarily achieved due to precision loss.\n",
      "         Current function value: 0.010333\n",
      "         Iterations: 11\n",
      "         Function evaluations: 85\n",
      "         Gradient evaluations: 73\n",
      "[ 0.          0.          0.          0.          0.          0.\n",
      "  0.          0.          0.          0.45288883  0.          0.\n",
      " -0.44225639  0.          0.          0.          0.          0.\n",
      "  0.          0.          0.          0.          0.          0.\n",
      "  0.          0.          0.          0.          0.          0.\n",
      "  0.          0.          0.          0.          0.          0.\n",
      "  0.         -0.44376567  0.          0.          0.          0.\n",
      "  0.          0.          0.          0.          0.          0.\n",
      "  0.          0.          0.          0.          0.          0.\n",
      "  0.          0.          0.          0.          0.          0.\n",
      "  0.          0.          0.          0.          0.          0.\n",
      "  0.          0.          0.          0.          0.          0.\n",
      "  0.45171217  0.          0.         -0.4453416   0.          0.\n",
      "  0.          0.          0.          0.          0.          0.\n",
      "  0.          0.          0.          0.          0.          0.\n",
      "  0.          0.          0.          0.          0.          0.\n",
      "  0.          0.          0.          0.        ]\n",
      "Optimization terminated successfully.\n",
      "         Current function value: 0.010083\n",
      "         Iterations: 14\n",
      "         Function evaluations: 17\n",
      "         Gradient evaluations: 17\n",
      "[ 0.          0.          0.          0.          0.          0.\n",
      "  0.          0.          0.          0.44730334  0.          0.\n",
      " -0.44671703  0.          0.          0.          0.          0.\n",
      "  0.          0.          0.          0.          0.          0.\n",
      "  0.          0.          0.          0.          0.          0.\n",
      "  0.          0.          0.          0.          0.          0.\n",
      "  0.         -0.44757756  0.          0.          0.          0.\n",
      "  0.          0.          0.          0.          0.          0.\n",
      "  0.          0.          0.          0.          0.          0.\n",
      "  0.          0.          0.          0.          0.          0.\n",
      "  0.          0.          0.          0.          0.          0.\n",
      "  0.          0.          0.          0.          0.          0.\n",
      "  0.44586103  0.          0.         -0.44860436  0.          0.\n",
      "  0.          0.          0.          0.          0.          0.\n",
      "  0.          0.          0.          0.          0.          0.\n",
      "  0.          0.          0.          0.          0.          0.\n",
      "  0.          0.          0.          0.        ]\n",
      "Optimization terminated successfully.\n",
      "         Current function value: 0.010082\n",
      "         Iterations: 14\n",
      "         Function evaluations: 17\n",
      "         Gradient evaluations: 17\n",
      "[ 0.          0.          0.          0.          0.          0.\n",
      "  0.          0.          0.          0.44599899  0.          0.\n",
      " -0.44773931  0.          0.          0.          0.          0.\n",
      "  0.          0.          0.          0.          0.          0.\n",
      "  0.          0.          0.          0.          0.          0.\n",
      "  0.          0.          0.          0.          0.          0.\n",
      "  0.         -0.4484463   0.          0.          0.          0.\n",
      "  0.          0.          0.          0.          0.          0.\n",
      "  0.          0.          0.          0.          0.          0.\n",
      "  0.          0.          0.          0.          0.          0.\n",
      "  0.          0.          0.          0.          0.          0.\n",
      "  0.          0.          0.          0.          0.          0.\n",
      "  0.44450186  0.          0.         -0.44936447  0.          0.\n",
      "  0.          0.          0.          0.          0.          0.\n",
      "  0.          0.          0.          0.          0.          0.\n",
      "  0.          0.          0.          0.          0.          0.\n",
      "  0.          0.          0.          0.        ]\n",
      "Optimization terminated successfully.\n",
      "         Current function value: 0.010084\n",
      "         Iterations: 14\n",
      "         Function evaluations: 17\n",
      "         Gradient evaluations: 17\n",
      "[ 0.          0.          0.          0.          0.          0.\n",
      "  0.          0.          0.          0.44569457  0.          0.\n",
      " -0.44796871  0.          0.          0.          0.          0.\n",
      "  0.          0.          0.          0.          0.          0.\n",
      "  0.          0.          0.          0.          0.          0.\n",
      "  0.          0.          0.          0.          0.          0.\n",
      "  0.         -0.4486486   0.          0.          0.          0.\n",
      "  0.          0.          0.          0.          0.          0.\n",
      "  0.          0.          0.          0.          0.          0.\n",
      "  0.          0.          0.          0.          0.          0.\n",
      "  0.          0.          0.          0.          0.          0.\n",
      "  0.          0.          0.          0.          0.          0.\n",
      "  0.44420223  0.          0.         -0.4495322   0.          0.\n",
      "  0.          0.          0.          0.          0.          0.\n",
      "  0.          0.          0.          0.          0.          0.\n",
      "  0.          0.          0.          0.          0.          0.\n",
      "  0.          0.          0.          0.        ]\n",
      "Optimization terminated successfully.\n",
      "         Current function value: 0.010085\n",
      "         Iterations: 14\n",
      "         Function evaluations: 17\n",
      "         Gradient evaluations: 17\n",
      "[ 0.          0.          0.          0.          0.          0.\n",
      "  0.          0.          0.          0.44562518  0.          0.\n",
      " -0.44802184  0.          0.          0.          0.          0.\n",
      "  0.          0.          0.          0.          0.          0.\n",
      "  0.          0.          0.          0.          0.          0.\n",
      "  0.          0.          0.          0.          0.          0.\n",
      "  0.         -0.44869214  0.          0.          0.          0.\n",
      "  0.          0.          0.          0.          0.          0.\n",
      "  0.          0.          0.          0.          0.          0.\n",
      "  0.          0.          0.          0.          0.          0.\n",
      "  0.          0.          0.          0.          0.          0.\n",
      "  0.          0.          0.          0.          0.          0.\n",
      "  0.4441333   0.          0.         -0.44957269  0.          0.\n",
      "  0.          0.          0.          0.          0.          0.\n",
      "  0.          0.          0.          0.          0.          0.\n",
      "  0.          0.          0.          0.          0.          0.\n",
      "  0.          0.          0.          0.        ]\n",
      "Optimization terminated successfully.\n",
      "         Current function value: 0.010084\n",
      "         Iterations: 14\n",
      "         Function evaluations: 17\n",
      "         Gradient evaluations: 17\n",
      "[ 0.          0.          0.          0.          0.          0.\n",
      "  0.          0.          0.          0.44561059  0.          0.\n",
      " -0.44803172  0.          0.          0.          0.          0.\n",
      "  0.          0.          0.          0.          0.          0.\n",
      "  0.          0.          0.          0.          0.          0.\n",
      "  0.          0.          0.          0.          0.          0.\n",
      "  0.         -0.44870824  0.          0.          0.          0.\n",
      "  0.          0.          0.          0.          0.          0.\n",
      "  0.          0.          0.          0.          0.          0.\n",
      "  0.          0.          0.          0.          0.          0.\n",
      "  0.          0.          0.          0.          0.          0.\n",
      "  0.          0.          0.          0.          0.          0.\n",
      "  0.44411921  0.          0.         -0.44957516  0.          0.\n",
      "  0.          0.          0.          0.          0.          0.\n",
      "  0.          0.          0.          0.          0.          0.\n",
      "  0.          0.          0.          0.          0.          0.\n",
      "  0.          0.          0.          0.        ]\n"
     ]
    }
   ],
   "source": [
    "n_inner_iter_no_change=5\n",
    "tol=0.0001\n",
    "proj_mat = None \n",
    "val_ratio = 0.2\n",
    "max_inner_iter=10\n",
    "max_epoches=100\n",
    "verbose=True\n",
    "\n",
    "import scipy\n",
    "from sklearn.base import BaseEstimator, RegressorMixin, ClassifierMixin, is_classifier, is_regressor\n",
    "from sklearn.model_selection import train_test_split\n",
    "\n",
    "sample_weight = None\n",
    "x, y = clf._validate_input(x, y)\n",
    "n_samples = x.shape[0]\n",
    "sample_weight = clf._validate_sample_weight(n_samples, sample_weight)\n",
    "\n",
    "if is_regressor(clf):\n",
    "    idx1, idx2 = train_test_split(np.arange(n_samples),test_size=val_ratio, random_state=clf.random_state)\n",
    "    tr_x, tr_y, val_x, val_y = x[idx1], y[idx1], x[idx2], y[idx2]\n",
    "elif is_classifier(clf):\n",
    "    idx1, idx2 = train_test_split(np.arange(n_samples),test_size=val_ratio, stratify=y, random_state=clf.random_state)\n",
    "    tr_x, tr_y, val_x, val_y = x[idx1], y[idx1], x[idx2], y[idx2]\n",
    "\n",
    "val_xb = np.dot(val_x, clf.beta_)\n",
    "if is_regressor(clf):\n",
    "    val_pred = clf.shape_fit_.predict(val_xb)\n",
    "    val_loss = clf.shape_fit_.get_loss(val_y, val_pred, sample_weight[idx2])\n",
    "elif is_classifier(clf):\n",
    "    val_pred = clf.shape_fit_.predict_proba(val_xb)\n",
    "    val_loss = clf.shape_fit_.get_loss(val_y, val_pred, sample_weight[idx2])\n",
    "\n",
    "no_inner_iter_change = 0\n",
    "val_loss_inner_iter_best = val_loss\n",
    "for inner_iter in range(max_inner_iter):\n",
    "\n",
    "    theta_0 = clf.beta_ \n",
    "\n",
    "    def loss_func(beta):\n",
    "        pred = clf.shape_fit_.predict(np.dot(tr_x, beta))\n",
    "        return clf.shape_fit_.get_loss(tr_y, pred, sample_weight[idx1])\n",
    "        \n",
    "    def grad(beta):\n",
    "        xb = np.dot(tr_x, beta)\n",
    "        if is_regressor(clf):\n",
    "            r = tr_y - clf.shape_fit_.predict(xb)\n",
    "        elif is_classifier(clf):\n",
    "            r = tr_y - clf.shape_fit_.predict_proba(xb)\n",
    "        dfxb = clf.shape_fit_.diff(xb, order=1)\n",
    "        g_t = np.average((- dfxb * r).reshape(-1, 1) * tr_x, axis=0,\n",
    "                    weights=sample_weight[idx1])\n",
    "        return g_t\n",
    "        \n",
    "    theta_0 = scipy.optimize.minimize(loss_func, x0=np.zeros(100), jac=grad, method='BFGS',\n",
    "                   options={'maxiter':1000, 'gtol': 1e-6, 'disp': True}).x\n",
    "\n",
    "    \n",
    "    theta_0 = scipy.optimize.minimize(loss_func, x0=theta_0, jac=grad, method='BFGS', options={'maxiter':max_epoches}).x\n",
    "\n",
    "    ## thresholding and normalization\n",
    "    if proj_mat is not None:\n",
    "        theta_0 = np.dot(proj_mat, theta_0)\n",
    "\n",
    "    theta_0[np.abs(theta_0) < clf.reg_lambda * np.max(np.abs(theta_0))] = 0\n",
    "    if np.linalg.norm(theta_0) > 0:\n",
    "        theta_0 = theta_0 / np.linalg.norm(theta_0)\n",
    "        if (theta_0[np.abs(theta_0) > 0][0] < 0):\n",
    "            theta_0 = - theta_0\n",
    "\n",
    "    # ridge update\n",
    "    print(theta_0)\n",
    "    clf.beta_ = theta_0\n",
    "    tr_xb = np.dot(tr_x, clf.beta_).reshape(-1, 1)\n",
    "    clf._estimate_shape(tr_xb, tr_y, sample_weight[idx1], xmin=np.min(tr_xb), xmax=np.max(tr_xb))\n",
    "\n",
    "    val_xb = np.dot(val_x, clf.beta_)\n",
    "    if is_regressor(clf):\n",
    "        val_pred = clf.shape_fit_.predict(val_xb)\n",
    "        val_loss = clf.shape_fit_.get_loss(val_y, val_pred, sample_weight[idx2])\n",
    "    elif is_classifier(clf):\n",
    "        val_pred = self.shape_fit_.predict_proba(val_xb)\n",
    "        val_loss = self.shape_fit_.get_loss(val_y, val_pred, sample_weight[idx2])\n",
    "\n",
    "    if val_loss > val_loss_inner_iter_best - tol:\n",
    "        no_inner_iter_change += 1\n",
    "    else:\n",
    "        no_inner_iter_change = 0\n",
    "    if val_loss < val_loss_inner_iter_best:\n",
    "        val_loss_inner_iter_best = val_loss\n",
    "    if no_inner_iter_change >= n_inner_iter_no_change:\n",
    "        break\n"
   ]
  },
  {
   "cell_type": "code",
   "execution_count": 120,
   "metadata": {
    "ExecuteTime": {
     "end_time": "2020-05-21T09:48:37.539908Z",
     "start_time": "2020-05-21T09:48:35.242363Z"
    }
   },
   "outputs": [
    {
     "name": "stdout",
     "output_type": "stream",
     "text": [
      "Warning: Desired error not necessarily achieved due to precision loss.\n",
      "         Current function value: 0.015783\n",
      "         Iterations: 12\n",
      "         Function evaluations: 80\n",
      "         Gradient evaluations: 68\n"
     ]
    },
    {
     "data": {
      "text/plain": [
       "array([ 4.92817626e-03,  3.39627322e-03,  7.92331277e-03,  3.45884850e-03,\n",
       "        9.69969661e-04,  3.57294606e-03,  4.60349846e-03,  3.24554642e-03,\n",
       "        7.89173611e-03,  4.64525497e-01,  5.89520987e-03,  1.58281278e-03,\n",
       "       -4.13568088e-01,  6.18694742e-03,  2.46148972e-03,  1.00736382e-03,\n",
       "       -3.55152415e-04,  6.10255016e-03,  5.07349542e-03,  1.21136282e-03,\n",
       "        2.42090994e-03,  1.39308086e-03,  1.27094181e-03,  6.17611185e-04,\n",
       "        4.93740572e-03,  1.94278692e-03,  3.72697297e-03,  3.15320996e-03,\n",
       "        4.87231666e-03,  4.13432979e-03,  4.56883503e-03,  3.57740068e-03,\n",
       "        3.80460233e-03,  5.84223576e-03,  2.49981219e-03,  3.59231225e-03,\n",
       "        5.31997450e-03, -4.16432109e-01,  7.10189172e-03,  3.62285027e-03,\n",
       "        5.24403185e-03,  5.55311147e-03,  4.44384258e-03,  2.92666676e-03,\n",
       "        3.30757548e-03,  6.57451688e-03,  1.76869788e-03,  4.68866402e-03,\n",
       "        2.52948883e-03,  6.55534622e-03,  4.36336255e-03,  3.90686853e-03,\n",
       "        7.78386446e-03,  2.19982995e-03,  4.69335926e-03,  4.53049191e-03,\n",
       "        3.91297659e-03,  4.93661917e-03,  5.44233971e-03,  1.07323137e-03,\n",
       "        5.24213050e-03,  8.09046058e-03,  3.65195770e-03,  4.40308801e-03,\n",
       "        3.97316596e-03,  3.82315789e-03,  1.57454515e-03,  6.21394384e-03,\n",
       "        5.04254633e-04, -8.52368488e-04,  3.04742431e-03,  7.18957361e-03,\n",
       "        4.64394125e-01,  5.20958681e-03,  2.63340586e-03, -4.19282690e-01,\n",
       "        4.15510066e-03,  6.56944463e-03,  5.54867987e-03,  4.40658150e-03,\n",
       "        2.93123046e-03,  1.41942049e-03,  2.53555926e-03,  6.65216341e-03,\n",
       "        2.01506719e-03,  4.72933440e-03,  1.17435284e-03,  4.65534257e-03,\n",
       "        2.31825751e-03,  5.95223484e-03,  6.26853677e-03,  4.30286459e-04,\n",
       "        9.19203892e-04,  4.69364684e-03,  4.08525267e-03,  1.88481583e-03,\n",
       "        2.78830010e-03,  4.19393717e-03,  5.42852123e-03, -9.47179248e-04])"
      ]
     },
     "execution_count": 120,
     "metadata": {},
     "output_type": "execute_result"
    }
   ],
   "source": [
    "theta_0 = clf.beta_ \n",
    "xb = np.dot(tr_x, theta_0)\n",
    "if is_regressor(clf):\n",
    "    r = tr_y - clf.shape_fit_.predict(xb)\n",
    "elif is_classifier(clf):\n",
    "    r = tr_y - clf.shape_fit_.predict_proba(xb)\n",
    "\n",
    "loss_func = lambda beta: clf.shape_fit_.get_loss(tr_y, clf.shape_fit_.predict(np.dot(tr_x, beta)), sample_weight[idx1])\n",
    "grad = lambda beta: np.average((- clf.shape_fit_.diff(np.dot(tr_x, beta), order=1) *\\\n",
    "                                  (tr_y - clf.shape_fit_.predict(np.dot(tr_x, beta)))).reshape(-1, 1) * tr_x, axis=0,\n",
    "                   weights=sample_weight[idx1])\n",
    "theta_0 = scipy.optimize.minimize(loss_func, x0=np.zeros(100), jac=grad, method='BFGS',\n",
    "               options={'maxiter':1000, 'gtol': 1e-6, 'disp': True}).x\n",
    "theta_0"
   ]
  },
  {
   "cell_type": "code",
   "execution_count": 114,
   "metadata": {
    "ExecuteTime": {
     "end_time": "2020-05-21T09:44:00.084995Z",
     "start_time": "2020-05-21T09:43:59.608644Z"
    }
   },
   "outputs": [
    {
     "data": {
      "text/plain": [
       "[<matplotlib.lines.Line2D at 0x7f4f688a5e10>]"
      ]
     },
     "execution_count": 114,
     "metadata": {},
     "output_type": "execute_result"
    },
    {
     "data": {
      "image/png": "[encoded data removed]",
      "text/plain": [
       "<Figure size 432x288 with 1 Axes>"
      ]
     },
     "metadata": {
      "needs_background": "light"
     },
     "output_type": "display_data"
    }
   ],
   "source": [
    "plt.plot(grad(np.zeros(100)))"
   ]
  },
  {
   "cell_type": "code",
   "execution_count": 111,
   "metadata": {
    "ExecuteTime": {
     "end_time": "2020-05-21T09:38:47.541307Z",
     "start_time": "2020-05-21T09:38:47.472076Z"
    },
    "scrolled": true
   },
   "outputs": [
    {
     "data": {
      "text/plain": [
       "array([-9.59698853e-04, -8.17647544e-04,  2.50665657e-03, -1.49240255e-03,\n",
       "       -1.47196302e-03, -6.76136822e-04,  5.37943765e-04, -9.25578064e-04,\n",
       "        2.22342566e-03, -4.04315100e-02,  1.50578773e-03, -3.03404947e-03,\n",
       "       -4.55610713e-02, -1.19893121e-03, -1.64552521e-03, -1.53270727e-03,\n",
       "       -2.38486873e-03, -1.62725661e-03,  6.69246137e-04,  2.64764154e-05,\n",
       "       -3.13836089e-03, -2.41660654e-03, -2.69021576e-03, -3.29323208e-03,\n",
       "       -1.09900574e-03, -2.70306688e-03, -9.99202949e-05, -1.36035303e-03,\n",
       "        9.74555223e-04, -1.18294278e-03, -1.22880744e-03, -6.63341991e-04,\n",
       "        4.17623353e-04, -9.30075111e-04, -8.72440659e-04,  4.96229997e-06,\n",
       "       -1.19054752e-03, -3.77344007e-02,  3.50283349e-04, -2.23612607e-04,\n",
       "       -2.61343441e-03, -5.06925350e-04, -1.10534360e-03, -2.69830471e-04,\n",
       "       -7.66290576e-04,  2.33124292e-03, -1.71509712e-03,  1.14266980e-03,\n",
       "        5.87892279e-04,  1.14991720e-03, -3.98558946e-04,  3.76717971e-04,\n",
       "        1.82801055e-03,  8.92665330e-05, -1.31538834e-03,  1.70799114e-03,\n",
       "       -6.36474500e-04,  1.30474594e-05, -5.27864999e-04, -8.16093780e-04,\n",
       "        4.49886512e-04,  1.40028852e-03,  7.57162267e-04,  5.83807451e-05,\n",
       "       -1.32984029e-04, -2.98652378e-04, -2.82828780e-03,  1.26982759e-03,\n",
       "       -3.40444450e-03, -3.54506879e-03, -1.43769898e-03,  3.87226726e-04,\n",
       "       -3.49106336e-02,  1.25753905e-03, -1.95474789e-04, -3.99413239e-02,\n",
       "       -1.56756867e-03,  7.75314587e-06, -9.85420451e-04, -7.34106593e-04,\n",
       "       -1.47793377e-03, -2.55519456e-03, -1.50814743e-03,  1.63419544e-04,\n",
       "       -2.71310291e-03,  8.93913139e-05, -8.26416126e-04, -4.09644818e-04,\n",
       "       -1.58639402e-03, -1.62360207e-03, -1.70059101e-04, -2.69788854e-03,\n",
       "       -1.54207226e-03, -7.46089089e-04, -1.72755591e-03, -1.40470407e-03,\n",
       "       -1.65244867e-03,  2.06875654e-04, -7.43209364e-04, -3.18686177e-03])"
      ]
     },
     "execution_count": 111,
     "metadata": {},
     "output_type": "execute_result"
    }
   ],
   "source": [
    "grad(theta_0)"
   ]
  },
  {
   "cell_type": "code",
   "execution_count": 106,
   "metadata": {
    "ExecuteTime": {
     "end_time": "2020-05-21T09:38:03.094378Z",
     "start_time": "2020-05-21T09:38:03.089813Z"
    }
   },
   "outputs": [
    {
     "data": {
      "text/plain": [
       "array([ 515.4, -285.4, -341.6, 2085.4, -482. ])"
      ]
     },
     "execution_count": 106,
     "metadata": {},
     "output_type": "execute_result"
    }
   ],
   "source": [
    "rosen_der(x0)"
   ]
  },
  {
   "cell_type": "code",
   "execution_count": 98,
   "metadata": {
    "ExecuteTime": {
     "end_time": "2020-05-21T09:33:29.751018Z",
     "start_time": "2020-05-21T09:33:29.691072Z"
    }
   },
   "outputs": [
    {
     "name": "stdout",
     "output_type": "stream",
     "text": [
      "Optimization terminated successfully.\n",
      "         Current function value: 0.000000\n",
      "         Iterations: 114\n",
      "         Function evaluations: 386\n",
      "         Gradient evaluations: 386\n"
     ]
    },
    {
     "data": {
      "text/plain": [
       "      fun: 2.5862332971389123e-18\n",
       " hess_inv: array([[7.69255372e-05, 1.35187632e-04, 2.52256189e-04, 4.95284009e-04,\n",
       "        9.82120496e-04],\n",
       "       [1.35187632e-04, 2.63934418e-04, 4.97676597e-04, 9.73531061e-04,\n",
       "        1.93311029e-03],\n",
       "       [2.52256189e-04, 4.97676597e-04, 9.93888522e-04, 1.95089592e-03,\n",
       "        3.87250523e-03],\n",
       "       [4.95284009e-04, 9.73531061e-04, 1.95089592e-03, 3.89106655e-03,\n",
       "        7.72764828e-03],\n",
       "       [9.82120496e-04, 1.93311029e-03, 3.87250523e-03, 7.72764828e-03,\n",
       "        1.54212594e-02]])\n",
       "      jac: array([-4.55453186e-07,  5.77932901e-07,  2.92112689e-07,  9.63206623e-07,\n",
       "       -7.76454456e-07])\n",
       "  message: 'Optimization terminated successfully.'\n",
       "     nfev: 386\n",
       "      nit: 114\n",
       "     njev: 386\n",
       "   status: 0\n",
       "  success: True\n",
       "        x: array([1., 1., 1., 1., 1.])"
      ]
     },
     "execution_count": 98,
     "metadata": {},
     "output_type": "execute_result"
    }
   ],
   "source": [
    "from scipy.optimize import minimize, rosen, rosen_der\n",
    "\n",
    "x0 = [1.3, 0.7, 0.8, 1.9, 1.2]\n",
    "res = minimize(rosen, x0, method='BFGS', jac=lambda x: rosen_der(x),\n",
    "               options={'gtol': 1e-6, 'disp': True})\n",
    "res"
   ]
  },
  {
   "cell_type": "code",
   "execution_count": 79,
   "metadata": {
    "ExecuteTime": {
     "end_time": "2020-05-21T09:22:20.053543Z",
     "start_time": "2020-05-21T09:22:20.023057Z"
    }
   },
   "outputs": [
    {
     "data": {
      "text/plain": [
       "array([-9.59698853e-04, -8.17647544e-04,  2.50665657e-03, -1.49240255e-03,\n",
       "       -1.47196302e-03, -6.76136822e-04,  5.37943765e-04, -9.25578064e-04,\n",
       "        2.22342566e-03, -4.04315100e-02,  1.50578773e-03, -3.03404947e-03,\n",
       "       -4.55610713e-02, -1.19893121e-03, -1.64552521e-03, -1.53270727e-03,\n",
       "       -2.38486873e-03, -1.62725661e-03,  6.69246137e-04,  2.64764154e-05,\n",
       "       -3.13836089e-03, -2.41660654e-03, -2.69021576e-03, -3.29323208e-03,\n",
       "       -1.09900574e-03, -2.70306688e-03, -9.99202949e-05, -1.36035303e-03,\n",
       "        9.74555223e-04, -1.18294278e-03, -1.22880744e-03, -6.63341991e-04,\n",
       "        4.17623353e-04, -9.30075111e-04, -8.72440659e-04,  4.96229997e-06,\n",
       "       -1.19054752e-03, -3.77344007e-02,  3.50283349e-04, -2.23612607e-04,\n",
       "       -2.61343441e-03, -5.06925350e-04, -1.10534360e-03, -2.69830471e-04,\n",
       "       -7.66290576e-04,  2.33124292e-03, -1.71509712e-03,  1.14266980e-03,\n",
       "        5.87892279e-04,  1.14991720e-03, -3.98558946e-04,  3.76717971e-04,\n",
       "        1.82801055e-03,  8.92665330e-05, -1.31538834e-03,  1.70799114e-03,\n",
       "       -6.36474500e-04,  1.30474594e-05, -5.27864999e-04, -8.16093780e-04,\n",
       "        4.49886512e-04,  1.40028852e-03,  7.57162267e-04,  5.83807451e-05,\n",
       "       -1.32984029e-04, -2.98652378e-04, -2.82828780e-03,  1.26982759e-03,\n",
       "       -3.40444450e-03, -3.54506879e-03, -1.43769898e-03,  3.87226726e-04,\n",
       "       -3.49106336e-02,  1.25753905e-03, -1.95474789e-04, -3.99413239e-02,\n",
       "       -1.56756867e-03,  7.75314587e-06, -9.85420451e-04, -7.34106593e-04,\n",
       "       -1.47793377e-03, -2.55519456e-03, -1.50814743e-03,  1.63419544e-04,\n",
       "       -2.71310291e-03,  8.93913139e-05, -8.26416126e-04, -4.09644818e-04,\n",
       "       -1.58639402e-03, -1.62360207e-03, -1.70059101e-04, -2.69788854e-03,\n",
       "       -1.54207226e-03, -7.46089089e-04, -1.72755591e-03, -1.40470407e-03,\n",
       "       -1.65244867e-03,  2.06875654e-04, -7.43209364e-04, -3.18686177e-03])"
      ]
     },
     "execution_count": 79,
     "metadata": {},
     "output_type": "execute_result"
    }
   ],
   "source": [
    "grad(theta_0)"
   ]
  },
  {
   "cell_type": "code",
   "execution_count": 70,
   "metadata": {
    "ExecuteTime": {
     "end_time": "2020-05-21T09:12:09.826457Z",
     "start_time": "2020-05-21T09:12:09.514300Z"
    }
   },
   "outputs": [
    {
     "data": {
      "text/plain": [
       "[<matplotlib.lines.Line2D at 0x7f4f686e6b00>]"
      ]
     },
     "execution_count": 70,
     "metadata": {},
     "output_type": "execute_result"
    },
    {
     "data": {
      "image/png": "[encoded data removed]",
      "text/plain": [
       "<Figure size 432x288 with 1 Axes>"
      ]
     },
     "metadata": {
      "needs_background": "light"
     },
     "output_type": "display_data"
    }
   ],
   "source": [
    "plt.plot(theta_0)"
   ]
  },
  {
   "cell_type": "code",
   "execution_count": 71,
   "metadata": {
    "ExecuteTime": {
     "end_time": "2020-05-21T09:12:28.628299Z",
     "start_time": "2020-05-21T09:12:28.013458Z"
    }
   },
   "outputs": [
    {
     "data": {
      "image/png": "[encoded data removed]",
      "text/plain": [
       "<Figure size 864x288 with 3 Axes>"
      ]
     },
     "metadata": {
      "needs_background": "light"
     },
     "output_type": "display_data"
    }
   ],
   "source": [
    "clf.beta_ = theta_0\n",
    "clf.visualize()"
   ]
  }
 ],
 "metadata": {
  "kernelspec": {
   "display_name": "Python (tf2)",
   "language": "python",
   "name": "tf2"
  },
  "language_info": {
   "codemirror_mode": {
    "name": "ipython",
    "version": 3
   },
   "file_extension": ".py",
   "mimetype": "text/x-python",
   "name": "python",
   "nbconvert_exporter": "python",
   "pygments_lexer": "ipython3",
   "version": "3.6.8"
  },
  "latex_envs": {
   "LaTeX_envs_menu_present": true,
   "autoclose": false,
   "autocomplete": true,
   "bibliofile": "biblio.bib",
   "cite_by": "apalike",
   "current_citInitial": 1,
   "eqLabelWithNumbers": true,
   "eqNumInitial": 1,
   "hotkeys": {
    "equation": "Ctrl-E",
    "itemize": "Ctrl-I"
   },
   "labels_anchors": false,
   "latex_user_defs": false,
   "report_style_numbering": false,
   "user_envs_cfg": false
  },
  "varInspector": {
   "cols": {
    "lenName": 16,
    "lenType": 16,
    "lenVar": 40
   },
   "kernels_config": {
    "python": {
     "delete_cmd_postfix": "",
     "delete_cmd_prefix": "del ",
     "library": "var_list.py",
     "varRefreshCmd": "print(var_dic_list())"
    },
    "r": {
     "delete_cmd_postfix": ") ",
     "delete_cmd_prefix": "rm(",
     "library": "var_list.r",
     "varRefreshCmd": "cat(var_dic_list()) "
    }
   },
   "types_to_exclude": [
    "module",
    "function",
    "builtin_function_or_method",
    "instance",
    "_Feature"
   ],
   "window_display": false
  }
 },
 "nbformat": 4,
 "nbformat_minor": 2
}
