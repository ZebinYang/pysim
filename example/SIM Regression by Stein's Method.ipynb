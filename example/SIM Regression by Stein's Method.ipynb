{
 "cells": [
  {
   "cell_type": "markdown",
   "metadata": {},
   "source": [
    "## SIM Training by Stein's Method"
   ]
  },
  {
   "cell_type": "code",
   "execution_count": 21,
   "metadata": {},
   "outputs": [],
   "source": [
    "import numpy as np\n",
    "from matplotlib import pylab as plt\n",
    "from sklearn.model_selection import KFold\n",
    "from sklearn.model_selection import GridSearchCV\n",
    "from sklearn.preprocessing import MinMaxScaler\n",
    "from sklearn.metrics import make_scorer, mean_squared_error\n",
    "\n",
    "from pysim import SimRegressor"
   ]
  },
  {
   "cell_type": "markdown",
   "metadata": {},
   "source": [
    "## pySIM - A python package for Sparse SIM "
   ]
  },
  {
   "cell_type": "markdown",
   "metadata": {},
   "source": [
    "**To install**:\n",
    "    \n",
    "```sheel\n",
    "    pip install git+https://github.com/Zebinyang/pysim.git\n",
    "```\n",
    "\n",
    "Note pysim will call the R package fps (https://github.com/vqv/fps) using rpy2 interface. "
   ]
  },
  {
   "cell_type": "markdown",
   "metadata": {},
   "source": [
    "**Usage**"
   ]
  },
  {
   "cell_type": "markdown",
   "metadata": {},
   "source": [
    "```python\n",
    "from pysim import SimRegressor\n",
    "clf = SimRegressor(method=\"first_order\", spline=\"a_spline\", reg_lambda=0.1, reg_gamma=10, knot_num=20, degree=2, random_state=0)\n",
    "## clf.fit(x, y)\n",
    "```"
   ]
  },
  {
   "cell_type": "markdown",
   "metadata": {},
   "source": [
    "**Hyperparameters**\n",
    "\n",
    "- method: the base method for estimating the projection coefficients in sparse SIM. default=\"first_order\"\n",
    "\n",
    "        \"first_order\": First-order Stein's Identity via sparse PCA solver\n",
    "\n",
    "        \"second_order\": Second-order Stein's Identity via sparse PCA solver\n",
    "\n",
    "        \"first_order_thres\": First-order Stein's Identity via hard thresholding (A simplified verison)        \n",
    "    \n",
    "- spline: The type of spline method. default=\"a_spline\"\n",
    "\n",
    "        \"p_spline\": p-spline (from pygam package)\n",
    "    \n",
    "        \"p_spline_mono\": p-spline with monotonic constraint (from pygam package)\n",
    "    \n",
    "        \"a_spline\": adaptive spline where knots are automatically selected (see Goepp, V., Bouaziz, O. and Nuel, G., 2018. Spline regression with automatic knot selection. arXiv preprint arXiv:1808.01770.)\n",
    "\n",
    "- reg_lambda: The regularization strength of sparsity of beta. default=0.1, from 0 to 1 \n",
    "\n",
    "- reg_gamma: The regularization strength of the spline algorithm. default=10, from 0 to $+\\infty$\n",
    "\n",
    "- degree: The order of the spline basis. default=2\n",
    "\n",
    "- knot_num: The number of knots spanned uniformly over the domain. default=20\n",
    "\n",
    "- random_state: the random seed. default=0"
   ]
  },
  {
   "cell_type": "markdown",
   "metadata": {},
   "source": [
    "# Case 1: Sine Ridge Function"
   ]
  },
  {
   "cell_type": "markdown",
   "metadata": {},
   "source": [
    "- covariates: $x\\sim N(0, 0.3^2)$\n",
    "- ridge function: $ f(u) = \\sin{(u\\pi)} $\n",
    "- projection: $ u = \\beta^{T} x $, where $\\beta$ has 5 non-zero entries\n",
    "- noise: $N(0, 1)$\n",
    "- sample size: 10000\n",
    "- feature size: 100"
   ]
  },
  {
   "cell_type": "code",
   "execution_count": 22,
   "metadata": {
    "scrolled": true
   },
   "outputs": [],
   "source": [
    "s_star = 5\n",
    "n_features = 100\n",
    "n_samples = 10000\n",
    "\n",
    "np.random.seed(0)\n",
    "beta = np.zeros(n_features)\n",
    "supp_ids = np.random.choice(n_features, s_star)\n",
    "beta[supp_ids]=np.random.choice((-1, 1), s_star) / np.sqrt(s_star)\n",
    "\n",
    "x = np.random.normal(0, 0.3, size=(n_samples, n_features))\n",
    "y = np.sin(np.pi*(np.dot(x, beta))) + np.random.randn(n_samples)"
   ]
  },
  {
   "cell_type": "markdown",
   "metadata": {},
   "source": [
    "The best hyperparameter combination can be selected via cross-validation"
   ]
  },
  {
   "cell_type": "code",
   "execution_count": 24,
   "metadata": {
    "scrolled": true
   },
   "outputs": [
    {
     "name": "stdout",
     "output_type": "stream",
     "text": [
      "Fitting 3 folds for each of 20 candidates, totalling 60 fits\n"
     ]
    },
    {
     "name": "stderr",
     "output_type": "stream",
     "text": [
      "[Parallel(n_jobs=-1)]: Using backend LokyBackend with 64 concurrent workers.\n",
      "[Parallel(n_jobs=-1)]: Done  26 out of  60 | elapsed:   15.4s remaining:   20.1s\n",
      "[Parallel(n_jobs=-1)]: Done  57 out of  60 | elapsed:   19.7s remaining:    1.0s\n",
      "[Parallel(n_jobs=-1)]: Done  60 out of  60 | elapsed:   20.1s finished\n"
     ]
    },
    {
     "name": "stdout",
     "output_type": "stream",
     "text": [
      "CPU times: user 2.59 s, sys: 8.22 s, total: 10.8 s\n",
      "Wall time: 20.6 s\n"
     ]
    }
   ],
   "source": [
    "%%time \n",
    "\n",
    "param_grid = {\"method\": [\"first_order\", \"second_order\"],\n",
    "              \"reg_lambda\": [0.05, 0.1], \n",
    "              \"reg_gamma\": np.logspace(-2, 2, 5)}\n",
    "grid = GridSearchCV(SimRegressor(degree=2, knot_num=10, spline=\"a_spline\", random_state=0), \n",
    "                    cv=KFold(3, shuffle=True, random_state=0), param_grid=param_grid, n_jobs=-1, verbose=2, error_score=np.nan)\n",
    "grid.fit(x, y)"
   ]
  },
  {
   "cell_type": "code",
   "execution_count": 25,
   "metadata": {},
   "outputs": [
    {
     "data": {
      "text/plain": [
       "{'method': 'first_order', 'reg_gamma': 1.0, 'reg_lambda': 0.05}"
      ]
     },
     "execution_count": 25,
     "metadata": {},
     "output_type": "execute_result"
    }
   ],
   "source": [
    "grid.best_params_"
   ]
  },
  {
   "cell_type": "markdown",
   "metadata": {},
   "source": [
    "**NB**: The first-order Setin's method is selected, as $\\mathbb{E}[f^{\\prime\\prime}(u)]=0$. Therefore, the second order method cannot provide any information about the projection coefficients. "
   ]
  },
  {
   "cell_type": "markdown",
   "metadata": {},
   "source": [
    "In this case, the first-order Setin's method is selected. "
   ]
  },
  {
   "cell_type": "code",
   "execution_count": 26,
   "metadata": {},
   "outputs": [
    {
     "data": {
      "text/plain": [
       "SimRegressor(degree=2, knot_num=10, method='first_order', random_state=0,\n",
       "             reg_gamma=1.0, reg_lambda=0.05, spline='a_spline')"
      ]
     },
     "execution_count": 26,
     "metadata": {},
     "output_type": "execute_result"
    }
   ],
   "source": [
    "clf = grid.best_estimator_\n",
    "clf"
   ]
  },
  {
   "cell_type": "code",
   "execution_count": 27,
   "metadata": {},
   "outputs": [
    {
     "data": {
      "image/png": "[encoded data removed]",
      "text/plain": [
       "<Figure size 432x288 with 1 Axes>"
      ]
     },
     "metadata": {
      "needs_background": "light"
     },
     "output_type": "display_data"
    }
   ],
   "source": [
    "plt.plot(clf.beta_, \"o\")\n",
    "plt.plot(beta, \"o\")\n",
    "plt.legend([\"Estimated\", \"Ground Truth\"])\n",
    "plt.show()"
   ]
  },
  {
   "cell_type": "code",
   "execution_count": 28,
   "metadata": {
    "scrolled": true
   },
   "outputs": [
    {
     "data": {
      "image/png": "[encoded data removed]",
      "text/plain": [
       "<Figure size 864x288 with 2 Axes>"
      ]
     },
     "metadata": {
      "needs_background": "light"
     },
     "output_type": "display_data"
    }
   ],
   "source": [
    "clf.visualize()\n",
    "plt.show()"
   ]
  },
  {
   "cell_type": "code",
   "execution_count": 44,
   "metadata": {},
   "outputs": [
    {
     "data": {
      "text/plain": [
       "array([ 0.07242118, -0.07658835, -1.38046409, -0.06986769,  1.39358701,\n",
       "        0.33142755,  1.14994609])"
      ]
     },
     "execution_count": 44,
     "metadata": {},
     "output_type": "execute_result"
    }
   ],
   "source": [
    "import scipy\n",
    "import numpy as np\n",
    "import pandas as pd \n",
    "from scipy.linalg import cholesky\n",
    "from patsy import dmatrix, build_design_matrices\n",
    "\n",
    "clf = grid.best_estimator_.shape_fit_\n",
    "sample_weight = np.ones(n_samples)\n",
    "x, y = clf._validate_input(x, y)\n",
    "\n",
    "knots = list(np.linspace(clf.xmin, clf.xmax, clf.knot_num + 2, dtype=np.float32)[1:-1])\n",
    "xphi = dmatrix(\"bs(x, knots = knots, degree=degree, include_intercept=True) - 1\",\n",
    "           {\"x\": [clf.xmin, clf.xmax], \"knots\": knots, \"degree\": clf.degree})\n",
    "init_basis = np.asarray(build_design_matrices([xphi.design_info],\n",
    "           {\"x\": x, \"knots\": knots, \"degree\": clf.degree})[0])\n",
    "\n",
    "best_loss = np.inf\n",
    "D = clf.diff_matrix(clf.degree, clf.knot_num)\n",
    "update_w = np.ones([clf.knot_num, 1], dtype=np.float32) \n",
    "BWB = np.tensordot(init_basis * sample_weight.reshape([-1, 1]), init_basis, axes=([0], [0]))\n",
    "BWY = np.tensordot(init_basis * sample_weight.reshape([-1, 1]), y, axes=([0], [0]))\n",
    "for i in range(clf.maxiter):\n",
    "    DwD = np.tensordot(D * update_w.reshape([-1, 1]), D, axes=([0], [0]))\n",
    "    U = cholesky(BWB + clf.reg_gamma * DwD)\n",
    "    M = scipy.linalg.lapack.clapack.dtrtri(U)[0]\n",
    "    update_a_temp = np.dot(np.dot(M, M.T.conj()), BWY)\n",
    "    new_loss = clf._get_loss(y, np.dot(init_basis, update_a_temp))\n",
    "    if new_loss - best_loss >= 0:\n",
    "        break\n",
    "    best_loss = new_loss\n",
    "    update_a = update_a_temp\n",
    "    update_w = 1 / (np.dot(D, update_a) ** 2 + clf.epsilon ** 2)\n",
    "\n",
    "clf.selected_knots_ = list(np.array(knots)[np.reshape(update_w * np.dot(D, update_a) ** 2 > clf.threshold, [-1])])\n",
    "clf.selected_xphi_ = dmatrix(\"bs(x, knots = knots, degree=degree, include_intercept=True) - 1\", \n",
    "       {\"x\": [clf.xmin, clf.xmax], \"knots\": clf.selected_knots_, \"degree\": clf.degree})\n",
    "selected_basis = np.asarray(build_design_matrices([clf.selected_xphi_.design_info],\n",
    "                  {\"x\": x, \"knots\": clf.selected_knots_, \"degree\": clf.degree})[0])\n",
    "seBWB = np.tensordot(selected_basis * sample_weight.reshape([-1, 1]), selected_basis, axes=([0], [0]))\n",
    "seBWY = np.tensordot(selected_basis * sample_weight.reshape([-1, 1]), y, axes=([0], [0]))\n",
    "np.dot(np.linalg.pinv(seBWB), seBWY)\n"
   ]
  },
  {
   "cell_type": "code",
   "execution_count": 46,
   "metadata": {},
   "outputs": [
    {
     "data": {
      "text/plain": [
       "array([ 1.45574254,  1.77070435,  0.74211315, ..., -0.93986408,\n",
       "        0.2745256 , -1.14202375])"
      ]
     },
     "execution_count": 46,
     "metadata": {},
     "output_type": "execute_result"
    }
   ],
   "source": [
    "from sklearn.utils import check_array, check_X_y, column_or_1d\n",
    "y = column_or_1d(y, warn=False)\n",
    "y"
   ]
  },
  {
   "cell_type": "code",
   "execution_count": 33,
   "metadata": {},
   "outputs": [
    {
     "data": {
      "text/plain": [
       "array([-0.08617568,  0.24996863,  0.08711032, ...,  0.55759211,\n",
       "        0.54408326, -0.61703453])"
      ]
     },
     "execution_count": 33,
     "metadata": {},
     "output_type": "execute_result"
    }
   ],
   "source": [
    "grid.best_estimator_.shape_fit_.decision_function(np.dot(x, grid.best_estimator_.beta_))"
   ]
  },
  {
   "cell_type": "markdown",
   "metadata": {},
   "source": [
    "## Case 2: Quadratic Ridge Function"
   ]
  },
  {
   "cell_type": "markdown",
   "metadata": {},
   "source": [
    "- covariates: $x\\sim N(0, 0.3^2)$\n",
    "- ridge function: $ f(u) = u^{2} $\n",
    "- projection: $ u = \\beta^{T} x $, where $\\beta$ has 5 non-zero entries\n",
    "- noise: $N(0, 1)$\n",
    "- sample size: 10000\n",
    "- feature size: 100"
   ]
  },
  {
   "cell_type": "code",
   "execution_count": 8,
   "metadata": {
    "scrolled": true
   },
   "outputs": [],
   "source": [
    "s_star = 5\n",
    "n_features = 100\n",
    "n_samples = 10000\n",
    "\n",
    "np.random.seed(0)\n",
    "beta = np.zeros(n_features)\n",
    "supp_ids = np.random.choice(n_features, s_star)\n",
    "beta[supp_ids]=np.random.choice((-1, 1), s_star) / np.sqrt(s_star)\n",
    "\n",
    "x = np.random.normal(0, 0.3, size=(n_samples, n_features))\n",
    "y = np.dot(x, beta) ** 2 + np.random.randn(n_samples)"
   ]
  },
  {
   "cell_type": "code",
   "execution_count": 9,
   "metadata": {
    "scrolled": true
   },
   "outputs": [
    {
     "name": "stdout",
     "output_type": "stream",
     "text": [
      "Fitting 5 folds for each of 40 candidates, totalling 200 fits\n"
     ]
    },
    {
     "name": "stderr",
     "output_type": "stream",
     "text": [
      "[Parallel(n_jobs=-1)]: Using backend LokyBackend with 64 concurrent workers.\n",
      "[Parallel(n_jobs=-1)]: Done  34 tasks      | elapsed:   11.2s\n",
      "[Parallel(n_jobs=-1)]: Done 174 out of 200 | elapsed:   42.6s remaining:    6.4s\n",
      "[Parallel(n_jobs=-1)]: Done 200 out of 200 | elapsed:  1.6min finished\n"
     ]
    },
    {
     "name": "stdout",
     "output_type": "stream",
     "text": [
      "CPU times: user 3.72 s, sys: 10.7 s, total: 14.5 s\n",
      "Wall time: 1min 37s\n"
     ]
    }
   ],
   "source": [
    "%%time \n",
    "\n",
    "param_grid = {\"method\": [\"first_order\", \"second_order\"],\n",
    "              \"reg_lambda\": [0.02, 0.04, 0.08, 0.1], \n",
    "              \"reg_gamma\":  np.logspace(-2, 2, 5)}\n",
    "grid = GridSearchCV(SimRegressor(degree=2, knot_num=50, spline=\"a_spline\", random_state=0), \n",
    "                    cv=KFold(5, shuffle=True, random_state=0), param_grid=param_grid, n_jobs=-1, verbose=2, error_score=np.nan)\n",
    "grid.fit(x, y)"
   ]
  },
  {
   "cell_type": "code",
   "execution_count": 10,
   "metadata": {},
   "outputs": [
    {
     "data": {
      "text/plain": [
       "{'method': 'second_order', 'reg_gamma': 10.0, 'reg_lambda': 0.02}"
      ]
     },
     "execution_count": 10,
     "metadata": {},
     "output_type": "execute_result"
    }
   ],
   "source": [
    "grid.best_params_"
   ]
  },
  {
   "cell_type": "markdown",
   "metadata": {},
   "source": [
    "**NB**: The second-order Setin's method is selected, as $\\mathbb{E}[f^{\\prime}(u)]=0$. Therefore, the first order method cannot provide any information about the projection coefficients. "
   ]
  },
  {
   "cell_type": "code",
   "execution_count": 11,
   "metadata": {},
   "outputs": [
    {
     "data": {
      "text/plain": [
       "SimRegressor(degree=2, knot_num=50, method='second_order', random_state=0,\n",
       "             reg_gamma=10.0, reg_lambda=0.02, spline='a_spline')"
      ]
     },
     "execution_count": 11,
     "metadata": {},
     "output_type": "execute_result"
    }
   ],
   "source": [
    "clf = grid.best_estimator_\n",
    "clf"
   ]
  },
  {
   "cell_type": "code",
   "execution_count": 12,
   "metadata": {},
   "outputs": [
    {
     "data": {
      "image/png": "[encoded data removed]",
      "text/plain": [
       "<Figure size 432x288 with 1 Axes>"
      ]
     },
     "metadata": {
      "needs_background": "light"
     },
     "output_type": "display_data"
    }
   ],
   "source": [
    "plt.plot(clf.beta_, \"o\")\n",
    "plt.plot(beta, \"o\")\n",
    "plt.legend([\"Estimated\", \"Ground Truth\"])\n",
    "plt.show()"
   ]
  },
  {
   "cell_type": "code",
   "execution_count": 13,
   "metadata": {},
   "outputs": [
    {
     "data": {
      "image/png": "[encoded data removed]",
      "text/plain": [
       "<Figure size 864x288 with 2 Axes>"
      ]
     },
     "metadata": {
      "needs_background": "light"
     },
     "output_type": "display_data"
    }
   ],
   "source": [
    "clf.visualize()"
   ]
  },
  {
   "cell_type": "markdown",
   "metadata": {},
   "source": [
    "## Case 3: Monotonic Ridge Function"
   ]
  },
  {
   "cell_type": "markdown",
   "metadata": {},
   "source": [
    "- covariates: $x\\sim N(0, 0.3^2)$\n",
    "- ridge function: $ f(u) = e^{-u} $\n",
    "- projection: $ u = \\beta^{T} x $, where $\\beta$ has 5 non-zero entries\n",
    "- noise: $N(0, 1)$\n",
    "- sample size: 10000\n",
    "- feature size: 100"
   ]
  },
  {
   "cell_type": "code",
   "execution_count": 14,
   "metadata": {
    "scrolled": true
   },
   "outputs": [],
   "source": [
    "s_star = 5\n",
    "n_features = 100\n",
    "n_samples = 10000\n",
    "\n",
    "np.random.seed(0)\n",
    "beta = np.zeros(n_features)\n",
    "supp_ids = np.random.choice(n_features, s_star)\n",
    "beta[supp_ids]=np.random.choice((-1, 1), s_star) / np.sqrt(s_star)\n",
    "\n",
    "x = np.random.normal(0, 0.3, size=(n_samples, n_features))\n",
    "y = np.exp(- np.dot(x, beta)) + np.random.randn(n_samples)"
   ]
  },
  {
   "cell_type": "markdown",
   "metadata": {},
   "source": [
    "- monotonic p-spline"
   ]
  },
  {
   "cell_type": "code",
   "execution_count": 15,
   "metadata": {},
   "outputs": [
    {
     "name": "stdout",
     "output_type": "stream",
     "text": [
      "Fitting 5 folds for each of 20 candidates, totalling 100 fits\n"
     ]
    },
    {
     "name": "stderr",
     "output_type": "stream",
     "text": [
      "[Parallel(n_jobs=-1)]: Using backend LokyBackend with 64 concurrent workers.\n",
      "[Parallel(n_jobs=-1)]: Done  24 out of 100 | elapsed:    9.8s remaining:   30.9s\n",
      "[Parallel(n_jobs=-1)]: Done  75 out of 100 | elapsed:   16.8s remaining:    5.6s\n",
      "[Parallel(n_jobs=-1)]: Done 100 out of 100 | elapsed:   18.8s finished\n"
     ]
    },
    {
     "name": "stdout",
     "output_type": "stream",
     "text": [
      "CPU times: user 4.29 s, sys: 9.88 s, total: 14.2 s\n",
      "Wall time: 19 s\n"
     ]
    }
   ],
   "source": [
    "%%time \n",
    "\n",
    "param_grid = {\"method\": [\"first_order\", \"second_order\"],\n",
    "              \"reg_lambda\": [0.05, 0.1], \n",
    "              \"reg_gamma\":  np.logspace(-2, 2, 5)}\n",
    "grid = GridSearchCV(SimRegressor(degree=2, knot_num=50, spline=\"a_spline\", random_state=0), \n",
    "                    cv=KFold(5, shuffle=True, random_state=0), param_grid=param_grid, n_jobs=-1, verbose=2, error_score=np.nan)\n",
    "grid.fit(x, y)"
   ]
  },
  {
   "cell_type": "code",
   "execution_count": 16,
   "metadata": {},
   "outputs": [
    {
     "data": {
      "image/png": "[encoded data removed]",
      "text/plain": [
       "<Figure size 432x288 with 1 Axes>"
      ]
     },
     "metadata": {
      "needs_background": "light"
     },
     "output_type": "display_data"
    }
   ],
   "source": [
    "plt.plot(grid.best_estimator_.beta_, \"o\")\n",
    "plt.plot(beta, \"o\")\n",
    "plt.legend([\"Estimated\", \"Ground Truth\"])\n",
    "plt.show()"
   ]
  },
  {
   "cell_type": "code",
   "execution_count": 17,
   "metadata": {},
   "outputs": [
    {
     "data": {
      "image/png": "[encoded data removed]",
      "text/plain": [
       "<Figure size 864x288 with 2 Axes>"
      ]
     },
     "metadata": {
      "needs_background": "light"
     },
     "output_type": "display_data"
    }
   ],
   "source": [
    "grid.best_estimator_.visualize()\n",
    "plt.show()"
   ]
  }
 ],
 "metadata": {
  "kernelspec": {
   "display_name": "Python (tf2)",
   "language": "python",
   "name": "tf2"
  },
  "language_info": {
   "codemirror_mode": {
    "name": "ipython",
    "version": 3
   },
   "file_extension": ".py",
   "mimetype": "text/x-python",
   "name": "python",
   "nbconvert_exporter": "python",
   "pygments_lexer": "ipython3",
   "version": "3.6.8"
  }
 },
 "nbformat": 4,
 "nbformat_minor": 2
}
