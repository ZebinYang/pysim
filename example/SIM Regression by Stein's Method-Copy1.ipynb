{
 "cells": [
  {
   "cell_type": "markdown",
   "metadata": {},
   "source": [
    "## SIM Training by Stein's Method"
   ]
  },
  {
   "cell_type": "code",
   "execution_count": 1,
   "metadata": {},
   "outputs": [],
   "source": [
    "import numpy as np\n",
    "from matplotlib import pylab as plt\n",
    "from sklearn.model_selection import KFold\n",
    "from sklearn.model_selection import GridSearchCV\n",
    "from sklearn.preprocessing import MinMaxScaler\n",
    "from sklearn.metrics import make_scorer, mean_squared_error\n",
    "\n",
    "from pysim import SimRegressor"
   ]
  },
  {
   "cell_type": "code",
   "execution_count": 35,
   "metadata": {},
   "outputs": [],
   "source": [
    "import numpy as np\n",
    "import pandas as pd\n",
    "from matplotlib import gridspec\n",
    "import matplotlib.pyplot as plt\n",
    "\n",
    "from sklearn.utils.extmath import softmax\n",
    "from sklearn.preprocessing import LabelBinarizer\n",
    "from sklearn.utils import check_X_y, column_or_1d\n",
    "from sklearn.utils.validation import check_is_fitted\n",
    "from sklearn.model_selection import train_test_split\n",
    "from sklearn.metrics import mean_squared_error, roc_auc_score\n",
    "from sklearn.base import BaseEstimator, RegressorMixin, ClassifierMixin, is_classifier, is_regressor\n",
    "\n",
    "from abc import ABCMeta, abstractmethod\n",
    "from pysim.aspline import ASplineClassifier, ASplineRegressor\n",
    "\n",
    "from rpy2 import robjects as ro\n",
    "from rpy2.robjects import numpy2ri\n",
    "from rpy2.robjects.packages import importr\n",
    "\n",
    "utils = importr(\"utils\")\n",
    "utils.install_packages(\"fps\")\n",
    "\n",
    "fps = importr(\"fps\")\n",
    "numpy2ri.activate()\n",
    "\n",
    "\n",
    "class BaseSim(BaseEstimator, metaclass=ABCMeta):\n",
    "    \"\"\"\n",
    "        Base class for sim classification and regression.\n",
    "     \"\"\"\n",
    "\n",
    "    @abstractmethod\n",
    "    def __init__(self, method=\"first_order\", reg_lambda=0.1, reg_gamma=10, \n",
    "                 knot_num=20, degree=2, random_state=0):\n",
    "\n",
    "        self.method = method\n",
    "        self.reg_lambda = reg_lambda\n",
    "        self.reg_gamma = reg_gamma\n",
    "        self.knot_num = knot_num\n",
    "        self.degree = degree\n",
    "        \n",
    "        self.random_state = random_state\n",
    "\n",
    "    def _validate_hyperparameters(self):\n",
    "        \n",
    "        if self.method not in [\"first_order\", \"second_order\", \"first_order_thres\"]:\n",
    "            raise ValueError(\"method must be an element of [first_order, second_order, first_order_thres], got %s.\" % self.method)\n",
    "                \n",
    "        if not isinstance(self.degree, int):\n",
    "            raise ValueError(\"degree must be an integer, got %s.\" % self.degree)\n",
    "\n",
    "        if self.degree < 0:\n",
    "            raise ValueError(\"degree must be >= 0, got\" % self.degree)\n",
    "        \n",
    "        if not isinstance(self.knot_num, int):\n",
    "            raise ValueError(\"knot_num must be an integer, got %s.\" % self.knot_num)\n",
    "\n",
    "        if self.knot_num <= 0:\n",
    "            raise ValueError(\"knot_num must be > 0, got\" % self.knot_num)\n",
    "\n",
    "        if self.reg_lambda < 0:\n",
    "            raise ValueError(\"reg_lambda must be >= 0, got %s.\" % self.reg_lambda)\n",
    "\n",
    "        if self.reg_gamma < 0:\n",
    "            raise ValueError(\"reg_gamma must be >= 0, got %s.\" % self.reg_gamma)\n",
    "\n",
    "    def _validate_sample_weight(self, n_samples, sample_weight):\n",
    "        \n",
    "        if sample_weight is None:\n",
    "            sample_weight = np.ones(n_samples) / n_samples\n",
    "        else:\n",
    "            sample_weight = sample_weight / np.sum(sample_weight)\n",
    "        return sample_weight\n",
    "\n",
    "    def _first_order_thres(self, x, y, sample_weight=None, proj_mat=None):\n",
    "\n",
    "        self.mu = np.average(x, axis=0, weights=sample_weight) \n",
    "        self.cov = np.cov(x.T, aweights=sample_weight)\n",
    "        self.inv_cov = np.linalg.pinv(self.cov)\n",
    "        s1 = np.dot(self.inv_cov, (x - self.mu).T).T\n",
    "        zbar = np.average(y.reshape(-1, 1) * s1, axis=0, weights=sample_weight)\n",
    "        if np.all(np.abs(zbar) < self.reg_lambda * np.sum(np.abs(zbar))):\n",
    "            zbar[np.abs(zbar) < np.max(np.abs(zbar))] = 0\n",
    "        else:\n",
    "            zbar[np.abs(zbar) < self.reg_lambda * np.sum(np.abs(zbar))] = 0\n",
    "        if proj_mat is not None:\n",
    "            zbar = np.dot(proj_mat, zbar)\n",
    "        if np.linalg.norm(zbar) > 0:\n",
    "            beta = zbar / np.linalg.norm(zbar)\n",
    "        else:\n",
    "            beta = zbar\n",
    "        return beta.reshape([-1, 1])\n",
    "\n",
    "    def _first_order(self, x, y, sample_weight=None, proj_mat=None):\n",
    "\n",
    "        self.mu = np.average(x, axis=0, weights=sample_weight) \n",
    "        self.cov = np.cov(x.T, aweights=sample_weight)\n",
    "        self.inv_cov = np.linalg.pinv(self.cov)\n",
    "        s1 = np.dot(self.inv_cov, (x - self.mu).T).T\n",
    "        zbar = np.average(y.reshape(-1, 1) * s1, axis=0, weights=sample_weight)\n",
    "        sigmat = np.dot(zbar.reshape([-1, 1]), zbar.reshape([-1, 1]).T)\n",
    "        if proj_mat is not None:\n",
    "            sigmat = np.dot(np.dot(proj_mat, sigmat), proj_mat)\n",
    "        u, s, v = np.linalg.svd(sigmat)\n",
    "        sigmat = np.dot(np.dot(u, np.diag(s)), u.T)\n",
    "        \n",
    "        spca_solver = fps.fps(sigmat, 1, 1, -1, -1, ro.r.c(self.reg_lambda * np.sum(np.abs(zbar))))\n",
    "        beta = np.array(fps.coef_fps(spca_solver, self.reg_lambda * np.sum(np.abs(zbar))))\n",
    "        return beta\n",
    "\n",
    "    def _second_order(self, x, y, sample_weight=None, proj_mat=None):\n",
    "\n",
    "        n_samples, n_features = x.shape\n",
    "        self.mu = np.average(x, axis=0, weights=sample_weight) \n",
    "        self.cov = np.cov(x.T, aweights=sample_weight)\n",
    "        self.inv_cov = np.linalg.pinv(self.cov)\n",
    "        s1 = np.dot(self.inv_cov, (x - self.mu).T).T\n",
    "        sigmat = np.tensordot(s1 * y.reshape([-1, 1]) * sample_weight.reshape([-1, 1]), s1, axes=([0], [0]))\n",
    "        sigmat -= np.average(y, axis=0, weights=sample_weight) * self.inv_cov\n",
    "        if proj_mat is not None:\n",
    "            sigmat = np.dot(np.dot(proj_mat, sigmat), proj_mat)\n",
    "        u, s, v = np.linalg.svd(sigmat)\n",
    "        sigmat = np.dot(np.dot(u, np.diag(s)), u.T)\n",
    "\n",
    "        beta_svd_l1norm = np.sum(np.abs(np.linalg.svd(sigmat)[0][:, 0]))  \n",
    "        spca_solver = fps.fps(sigmat, 1, 1, -1, -1, ro.r.c(self.reg_lambda * beta_svd_l1norm))\n",
    "        beta = np.array(fps.coef_fps(spca_solver, self.reg_lambda * np.sum(np.abs(beta_svd_l1norm))))\n",
    "        return beta\n",
    "\n",
    "    def visualize(self):\n",
    "\n",
    "        check_is_fitted(self, \"beta_\")\n",
    "        check_is_fitted(self, \"shape_fit_\")\n",
    "\n",
    "        xlim_min = - max(np.abs(self.beta_.min() - 0.1), np.abs(self.beta_.max() + 0.1))\n",
    "        xlim_max = max(np.abs(self.beta_.min() - 0.1), np.abs(self.beta_.max() + 0.1))\n",
    "\n",
    "        fig = plt.figure(figsize=(12, 4))\n",
    "        outer = gridspec.GridSpec(1, 2, wspace=0.15)      \n",
    "        inner = gridspec.GridSpecFromSubplotSpec(2, 1, subplot_spec=outer[0], wspace=0.1, hspace=0.1, height_ratios=[6, 1])\n",
    "        ax1_main = plt.Subplot(fig, inner[0]) \n",
    "        xgrid = np.linspace(self.shape_fit_.xmin, self.shape_fit_.xmax, 100).reshape([-1, 1])\n",
    "        ygrid = self.shape_fit_.decision_function(xgrid)\n",
    "        ax1_main.plot(xgrid, ygrid)\n",
    "        ax1_main.set_xticklabels([])\n",
    "        ax1_main.set_title(\"Shape Function\", fontsize=12)\n",
    "        fig.add_subplot(ax1_main)\n",
    "        \n",
    "        ax1_density = plt.Subplot(fig, inner[1]) \n",
    "        xint = ((np.array(self.shape_fit_.bins_[1:]) + np.array(self.shape_fit_.bins_[:-1])) / 2).reshape([-1, 1]).reshape([-1])\n",
    "        ax1_density.bar(xint, self.shape_fit_.density_, width=xint[1] - xint[0])\n",
    "        ax1_main.get_shared_x_axes().join(ax1_main, ax1_density)\n",
    "        ax1_density.set_yticklabels([])\n",
    "        ax1_density.autoscale()\n",
    "        fig.add_subplot(ax1_density)\n",
    "\n",
    "        ax2 = plt.Subplot(fig, outer[1]) \n",
    "        if len(self.beta_) <= 10:\n",
    "            rects = ax2.barh(np.arange(len(self.beta_)), [beta for beta in self.beta_.ravel()][::-1])\n",
    "            ax2.set_yticks(np.arange(len(self.beta_)))\n",
    "            ax2.set_yticklabels([\"X\" + str(idx + 1) for idx in range(len(self.beta_.ravel()))][::-1])\n",
    "            ax2.set_xlim(xlim_min, xlim_max)\n",
    "            ax2.set_ylim(-1, len(self.beta_))\n",
    "            ax2.axvline(0, linestyle=\"dotted\", color=\"black\")\n",
    "        else:\n",
    "            active_beta = []\n",
    "            active_beta_idx = []\n",
    "            for idx, beta in enumerate(self.beta_.ravel()):\n",
    "                if np.abs(beta) > 0:\n",
    "                    active_beta.append(beta)\n",
    "                    active_beta_idx.append(idx)\n",
    "            rects = ax2.barh(np.arange(len(active_beta)), [beta for beta in active_beta][::-1])\n",
    "            ax2.set_yticks(np.arange(len(active_beta)))\n",
    "            ax2.set_yticklabels([\"X\" + str(idx + 1) for idx in active_beta_idx][::-1])\n",
    "            ax2.set_xlim(xlim_min, xlim_max)\n",
    "            ax2.set_ylim(-1, len(active_beta_idx))\n",
    "            ax2.axvline(0, linestyle=\"dotted\", color=\"black\")\n",
    "        ax2.set_title(\"Projection Indice\", fontsize=12)\n",
    "        fig.add_subplot(ax2)\n",
    "        plt.show()\n",
    "    \n",
    "    def fit_inner_update(self, x, y, sample_weight=None, max_inner_iter=10, epoches=100, n_iter_no_change=100,\n",
    "                         batch_size=100, val_ratio=0.2, learning_rate=1e-3, beta_1=0.9, beta_2=0.999, verbose=False):\n",
    "        \n",
    "        x, y = self._validate_input(x, y)\n",
    "        n_samples = x.shape[0]\n",
    "        sample_weight = self._validate_sample_weight(n_samples, sample_weight)\n",
    "\n",
    "        idx1, idx2 = train_test_split(np.arange(n_samples),test_size=val_ratio, random_state=self.random_state)\n",
    "        tr_x, tr_y, val_x, val_y = x[idx1], y[idx1], x[idx2], y[idx2]\n",
    "\n",
    "        for inner_iter in range(max_inner_iter):\n",
    "\n",
    "            m_t = 0 # moving average of the gradient\n",
    "            v_t = 0 # moving average of the gradient square\n",
    "            no_change = 0\n",
    "            num_updates = 0\n",
    "            theta_0 = self.beta_ \n",
    "            val_loss_best = np.inf\n",
    "            train_size = tr_x.shape[0]\n",
    "            for epoch in range(epoches):\n",
    "\n",
    "                shuffle_index = np.arange(tr_x.shape[0])\n",
    "                np.random.shuffle(shuffle_index)\n",
    "                tr_x = tr_x[shuffle_index]\n",
    "                tr_y = tr_y[shuffle_index]\n",
    "\n",
    "                for iterations in range(train_size // batch_size):\n",
    "\n",
    "                    num_updates += 1\n",
    "                    offset = (iterations * batch_size) % train_size\n",
    "                    batch_xx = tr_x[offset:(offset + batch_size), :]\n",
    "                    batch_yy = tr_y[offset:(offset + batch_size)]\n",
    "                    batch_sample_weight = sample_weight[offset:(offset + batch_size)]\n",
    "\n",
    "                    xb = np.dot(batch_xx, theta_0)\n",
    "                    if is_regressor(self):\n",
    "                        r = batch_yy - self.shape_fit_.predict(xb)\n",
    "                    elif is_classifier(self):\n",
    "                        r = batch_yy - self.shape_fit_.predict_proba(xb)\n",
    "                    \n",
    "                    # gradient\n",
    "                    dfxb = clf.shape_fit_.diff(xb, order=1)\n",
    "                    g_t = np.average((- dfxb * r).reshape(-1, 1) * batch_xx, axis=0,\n",
    "                                     weights=batch_sample_weight).reshape(-1, 1)\n",
    "\n",
    "                    # update the moving average \n",
    "                    m_t = beta_1 * m_t + (1 - beta_1) * g_t\n",
    "                    v_t = beta_2 * v_t + (1 - beta_2) * (g_t * g_t)\n",
    "                    # calculates the bias-corrected estimates\n",
    "                    m_cap = m_t / (1 - (beta_1 ** (num_updates + 1)))  \n",
    "                    v_cap = v_t / (1 - (beta_2 ** (num_updates + 1)))\n",
    "                    # updates the parameters\n",
    "                    theta_0 = theta_0 - (learning_rate * m_cap) / (np.sqrt(v_cap) + 1e-8)\n",
    "\n",
    "                # validation loss\n",
    "                val_xb = np.dot(val_x, theta_0)\n",
    "                if is_regressor(self):\n",
    "                    val_r = val_y - self.shape_fit_.predict(val_xb)\n",
    "                    val_loss = np.average(val_r ** 2, axis=0, weights=sample_weight[idx2])\n",
    "                elif is_classifier(self):\n",
    "                    val_p = self.shape_fit_.predict_proba(val_xb)\n",
    "                    val_loss = np.average(- val_y * np.log(val_p) - (1 - val_y) * np.log(1 - val_p),\n",
    "                                          axis=0, weights=sample_weight[idx2])\n",
    "                \n",
    "                # stop criterion\n",
    "                if np.abs(val_loss_best - val_loss) > 0.0001:\n",
    "                    val_loss_best = val_loss\n",
    "                    no_change = 0\n",
    "                else:\n",
    "                    no_change += 1\n",
    "                if no_change >= n_iter_no_change:\n",
    "                    break\n",
    "                if verbose:\n",
    "                    print(\"Inner iter:\", inner_iter, \"epoch:\", epoch, \"with validation loss:\", np.round(val_loss, 5))\n",
    "  \n",
    "            ## thresholding and normalization\n",
    "            theta_0 = np.sign(theta_0) * np.maximum(np.abs(theta_0) - clf.reg_lambda * np.sum(np.abs(theta_0)), 0)\n",
    "            theta_0 = theta_0 / np.linalg.norm(theta_0) \n",
    "    \n",
    "            if len(theta_0[np.abs(theta_0) > 0]) > 0:\n",
    "                if (theta_0[np.abs(theta_0) > 0][0] < 0):\n",
    "                    theta_0 = - theta_0\n",
    "\n",
    "            # ridge update\n",
    "            self.beta_ = theta_0\n",
    "            xb = np.dot(x, self.beta_)\n",
    "            self._estimate_shape(xb, y, sample_weight, xmin=np.min(xb), xmax=np.max(xb))\n",
    "\n",
    "    def fit(self, x, y, sample_weight=None, proj_mat=None):\n",
    "\n",
    "        np.random.seed(self.random_state)\n",
    "        \n",
    "        self._validate_hyperparameters()\n",
    "        x, y = self._validate_input(x, y)\n",
    "        n_samples, n_features = x.shape\n",
    "        if sample_weight is None:\n",
    "            sample_weight = np.ones(n_samples) / n_samples\n",
    "        else:\n",
    "            sample_weight = sample_weight / np.sum(sample_weight)\n",
    "        \n",
    "        if self.method == \"first_order\":\n",
    "            self.beta_ = self._first_order(x, y, sample_weight, proj_mat)\n",
    "        elif self.method == \"first_order_thres\":\n",
    "            self.beta_ = self._first_order_thres(x, y, sample_weight, proj_mat)\n",
    "        elif self.method == \"second_order\":\n",
    "            self.beta_ = self._second_order(x, y, sample_weight, proj_mat)\n",
    "\n",
    "        if len(self.beta_[np.abs(self.beta_) > 0]) > 0:\n",
    "            if (self.beta_[np.abs(self.beta_) > 0][0] < 0):\n",
    "                self.beta_ = - self.beta_\n",
    "        xb = np.dot(x, self.beta_)\n",
    "        self._estimate_shape(xb, y, sample_weight, xmin=np.min(xb), xmax=np.max(xb))\n",
    "        return self\n",
    "\n",
    "    def decision_function(self, x):\n",
    "\n",
    "        check_is_fitted(self, \"beta_\")\n",
    "        check_is_fitted(self, \"shape_fit_\")\n",
    "        xb = np.dot(x, self.beta_)\n",
    "        pred = self.shape_fit_.decision_function(xb)\n",
    "        return pred\n",
    "\n",
    "\n",
    "class SimRegressor(BaseSim, RegressorMixin):\n",
    "\n",
    "    def __init__(self, method=\"first_order\", reg_lambda=0.1, reg_gamma=10, knot_num=20, degree=2, random_state=0):\n",
    "\n",
    "        super(SimRegressor, self).__init__(method=method,\n",
    "                                reg_lambda=reg_lambda,\n",
    "                                reg_gamma=reg_gamma,\n",
    "                                knot_num=knot_num,\n",
    "                                degree=degree,\n",
    "                                random_state=random_state)\n",
    "\n",
    "    def _validate_input(self, x, y):\n",
    "        x, y = check_X_y(x, y, accept_sparse=[\"csr\", \"csc\", \"coo\"],\n",
    "                         multi_output=True, y_numeric=True)\n",
    "        return x, y\n",
    "\n",
    "    def _estimate_shape(self, x, y, sample_weight=None, xmin=-1, xmax=1):\n",
    "\n",
    "        self.shape_fit_ = ASplineRegressor(knot_num=self.knot_num, reg_gamma=self.reg_gamma,\n",
    "                             xmin=xmin, xmax=xmax, degree=self.degree)\n",
    "        self.shape_fit_.fit(x, y, sample_weight)\n",
    "\n",
    "    def predict(self, x):\n",
    "\n",
    "        pred = self.decision_function(x)\n",
    "        return pred\n",
    "    \n",
    "\n",
    "class SimClassifier(BaseSim, ClassifierMixin):\n",
    "\n",
    "    def __init__(self, method=\"first_order\", reg_lambda=0.1, reg_gamma=10, knot_num=20, degree=2, random_state=0):\n",
    "\n",
    "        super(SimClassifier, self).__init__(method=method,\n",
    "                                reg_lambda=reg_lambda,\n",
    "                                reg_gamma=reg_gamma,\n",
    "                                knot_num=knot_num,\n",
    "                                degree=degree,\n",
    "                                random_state=random_state)\n",
    "\n",
    "    def _validate_input(self, x, y):\n",
    "        x, y = check_X_y(x, y, accept_sparse=[\"csr\", \"csc\", \"coo\"],\n",
    "                         multi_output=True)\n",
    "        if y.ndim == 2 and y.shape[1] == 1:\n",
    "            y = column_or_1d(y, warn=False)\n",
    "\n",
    "        self._label_binarizer = LabelBinarizer()\n",
    "        self._label_binarizer.fit(y)\n",
    "        self.classes_ = self._label_binarizer.classes_\n",
    "\n",
    "        y = self._label_binarizer.transform(y) * 1.0\n",
    "        return x, y.ravel()\n",
    "\n",
    "    def _estimate_shape(self, x, y, sample_weight=None, xmin=-1, xmax=1):\n",
    "\n",
    "        #adaptive spline\n",
    "        self.shape_fit_ = ASplineClassifier(knot_num=self.knot_num, reg_gamma=self.reg_gamma,\n",
    "                         xmin=xmin, xmax=xmax, degree=self.degree)\n",
    "        self.shape_fit_.fit(x, y, sample_weight)\n",
    "\n",
    "    def predict_proba(self, x):\n",
    "\n",
    "        pred = self.decision_function(x)\n",
    "        pred_proba = softmax(np.vstack([-pred, pred]).T / 2, copy=False)[:, 1]\n",
    "        return pred_proba\n",
    "\n",
    "    def predict(self, x):\n",
    "\n",
    "        pred_proba = self.predict_proba(x)\n",
    "        return self._label_binarizer.inverse_transform(pred_proba)"
   ]
  },
  {
   "cell_type": "code",
   "execution_count": 36,
   "metadata": {
    "scrolled": true
   },
   "outputs": [],
   "source": [
    "s_star = 5\n",
    "n_features = 100\n",
    "n_samples = 10000\n",
    "\n",
    "np.random.seed(0)\n",
    "beta = np.zeros(n_features)\n",
    "supp_ids = np.random.choice(n_features, s_star)\n",
    "beta[supp_ids]=np.random.choice((-1, 1), s_star) / np.sqrt(s_star)\n",
    "\n",
    "x = np.random.gamma(1, 0.3, size=(n_samples, n_features))\n",
    "y = np.sin(np.pi*(np.dot(x, beta))) + 0.1 * np.random.randn(n_samples)"
   ]
  },
  {
   "cell_type": "code",
   "execution_count": 37,
   "metadata": {
    "scrolled": true
   },
   "outputs": [
    {
     "data": {
      "image/png": "[encoded data removed]",
      "text/plain": [
       "<Figure size 864x288 with 3 Axes>"
      ]
     },
     "metadata": {
      "needs_background": "light"
     },
     "output_type": "display_data"
    },
    {
     "name": "stdout",
     "output_type": "stream",
     "text": [
      "CPU times: user 4.62 s, sys: 10 s, total: 14.7 s\n",
      "Wall time: 624 ms\n"
     ]
    }
   ],
   "source": [
    "%%time\n",
    "\n",
    "clf = SimRegressor(method=\"first_order\", degree=2, knot_num=20, reg_gamma=1.0, reg_lambda=0.01, random_state=0)\n",
    "clf.fit(x, y)\n",
    "clf.visualize()"
   ]
  },
  {
   "cell_type": "code",
   "execution_count": 38,
   "metadata": {},
   "outputs": [
    {
     "data": {
      "text/plain": [
       "0.06188534134149346"
      ]
     },
     "execution_count": 38,
     "metadata": {},
     "output_type": "execute_result"
    }
   ],
   "source": [
    "np.mean((y - clf.predict(x)) ** 2)"
   ]
  },
  {
   "cell_type": "code",
   "execution_count": 39,
   "metadata": {
    "scrolled": true
   },
   "outputs": [
    {
     "name": "stdout",
     "output_type": "stream",
     "text": [
      "Inner iter: 0 epoch: 0 with validation loss: 0.04888\n",
      "Inner iter: 0 epoch: 1 with validation loss: 0.04209\n",
      "Inner iter: 0 epoch: 2 with validation loss: 0.03932\n",
      "Inner iter: 0 epoch: 3 with validation loss: 0.03795\n",
      "Inner iter: 0 epoch: 4 with validation loss: 0.03764\n",
      "Inner iter: 0 epoch: 5 with validation loss: 0.03725\n",
      "Inner iter: 0 epoch: 6 with validation loss: 0.03708\n",
      "Inner iter: 0 epoch: 7 with validation loss: 0.0376\n",
      "Inner iter: 0 epoch: 8 with validation loss: 0.03697\n",
      "Inner iter: 1 epoch: 0 with validation loss: 0.01615\n",
      "Inner iter: 1 epoch: 1 with validation loss: 0.01522\n",
      "Inner iter: 1 epoch: 2 with validation loss: 0.01491\n",
      "Inner iter: 2 epoch: 0 with validation loss: 0.01143\n",
      "Inner iter: 2 epoch: 1 with validation loss: 0.01188\n",
      "Inner iter: 2 epoch: 2 with validation loss: 0.01141\n",
      "Inner iter: 2 epoch: 3 with validation loss: 0.01165\n",
      "Inner iter: 2 epoch: 4 with validation loss: 0.0118\n",
      "Inner iter: 2 epoch: 5 with validation loss: 0.01139\n",
      "Inner iter: 3 epoch: 0 with validation loss: 0.01101\n",
      "Inner iter: 3 epoch: 1 with validation loss: 0.01128\n",
      "Inner iter: 3 epoch: 2 with validation loss: 0.01101\n",
      "Inner iter: 3 epoch: 3 with validation loss: 0.01113\n",
      "Inner iter: 3 epoch: 4 with validation loss: 0.01089\n",
      "Inner iter: 4 epoch: 0 with validation loss: 0.01123\n",
      "Inner iter: 5 epoch: 0 with validation loss: 0.01111\n",
      "Inner iter: 5 epoch: 1 with validation loss: 0.01182\n",
      "Inner iter: 5 epoch: 2 with validation loss: 0.01089\n",
      "Inner iter: 5 epoch: 3 with validation loss: 0.01105\n",
      "Inner iter: 6 epoch: 0 with validation loss: 0.01096\n",
      "Inner iter: 7 epoch: 0 with validation loss: 0.01094\n",
      "Inner iter: 7 epoch: 1 with validation loss: 0.01141\n",
      "Inner iter: 7 epoch: 2 with validation loss: 0.01094\n",
      "Inner iter: 7 epoch: 3 with validation loss: 0.01136\n",
      "Inner iter: 7 epoch: 4 with validation loss: 0.01153\n",
      "Inner iter: 7 epoch: 5 with validation loss: 0.01087\n",
      "Inner iter: 7 epoch: 6 with validation loss: 0.01133\n",
      "Inner iter: 7 epoch: 7 with validation loss: 0.01101\n",
      "Inner iter: 7 epoch: 8 with validation loss: 0.0115\n",
      "Inner iter: 7 epoch: 9 with validation loss: 0.01096\n",
      "Inner iter: 8 epoch: 0 with validation loss: 0.01092\n",
      "Inner iter: 8 epoch: 1 with validation loss: 0.01123\n",
      "Inner iter: 8 epoch: 2 with validation loss: 0.01112\n",
      "Inner iter: 8 epoch: 3 with validation loss: 0.01098\n",
      "Inner iter: 9 epoch: 0 with validation loss: 0.01099\n",
      "Inner iter: 9 epoch: 1 with validation loss: 0.01146\n",
      "Inner iter: 9 epoch: 2 with validation loss: 0.01086\n"
     ]
    }
   ],
   "source": [
    "clf.fit_inner_update(x, y, max_inner_iter=10, epoches=10, n_iter_no_change=1,\n",
    "                     batch_size=100, val_ratio=0.2, learning_rate=1e-3, beta_1=0.9, beta_2=0.999, verbose=True)"
   ]
  },
  {
   "cell_type": "code",
   "execution_count": 18,
   "metadata": {},
   "outputs": [
    {
     "data": {
      "image/png": "[encoded data removed]",
      "text/plain": [
       "<Figure size 864x288 with 3 Axes>"
      ]
     },
     "metadata": {
      "needs_background": "light"
     },
     "output_type": "display_data"
    }
   ],
   "source": [
    "clf.visualize()"
   ]
  },
  {
   "cell_type": "code",
   "execution_count": 19,
   "metadata": {},
   "outputs": [
    {
     "data": {
      "text/plain": [
       "0.01785355025455788"
      ]
     },
     "execution_count": 19,
     "metadata": {},
     "output_type": "execute_result"
    }
   ],
   "source": [
    "np.mean((y - clf.predict(x)) ** 2)"
   ]
  },
  {
   "cell_type": "code",
   "execution_count": 20,
   "metadata": {},
   "outputs": [],
   "source": [
    "s_star = 5\n",
    "n_features = 100\n",
    "n_samples = 10000\n",
    "\n",
    "np.random.seed(0)\n",
    "beta = np.zeros(n_features)\n",
    "supp_ids = np.random.choice(n_features, s_star)\n",
    "beta[supp_ids]=np.random.choice((-1, 1), s_star) / np.sqrt(s_star)\n",
    "\n",
    "x = np.random.gamma(1, 0.3, size=(n_samples, n_features))\n",
    "y = 1 / (1 + np.exp(-(np.dot(x, beta)))) + 0.05 * np.random.randn(n_samples)\n",
    "y = y - np.mean(y)\n",
    "y[y <= 0] = 0\n",
    "y[y > 0] = 1"
   ]
  },
  {
   "cell_type": "code",
   "execution_count": 21,
   "metadata": {
    "scrolled": true
   },
   "outputs": [
    {
     "data": {
      "image/png": "[encoded data removed]",
      "text/plain": [
       "<Figure size 864x288 with 3 Axes>"
      ]
     },
     "metadata": {
      "needs_background": "light"
     },
     "output_type": "display_data"
    },
    {
     "name": "stdout",
     "output_type": "stream",
     "text": [
      "CPU times: user 6.29 s, sys: 13.4 s, total: 19.7 s\n",
      "Wall time: 652 ms\n"
     ]
    }
   ],
   "source": [
    "%%time\n",
    "\n",
    "clf = SimClassifier(method=\"first_order\", degree=2, knot_num=20, reg_gamma=1.0, reg_lambda=0.01, random_state=0)\n",
    "clf.fit(x, y)\n",
    "clf.visualize()"
   ]
  },
  {
   "cell_type": "code",
   "execution_count": 22,
   "metadata": {},
   "outputs": [
    {
     "data": {
      "text/plain": [
       "0.8614291775616122"
      ]
     },
     "execution_count": 22,
     "metadata": {},
     "output_type": "execute_result"
    }
   ],
   "source": [
    "roc_auc_score(y, clf.predict_proba(x))"
   ]
  },
  {
   "cell_type": "code",
   "execution_count": 23,
   "metadata": {
    "scrolled": true
   },
   "outputs": [
    {
     "ename": "KeyboardInterrupt",
     "evalue": "",
     "output_type": "error",
     "traceback": [
      "\u001b[0;31m---------------------------------------------------------------------------\u001b[0m",
      "\u001b[0;31mKeyboardInterrupt\u001b[0m                         Traceback (most recent call last)",
      "\u001b[0;32m<ipython-input-23-ea6569ad4692>\u001b[0m in \u001b[0;36m<module>\u001b[0;34m\u001b[0m\n\u001b[1;32m      1\u001b[0m clf.fit_inner_update(x, y, max_inner_iter=10, epoches=10, n_iter_no_change=1,\n\u001b[0;32m----> 2\u001b[0;31m                      batch_size=100, val_ratio=0.2, learning_rate=1e-3, beta_1=0.9, beta_2=0.999, verbose=True)\n\u001b[0m",
      "\u001b[0;32m<ipython-input-13-de8243f4eab5>\u001b[0m in \u001b[0;36mfit_inner_update\u001b[0;34m(self, x, y, sample_weight, max_inner_iter, epoches, n_iter_no_change, batch_size, val_ratio, learning_rate, beta_1, beta_2, verbose)\u001b[0m\n\u001b[1;32m    222\u001b[0m \u001b[0;34m\u001b[0m\u001b[0m\n\u001b[1;32m    223\u001b[0m                     \u001b[0;31m# gradient\u001b[0m\u001b[0;34m\u001b[0m\u001b[0;34m\u001b[0m\u001b[0;34m\u001b[0m\u001b[0m\n\u001b[0;32m--> 224\u001b[0;31m                     \u001b[0mdfxb\u001b[0m \u001b[0;34m=\u001b[0m \u001b[0mclf\u001b[0m\u001b[0;34m.\u001b[0m\u001b[0mshape_fit_\u001b[0m\u001b[0;34m.\u001b[0m\u001b[0mdiff\u001b[0m\u001b[0;34m(\u001b[0m\u001b[0mxb\u001b[0m\u001b[0;34m,\u001b[0m \u001b[0morder\u001b[0m\u001b[0;34m=\u001b[0m\u001b[0;36m1\u001b[0m\u001b[0;34m)\u001b[0m\u001b[0;34m\u001b[0m\u001b[0;34m\u001b[0m\u001b[0m\n\u001b[0m\u001b[1;32m    225\u001b[0m                     g_t = np.average((- dfxb * r.reshape(-1, 1)) * batch_xx, axis=0,\n\u001b[1;32m    226\u001b[0m                                      weights=batch_sample_weight).reshape(-1, 1)\n",
      "\u001b[0;32m~/anaconda2_local/envs/tf2/lib/python3.6/site-packages/pysim/aspline.py\u001b[0m in \u001b[0;36mdiff\u001b[0;34m(self, x, order)\u001b[0m\n\u001b[1;32m    143\u001b[0m             \u001b[0mtmp\u001b[0m \u001b[0;34m=\u001b[0m \u001b[0;34m[\u001b[0m\u001b[0;34m]\u001b[0m\u001b[0;34m\u001b[0m\u001b[0;34m\u001b[0m\u001b[0m\n\u001b[1;32m    144\u001b[0m             \u001b[0;32mfor\u001b[0m \u001b[0mCi\u001b[0m\u001b[0;34m,\u001b[0m \u001b[0mBi\u001b[0m\u001b[0;34m,\u001b[0m \u001b[0mt\u001b[0m\u001b[0;34m,\u001b[0m \u001b[0mp\u001b[0m \u001b[0;32min\u001b[0m \u001b[0mterms\u001b[0m\u001b[0;34m:\u001b[0m\u001b[0;34m\u001b[0m\u001b[0;34m\u001b[0m\u001b[0m\n\u001b[0;32m--> 145\u001b[0;31m                 \u001b[0mtmp\u001b[0m\u001b[0;34m.\u001b[0m\u001b[0mextend\u001b[0m\u001b[0;34m(\u001b[0m\u001b[0;34m(\u001b[0m\u001b[0mCi\u001b[0m \u001b[0;34m*\u001b[0m \u001b[0mcn\u001b[0m\u001b[0;34m,\u001b[0m \u001b[0mBn\u001b[0m\u001b[0;34m,\u001b[0m \u001b[0mtn\u001b[0m\u001b[0;34m,\u001b[0m \u001b[0mpn\u001b[0m\u001b[0;34m)\u001b[0m \u001b[0;32mfor\u001b[0m \u001b[0mcn\u001b[0m\u001b[0;34m,\u001b[0m \u001b[0mBn\u001b[0m\u001b[0;34m,\u001b[0m \u001b[0mtn\u001b[0m\u001b[0;34m,\u001b[0m \u001b[0mpn\u001b[0m \u001b[0;32min\u001b[0m \u001b[0mdiff_inner\u001b[0m\u001b[0;34m(\u001b[0m\u001b[0mx\u001b[0m\u001b[0;34m,\u001b[0m \u001b[0mt\u001b[0m\u001b[0;34m,\u001b[0m \u001b[0mp\u001b[0m\u001b[0;34m)\u001b[0m\u001b[0;34m)\u001b[0m\u001b[0;34m\u001b[0m\u001b[0;34m\u001b[0m\u001b[0m\n\u001b[0m\u001b[1;32m    146\u001b[0m             \u001b[0mterms\u001b[0m \u001b[0;34m=\u001b[0m \u001b[0mtmp\u001b[0m\u001b[0;34m\u001b[0m\u001b[0;34m\u001b[0m\u001b[0m\n\u001b[1;32m    147\u001b[0m         \u001b[0mbasis_derivatives\u001b[0m \u001b[0;34m=\u001b[0m \u001b[0mnp\u001b[0m\u001b[0;34m.\u001b[0m\u001b[0msum\u001b[0m\u001b[0;34m(\u001b[0m\u001b[0;34m[\u001b[0m\u001b[0mci\u001b[0m \u001b[0;34m*\u001b[0m \u001b[0mBi\u001b[0m \u001b[0;32mfor\u001b[0m \u001b[0mci\u001b[0m\u001b[0;34m,\u001b[0m \u001b[0mBi\u001b[0m\u001b[0;34m,\u001b[0m \u001b[0m_\u001b[0m\u001b[0;34m,\u001b[0m \u001b[0m_\u001b[0m \u001b[0;32min\u001b[0m \u001b[0mterms\u001b[0m\u001b[0;34m]\u001b[0m\u001b[0;34m,\u001b[0m \u001b[0;36m0\u001b[0m\u001b[0;34m)\u001b[0m\u001b[0;34m\u001b[0m\u001b[0;34m\u001b[0m\u001b[0m\n",
      "\u001b[0;32m~/anaconda2_local/envs/tf2/lib/python3.6/site-packages/pysim/aspline.py\u001b[0m in \u001b[0;36mdiff_inner\u001b[0;34m(inputs, t, p)\u001b[0m\n\u001b[1;32m    134\u001b[0m \u001b[0;34m\u001b[0m\u001b[0m\n\u001b[1;32m    135\u001b[0m             \u001b[0mBi1\u001b[0m \u001b[0;34m=\u001b[0m \u001b[0mcreate_basis\u001b[0m\u001b[0;34m(\u001b[0m\u001b[0minputs\u001b[0m\u001b[0;34m,\u001b[0m \u001b[0mp\u001b[0m \u001b[0;34m-\u001b[0m \u001b[0;36m1\u001b[0m\u001b[0;34m,\u001b[0m \u001b[0mt\u001b[0m\u001b[0;34m[\u001b[0m\u001b[0;34m:\u001b[0m\u001b[0;34m-\u001b[0m\u001b[0;36m1\u001b[0m\u001b[0;34m]\u001b[0m\u001b[0;34m)\u001b[0m\u001b[0;34m\u001b[0m\u001b[0;34m\u001b[0m\u001b[0m\n\u001b[0;32m--> 136\u001b[0;31m             \u001b[0mBi2\u001b[0m \u001b[0;34m=\u001b[0m \u001b[0mcreate_basis\u001b[0m\u001b[0;34m(\u001b[0m\u001b[0minputs\u001b[0m\u001b[0;34m,\u001b[0m \u001b[0mp\u001b[0m \u001b[0;34m-\u001b[0m \u001b[0;36m1\u001b[0m\u001b[0;34m,\u001b[0m \u001b[0mt\u001b[0m\u001b[0;34m[\u001b[0m\u001b[0;36m1\u001b[0m\u001b[0;34m:\u001b[0m\u001b[0;34m]\u001b[0m\u001b[0;34m)\u001b[0m\u001b[0;34m\u001b[0m\u001b[0;34m\u001b[0m\u001b[0m\n\u001b[0m\u001b[1;32m    137\u001b[0m             \u001b[0;32mreturn\u001b[0m \u001b[0;34m(\u001b[0m\u001b[0;34m(\u001b[0m\u001b[0mci1\u001b[0m\u001b[0;34m,\u001b[0m \u001b[0mBi1\u001b[0m\u001b[0;34m,\u001b[0m \u001b[0mt\u001b[0m\u001b[0;34m[\u001b[0m\u001b[0;34m:\u001b[0m\u001b[0;34m-\u001b[0m\u001b[0;36m1\u001b[0m\u001b[0;34m]\u001b[0m\u001b[0;34m,\u001b[0m \u001b[0mp\u001b[0m \u001b[0;34m-\u001b[0m \u001b[0;36m1\u001b[0m\u001b[0;34m)\u001b[0m\u001b[0;34m,\u001b[0m \u001b[0;34m(\u001b[0m\u001b[0mci2\u001b[0m\u001b[0;34m,\u001b[0m \u001b[0mBi2\u001b[0m\u001b[0;34m,\u001b[0m \u001b[0mt\u001b[0m\u001b[0;34m[\u001b[0m\u001b[0;36m1\u001b[0m\u001b[0;34m:\u001b[0m\u001b[0;34m]\u001b[0m\u001b[0;34m,\u001b[0m \u001b[0mp\u001b[0m \u001b[0;34m-\u001b[0m \u001b[0;36m1\u001b[0m\u001b[0;34m)\u001b[0m\u001b[0;34m)\u001b[0m\u001b[0;34m\u001b[0m\u001b[0;34m\u001b[0m\u001b[0m\n\u001b[1;32m    138\u001b[0m \u001b[0;34m\u001b[0m\u001b[0m\n",
      "\u001b[0;32m~/anaconda2_local/envs/tf2/lib/python3.6/site-packages/pysim/aspline.py\u001b[0m in \u001b[0;36mcreate_basis\u001b[0;34m(inputs, p, knot_vector)\u001b[0m\n\u001b[1;32m    106\u001b[0m             \u001b[0mfirst_term_denominator\u001b[0m \u001b[0;34m=\u001b[0m \u001b[0mknot_vector\u001b[0m\u001b[0;34m[\u001b[0m\u001b[0mp\u001b[0m\u001b[0;34m:\u001b[0m\u001b[0;34m]\u001b[0m \u001b[0;34m-\u001b[0m \u001b[0mknot_vector\u001b[0m\u001b[0;34m[\u001b[0m\u001b[0;34m:\u001b[0m\u001b[0;34m-\u001b[0m\u001b[0mp\u001b[0m\u001b[0;34m]\u001b[0m\u001b[0;34m\u001b[0m\u001b[0;34m\u001b[0m\u001b[0m\n\u001b[1;32m    107\u001b[0m \u001b[0;34m\u001b[0m\u001b[0m\n\u001b[0;32m--> 108\u001b[0;31m             \u001b[0msecond_term_numerator\u001b[0m \u001b[0;34m=\u001b[0m \u001b[0mknot_vector\u001b[0m\u001b[0;34m[\u001b[0m\u001b[0;34m(\u001b[0m\u001b[0mp\u001b[0m \u001b[0;34m+\u001b[0m \u001b[0;36m1\u001b[0m\u001b[0;34m)\u001b[0m\u001b[0;34m:\u001b[0m\u001b[0;34m]\u001b[0m \u001b[0;34m-\u001b[0m \u001b[0minputs\u001b[0m\u001b[0;34m\u001b[0m\u001b[0;34m\u001b[0m\u001b[0m\n\u001b[0m\u001b[1;32m    109\u001b[0m             \u001b[0msecond_term_denominator\u001b[0m \u001b[0;34m=\u001b[0m \u001b[0;34m(\u001b[0m\u001b[0mknot_vector\u001b[0m\u001b[0;34m[\u001b[0m\u001b[0;34m(\u001b[0m\u001b[0mp\u001b[0m \u001b[0;34m+\u001b[0m \u001b[0;36m1\u001b[0m\u001b[0;34m)\u001b[0m\u001b[0;34m:\u001b[0m\u001b[0;34m]\u001b[0m \u001b[0;34m-\u001b[0m \u001b[0mknot_vector\u001b[0m\u001b[0;34m[\u001b[0m\u001b[0;36m1\u001b[0m\u001b[0;34m:\u001b[0m\u001b[0;34m-\u001b[0m\u001b[0mp\u001b[0m\u001b[0;34m]\u001b[0m\u001b[0;34m)\u001b[0m\u001b[0;34m\u001b[0m\u001b[0;34m\u001b[0m\u001b[0m\n\u001b[1;32m    110\u001b[0m \u001b[0;34m\u001b[0m\u001b[0m\n",
      "\u001b[0;31mKeyboardInterrupt\u001b[0m: "
     ]
    }
   ],
   "source": [
    "clf.fit_inner_update(x, y, max_inner_iter=10, epoches=10, n_iter_no_change=1,\n",
    "                     batch_size=100, val_ratio=0.2, learning_rate=1e-3, beta_1=0.9, beta_2=0.999, verbose=True)"
   ]
  },
  {
   "cell_type": "code",
   "execution_count": null,
   "metadata": {},
   "outputs": [],
   "source": [
    "clf.visualize()"
   ]
  },
  {
   "cell_type": "code",
   "execution_count": null,
   "metadata": {},
   "outputs": [],
   "source": [
    "roc_auc_score(y, clf.predict_proba(x))"
   ]
  },
  {
   "cell_type": "code",
   "execution_count": null,
   "metadata": {},
   "outputs": [],
   "source": []
  }
 ],
 "metadata": {
  "kernelspec": {
   "display_name": "Python (tf2)",
   "language": "python",
   "name": "tf2"
  },
  "language_info": {
   "codemirror_mode": {
    "name": "ipython",
    "version": 3
   },
   "file_extension": ".py",
   "mimetype": "text/x-python",
   "name": "python",
   "nbconvert_exporter": "python",
   "pygments_lexer": "ipython3",
   "version": "3.6.8"
  }
 },
 "nbformat": 4,
 "nbformat_minor": 2
}
