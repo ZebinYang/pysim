{
 "cells": [
  {
   "cell_type": "markdown",
   "metadata": {},
   "source": [
    "## SIM Training by Stein's Method"
   ]
  },
  {
   "cell_type": "code",
   "execution_count": 1,
   "metadata": {},
   "outputs": [],
   "source": [
    "import numpy as np\n",
    "from matplotlib import pylab as plt\n",
    "from sklearn.model_selection import KFold\n",
    "from sklearn.model_selection import GridSearchCV\n",
    "from sklearn.preprocessing import MinMaxScaler\n",
    "from sklearn.metrics import make_scorer, roc_auc_score\n",
    "\n",
    "from pysim import SIMClassifier"
   ]
  },
  {
   "cell_type": "markdown",
   "metadata": {},
   "source": [
    "## pySIM - A python package for Sparse SIM "
   ]
  },
  {
   "cell_type": "markdown",
   "metadata": {},
   "source": [
    "**To install**:\n",
    "    \n",
    "```sheel\n",
    "    pip install git+https://github.com/Zebinyang/pysim.git\n",
    "```\n",
    "\n",
    "Note pysim will call the R package fps (https://github.com/vqv/fps) using rpy2 interface. "
   ]
  },
  {
   "cell_type": "markdown",
   "metadata": {},
   "source": [
    "```python\n",
    "from pysim import SIMClassifier\n",
    "clf = SIMClassifier(method=\"first_order\", spline=\"a_spline\", reg_lambda=0.1, reg_gamma=0.1, knot_num=20, degree=2, random_state=0)\n",
    "## clf.fit(x, y)\n",
    "```"
   ]
  },
  {
   "cell_type": "markdown",
   "metadata": {},
   "source": [
    "**Usage**"
   ]
  },
  {
   "cell_type": "markdown",
   "metadata": {},
   "source": [
    "**Hyperparameters**\n",
    "\n",
    "- method: the base method for estimating the projection coefficients in sparse SIM. default=\"first_order\"\n",
    "\n",
    "        \"first_order\": First-order Stein's Identity via sparse PCA solver\n",
    "\n",
    "        \"second_order\": Second-order Stein's Identity via sparse PCA solver\n",
    "\n",
    "        \"first_order_thres\": First-order Stein's Identity via hard thresholding (A simplified verison)        \n",
    "    \n",
    "- spline: The type of spline method. default=\"a_spline\"\n",
    "\n",
    "        \"p_spline\": p-spline (from pygam package)\n",
    "    \n",
    "        \"p_spline_mono\": p-spline with monotonic constraint (from pygam package)\n",
    "    \n",
    "        \"a_spline\": adaptive spline where knots are automatically selected (see Goepp, V., Bouaziz, O. and Nuel, G., 2018. Spline regression with automatic knot selection. arXiv preprint arXiv:1808.01770.)\n",
    "\n",
    "- reg_lambda: The regularization strength of sparsity of beta. default=0.1, from 0 to 1 \n",
    "\n",
    "- reg_gamma: The regularization strength of the spline algorithm. default=0.1, from 0 to $+\\infty$\n",
    "\n",
    "- degree: The order of the spline basis. default=2\n",
    "\n",
    "- knot_num: The number of knots spanned uniformly over the domain. default=20\n",
    "\n",
    "- random_state: the random seed. default=0"
   ]
  },
  {
   "cell_type": "markdown",
   "metadata": {},
   "source": [
    "# Case 1: Sine Ridge Function"
   ]
  },
  {
   "cell_type": "markdown",
   "metadata": {},
   "source": [
    "- covariates: $x\\sim N(0, 0.3^2)$\n",
    "- ridge function: $ f(u) = \\sin{(u\\pi)} $\n",
    "- projection: $ u = \\beta^{T} x $, where $\\beta$ has 5 non-zero entries\n",
    "- noise: $N(0, 1)$\n",
    "- sample size: 10000\n",
    "- feature size: 100"
   ]
  },
  {
   "cell_type": "code",
   "execution_count": 2,
   "metadata": {
    "scrolled": true
   },
   "outputs": [],
   "source": [
    "s_star = 5\n",
    "n_features = 100\n",
    "n_samples = 10000\n",
    "\n",
    "np.random.seed(0)\n",
    "beta = np.zeros(n_features)\n",
    "supp_ids = np.random.choice(n_features, s_star)\n",
    "beta[supp_ids]=np.random.choice((-1, 1), s_star) / np.sqrt(s_star)\n",
    "\n",
    "x = np.random.normal(0, 0.3, size=(n_samples, n_features))\n",
    "y = np.sin(np.pi*(np.dot(x, beta))) + 0.1 * np.random.randn(n_samples)\n",
    "ymu = np.mean(y)\n",
    "y[y > ymu] = 1\n",
    "y[y <= ymu] = 0"
   ]
  },
  {
   "cell_type": "code",
   "execution_count": 21,
   "metadata": {},
   "outputs": [],
   "source": [
    "# import scipy\n",
    "# import numpy as np\n",
    "# import pandas as pd \n",
    "# from scipy.linalg import cholesky\n",
    "# from matplotlib import pyplot as plt\n",
    "\n",
    "# from sklearn.utils.validation import check_is_fitted\n",
    "# from sklearn.base import BaseEstimator, RegressorMixin, ClassifierMixin\n",
    "# from patsy import dmatrix, build_design_matrices\n",
    "\n",
    "# clf = SIMClassifier(degree=2, knot_num=20, spline=\"a_spline\", random_state=0)\n",
    "# x, y = clf._validate_input(x, y)\n",
    "# n_samples, n_features = x.shape\n",
    "# sample_weight = np.ones(n_samples) / n_samples\n",
    "\n",
    "# if clf.method == \"first_order\":\n",
    "#     clf.beta_ = clf._first_order(x, y, sample_weight)\n",
    "# elif clf.method == \"first_order_thres\":\n",
    "#     clf.beta_ = clf._first_order_thres(x, y, sample_weight)\n",
    "# elif clf.method == \"second_order\":\n",
    "#     clf.beta_ = clf._second_order(x, y, sample_weight)\n",
    "\n",
    "# if len(clf.beta_[np.abs(clf.beta_) > 0]) > 0:\n",
    "#     if (clf.beta_[np.abs(clf.beta_) > 0][0] < 0):\n",
    "#         clf.beta_ = - clf.beta_\n",
    "# xb = np.dot(x, clf.beta_)\n",
    "\n",
    "# def diff_matrix(order, knot_num):\n",
    "#     results = [] # a container to collect the rows\n",
    "#     n_rows = order + 2\n",
    "#     for _ in range(n_rows): \n",
    "#         row = [1] # a starter 1 in the row\n",
    "#         if results: # then we're in the second row or beyond\n",
    "#             last_row = results[-1] # reference the previous row\n",
    "#             row.extend([sum(pair) for pair in zip(last_row, last_row[1:])])\n",
    "#             row.append(1)\n",
    "#         results.append(row) # add the row to the results.\n",
    "\n",
    "#     diss_operator = [] # a container to collect the rows\n",
    "#     for i, item in enumerate(np.array(row)):\n",
    "#         diss_operator.append(item * (-1) ** i)\n",
    "#     diss_operator.reverse()\n",
    "#     D = np.zeros((knot_num, knot_num + order + 1), dtype=np.float32)\n",
    "#     for i in range(knot_num):\n",
    "#         D[i,i:(i+order+2)] = diss_operator\n",
    "#     return D\n",
    "\n",
    "# def link(x):\n",
    "#     with np.errstate(divide='ignore', over='ignore'):\n",
    "#         return 1 / (1 + np.exp(-x))\n",
    "\n",
    "# def inv_link(x):\n",
    "#     with np.errstate(divide='ignore', over='ignore'):\n",
    "#         return np.log(x) - np.log(1 - x)\n",
    "\n",
    "# def get_loss(label, pred):\n",
    "#     return - np.mean(label * np.log(pred) + (1 - label) * np.log(1 - pred))\n",
    "\n",
    "# x = xb\n",
    "# y = y\n",
    "# sample_weight = np.ones(n_samples)\n",
    "\n",
    "# knots = list(np.linspace(x.min(), x.max(), clf.knot_num + 2, dtype=np.float32)[1:-1])\n",
    "# xphi = dmatrix(\"bs(x, knots = knots, degree=degree, include_intercept=True) - 1\",\n",
    "#                {\"x\": [x.min(), x.max()], \"knots\": knots, \"degree\": clf.degree})\n",
    "# init_basis = np.asarray(build_design_matrices([xphi.design_info],\n",
    "#                   {\"x\": x, \"knots\": knots, \"degree\": clf.degree})[0])\n",
    "# D = diff_matrix(clf.degree, clf.knot_num)\n",
    "# w = np.ones([clf.knot_num], dtype=np.float32) \n",
    "# W = np.diag(w)\n",
    "\n",
    "# tempy = y.copy()\n",
    "# tempy[tempy==0] = 0.01\n",
    "# tempy[tempy==1] = 0.99\n",
    "# BWB = np.tensordot(init_basis * sample_weight.reshape([-1, 1]), init_basis, axes=([0], [0]))\n",
    "# BWY = np.tensordot(init_basis * sample_weight.reshape([-1, 1]), inv_link(tempy), axes=([0], [0]))\n",
    "# update_a = np.dot(np.linalg.pinv(BWB + clf.reg_gamma * D.T.dot(W).dot(D)), BWY)\n",
    "# best_loss = get_loss(y, link(np.dot(init_basis, update_a)))\n",
    "# for i in range(10):\n",
    "#     best_loss_irls = best_loss\n",
    "#     for j in range(10):\n",
    "#         lp = np.dot(init_basis, update_a)\n",
    "#         mu = link(lp)\n",
    "#         omega = mu * (1 - mu)\n",
    "#         mask = (np.abs(omega) >= 10 ** (-5)) * np.isfinite(omega)\n",
    "#         mask = mask.ravel()\n",
    "#         if np.sum(mask) == 0:\n",
    "#             break\n",
    "\n",
    "#         BW = init_basis[mask, :] * sample_weight[mask].reshape([-1, 1])\n",
    "#         BWOB = np.tensordot(BW * omega[mask].reshape([-1, 1]), init_basis[mask, :], axes=([0], [0]))\n",
    "#         update_a_temp = np.dot(np.linalg.pinv(BWOB + clf.reg_gamma * D.T.dot(W).dot(D)),\n",
    "#                         BWOB.dot(update_a) + np.tensordot(BW, y[mask] - mu[mask], axes=([0], [0])))\n",
    "#         new_loss = get_loss(y, link(np.dot(init_basis, update_a_temp)))\n",
    "#         if new_loss - best_loss_irls >= 0:\n",
    "#             break\n",
    "#         best_loss_irls = new_loss\n",
    "#         update_a = update_a_temp\n",
    "\n",
    "#     if best_loss_irls - best_loss >= 0:\n",
    "#         break\n",
    "#     best_loss = best_loss_irls\n",
    "#     update_w = 1 / (np.dot(D, update_a) ** 2 + 0.00001 ** 2)\n",
    "#     W = np.diag(update_w.reshape([-1]))\n",
    "\n"
   ]
  },
  {
   "cell_type": "code",
   "execution_count": 5,
   "metadata": {},
   "outputs": [
    {
     "data": {
      "text/plain": [
       "<matplotlib.collections.PathCollection at 0x7f983d85d860>"
      ]
     },
     "execution_count": 5,
     "metadata": {},
     "output_type": "execute_result"
    },
    {
     "data": {
      "image/png": "[encoded data removed]",
      "text/plain": [
       "<Figure size 432x288 with 1 Axes>"
      ]
     },
     "metadata": {
      "needs_background": "light"
     },
     "output_type": "display_data"
    }
   ],
   "source": [
    "plt.scatter(np.dot(x, beta), y)"
   ]
  },
  {
   "cell_type": "markdown",
   "metadata": {},
   "source": [
    "The best hyperparameter combination can be selected via cross-validation"
   ]
  },
  {
   "cell_type": "code",
   "execution_count": 6,
   "metadata": {
    "scrolled": true
   },
   "outputs": [
    {
     "name": "stdout",
     "output_type": "stream",
     "text": [
      "Fitting 3 folds for each of 20 candidates, totalling 60 fits\n"
     ]
    },
    {
     "name": "stderr",
     "output_type": "stream",
     "text": [
      "[Parallel(n_jobs=-1)]: Using backend LokyBackend with 64 concurrent workers.\n",
      "[Parallel(n_jobs=-1)]: Done  26 out of  60 | elapsed:   26.6s remaining:   34.8s\n",
      "[Parallel(n_jobs=-1)]: Done  57 out of  60 | elapsed:   37.3s remaining:    2.0s\n",
      "[Parallel(n_jobs=-1)]: Done  60 out of  60 | elapsed:   38.0s finished\n",
      "/home/r7user1/anaconda2_local/envs/tf2/lib/python3.6/site-packages/sklearn/model_selection/_search.py:813: DeprecationWarning: The default of the `iid` parameter will change from True to False in version 0.22 and will be removed in 0.24. This will change numeric results when test-set sizes are unequal.\n",
      "  DeprecationWarning)\n",
      "/home/r7user1/anaconda2_local/envs/tf2/lib/python3.6/site-packages/pysim/aspline.py:126: RuntimeWarning: divide by zero encountered in log\n",
      "  return - np.mean(label * np.log(pred) + (1 - label) * np.log(1 - pred))\n",
      "/home/r7user1/anaconda2_local/envs/tf2/lib/python3.6/site-packages/pysim/aspline.py:126: RuntimeWarning: invalid value encountered in multiply\n",
      "  return - np.mean(label * np.log(pred) + (1 - label) * np.log(1 - pred))\n"
     ]
    },
    {
     "name": "stdout",
     "output_type": "stream",
     "text": [
      "CPU times: user 15.1 s, sys: 35.7 s, total: 50.7 s\n",
      "Wall time: 38.9 s\n"
     ]
    }
   ],
   "source": [
    "%%time \n",
    "\n",
    "param_grid = {\"method\": [\"first_order\", \"second_order\"],\n",
    "              \"reg_lambda\": [0.05, 0.1], \n",
    "              \"reg_gamma\": np.logspace(-2, 2, 5)}\n",
    "grid = GridSearchCV(SIMClassifier(degree=2, knot_num=20, spline=\"a_spline\", random_state=0), \n",
    "                    cv=KFold(3, shuffle=True, random_state=0), \n",
    "                    scoring={\"auc\": make_scorer(roc_auc_score)},\n",
    "                    param_grid=param_grid, n_jobs=-1, verbose=2, refit=\"auc\", error_score=np.nan)\n",
    "grid.fit(x, y)"
   ]
  },
  {
   "cell_type": "code",
   "execution_count": 7,
   "metadata": {},
   "outputs": [
    {
     "data": {
      "text/plain": [
       "{'method': 'first_order', 'reg_gamma': 1.0, 'reg_lambda': 0.05}"
      ]
     },
     "execution_count": 7,
     "metadata": {},
     "output_type": "execute_result"
    }
   ],
   "source": [
    "grid.best_params_"
   ]
  },
  {
   "cell_type": "markdown",
   "metadata": {},
   "source": [
    "**NB**: The first-order Setin's method is selected, as $\\mathbb{E}[f^{\\prime\\prime}(u)]=0$. Therefore, the second order method cannot provide any information about the projection coefficients. "
   ]
  },
  {
   "cell_type": "markdown",
   "metadata": {},
   "source": [
    "In this case, the first-order Setin's method is selected. "
   ]
  },
  {
   "cell_type": "code",
   "execution_count": 8,
   "metadata": {},
   "outputs": [
    {
     "data": {
      "text/plain": [
       "SIMClassifier(degree=2, knot_num=20, method='first_order', random_state=0,\n",
       "              reg_gamma=1.0, reg_lambda=0.05, spline='a_spline')"
      ]
     },
     "execution_count": 8,
     "metadata": {},
     "output_type": "execute_result"
    }
   ],
   "source": [
    "clf = grid.best_estimator_\n",
    "clf"
   ]
  },
  {
   "cell_type": "code",
   "execution_count": 9,
   "metadata": {},
   "outputs": [
    {
     "data": {
      "image/png": "[encoded data removed]",
      "text/plain": [
       "<Figure size 432x288 with 1 Axes>"
      ]
     },
     "metadata": {
      "needs_background": "light"
     },
     "output_type": "display_data"
    }
   ],
   "source": [
    "plt.plot(clf.beta_, \"o\")\n",
    "plt.plot(beta, \"o\")\n",
    "plt.legend([\"Estimated\", \"Ground Truth\"])\n",
    "plt.show()"
   ]
  },
  {
   "cell_type": "code",
   "execution_count": 10,
   "metadata": {
    "scrolled": true
   },
   "outputs": [
    {
     "data": {
      "image/png": "[encoded data removed]",
      "text/plain": [
       "<Figure size 864x288 with 2 Axes>"
      ]
     },
     "metadata": {
      "needs_background": "light"
     },
     "output_type": "display_data"
    }
   ],
   "source": [
    "grid.best_estimator_.visualize()"
   ]
  },
  {
   "cell_type": "markdown",
   "metadata": {},
   "source": [
    "## Case 2: Quadratic Ridge Function"
   ]
  },
  {
   "cell_type": "markdown",
   "metadata": {},
   "source": [
    "- covariates: $x\\sim N(0, 0.3^2)$\n",
    "- ridge function: $ f(u) = u^{2} $\n",
    "- projection: $ u = \\beta^{T} x $, where $\\beta$ has 5 non-zero entries\n",
    "- noise: $N(0, 1)$\n",
    "- sample size: 10000\n",
    "- feature size: 100"
   ]
  },
  {
   "cell_type": "code",
   "execution_count": 11,
   "metadata": {
    "scrolled": true
   },
   "outputs": [],
   "source": [
    "s_star = 5\n",
    "n_features = 100\n",
    "n_samples = 10000\n",
    "\n",
    "np.random.seed(0)\n",
    "beta = np.zeros(n_features)\n",
    "supp_ids = np.random.choice(n_features, s_star)\n",
    "beta[supp_ids]=np.random.choice((-1, 1), s_star) / np.sqrt(s_star)\n",
    "\n",
    "x = np.random.normal(0, 0.3, size=(n_samples, n_features))\n",
    "y = np.dot(x, beta) ** 2 + 0.1 * np.random.randn(n_samples)\n",
    "ymu = np.mean(y)\n",
    "y[y > ymu] = 1\n",
    "y[y <= ymu] = 0"
   ]
  },
  {
   "cell_type": "code",
   "execution_count": 12,
   "metadata": {},
   "outputs": [
    {
     "data": {
      "text/plain": [
       "<matplotlib.collections.PathCollection at 0x7f9835919390>"
      ]
     },
     "execution_count": 12,
     "metadata": {},
     "output_type": "execute_result"
    },
    {
     "data": {
      "image/png": "[encoded data removed]",
      "text/plain": [
       "<Figure size 432x288 with 1 Axes>"
      ]
     },
     "metadata": {
      "needs_background": "light"
     },
     "output_type": "display_data"
    }
   ],
   "source": [
    "plt.scatter(np.dot(x, beta), y)"
   ]
  },
  {
   "cell_type": "code",
   "execution_count": 13,
   "metadata": {
    "scrolled": true
   },
   "outputs": [
    {
     "name": "stdout",
     "output_type": "stream",
     "text": [
      "Fitting 3 folds for each of 20 candidates, totalling 60 fits\n"
     ]
    },
    {
     "name": "stderr",
     "output_type": "stream",
     "text": [
      "[Parallel(n_jobs=-1)]: Using backend LokyBackend with 64 concurrent workers.\n",
      "[Parallel(n_jobs=-1)]: Done  26 out of  60 | elapsed:   17.8s remaining:   23.3s\n",
      "[Parallel(n_jobs=-1)]: Done  57 out of  60 | elapsed:   26.7s remaining:    1.4s\n",
      "[Parallel(n_jobs=-1)]: Done  60 out of  60 | elapsed:   29.5s finished\n"
     ]
    },
    {
     "name": "stdout",
     "output_type": "stream",
     "text": [
      "CPU times: user 4.42 s, sys: 10.4 s, total: 14.8 s\n",
      "Wall time: 29.8 s\n"
     ]
    }
   ],
   "source": [
    "%%time \n",
    "\n",
    "param_grid = {\"method\": [\"first_order\", \"second_order\"],\n",
    "              \"reg_lambda\": [0.05, 0.1], \n",
    "              \"reg_gamma\": np.logspace(-2, 2, 5)}\n",
    "grid = GridSearchCV(SIMClassifier(degree=2, knot_num=20, spline=\"a_spline\", random_state=0), \n",
    "                    cv=KFold(3, shuffle=True, random_state=0), \n",
    "                    scoring={\"auc\": make_scorer(roc_auc_score)},\n",
    "                    param_grid=param_grid, n_jobs=-1, verbose=2, refit=\"auc\", error_score=np.nan)\n",
    "grid.fit(x, y)"
   ]
  },
  {
   "cell_type": "code",
   "execution_count": 14,
   "metadata": {},
   "outputs": [
    {
     "data": {
      "text/plain": [
       "{'method': 'second_order', 'reg_gamma': 10.0, 'reg_lambda': 0.05}"
      ]
     },
     "execution_count": 14,
     "metadata": {},
     "output_type": "execute_result"
    }
   ],
   "source": [
    "grid.best_params_"
   ]
  },
  {
   "cell_type": "markdown",
   "metadata": {},
   "source": [
    "**NB**: The second-order Setin's method is selected, as $\\mathbb{E}[f^{\\prime}(u)]=0$. Therefore, the first order method cannot provide any information about the projection coefficients. "
   ]
  },
  {
   "cell_type": "code",
   "execution_count": 15,
   "metadata": {},
   "outputs": [
    {
     "data": {
      "text/plain": [
       "SIMClassifier(degree=2, knot_num=20, method='second_order', random_state=0,\n",
       "              reg_gamma=10.0, reg_lambda=0.05, spline='a_spline')"
      ]
     },
     "execution_count": 15,
     "metadata": {},
     "output_type": "execute_result"
    }
   ],
   "source": [
    "clf = grid.best_estimator_\n",
    "clf"
   ]
  },
  {
   "cell_type": "code",
   "execution_count": 16,
   "metadata": {},
   "outputs": [
    {
     "data": {
      "image/png": "[encoded data removed]",
      "text/plain": [
       "<Figure size 432x288 with 1 Axes>"
      ]
     },
     "metadata": {
      "needs_background": "light"
     },
     "output_type": "display_data"
    }
   ],
   "source": [
    "plt.plot(clf.beta_, \"o\")\n",
    "plt.plot(beta, \"o\")\n",
    "plt.legend([\"Estimated\", \"Ground Truth\"])\n",
    "plt.show()"
   ]
  },
  {
   "cell_type": "code",
   "execution_count": 20,
   "metadata": {},
   "outputs": [
    {
     "name": "stderr",
     "output_type": "stream",
     "text": [
      "/home/r7user1/anaconda2_local/envs/tf2/lib/python3.6/site-packages/ipykernel_launcher.py:1: RuntimeWarning: divide by zero encountered in log\n",
      "  \"\"\"Entry point for launching an IPython kernel.\n",
      "/home/r7user1/anaconda2_local/envs/tf2/lib/python3.6/site-packages/ipykernel_launcher.py:1: RuntimeWarning: invalid value encountered in double_scalars\n",
      "  \"\"\"Entry point for launching an IPython kernel.\n",
      "/home/r7user1/anaconda2_local/envs/tf2/lib/python3.6/site-packages/ipykernel_launcher.py:1: RuntimeWarning: Mean of empty slice\n",
      "  \"\"\"Entry point for launching an IPython kernel.\n"
     ]
    },
    {
     "data": {
      "text/plain": [
       "nan"
      ]
     },
     "execution_count": 20,
     "metadata": {},
     "output_type": "execute_result"
    }
   ],
   "source": [
    "np.nanmean(- np.mean(0 * np.log(0) + (1 - 0) * np.log(1 - 0)))"
   ]
  }
 ],
 "metadata": {
  "kernelspec": {
   "display_name": "Python (tf2)",
   "language": "python",
   "name": "tf2"
  },
  "language_info": {
   "codemirror_mode": {
    "name": "ipython",
    "version": 3
   },
   "file_extension": ".py",
   "mimetype": "text/x-python",
   "name": "python",
   "nbconvert_exporter": "python",
   "pygments_lexer": "ipython3",
   "version": "3.6.8"
  }
 },
 "nbformat": 4,
 "nbformat_minor": 2
}
