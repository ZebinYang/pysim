{
 "cells": [
  {
   "cell_type": "markdown",
   "metadata": {},
   "source": [
    "## SIM Training by Stein's Method"
   ]
  },
  {
   "cell_type": "code",
   "execution_count": 1,
   "metadata": {},
   "outputs": [],
   "source": [
    "import numpy as np\n",
    "from matplotlib import pylab as plt\n",
    "from sklearn.model_selection import KFold\n",
    "from sklearn.model_selection import GridSearchCV\n",
    "from sklearn.preprocessing import MinMaxScaler\n",
    "from sklearn.metrics import make_scorer, roc_auc_score\n",
    "\n",
    "from pysim import SimClassifier"
   ]
  },
  {
   "cell_type": "markdown",
   "metadata": {},
   "source": [
    "## pySIM - A python package for Sparse SIM "
   ]
  },
  {
   "cell_type": "markdown",
   "metadata": {},
   "source": [
    "**To install**:\n",
    "    \n",
    "```sheel\n",
    "    pip install git+https://github.com/Zebinyang/pysim.git\n",
    "```\n",
    "\n",
    "Note pysim will call the R package fps (https://github.com/vqv/fps) using rpy2 interface. "
   ]
  },
  {
   "cell_type": "markdown",
   "metadata": {},
   "source": [
    "```python\n",
    "from pysim import SimClassifier\n",
    "clf = SimClassifier(method=\"first_order\", reg_lambda=0.1, reg_gamma=10, knot_num=20, degree=2, random_state=0)\n",
    "## clf.fit(x, y)\n",
    "```"
   ]
  },
  {
   "cell_type": "markdown",
   "metadata": {},
   "source": [
    "**Usage**"
   ]
  },
  {
   "cell_type": "markdown",
   "metadata": {},
   "source": [
    "**Hyperparameters**\n",
    "\n",
    "- method: the base method for estimating the projection coefficients in sparse SIM. default=\"first_order\"\n",
    "\n",
    "        \"first_order\": First-order Stein's Identity via sparse PCA solver\n",
    "\n",
    "        \"second_order\": Second-order Stein's Identity via sparse PCA solver\n",
    "\n",
    "        \"first_order_thres\": First-order Stein's Identity via hard thresholding (A simplified verison)        \n",
    "    \n",
    "- reg_lambda: The regularization strength of sparsity of beta. default=0.1, from 0 to 1 \n",
    "\n",
    "- reg_gamma: The regularization strength of the spline algorithm. default=10, from 0 to $+\\infty$\n",
    "\n",
    "- degree: The order of the spline basis. default=2\n",
    "\n",
    "- knot_num: The number of knots spanned uniformly over the domain. default=20\n",
    "\n",
    "- random_state: the random seed. default=0"
   ]
  },
  {
   "cell_type": "markdown",
   "metadata": {},
   "source": [
    "# Case 1: Logit Function"
   ]
  },
  {
   "cell_type": "code",
   "execution_count": 2,
   "metadata": {
    "scrolled": true
   },
   "outputs": [],
   "source": [
    "s_star = 5\n",
    "n_features = 100\n",
    "n_samples = 10000\n",
    "\n",
    "np.random.seed(1)\n",
    "beta = np.zeros(n_features)\n",
    "supp_ids = np.random.choice(n_features, s_star)\n",
    "beta[supp_ids]=np.random.choice((-1, 1), s_star) / np.sqrt(s_star)\n",
    "\n",
    "x = np.random.normal(0, 0.3, size=(n_samples, n_features))\n",
    "y = 1 / (1 + np.exp(-(np.dot(x, beta)))) + 0.1 * np.random.randn(n_samples)\n",
    "y = y - np.mean(y)\n",
    "y[y <= 0] = 0\n",
    "y[y > 0] = 1"
   ]
  },
  {
   "cell_type": "markdown",
   "metadata": {},
   "source": [
    "The best hyperparameter combination can be selected via cross-validation"
   ]
  },
  {
   "cell_type": "code",
   "execution_count": 3,
   "metadata": {
    "scrolled": true
   },
   "outputs": [
    {
     "name": "stdout",
     "output_type": "stream",
     "text": [
      "Fitting 3 folds for each of 30 candidates, totalling 90 fits\n"
     ]
    },
    {
     "name": "stderr",
     "output_type": "stream",
     "text": [
      "[Parallel(n_jobs=-1)]: Using backend LokyBackend with 64 concurrent workers.\n",
      "[Parallel(n_jobs=-1)]: Done   9 out of  90 | elapsed:   35.2s remaining:  5.3min\n",
      "[Parallel(n_jobs=-1)]: Done  55 out of  90 | elapsed:   58.4s remaining:   37.2s\n",
      "[Parallel(n_jobs=-1)]: Done  90 out of  90 | elapsed:  1.1min finished\n"
     ]
    },
    {
     "name": "stdout",
     "output_type": "stream",
     "text": [
      "CPU times: user 5.7 s, sys: 21 s, total: 26.7 s\n",
      "Wall time: 1min 26s\n"
     ]
    }
   ],
   "source": [
    "%%time \n",
    "\n",
    "param_grid = {\"method\": [\"first_order\", \"second_order\"],\n",
    "              \"reg_lambda\": [0.1, 0.2, 0.3, 0.4, 0.5],\n",
    "              \"reg_gamma\": np.logspace(-1, 1, 3)}\n",
    "grid = GridSearchCV(SimClassifier(degree=2, knot_num=20, random_state=0), \n",
    "                    cv=KFold(3, shuffle=True, random_state=0), \n",
    "                    scoring={\"auc\": make_scorer(roc_auc_score)},\n",
    "                    param_grid=param_grid, n_jobs=-1, verbose=2, refit=\"auc\", error_score=np.nan)\n",
    "grid.fit(x, y)"
   ]
  },
  {
   "cell_type": "code",
   "execution_count": 4,
   "metadata": {},
   "outputs": [
    {
     "data": {
      "text/plain": [
       "{'method': 'first_order', 'reg_gamma': 0.1, 'reg_lambda': 0.2}"
      ]
     },
     "execution_count": 4,
     "metadata": {},
     "output_type": "execute_result"
    }
   ],
   "source": [
    "grid.best_params_"
   ]
  },
  {
   "cell_type": "markdown",
   "metadata": {},
   "source": [
    "**NB**: The first-order Setin's method is selected, as $\\mathbb{E}[f^{\\prime\\prime}(u)]=0$. Therefore, the second order method cannot provide any information about the projection coefficients. "
   ]
  },
  {
   "cell_type": "markdown",
   "metadata": {},
   "source": [
    "In this case, the first-order Setin's method is selected. "
   ]
  },
  {
   "cell_type": "code",
   "execution_count": 5,
   "metadata": {},
   "outputs": [
    {
     "data": {
      "text/plain": [
       "SimClassifier(degree=2, knot_num=20, method='first_order', random_state=0,\n",
       "              reg_gamma=0.1, reg_lambda=0.2)"
      ]
     },
     "execution_count": 5,
     "metadata": {},
     "output_type": "execute_result"
    }
   ],
   "source": [
    "clf = grid.best_estimator_\n",
    "clf"
   ]
  },
  {
   "cell_type": "code",
   "execution_count": 6,
   "metadata": {},
   "outputs": [
    {
     "data": {
      "image/png": "[encoded data removed]",
      "text/plain": [
       "<Figure size 432x288 with 1 Axes>"
      ]
     },
     "metadata": {
      "needs_background": "light"
     },
     "output_type": "display_data"
    }
   ],
   "source": [
    "plt.plot(clf.beta_, \"o\")\n",
    "plt.plot(beta, \"o\")\n",
    "plt.legend([\"Estimated\", \"Ground Truth\"])\n",
    "plt.show()"
   ]
  },
  {
   "cell_type": "code",
   "execution_count": 7,
   "metadata": {
    "scrolled": true
   },
   "outputs": [
    {
     "data": {
      "image/png": "[encoded data removed]",
      "text/plain": [
       "<Figure size 864x288 with 3 Axes>"
      ]
     },
     "metadata": {
      "needs_background": "light"
     },
     "output_type": "display_data"
    }
   ],
   "source": [
    "grid.best_estimator_.visualize()"
   ]
  },
  {
   "cell_type": "code",
   "execution_count": 8,
   "metadata": {},
   "outputs": [
    {
     "data": {
      "text/plain": [
       "0.7765179279005547"
      ]
     },
     "execution_count": 8,
     "metadata": {},
     "output_type": "execute_result"
    }
   ],
   "source": [
    "roc_auc_score(y, grid.predict_proba(x))"
   ]
  },
  {
   "cell_type": "markdown",
   "metadata": {},
   "source": [
    "## Case 2: Quadratic Ridge Function"
   ]
  },
  {
   "cell_type": "code",
   "execution_count": 9,
   "metadata": {
    "scrolled": true
   },
   "outputs": [],
   "source": [
    "s_star = 5\n",
    "n_features = 100\n",
    "n_samples = 10000\n",
    "\n",
    "np.random.seed(1)\n",
    "beta = np.zeros(n_features)\n",
    "supp_ids = np.random.choice(n_features, s_star)\n",
    "beta[supp_ids]=np.random.choice((-1, 1), s_star) / np.sqrt(s_star)\n",
    "\n",
    "x = np.random.normal(0, 0.3, size=(n_samples, n_features))\n",
    "y = 5 * np.dot(x, beta) ** 2 + 0.1 * np.random.randn(n_samples)\n",
    "ymu = np.mean(y)\n",
    "y[y > ymu] = 1\n",
    "y[y <= ymu] = 0"
   ]
  },
  {
   "cell_type": "code",
   "execution_count": 10,
   "metadata": {
    "scrolled": true
   },
   "outputs": [
    {
     "name": "stdout",
     "output_type": "stream",
     "text": [
      "Fitting 3 folds for each of 30 candidates, totalling 90 fits\n"
     ]
    },
    {
     "name": "stderr",
     "output_type": "stream",
     "text": [
      "[Parallel(n_jobs=-1)]: Using backend LokyBackend with 64 concurrent workers.\n",
      "[Parallel(n_jobs=-1)]: Done   9 out of  90 | elapsed:   18.0s remaining:  2.7min\n",
      "[Parallel(n_jobs=-1)]: Done  55 out of  90 | elapsed:   31.7s remaining:   20.2s\n",
      "[Parallel(n_jobs=-1)]: Done  90 out of  90 | elapsed:   37.2s finished\n"
     ]
    },
    {
     "name": "stdout",
     "output_type": "stream",
     "text": [
      "CPU times: user 7.23 s, sys: 17.9 s, total: 25.2 s\n",
      "Wall time: 37.8 s\n"
     ]
    }
   ],
   "source": [
    "%%time \n",
    "\n",
    "param_grid = {\"method\": [\"first_order\", \"second_order\"],\n",
    "              \"reg_lambda\": [0.1, 0.2, 0.3, 0.4, 0.5],\n",
    "              \"reg_gamma\": np.logspace(-1, 1, 3)}\n",
    "grid = GridSearchCV(SimClassifier(degree=2, knot_num=20, random_state=0), \n",
    "                    cv=KFold(3, shuffle=True, random_state=0), \n",
    "                    scoring={\"auc\": make_scorer(roc_auc_score)},\n",
    "                    param_grid=param_grid, n_jobs=-1, verbose=2, refit=\"auc\", error_score=np.nan)\n",
    "grid.fit(x, y)"
   ]
  },
  {
   "cell_type": "code",
   "execution_count": 11,
   "metadata": {},
   "outputs": [
    {
     "data": {
      "text/plain": [
       "{'method': 'second_order', 'reg_gamma': 0.1, 'reg_lambda': 0.4}"
      ]
     },
     "execution_count": 11,
     "metadata": {},
     "output_type": "execute_result"
    }
   ],
   "source": [
    "grid.best_params_"
   ]
  },
  {
   "cell_type": "markdown",
   "metadata": {},
   "source": [
    "**NB**: The second-order Setin's method is selected, as $\\mathbb{E}[f^{\\prime}(u)]=0$. Therefore, the first order method cannot provide any information about the projection coefficients. "
   ]
  },
  {
   "cell_type": "code",
   "execution_count": 12,
   "metadata": {},
   "outputs": [
    {
     "data": {
      "text/plain": [
       "SimClassifier(degree=2, knot_num=20, method='second_order', random_state=0,\n",
       "              reg_gamma=0.1, reg_lambda=0.4)"
      ]
     },
     "execution_count": 12,
     "metadata": {},
     "output_type": "execute_result"
    }
   ],
   "source": [
    "clf = grid.best_estimator_\n",
    "clf"
   ]
  },
  {
   "cell_type": "code",
   "execution_count": 13,
   "metadata": {},
   "outputs": [
    {
     "data": {
      "image/png": "[encoded data removed]",
      "text/plain": [
       "<Figure size 432x288 with 1 Axes>"
      ]
     },
     "metadata": {
      "needs_background": "light"
     },
     "output_type": "display_data"
    }
   ],
   "source": [
    "plt.plot(clf.beta_, \"o\")\n",
    "plt.plot(beta, \"o\")\n",
    "plt.legend([\"Estimated\", \"Ground Truth\"])\n",
    "plt.show()"
   ]
  },
  {
   "cell_type": "code",
   "execution_count": 14,
   "metadata": {
    "scrolled": false
   },
   "outputs": [
    {
     "data": {
      "image/png": "[encoded data removed]",
      "text/plain": [
       "<Figure size 864x288 with 3 Axes>"
      ]
     },
     "metadata": {
      "needs_background": "light"
     },
     "output_type": "display_data"
    }
   ],
   "source": [
    "grid.best_estimator_.visualize()"
   ]
  },
  {
   "cell_type": "markdown",
   "metadata": {},
   "source": [
    "## Case 3: Improve a rough estimator via inner update"
   ]
  },
  {
   "cell_type": "code",
   "execution_count": 15,
   "metadata": {
    "scrolled": true
   },
   "outputs": [],
   "source": [
    "s_star = 5\n",
    "n_features = 100\n",
    "n_samples = 10000\n",
    "\n",
    "np.random.seed(1)\n",
    "beta = np.zeros(n_features)\n",
    "supp_ids = np.random.choice(n_features, s_star)\n",
    "beta[supp_ids]=np.random.choice((-1, 1), s_star) / np.sqrt(s_star)\n",
    "\n",
    "x = np.random.gamma(1, 0.3, size=(n_samples, n_features))\n",
    "y = 5 * np.dot(x, beta) ** 2 + 0.1 * np.random.randn(n_samples)\n",
    "ymu = np.mean(y)\n",
    "y[y > ymu] = 1\n",
    "y[y <= ymu] = 0"
   ]
  },
  {
   "cell_type": "code",
   "execution_count": 16,
   "metadata": {
    "scrolled": true
   },
   "outputs": [
    {
     "name": "stdout",
     "output_type": "stream",
     "text": [
      "CPU times: user 5.03 s, sys: 15.9 s, total: 21 s\n",
      "Wall time: 538 ms\n"
     ]
    }
   ],
   "source": [
    "%%time \n",
    "\n",
    "clf = SimClassifier(degree=2, knot_num=20, reg_lambda=0.2, reg_gamma=1, random_state=0)\n",
    "clf.fit(x, y)"
   ]
  },
  {
   "cell_type": "code",
   "execution_count": 17,
   "metadata": {
    "scrolled": true
   },
   "outputs": [
    {
     "data": {
      "image/png": "[encoded data removed]",
      "text/plain": [
       "<Figure size 864x288 with 3 Axes>"
      ]
     },
     "metadata": {
      "needs_background": "light"
     },
     "output_type": "display_data"
    }
   ],
   "source": [
    "clf.visualize()"
   ]
  },
  {
   "cell_type": "markdown",
   "metadata": {},
   "source": [
    "**Remark**：The data does not follow a normal distribution, so the performance is relatively poor."
   ]
  },
  {
   "cell_type": "code",
   "execution_count": 18,
   "metadata": {
    "scrolled": true
   },
   "outputs": [
    {
     "name": "stdout",
     "output_type": "stream",
     "text": [
      "Inner iter: 1 epoch: 1 with validation loss: 0.44297\n",
      "Inner iter: 1 epoch: 2 with validation loss: 0.4446\n",
      "Inner iter: 2 epoch: 1 with validation loss: 0.44362\n",
      "Inner iter: 2 epoch: 2 with validation loss: 0.44407\n",
      "Inner iter: 2 epoch: 3 with validation loss: 0.44662\n",
      "Inner iter: 2 epoch: 4 with validation loss: 0.44393\n",
      "Inner iter: 2 epoch: 5 with validation loss: 0.44101\n",
      "Inner iter: 2 epoch: 6 with validation loss: 0.43887\n",
      "Inner iter: 2 epoch: 7 with validation loss: 0.43131\n",
      "Inner iter: 2 epoch: 8 with validation loss: 0.4235\n",
      "Inner iter: 2 epoch: 9 with validation loss: 0.41701\n",
      "Inner iter: 2 epoch: 10 with validation loss: 0.40705\n",
      "Inner iter: 2 epoch: 11 with validation loss: 0.39878\n",
      "Inner iter: 2 epoch: 12 with validation loss: 0.39189\n",
      "Inner iter: 2 epoch: 13 with validation loss: 0.38449\n",
      "Inner iter: 2 epoch: 14 with validation loss: 0.37856\n",
      "Inner iter: 2 epoch: 15 with validation loss: 0.37365\n",
      "Inner iter: 2 epoch: 16 with validation loss: 0.37033\n",
      "Inner iter: 2 epoch: 17 with validation loss: 0.36487\n",
      "Inner iter: 2 epoch: 18 with validation loss: 0.36039\n",
      "Inner iter: 2 epoch: 19 with validation loss: 0.35695\n",
      "Inner iter: 2 epoch: 20 with validation loss: 0.35357\n",
      "Inner iter: 2 epoch: 21 with validation loss: 0.35128\n",
      "Inner iter: 2 epoch: 22 with validation loss: 0.34793\n",
      "Inner iter: 2 epoch: 23 with validation loss: 0.34531\n",
      "Inner iter: 2 epoch: 24 with validation loss: 0.34303\n",
      "Inner iter: 2 epoch: 25 with validation loss: 0.34105\n",
      "Inner iter: 2 epoch: 26 with validation loss: 0.33871\n",
      "Inner iter: 2 epoch: 27 with validation loss: 0.33695\n",
      "Inner iter: 2 epoch: 28 with validation loss: 0.33536\n",
      "Inner iter: 2 epoch: 29 with validation loss: 0.33344\n",
      "Inner iter: 2 epoch: 30 with validation loss: 0.33183\n",
      "Inner iter: 2 epoch: 31 with validation loss: 0.3301\n",
      "Inner iter: 2 epoch: 32 with validation loss: 0.32905\n",
      "Inner iter: 2 epoch: 33 with validation loss: 0.32728\n",
      "Inner iter: 2 epoch: 34 with validation loss: 0.32644\n",
      "Inner iter: 2 epoch: 35 with validation loss: 0.32477\n",
      "Inner iter: 2 epoch: 36 with validation loss: 0.32356\n",
      "Inner iter: 2 epoch: 37 with validation loss: 0.32262\n",
      "Inner iter: 2 epoch: 38 with validation loss: 0.32187\n",
      "Inner iter: 2 epoch: 39 with validation loss: 0.32022\n",
      "Inner iter: 2 epoch: 40 with validation loss: 0.31918\n",
      "Inner iter: 2 epoch: 41 with validation loss: 0.31979\n",
      "Inner iter: 2 epoch: 42 with validation loss: 0.31736\n",
      "Inner iter: 2 epoch: 43 with validation loss: 0.31668\n",
      "Inner iter: 2 epoch: 44 with validation loss: 0.31545\n",
      "Inner iter: 2 epoch: 45 with validation loss: 0.31513\n",
      "Inner iter: 2 epoch: 46 with validation loss: 0.31484\n",
      "Inner iter: 2 epoch: 47 with validation loss: 0.31534\n",
      "Inner iter: 2 epoch: 48 with validation loss: 0.31247\n",
      "Inner iter: 2 epoch: 49 with validation loss: 0.31176\n",
      "Inner iter: 2 epoch: 50 with validation loss: 0.31107\n",
      "Inner iter: 3 epoch: 1 with validation loss: 0.50894\n",
      "Inner iter: 3 epoch: 2 with validation loss: 0.50009\n",
      "Inner iter: 3 epoch: 3 with validation loss: 0.49334\n",
      "Inner iter: 3 epoch: 4 with validation loss: 0.48686\n",
      "Inner iter: 3 epoch: 5 with validation loss: 0.49105\n",
      "Inner iter: 3 epoch: 6 with validation loss: 0.47973\n",
      "Inner iter: 3 epoch: 7 with validation loss: 0.47617\n",
      "Inner iter: 3 epoch: 8 with validation loss: 0.47508\n",
      "Inner iter: 3 epoch: 9 with validation loss: 0.47303\n",
      "Inner iter: 3 epoch: 10 with validation loss: 0.47636\n",
      "Inner iter: 3 epoch: 11 with validation loss: 0.47193\n",
      "Inner iter: 3 epoch: 12 with validation loss: 0.46997\n",
      "Inner iter: 3 epoch: 13 with validation loss: 0.4701\n",
      "Inner iter: 3 epoch: 14 with validation loss: 0.46861\n",
      "Inner iter: 3 epoch: 15 with validation loss: 0.4677\n",
      "Inner iter: 3 epoch: 16 with validation loss: 0.46759\n",
      "Inner iter: 3 epoch: 17 with validation loss: 0.46844\n",
      "Inner iter: 3 epoch: 18 with validation loss: 0.46671\n",
      "Inner iter: 3 epoch: 19 with validation loss: 0.46723\n",
      "Inner iter: 3 epoch: 20 with validation loss: 0.46709\n",
      "Inner iter: 4 epoch: 1 with validation loss: 0.44446\n",
      "Inner iter: 4 epoch: 2 with validation loss: 0.44594\n",
      "Inner iter: 4 epoch: 3 with validation loss: 0.4449\n",
      "Inner iter: 4 epoch: 4 with validation loss: 0.44414\n",
      "Inner iter: 4 epoch: 5 with validation loss: 0.44186\n",
      "Inner iter: 4 epoch: 6 with validation loss: 0.43779\n",
      "Inner iter: 4 epoch: 7 with validation loss: 0.43165\n",
      "Inner iter: 4 epoch: 8 with validation loss: 0.42481\n",
      "Inner iter: 4 epoch: 9 with validation loss: 0.41686\n",
      "Inner iter: 4 epoch: 10 with validation loss: 0.40886\n",
      "Inner iter: 4 epoch: 11 with validation loss: 0.40156\n",
      "Inner iter: 4 epoch: 12 with validation loss: 0.39351\n",
      "Inner iter: 4 epoch: 13 with validation loss: 0.38644\n",
      "Inner iter: 4 epoch: 14 with validation loss: 0.38002\n",
      "Inner iter: 4 epoch: 15 with validation loss: 0.37452\n",
      "Inner iter: 4 epoch: 16 with validation loss: 0.36957\n",
      "Inner iter: 4 epoch: 17 with validation loss: 0.36529\n",
      "Inner iter: 4 epoch: 18 with validation loss: 0.36141\n",
      "Inner iter: 4 epoch: 19 with validation loss: 0.35809\n",
      "Inner iter: 4 epoch: 20 with validation loss: 0.35453\n",
      "Inner iter: 4 epoch: 21 with validation loss: 0.35189\n",
      "Inner iter: 4 epoch: 22 with validation loss: 0.34888\n",
      "Inner iter: 4 epoch: 23 with validation loss: 0.34622\n",
      "Inner iter: 4 epoch: 24 with validation loss: 0.34394\n",
      "Inner iter: 4 epoch: 25 with validation loss: 0.34164\n",
      "Inner iter: 4 epoch: 26 with validation loss: 0.33987\n",
      "Inner iter: 4 epoch: 27 with validation loss: 0.33747\n",
      "Inner iter: 4 epoch: 28 with validation loss: 0.33555\n",
      "Inner iter: 4 epoch: 29 with validation loss: 0.33525\n",
      "Inner iter: 4 epoch: 30 with validation loss: 0.33217\n",
      "Inner iter: 4 epoch: 31 with validation loss: 0.33063\n",
      "Inner iter: 4 epoch: 32 with validation loss: 0.32891\n",
      "Inner iter: 4 epoch: 33 with validation loss: 0.3281\n",
      "Inner iter: 4 epoch: 34 with validation loss: 0.32658\n",
      "Inner iter: 4 epoch: 35 with validation loss: 0.32505\n",
      "Inner iter: 4 epoch: 36 with validation loss: 0.32634\n",
      "Inner iter: 4 epoch: 37 with validation loss: 0.32336\n",
      "Inner iter: 4 epoch: 38 with validation loss: 0.32177\n",
      "Inner iter: 4 epoch: 39 with validation loss: 0.32077\n",
      "Inner iter: 4 epoch: 40 with validation loss: 0.31943\n",
      "Inner iter: 4 epoch: 41 with validation loss: 0.31867\n",
      "Inner iter: 4 epoch: 42 with validation loss: 0.31798\n",
      "Inner iter: 4 epoch: 43 with validation loss: 0.31652\n",
      "Inner iter: 4 epoch: 44 with validation loss: 0.31579\n",
      "Inner iter: 4 epoch: 45 with validation loss: 0.31704\n",
      "Inner iter: 4 epoch: 46 with validation loss: 0.31463\n",
      "Inner iter: 4 epoch: 47 with validation loss: 0.3138\n",
      "Inner iter: 4 epoch: 48 with validation loss: 0.3129\n",
      "Inner iter: 4 epoch: 49 with validation loss: 0.3119\n",
      "Inner iter: 4 epoch: 50 with validation loss: 0.3112\n",
      "Inner iter: 5 epoch: 1 with validation loss: 0.50908\n",
      "Inner iter: 5 epoch: 2 with validation loss: 0.50043\n",
      "Inner iter: 5 epoch: 3 with validation loss: 0.49253\n",
      "Inner iter: 5 epoch: 4 with validation loss: 0.49026\n",
      "Inner iter: 5 epoch: 5 with validation loss: 0.48276\n",
      "Inner iter: 5 epoch: 6 with validation loss: 0.47957\n",
      "Inner iter: 5 epoch: 7 with validation loss: 0.47746\n",
      "Inner iter: 5 epoch: 8 with validation loss: 0.47542\n",
      "Inner iter: 5 epoch: 9 with validation loss: 0.47281\n",
      "Inner iter: 5 epoch: 10 with validation loss: 0.47139\n",
      "Inner iter: 5 epoch: 11 with validation loss: 0.4705\n",
      "Inner iter: 5 epoch: 12 with validation loss: 0.47158\n",
      "Inner iter: 5 epoch: 13 with validation loss: 0.46903\n",
      "Inner iter: 5 epoch: 14 with validation loss: 0.46843\n",
      "Inner iter: 5 epoch: 15 with validation loss: 0.4679\n",
      "Inner iter: 5 epoch: 16 with validation loss: 0.46826\n",
      "Inner iter: 5 epoch: 17 with validation loss: 0.46688\n",
      "Inner iter: 5 epoch: 18 with validation loss: 0.469\n",
      "Inner iter: 5 epoch: 19 with validation loss: 0.46972\n",
      "Inner iter: 5 epoch: 20 with validation loss: 0.46661\n",
      "Inner iter: 5 epoch: 21 with validation loss: 0.46645\n",
      "Inner iter: 5 epoch: 22 with validation loss: 0.46876\n",
      "Inner iter: 5 epoch: 23 with validation loss: 0.46706\n",
      "Inner iter: 5 epoch: 24 with validation loss: 0.46635\n",
      "Inner iter: 5 epoch: 25 with validation loss: 0.47126\n",
      "Inner iter: 5 epoch: 26 with validation loss: 0.46616\n",
      "Inner iter: 5 epoch: 27 with validation loss: 0.46661\n",
      "Inner iter: 5 epoch: 28 with validation loss: 0.46646\n",
      "Inner iter: 5 epoch: 29 with validation loss: 0.47159\n",
      "Inner iter: 5 epoch: 30 with validation loss: 0.46844\n",
      "Inner iter: 5 epoch: 31 with validation loss: 0.46602\n",
      "Inner iter: 5 epoch: 32 with validation loss: 0.47028\n"
     ]
    },
    {
     "name": "stdout",
     "output_type": "stream",
     "text": [
      "Inner iter: 5 epoch: 33 with validation loss: 0.46691\n",
      "Inner iter: 5 epoch: 34 with validation loss: 0.46811\n",
      "Inner iter: 5 epoch: 35 with validation loss: 0.46906\n",
      "Inner iter: 5 epoch: 36 with validation loss: 0.46623\n",
      "Inner iter: 5 epoch: 37 with validation loss: 0.46606\n",
      "Inner iter: 5 epoch: 38 with validation loss: 0.46801\n"
     ]
    }
   ],
   "source": [
    "clf.fit_inner_update(x, y, max_inner_iter=5, epoches=50, n_iter_no_change=1,\n",
    "                     batch_size=100, val_ratio=0.2, learning_rate=1e-3, beta_1=0.9, beta_2=0.999, verbose=True)"
   ]
  },
  {
   "cell_type": "code",
   "execution_count": 19,
   "metadata": {
    "scrolled": true
   },
   "outputs": [
    {
     "data": {
      "image/png": "[encoded data removed]",
      "text/plain": [
       "<Figure size 864x288 with 3 Axes>"
      ]
     },
     "metadata": {
      "needs_background": "light"
     },
     "output_type": "display_data"
    }
   ],
   "source": [
    "clf.visualize()"
   ]
  }
 ],
 "metadata": {
  "kernelspec": {
   "display_name": "Python (tf2)",
   "language": "python",
   "name": "tf2"
  },
  "language_info": {
   "codemirror_mode": {
    "name": "ipython",
    "version": 3
   },
   "file_extension": ".py",
   "mimetype": "text/x-python",
   "name": "python",
   "nbconvert_exporter": "python",
   "pygments_lexer": "ipython3",
   "version": "3.6.8"
  }
 },
 "nbformat": 4,
 "nbformat_minor": 2
}
