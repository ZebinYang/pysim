{
 "cells": [
  {
   "cell_type": "markdown",
   "metadata": {},
   "source": [
    "## SIM Training by Stein's Method"
   ]
  },
  {
   "cell_type": "code",
   "execution_count": 19,
   "metadata": {},
   "outputs": [],
   "source": [
    "import numpy as np\n",
    "from matplotlib import pylab as plt\n",
    "from sklearn.model_selection import KFold\n",
    "from sklearn.model_selection import GridSearchCV\n",
    "from sklearn.preprocessing import MinMaxScaler\n",
    "from sklearn.metrics import make_scorer, roc_auc_score\n",
    "\n",
    "from pysim import SimClassifier"
   ]
  },
  {
   "cell_type": "markdown",
   "metadata": {},
   "source": [
    "# Case 1: Logit Function"
   ]
  },
  {
   "cell_type": "code",
   "execution_count": 20,
   "metadata": {
    "scrolled": true
   },
   "outputs": [],
   "source": [
    "s_star = 5\n",
    "n_features = 100\n",
    "n_samples = 10000\n",
    "\n",
    "np.random.seed(1)\n",
    "beta = np.zeros(n_features)\n",
    "supp_ids = np.random.choice(n_features, s_star)\n",
    "beta[supp_ids]=np.random.choice((-1, 1), s_star) / np.sqrt(s_star)\n",
    "\n",
    "x = np.random.normal(0, 0.3, size=(n_samples, n_features))\n",
    "y = 1 / (1 + np.exp(-(np.dot(x, beta)))) + 0.1 * np.random.randn(n_samples)\n",
    "y = y - np.mean(y)\n",
    "y[y <= 0] = 0\n",
    "y[y > 0] = 1"
   ]
  },
  {
   "cell_type": "markdown",
   "metadata": {},
   "source": [
    "The best hyperparameter combination can be selected via cross-validation"
   ]
  },
  {
   "cell_type": "code",
   "execution_count": 21,
   "metadata": {
    "scrolled": true
   },
   "outputs": [
    {
     "name": "stdout",
     "output_type": "stream",
     "text": [
      "Fitting 5 folds for each of 250 candidates, totalling 1250 fits\n"
     ]
    },
    {
     "name": "stderr",
     "output_type": "stream",
     "text": [
      "[Parallel(n_jobs=-1)]: Using backend LokyBackend with 64 concurrent workers.\n",
      "/home/r7user1/anaconda2_local/envs/tf2/lib/python3.6/site-packages/joblib/externals/loky/process_executor.py:706: UserWarning: A worker stopped while some jobs were given to the executor. This can be caused by a too short worker timeout or by a memory leak.\n",
      "  \"timeout or by a memory leak.\", UserWarning\n",
      "[Parallel(n_jobs=-1)]: Done  17 tasks      | elapsed:   31.3s\n",
      "[Parallel(n_jobs=-1)]: Done  34 tasks      | elapsed:   31.3s\n",
      "[Parallel(n_jobs=-1)]: Done  53 tasks      | elapsed:   31.4s\n",
      "[Parallel(n_jobs=-1)]: Done  72 tasks      | elapsed:   31.4s\n",
      "[Parallel(n_jobs=-1)]: Done  93 tasks      | elapsed:   31.4s\n",
      "[Parallel(n_jobs=-1)]: Done 114 tasks      | elapsed:   31.4s\n",
      "[Parallel(n_jobs=-1)]: Done 137 tasks      | elapsed:   32.1s\n",
      "[Parallel(n_jobs=-1)]: Done 160 tasks      | elapsed:   32.9s\n",
      "[Parallel(n_jobs=-1)]: Done 185 tasks      | elapsed:   33.6s\n",
      "[Parallel(n_jobs=-1)]: Done 210 tasks      | elapsed:   34.3s\n",
      "[Parallel(n_jobs=-1)]: Done 237 tasks      | elapsed:   34.9s\n",
      "[Parallel(n_jobs=-1)]: Done 264 tasks      | elapsed:   35.5s\n",
      "[Parallel(n_jobs=-1)]: Done 293 tasks      | elapsed:   36.2s\n",
      "[Parallel(n_jobs=-1)]: Done 322 tasks      | elapsed:   36.9s\n",
      "[Parallel(n_jobs=-1)]: Done 353 tasks      | elapsed:   37.5s\n",
      "[Parallel(n_jobs=-1)]: Done 384 tasks      | elapsed:   38.2s\n",
      "[Parallel(n_jobs=-1)]: Done 417 tasks      | elapsed:   39.0s\n",
      "[Parallel(n_jobs=-1)]: Done 450 tasks      | elapsed:   39.6s\n",
      "[Parallel(n_jobs=-1)]: Done 485 tasks      | elapsed:   39.7s\n",
      "[Parallel(n_jobs=-1)]: Done 520 tasks      | elapsed:   39.9s\n",
      "[Parallel(n_jobs=-1)]: Done 557 tasks      | elapsed:   40.1s\n",
      "[Parallel(n_jobs=-1)]: Done 594 tasks      | elapsed:   40.8s\n",
      "[Parallel(n_jobs=-1)]: Done 633 tasks      | elapsed:   41.4s\n",
      "[Parallel(n_jobs=-1)]: Done 672 tasks      | elapsed:   42.0s\n",
      "[Parallel(n_jobs=-1)]: Done 713 tasks      | elapsed:   42.4s\n",
      "[Parallel(n_jobs=-1)]: Done 754 tasks      | elapsed:   43.0s\n",
      "[Parallel(n_jobs=-1)]: Done 797 tasks      | elapsed:   43.5s\n",
      "[Parallel(n_jobs=-1)]: Done 840 tasks      | elapsed:   44.0s\n",
      "[Parallel(n_jobs=-1)]: Done 885 tasks      | elapsed:   44.5s\n",
      "[Parallel(n_jobs=-1)]: Done 930 tasks      | elapsed:   45.0s\n",
      "[Parallel(n_jobs=-1)]: Done 977 tasks      | elapsed:   45.8s\n",
      "[Parallel(n_jobs=-1)]: Done 1024 tasks      | elapsed:   45.9s\n",
      "[Parallel(n_jobs=-1)]: Done 1073 tasks      | elapsed:   46.4s\n",
      "[Parallel(n_jobs=-1)]: Done 1122 tasks      | elapsed:   46.6s\n",
      "[Parallel(n_jobs=-1)]: Done 1250 out of 1250 | elapsed:   47.0s finished\n",
      "/home/r7user1/anaconda2_local/envs/tf2/lib/python3.6/site-packages/sklearn/model_selection/_search.py:849: FutureWarning: The parameter 'iid' is deprecated in 0.22 and will be removed in 0.24.\n",
      "  \"removed in 0.24.\", FutureWarning\n"
     ]
    },
    {
     "name": "stdout",
     "output_type": "stream",
     "text": [
      "CPU times: user 7.32 s, sys: 8.55 s, total: 15.9 s\n",
      "Wall time: 47.4 s\n",
      "Parser   : 185 ms\n"
     ]
    }
   ],
   "source": [
    "%%time \n",
    "\n",
    "param_grid = {\"method\": [\"first_order\", \"second_order\", \"first_order_thres\", \"marginal_regression\", \"ols\"],\n",
    "              \"knot_dist\": [\"uniform\", \"quantile\"],\n",
    "              \"reg_lambda\": [0.1, 0.2, 0.3, 0.4, 0.5], \n",
    "              \"reg_gamma\": np.logspace(-2, 2, 5)}\n",
    "grid = GridSearchCV(SimClassifier(spline=\"smoothing_spline_mgcv\", degree=3, knot_num=10, random_state=0), iid=False,\n",
    "                    cv=KFold(5, shuffle=True, random_state=0), param_grid=param_grid, n_jobs=-1, verbose=10, error_score=np.nan)\n",
    "grid.fit(x, y)"
   ]
  },
  {
   "cell_type": "code",
   "execution_count": 22,
   "metadata": {},
   "outputs": [
    {
     "data": {
      "text/plain": [
       "{'knot_dist': 'uniform',\n",
       " 'method': 'first_order_thres',\n",
       " 'reg_gamma': 100.0,\n",
       " 'reg_lambda': 0.2}"
      ]
     },
     "execution_count": 22,
     "metadata": {},
     "output_type": "execute_result"
    }
   ],
   "source": [
    "grid.best_params_"
   ]
  },
  {
   "cell_type": "markdown",
   "metadata": {},
   "source": [
    "**NB**: The first-order Setin's method is selected, as $\\mathbb{E}[f^{\\prime\\prime}(u)]=0$. Therefore, the second order method cannot provide any information about the projection coefficients. "
   ]
  },
  {
   "cell_type": "markdown",
   "metadata": {},
   "source": [
    "In this case, the first-order Setin's method is selected. "
   ]
  },
  {
   "cell_type": "code",
   "execution_count": 23,
   "metadata": {},
   "outputs": [
    {
     "data": {
      "text/plain": [
       "SimClassifier(knot_dist='uniform', method='first_order_thres', reg_gamma=100.0,\n",
       "              reg_lambda=0.2)"
      ]
     },
     "execution_count": 23,
     "metadata": {},
     "output_type": "execute_result"
    }
   ],
   "source": [
    "clf = grid.best_estimator_\n",
    "clf"
   ]
  },
  {
   "cell_type": "code",
   "execution_count": 24,
   "metadata": {},
   "outputs": [
    {
     "data": {
      "image/png": "[encoded data removed]",
      "text/plain": [
       "<Figure size 432x288 with 1 Axes>"
      ]
     },
     "metadata": {
      "needs_background": "light"
     },
     "output_type": "display_data"
    }
   ],
   "source": [
    "plt.plot(np.abs(clf.beta_), \"o\")\n",
    "plt.plot(np.abs(beta), \"o\")\n",
    "plt.legend([\"Estimated\", \"Ground Truth\"])\n",
    "plt.show()"
   ]
  },
  {
   "cell_type": "code",
   "execution_count": 25,
   "metadata": {
    "scrolled": true
   },
   "outputs": [
    {
     "data": {
      "image/png": "[encoded data removed]",
      "text/plain": [
       "<Figure size 864x288 with 3 Axes>"
      ]
     },
     "metadata": {
      "needs_background": "light"
     },
     "output_type": "display_data"
    }
   ],
   "source": [
    "grid.best_estimator_.visualize()"
   ]
  },
  {
   "cell_type": "code",
   "execution_count": 26,
   "metadata": {},
   "outputs": [
    {
     "data": {
      "text/plain": [
       "0.7765505681564544"
      ]
     },
     "execution_count": 26,
     "metadata": {},
     "output_type": "execute_result"
    }
   ],
   "source": [
    "roc_auc_score(y, grid.predict_proba(x)[:, 1])"
   ]
  },
  {
   "cell_type": "markdown",
   "metadata": {},
   "source": [
    "## Case 2: Quadratic Ridge Function"
   ]
  },
  {
   "cell_type": "code",
   "execution_count": 27,
   "metadata": {
    "scrolled": true
   },
   "outputs": [],
   "source": [
    "s_star = 5\n",
    "n_features = 100\n",
    "n_samples = 10000\n",
    "\n",
    "np.random.seed(1)\n",
    "beta = np.zeros(n_features)\n",
    "supp_ids = np.random.choice(n_features, s_star)\n",
    "beta[supp_ids]=np.random.choice((-1, 1), s_star) / np.sqrt(s_star)\n",
    "\n",
    "x = np.random.normal(0, 0.3, size=(n_samples, n_features))\n",
    "y = 5 * np.dot(x, beta) ** 2 + 0.1 * np.random.randn(n_samples)\n",
    "ymu = np.mean(y)\n",
    "y[y > ymu] = 1\n",
    "y[y <= ymu] = 0"
   ]
  },
  {
   "cell_type": "code",
   "execution_count": 28,
   "metadata": {
    "scrolled": true
   },
   "outputs": [
    {
     "name": "stdout",
     "output_type": "stream",
     "text": [
      "Fitting 3 folds for each of 250 candidates, totalling 750 fits\n"
     ]
    },
    {
     "name": "stderr",
     "output_type": "stream",
     "text": [
      "[Parallel(n_jobs=-1)]: Using backend LokyBackend with 64 concurrent workers.\n",
      "[Parallel(n_jobs=-1)]: Done  34 tasks      | elapsed:    0.7s\n",
      "[Parallel(n_jobs=-1)]: Done 237 tasks      | elapsed:    2.6s\n",
      "[Parallel(n_jobs=-1)]: Done 520 tasks      | elapsed:    4.8s\n",
      "[Parallel(n_jobs=-1)]: Done 750 out of 750 | elapsed:    6.3s finished\n",
      "/home/r7user1/anaconda2_local/envs/tf2/lib/python3.6/site-packages/sklearn/model_selection/_search.py:849: FutureWarning: The parameter 'iid' is deprecated in 0.22 and will be removed in 0.24.\n",
      "  \"removed in 0.24.\", FutureWarning\n"
     ]
    },
    {
     "name": "stdout",
     "output_type": "stream",
     "text": [
      "CPU times: user 6.81 s, sys: 11.1 s, total: 17.9 s\n",
      "Wall time: 6.77 s\n"
     ]
    }
   ],
   "source": [
    "%%time \n",
    "\n",
    "param_grid = {\"method\": [\"first_order\", \"second_order\", \"first_order_thres\", \"marginal_regression\", \"ols\"],\n",
    "              \"knot_dist\": [\"uniform\", \"quantile\"],\n",
    "              \"reg_lambda\": [0.1, 0.2, 0.3, 0.4, 0.5], \n",
    "              \"reg_gamma\": np.logspace(-2, 2, 5)}\n",
    "grid = GridSearchCV(SimClassifier(spline=\"smoothing_spline_mgcv\", degree=3, knot_num=10, random_state=0), iid=False,\n",
    "                    cv=KFold(3, shuffle=True, random_state=0), param_grid=param_grid, n_jobs=-1, verbose=2, error_score=np.nan)\n",
    "grid.fit(x, y)"
   ]
  },
  {
   "cell_type": "code",
   "execution_count": 29,
   "metadata": {},
   "outputs": [
    {
     "data": {
      "text/plain": [
       "{'knot_dist': 'uniform',\n",
       " 'method': 'second_order',\n",
       " 'reg_gamma': 0.01,\n",
       " 'reg_lambda': 0.1}"
      ]
     },
     "execution_count": 29,
     "metadata": {},
     "output_type": "execute_result"
    }
   ],
   "source": [
    "grid.best_params_"
   ]
  },
  {
   "cell_type": "markdown",
   "metadata": {},
   "source": [
    "**NB**: The second-order Setin's method is selected, as $\\mathbb{E}[f^{\\prime}(u)]=0$. Therefore, the first order method cannot provide any information about the projection coefficients. "
   ]
  },
  {
   "cell_type": "code",
   "execution_count": 30,
   "metadata": {},
   "outputs": [
    {
     "data": {
      "text/plain": [
       "SimClassifier(knot_dist='uniform', method='second_order', reg_gamma=0.01)"
      ]
     },
     "execution_count": 30,
     "metadata": {},
     "output_type": "execute_result"
    }
   ],
   "source": [
    "clf = grid.best_estimator_\n",
    "clf"
   ]
  },
  {
   "cell_type": "code",
   "execution_count": 31,
   "metadata": {},
   "outputs": [
    {
     "data": {
      "image/png": "[encoded data removed]",
      "text/plain": [
       "<Figure size 432x288 with 1 Axes>"
      ]
     },
     "metadata": {
      "needs_background": "light"
     },
     "output_type": "display_data"
    }
   ],
   "source": [
    "plt.plot(clf.beta_, \"o\")\n",
    "plt.plot(beta, \"o\")\n",
    "plt.legend([\"Estimated\", \"Ground Truth\"])\n",
    "plt.show()"
   ]
  },
  {
   "cell_type": "code",
   "execution_count": 32,
   "metadata": {
    "scrolled": false
   },
   "outputs": [
    {
     "data": {
      "image/png": "[encoded data removed]",
      "text/plain": [
       "<Figure size 864x288 with 3 Axes>"
      ]
     },
     "metadata": {
      "needs_background": "light"
     },
     "output_type": "display_data"
    }
   ],
   "source": [
    "grid.best_estimator_.visualize()"
   ]
  },
  {
   "cell_type": "markdown",
   "metadata": {},
   "source": [
    "## Case 3: Improve a rough estimator via middle update"
   ]
  },
  {
   "cell_type": "code",
   "execution_count": 33,
   "metadata": {
    "scrolled": true
   },
   "outputs": [],
   "source": [
    "s_star = 5\n",
    "n_features = 100\n",
    "n_samples = 10000\n",
    "\n",
    "np.random.seed(1)\n",
    "beta = np.zeros(n_features)\n",
    "supp_ids = np.random.choice(n_features, s_star)\n",
    "beta[supp_ids]=np.random.choice((-1, 1), s_star) / np.sqrt(s_star)\n",
    "\n",
    "x = np.random.gamma(1, 0.3, size=(n_samples, n_features))\n",
    "y = 5 * np.dot(x, beta) ** 2 + 0.1 * np.random.randn(n_samples)\n",
    "ymu = np.mean(y)\n",
    "y[y > ymu] = 1\n",
    "y[y <= ymu] = 0"
   ]
  },
  {
   "cell_type": "code",
   "execution_count": 34,
   "metadata": {
    "scrolled": true
   },
   "outputs": [
    {
     "data": {
      "image/png": "[encoded data removed]",
      "text/plain": [
       "<Figure size 864x288 with 3 Axes>"
      ]
     },
     "metadata": {
      "needs_background": "light"
     },
     "output_type": "display_data"
    },
    {
     "name": "stdout",
     "output_type": "stream",
     "text": [
      "CPU times: user 3.32 s, sys: 6.3 s, total: 9.62 s\n",
      "Wall time: 884 ms\n",
      "Compiler : 163 ms\n"
     ]
    }
   ],
   "source": [
    "%%time \n",
    "clf = SimClassifier(degree=3, knot_num=20, reg_lambda=0.1, reg_gamma=10**(0), spline=\"smoothing_spline_mgcv\", random_state=0)\n",
    "clf.fit(x, y)\n",
    "clf.visualize()"
   ]
  },
  {
   "cell_type": "markdown",
   "metadata": {},
   "source": [
    "To improve the solution, we provide two options for inner update: **adam optimizer** and **BFGS optimizer**."
   ]
  },
  {
   "cell_type": "code",
   "execution_count": 35,
   "metadata": {
    "scrolled": true
   },
   "outputs": [
    {
     "name": "stdout",
     "output_type": "stream",
     "text": [
      "Middle iter: 1 Inner iter: 1 with validation loss: 0.39044\n",
      "Middle iter: 1 Inner iter: 2 with validation loss: 0.38676\n",
      "Middle iter: 1 Inner iter: 3 with validation loss: 0.38243\n",
      "Middle iter: 1 Inner iter: 4 with validation loss: 0.37953\n",
      "Middle iter: 1 Inner iter: 5 with validation loss: 0.37682\n",
      "Middle iter: 1 Inner iter: 6 with validation loss: 0.37314\n",
      "Middle iter: 1 Inner iter: 7 with validation loss: 0.37041\n",
      "Middle iter: 1 Inner iter: 8 with validation loss: 0.36712\n",
      "Middle iter: 1 Inner iter: 9 with validation loss: 0.36383\n",
      "Middle iter: 1 Inner iter: 10 with validation loss: 0.36108\n",
      "Middle iter: 1 Inner iter: 11 with validation loss: 0.35796\n",
      "Middle iter: 1 Inner iter: 12 with validation loss: 0.35484\n",
      "Middle iter: 1 Inner iter: 13 with validation loss: 0.35202\n",
      "Middle iter: 1 Inner iter: 14 with validation loss: 0.34893\n",
      "Middle iter: 1 Inner iter: 15 with validation loss: 0.34613\n",
      "Middle iter: 1 Inner iter: 16 with validation loss: 0.34328\n",
      "Middle iter: 1 Inner iter: 17 with validation loss: 0.34044\n",
      "Middle iter: 1 Inner iter: 18 with validation loss: 0.33819\n",
      "Middle iter: 1 Inner iter: 19 with validation loss: 0.33534\n",
      "Middle iter: 1 Inner iter: 20 with validation loss: 0.333\n",
      "Middle iter: 1 Inner iter: 21 with validation loss: 0.33004\n",
      "Middle iter: 1 Inner iter: 22 with validation loss: 0.32852\n",
      "Middle iter: 1 Inner iter: 23 with validation loss: 0.32627\n",
      "Middle iter: 1 Inner iter: 24 with validation loss: 0.32314\n",
      "Middle iter: 1 Inner iter: 25 with validation loss: 0.32116\n",
      "Middle iter: 1 Inner iter: 26 with validation loss: 0.31901\n",
      "Middle iter: 1 Inner iter: 27 with validation loss: 0.3169\n",
      "Middle iter: 1 Inner iter: 28 with validation loss: 0.31581\n",
      "Middle iter: 1 Inner iter: 29 with validation loss: 0.31379\n",
      "Middle iter: 1 Inner iter: 30 with validation loss: 0.31228\n",
      "Middle iter: 1 Inner iter: 31 with validation loss: 0.30984\n",
      "Middle iter: 1 Inner iter: 32 with validation loss: 0.30819\n",
      "Middle iter: 1 Inner iter: 33 with validation loss: 0.30672\n",
      "Middle iter: 1 Inner iter: 34 with validation loss: 0.30526\n",
      "Middle iter: 1 Inner iter: 35 with validation loss: 0.30433\n",
      "Middle iter: 1 Inner iter: 36 with validation loss: 0.30297\n",
      "Middle iter: 1 Inner iter: 37 with validation loss: 0.30152\n",
      "Middle iter: 1 Inner iter: 38 with validation loss: 0.30057\n",
      "Middle iter: 1 Inner iter: 39 with validation loss: 0.29965\n",
      "Middle iter: 1 Inner iter: 40 with validation loss: 0.29848\n",
      "Middle iter: 1 Inner iter: 41 with validation loss: 0.29836\n",
      "Middle iter: 1 Inner iter: 42 with validation loss: 0.29721\n",
      "Middle iter: 1 Inner iter: 43 with validation loss: 0.29617\n",
      "Middle iter: 1 Inner iter: 44 with validation loss: 0.29536\n",
      "Middle iter: 1 Inner iter: 45 with validation loss: 0.29549\n",
      "Middle iter: 1 Inner iter: 46 with validation loss: 0.29558\n",
      "Middle iter: 1 Inner iter: 47 with validation loss: 0.29401\n",
      "Middle iter: 1 Inner iter: 48 with validation loss: 0.2933\n",
      "Middle iter: 1 Inner iter: 49 with validation loss: 0.29405\n",
      "Middle iter: 1 Inner iter: 50 with validation loss: 0.29313\n",
      "Middle iter: 1 Inner iter: 51 with validation loss: 0.29219\n",
      "Middle iter: 1 Inner iter: 52 with validation loss: 0.29245\n",
      "Middle iter: 1 Inner iter: 53 with validation loss: 0.29338\n",
      "Middle iter: 1 Inner iter: 54 with validation loss: 0.29213\n",
      "Middle iter: 2 Inner iter: 1 with validation loss: 0.15807\n",
      "Middle iter: 2 Inner iter: 2 with validation loss: 0.14895\n",
      "Middle iter: 2 Inner iter: 3 with validation loss: 0.14362\n",
      "Middle iter: 2 Inner iter: 4 with validation loss: 0.14102\n",
      "Middle iter: 2 Inner iter: 5 with validation loss: 0.13477\n",
      "Middle iter: 2 Inner iter: 6 with validation loss: 0.13137\n",
      "Middle iter: 2 Inner iter: 7 with validation loss: 0.1282\n",
      "Middle iter: 2 Inner iter: 8 with validation loss: 0.12598\n",
      "Middle iter: 2 Inner iter: 9 with validation loss: 0.12306\n",
      "Middle iter: 2 Inner iter: 10 with validation loss: 0.12137\n",
      "Middle iter: 2 Inner iter: 11 with validation loss: 0.11924\n",
      "Middle iter: 2 Inner iter: 12 with validation loss: 0.11777\n",
      "Middle iter: 2 Inner iter: 13 with validation loss: 0.11807\n",
      "Middle iter: 2 Inner iter: 14 with validation loss: 0.11668\n",
      "Middle iter: 2 Inner iter: 15 with validation loss: 0.11561\n",
      "Middle iter: 2 Inner iter: 16 with validation loss: 0.1152\n",
      "Middle iter: 2 Inner iter: 17 with validation loss: 0.11456\n",
      "Middle iter: 2 Inner iter: 18 with validation loss: 0.11381\n",
      "Middle iter: 2 Inner iter: 19 with validation loss: 0.11383\n",
      "Middle iter: 2 Inner iter: 20 with validation loss: 0.11307\n",
      "Middle iter: 2 Inner iter: 21 with validation loss: 0.11296\n",
      "Middle iter: 2 Inner iter: 22 with validation loss: 0.11395\n",
      "Middle iter: 2 Inner iter: 23 with validation loss: 0.1131\n",
      "Middle iter: 2 Inner iter: 24 with validation loss: 0.11294\n",
      "Middle iter: 3 Inner iter: 1 with validation loss: 0.08767\n",
      "Middle iter: 3 Inner iter: 2 with validation loss: 0.08239\n",
      "Middle iter: 3 Inner iter: 3 with validation loss: 0.08185\n",
      "Middle iter: 3 Inner iter: 4 with validation loss: 0.08362\n",
      "Middle iter: 3 Inner iter: 5 with validation loss: 0.08364\n",
      "Middle iter: 3 Inner iter: 6 with validation loss: 0.08389\n"
     ]
    },
    {
     "data": {
      "image/png": "[encoded data removed]",
      "text/plain": [
       "<Figure size 864x288 with 3 Axes>"
      ]
     },
     "metadata": {
      "needs_background": "light"
     },
     "output_type": "display_data"
    }
   ],
   "source": [
    "clf = SimClassifier(degree=3, knot_num=10, reg_lambda=0.1, reg_gamma=10**(0),\n",
    "                    knot_dist=\"uniform\", spline=\"smoothing_spline_mgcv\", random_state=0)\n",
    "clf.fit(x, y)\n",
    "clf.fit_middle_update(x, y, method=\"adam\", n_middle_iter_no_change=1, n_inner_iter_no_change=3,\n",
    "                     learning_rate=0.001, batch_size=1000, verbose=True)\n",
    "clf.visualize()"
   ]
  },
  {
   "cell_type": "code",
   "execution_count": 36,
   "metadata": {},
   "outputs": [
    {
     "name": "stdout",
     "output_type": "stream",
     "text": [
      "Middle iter: 1 with validation loss: 0.15065\n",
      "Middle iter: 2 with validation loss: 0.07882\n",
      "Middle iter: 3 with validation loss: 0.07898\n"
     ]
    },
    {
     "data": {
      "image/png": "[encoded data removed]",
      "text/plain": [
       "<Figure size 864x288 with 3 Axes>"
      ]
     },
     "metadata": {
      "needs_background": "light"
     },
     "output_type": "display_data"
    }
   ],
   "source": [
    "clf = SimClassifier(degree=3, knot_num=10, reg_lambda=0.1, reg_gamma=10**(0),\n",
    "                    spline=\"smoothing_spline_mgcv\", knot_dist=\"uniform\", random_state=0)\n",
    "clf.fit(x, y)\n",
    "clf.fit_middle_update(x, y, method=\"bfgs\", n_middle_iter_no_change=1, n_inner_iter_no_change=20,\n",
    "                     max_inner_iter=100, verbose=True)\n",
    "clf.visualize()"
   ]
  },
  {
   "cell_type": "markdown",
   "metadata": {},
   "source": [
    "**Remark**: fit_inner_update is not available for spline=\"p_spline\" or \"mono_p_spline\""
   ]
  }
 ],
 "metadata": {
  "kernelspec": {
   "display_name": "Python (tf2)",
   "language": "python",
   "name": "tf2"
  },
  "language_info": {
   "codemirror_mode": {
    "name": "ipython",
    "version": 3
   },
   "file_extension": ".py",
   "mimetype": "text/x-python",
   "name": "python",
   "nbconvert_exporter": "python",
   "pygments_lexer": "ipython3",
   "version": "3.6.8"
  },
  "latex_envs": {
   "LaTeX_envs_menu_present": true,
   "autoclose": false,
   "autocomplete": true,
   "bibliofile": "biblio.bib",
   "cite_by": "apalike",
   "current_citInitial": 1,
   "eqLabelWithNumbers": true,
   "eqNumInitial": 1,
   "hotkeys": {
    "equation": "Ctrl-E",
    "itemize": "Ctrl-I"
   },
   "labels_anchors": false,
   "latex_user_defs": false,
   "report_style_numbering": false,
   "user_envs_cfg": false
  },
  "varInspector": {
   "cols": {
    "lenName": 16,
    "lenType": 16,
    "lenVar": 40
   },
   "kernels_config": {
    "python": {
     "delete_cmd_postfix": "",
     "delete_cmd_prefix": "del ",
     "library": "var_list.py",
     "varRefreshCmd": "print(var_dic_list())"
    },
    "r": {
     "delete_cmd_postfix": ") ",
     "delete_cmd_prefix": "rm(",
     "library": "var_list.r",
     "varRefreshCmd": "cat(var_dic_list()) "
    }
   },
   "types_to_exclude": [
    "module",
    "function",
    "builtin_function_or_method",
    "instance",
    "_Feature"
   ],
   "window_display": false
  }
 },
 "nbformat": 4,
 "nbformat_minor": 2
}
