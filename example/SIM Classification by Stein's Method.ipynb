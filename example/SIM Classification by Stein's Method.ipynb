{
 "cells": [
  {
   "cell_type": "markdown",
   "metadata": {},
   "source": [
    "## SIM Training by Stein's Method"
   ]
  },
  {
   "cell_type": "code",
   "execution_count": 1,
   "metadata": {
    "ExecuteTime": {
     "end_time": "2020-05-29T08:31:31.404058Z",
     "start_time": "2020-05-29T08:31:28.549337Z"
    }
   },
   "outputs": [],
   "source": [
    "import numpy as np\n",
    "from matplotlib import pylab as plt\n",
    "from sklearn.model_selection import KFold\n",
    "from sklearn.model_selection import GridSearchCV\n",
    "from sklearn.preprocessing import MinMaxScaler\n",
    "from sklearn.metrics import make_scorer, roc_auc_score\n",
    "\n",
    "from pysim import SimClassifier"
   ]
  },
  {
   "cell_type": "markdown",
   "metadata": {},
   "source": [
    "## pySIM - A python package for Sparse SIM "
   ]
  },
  {
   "cell_type": "markdown",
   "metadata": {},
   "source": [
    "**To install**:\n",
    "    \n",
    "```sheel\n",
    "    pip install git+https://github.com/Zebinyang/pysim.git\n",
    "```\n",
    "\n",
    "Note pysim will call the R package fps (https://github.com/vqv/fps) using rpy2 interface. "
   ]
  },
  {
   "cell_type": "markdown",
   "metadata": {},
   "source": [
    "```python\n",
    "from pysim import SimClassifier\n",
    "clf = SimClassifier(method=\"first_order\", spline=\"smoothing_spline\", reg_lambda=0.1, reg_gamma=0.1, knot_num=20, knot_dist=\"uniform\", degree=2, random_state=0)\n",
    "## clf.fit(x, y)\n",
    "```"
   ]
  },
  {
   "cell_type": "markdown",
   "metadata": {},
   "source": [
    "**Usage**"
   ]
  },
  {
   "cell_type": "markdown",
   "metadata": {},
   "source": [
    "**Hyperparameters**\n",
    "\n",
    "- method: the base method for estimating the projection coefficients in sparse SIM. default=\"first_order\"\n",
    "\n",
    "\n",
    "        \"first_order\": First-order Stein's Identity via sparse PCA solver\n",
    "\n",
    "        \"second_order\": Second-order Stein's Identity via sparse PCA solver\n",
    "\n",
    "        \"first_order_thres\": First-order Stein's Identity via hard thresholding (A simplified verison)     \n",
    "        \n",
    "        \"ols\": Least squares estimation subject to hard thresholding.\n",
    "        \n",
    "- reg_lambda: The regularization strength of sparsity of beta. default=0.1, from 0 to 1 \n",
    "\n",
    "- spline: The type of spline for fitting the curve. default=\"smoothing_spline\"\n",
    "        \n",
    "        \"smoothing_spline\": Smoothing spline\n",
    "\n",
    "        \"p_spline\": P-spline\n",
    "\n",
    "        \"mono_p_spline\": P-spline with monotonic constraint\n",
    "        \n",
    "        \"a_spline\": Adaptive B-spline\n",
    "\n",
    "- reg_gamma: The regularization strength of the spline algorithm. default=0.1.\n",
    "\n",
    "        For spline=\"smoothing_spline\", it ranges from 0 to 1 \n",
    "        \n",
    "        For spline=\"p_spline\",\"mono_p_spline\" or \"a_spline\", it ranges from 0 to $+\\infty$.\n",
    "\n",
    "- degree: The order of the spline basis, not used in \"smoothing_spline\". default=2\n",
    "\n",
    "- knot_num: The number of knots. default=20\n",
    "\n",
    "- knot_dist: The method of specifying the knots. default=\"uniform\"\n",
    "\n",
    "        \"uniform\": uniformly over the domain\n",
    "        \n",
    "        \"quantile\": uniform quantiles of the given input data (not available when spline=\"p_spline\" or \"mono_p_spline\")\n",
    "\n",
    "- random_state: the random seed. default=0"
   ]
  },
  {
   "cell_type": "markdown",
   "metadata": {},
   "source": [
    "# Case 1: Logit Function"
   ]
  },
  {
   "cell_type": "code",
   "execution_count": 2,
   "metadata": {
    "ExecuteTime": {
     "end_time": "2020-05-29T08:31:31.482253Z",
     "start_time": "2020-05-29T08:31:31.406715Z"
    },
    "scrolled": true
   },
   "outputs": [],
   "source": [
    "s_star = 5\n",
    "n_features = 100\n",
    "n_samples = 10000\n",
    "\n",
    "np.random.seed(1)\n",
    "beta = np.zeros(n_features)\n",
    "supp_ids = np.random.choice(n_features, s_star)\n",
    "beta[supp_ids]=np.random.choice((-1, 1), s_star) / np.sqrt(s_star)\n",
    "\n",
    "x = np.random.normal(0, 0.3, size=(n_samples, n_features))\n",
    "y = 1 / (1 + np.exp(-(np.dot(x, beta)))) + 0.1 * np.random.randn(n_samples)\n",
    "y = y - np.mean(y)\n",
    "y[y <= 0] = 0\n",
    "y[y > 0] = 1"
   ]
  },
  {
   "cell_type": "markdown",
   "metadata": {},
   "source": [
    "The best hyperparameter combination can be selected via cross-validation"
   ]
  },
  {
   "cell_type": "code",
   "execution_count": 3,
   "metadata": {
    "ExecuteTime": {
     "end_time": "2020-05-29T08:31:50.734389Z",
     "start_time": "2020-05-29T08:31:31.484997Z"
    },
    "scrolled": true
   },
   "outputs": [
    {
     "name": "stdout",
     "output_type": "stream",
     "text": [
      "Fitting 3 folds for each of 400 candidates, totalling 1200 fits\n"
     ]
    },
    {
     "name": "stderr",
     "output_type": "stream",
     "text": [
      "[Parallel(n_jobs=-1)]: Using backend LokyBackend with 64 concurrent workers.\n",
      "[Parallel(n_jobs=-1)]: Done  34 tasks      | elapsed:    7.3s\n",
      "[Parallel(n_jobs=-1)]: Done 237 tasks      | elapsed:    9.7s\n",
      "[Parallel(n_jobs=-1)]: Done 520 tasks      | elapsed:   12.7s\n",
      "[Parallel(n_jobs=-1)]: Done 885 tasks      | elapsed:   17.2s\n",
      "[Parallel(n_jobs=-1)]: Done 1200 out of 1200 | elapsed:   18.7s finished\n",
      "/home/r7user1/anaconda2_local/envs/tf2/lib/python3.6/site-packages/sklearn/model_selection/_search.py:823: FutureWarning: The parameter 'iid' is deprecated in 0.22 and will be removed in 0.24.\n",
      "  \"removed in 0.24.\", FutureWarning\n"
     ]
    },
    {
     "name": "stdout",
     "output_type": "stream",
     "text": [
      "CPU times: user 7.75 s, sys: 8.96 s, total: 16.7 s\n",
      "Wall time: 19.2 s\n"
     ]
    }
   ],
   "source": [
    "%%time \n",
    "\n",
    "param_grid = {\"method\": [\"first_order\", \"second_order\", \"first_order_thres\", \"ols\"],\n",
    "              \"knot_dist\": [\"uniform\", \"quantile\"],\n",
    "              \"reg_lambda\": [0.1, 0.2, 0.3, 0.4, 0.5], \n",
    "              \"reg_gamma\": np.logspace(-9, 0, 10)}\n",
    "grid = GridSearchCV(SimClassifier(spline=\"smoothing_spline\", knot_num=20, random_state=0), iid=False,\n",
    "                    cv=KFold(3, shuffle=True, random_state=0), param_grid=param_grid, n_jobs=-1, verbose=2, error_score=np.nan)\n",
    "grid.fit(x, y)"
   ]
  },
  {
   "cell_type": "code",
   "execution_count": 4,
   "metadata": {
    "ExecuteTime": {
     "end_time": "2020-05-29T08:31:50.742354Z",
     "start_time": "2020-05-29T08:31:50.737183Z"
    }
   },
   "outputs": [
    {
     "data": {
      "text/plain": [
       "{'knot_dist': 'uniform',\n",
       " 'method': 'first_order',\n",
       " 'reg_gamma': 1e-08,\n",
       " 'reg_lambda': 0.3}"
      ]
     },
     "execution_count": 4,
     "metadata": {},
     "output_type": "execute_result"
    }
   ],
   "source": [
    "grid.best_params_"
   ]
  },
  {
   "cell_type": "markdown",
   "metadata": {},
   "source": [
    "**NB**: The first-order Setin's method is selected, as $\\mathbb{E}[f^{\\prime\\prime}(u)]=0$. Therefore, the second order method cannot provide any information about the projection coefficients. "
   ]
  },
  {
   "cell_type": "markdown",
   "metadata": {},
   "source": [
    "In this case, the first-order Setin's method is selected. "
   ]
  },
  {
   "cell_type": "code",
   "execution_count": 5,
   "metadata": {
    "ExecuteTime": {
     "end_time": "2020-05-29T08:31:50.749188Z",
     "start_time": "2020-05-29T08:31:50.744001Z"
    }
   },
   "outputs": [
    {
     "data": {
      "text/plain": [
       "SimClassifier(degree=2, knot_dist='uniform', knot_num=20, method='first_order',\n",
       "              random_state=0, reg_gamma=1e-08, reg_lambda=0.3,\n",
       "              spline='smoothing_spline')"
      ]
     },
     "execution_count": 5,
     "metadata": {},
     "output_type": "execute_result"
    }
   ],
   "source": [
    "clf = grid.best_estimator_\n",
    "clf"
   ]
  },
  {
   "cell_type": "code",
   "execution_count": 6,
   "metadata": {
    "ExecuteTime": {
     "end_time": "2020-05-29T08:31:50.977928Z",
     "start_time": "2020-05-29T08:31:50.750810Z"
    }
   },
   "outputs": [
    {
     "data": {
      "image/png": "[encoded data removed]",
      "text/plain": [
       "<Figure size 432x288 with 1 Axes>"
      ]
     },
     "metadata": {
      "needs_background": "light"
     },
     "output_type": "display_data"
    }
   ],
   "source": [
    "plt.plot(np.abs(clf.beta_), \"o\")\n",
    "plt.plot(np.abs(beta), \"o\")\n",
    "plt.legend([\"Estimated\", \"Ground Truth\"])\n",
    "plt.show()"
   ]
  },
  {
   "cell_type": "code",
   "execution_count": 7,
   "metadata": {
    "ExecuteTime": {
     "end_time": "2020-05-29T08:31:51.505992Z",
     "start_time": "2020-05-29T08:31:50.980044Z"
    },
    "scrolled": true
   },
   "outputs": [
    {
     "data": {
      "image/png": "[encoded data removed]",
      "text/plain": [
       "<Figure size 864x288 with 3 Axes>"
      ]
     },
     "metadata": {
      "needs_background": "light"
     },
     "output_type": "display_data"
    }
   ],
   "source": [
    "grid.best_estimator_.visualize()"
   ]
  },
  {
   "cell_type": "code",
   "execution_count": 8,
   "metadata": {
    "ExecuteTime": {
     "end_time": "2020-05-29T08:31:51.558602Z",
     "start_time": "2020-05-29T08:31:51.508375Z"
    }
   },
   "outputs": [
    {
     "data": {
      "text/plain": [
       "0.7764764075750354"
      ]
     },
     "execution_count": 8,
     "metadata": {},
     "output_type": "execute_result"
    }
   ],
   "source": [
    "roc_auc_score(y, grid.predict_proba(x))"
   ]
  },
  {
   "cell_type": "markdown",
   "metadata": {},
   "source": [
    "## Case 2: Quadratic Ridge Function"
   ]
  },
  {
   "cell_type": "code",
   "execution_count": 9,
   "metadata": {
    "ExecuteTime": {
     "end_time": "2020-05-29T08:31:51.637029Z",
     "start_time": "2020-05-29T08:31:51.561006Z"
    },
    "scrolled": true
   },
   "outputs": [],
   "source": [
    "s_star = 5\n",
    "n_features = 100\n",
    "n_samples = 10000\n",
    "\n",
    "np.random.seed(1)\n",
    "beta = np.zeros(n_features)\n",
    "supp_ids = np.random.choice(n_features, s_star)\n",
    "beta[supp_ids]=np.random.choice((-1, 1), s_star) / np.sqrt(s_star)\n",
    "\n",
    "x = np.random.normal(0, 0.3, size=(n_samples, n_features))\n",
    "y = 5 * np.dot(x, beta) ** 2 + 0.1 * np.random.randn(n_samples)\n",
    "ymu = np.mean(y)\n",
    "y[y > ymu] = 1\n",
    "y[y <= ymu] = 0"
   ]
  },
  {
   "cell_type": "code",
   "execution_count": 10,
   "metadata": {
    "ExecuteTime": {
     "end_time": "2020-05-29T08:32:04.783874Z",
     "start_time": "2020-05-29T08:31:51.638741Z"
    },
    "scrolled": true
   },
   "outputs": [
    {
     "name": "stdout",
     "output_type": "stream",
     "text": [
      "Fitting 3 folds for each of 400 candidates, totalling 1200 fits\n"
     ]
    },
    {
     "name": "stderr",
     "output_type": "stream",
     "text": [
      "[Parallel(n_jobs=-1)]: Using backend LokyBackend with 64 concurrent workers.\n",
      "[Parallel(n_jobs=-1)]: Done  34 tasks      | elapsed:    0.7s\n",
      "[Parallel(n_jobs=-1)]: Done 237 tasks      | elapsed:    2.7s\n",
      "[Parallel(n_jobs=-1)]: Done 520 tasks      | elapsed:    4.6s\n",
      "[Parallel(n_jobs=-1)]: Done 885 tasks      | elapsed:    9.8s\n",
      "[Parallel(n_jobs=-1)]: Done 1200 out of 1200 | elapsed:   12.4s finished\n",
      "/home/r7user1/anaconda2_local/envs/tf2/lib/python3.6/site-packages/sklearn/model_selection/_search.py:823: FutureWarning: The parameter 'iid' is deprecated in 0.22 and will be removed in 0.24.\n",
      "  \"removed in 0.24.\", FutureWarning\n"
     ]
    },
    {
     "name": "stdout",
     "output_type": "stream",
     "text": [
      "CPU times: user 7.62 s, sys: 11 s, total: 18.7 s\n",
      "Wall time: 13.1 s\n"
     ]
    }
   ],
   "source": [
    "%%time \n",
    "\n",
    "param_grid = {\"method\": [\"first_order\", \"second_order\", \"first_order_thres\", \"ols\"],\n",
    "              \"knot_dist\": [\"uniform\", \"quantile\"],\n",
    "              \"reg_lambda\": [0.1, 0.2, 0.3, 0.4, 0.5], \n",
    "              \"reg_gamma\": np.logspace(-9, 0, 10)}\n",
    "grid = GridSearchCV(SimClassifier(spline=\"smoothing_spline\", knot_num=20, random_state=0), iid=False,\n",
    "                    cv=KFold(3, shuffle=True, random_state=0), param_grid=param_grid, n_jobs=-1, verbose=2, error_score=np.nan)\n",
    "grid.fit(x, y)"
   ]
  },
  {
   "cell_type": "code",
   "execution_count": 11,
   "metadata": {
    "ExecuteTime": {
     "end_time": "2020-05-29T08:32:04.797489Z",
     "start_time": "2020-05-29T08:32:04.787757Z"
    }
   },
   "outputs": [
    {
     "data": {
      "text/plain": [
       "{'knot_dist': 'uniform',\n",
       " 'method': 'second_order',\n",
       " 'reg_gamma': 1e-07,\n",
       " 'reg_lambda': 0.1}"
      ]
     },
     "execution_count": 11,
     "metadata": {},
     "output_type": "execute_result"
    }
   ],
   "source": [
    "grid.best_params_"
   ]
  },
  {
   "cell_type": "markdown",
   "metadata": {},
   "source": [
    "**NB**: The second-order Setin's method is selected, as $\\mathbb{E}[f^{\\prime}(u)]=0$. Therefore, the first order method cannot provide any information about the projection coefficients. "
   ]
  },
  {
   "cell_type": "code",
   "execution_count": 12,
   "metadata": {
    "ExecuteTime": {
     "end_time": "2020-05-29T08:32:04.809763Z",
     "start_time": "2020-05-29T08:32:04.800688Z"
    }
   },
   "outputs": [
    {
     "data": {
      "text/plain": [
       "SimClassifier(degree=2, knot_dist='uniform', knot_num=20, method='second_order',\n",
       "              random_state=0, reg_gamma=1e-07, reg_lambda=0.1,\n",
       "              spline='smoothing_spline')"
      ]
     },
     "execution_count": 12,
     "metadata": {},
     "output_type": "execute_result"
    }
   ],
   "source": [
    "clf = grid.best_estimator_\n",
    "clf"
   ]
  },
  {
   "cell_type": "code",
   "execution_count": 13,
   "metadata": {
    "ExecuteTime": {
     "end_time": "2020-05-29T08:32:05.107205Z",
     "start_time": "2020-05-29T08:32:04.812940Z"
    }
   },
   "outputs": [
    {
     "data": {
      "image/png": "[encoded data removed]",
      "text/plain": [
       "<Figure size 432x288 with 1 Axes>"
      ]
     },
     "metadata": {
      "needs_background": "light"
     },
     "output_type": "display_data"
    }
   ],
   "source": [
    "plt.plot(clf.beta_, \"o\")\n",
    "plt.plot(beta, \"o\")\n",
    "plt.legend([\"Estimated\", \"Ground Truth\"])\n",
    "plt.show()"
   ]
  },
  {
   "cell_type": "code",
   "execution_count": 14,
   "metadata": {
    "ExecuteTime": {
     "end_time": "2020-05-29T08:32:05.739993Z",
     "start_time": "2020-05-29T08:32:05.109304Z"
    },
    "scrolled": false
   },
   "outputs": [
    {
     "data": {
      "image/png": "[encoded data removed]",
      "text/plain": [
       "<Figure size 864x288 with 3 Axes>"
      ]
     },
     "metadata": {
      "needs_background": "light"
     },
     "output_type": "display_data"
    }
   ],
   "source": [
    "grid.best_estimator_.visualize()"
   ]
  },
  {
   "cell_type": "markdown",
   "metadata": {},
   "source": [
    "## Case 3: Improve a rough estimator via inner update"
   ]
  },
  {
   "cell_type": "code",
   "execution_count": 15,
   "metadata": {
    "ExecuteTime": {
     "end_time": "2020-05-29T08:32:05.843292Z",
     "start_time": "2020-05-29T08:32:05.742096Z"
    },
    "scrolled": true
   },
   "outputs": [],
   "source": [
    "s_star = 5\n",
    "n_features = 100\n",
    "n_samples = 10000\n",
    "\n",
    "np.random.seed(1)\n",
    "beta = np.zeros(n_features)\n",
    "supp_ids = np.random.choice(n_features, s_star)\n",
    "beta[supp_ids]=np.random.choice((-1, 1), s_star) / np.sqrt(s_star)\n",
    "\n",
    "x = np.random.gamma(1, 0.3, size=(n_samples, n_features))\n",
    "y = 5 * np.dot(x, beta) ** 2 + 0.1 * np.random.randn(n_samples)\n",
    "ymu = np.mean(y)\n",
    "y[y > ymu] = 1\n",
    "y[y <= ymu] = 0"
   ]
  },
  {
   "cell_type": "code",
   "execution_count": 16,
   "metadata": {
    "ExecuteTime": {
     "end_time": "2020-05-29T08:32:07.357326Z",
     "start_time": "2020-05-29T08:32:05.846442Z"
    },
    "scrolled": true
   },
   "outputs": [
    {
     "data": {
      "image/png": "[encoded data removed]",
      "text/plain": [
       "<Figure size 864x288 with 3 Axes>"
      ]
     },
     "metadata": {
      "needs_background": "light"
     },
     "output_type": "display_data"
    },
    {
     "name": "stdout",
     "output_type": "stream",
     "text": [
      "CPU times: user 2.54 s, sys: 6.03 s, total: 8.57 s\n",
      "Wall time: 1.5 s\n"
     ]
    }
   ],
   "source": [
    "%%time \n",
    "\n",
    "clf = SimClassifier(degree=2, knot_num=20, reg_lambda=0.1, reg_gamma=10**(-6), spline=\"smoothing_spline\", random_state=0)\n",
    "clf.fit(x, y)\n",
    "clf.visualize()"
   ]
  },
  {
   "cell_type": "markdown",
   "metadata": {},
   "source": [
    "To improve the solution, we provide two options for inner update: **adam optimizer** and **BFGS optimizer**."
   ]
  },
  {
   "cell_type": "code",
   "execution_count": 17,
   "metadata": {
    "ExecuteTime": {
     "end_time": "2020-05-29T08:32:23.451607Z",
     "start_time": "2020-05-29T08:32:07.359328Z"
    },
    "scrolled": true
   },
   "outputs": [
    {
     "name": "stdout",
     "output_type": "stream",
     "text": [
      "Inner iter: 1 epoch: 1 with validation loss: 0.40385\n",
      "Inner iter: 1 epoch: 2 with validation loss: 0.39935\n",
      "Inner iter: 1 epoch: 3 with validation loss: 0.39613\n",
      "Inner iter: 1 epoch: 4 with validation loss: 0.39277\n",
      "Inner iter: 1 epoch: 5 with validation loss: 0.38951\n",
      "Inner iter: 1 epoch: 6 with validation loss: 0.38599\n",
      "Inner iter: 1 epoch: 7 with validation loss: 0.38314\n",
      "Inner iter: 1 epoch: 8 with validation loss: 0.38022\n",
      "Inner iter: 1 epoch: 9 with validation loss: 0.37641\n",
      "Inner iter: 1 epoch: 10 with validation loss: 0.37315\n",
      "Inner iter: 1 epoch: 11 with validation loss: 0.36985\n",
      "Inner iter: 1 epoch: 12 with validation loss: 0.36728\n",
      "Inner iter: 1 epoch: 13 with validation loss: 0.36357\n",
      "Inner iter: 1 epoch: 14 with validation loss: 0.36032\n",
      "Inner iter: 1 epoch: 15 with validation loss: 0.35806\n",
      "Inner iter: 1 epoch: 16 with validation loss: 0.35525\n",
      "Inner iter: 1 epoch: 17 with validation loss: 0.35167\n",
      "Inner iter: 1 epoch: 18 with validation loss: 0.34865\n",
      "Inner iter: 1 epoch: 19 with validation loss: 0.34668\n",
      "Inner iter: 1 epoch: 20 with validation loss: 0.34319\n",
      "Inner iter: 1 epoch: 21 with validation loss: 0.34026\n",
      "Inner iter: 1 epoch: 22 with validation loss: 0.34009\n",
      "Inner iter: 1 epoch: 23 with validation loss: 0.33507\n",
      "Inner iter: 1 epoch: 24 with validation loss: 0.33459\n",
      "Inner iter: 1 epoch: 25 with validation loss: 0.33051\n",
      "Inner iter: 1 epoch: 26 with validation loss: 0.33068\n",
      "Inner iter: 1 epoch: 27 with validation loss: 0.3263\n",
      "Inner iter: 1 epoch: 28 with validation loss: 0.32701\n",
      "Inner iter: 1 epoch: 29 with validation loss: 0.32316\n",
      "Inner iter: 1 epoch: 30 with validation loss: 0.32117\n",
      "Inner iter: 1 epoch: 31 with validation loss: 0.32094\n",
      "Inner iter: 1 epoch: 32 with validation loss: 0.31773\n",
      "Inner iter: 1 epoch: 33 with validation loss: 0.31678\n",
      "Inner iter: 1 epoch: 34 with validation loss: 0.31446\n",
      "Inner iter: 1 epoch: 35 with validation loss: 0.31489\n",
      "Inner iter: 1 epoch: 36 with validation loss: 0.31169\n",
      "Inner iter: 1 epoch: 37 with validation loss: 0.3113\n",
      "Inner iter: 1 epoch: 38 with validation loss: 0.30934\n",
      "Inner iter: 1 epoch: 39 with validation loss: 0.3082\n",
      "Inner iter: 1 epoch: 40 with validation loss: 0.30786\n",
      "Inner iter: 1 epoch: 41 with validation loss: 0.30655\n",
      "Inner iter: 1 epoch: 42 with validation loss: 0.30502\n",
      "Inner iter: 1 epoch: 43 with validation loss: 0.30543\n",
      "Inner iter: 1 epoch: 44 with validation loss: 0.30349\n",
      "Inner iter: 1 epoch: 45 with validation loss: 0.30433\n",
      "Inner iter: 1 epoch: 46 with validation loss: 0.30174\n",
      "Inner iter: 1 epoch: 47 with validation loss: 0.30332\n",
      "Inner iter: 1 epoch: 48 with validation loss: 0.30057\n",
      "Inner iter: 1 epoch: 49 with validation loss: 0.30138\n",
      "Inner iter: 1 epoch: 50 with validation loss: 0.29961\n",
      "Inner iter: 1 epoch: 51 with validation loss: 0.29924\n",
      "Inner iter: 1 epoch: 52 with validation loss: 0.29947\n",
      "Inner iter: 1 epoch: 53 with validation loss: 0.29833\n",
      "Inner iter: 1 epoch: 54 with validation loss: 0.29814\n",
      "Inner iter: 1 epoch: 55 with validation loss: 0.29766\n",
      "Inner iter: 1 epoch: 56 with validation loss: 0.29712\n",
      "Inner iter: 1 epoch: 57 with validation loss: 0.29698\n",
      "Inner iter: 1 epoch: 58 with validation loss: 0.29664\n",
      "Inner iter: 1 epoch: 59 with validation loss: 0.29642\n",
      "Inner iter: 1 epoch: 60 with validation loss: 0.29656\n",
      "Inner iter: 1 epoch: 61 with validation loss: 0.29601\n",
      "Inner iter: 1 epoch: 62 with validation loss: 0.29564\n",
      "Inner iter: 1 epoch: 63 with validation loss: 0.29556\n",
      "Inner iter: 1 epoch: 64 with validation loss: 0.29588\n",
      "Inner iter: 1 epoch: 65 with validation loss: 0.29548\n",
      "Inner iter: 1 epoch: 66 with validation loss: 0.29662\n",
      "Inner iter: 1 epoch: 67 with validation loss: 0.29516\n",
      "Inner iter: 1 epoch: 68 with validation loss: 0.29519\n",
      "Inner iter: 1 epoch: 69 with validation loss: 0.29537\n",
      "Inner iter: 1 epoch: 70 with validation loss: 0.29487\n",
      "Inner iter: 1 epoch: 71 with validation loss: 0.29539\n",
      "Inner iter: 1 epoch: 72 with validation loss: 0.29542\n",
      "Inner iter: 1 epoch: 73 with validation loss: 0.29459\n",
      "Inner iter: 1 epoch: 74 with validation loss: 0.29523\n",
      "Inner iter: 1 epoch: 75 with validation loss: 0.29464\n",
      "Inner iter: 1 epoch: 76 with validation loss: 0.29489\n",
      "Inner iter: 1 epoch: 77 with validation loss: 0.29666\n",
      "Inner iter: 1 epoch: 78 with validation loss: 0.29497\n",
      "Inner iter: 2 epoch: 1 with validation loss: 0.13206\n",
      "Inner iter: 2 epoch: 2 with validation loss: 0.1309\n",
      "Inner iter: 2 epoch: 3 with validation loss: 0.12903\n",
      "Inner iter: 2 epoch: 4 with validation loss: 0.12947\n",
      "Inner iter: 2 epoch: 5 with validation loss: 0.1277\n",
      "Inner iter: 2 epoch: 6 with validation loss: 0.1263\n",
      "Inner iter: 2 epoch: 7 with validation loss: 0.12634\n",
      "Inner iter: 2 epoch: 8 with validation loss: 0.12556\n",
      "Inner iter: 2 epoch: 9 with validation loss: 0.12482\n",
      "Inner iter: 2 epoch: 10 with validation loss: 0.12472\n",
      "Inner iter: 2 epoch: 11 with validation loss: 0.12446\n",
      "Inner iter: 2 epoch: 12 with validation loss: 0.12443\n",
      "Inner iter: 2 epoch: 13 with validation loss: 0.12427\n",
      "Inner iter: 2 epoch: 14 with validation loss: 0.12424\n",
      "Inner iter: 2 epoch: 15 with validation loss: 0.12414\n",
      "Inner iter: 2 epoch: 16 with validation loss: 0.12433\n",
      "Inner iter: 2 epoch: 17 with validation loss: 0.12458\n",
      "Inner iter: 2 epoch: 18 with validation loss: 0.12489\n",
      "Inner iter: 3 epoch: 1 with validation loss: 0.12431\n",
      "Inner iter: 3 epoch: 2 with validation loss: 0.12003\n",
      "Inner iter: 3 epoch: 3 with validation loss: 0.11814\n",
      "Inner iter: 3 epoch: 4 with validation loss: 0.11768\n",
      "Inner iter: 3 epoch: 5 with validation loss: 0.1174\n",
      "Inner iter: 3 epoch: 6 with validation loss: 0.11713\n",
      "Inner iter: 3 epoch: 7 with validation loss: 0.11762\n",
      "Inner iter: 3 epoch: 8 with validation loss: 0.11765\n",
      "Inner iter: 3 epoch: 9 with validation loss: 0.1174\n",
      "Inner iter: 3 epoch: 10 with validation loss: 0.11734\n",
      "Inner iter: 3 epoch: 11 with validation loss: 0.11781\n"
     ]
    },
    {
     "data": {
      "image/png": "[encoded data removed]",
      "text/plain": [
       "<Figure size 864x288 with 3 Axes>"
      ]
     },
     "metadata": {
      "needs_background": "light"
     },
     "output_type": "display_data"
    }
   ],
   "source": [
    "clf = SimClassifier(degree=2, knot_num=20, reg_lambda=0.1, reg_gamma=10**(-6), spline=\"smoothing_spline\", random_state=0)\n",
    "clf.fit(x, y)\n",
    "clf.fit_inner_update(x, y, method=\"adam\", n_inner_iter_no_change=1, batch_size=1000, verbose=True)\n",
    "clf.visualize()"
   ]
  },
  {
   "cell_type": "code",
   "execution_count": 18,
   "metadata": {
    "ExecuteTime": {
     "end_time": "2020-05-29T08:32:49.548784Z",
     "start_time": "2020-05-29T08:32:23.453338Z"
    }
   },
   "outputs": [
    {
     "name": "stdout",
     "output_type": "stream",
     "text": [
      "Inner iter: 1 with validation loss: 0.23394\n",
      "Inner iter: 2 with validation loss: 0.12205\n",
      "Inner iter: 3 with validation loss: 0.11699\n"
     ]
    },
    {
     "data": {
      "image/png": "[encoded data removed]",
      "text/plain": [
       "<Figure size 864x288 with 3 Axes>"
      ]
     },
     "metadata": {
      "needs_background": "light"
     },
     "output_type": "display_data"
    }
   ],
   "source": [
    "clf = SimClassifier(degree=2, knot_num=20, reg_lambda=0.1, reg_gamma=10**(-6), spline=\"smoothing_spline\", random_state=0)\n",
    "clf.fit(x, y)\n",
    "clf.fit_inner_update(x, y, method=\"bfgs\", n_inner_iter_no_change=1, verbose=True)\n",
    "clf.visualize()"
   ]
  },
  {
   "cell_type": "code",
   "execution_count": 21,
   "metadata": {
    "ExecuteTime": {
     "end_time": "2020-05-30T03:25:24.221356Z",
     "start_time": "2020-05-30T03:25:24.124771Z"
    }
   },
   "outputs": [
    {
     "data": {
      "text/plain": [
       "array([-4.44070792e+00, -4.45543539e+00,  2.13870971e+00, ...,\n",
       "        1.75774681e+01, -3.74345244e+00,  1.81022873e-03])"
      ]
     },
     "execution_count": 21,
     "metadata": {},
     "output_type": "execute_result"
    }
   ],
   "source": [
    "clf.shape_fit_.decision_function(np.dot(x, clf.beta_))"
   ]
  },
  {
   "cell_type": "markdown",
   "metadata": {},
   "source": [
    "**Remark**: fit_inner_update is not available for spline=\"p_spline\" or \"mono_p_spline\""
   ]
  }
 ],
 "metadata": {
  "kernelspec": {
   "display_name": "Python (tf2)",
   "language": "python",
   "name": "tf2"
  },
  "language_info": {
   "codemirror_mode": {
    "name": "ipython",
    "version": 3
   },
   "file_extension": ".py",
   "mimetype": "text/x-python",
   "name": "python",
   "nbconvert_exporter": "python",
   "pygments_lexer": "ipython3",
   "version": "3.6.8"
  },
  "latex_envs": {
   "LaTeX_envs_menu_present": true,
   "autoclose": false,
   "autocomplete": true,
   "bibliofile": "biblio.bib",
   "cite_by": "apalike",
   "current_citInitial": 1,
   "eqLabelWithNumbers": true,
   "eqNumInitial": 1,
   "hotkeys": {
    "equation": "Ctrl-E",
    "itemize": "Ctrl-I"
   },
   "labels_anchors": false,
   "latex_user_defs": false,
   "report_style_numbering": false,
   "user_envs_cfg": false
  },
  "varInspector": {
   "cols": {
    "lenName": 16,
    "lenType": 16,
    "lenVar": 40
   },
   "kernels_config": {
    "python": {
     "delete_cmd_postfix": "",
     "delete_cmd_prefix": "del ",
     "library": "var_list.py",
     "varRefreshCmd": "print(var_dic_list())"
    },
    "r": {
     "delete_cmd_postfix": ") ",
     "delete_cmd_prefix": "rm(",
     "library": "var_list.r",
     "varRefreshCmd": "cat(var_dic_list()) "
    }
   },
   "types_to_exclude": [
    "module",
    "function",
    "builtin_function_or_method",
    "instance",
    "_Feature"
   ],
   "window_display": false
  }
 },
 "nbformat": 4,
 "nbformat_minor": 2
}
