{
 "cells": [
  {
   "cell_type": "markdown",
   "metadata": {},
   "source": [
    "## SIM Training by Stein's Method"
   ]
  },
  {
   "cell_type": "code",
   "execution_count": 1,
   "metadata": {
    "ExecuteTime": {
     "end_time": "2020-07-12T02:25:51.157632Z",
     "start_time": "2020-07-12T02:25:47.376322Z"
    }
   },
   "outputs": [],
   "source": [
    "import numpy as np\n",
    "from matplotlib import pylab as plt\n",
    "from sklearn.model_selection import KFold\n",
    "from sklearn.model_selection import GridSearchCV\n",
    "from sklearn.preprocessing import MinMaxScaler\n",
    "from sklearn.metrics import make_scorer, roc_auc_score\n",
    "\n",
    "from pysim import SimClassifier"
   ]
  },
  {
   "cell_type": "markdown",
   "metadata": {},
   "source": [
    "# Case 1: Logit Function"
   ]
  },
  {
   "cell_type": "code",
   "execution_count": 2,
   "metadata": {
    "ExecuteTime": {
     "end_time": "2020-07-12T02:25:51.244420Z",
     "start_time": "2020-07-12T02:25:51.161340Z"
    },
    "scrolled": true
   },
   "outputs": [],
   "source": [
    "s_star = 5\n",
    "n_features = 100\n",
    "n_samples = 10000\n",
    "\n",
    "np.random.seed(1)\n",
    "beta = np.zeros(n_features)\n",
    "supp_ids = np.random.choice(n_features, s_star)\n",
    "beta[supp_ids]=np.random.choice((-1, 1), s_star) / np.sqrt(s_star)\n",
    "\n",
    "x = np.random.normal(0, 0.3, size=(n_samples, n_features))\n",
    "y = 1 / (1 + np.exp(-(np.dot(x, beta)))) + 0.1 * np.random.randn(n_samples)\n",
    "y = y - np.mean(y)\n",
    "y[y <= 0] = 0\n",
    "y[y > 0] = 1"
   ]
  },
  {
   "cell_type": "markdown",
   "metadata": {},
   "source": [
    "The best hyperparameter combination can be selected via cross-validation"
   ]
  },
  {
   "cell_type": "code",
   "execution_count": 3,
   "metadata": {
    "ExecuteTime": {
     "end_time": "2020-07-12T02:26:13.656604Z",
     "start_time": "2020-07-12T02:25:51.247527Z"
    },
    "scrolled": true
   },
   "outputs": [
    {
     "name": "stdout",
     "output_type": "stream",
     "text": [
      "Fitting 5 folds for each of 450 candidates, totalling 2250 fits\n"
     ]
    },
    {
     "name": "stderr",
     "output_type": "stream",
     "text": [
      "[Parallel(n_jobs=-1)]: Using backend LokyBackend with 64 concurrent workers.\n",
      "[Parallel(n_jobs=-1)]: Done  17 tasks      | elapsed:    9.8s\n",
      "[Parallel(n_jobs=-1)]: Done  34 tasks      | elapsed:    9.9s\n",
      "[Parallel(n_jobs=-1)]: Done  53 tasks      | elapsed:   10.1s\n",
      "[Parallel(n_jobs=-1)]: Done  72 tasks      | elapsed:   10.4s\n",
      "[Parallel(n_jobs=-1)]: Done  93 tasks      | elapsed:   10.5s\n",
      "[Parallel(n_jobs=-1)]: Done 114 tasks      | elapsed:   10.6s\n",
      "[Parallel(n_jobs=-1)]: Done 137 tasks      | elapsed:   10.7s\n",
      "[Parallel(n_jobs=-1)]: Done 160 tasks      | elapsed:   10.8s\n",
      "[Parallel(n_jobs=-1)]: Done 185 tasks      | elapsed:   10.8s\n",
      "[Parallel(n_jobs=-1)]: Done 210 tasks      | elapsed:   10.9s\n",
      "[Parallel(n_jobs=-1)]: Done 237 tasks      | elapsed:   11.6s\n",
      "[Parallel(n_jobs=-1)]: Done 264 tasks      | elapsed:   11.7s\n",
      "[Parallel(n_jobs=-1)]: Done 293 tasks      | elapsed:   11.9s\n",
      "[Parallel(n_jobs=-1)]: Done 322 tasks      | elapsed:   12.1s\n",
      "[Parallel(n_jobs=-1)]: Done 353 tasks      | elapsed:   12.2s\n",
      "[Parallel(n_jobs=-1)]: Done 384 tasks      | elapsed:   12.3s\n",
      "[Parallel(n_jobs=-1)]: Done 417 tasks      | elapsed:   12.3s\n",
      "[Parallel(n_jobs=-1)]: Done 450 tasks      | elapsed:   12.8s\n",
      "[Parallel(n_jobs=-1)]: Done 485 tasks      | elapsed:   13.0s\n",
      "[Parallel(n_jobs=-1)]: Done 520 tasks      | elapsed:   13.4s\n",
      "[Parallel(n_jobs=-1)]: Done 557 tasks      | elapsed:   13.5s\n",
      "[Parallel(n_jobs=-1)]: Done 594 tasks      | elapsed:   13.5s\n",
      "[Parallel(n_jobs=-1)]: Done 633 tasks      | elapsed:   13.6s\n",
      "[Parallel(n_jobs=-1)]: Done 672 tasks      | elapsed:   13.9s\n",
      "[Parallel(n_jobs=-1)]: Done 713 tasks      | elapsed:   14.3s\n",
      "[Parallel(n_jobs=-1)]: Done 754 tasks      | elapsed:   14.6s\n",
      "[Parallel(n_jobs=-1)]: Done 797 tasks      | elapsed:   14.7s\n",
      "[Parallel(n_jobs=-1)]: Done 840 tasks      | elapsed:   14.8s\n",
      "[Parallel(n_jobs=-1)]: Done 885 tasks      | elapsed:   14.9s\n",
      "[Parallel(n_jobs=-1)]: Done 930 tasks      | elapsed:   15.1s\n",
      "[Parallel(n_jobs=-1)]: Done 977 tasks      | elapsed:   15.2s\n",
      "[Parallel(n_jobs=-1)]: Done 1024 tasks      | elapsed:   15.4s\n",
      "[Parallel(n_jobs=-1)]: Done 1073 tasks      | elapsed:   15.5s\n",
      "[Parallel(n_jobs=-1)]: Done 1122 tasks      | elapsed:   15.6s\n",
      "[Parallel(n_jobs=-1)]: Done 1173 tasks      | elapsed:   16.6s\n",
      "[Parallel(n_jobs=-1)]: Done 1224 tasks      | elapsed:   16.8s\n",
      "[Parallel(n_jobs=-1)]: Done 1277 tasks      | elapsed:   16.9s\n",
      "[Parallel(n_jobs=-1)]: Done 1330 tasks      | elapsed:   17.1s\n",
      "[Parallel(n_jobs=-1)]: Done 1385 tasks      | elapsed:   18.0s\n",
      "[Parallel(n_jobs=-1)]: Done 1440 tasks      | elapsed:   18.5s\n",
      "[Parallel(n_jobs=-1)]: Done 1497 tasks      | elapsed:   18.6s\n",
      "[Parallel(n_jobs=-1)]: Done 1554 tasks      | elapsed:   18.8s\n",
      "[Parallel(n_jobs=-1)]: Done 1613 tasks      | elapsed:   19.5s\n",
      "[Parallel(n_jobs=-1)]: Done 1672 tasks      | elapsed:   19.8s\n",
      "[Parallel(n_jobs=-1)]: Done 1733 tasks      | elapsed:   20.0s\n",
      "[Parallel(n_jobs=-1)]: Done 1794 tasks      | elapsed:   20.1s\n",
      "[Parallel(n_jobs=-1)]: Done 1857 tasks      | elapsed:   20.8s\n",
      "[Parallel(n_jobs=-1)]: Done 1920 tasks      | elapsed:   21.1s\n",
      "[Parallel(n_jobs=-1)]: Done 1985 tasks      | elapsed:   21.2s\n",
      "[Parallel(n_jobs=-1)]: Done 2050 tasks      | elapsed:   21.4s\n",
      "[Parallel(n_jobs=-1)]: Done 2117 tasks      | elapsed:   21.5s\n",
      "[Parallel(n_jobs=-1)]: Done 2250 out of 2250 | elapsed:   21.8s finished\n",
      "/home/r7user1/anaconda2_local/envs/tf2/lib/python3.6/site-packages/sklearn/model_selection/_search.py:849: FutureWarning: The parameter 'iid' is deprecated in 0.22 and will be removed in 0.24.\n",
      "  \"removed in 0.24.\", FutureWarning\n"
     ]
    },
    {
     "name": "stdout",
     "output_type": "stream",
     "text": [
      "CPU times: user 13 s, sys: 13.6 s, total: 26.5 s\n",
      "Wall time: 22.4 s\n"
     ]
    }
   ],
   "source": [
    "%%time \n",
    "\n",
    "param_grid = {\"method\": [\"first_order\", \"second_order\", \"first_order_thres\", \"marginal_regression\", \"ols\"],\n",
    "              \"knot_dist\": [\"uniform\", \"quantile\"],\n",
    "              \"reg_lambda\": [0.1, 0.2, 0.3, 0.4, 0.5], \n",
    "              \"reg_gamma\": np.logspace(-2, 2, 9)}\n",
    "grid = GridSearchCV(SimClassifier(spline=\"smoothing_spline\", degree=3, knot_num=10, random_state=0), iid=False,\n",
    "                    cv=KFold(5, shuffle=True, random_state=0), param_grid=param_grid, n_jobs=-1, verbose=10, error_score=np.nan)\n",
    "grid.fit(x, y)"
   ]
  },
  {
   "cell_type": "code",
   "execution_count": 4,
   "metadata": {
    "ExecuteTime": {
     "end_time": "2020-07-12T02:26:13.666744Z",
     "start_time": "2020-07-12T02:26:13.659952Z"
    }
   },
   "outputs": [
    {
     "data": {
      "text/plain": [
       "{'knot_dist': 'uniform',\n",
       " 'method': 'first_order',\n",
       " 'reg_gamma': 0.01,\n",
       " 'reg_lambda': 0.1}"
      ]
     },
     "execution_count": 4,
     "metadata": {},
     "output_type": "execute_result"
    }
   ],
   "source": [
    "grid.best_params_"
   ]
  },
  {
   "cell_type": "markdown",
   "metadata": {},
   "source": [
    "**NB**: The first-order Setin's method is selected, as $\\mathbb{E}[f^{\\prime\\prime}(u)]=0$. Therefore, the second order method cannot provide any information about the projection coefficients. "
   ]
  },
  {
   "cell_type": "markdown",
   "metadata": {},
   "source": [
    "In this case, the first-order Setin's method is selected. "
   ]
  },
  {
   "cell_type": "code",
   "execution_count": 5,
   "metadata": {
    "ExecuteTime": {
     "end_time": "2020-07-12T02:26:13.674868Z",
     "start_time": "2020-07-12T02:26:13.668884Z"
    }
   },
   "outputs": [
    {
     "data": {
      "text/plain": [
       "SimClassifier(knot_dist='uniform', reg_gamma=0.01)"
      ]
     },
     "execution_count": 5,
     "metadata": {},
     "output_type": "execute_result"
    }
   ],
   "source": [
    "clf = grid.best_estimator_\n",
    "clf"
   ]
  },
  {
   "cell_type": "code",
   "execution_count": 6,
   "metadata": {
    "ExecuteTime": {
     "end_time": "2020-07-12T02:26:13.930308Z",
     "start_time": "2020-07-12T02:26:13.676575Z"
    }
   },
   "outputs": [
    {
     "data": {
      "image/png": "[encoded data removed]",
      "text/plain": [
       "<Figure size 432x288 with 1 Axes>"
      ]
     },
     "metadata": {
      "needs_background": "light"
     },
     "output_type": "display_data"
    }
   ],
   "source": [
    "plt.plot(np.abs(clf.beta_), \"o\")\n",
    "plt.plot(np.abs(beta), \"o\")\n",
    "plt.legend([\"Estimated\", \"Ground Truth\"])\n",
    "plt.show()"
   ]
  },
  {
   "cell_type": "code",
   "execution_count": 7,
   "metadata": {
    "ExecuteTime": {
     "end_time": "2020-07-12T02:26:14.386804Z",
     "start_time": "2020-07-12T02:26:13.932594Z"
    },
    "scrolled": true
   },
   "outputs": [
    {
     "data": {
      "image/png": "[encoded data removed]",
      "text/plain": [
       "<Figure size 864x288 with 3 Axes>"
      ]
     },
     "metadata": {
      "needs_background": "light"
     },
     "output_type": "display_data"
    }
   ],
   "source": [
    "grid.best_estimator_.visualize()"
   ]
  },
  {
   "cell_type": "code",
   "execution_count": 8,
   "metadata": {
    "ExecuteTime": {
     "end_time": "2020-07-12T02:26:14.665849Z",
     "start_time": "2020-07-12T02:26:14.389511Z"
    }
   },
   "outputs": [
    {
     "data": {
      "text/plain": [
       "0.7765308080015347"
      ]
     },
     "execution_count": 8,
     "metadata": {},
     "output_type": "execute_result"
    }
   ],
   "source": [
    "roc_auc_score(y, grid.predict_proba(x)[:, 1])"
   ]
  },
  {
   "cell_type": "markdown",
   "metadata": {},
   "source": [
    "## Case 2: Quadratic Ridge Function"
   ]
  },
  {
   "cell_type": "code",
   "execution_count": 9,
   "metadata": {
    "ExecuteTime": {
     "end_time": "2020-07-12T02:26:14.718414Z",
     "start_time": "2020-07-12T02:26:14.668638Z"
    },
    "scrolled": true
   },
   "outputs": [],
   "source": [
    "s_star = 5\n",
    "n_features = 100\n",
    "n_samples = 10000\n",
    "\n",
    "np.random.seed(1)\n",
    "beta = np.zeros(n_features)\n",
    "supp_ids = np.random.choice(n_features, s_star)\n",
    "beta[supp_ids]=np.random.choice((-1, 1), s_star) / np.sqrt(s_star)\n",
    "\n",
    "x = np.random.normal(0, 0.3, size=(n_samples, n_features))\n",
    "y = 5 * np.dot(x, beta) ** 2 + 0.1 * np.random.randn(n_samples)\n",
    "ymu = np.mean(y)\n",
    "y[y > ymu] = 1\n",
    "y[y <= ymu] = 0"
   ]
  },
  {
   "cell_type": "code",
   "execution_count": 10,
   "metadata": {
    "ExecuteTime": {
     "end_time": "2020-07-12T02:26:25.022949Z",
     "start_time": "2020-07-12T02:26:14.720420Z"
    },
    "scrolled": true
   },
   "outputs": [
    {
     "name": "stdout",
     "output_type": "stream",
     "text": [
      "Fitting 3 folds for each of 450 candidates, totalling 1350 fits\n"
     ]
    },
    {
     "name": "stderr",
     "output_type": "stream",
     "text": [
      "[Parallel(n_jobs=-1)]: Using backend LokyBackend with 64 concurrent workers.\n",
      "[Parallel(n_jobs=-1)]: Done  34 tasks      | elapsed:    0.6s\n",
      "[Parallel(n_jobs=-1)]: Done 237 tasks      | elapsed:    2.8s\n",
      "[Parallel(n_jobs=-1)]: Done 520 tasks      | elapsed:    4.8s\n",
      "[Parallel(n_jobs=-1)]: Done 885 tasks      | elapsed:    7.3s\n",
      "[Parallel(n_jobs=-1)]: Done 1350 out of 1350 | elapsed:    9.8s finished\n",
      "/home/r7user1/anaconda2_local/envs/tf2/lib/python3.6/site-packages/sklearn/model_selection/_search.py:849: FutureWarning: The parameter 'iid' is deprecated in 0.22 and will be removed in 0.24.\n",
      "  \"removed in 0.24.\", FutureWarning\n"
     ]
    },
    {
     "name": "stdout",
     "output_type": "stream",
     "text": [
      "CPU times: user 9.97 s, sys: 11.8 s, total: 21.8 s\n",
      "Wall time: 10.3 s\n"
     ]
    }
   ],
   "source": [
    "%%time \n",
    "\n",
    "param_grid = {\"method\": [\"first_order\", \"second_order\", \"first_order_thres\", \"marginal_regression\", \"ols\"],\n",
    "              \"knot_dist\": [\"uniform\", \"quantile\"],\n",
    "              \"reg_lambda\": [0.1, 0.2, 0.3, 0.4, 0.5], \n",
    "              \"reg_gamma\": np.logspace(-9, -1, 9)}\n",
    "grid = GridSearchCV(SimClassifier(spline=\"smoothing_spline\", degree=3, knot_num=10, random_state=0), iid=False,\n",
    "                    cv=KFold(3, shuffle=True, random_state=0), param_grid=param_grid, n_jobs=-1, verbose=2, error_score=np.nan)\n",
    "grid.fit(x, y)"
   ]
  },
  {
   "cell_type": "code",
   "execution_count": 11,
   "metadata": {
    "ExecuteTime": {
     "end_time": "2020-07-12T02:26:25.030704Z",
     "start_time": "2020-07-12T02:26:25.025271Z"
    }
   },
   "outputs": [
    {
     "data": {
      "text/plain": [
       "{'knot_dist': 'uniform',\n",
       " 'method': 'second_order',\n",
       " 'reg_gamma': 0.01,\n",
       " 'reg_lambda': 0.1}"
      ]
     },
     "execution_count": 11,
     "metadata": {},
     "output_type": "execute_result"
    }
   ],
   "source": [
    "grid.best_params_"
   ]
  },
  {
   "cell_type": "markdown",
   "metadata": {},
   "source": [
    "**NB**: The second-order Setin's method is selected, as $\\mathbb{E}[f^{\\prime}(u)]=0$. Therefore, the first order method cannot provide any information about the projection coefficients. "
   ]
  },
  {
   "cell_type": "code",
   "execution_count": 12,
   "metadata": {
    "ExecuteTime": {
     "end_time": "2020-07-12T02:26:25.036696Z",
     "start_time": "2020-07-12T02:26:25.032767Z"
    }
   },
   "outputs": [
    {
     "data": {
      "text/plain": [
       "SimClassifier(knot_dist='uniform', method='second_order', reg_gamma=0.01)"
      ]
     },
     "execution_count": 12,
     "metadata": {},
     "output_type": "execute_result"
    }
   ],
   "source": [
    "clf = grid.best_estimator_\n",
    "clf"
   ]
  },
  {
   "cell_type": "code",
   "execution_count": 13,
   "metadata": {
    "ExecuteTime": {
     "end_time": "2020-07-12T02:26:25.244684Z",
     "start_time": "2020-07-12T02:26:25.038541Z"
    }
   },
   "outputs": [
    {
     "data": {
      "image/png": "[encoded data removed]",
      "text/plain": [
       "<Figure size 432x288 with 1 Axes>"
      ]
     },
     "metadata": {
      "needs_background": "light"
     },
     "output_type": "display_data"
    }
   ],
   "source": [
    "plt.plot(clf.beta_, \"o\")\n",
    "plt.plot(beta, \"o\")\n",
    "plt.legend([\"Estimated\", \"Ground Truth\"])\n",
    "plt.show()"
   ]
  },
  {
   "cell_type": "code",
   "execution_count": 14,
   "metadata": {
    "ExecuteTime": {
     "end_time": "2020-07-12T02:26:25.798935Z",
     "start_time": "2020-07-12T02:26:25.245993Z"
    },
    "scrolled": false
   },
   "outputs": [
    {
     "data": {
      "image/png": "[encoded data removed]",
      "text/plain": [
       "<Figure size 864x288 with 3 Axes>"
      ]
     },
     "metadata": {
      "needs_background": "light"
     },
     "output_type": "display_data"
    }
   ],
   "source": [
    "grid.best_estimator_.visualize()"
   ]
  },
  {
   "cell_type": "markdown",
   "metadata": {},
   "source": [
    "## Case 3: Improve a rough estimator via middle update"
   ]
  },
  {
   "cell_type": "code",
   "execution_count": 15,
   "metadata": {
    "ExecuteTime": {
     "end_time": "2020-07-12T02:26:25.865614Z",
     "start_time": "2020-07-12T02:26:25.800927Z"
    },
    "scrolled": true
   },
   "outputs": [],
   "source": [
    "s_star = 5\n",
    "n_features = 100\n",
    "n_samples = 10000\n",
    "\n",
    "np.random.seed(1)\n",
    "beta = np.zeros(n_features)\n",
    "supp_ids = np.random.choice(n_features, s_star)\n",
    "beta[supp_ids]=np.random.choice((-1, 1), s_star) / np.sqrt(s_star)\n",
    "\n",
    "x = np.random.gamma(1, 0.3, size=(n_samples, n_features))\n",
    "y = 5 * np.dot(x, beta) ** 2 + 0.1 * np.random.randn(n_samples)\n",
    "ymu = np.mean(y)\n",
    "y[y > ymu] = 1\n",
    "y[y <= ymu] = 0"
   ]
  },
  {
   "cell_type": "code",
   "execution_count": 16,
   "metadata": {
    "ExecuteTime": {
     "end_time": "2020-07-12T02:26:26.695848Z",
     "start_time": "2020-07-12T02:26:25.867483Z"
    },
    "scrolled": true
   },
   "outputs": [
    {
     "data": {
      "image/png": "[encoded data removed]",
      "text/plain": [
       "<Figure size 864x288 with 3 Axes>"
      ]
     },
     "metadata": {
      "needs_background": "light"
     },
     "output_type": "display_data"
    },
    {
     "name": "stdout",
     "output_type": "stream",
     "text": [
      "CPU times: user 3.86 s, sys: 7.4 s, total: 11.3 s\n",
      "Wall time: 813 ms\n"
     ]
    }
   ],
   "source": [
    "%%time \n",
    "clf = SimClassifier(degree=3, knot_num=20, reg_lambda=0.1, reg_gamma=10**(0), spline=\"smoothing_spline\", random_state=0)\n",
    "clf.fit(x, y)\n",
    "clf.visualize()"
   ]
  },
  {
   "cell_type": "markdown",
   "metadata": {},
   "source": [
    "To improve the solution, we provide two options for inner update: **adam optimizer** and **BFGS optimizer**."
   ]
  },
  {
   "cell_type": "code",
   "execution_count": 17,
   "metadata": {
    "ExecuteTime": {
     "end_time": "2020-07-12T02:26:51.726865Z",
     "start_time": "2020-07-12T02:26:26.698622Z"
    },
    "scrolled": true
   },
   "outputs": [
    {
     "name": "stdout",
     "output_type": "stream",
     "text": [
      "Middle iter: 1 Inner iter: 1 with validation loss: 0.39048\n",
      "Middle iter: 1 Inner iter: 2 with validation loss: 0.38605\n",
      "Middle iter: 1 Inner iter: 3 with validation loss: 0.38217\n",
      "Middle iter: 1 Inner iter: 4 with validation loss: 0.37939\n",
      "Middle iter: 1 Inner iter: 5 with validation loss: 0.37689\n",
      "Middle iter: 1 Inner iter: 6 with validation loss: 0.37677\n",
      "Middle iter: 1 Inner iter: 7 with validation loss: 0.37057\n",
      "Middle iter: 1 Inner iter: 8 with validation loss: 0.36792\n",
      "Middle iter: 1 Inner iter: 9 with validation loss: 0.38037\n",
      "Middle iter: 1 Inner iter: 10 with validation loss: 0.36227\n",
      "Middle iter: 1 Inner iter: 11 with validation loss: 0.36038\n",
      "Middle iter: 1 Inner iter: 12 with validation loss: 0.35703\n",
      "Middle iter: 1 Inner iter: 13 with validation loss: 0.35222\n",
      "Middle iter: 1 Inner iter: 14 with validation loss: 0.34914\n",
      "Middle iter: 1 Inner iter: 15 with validation loss: 0.3463\n",
      "Middle iter: 1 Inner iter: 16 with validation loss: 0.34335\n",
      "Middle iter: 1 Inner iter: 17 with validation loss: 0.34074\n",
      "Middle iter: 1 Inner iter: 18 with validation loss: 0.34622\n",
      "Middle iter: 1 Inner iter: 19 with validation loss: 0.34349\n",
      "Middle iter: 1 Inner iter: 20 with validation loss: 0.34128\n",
      "Middle iter: 2 Inner iter: 1 with validation loss: 0.3409\n",
      "Middle iter: 2 Inner iter: 2 with validation loss: 0.32137\n",
      "Middle iter: 2 Inner iter: 3 with validation loss: 0.31769\n",
      "Middle iter: 2 Inner iter: 4 with validation loss: 0.31066\n",
      "Middle iter: 2 Inner iter: 5 with validation loss: 0.30423\n",
      "Middle iter: 2 Inner iter: 6 with validation loss: 0.29983\n",
      "Middle iter: 2 Inner iter: 7 with validation loss: 0.29453\n",
      "Middle iter: 2 Inner iter: 8 with validation loss: 0.29097\n",
      "Middle iter: 2 Inner iter: 9 with validation loss: 0.29209\n",
      "Middle iter: 2 Inner iter: 10 with validation loss: 0.28104\n",
      "Middle iter: 2 Inner iter: 11 with validation loss: 0.27817\n",
      "Middle iter: 2 Inner iter: 12 with validation loss: 0.27246\n",
      "Middle iter: 2 Inner iter: 13 with validation loss: 0.26889\n",
      "Middle iter: 2 Inner iter: 14 with validation loss: 0.2647\n",
      "Middle iter: 2 Inner iter: 15 with validation loss: 0.26064\n",
      "Middle iter: 2 Inner iter: 16 with validation loss: 0.25836\n",
      "Middle iter: 2 Inner iter: 17 with validation loss: 0.25353\n",
      "Middle iter: 2 Inner iter: 18 with validation loss: 0.24671\n",
      "Middle iter: 2 Inner iter: 19 with validation loss: 0.24263\n",
      "Middle iter: 2 Inner iter: 20 with validation loss: 0.24261\n",
      "Middle iter: 2 Inner iter: 21 with validation loss: 0.23705\n",
      "Middle iter: 2 Inner iter: 22 with validation loss: 0.23739\n",
      "Middle iter: 2 Inner iter: 23 with validation loss: 0.23384\n",
      "Middle iter: 2 Inner iter: 24 with validation loss: 0.23532\n",
      "Middle iter: 2 Inner iter: 25 with validation loss: 0.22992\n",
      "Middle iter: 2 Inner iter: 26 with validation loss: 0.22773\n",
      "Middle iter: 2 Inner iter: 27 with validation loss: 0.22677\n",
      "Middle iter: 2 Inner iter: 28 with validation loss: 0.22916\n",
      "Middle iter: 2 Inner iter: 29 with validation loss: 0.22568\n",
      "Middle iter: 2 Inner iter: 30 with validation loss: 0.22445\n",
      "Middle iter: 2 Inner iter: 31 with validation loss: 0.2252\n",
      "Middle iter: 2 Inner iter: 32 with validation loss: 0.22391\n",
      "Middle iter: 2 Inner iter: 33 with validation loss: 0.2231\n",
      "Middle iter: 2 Inner iter: 34 with validation loss: 0.22293\n",
      "Middle iter: 2 Inner iter: 35 with validation loss: 0.22332\n",
      "Middle iter: 2 Inner iter: 36 with validation loss: 0.22038\n",
      "Middle iter: 2 Inner iter: 37 with validation loss: 0.21972\n",
      "Middle iter: 2 Inner iter: 38 with validation loss: 0.21969\n",
      "Middle iter: 2 Inner iter: 39 with validation loss: 0.21986\n",
      "Middle iter: 2 Inner iter: 40 with validation loss: 0.22059\n",
      "Middle iter: 3 Inner iter: 1 with validation loss: 0.11623\n",
      "Middle iter: 3 Inner iter: 2 with validation loss: 0.11147\n",
      "Middle iter: 3 Inner iter: 3 with validation loss: 0.10831\n",
      "Middle iter: 3 Inner iter: 4 with validation loss: 0.10542\n",
      "Middle iter: 3 Inner iter: 5 with validation loss: 0.10303\n",
      "Middle iter: 3 Inner iter: 6 with validation loss: 0.10097\n",
      "Middle iter: 3 Inner iter: 7 with validation loss: 0.10137\n",
      "Middle iter: 3 Inner iter: 8 with validation loss: 0.10057\n",
      "Middle iter: 3 Inner iter: 9 with validation loss: 0.09835\n",
      "Middle iter: 3 Inner iter: 10 with validation loss: 0.09738\n",
      "Middle iter: 3 Inner iter: 11 with validation loss: 0.09756\n",
      "Middle iter: 3 Inner iter: 12 with validation loss: 0.09685\n",
      "Middle iter: 3 Inner iter: 13 with validation loss: 0.09617\n",
      "Middle iter: 3 Inner iter: 14 with validation loss: 0.09578\n",
      "Middle iter: 3 Inner iter: 15 with validation loss: 0.0957\n",
      "Middle iter: 3 Inner iter: 16 with validation loss: 0.09756\n",
      "Middle iter: 3 Inner iter: 17 with validation loss: 0.09643\n"
     ]
    },
    {
     "data": {
      "image/png": "[encoded data removed]",
      "text/plain": [
       "<Figure size 864x288 with 3 Axes>"
      ]
     },
     "metadata": {
      "needs_background": "light"
     },
     "output_type": "display_data"
    }
   ],
   "source": [
    "clf = SimClassifier(degree=3, knot_num=10, reg_lambda=0.1, reg_gamma=10**(-6),\n",
    "                    knot_dist=\"uniform\", spline=\"smoothing_spline\", random_state=0)\n",
    "clf.fit(x, y)\n",
    "clf.fit_middle_update(x, y, method=\"adam\", n_middle_iter_no_change=1, n_inner_iter_no_change=3,\n",
    "                     learning_rate=0.001, batch_size=1000, verbose=True)\n",
    "clf.visualize()"
   ]
  },
  {
   "cell_type": "code",
   "execution_count": 18,
   "metadata": {
    "ExecuteTime": {
     "end_time": "2020-07-12T02:27:43.717152Z",
     "start_time": "2020-07-12T02:26:51.728985Z"
    }
   },
   "outputs": [
    {
     "name": "stdout",
     "output_type": "stream",
     "text": [
      "Middle iter: 1 with validation loss: 0.11342\n",
      "Middle iter: 2 with validation loss: 0.08077\n",
      "Middle iter: 3 with validation loss: 0.08009\n"
     ]
    },
    {
     "data": {
      "image/png": "[encoded data removed]",
      "text/plain": [
       "<Figure size 864x288 with 3 Axes>"
      ]
     },
     "metadata": {
      "needs_background": "light"
     },
     "output_type": "display_data"
    }
   ],
   "source": [
    "clf = SimClassifier(degree=3, knot_num=10, reg_lambda=0.1, reg_gamma=10**(-6),\n",
    "                   spline=\"smoothing_spline\", knot_dist=\"uniform\", random_state=0)\n",
    "clf.fit(x, y)\n",
    "clf.fit_middle_update(x, y, method=\"bfgs\", n_middle_iter_no_change=1, n_inner_iter_no_change=20,\n",
    "                     max_inner_iter=100, verbose=True)\n",
    "clf.visualize()"
   ]
  },
  {
   "cell_type": "markdown",
   "metadata": {},
   "source": [
    "**Remark**: fit_inner_update is not available for spline=\"p_spline\" or \"mono_p_spline\""
   ]
  }
 ],
 "metadata": {
  "kernelspec": {
   "display_name": "Python (tf2)",
   "language": "python",
   "name": "tf2"
  },
  "language_info": {
   "codemirror_mode": {
    "name": "ipython",
    "version": 3
   },
   "file_extension": ".py",
   "mimetype": "text/x-python",
   "name": "python",
   "nbconvert_exporter": "python",
   "pygments_lexer": "ipython3",
   "version": "3.6.8"
  },
  "latex_envs": {
   "LaTeX_envs_menu_present": true,
   "autoclose": false,
   "autocomplete": true,
   "bibliofile": "biblio.bib",
   "cite_by": "apalike",
   "current_citInitial": 1,
   "eqLabelWithNumbers": true,
   "eqNumInitial": 1,
   "hotkeys": {
    "equation": "Ctrl-E",
    "itemize": "Ctrl-I"
   },
   "labels_anchors": false,
   "latex_user_defs": false,
   "report_style_numbering": false,
   "user_envs_cfg": false
  },
  "varInspector": {
   "cols": {
    "lenName": 16,
    "lenType": 16,
    "lenVar": 40
   },
   "kernels_config": {
    "python": {
     "delete_cmd_postfix": "",
     "delete_cmd_prefix": "del ",
     "library": "var_list.py",
     "varRefreshCmd": "print(var_dic_list())"
    },
    "r": {
     "delete_cmd_postfix": ") ",
     "delete_cmd_prefix": "rm(",
     "library": "var_list.r",
     "varRefreshCmd": "cat(var_dic_list()) "
    }
   },
   "types_to_exclude": [
    "module",
    "function",
    "builtin_function_or_method",
    "instance",
    "_Feature"
   ],
   "window_display": false
  }
 },
 "nbformat": 4,
 "nbformat_minor": 2
}
