{
 "cells": [
  {
   "cell_type": "markdown",
   "metadata": {},
   "source": [
    "## SIM Training by Stein's Method"
   ]
  },
  {
   "cell_type": "code",
   "execution_count": 1,
   "metadata": {
    "ExecuteTime": {
     "end_time": "2020-06-24T04:33:00.574044Z",
     "start_time": "2020-06-24T04:32:56.710968Z"
    }
   },
   "outputs": [],
   "source": [
    "import numpy as np\n",
    "from matplotlib import pylab as plt\n",
    "from sklearn.model_selection import KFold\n",
    "from sklearn.model_selection import GridSearchCV\n",
    "from sklearn.preprocessing import MinMaxScaler\n",
    "from sklearn.metrics import make_scorer, roc_auc_score\n",
    "\n",
    "from pysim import SimClassifier"
   ]
  },
  {
   "cell_type": "markdown",
   "metadata": {},
   "source": [
    "# Case 1: Logit Function"
   ]
  },
  {
   "cell_type": "code",
   "execution_count": 2,
   "metadata": {
    "ExecuteTime": {
     "end_time": "2020-06-24T04:33:00.711948Z",
     "start_time": "2020-06-24T04:33:00.581165Z"
    },
    "scrolled": true
   },
   "outputs": [],
   "source": [
    "s_star = 5\n",
    "n_features = 100\n",
    "n_samples = 10000\n",
    "\n",
    "np.random.seed(1)\n",
    "beta = np.zeros(n_features)\n",
    "supp_ids = np.random.choice(n_features, s_star)\n",
    "beta[supp_ids]=np.random.choice((-1, 1), s_star) / np.sqrt(s_star)\n",
    "\n",
    "x = np.random.normal(0, 0.3, size=(n_samples, n_features))\n",
    "y = 1 / (1 + np.exp(-(np.dot(x, beta)))) + 0.1 * np.random.randn(n_samples)\n",
    "y = y - np.mean(y)\n",
    "y[y <= 0] = 0\n",
    "y[y > 0] = 1"
   ]
  },
  {
   "cell_type": "markdown",
   "metadata": {},
   "source": [
    "The best hyperparameter combination can be selected via cross-validation"
   ]
  },
  {
   "cell_type": "code",
   "execution_count": 3,
   "metadata": {
    "ExecuteTime": {
     "end_time": "2020-06-24T04:33:50.755404Z",
     "start_time": "2020-06-24T04:33:00.716293Z"
    },
    "scrolled": true
   },
   "outputs": [
    {
     "name": "stdout",
     "output_type": "stream",
     "text": [
      "Fitting 5 folds for each of 450 candidates, totalling 2250 fits\n"
     ]
    },
    {
     "name": "stderr",
     "output_type": "stream",
     "text": [
      "[Parallel(n_jobs=-1)]: Using backend LokyBackend with 64 concurrent workers.\n",
      "[Parallel(n_jobs=-1)]: Done  17 tasks      | elapsed:   13.4s\n",
      "[Parallel(n_jobs=-1)]: Done  34 tasks      | elapsed:   13.9s\n",
      "[Parallel(n_jobs=-1)]: Done  53 tasks      | elapsed:   14.4s\n",
      "[Parallel(n_jobs=-1)]: Done  72 tasks      | elapsed:   14.8s\n",
      "[Parallel(n_jobs=-1)]: Done  93 tasks      | elapsed:   15.4s\n",
      "[Parallel(n_jobs=-1)]: Done 114 tasks      | elapsed:   15.8s\n",
      "[Parallel(n_jobs=-1)]: Done 137 tasks      | elapsed:   16.1s\n",
      "[Parallel(n_jobs=-1)]: Done 160 tasks      | elapsed:   16.5s\n",
      "[Parallel(n_jobs=-1)]: Done 185 tasks      | elapsed:   16.9s\n",
      "[Parallel(n_jobs=-1)]: Done 210 tasks      | elapsed:   17.2s\n",
      "[Parallel(n_jobs=-1)]: Done 237 tasks      | elapsed:   17.8s\n",
      "[Parallel(n_jobs=-1)]: Done 264 tasks      | elapsed:   18.2s\n",
      "[Parallel(n_jobs=-1)]: Done 293 tasks      | elapsed:   18.9s\n",
      "[Parallel(n_jobs=-1)]: Done 322 tasks      | elapsed:   19.9s\n",
      "[Parallel(n_jobs=-1)]: Done 353 tasks      | elapsed:   20.6s\n",
      "[Parallel(n_jobs=-1)]: Done 384 tasks      | elapsed:   21.3s\n",
      "[Parallel(n_jobs=-1)]: Done 417 tasks      | elapsed:   22.0s\n",
      "[Parallel(n_jobs=-1)]: Done 450 tasks      | elapsed:   22.4s\n",
      "[Parallel(n_jobs=-1)]: Done 485 tasks      | elapsed:   22.9s\n",
      "[Parallel(n_jobs=-1)]: Done 520 tasks      | elapsed:   23.4s\n",
      "[Parallel(n_jobs=-1)]: Done 557 tasks      | elapsed:   23.9s\n",
      "[Parallel(n_jobs=-1)]: Done 594 tasks      | elapsed:   24.4s\n",
      "[Parallel(n_jobs=-1)]: Done 633 tasks      | elapsed:   25.1s\n",
      "[Parallel(n_jobs=-1)]: Done 672 tasks      | elapsed:   25.7s\n",
      "[Parallel(n_jobs=-1)]: Done 713 tasks      | elapsed:   26.4s\n",
      "[Parallel(n_jobs=-1)]: Done 754 tasks      | elapsed:   27.0s\n",
      "[Parallel(n_jobs=-1)]: Done 797 tasks      | elapsed:   27.6s\n",
      "[Parallel(n_jobs=-1)]: Done 840 tasks      | elapsed:   28.3s\n",
      "[Parallel(n_jobs=-1)]: Done 885 tasks      | elapsed:   28.5s\n",
      "[Parallel(n_jobs=-1)]: Done 930 tasks      | elapsed:   28.7s\n",
      "[Parallel(n_jobs=-1)]: Done 977 tasks      | elapsed:   28.9s\n",
      "[Parallel(n_jobs=-1)]: Done 1024 tasks      | elapsed:   29.4s\n",
      "[Parallel(n_jobs=-1)]: Done 1073 tasks      | elapsed:   30.0s\n",
      "[Parallel(n_jobs=-1)]: Done 1122 tasks      | elapsed:   30.6s\n",
      "[Parallel(n_jobs=-1)]: Done 1173 tasks      | elapsed:   32.5s\n",
      "[Parallel(n_jobs=-1)]: Done 1224 tasks      | elapsed:   33.5s\n",
      "[Parallel(n_jobs=-1)]: Done 1277 tasks      | elapsed:   34.6s\n",
      "[Parallel(n_jobs=-1)]: Done 1330 tasks      | elapsed:   35.5s\n",
      "[Parallel(n_jobs=-1)]: Done 1385 tasks      | elapsed:   36.5s\n",
      "[Parallel(n_jobs=-1)]: Done 1440 tasks      | elapsed:   37.5s\n",
      "[Parallel(n_jobs=-1)]: Done 1497 tasks      | elapsed:   38.9s\n",
      "[Parallel(n_jobs=-1)]: Done 1554 tasks      | elapsed:   40.3s\n",
      "[Parallel(n_jobs=-1)]: Done 1613 tasks      | elapsed:   41.2s\n",
      "[Parallel(n_jobs=-1)]: Done 1672 tasks      | elapsed:   42.0s\n",
      "[Parallel(n_jobs=-1)]: Done 1733 tasks      | elapsed:   42.7s\n",
      "[Parallel(n_jobs=-1)]: Done 1794 tasks      | elapsed:   43.7s\n",
      "[Parallel(n_jobs=-1)]: Done 1857 tasks      | elapsed:   45.1s\n",
      "[Parallel(n_jobs=-1)]: Done 1920 tasks      | elapsed:   46.6s\n",
      "[Parallel(n_jobs=-1)]: Done 1985 tasks      | elapsed:   47.9s\n",
      "[Parallel(n_jobs=-1)]: Done 2050 tasks      | elapsed:   48.3s\n",
      "[Parallel(n_jobs=-1)]: Done 2117 tasks      | elapsed:   48.7s\n",
      "[Parallel(n_jobs=-1)]: Done 2250 out of 2250 | elapsed:   49.2s finished\n",
      "/home/r7user1/anaconda2_local/envs/tf2/lib/python3.6/site-packages/sklearn/model_selection/_search.py:823: FutureWarning: The parameter 'iid' is deprecated in 0.22 and will be removed in 0.24.\n",
      "  \"removed in 0.24.\", FutureWarning\n"
     ]
    },
    {
     "name": "stdout",
     "output_type": "stream",
     "text": [
      "CPU times: user 10.8 s, sys: 9.04 s, total: 19.9 s\n",
      "Wall time: 50 s\n",
      "Parser   : 263 ms\n"
     ]
    }
   ],
   "source": [
    "%%time \n",
    "\n",
    "param_grid = {\"method\": [\"first_order\", \"second_order\", \"first_order_thres\", \"marginal_regression\", \"ols\"],\n",
    "              \"knot_dist\": [\"uniform\", \"quantile\"],\n",
    "              \"reg_lambda\": [0.1, 0.2, 0.3, 0.4, 0.5], \n",
    "              \"reg_gamma\": np.logspace(-9, -1, 9)}\n",
    "grid = GridSearchCV(SimClassifier(spline=\"smoothing_spline\", degree=3, knot_num=10, random_state=0), iid=False,\n",
    "                    cv=KFold(5, shuffle=True, random_state=0), param_grid=param_grid, n_jobs=-1, verbose=10, error_score=np.nan)\n",
    "grid.fit(x, y)"
   ]
  },
  {
   "cell_type": "code",
   "execution_count": 4,
   "metadata": {
    "ExecuteTime": {
     "end_time": "2020-06-24T04:33:50.764617Z",
     "start_time": "2020-06-24T04:33:50.758096Z"
    }
   },
   "outputs": [
    {
     "data": {
      "text/plain": [
       "{'knot_dist': 'quantile',\n",
       " 'method': 'first_order_thres',\n",
       " 'reg_gamma': 1e-07,\n",
       " 'reg_lambda': 0.2}"
      ]
     },
     "execution_count": 4,
     "metadata": {},
     "output_type": "execute_result"
    }
   ],
   "source": [
    "grid.best_params_"
   ]
  },
  {
   "cell_type": "markdown",
   "metadata": {},
   "source": [
    "**NB**: The first-order Setin's method is selected, as $\\mathbb{E}[f^{\\prime\\prime}(u)]=0$. Therefore, the second order method cannot provide any information about the projection coefficients. "
   ]
  },
  {
   "cell_type": "markdown",
   "metadata": {},
   "source": [
    "In this case, the first-order Setin's method is selected. "
   ]
  },
  {
   "cell_type": "code",
   "execution_count": 5,
   "metadata": {
    "ExecuteTime": {
     "end_time": "2020-06-24T04:33:50.772698Z",
     "start_time": "2020-06-24T04:33:50.766707Z"
    }
   },
   "outputs": [
    {
     "data": {
      "text/plain": [
       "SimClassifier(degree=3, knot_dist='quantile', knot_num=10,\n",
       "              method='first_order_thres', random_state=0, reg_gamma=1e-07,\n",
       "              reg_lambda=0.2, spline='smoothing_spline')"
      ]
     },
     "execution_count": 5,
     "metadata": {},
     "output_type": "execute_result"
    }
   ],
   "source": [
    "clf = grid.best_estimator_\n",
    "clf"
   ]
  },
  {
   "cell_type": "code",
   "execution_count": 6,
   "metadata": {
    "ExecuteTime": {
     "end_time": "2020-06-24T04:33:51.182614Z",
     "start_time": "2020-06-24T04:33:50.774721Z"
    }
   },
   "outputs": [
    {
     "data": {
      "image/png": "[encoded data removed]",
      "text/plain": [
       "<Figure size 432x288 with 1 Axes>"
      ]
     },
     "metadata": {
      "needs_background": "light"
     },
     "output_type": "display_data"
    }
   ],
   "source": [
    "plt.plot(np.abs(clf.beta_), \"o\")\n",
    "plt.plot(np.abs(beta), \"o\")\n",
    "plt.legend([\"Estimated\", \"Ground Truth\"])\n",
    "plt.show()"
   ]
  },
  {
   "cell_type": "code",
   "execution_count": 7,
   "metadata": {
    "ExecuteTime": {
     "end_time": "2020-06-24T04:33:52.274375Z",
     "start_time": "2020-06-24T04:33:51.184949Z"
    },
    "scrolled": true
   },
   "outputs": [
    {
     "data": {
      "image/png": "[encoded data removed]",
      "text/plain": [
       "<Figure size 864x288 with 3 Axes>"
      ]
     },
     "metadata": {
      "needs_background": "light"
     },
     "output_type": "display_data"
    }
   ],
   "source": [
    "grid.best_estimator_.visualize()"
   ]
  },
  {
   "cell_type": "code",
   "execution_count": 8,
   "metadata": {
    "ExecuteTime": {
     "end_time": "2020-06-24T04:33:52.348567Z",
     "start_time": "2020-06-24T04:33:52.277783Z"
    }
   },
   "outputs": [
    {
     "data": {
      "text/plain": [
       "0.7765505681564544"
      ]
     },
     "execution_count": 8,
     "metadata": {},
     "output_type": "execute_result"
    }
   ],
   "source": [
    "roc_auc_score(y, grid.predict_proba(x)[:, 1])"
   ]
  },
  {
   "cell_type": "markdown",
   "metadata": {},
   "source": [
    "## Case 2: Quadratic Ridge Function"
   ]
  },
  {
   "cell_type": "code",
   "execution_count": 9,
   "metadata": {
    "ExecuteTime": {
     "end_time": "2020-06-24T04:33:52.452870Z",
     "start_time": "2020-06-24T04:33:52.353434Z"
    },
    "scrolled": true
   },
   "outputs": [],
   "source": [
    "s_star = 5\n",
    "n_features = 100\n",
    "n_samples = 10000\n",
    "\n",
    "np.random.seed(1)\n",
    "beta = np.zeros(n_features)\n",
    "supp_ids = np.random.choice(n_features, s_star)\n",
    "beta[supp_ids]=np.random.choice((-1, 1), s_star) / np.sqrt(s_star)\n",
    "\n",
    "x = np.random.normal(0, 0.3, size=(n_samples, n_features))\n",
    "y = 5 * np.dot(x, beta) ** 2 + 0.1 * np.random.randn(n_samples)\n",
    "ymu = np.mean(y)\n",
    "y[y > ymu] = 1\n",
    "y[y <= ymu] = 0"
   ]
  },
  {
   "cell_type": "code",
   "execution_count": 10,
   "metadata": {
    "ExecuteTime": {
     "end_time": "2020-06-24T04:34:11.123159Z",
     "start_time": "2020-06-24T04:33:52.456849Z"
    },
    "scrolled": true
   },
   "outputs": [
    {
     "name": "stdout",
     "output_type": "stream",
     "text": [
      "Fitting 3 folds for each of 450 candidates, totalling 1350 fits\n"
     ]
    },
    {
     "name": "stderr",
     "output_type": "stream",
     "text": [
      "[Parallel(n_jobs=-1)]: Using backend LokyBackend with 64 concurrent workers.\n",
      "[Parallel(n_jobs=-1)]: Done  34 tasks      | elapsed:    1.3s\n",
      "[Parallel(n_jobs=-1)]: Done 237 tasks      | elapsed:    3.4s\n",
      "[Parallel(n_jobs=-1)]: Done 520 tasks      | elapsed:    8.0s\n",
      "[Parallel(n_jobs=-1)]: Done 885 tasks      | elapsed:   12.9s\n",
      "[Parallel(n_jobs=-1)]: Done 1350 out of 1350 | elapsed:   17.2s finished\n",
      "/home/r7user1/anaconda2_local/envs/tf2/lib/python3.6/site-packages/sklearn/model_selection/_search.py:823: FutureWarning: The parameter 'iid' is deprecated in 0.22 and will be removed in 0.24.\n",
      "  \"removed in 0.24.\", FutureWarning\n"
     ]
    },
    {
     "name": "stdout",
     "output_type": "stream",
     "text": [
      "CPU times: user 9.91 s, sys: 18.3 s, total: 28.2 s\n",
      "Wall time: 18.7 s\n"
     ]
    }
   ],
   "source": [
    "%%time \n",
    "\n",
    "param_grid = {\"method\": [\"first_order\", \"second_order\", \"first_order_thres\", \"marginal_regression\", \"ols\"],\n",
    "              \"knot_dist\": [\"uniform\", \"quantile\"],\n",
    "              \"reg_lambda\": [0.1, 0.2, 0.3, 0.4, 0.5], \n",
    "              \"reg_gamma\": np.logspace(-9, -1, 9)}\n",
    "grid = GridSearchCV(SimClassifier(spline=\"smoothing_spline\", degree=3, knot_num=10, random_state=0), iid=False,\n",
    "                    cv=KFold(3, shuffle=True, random_state=0), param_grid=param_grid, n_jobs=-1, verbose=2, error_score=np.nan)\n",
    "grid.fit(x, y)"
   ]
  },
  {
   "cell_type": "code",
   "execution_count": 11,
   "metadata": {
    "ExecuteTime": {
     "end_time": "2020-06-24T04:34:11.136011Z",
     "start_time": "2020-06-24T04:34:11.127304Z"
    }
   },
   "outputs": [
    {
     "data": {
      "text/plain": [
       "{'knot_dist': 'uniform',\n",
       " 'method': 'second_order',\n",
       " 'reg_gamma': 1e-07,\n",
       " 'reg_lambda': 0.1}"
      ]
     },
     "execution_count": 11,
     "metadata": {},
     "output_type": "execute_result"
    }
   ],
   "source": [
    "grid.best_params_"
   ]
  },
  {
   "cell_type": "markdown",
   "metadata": {},
   "source": [
    "**NB**: The second-order Setin's method is selected, as $\\mathbb{E}[f^{\\prime}(u)]=0$. Therefore, the first order method cannot provide any information about the projection coefficients. "
   ]
  },
  {
   "cell_type": "code",
   "execution_count": 12,
   "metadata": {
    "ExecuteTime": {
     "end_time": "2020-06-24T04:34:11.147628Z",
     "start_time": "2020-06-24T04:34:11.138896Z"
    }
   },
   "outputs": [
    {
     "data": {
      "text/plain": [
       "SimClassifier(degree=3, knot_dist='uniform', knot_num=10, method='second_order',\n",
       "              random_state=0, reg_gamma=1e-07, reg_lambda=0.1,\n",
       "              spline='smoothing_spline')"
      ]
     },
     "execution_count": 12,
     "metadata": {},
     "output_type": "execute_result"
    }
   ],
   "source": [
    "clf = grid.best_estimator_\n",
    "clf"
   ]
  },
  {
   "cell_type": "code",
   "execution_count": 13,
   "metadata": {
    "ExecuteTime": {
     "end_time": "2020-06-24T04:34:11.614867Z",
     "start_time": "2020-06-24T04:34:11.151427Z"
    }
   },
   "outputs": [
    {
     "data": {
      "image/png": "[encoded data removed]",
      "text/plain": [
       "<Figure size 432x288 with 1 Axes>"
      ]
     },
     "metadata": {
      "needs_background": "light"
     },
     "output_type": "display_data"
    }
   ],
   "source": [
    "plt.plot(clf.beta_, \"o\")\n",
    "plt.plot(beta, \"o\")\n",
    "plt.legend([\"Estimated\", \"Ground Truth\"])\n",
    "plt.show()"
   ]
  },
  {
   "cell_type": "code",
   "execution_count": 14,
   "metadata": {
    "ExecuteTime": {
     "end_time": "2020-06-24T04:34:12.986819Z",
     "start_time": "2020-06-24T04:34:11.617314Z"
    },
    "scrolled": false
   },
   "outputs": [
    {
     "data": {
      "image/png": "[encoded data removed]",
      "text/plain": [
       "<Figure size 864x288 with 3 Axes>"
      ]
     },
     "metadata": {
      "needs_background": "light"
     },
     "output_type": "display_data"
    }
   ],
   "source": [
    "grid.best_estimator_.visualize()"
   ]
  },
  {
   "cell_type": "markdown",
   "metadata": {},
   "source": [
    "## Case 3: Improve a rough estimator via middle update"
   ]
  },
  {
   "cell_type": "code",
   "execution_count": 15,
   "metadata": {
    "ExecuteTime": {
     "end_time": "2020-06-24T04:34:13.147532Z",
     "start_time": "2020-06-24T04:34:12.989410Z"
    },
    "scrolled": true
   },
   "outputs": [],
   "source": [
    "s_star = 5\n",
    "n_features = 100\n",
    "n_samples = 10000\n",
    "\n",
    "np.random.seed(1)\n",
    "beta = np.zeros(n_features)\n",
    "supp_ids = np.random.choice(n_features, s_star)\n",
    "beta[supp_ids]=np.random.choice((-1, 1), s_star) / np.sqrt(s_star)\n",
    "\n",
    "x = np.random.gamma(1, 0.3, size=(n_samples, n_features))\n",
    "y = 5 * np.dot(x, beta) ** 2 + 0.1 * np.random.randn(n_samples)\n",
    "ymu = np.mean(y)\n",
    "y[y > ymu] = 1\n",
    "y[y <= ymu] = 0"
   ]
  },
  {
   "cell_type": "code",
   "execution_count": 18,
   "metadata": {
    "ExecuteTime": {
     "end_time": "2020-06-24T04:42:47.150007Z",
     "start_time": "2020-06-24T04:42:45.285431Z"
    },
    "scrolled": true
   },
   "outputs": [
    {
     "data": {
      "image/png": "[encoded data removed]",
      "text/plain": [
       "<Figure size 864x288 with 3 Axes>"
      ]
     },
     "metadata": {
      "needs_background": "light"
     },
     "output_type": "display_data"
    },
    {
     "name": "stdout",
     "output_type": "stream",
     "text": [
      "CPU times: user 3.48 s, sys: 9.88 s, total: 13.4 s\n",
      "Wall time: 1.86 s\n"
     ]
    }
   ],
   "source": [
    "%%time \n",
    "clf = SimClassifier(degree=3, knot_num=20, reg_lambda=0.1, reg_gamma=10**(-6), spline=\"smoothing_spline\", random_state=0)\n",
    "clf.fit(x, y)\n",
    "clf.visualize()"
   ]
  },
  {
   "cell_type": "markdown",
   "metadata": {},
   "source": [
    "To improve the solution, we provide two options for inner update: **adam optimizer** and **BFGS optimizer**."
   ]
  },
  {
   "cell_type": "code",
   "execution_count": 20,
   "metadata": {
    "ExecuteTime": {
     "end_time": "2020-06-24T04:43:41.545417Z",
     "start_time": "2020-06-24T04:43:01.852110Z"
    },
    "scrolled": true
   },
   "outputs": [
    {
     "name": "stdout",
     "output_type": "stream",
     "text": [
      "Middle iter: 1 Inner iter: 1 with validation loss: 0.39376\n",
      "Middle iter: 1 Inner iter: 2 with validation loss: 0.38978\n",
      "Middle iter: 1 Inner iter: 3 with validation loss: 0.38677\n",
      "Middle iter: 1 Inner iter: 4 with validation loss: 0.38388\n",
      "Middle iter: 1 Inner iter: 5 with validation loss: 0.38133\n",
      "Middle iter: 1 Inner iter: 6 with validation loss: 0.37815\n",
      "Middle iter: 1 Inner iter: 7 with validation loss: 0.37552\n",
      "Middle iter: 1 Inner iter: 8 with validation loss: 0.37265\n",
      "Middle iter: 1 Inner iter: 9 with validation loss: 0.36914\n",
      "Middle iter: 1 Inner iter: 10 with validation loss: 0.36669\n",
      "Middle iter: 1 Inner iter: 11 with validation loss: 0.36396\n",
      "Middle iter: 1 Inner iter: 12 with validation loss: 0.36071\n",
      "Middle iter: 1 Inner iter: 13 with validation loss: 0.35794\n",
      "Middle iter: 1 Inner iter: 14 with validation loss: 0.35472\n",
      "Middle iter: 1 Inner iter: 15 with validation loss: 0.35259\n",
      "Middle iter: 1 Inner iter: 16 with validation loss: 0.34909\n",
      "Middle iter: 1 Inner iter: 17 with validation loss: 0.34669\n",
      "Middle iter: 1 Inner iter: 18 with validation loss: 0.34458\n",
      "Middle iter: 1 Inner iter: 19 with validation loss: 0.34143\n",
      "Middle iter: 1 Inner iter: 20 with validation loss: 0.33876\n",
      "Middle iter: 1 Inner iter: 21 with validation loss: 0.33657\n",
      "Middle iter: 1 Inner iter: 22 with validation loss: 0.33315\n",
      "Middle iter: 1 Inner iter: 23 with validation loss: 0.33293\n",
      "Middle iter: 1 Inner iter: 24 with validation loss: 0.32899\n",
      "Middle iter: 1 Inner iter: 25 with validation loss: 0.32695\n",
      "Middle iter: 1 Inner iter: 26 with validation loss: 0.32393\n",
      "Middle iter: 1 Inner iter: 27 with validation loss: 0.32315\n",
      "Middle iter: 1 Inner iter: 28 with validation loss: 0.31878\n",
      "Middle iter: 1 Inner iter: 29 with validation loss: 0.31998\n",
      "Middle iter: 1 Inner iter: 30 with validation loss: 0.31442\n",
      "Middle iter: 1 Inner iter: 31 with validation loss: 0.31425\n",
      "Middle iter: 1 Inner iter: 32 with validation loss: 0.31133\n",
      "Middle iter: 1 Inner iter: 33 with validation loss: 0.31062\n",
      "Middle iter: 1 Inner iter: 34 with validation loss: 0.30744\n",
      "Middle iter: 1 Inner iter: 35 with validation loss: 0.30577\n",
      "Middle iter: 1 Inner iter: 36 with validation loss: 0.30632\n",
      "Middle iter: 1 Inner iter: 37 with validation loss: 0.30194\n",
      "Middle iter: 1 Inner iter: 38 with validation loss: 0.30424\n",
      "Middle iter: 1 Inner iter: 39 with validation loss: 0.29958\n",
      "Middle iter: 1 Inner iter: 40 with validation loss: 0.30102\n",
      "Middle iter: 1 Inner iter: 41 with validation loss: 0.29671\n",
      "Middle iter: 1 Inner iter: 42 with validation loss: 0.29846\n",
      "Middle iter: 1 Inner iter: 43 with validation loss: 0.29536\n",
      "Middle iter: 1 Inner iter: 44 with validation loss: 0.29488\n",
      "Middle iter: 1 Inner iter: 45 with validation loss: 0.29352\n",
      "Middle iter: 1 Inner iter: 46 with validation loss: 0.29156\n",
      "Middle iter: 1 Inner iter: 47 with validation loss: 0.29397\n",
      "Middle iter: 1 Inner iter: 48 with validation loss: 0.29266\n",
      "Middle iter: 1 Inner iter: 49 with validation loss: 0.29036\n",
      "Middle iter: 1 Inner iter: 50 with validation loss: 0.28996\n",
      "Middle iter: 1 Inner iter: 51 with validation loss: 0.29206\n",
      "Middle iter: 1 Inner iter: 52 with validation loss: 0.28726\n",
      "Middle iter: 1 Inner iter: 53 with validation loss: 0.29131\n",
      "Middle iter: 1 Inner iter: 54 with validation loss: 0.2877\n",
      "Middle iter: 1 Inner iter: 55 with validation loss: 0.29114\n",
      "Middle iter: 2 Inner iter: 1 with validation loss: 0.16387\n",
      "Middle iter: 2 Inner iter: 2 with validation loss: 0.16278\n",
      "Middle iter: 2 Inner iter: 3 with validation loss: 0.15824\n",
      "Middle iter: 2 Inner iter: 4 with validation loss: 0.15621\n",
      "Middle iter: 2 Inner iter: 5 with validation loss: 0.15382\n",
      "Middle iter: 2 Inner iter: 6 with validation loss: 0.15146\n",
      "Middle iter: 2 Inner iter: 7 with validation loss: 0.15006\n",
      "Middle iter: 2 Inner iter: 8 with validation loss: 0.1481\n",
      "Middle iter: 2 Inner iter: 9 with validation loss: 0.14692\n",
      "Middle iter: 2 Inner iter: 10 with validation loss: 0.14555\n",
      "Middle iter: 2 Inner iter: 11 with validation loss: 0.14416\n",
      "Middle iter: 2 Inner iter: 12 with validation loss: 0.14461\n",
      "Middle iter: 2 Inner iter: 13 with validation loss: 0.14299\n",
      "Middle iter: 2 Inner iter: 14 with validation loss: 0.14245\n",
      "Middle iter: 2 Inner iter: 15 with validation loss: 0.14187\n",
      "Middle iter: 2 Inner iter: 16 with validation loss: 0.14097\n",
      "Middle iter: 2 Inner iter: 17 with validation loss: 0.1406\n",
      "Middle iter: 2 Inner iter: 18 with validation loss: 0.14029\n",
      "Middle iter: 2 Inner iter: 19 with validation loss: 0.13972\n",
      "Middle iter: 2 Inner iter: 20 with validation loss: 0.13967\n",
      "Middle iter: 2 Inner iter: 21 with validation loss: 0.14004\n",
      "Middle iter: 2 Inner iter: 22 with validation loss: 0.13936\n",
      "Middle iter: 2 Inner iter: 23 with validation loss: 0.13948\n",
      "Middle iter: 2 Inner iter: 24 with validation loss: 0.13945\n",
      "Middle iter: 2 Inner iter: 25 with validation loss: 0.13936\n",
      "Middle iter: 3 Inner iter: 1 with validation loss: 0.12163\n",
      "Middle iter: 3 Inner iter: 2 with validation loss: 0.11993\n",
      "Middle iter: 3 Inner iter: 3 with validation loss: 0.11996\n",
      "Middle iter: 3 Inner iter: 4 with validation loss: 0.11903\n",
      "Middle iter: 3 Inner iter: 5 with validation loss: 0.11975\n",
      "Middle iter: 3 Inner iter: 6 with validation loss: 0.11935\n",
      "Middle iter: 3 Inner iter: 7 with validation loss: 0.11919\n"
     ]
    },
    {
     "data": {
      "image/png": "[encoded data removed]",
      "text/plain": [
       "<Figure size 864x288 with 3 Axes>"
      ]
     },
     "metadata": {
      "needs_background": "light"
     },
     "output_type": "display_data"
    }
   ],
   "source": [
    "clf = SimClassifier(degree=3, knot_num=10, reg_lambda=0.1, reg_gamma=10**(-6),\n",
    "                    knot_dist=\"uniform\", spline=\"smoothing_spline\", random_state=0)\n",
    "clf.fit(x, y)\n",
    "clf.fit_middle_update(x, y, method=\"adam\", n_middle_iter_no_change=1, n_inner_iter_no_change=3,\n",
    "                     learning_rate=0.001, batch_size=1000, verbose=True)\n",
    "clf.visualize()"
   ]
  },
  {
   "cell_type": "code",
   "execution_count": 21,
   "metadata": {
    "ExecuteTime": {
     "end_time": "2020-06-24T04:44:27.320006Z",
     "start_time": "2020-06-24T04:43:42.123048Z"
    }
   },
   "outputs": [
    {
     "name": "stdout",
     "output_type": "stream",
     "text": [
      "Middle iter: 1 with validation loss: 0.20234\n",
      "Middle iter: 2 with validation loss: 0.12007\n",
      "Middle iter: 3 with validation loss: 0.11689\n"
     ]
    },
    {
     "data": {
      "image/png": "[encoded data removed]",
      "text/plain": [
       "<Figure size 864x288 with 3 Axes>"
      ]
     },
     "metadata": {
      "needs_background": "light"
     },
     "output_type": "display_data"
    }
   ],
   "source": [
    "clf = SimClassifier(degree=3, knot_num=10, reg_lambda=0.1, reg_gamma=10**(-6),\n",
    "                   spline=\"smoothing_spline\", knot_dist=\"uniform\", random_state=0)\n",
    "clf.fit(x, y)\n",
    "clf.fit_middle_update(x, y, method=\"bfgs\", n_middle_iter_no_change=1, n_inner_iter_no_change=20,\n",
    "                     max_inner_iter=100, verbose=True)\n",
    "clf.visualize()"
   ]
  },
  {
   "cell_type": "markdown",
   "metadata": {},
   "source": [
    "**Remark**: fit_inner_update is not available for spline=\"p_spline\" or \"mono_p_spline\""
   ]
  }
 ],
 "metadata": {
  "kernelspec": {
   "display_name": "Python (tf2)",
   "language": "python",
   "name": "tf2"
  },
  "language_info": {
   "codemirror_mode": {
    "name": "ipython",
    "version": 3
   },
   "file_extension": ".py",
   "mimetype": "text/x-python",
   "name": "python",
   "nbconvert_exporter": "python",
   "pygments_lexer": "ipython3",
   "version": "3.6.8"
  },
  "latex_envs": {
   "LaTeX_envs_menu_present": true,
   "autoclose": false,
   "autocomplete": true,
   "bibliofile": "biblio.bib",
   "cite_by": "apalike",
   "current_citInitial": 1,
   "eqLabelWithNumbers": true,
   "eqNumInitial": 1,
   "hotkeys": {
    "equation": "Ctrl-E",
    "itemize": "Ctrl-I"
   },
   "labels_anchors": false,
   "latex_user_defs": false,
   "report_style_numbering": false,
   "user_envs_cfg": false
  },
  "varInspector": {
   "cols": {
    "lenName": 16,
    "lenType": 16,
    "lenVar": 40
   },
   "kernels_config": {
    "python": {
     "delete_cmd_postfix": "",
     "delete_cmd_prefix": "del ",
     "library": "var_list.py",
     "varRefreshCmd": "print(var_dic_list())"
    },
    "r": {
     "delete_cmd_postfix": ") ",
     "delete_cmd_prefix": "rm(",
     "library": "var_list.r",
     "varRefreshCmd": "cat(var_dic_list()) "
    }
   },
   "types_to_exclude": [
    "module",
    "function",
    "builtin_function_or_method",
    "instance",
    "_Feature"
   ],
   "window_display": false
  }
 },
 "nbformat": 4,
 "nbformat_minor": 2
}
