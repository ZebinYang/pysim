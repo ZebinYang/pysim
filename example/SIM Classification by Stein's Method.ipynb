{
 "cells": [
  {
   "cell_type": "markdown",
   "metadata": {},
   "source": [
    "## SIM Training by Stein's Method"
   ]
  },
  {
   "cell_type": "code",
   "execution_count": 1,
   "metadata": {
    "ExecuteTime": {
     "end_time": "2020-04-03T08:33:07.492213Z",
     "start_time": "2020-04-03T08:33:02.579816Z"
    }
   },
   "outputs": [],
   "source": [
    "import numpy as np\n",
    "from matplotlib import pylab as plt\n",
    "from sklearn.model_selection import KFold\n",
    "from sklearn.model_selection import GridSearchCV\n",
    "from sklearn.preprocessing import MinMaxScaler\n",
    "from sklearn.metrics import make_scorer, roc_auc_score\n",
    "\n",
    "from pysim import SimClassifier"
   ]
  },
  {
   "cell_type": "markdown",
   "metadata": {},
   "source": [
    "## pySIM - A python package for Sparse SIM "
   ]
  },
  {
   "cell_type": "markdown",
   "metadata": {},
   "source": [
    "**To install**:\n",
    "    \n",
    "```sheel\n",
    "    pip install git+https://github.com/Zebinyang/pysim.git\n",
    "```\n",
    "\n",
    "Note pysim will call the R package fps (https://github.com/vqv/fps) using rpy2 interface. "
   ]
  },
  {
   "cell_type": "markdown",
   "metadata": {},
   "source": [
    "```python\n",
    "from pysim import SimClassifier\n",
    "clf = SimClassifier(method=\"first_order\", reg_lambda=0.1, reg_gamma=10, knot_num=20, degree=2, random_state=0)\n",
    "## clf.fit(x, y)\n",
    "```"
   ]
  },
  {
   "cell_type": "markdown",
   "metadata": {},
   "source": [
    "**Usage**"
   ]
  },
  {
   "cell_type": "markdown",
   "metadata": {},
   "source": [
    "**Hyperparameters**\n",
    "\n",
    "- method: the base method for estimating the projection coefficients in sparse SIM. default=\"first_order\"\n",
    "\n",
    "        \"first_order\": First-order Stein's Identity via sparse PCA solver\n",
    "\n",
    "        \"second_order\": Second-order Stein's Identity via sparse PCA solver\n",
    "\n",
    "        \"first_order_thres\": First-order Stein's Identity via hard thresholding (A simplified verison)        \n",
    "    \n",
    "- reg_lambda: The regularization strength of sparsity of beta. default=0.1, from 0 to 1 \n",
    "\n",
    "- reg_gamma: The regularization strength of the spline algorithm. default=10, from 0 to $+\\infty$\n",
    "\n",
    "- degree: The order of the spline basis. default=2\n",
    "\n",
    "- knot_num: The number of knots spanned uniformly over the domain. default=20\n",
    "\n",
    "- random_state: the random seed. default=0"
   ]
  },
  {
   "cell_type": "markdown",
   "metadata": {},
   "source": [
    "# Case 1: Logit Function"
   ]
  },
  {
   "cell_type": "code",
   "execution_count": 2,
   "metadata": {
    "ExecuteTime": {
     "end_time": "2020-04-03T08:33:07.796364Z",
     "start_time": "2020-04-03T08:33:07.497008Z"
    },
    "scrolled": true
   },
   "outputs": [],
   "source": [
    "s_star = 5\n",
    "n_features = 100\n",
    "n_samples = 10000\n",
    "\n",
    "np.random.seed(1)\n",
    "beta = np.zeros(n_features)\n",
    "supp_ids = np.random.choice(n_features, s_star)\n",
    "beta[supp_ids]=np.random.choice((-1, 1), s_star) / np.sqrt(s_star)\n",
    "\n",
    "x = np.random.normal(0, 0.3, size=(n_samples, n_features))\n",
    "y = 1 / (1 + np.exp(-(np.dot(x, beta)))) + 0.1 * np.random.randn(n_samples)\n",
    "y = y - np.mean(y)\n",
    "y[y <= 0] = 0\n",
    "y[y > 0] = 1"
   ]
  },
  {
   "cell_type": "markdown",
   "metadata": {},
   "source": [
    "The best hyperparameter combination can be selected via cross-validation"
   ]
  },
  {
   "cell_type": "code",
   "execution_count": 3,
   "metadata": {
    "ExecuteTime": {
     "end_time": "2020-04-03T08:33:27.142432Z",
     "start_time": "2020-04-03T08:33:07.799987Z"
    },
    "scrolled": true
   },
   "outputs": [
    {
     "name": "stdout",
     "output_type": "stream",
     "text": [
      "Fitting 3 folds for each of 30 candidates, totalling 90 fits\n"
     ]
    },
    {
     "name": "stderr",
     "output_type": "stream",
     "text": [
      "[Parallel(n_jobs=-1)]: Using backend LokyBackend with 64 concurrent workers.\n",
      "[Parallel(n_jobs=-1)]: Done   9 out of  90 | elapsed:   13.3s remaining:  2.0min\n",
      "[Parallel(n_jobs=-1)]: Done  55 out of  90 | elapsed:   15.1s remaining:    9.6s\n",
      "[Parallel(n_jobs=-1)]: Done  90 out of  90 | elapsed:   16.4s finished\n"
     ]
    },
    {
     "name": "stdout",
     "output_type": "stream",
     "text": [
      "CPU times: user 33.8 s, sys: 4.79 s, total: 38.5 s\n",
      "Wall time: 19.3 s\n"
     ]
    }
   ],
   "source": [
    "%%time \n",
    "\n",
    "param_grid = {\"method\": [\"first_order\", \"second_order\"],\n",
    "              \"reg_lambda\": [0.1, 0.2, 0.3, 0.4, 0.5],\n",
    "              \"reg_gamma\": np.logspace(-1, 1, 3)}\n",
    "grid = GridSearchCV(SimClassifier(degree=2, knot_num=20, random_state=0), \n",
    "                    cv=KFold(3, shuffle=True, random_state=0), \n",
    "                    scoring={\"auc\": make_scorer(roc_auc_score)},\n",
    "                    param_grid=param_grid, n_jobs=-1, verbose=2, refit=\"auc\", error_score=np.nan)\n",
    "grid.fit(x, y)"
   ]
  },
  {
   "cell_type": "code",
   "execution_count": 4,
   "metadata": {
    "ExecuteTime": {
     "end_time": "2020-04-03T08:33:27.177340Z",
     "start_time": "2020-04-03T08:33:27.148264Z"
    }
   },
   "outputs": [
    {
     "data": {
      "text/plain": [
       "{'method': 'first_order', 'reg_gamma': 0.1, 'reg_lambda': 0.2}"
      ]
     },
     "execution_count": 4,
     "metadata": {},
     "output_type": "execute_result"
    }
   ],
   "source": [
    "grid.best_params_"
   ]
  },
  {
   "cell_type": "markdown",
   "metadata": {},
   "source": [
    "**NB**: The first-order Setin's method is selected, as $\\mathbb{E}[f^{\\prime\\prime}(u)]=0$. Therefore, the second order method cannot provide any information about the projection coefficients. "
   ]
  },
  {
   "cell_type": "markdown",
   "metadata": {},
   "source": [
    "In this case, the first-order Setin's method is selected. "
   ]
  },
  {
   "cell_type": "code",
   "execution_count": 5,
   "metadata": {
    "ExecuteTime": {
     "end_time": "2020-04-03T08:33:27.209344Z",
     "start_time": "2020-04-03T08:33:27.179677Z"
    }
   },
   "outputs": [
    {
     "data": {
      "text/plain": [
       "SimClassifier(degree=2, knot_num=20, method='first_order', random_state=0,\n",
       "              reg_gamma=0.1, reg_lambda=0.2)"
      ]
     },
     "execution_count": 5,
     "metadata": {},
     "output_type": "execute_result"
    }
   ],
   "source": [
    "clf = grid.best_estimator_\n",
    "clf"
   ]
  },
  {
   "cell_type": "code",
   "execution_count": 6,
   "metadata": {
    "ExecuteTime": {
     "end_time": "2020-04-03T08:33:28.397123Z",
     "start_time": "2020-04-03T08:33:27.212282Z"
    }
   },
   "outputs": [
    {
     "data": {
      "image/png": "[encoded data removed]",
      "text/plain": [
       "<Figure size 432x288 with 1 Axes>"
      ]
     },
     "metadata": {
      "needs_background": "light"
     },
     "output_type": "display_data"
    }
   ],
   "source": [
    "plt.plot(np.abs(clf.beta_), \"o\")\n",
    "plt.plot(np.abs(beta), \"o\")\n",
    "plt.legend([\"Estimated\", \"Ground Truth\"])\n",
    "plt.show()"
   ]
  },
  {
   "cell_type": "code",
   "execution_count": 7,
   "metadata": {
    "ExecuteTime": {
     "end_time": "2020-04-03T08:33:29.995692Z",
     "start_time": "2020-04-03T08:33:28.399482Z"
    },
    "scrolled": true
   },
   "outputs": [
    {
     "data": {
      "image/png": "[encoded data removed]",
      "text/plain": [
       "<Figure size 864x288 with 3 Axes>"
      ]
     },
     "metadata": {
      "needs_background": "light"
     },
     "output_type": "display_data"
    }
   ],
   "source": [
    "grid.best_estimator_.visualize()"
   ]
  },
  {
   "cell_type": "code",
   "execution_count": 8,
   "metadata": {
    "ExecuteTime": {
     "end_time": "2020-04-03T08:33:30.126713Z",
     "start_time": "2020-04-03T08:33:30.003764Z"
    }
   },
   "outputs": [
    {
     "data": {
      "text/plain": [
       "0.7765179279005547"
      ]
     },
     "execution_count": 8,
     "metadata": {},
     "output_type": "execute_result"
    }
   ],
   "source": [
    "roc_auc_score(y, grid.predict_proba(x))"
   ]
  },
  {
   "cell_type": "markdown",
   "metadata": {},
   "source": [
    "## Case 2: Quadratic Ridge Function"
   ]
  },
  {
   "cell_type": "code",
   "execution_count": 9,
   "metadata": {
    "ExecuteTime": {
     "end_time": "2020-04-03T08:33:30.358317Z",
     "start_time": "2020-04-03T08:33:30.129659Z"
    },
    "scrolled": true
   },
   "outputs": [],
   "source": [
    "s_star = 5\n",
    "n_features = 100\n",
    "n_samples = 10000\n",
    "\n",
    "np.random.seed(1)\n",
    "beta = np.zeros(n_features)\n",
    "supp_ids = np.random.choice(n_features, s_star)\n",
    "beta[supp_ids]=np.random.choice((-1, 1), s_star) / np.sqrt(s_star)\n",
    "\n",
    "x = np.random.normal(0, 0.3, size=(n_samples, n_features))\n",
    "y = 5 * np.dot(x, beta) ** 2 + 0.1 * np.random.randn(n_samples)\n",
    "ymu = np.mean(y)\n",
    "y[y > ymu] = 1\n",
    "y[y <= ymu] = 0"
   ]
  },
  {
   "cell_type": "code",
   "execution_count": 10,
   "metadata": {
    "ExecuteTime": {
     "end_time": "2020-04-03T08:33:36.682583Z",
     "start_time": "2020-04-03T08:33:30.368869Z"
    },
    "scrolled": true
   },
   "outputs": [
    {
     "name": "stdout",
     "output_type": "stream",
     "text": [
      "Fitting 3 folds for each of 30 candidates, totalling 90 fits\n"
     ]
    },
    {
     "name": "stderr",
     "output_type": "stream",
     "text": [
      "[Parallel(n_jobs=-1)]: Using backend LokyBackend with 64 concurrent workers.\n",
      "[Parallel(n_jobs=-1)]: Done   9 out of  90 | elapsed:    0.9s remaining:    8.3s\n",
      "[Parallel(n_jobs=-1)]: Done  55 out of  90 | elapsed:    2.0s remaining:    1.3s\n",
      "[Parallel(n_jobs=-1)]: Done  90 out of  90 | elapsed:    2.8s finished\n"
     ]
    },
    {
     "name": "stdout",
     "output_type": "stream",
     "text": [
      "CPU times: user 40.8 s, sys: 4.74 s, total: 45.5 s\n",
      "Wall time: 6.29 s\n"
     ]
    }
   ],
   "source": [
    "%%time \n",
    "\n",
    "param_grid = {\"method\": [\"first_order\", \"second_order\"],\n",
    "              \"reg_lambda\": [0.1, 0.2, 0.3, 0.4, 0.5],\n",
    "              \"reg_gamma\": np.logspace(-1, 1, 3)}\n",
    "grid = GridSearchCV(SimClassifier(degree=2, knot_num=20, random_state=0), \n",
    "                    cv=KFold(3, shuffle=True, random_state=0), \n",
    "                    scoring={\"auc\": make_scorer(roc_auc_score)},\n",
    "                    param_grid=param_grid, n_jobs=-1, verbose=2, refit=\"auc\", error_score=np.nan)\n",
    "grid.fit(x, y)"
   ]
  },
  {
   "cell_type": "code",
   "execution_count": 11,
   "metadata": {
    "ExecuteTime": {
     "end_time": "2020-04-03T08:33:36.705836Z",
     "start_time": "2020-04-03T08:33:36.690690Z"
    }
   },
   "outputs": [
    {
     "data": {
      "text/plain": [
       "{'method': 'second_order', 'reg_gamma': 0.1, 'reg_lambda': 0.1}"
      ]
     },
     "execution_count": 11,
     "metadata": {},
     "output_type": "execute_result"
    }
   ],
   "source": [
    "grid.best_params_"
   ]
  },
  {
   "cell_type": "markdown",
   "metadata": {},
   "source": [
    "**NB**: The second-order Setin's method is selected, as $\\mathbb{E}[f^{\\prime}(u)]=0$. Therefore, the first order method cannot provide any information about the projection coefficients. "
   ]
  },
  {
   "cell_type": "code",
   "execution_count": 12,
   "metadata": {
    "ExecuteTime": {
     "end_time": "2020-04-03T08:33:36.722387Z",
     "start_time": "2020-04-03T08:33:36.710269Z"
    }
   },
   "outputs": [
    {
     "data": {
      "text/plain": [
       "SimClassifier(degree=2, knot_num=20, method='second_order', random_state=0,\n",
       "              reg_gamma=0.1, reg_lambda=0.1)"
      ]
     },
     "execution_count": 12,
     "metadata": {},
     "output_type": "execute_result"
    }
   ],
   "source": [
    "clf = grid.best_estimator_\n",
    "clf"
   ]
  },
  {
   "cell_type": "code",
   "execution_count": 13,
   "metadata": {
    "ExecuteTime": {
     "end_time": "2020-04-03T08:33:37.345477Z",
     "start_time": "2020-04-03T08:33:36.726852Z"
    }
   },
   "outputs": [
    {
     "data": {
      "image/png": "[encoded data removed]",
      "text/plain": [
       "<Figure size 432x288 with 1 Axes>"
      ]
     },
     "metadata": {
      "needs_background": "light"
     },
     "output_type": "display_data"
    }
   ],
   "source": [
    "plt.plot(clf.beta_, \"o\")\n",
    "plt.plot(beta, \"o\")\n",
    "plt.legend([\"Estimated\", \"Ground Truth\"])\n",
    "plt.show()"
   ]
  },
  {
   "cell_type": "code",
   "execution_count": 14,
   "metadata": {
    "ExecuteTime": {
     "end_time": "2020-04-03T08:33:39.022682Z",
     "start_time": "2020-04-03T08:33:37.361460Z"
    },
    "scrolled": false
   },
   "outputs": [
    {
     "data": {
      "image/png": "[encoded data removed]",
      "text/plain": [
       "<Figure size 864x288 with 3 Axes>"
      ]
     },
     "metadata": {
      "needs_background": "light"
     },
     "output_type": "display_data"
    }
   ],
   "source": [
    "grid.best_estimator_.visualize()"
   ]
  },
  {
   "cell_type": "markdown",
   "metadata": {},
   "source": [
    "## Case 3: Improve a rough estimator via inner update"
   ]
  },
  {
   "cell_type": "code",
   "execution_count": 15,
   "metadata": {
    "ExecuteTime": {
     "end_time": "2020-04-03T08:33:39.321535Z",
     "start_time": "2020-04-03T08:33:39.028561Z"
    },
    "scrolled": true
   },
   "outputs": [],
   "source": [
    "s_star = 5\n",
    "n_features = 100\n",
    "n_samples = 10000\n",
    "\n",
    "np.random.seed(1)\n",
    "beta = np.zeros(n_features)\n",
    "supp_ids = np.random.choice(n_features, s_star)\n",
    "beta[supp_ids]=np.random.choice((-1, 1), s_star) / np.sqrt(s_star)\n",
    "\n",
    "x = np.random.gamma(1, 0.3, size=(n_samples, n_features))\n",
    "y = 5 * np.dot(x, beta) ** 2 + 0.1 * np.random.randn(n_samples)\n",
    "ymu = np.mean(y)\n",
    "y[y > ymu] = 1\n",
    "y[y <= ymu] = 0"
   ]
  },
  {
   "cell_type": "code",
   "execution_count": 16,
   "metadata": {
    "ExecuteTime": {
     "end_time": "2020-04-03T08:33:42.042512Z",
     "start_time": "2020-04-03T08:33:39.332991Z"
    },
    "scrolled": true
   },
   "outputs": [
    {
     "name": "stdout",
     "output_type": "stream",
     "text": [
      "CPU times: user 31.8 s, sys: 3.68 s, total: 35.5 s\n",
      "Wall time: 2.69 s\n"
     ]
    }
   ],
   "source": [
    "%%time \n",
    "\n",
    "clf = SimClassifier(degree=2, knot_num=20, reg_lambda=0.2, reg_gamma=1, random_state=0)\n",
    "clf.fit(x, y)"
   ]
  },
  {
   "cell_type": "code",
   "execution_count": 17,
   "metadata": {
    "ExecuteTime": {
     "end_time": "2020-04-03T08:33:42.872874Z",
     "start_time": "2020-04-03T08:33:42.045338Z"
    },
    "scrolled": true
   },
   "outputs": [
    {
     "data": {
      "image/png": "[encoded data removed]",
      "text/plain": [
       "<Figure size 864x288 with 3 Axes>"
      ]
     },
     "metadata": {
      "needs_background": "light"
     },
     "output_type": "display_data"
    }
   ],
   "source": [
    "clf.visualize()"
   ]
  },
  {
   "cell_type": "markdown",
   "metadata": {},
   "source": [
    "**Remark**：The data does not follow a normal distribution, so the performance is relatively poor."
   ]
  },
  {
   "cell_type": "code",
   "execution_count": 18,
   "metadata": {
    "ExecuteTime": {
     "end_time": "2020-04-03T08:34:15.331733Z",
     "start_time": "2020-04-03T08:33:42.875081Z"
    },
    "scrolled": true
   },
   "outputs": [
    {
     "name": "stdout",
     "output_type": "stream",
     "text": [
      "Inner iter: 1 epoch: 1 with validation loss: 0.42527\n",
      "Inner iter: 1 epoch: 2 with validation loss: 0.42286\n",
      "Inner iter: 1 epoch: 3 with validation loss: 0.42255\n",
      "Inner iter: 1 epoch: 4 with validation loss: 0.42212\n",
      "Inner iter: 1 epoch: 5 with validation loss: 0.42213\n",
      "Inner iter: 1 epoch: 6 with validation loss: 0.42025\n",
      "Inner iter: 1 epoch: 7 with validation loss: 0.41862\n",
      "Inner iter: 1 epoch: 8 with validation loss: 0.41485\n",
      "Inner iter: 1 epoch: 9 with validation loss: 0.41075\n",
      "Inner iter: 1 epoch: 10 with validation loss: 0.40495\n",
      "Inner iter: 1 epoch: 11 with validation loss: 0.39921\n",
      "Inner iter: 1 epoch: 12 with validation loss: 0.39074\n",
      "Inner iter: 1 epoch: 13 with validation loss: 0.38328\n",
      "Inner iter: 1 epoch: 14 with validation loss: 0.37515\n",
      "Inner iter: 1 epoch: 15 with validation loss: 0.36756\n",
      "Inner iter: 1 epoch: 16 with validation loss: 0.36\n",
      "Inner iter: 1 epoch: 17 with validation loss: 0.35373\n",
      "Inner iter: 1 epoch: 18 with validation loss: 0.34751\n",
      "Inner iter: 1 epoch: 19 with validation loss: 0.34254\n",
      "Inner iter: 1 epoch: 20 with validation loss: 0.33752\n",
      "Inner iter: 1 epoch: 21 with validation loss: 0.33406\n",
      "Inner iter: 1 epoch: 22 with validation loss: 0.32951\n",
      "Inner iter: 1 epoch: 23 with validation loss: 0.32618\n",
      "Inner iter: 1 epoch: 24 with validation loss: 0.32347\n",
      "Inner iter: 1 epoch: 25 with validation loss: 0.31929\n",
      "Inner iter: 1 epoch: 26 with validation loss: 0.31655\n",
      "Inner iter: 1 epoch: 27 with validation loss: 0.31364\n",
      "Inner iter: 1 epoch: 28 with validation loss: 0.31127\n",
      "Inner iter: 1 epoch: 29 with validation loss: 0.30895\n",
      "Inner iter: 1 epoch: 30 with validation loss: 0.30661\n",
      "Inner iter: 1 epoch: 31 with validation loss: 0.30466\n",
      "Inner iter: 1 epoch: 32 with validation loss: 0.30273\n",
      "Inner iter: 1 epoch: 33 with validation loss: 0.30081\n",
      "Inner iter: 1 epoch: 34 with validation loss: 0.29936\n",
      "Inner iter: 1 epoch: 35 with validation loss: 0.29783\n",
      "Inner iter: 1 epoch: 36 with validation loss: 0.296\n",
      "Inner iter: 1 epoch: 37 with validation loss: 0.29526\n",
      "Inner iter: 1 epoch: 38 with validation loss: 0.29372\n",
      "Inner iter: 1 epoch: 39 with validation loss: 0.29164\n",
      "Inner iter: 1 epoch: 40 with validation loss: 0.2902\n",
      "Inner iter: 1 epoch: 41 with validation loss: 0.2891\n",
      "Inner iter: 1 epoch: 42 with validation loss: 0.28748\n",
      "Inner iter: 1 epoch: 43 with validation loss: 0.28636\n",
      "Inner iter: 1 epoch: 44 with validation loss: 0.28504\n",
      "Inner iter: 1 epoch: 45 with validation loss: 0.28409\n",
      "Inner iter: 1 epoch: 46 with validation loss: 0.28294\n",
      "Inner iter: 1 epoch: 47 with validation loss: 0.28203\n",
      "Inner iter: 1 epoch: 48 with validation loss: 0.28109\n",
      "Inner iter: 1 epoch: 49 with validation loss: 0.28064\n",
      "Inner iter: 1 epoch: 50 with validation loss: 0.27952\n",
      "Inner iter: 1 epoch: 51 with validation loss: 0.27817\n",
      "Inner iter: 1 epoch: 52 with validation loss: 0.27751\n",
      "Inner iter: 1 epoch: 53 with validation loss: 0.27677\n",
      "Inner iter: 1 epoch: 54 with validation loss: 0.27584\n",
      "Inner iter: 1 epoch: 55 with validation loss: 0.27521\n",
      "Inner iter: 1 epoch: 56 with validation loss: 0.27464\n",
      "Inner iter: 1 epoch: 57 with validation loss: 0.2738\n",
      "Inner iter: 1 epoch: 58 with validation loss: 0.27313\n",
      "Inner iter: 1 epoch: 59 with validation loss: 0.27278\n",
      "Inner iter: 1 epoch: 60 with validation loss: 0.27172\n",
      "Inner iter: 1 epoch: 61 with validation loss: 0.27113\n",
      "Inner iter: 1 epoch: 62 with validation loss: 0.27044\n",
      "Inner iter: 1 epoch: 63 with validation loss: 0.27137\n",
      "Inner iter: 1 epoch: 64 with validation loss: 0.26946\n",
      "Inner iter: 1 epoch: 65 with validation loss: 0.26887\n",
      "Inner iter: 1 epoch: 66 with validation loss: 0.26836\n",
      "Inner iter: 1 epoch: 67 with validation loss: 0.26796\n",
      "Inner iter: 1 epoch: 68 with validation loss: 0.26731\n",
      "Inner iter: 1 epoch: 69 with validation loss: 0.26689\n",
      "Inner iter: 1 epoch: 70 with validation loss: 0.26648\n",
      "Inner iter: 1 epoch: 71 with validation loss: 0.2661\n",
      "Inner iter: 1 epoch: 72 with validation loss: 0.26614\n",
      "Inner iter: 1 epoch: 73 with validation loss: 0.26508\n",
      "Inner iter: 1 epoch: 74 with validation loss: 0.2654\n",
      "Inner iter: 1 epoch: 75 with validation loss: 0.26562\n",
      "Inner iter: 1 epoch: 76 with validation loss: 0.26383\n",
      "Inner iter: 1 epoch: 77 with validation loss: 0.26355\n",
      "Inner iter: 1 epoch: 78 with validation loss: 0.26336\n",
      "Inner iter: 1 epoch: 79 with validation loss: 0.26315\n",
      "Inner iter: 1 epoch: 80 with validation loss: 0.26236\n",
      "Inner iter: 1 epoch: 81 with validation loss: 0.262\n",
      "Inner iter: 1 epoch: 82 with validation loss: 0.26219\n",
      "Inner iter: 1 epoch: 83 with validation loss: 0.26153\n",
      "Inner iter: 1 epoch: 84 with validation loss: 0.26155\n",
      "Inner iter: 1 epoch: 85 with validation loss: 0.26216\n",
      "Inner iter: 1 epoch: 86 with validation loss: 0.26095\n",
      "Inner iter: 1 epoch: 87 with validation loss: 0.26029\n",
      "Inner iter: 1 epoch: 88 with validation loss: 0.25998\n",
      "Inner iter: 1 epoch: 89 with validation loss: 0.26044\n",
      "Inner iter: 1 epoch: 90 with validation loss: 0.26014\n",
      "Inner iter: 1 epoch: 91 with validation loss: 0.25931\n",
      "Inner iter: 1 epoch: 92 with validation loss: 0.25889\n",
      "Inner iter: 1 epoch: 93 with validation loss: 0.25908\n",
      "Inner iter: 1 epoch: 94 with validation loss: 0.25845\n",
      "Inner iter: 1 epoch: 95 with validation loss: 0.25827\n",
      "Inner iter: 1 epoch: 96 with validation loss: 0.25811\n",
      "Inner iter: 1 epoch: 97 with validation loss: 0.25909\n",
      "Inner iter: 1 epoch: 98 with validation loss: 0.25759\n",
      "Inner iter: 1 epoch: 99 with validation loss: 0.25743\n",
      "Inner iter: 1 epoch: 100 with validation loss: 0.25716\n",
      "Inner iter: 2 epoch: 1 with validation loss: 0.14322\n",
      "Inner iter: 2 epoch: 2 with validation loss: 0.14196\n",
      "Inner iter: 2 epoch: 3 with validation loss: 0.14118\n",
      "Inner iter: 2 epoch: 4 with validation loss: 0.14597\n",
      "Inner iter: 2 epoch: 5 with validation loss: 0.14876\n",
      "Inner iter: 2 epoch: 6 with validation loss: 0.14311\n",
      "Inner iter: 2 epoch: 7 with validation loss: 0.14175\n"
     ]
    }
   ],
   "source": [
    "clf.fit_inner_update(x, y, verbose=True)"
   ]
  },
  {
   "cell_type": "code",
   "execution_count": 19,
   "metadata": {
    "ExecuteTime": {
     "end_time": "2020-04-03T08:34:16.520440Z",
     "start_time": "2020-04-03T08:34:15.334881Z"
    },
    "scrolled": true
   },
   "outputs": [
    {
     "data": {
      "image/png": "[encoded data removed]",
      "text/plain": [
       "<Figure size 864x288 with 3 Axes>"
      ]
     },
     "metadata": {
      "needs_background": "light"
     },
     "output_type": "display_data"
    }
   ],
   "source": [
    "clf.visualize()"
   ]
  }
 ],
 "metadata": {
  "kernelspec": {
   "display_name": "Python (tf2)",
   "language": "python",
   "name": "tf2"
  },
  "language_info": {
   "codemirror_mode": {
    "name": "ipython",
    "version": 3
   },
   "file_extension": ".py",
   "mimetype": "text/x-python",
   "name": "python",
   "nbconvert_exporter": "python",
   "pygments_lexer": "ipython3",
   "version": "3.6.8"
  },
  "latex_envs": {
   "LaTeX_envs_menu_present": true,
   "autoclose": false,
   "autocomplete": true,
   "bibliofile": "biblio.bib",
   "cite_by": "apalike",
   "current_citInitial": 1,
   "eqLabelWithNumbers": true,
   "eqNumInitial": 1,
   "hotkeys": {
    "equation": "Ctrl-E",
    "itemize": "Ctrl-I"
   },
   "labels_anchors": false,
   "latex_user_defs": false,
   "report_style_numbering": false,
   "user_envs_cfg": false
  },
  "varInspector": {
   "cols": {
    "lenName": 16,
    "lenType": 16,
    "lenVar": 40
   },
   "kernels_config": {
    "python": {
     "delete_cmd_postfix": "",
     "delete_cmd_prefix": "del ",
     "library": "var_list.py",
     "varRefreshCmd": "print(var_dic_list())"
    },
    "r": {
     "delete_cmd_postfix": ") ",
     "delete_cmd_prefix": "rm(",
     "library": "var_list.r",
     "varRefreshCmd": "cat(var_dic_list()) "
    }
   },
   "types_to_exclude": [
    "module",
    "function",
    "builtin_function_or_method",
    "instance",
    "_Feature"
   ],
   "window_display": false
  }
 },
 "nbformat": 4,
 "nbformat_minor": 2
}
