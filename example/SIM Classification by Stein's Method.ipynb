{
 "cells": [
  {
   "cell_type": "markdown",
   "metadata": {},
   "source": [
    "## SIM Training by Stein's Method"
   ]
  },
  {
   "cell_type": "code",
   "execution_count": 1,
   "metadata": {
    "ExecuteTime": {
     "end_time": "2020-05-30T03:54:33.017073Z",
     "start_time": "2020-05-30T03:54:30.350778Z"
    }
   },
   "outputs": [],
   "source": [
    "import numpy as np\n",
    "from matplotlib import pylab as plt\n",
    "from sklearn.model_selection import KFold\n",
    "from sklearn.model_selection import GridSearchCV\n",
    "from sklearn.preprocessing import MinMaxScaler\n",
    "from sklearn.metrics import make_scorer, roc_auc_score\n",
    "\n",
    "from pysim import SimClassifier"
   ]
  },
  {
   "cell_type": "markdown",
   "metadata": {},
   "source": [
    "## pySIM - A python package for Sparse SIM "
   ]
  },
  {
   "cell_type": "markdown",
   "metadata": {},
   "source": [
    "**To install**:\n",
    "    \n",
    "```sheel\n",
    "    pip install git+https://github.com/Zebinyang/pysim.git\n",
    "```\n",
    "\n",
    "Note pysim will call the R package fps (https://github.com/vqv/fps) using rpy2 interface. "
   ]
  },
  {
   "cell_type": "markdown",
   "metadata": {},
   "source": [
    "```python\n",
    "from pysim import SimClassifier\n",
    "clf = SimClassifier(method=\"first_order\", spline=\"smoothing_spline\", reg_lambda=0.1, reg_gamma=0.1, knot_num=20, knot_dist=\"uniform\", degree=2, random_state=0)\n",
    "## clf.fit(x, y)\n",
    "```"
   ]
  },
  {
   "cell_type": "markdown",
   "metadata": {},
   "source": [
    "**Usage**"
   ]
  },
  {
   "cell_type": "markdown",
   "metadata": {},
   "source": [
    "**Hyperparameters**\n",
    "\n",
    "- method: the base method for estimating the projection coefficients in sparse SIM. default=\"first_order\"\n",
    "\n",
    "\n",
    "        \"first_order\": First-order Stein's Identity via sparse PCA solver\n",
    "\n",
    "        \"second_order\": Second-order Stein's Identity via sparse PCA solver\n",
    "\n",
    "        \"first_order_thres\": First-order Stein's Identity via hard thresholding (A simplified verison)     \n",
    "        \n",
    "        \"ols\": Least squares estimation subject to hard thresholding.\n",
    "        \n",
    "- reg_lambda: The regularization strength of sparsity of beta. default=0.1, from 0 to 1 \n",
    "\n",
    "- spline: The type of spline for fitting the curve. default=\"smoothing_spline\"\n",
    "        \n",
    "        \"smoothing_spline\": Smoothing spline\n",
    "\n",
    "        \"p_spline\": P-spline\n",
    "\n",
    "        \"mono_p_spline\": P-spline with monotonic constraint\n",
    "        \n",
    "        \"a_spline\": Adaptive B-spline\n",
    "\n",
    "- reg_gamma: The regularization strength of the spline algorithm. default=0.1.\n",
    "\n",
    "        For spline=\"smoothing_spline\", it ranges from 0 to 1 \n",
    "        \n",
    "        For spline=\"p_spline\",\"mono_p_spline\" or \"a_spline\", it ranges from 0 to $+\\infty$.\n",
    "\n",
    "- degree: The order of the spline basis, not used in \"smoothing_spline\". default=2\n",
    "\n",
    "- knot_num: The number of knots. default=20\n",
    "\n",
    "- knot_dist: The method of specifying the knots. default=\"uniform\"\n",
    "\n",
    "        \"uniform\": uniformly over the domain\n",
    "        \n",
    "        \"quantile\": uniform quantiles of the given input data (not available when spline=\"p_spline\" or \"mono_p_spline\")\n",
    "\n",
    "- random_state: the random seed. default=0"
   ]
  },
  {
   "cell_type": "markdown",
   "metadata": {},
   "source": [
    "# Case 1: Logit Function"
   ]
  },
  {
   "cell_type": "code",
   "execution_count": 2,
   "metadata": {
    "ExecuteTime": {
     "end_time": "2020-05-30T03:54:33.084489Z",
     "start_time": "2020-05-30T03:54:33.019198Z"
    },
    "scrolled": true
   },
   "outputs": [],
   "source": [
    "s_star = 5\n",
    "n_features = 100\n",
    "n_samples = 10000\n",
    "\n",
    "np.random.seed(1)\n",
    "beta = np.zeros(n_features)\n",
    "supp_ids = np.random.choice(n_features, s_star)\n",
    "beta[supp_ids]=np.random.choice((-1, 1), s_star) / np.sqrt(s_star)\n",
    "\n",
    "x = np.random.normal(0, 0.3, size=(n_samples, n_features))\n",
    "y = 1 / (1 + np.exp(-(np.dot(x, beta)))) + 0.1 * np.random.randn(n_samples)\n",
    "y = y - np.mean(y)\n",
    "y[y <= 0] = 0\n",
    "y[y > 0] = 1"
   ]
  },
  {
   "cell_type": "markdown",
   "metadata": {},
   "source": [
    "The best hyperparameter combination can be selected via cross-validation"
   ]
  },
  {
   "cell_type": "code",
   "execution_count": 3,
   "metadata": {
    "ExecuteTime": {
     "end_time": "2020-05-30T03:55:02.640712Z",
     "start_time": "2020-05-30T03:54:33.086552Z"
    },
    "scrolled": true
   },
   "outputs": [
    {
     "name": "stdout",
     "output_type": "stream",
     "text": [
      "Fitting 3 folds for each of 400 candidates, totalling 1200 fits\n"
     ]
    },
    {
     "name": "stderr",
     "output_type": "stream",
     "text": [
      "[Parallel(n_jobs=-1)]: Using backend LokyBackend with 64 concurrent workers.\n",
      "[Parallel(n_jobs=-1)]: Done  34 tasks      | elapsed:   11.6s\n",
      "[Parallel(n_jobs=-1)]: Done 237 tasks      | elapsed:   15.6s\n",
      "[Parallel(n_jobs=-1)]: Done 520 tasks      | elapsed:   19.0s\n",
      "[Parallel(n_jobs=-1)]: Done 885 tasks      | elapsed:   24.6s\n",
      "[Parallel(n_jobs=-1)]: Done 1200 out of 1200 | elapsed:   28.1s finished\n",
      "/home/r7user1/anaconda2_local/envs/tf2/lib/python3.6/site-packages/sklearn/model_selection/_search.py:823: FutureWarning: The parameter 'iid' is deprecated in 0.22 and will be removed in 0.24.\n",
      "  \"removed in 0.24.\", FutureWarning\n"
     ]
    },
    {
     "name": "stdout",
     "output_type": "stream",
     "text": [
      "CPU times: user 11.4 s, sys: 19.4 s, total: 30.8 s\n",
      "Wall time: 29.5 s\n"
     ]
    }
   ],
   "source": [
    "%%time \n",
    "\n",
    "param_grid = {\"method\": [\"first_order\", \"second_order\", \"first_order_thres\", \"ols\"],\n",
    "              \"knot_dist\": [\"uniform\", \"quantile\"],\n",
    "              \"reg_lambda\": [0.1, 0.2, 0.3, 0.4, 0.5], \n",
    "              \"reg_gamma\": np.logspace(-9, 0, 10)}\n",
    "grid = GridSearchCV(SimClassifier(spline=\"smoothing_spline\", knot_num=20, random_state=0), iid=False,\n",
    "                    cv=KFold(3, shuffle=True, random_state=0), param_grid=param_grid, n_jobs=-1, verbose=2, error_score=np.nan)\n",
    "grid.fit(x, y)"
   ]
  },
  {
   "cell_type": "code",
   "execution_count": 4,
   "metadata": {
    "ExecuteTime": {
     "end_time": "2020-05-30T03:55:02.655785Z",
     "start_time": "2020-05-30T03:55:02.646567Z"
    }
   },
   "outputs": [
    {
     "data": {
      "text/plain": [
       "{'knot_dist': 'uniform',\n",
       " 'method': 'first_order',\n",
       " 'reg_gamma': 1e-08,\n",
       " 'reg_lambda': 0.3}"
      ]
     },
     "execution_count": 4,
     "metadata": {},
     "output_type": "execute_result"
    }
   ],
   "source": [
    "grid.best_params_"
   ]
  },
  {
   "cell_type": "markdown",
   "metadata": {},
   "source": [
    "**NB**: The first-order Setin's method is selected, as $\\mathbb{E}[f^{\\prime\\prime}(u)]=0$. Therefore, the second order method cannot provide any information about the projection coefficients. "
   ]
  },
  {
   "cell_type": "markdown",
   "metadata": {},
   "source": [
    "In this case, the first-order Setin's method is selected. "
   ]
  },
  {
   "cell_type": "code",
   "execution_count": 5,
   "metadata": {
    "ExecuteTime": {
     "end_time": "2020-05-30T03:55:02.664316Z",
     "start_time": "2020-05-30T03:55:02.658015Z"
    }
   },
   "outputs": [
    {
     "data": {
      "text/plain": [
       "SimClassifier(degree=2, knot_dist='uniform', knot_num=20, method='first_order',\n",
       "              random_state=0, reg_gamma=1e-08, reg_lambda=0.3,\n",
       "              spline='smoothing_spline')"
      ]
     },
     "execution_count": 5,
     "metadata": {},
     "output_type": "execute_result"
    }
   ],
   "source": [
    "clf = grid.best_estimator_\n",
    "clf"
   ]
  },
  {
   "cell_type": "code",
   "execution_count": 6,
   "metadata": {
    "ExecuteTime": {
     "end_time": "2020-05-30T03:55:03.126299Z",
     "start_time": "2020-05-30T03:55:02.665823Z"
    }
   },
   "outputs": [
    {
     "data": {
      "image/png": "[encoded data removed]",
      "text/plain": [
       "<Figure size 432x288 with 1 Axes>"
      ]
     },
     "metadata": {
      "needs_background": "light"
     },
     "output_type": "display_data"
    }
   ],
   "source": [
    "plt.plot(np.abs(clf.beta_), \"o\")\n",
    "plt.plot(np.abs(beta), \"o\")\n",
    "plt.legend([\"Estimated\", \"Ground Truth\"])\n",
    "plt.show()"
   ]
  },
  {
   "cell_type": "code",
   "execution_count": 7,
   "metadata": {
    "ExecuteTime": {
     "end_time": "2020-05-30T03:55:03.720031Z",
     "start_time": "2020-05-30T03:55:03.129351Z"
    },
    "scrolled": true
   },
   "outputs": [
    {
     "data": {
      "image/png": "[encoded data removed]",
      "text/plain": [
       "<Figure size 864x288 with 3 Axes>"
      ]
     },
     "metadata": {
      "needs_background": "light"
     },
     "output_type": "display_data"
    }
   ],
   "source": [
    "grid.best_estimator_.visualize()"
   ]
  },
  {
   "cell_type": "code",
   "execution_count": 8,
   "metadata": {
    "ExecuteTime": {
     "end_time": "2020-05-30T03:55:03.782680Z",
     "start_time": "2020-05-30T03:55:03.722839Z"
    }
   },
   "outputs": [
    {
     "data": {
      "text/plain": [
       "0.7764764075750354"
      ]
     },
     "execution_count": 8,
     "metadata": {},
     "output_type": "execute_result"
    }
   ],
   "source": [
    "roc_auc_score(y, grid.predict_proba(x))"
   ]
  },
  {
   "cell_type": "markdown",
   "metadata": {},
   "source": [
    "## Case 2: Quadratic Ridge Function"
   ]
  },
  {
   "cell_type": "code",
   "execution_count": 9,
   "metadata": {
    "ExecuteTime": {
     "end_time": "2020-05-30T03:55:03.855543Z",
     "start_time": "2020-05-30T03:55:03.785345Z"
    },
    "scrolled": true
   },
   "outputs": [],
   "source": [
    "s_star = 5\n",
    "n_features = 100\n",
    "n_samples = 10000\n",
    "\n",
    "np.random.seed(1)\n",
    "beta = np.zeros(n_features)\n",
    "supp_ids = np.random.choice(n_features, s_star)\n",
    "beta[supp_ids]=np.random.choice((-1, 1), s_star) / np.sqrt(s_star)\n",
    "\n",
    "x = np.random.normal(0, 0.3, size=(n_samples, n_features))\n",
    "y = 5 * np.dot(x, beta) ** 2 + 0.1 * np.random.randn(n_samples)\n",
    "ymu = np.mean(y)\n",
    "y[y > ymu] = 1\n",
    "y[y <= ymu] = 0"
   ]
  },
  {
   "cell_type": "code",
   "execution_count": 10,
   "metadata": {
    "ExecuteTime": {
     "end_time": "2020-05-30T03:55:21.099663Z",
     "start_time": "2020-05-30T03:55:03.857928Z"
    },
    "scrolled": true
   },
   "outputs": [
    {
     "name": "stdout",
     "output_type": "stream",
     "text": [
      "Fitting 3 folds for each of 400 candidates, totalling 1200 fits\n"
     ]
    },
    {
     "name": "stderr",
     "output_type": "stream",
     "text": [
      "[Parallel(n_jobs=-1)]: Using backend LokyBackend with 64 concurrent workers.\n",
      "[Parallel(n_jobs=-1)]: Done  34 tasks      | elapsed:    0.7s\n",
      "[Parallel(n_jobs=-1)]: Done 237 tasks      | elapsed:    4.0s\n",
      "[Parallel(n_jobs=-1)]: Done 520 tasks      | elapsed:    7.6s\n",
      "[Parallel(n_jobs=-1)]: Done 885 tasks      | elapsed:   12.9s\n",
      "[Parallel(n_jobs=-1)]: Done 1200 out of 1200 | elapsed:   16.2s finished\n",
      "/home/r7user1/anaconda2_local/envs/tf2/lib/python3.6/site-packages/sklearn/model_selection/_search.py:823: FutureWarning: The parameter 'iid' is deprecated in 0.22 and will be removed in 0.24.\n",
      "  \"removed in 0.24.\", FutureWarning\n"
     ]
    },
    {
     "name": "stdout",
     "output_type": "stream",
     "text": [
      "CPU times: user 9.67 s, sys: 13.2 s, total: 22.8 s\n",
      "Wall time: 17.2 s\n"
     ]
    }
   ],
   "source": [
    "%%time \n",
    "\n",
    "param_grid = {\"method\": [\"first_order\", \"second_order\", \"first_order_thres\", \"ols\"],\n",
    "              \"knot_dist\": [\"uniform\", \"quantile\"],\n",
    "              \"reg_lambda\": [0.1, 0.2, 0.3, 0.4, 0.5], \n",
    "              \"reg_gamma\": np.logspace(-9, 0, 10)}\n",
    "grid = GridSearchCV(SimClassifier(spline=\"smoothing_spline\", knot_num=20, random_state=0), iid=False,\n",
    "                    cv=KFold(3, shuffle=True, random_state=0), param_grid=param_grid, n_jobs=-1, verbose=2, error_score=np.nan)\n",
    "grid.fit(x, y)"
   ]
  },
  {
   "cell_type": "code",
   "execution_count": 11,
   "metadata": {
    "ExecuteTime": {
     "end_time": "2020-05-30T03:55:21.106244Z",
     "start_time": "2020-05-30T03:55:21.101964Z"
    }
   },
   "outputs": [
    {
     "data": {
      "text/plain": [
       "{'knot_dist': 'uniform',\n",
       " 'method': 'second_order',\n",
       " 'reg_gamma': 1e-07,\n",
       " 'reg_lambda': 0.1}"
      ]
     },
     "execution_count": 11,
     "metadata": {},
     "output_type": "execute_result"
    }
   ],
   "source": [
    "grid.best_params_"
   ]
  },
  {
   "cell_type": "markdown",
   "metadata": {},
   "source": [
    "**NB**: The second-order Setin's method is selected, as $\\mathbb{E}[f^{\\prime}(u)]=0$. Therefore, the first order method cannot provide any information about the projection coefficients. "
   ]
  },
  {
   "cell_type": "code",
   "execution_count": 12,
   "metadata": {
    "ExecuteTime": {
     "end_time": "2020-05-30T03:55:21.111929Z",
     "start_time": "2020-05-30T03:55:21.107641Z"
    }
   },
   "outputs": [
    {
     "data": {
      "text/plain": [
       "SimClassifier(degree=2, knot_dist='uniform', knot_num=20, method='second_order',\n",
       "              random_state=0, reg_gamma=1e-07, reg_lambda=0.1,\n",
       "              spline='smoothing_spline')"
      ]
     },
     "execution_count": 12,
     "metadata": {},
     "output_type": "execute_result"
    }
   ],
   "source": [
    "clf = grid.best_estimator_\n",
    "clf"
   ]
  },
  {
   "cell_type": "code",
   "execution_count": 13,
   "metadata": {
    "ExecuteTime": {
     "end_time": "2020-05-30T03:55:21.371431Z",
     "start_time": "2020-05-30T03:55:21.113141Z"
    }
   },
   "outputs": [
    {
     "data": {
      "image/png": "[encoded data removed]",
      "text/plain": [
       "<Figure size 432x288 with 1 Axes>"
      ]
     },
     "metadata": {
      "needs_background": "light"
     },
     "output_type": "display_data"
    }
   ],
   "source": [
    "plt.plot(clf.beta_, \"o\")\n",
    "plt.plot(beta, \"o\")\n",
    "plt.legend([\"Estimated\", \"Ground Truth\"])\n",
    "plt.show()"
   ]
  },
  {
   "cell_type": "code",
   "execution_count": 14,
   "metadata": {
    "ExecuteTime": {
     "end_time": "2020-05-30T03:55:21.906724Z",
     "start_time": "2020-05-30T03:55:21.373111Z"
    },
    "scrolled": false
   },
   "outputs": [
    {
     "data": {
      "image/png": "[encoded data removed]",
      "text/plain": [
       "<Figure size 864x288 with 3 Axes>"
      ]
     },
     "metadata": {
      "needs_background": "light"
     },
     "output_type": "display_data"
    }
   ],
   "source": [
    "grid.best_estimator_.visualize()"
   ]
  },
  {
   "cell_type": "markdown",
   "metadata": {},
   "source": [
    "## Case 3: Improve a rough estimator via inner update"
   ]
  },
  {
   "cell_type": "code",
   "execution_count": 15,
   "metadata": {
    "ExecuteTime": {
     "end_time": "2020-05-30T03:55:22.010157Z",
     "start_time": "2020-05-30T03:55:21.908820Z"
    },
    "scrolled": true
   },
   "outputs": [],
   "source": [
    "s_star = 5\n",
    "n_features = 100\n",
    "n_samples = 10000\n",
    "\n",
    "np.random.seed(1)\n",
    "beta = np.zeros(n_features)\n",
    "supp_ids = np.random.choice(n_features, s_star)\n",
    "beta[supp_ids]=np.random.choice((-1, 1), s_star) / np.sqrt(s_star)\n",
    "\n",
    "x = np.random.gamma(1, 0.3, size=(n_samples, n_features))\n",
    "y = 5 * np.dot(x, beta) ** 2 + 0.1 * np.random.randn(n_samples)\n",
    "ymu = np.mean(y)\n",
    "y[y > ymu] = 1\n",
    "y[y <= ymu] = 0"
   ]
  },
  {
   "cell_type": "code",
   "execution_count": 16,
   "metadata": {
    "ExecuteTime": {
     "end_time": "2020-05-30T03:55:23.131881Z",
     "start_time": "2020-05-30T03:55:22.013388Z"
    },
    "scrolled": true
   },
   "outputs": [
    {
     "data": {
      "image/png": "[encoded data removed]",
      "text/plain": [
       "<Figure size 864x288 with 3 Axes>"
      ]
     },
     "metadata": {
      "needs_background": "light"
     },
     "output_type": "display_data"
    },
    {
     "name": "stdout",
     "output_type": "stream",
     "text": [
      "CPU times: user 3.08 s, sys: 6.63 s, total: 9.71 s\n",
      "Wall time: 1.11 s\n"
     ]
    }
   ],
   "source": [
    "%%time \n",
    "\n",
    "clf = SimClassifier(degree=2, knot_num=20, reg_lambda=0.1, reg_gamma=10**(-6), spline=\"smoothing_spline\", random_state=0)\n",
    "clf.fit(x, y)\n",
    "clf.visualize()"
   ]
  },
  {
   "cell_type": "markdown",
   "metadata": {},
   "source": [
    "To improve the solution, we provide two options for inner update: **adam optimizer** and **BFGS optimizer**."
   ]
  },
  {
   "cell_type": "code",
   "execution_count": 17,
   "metadata": {
    "ExecuteTime": {
     "end_time": "2020-05-30T03:55:58.216725Z",
     "start_time": "2020-05-30T03:55:23.133482Z"
    },
    "scrolled": true
   },
   "outputs": [
    {
     "name": "stdout",
     "output_type": "stream",
     "text": [
      "Inner iter: 1 epoch: 1 with validation loss: 0.40344\n",
      "Inner iter: 1 epoch: 2 with validation loss: 0.39867\n",
      "Inner iter: 1 epoch: 3 with validation loss: 0.39568\n",
      "Inner iter: 1 epoch: 4 with validation loss: 0.39206\n",
      "Inner iter: 1 epoch: 5 with validation loss: 0.38904\n",
      "Inner iter: 1 epoch: 6 with validation loss: 0.38546\n",
      "Inner iter: 1 epoch: 7 with validation loss: 0.38303\n",
      "Inner iter: 1 epoch: 8 with validation loss: 0.37895\n",
      "Inner iter: 1 epoch: 9 with validation loss: 0.37545\n",
      "Inner iter: 1 epoch: 10 with validation loss: 0.37205\n",
      "Inner iter: 1 epoch: 11 with validation loss: 0.36869\n",
      "Inner iter: 1 epoch: 12 with validation loss: 0.36555\n",
      "Inner iter: 1 epoch: 13 with validation loss: 0.36252\n",
      "Inner iter: 1 epoch: 14 with validation loss: 0.35925\n",
      "Inner iter: 1 epoch: 15 with validation loss: 0.35745\n",
      "Inner iter: 1 epoch: 16 with validation loss: 0.35335\n",
      "Inner iter: 1 epoch: 17 with validation loss: 0.35184\n",
      "Inner iter: 1 epoch: 18 with validation loss: 0.34772\n",
      "Inner iter: 1 epoch: 19 with validation loss: 0.34532\n",
      "Inner iter: 1 epoch: 20 with validation loss: 0.34288\n",
      "Inner iter: 1 epoch: 21 with validation loss: 0.33965\n",
      "Inner iter: 1 epoch: 22 with validation loss: 0.33858\n",
      "Inner iter: 1 epoch: 23 with validation loss: 0.3352\n",
      "Inner iter: 1 epoch: 24 with validation loss: 0.33329\n",
      "Inner iter: 1 epoch: 25 with validation loss: 0.33127\n",
      "Inner iter: 1 epoch: 26 with validation loss: 0.32847\n",
      "Inner iter: 1 epoch: 27 with validation loss: 0.32775\n",
      "Inner iter: 1 epoch: 28 with validation loss: 0.32515\n",
      "Inner iter: 1 epoch: 29 with validation loss: 0.3228\n",
      "Inner iter: 1 epoch: 30 with validation loss: 0.32286\n",
      "Inner iter: 1 epoch: 31 with validation loss: 0.32015\n",
      "Inner iter: 1 epoch: 32 with validation loss: 0.31817\n",
      "Inner iter: 1 epoch: 33 with validation loss: 0.31734\n",
      "Inner iter: 1 epoch: 34 with validation loss: 0.31486\n",
      "Inner iter: 1 epoch: 35 with validation loss: 0.31498\n",
      "Inner iter: 1 epoch: 36 with validation loss: 0.31291\n",
      "Inner iter: 1 epoch: 37 with validation loss: 0.311\n",
      "Inner iter: 1 epoch: 38 with validation loss: 0.31019\n",
      "Inner iter: 1 epoch: 39 with validation loss: 0.31019\n",
      "Inner iter: 1 epoch: 40 with validation loss: 0.30768\n",
      "Inner iter: 1 epoch: 41 with validation loss: 0.30713\n",
      "Inner iter: 1 epoch: 42 with validation loss: 0.30596\n",
      "Inner iter: 1 epoch: 43 with validation loss: 0.30717\n",
      "Inner iter: 1 epoch: 44 with validation loss: 0.30384\n",
      "Inner iter: 1 epoch: 45 with validation loss: 0.30388\n",
      "Inner iter: 1 epoch: 46 with validation loss: 0.30314\n",
      "Inner iter: 1 epoch: 47 with validation loss: 0.30262\n",
      "Inner iter: 1 epoch: 48 with validation loss: 0.3036\n",
      "Inner iter: 1 epoch: 49 with validation loss: 0.29985\n",
      "Inner iter: 1 epoch: 50 with validation loss: 0.30338\n",
      "Inner iter: 1 epoch: 51 with validation loss: 0.29874\n",
      "Inner iter: 1 epoch: 52 with validation loss: 0.30065\n",
      "Inner iter: 1 epoch: 53 with validation loss: 0.29878\n",
      "Inner iter: 1 epoch: 54 with validation loss: 0.29841\n",
      "Inner iter: 1 epoch: 55 with validation loss: 0.29773\n",
      "Inner iter: 1 epoch: 56 with validation loss: 0.29756\n",
      "Inner iter: 1 epoch: 57 with validation loss: 0.29754\n",
      "Inner iter: 1 epoch: 58 with validation loss: 0.29662\n",
      "Inner iter: 1 epoch: 59 with validation loss: 0.29719\n",
      "Inner iter: 1 epoch: 60 with validation loss: 0.29563\n",
      "Inner iter: 1 epoch: 61 with validation loss: 0.29561\n",
      "Inner iter: 1 epoch: 62 with validation loss: 0.29608\n",
      "Inner iter: 1 epoch: 63 with validation loss: 0.29483\n",
      "Inner iter: 1 epoch: 64 with validation loss: 0.29547\n",
      "Inner iter: 1 epoch: 65 with validation loss: 0.29403\n",
      "Inner iter: 1 epoch: 66 with validation loss: 0.29562\n",
      "Inner iter: 1 epoch: 67 with validation loss: 0.29362\n",
      "Inner iter: 1 epoch: 68 with validation loss: 0.29417\n",
      "Inner iter: 1 epoch: 69 with validation loss: 0.29357\n",
      "Inner iter: 1 epoch: 70 with validation loss: 0.29333\n",
      "Inner iter: 1 epoch: 71 with validation loss: 0.2934\n",
      "Inner iter: 1 epoch: 72 with validation loss: 0.29321\n",
      "Inner iter: 1 epoch: 73 with validation loss: 0.29305\n",
      "Inner iter: 1 epoch: 74 with validation loss: 0.29285\n",
      "Inner iter: 1 epoch: 75 with validation loss: 0.29322\n",
      "Inner iter: 1 epoch: 76 with validation loss: 0.29231\n",
      "Inner iter: 1 epoch: 77 with validation loss: 0.29283\n",
      "Inner iter: 1 epoch: 78 with validation loss: 0.29226\n",
      "Inner iter: 1 epoch: 79 with validation loss: 0.29234\n",
      "Inner iter: 1 epoch: 80 with validation loss: 0.2926\n",
      "Inner iter: 1 epoch: 81 with validation loss: 0.29191\n",
      "Inner iter: 1 epoch: 82 with validation loss: 0.29197\n",
      "Inner iter: 1 epoch: 83 with validation loss: 0.29239\n",
      "Inner iter: 1 epoch: 84 with validation loss: 0.29182\n",
      "Inner iter: 1 epoch: 85 with validation loss: 0.29181\n",
      "Inner iter: 1 epoch: 86 with validation loss: 0.29157\n",
      "Inner iter: 1 epoch: 87 with validation loss: 0.29166\n",
      "Inner iter: 1 epoch: 88 with validation loss: 0.29158\n",
      "Inner iter: 1 epoch: 89 with validation loss: 0.29177\n",
      "Inner iter: 1 epoch: 90 with validation loss: 0.29151\n",
      "Inner iter: 1 epoch: 91 with validation loss: 0.29196\n",
      "Inner iter: 2 epoch: 1 with validation loss: 0.12952\n",
      "Inner iter: 2 epoch: 2 with validation loss: 0.12668\n",
      "Inner iter: 2 epoch: 3 with validation loss: 0.12648\n",
      "Inner iter: 2 epoch: 4 with validation loss: 0.12464\n",
      "Inner iter: 2 epoch: 5 with validation loss: 0.12459\n",
      "Inner iter: 2 epoch: 6 with validation loss: 0.12344\n",
      "Inner iter: 2 epoch: 7 with validation loss: 0.12343\n",
      "Inner iter: 2 epoch: 8 with validation loss: 0.12294\n",
      "Inner iter: 2 epoch: 9 with validation loss: 0.12281\n",
      "Inner iter: 2 epoch: 10 with validation loss: 0.12267\n",
      "Inner iter: 2 epoch: 11 with validation loss: 0.12306\n",
      "Inner iter: 2 epoch: 12 with validation loss: 0.1228\n",
      "Inner iter: 2 epoch: 13 with validation loss: 0.1249\n",
      "Inner iter: 2 epoch: 14 with validation loss: 0.12288\n",
      "Inner iter: 2 epoch: 15 with validation loss: 0.12291\n",
      "Inner iter: 3 epoch: 1 with validation loss: 0.12184\n",
      "Inner iter: 3 epoch: 2 with validation loss: 0.12132\n",
      "Inner iter: 3 epoch: 3 with validation loss: 0.11818\n",
      "Inner iter: 3 epoch: 4 with validation loss: 0.1177\n",
      "Inner iter: 3 epoch: 5 with validation loss: 0.11717\n",
      "Inner iter: 3 epoch: 6 with validation loss: 0.11696\n",
      "Inner iter: 3 epoch: 7 with validation loss: 0.11798\n",
      "Inner iter: 3 epoch: 8 with validation loss: 0.11719\n",
      "Inner iter: 3 epoch: 9 with validation loss: 0.11742\n",
      "Inner iter: 3 epoch: 10 with validation loss: 0.11711\n",
      "Inner iter: 3 epoch: 11 with validation loss: 0.11727\n"
     ]
    },
    {
     "data": {
      "image/png": "[encoded data removed]",
      "text/plain": [
       "<Figure size 864x288 with 3 Axes>"
      ]
     },
     "metadata": {
      "needs_background": "light"
     },
     "output_type": "display_data"
    }
   ],
   "source": [
    "clf = SimClassifier(degree=2, knot_num=20, reg_lambda=0.1, reg_gamma=10**(-6), spline=\"smoothing_spline\", random_state=0)\n",
    "clf.fit(x, y)\n",
    "clf.fit_inner_update(x, y, method=\"adam\", n_inner_iter_no_change=1, batch_size=1000, verbose=True)\n",
    "clf.visualize()"
   ]
  },
  {
   "cell_type": "code",
   "execution_count": 18,
   "metadata": {
    "ExecuteTime": {
     "end_time": "2020-05-30T03:56:14.303319Z",
     "start_time": "2020-05-30T03:55:58.218805Z"
    }
   },
   "outputs": [
    {
     "name": "stdout",
     "output_type": "stream",
     "text": [
      "Inner iter: 1 with validation loss: 0.16602\n",
      "Inner iter: 2 with validation loss: 0.16602\n"
     ]
    },
    {
     "data": {
      "image/png": "[encoded data removed]",
      "text/plain": [
       "<Figure size 864x288 with 3 Axes>"
      ]
     },
     "metadata": {
      "needs_background": "light"
     },
     "output_type": "display_data"
    }
   ],
   "source": [
    "clf = SimClassifier(degree=2, knot_num=20, reg_lambda=0.1, reg_gamma=10**(-6), spline=\"smoothing_spline\", random_state=0)\n",
    "clf.fit(x, y)\n",
    "clf.fit_inner_update(x, y, method=\"bfgs\", n_inner_iter_no_change=1, verbose=True)\n",
    "clf.visualize()"
   ]
  },
  {
   "cell_type": "code",
   "execution_count": 19,
   "metadata": {
    "ExecuteTime": {
     "end_time": "2020-05-30T03:56:14.369698Z",
     "start_time": "2020-05-30T03:56:14.305686Z"
    }
   },
   "outputs": [
    {
     "data": {
      "text/plain": [
       "array([-4.41356392, -4.20868419,  1.60010646, ..., 10.34069742,\n",
       "       -3.56549652,  0.20217125])"
      ]
     },
     "execution_count": 19,
     "metadata": {},
     "output_type": "execute_result"
    }
   ],
   "source": [
    "clf.shape_fit_.decision_function(np.dot(x, clf.beta_))"
   ]
  },
  {
   "cell_type": "markdown",
   "metadata": {},
   "source": [
    "**Remark**: fit_inner_update is not available for spline=\"p_spline\" or \"mono_p_spline\""
   ]
  }
 ],
 "metadata": {
  "kernelspec": {
   "display_name": "Python (tf2)",
   "language": "python",
   "name": "tf2"
  },
  "language_info": {
   "codemirror_mode": {
    "name": "ipython",
    "version": 3
   },
   "file_extension": ".py",
   "mimetype": "text/x-python",
   "name": "python",
   "nbconvert_exporter": "python",
   "pygments_lexer": "ipython3",
   "version": "3.6.8"
  },
  "latex_envs": {
   "LaTeX_envs_menu_present": true,
   "autoclose": false,
   "autocomplete": true,
   "bibliofile": "biblio.bib",
   "cite_by": "apalike",
   "current_citInitial": 1,
   "eqLabelWithNumbers": true,
   "eqNumInitial": 1,
   "hotkeys": {
    "equation": "Ctrl-E",
    "itemize": "Ctrl-I"
   },
   "labels_anchors": false,
   "latex_user_defs": false,
   "report_style_numbering": false,
   "user_envs_cfg": false
  },
  "varInspector": {
   "cols": {
    "lenName": 16,
    "lenType": 16,
    "lenVar": 40
   },
   "kernels_config": {
    "python": {
     "delete_cmd_postfix": "",
     "delete_cmd_prefix": "del ",
     "library": "var_list.py",
     "varRefreshCmd": "print(var_dic_list())"
    },
    "r": {
     "delete_cmd_postfix": ") ",
     "delete_cmd_prefix": "rm(",
     "library": "var_list.r",
     "varRefreshCmd": "cat(var_dic_list()) "
    }
   },
   "types_to_exclude": [
    "module",
    "function",
    "builtin_function_or_method",
    "instance",
    "_Feature"
   ],
   "window_display": false
  }
 },
 "nbformat": 4,
 "nbformat_minor": 2
}
