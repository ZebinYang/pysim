{
 "cells": [
  {
   "cell_type": "markdown",
   "metadata": {},
   "source": [
    "## SIM Training by Stein's Method"
   ]
  },
  {
   "cell_type": "code",
   "execution_count": 1,
   "metadata": {},
   "outputs": [],
   "source": [
    "import numpy as np\n",
    "from matplotlib import pylab as plt\n",
    "from sklearn.model_selection import KFold\n",
    "from sklearn.model_selection import GridSearchCV\n",
    "from sklearn.preprocessing import MinMaxScaler\n",
    "from sklearn.metrics import make_scorer, roc_auc_score\n",
    "\n",
    "from pysim import SIMClassifier"
   ]
  },
  {
   "cell_type": "markdown",
   "metadata": {},
   "source": [
    "## pySIM - A python package for Sparse SIM "
   ]
  },
  {
   "cell_type": "markdown",
   "metadata": {},
   "source": [
    "**To install**:\n",
    "    \n",
    "```sheel\n",
    "    pip install git+https://github.com/Zebinyang/pysim.git\n",
    "```\n",
    "\n",
    "Note pysim will call the R package fps (https://github.com/vqv/fps) using rpy2 interface. "
   ]
  },
  {
   "cell_type": "markdown",
   "metadata": {},
   "source": [
    "```python\n",
    "from pysim import SIMClassifier\n",
    "clf = SIMClassifier(method=\"first_order\", spline=\"a_spline\", reg_lambda=0.1, reg_gamma=0.1, knot_num=20, degree=2, random_state=0)\n",
    "## clf.fit(x, y)\n",
    "```"
   ]
  },
  {
   "cell_type": "markdown",
   "metadata": {},
   "source": [
    "**Usage**"
   ]
  },
  {
   "cell_type": "markdown",
   "metadata": {},
   "source": [
    "**Hyperparameters**\n",
    "\n",
    "- method: the base method for estimating the projection coefficients in sparse SIM. default=\"first_order\"\n",
    "\n",
    "        \"first_order\": First-order Stein's Identity via sparse PCA solver\n",
    "\n",
    "        \"second_order\": Second-order Stein's Identity via sparse PCA solver\n",
    "\n",
    "        \"first_order_thres\": First-order Stein's Identity via hard thresholding (A simplified verison)        \n",
    "    \n",
    "- spline: The type of spline method. default=\"a_spline\"\n",
    "\n",
    "        \"p_spline\": p-spline (from pygam package)\n",
    "    \n",
    "        \"p_spline_mono\": p-spline with monotonic constraint (from pygam package)\n",
    "    \n",
    "        \"a_spline\": adaptive spline where knots are automatically selected (see Goepp, V., Bouaziz, O. and Nuel, G., 2018. Spline regression with automatic knot selection. arXiv preprint arXiv:1808.01770.)\n",
    "\n",
    "- reg_lambda: The regularization strength of sparsity of beta. default=0.1, from 0 to 1 \n",
    "\n",
    "- reg_gamma: The regularization strength of the spline algorithm. default=0.1, from 0 to $+\\infty$\n",
    "\n",
    "- degree: The order of the spline basis. default=2\n",
    "\n",
    "- knot_num: The number of knots spanned uniformly over the domain. default=20\n",
    "\n",
    "- random_state: the random seed. default=0"
   ]
  },
  {
   "cell_type": "markdown",
   "metadata": {},
   "source": [
    "# Case 1: Sine Ridge Function"
   ]
  },
  {
   "cell_type": "markdown",
   "metadata": {},
   "source": [
    "- covariates: $x\\sim N(0, 0.3^2)$\n",
    "- ridge function: $ f(u) = \\sin{(u\\pi)} $\n",
    "- projection: $ u = \\beta^{T} x $, where $\\beta$ has 5 non-zero entries\n",
    "- noise: $N(0, 1)$\n",
    "- sample size: 10000\n",
    "- feature size: 100"
   ]
  },
  {
   "cell_type": "code",
   "execution_count": 42,
   "metadata": {
    "scrolled": true
   },
   "outputs": [],
   "source": [
    "s_star = 5\n",
    "n_features = 100\n",
    "n_samples = 10000\n",
    "\n",
    "np.random.seed(0)\n",
    "beta = np.zeros(n_features)\n",
    "supp_ids = np.random.choice(n_features, s_star)\n",
    "beta[supp_ids]=np.random.choice((-1, 1), s_star) / np.sqrt(s_star)\n",
    "\n",
    "x = np.random.normal(0, 0.3, size=(n_samples, n_features))\n",
    "y = np.sin(np.pi*(np.dot(x, beta))) + 0.1 * np.random.randn(n_samples)\n",
    "ymu = np.mean(y)\n",
    "y[y > ymu] = 1\n",
    "y[y <= ymu] = 0"
   ]
  },
  {
   "cell_type": "code",
   "execution_count": 3,
   "metadata": {},
   "outputs": [
    {
     "data": {
      "text/plain": [
       "<matplotlib.collections.PathCollection at 0x7f9f7419f198>"
      ]
     },
     "execution_count": 3,
     "metadata": {},
     "output_type": "execute_result"
    },
    {
     "data": {
      "image/png": "[encoded data removed]",
      "text/plain": [
       "<Figure size 432x288 with 1 Axes>"
      ]
     },
     "metadata": {
      "needs_background": "light"
     },
     "output_type": "display_data"
    }
   ],
   "source": [
    "plt.scatter(np.dot(x, beta), y)"
   ]
  },
  {
   "cell_type": "markdown",
   "metadata": {},
   "source": [
    "The best hyperparameter combination can be selected via cross-validation"
   ]
  },
  {
   "cell_type": "code",
   "execution_count": 4,
   "metadata": {
    "scrolled": true
   },
   "outputs": [
    {
     "name": "stdout",
     "output_type": "stream",
     "text": [
      "Fitting 3 folds for each of 20 candidates, totalling 60 fits\n"
     ]
    },
    {
     "name": "stderr",
     "output_type": "stream",
     "text": [
      "[Parallel(n_jobs=-1)]: Using backend LokyBackend with 64 concurrent workers.\n",
      "[Parallel(n_jobs=-1)]: Done  26 out of  60 | elapsed:   53.1s remaining:  1.2min\n",
      "[Parallel(n_jobs=-1)]: Done  57 out of  60 | elapsed:  1.0min remaining:    3.3s\n",
      "[Parallel(n_jobs=-1)]: Done  60 out of  60 | elapsed:  1.0min finished\n"
     ]
    },
    {
     "name": "stdout",
     "output_type": "stream",
     "text": [
      "CPU times: user 10.3 s, sys: 25.1 s, total: 35.4 s\n",
      "Wall time: 1min 2s\n"
     ]
    }
   ],
   "source": [
    "%%time \n",
    "\n",
    "param_grid = {\"method\": [\"first_order\", \"second_order\"],\n",
    "              \"reg_lambda\": [0.05, 0.1], \n",
    "              \"reg_gamma\": np.logspace(-2, 2, 5)}\n",
    "grid = GridSearchCV(SIMClassifier(degree=2, knot_num=20, spline=\"a_spline\", random_state=0), \n",
    "                    cv=KFold(3, shuffle=True, random_state=0), \n",
    "                    scoring={\"auc\": make_scorer(roc_auc_score)},\n",
    "                    param_grid=param_grid, n_jobs=-1, verbose=2, refit=\"auc\", error_score=np.nan)\n",
    "grid.fit(x, y)"
   ]
  },
  {
   "cell_type": "code",
   "execution_count": 5,
   "metadata": {},
   "outputs": [
    {
     "data": {
      "text/plain": [
       "{'method': 'first_order', 'reg_gamma': 100.0, 'reg_lambda': 0.05}"
      ]
     },
     "execution_count": 5,
     "metadata": {},
     "output_type": "execute_result"
    }
   ],
   "source": [
    "grid.best_params_"
   ]
  },
  {
   "cell_type": "markdown",
   "metadata": {},
   "source": [
    "**NB**: The first-order Setin's method is selected, as $\\mathbb{E}[f^{\\prime\\prime}(u)]=0$. Therefore, the second order method cannot provide any information about the projection coefficients. "
   ]
  },
  {
   "cell_type": "markdown",
   "metadata": {},
   "source": [
    "In this case, the first-order Setin's method is selected. "
   ]
  },
  {
   "cell_type": "code",
   "execution_count": 6,
   "metadata": {},
   "outputs": [
    {
     "data": {
      "text/plain": [
       "SIMClassifier(degree=2, knot_num=20, method='first_order', random_state=0,\n",
       "              reg_gamma=100.0, reg_lambda=0.05, spline='a_spline')"
      ]
     },
     "execution_count": 6,
     "metadata": {},
     "output_type": "execute_result"
    }
   ],
   "source": [
    "clf = grid.best_estimator_\n",
    "clf"
   ]
  },
  {
   "cell_type": "code",
   "execution_count": 7,
   "metadata": {},
   "outputs": [
    {
     "data": {
      "image/png": "[encoded data removed]",
      "text/plain": [
       "<Figure size 432x288 with 1 Axes>"
      ]
     },
     "metadata": {
      "needs_background": "light"
     },
     "output_type": "display_data"
    }
   ],
   "source": [
    "plt.plot(clf.beta_, \"o\")\n",
    "plt.plot(beta, \"o\")\n",
    "plt.legend([\"Estimated\", \"Ground Truth\"])\n",
    "plt.show()"
   ]
  },
  {
   "cell_type": "code",
   "execution_count": 8,
   "metadata": {
    "scrolled": true
   },
   "outputs": [
    {
     "data": {
      "image/png": "[encoded data removed]",
      "text/plain": [
       "<Figure size 864x288 with 2 Axes>"
      ]
     },
     "metadata": {
      "needs_background": "light"
     },
     "output_type": "display_data"
    }
   ],
   "source": [
    "grid.best_estimator_.visualize()"
   ]
  },
  {
   "cell_type": "markdown",
   "metadata": {},
   "source": [
    "## Case 2: Quadratic Ridge Function"
   ]
  },
  {
   "cell_type": "markdown",
   "metadata": {},
   "source": [
    "- covariates: $x\\sim N(0, 0.3^2)$\n",
    "- ridge function: $ f(u) = u^{2} $\n",
    "- projection: $ u = \\beta^{T} x $, where $\\beta$ has 5 non-zero entries\n",
    "- noise: $N(0, 1)$\n",
    "- sample size: 10000\n",
    "- feature size: 100"
   ]
  },
  {
   "cell_type": "code",
   "execution_count": 9,
   "metadata": {
    "scrolled": true
   },
   "outputs": [],
   "source": [
    "s_star = 5\n",
    "n_features = 100\n",
    "n_samples = 10000\n",
    "\n",
    "np.random.seed(0)\n",
    "beta = np.zeros(n_features)\n",
    "supp_ids = np.random.choice(n_features, s_star)\n",
    "beta[supp_ids]=np.random.choice((-1, 1), s_star) / np.sqrt(s_star)\n",
    "\n",
    "x = np.random.normal(0, 0.3, size=(n_samples, n_features))\n",
    "y = np.dot(x, beta) ** 2 + 0.1 * np.random.randn(n_samples)\n",
    "ymu = np.mean(y)\n",
    "y[y > ymu] = 1\n",
    "y[y <= ymu] = 0"
   ]
  },
  {
   "cell_type": "code",
   "execution_count": 10,
   "metadata": {},
   "outputs": [
    {
     "data": {
      "text/plain": [
       "<matplotlib.collections.PathCollection at 0x7f9f6c88e198>"
      ]
     },
     "execution_count": 10,
     "metadata": {},
     "output_type": "execute_result"
    },
    {
     "data": {
      "image/png": "[encoded data removed]",
      "text/plain": [
       "<Figure size 432x288 with 1 Axes>"
      ]
     },
     "metadata": {
      "needs_background": "light"
     },
     "output_type": "display_data"
    }
   ],
   "source": [
    "plt.scatter(np.dot(x, beta), y)"
   ]
  },
  {
   "cell_type": "code",
   "execution_count": 11,
   "metadata": {
    "scrolled": true
   },
   "outputs": [
    {
     "name": "stdout",
     "output_type": "stream",
     "text": [
      "Fitting 3 folds for each of 20 candidates, totalling 60 fits\n"
     ]
    },
    {
     "name": "stderr",
     "output_type": "stream",
     "text": [
      "[Parallel(n_jobs=-1)]: Using backend LokyBackend with 64 concurrent workers.\n",
      "[Parallel(n_jobs=-1)]: Done  26 out of  60 | elapsed:   47.2s remaining:  1.0min\n",
      "[Parallel(n_jobs=-1)]: Done  57 out of  60 | elapsed:   52.8s remaining:    2.8s\n",
      "[Parallel(n_jobs=-1)]: Done  60 out of  60 | elapsed:   57.0s finished\n"
     ]
    },
    {
     "name": "stdout",
     "output_type": "stream",
     "text": [
      "CPU times: user 12.6 s, sys: 28.6 s, total: 41.2 s\n",
      "Wall time: 57.7 s\n"
     ]
    }
   ],
   "source": [
    "%%time \n",
    "\n",
    "param_grid = {\"method\": [\"first_order\", \"second_order\"],\n",
    "              \"reg_lambda\": [0.05, 0.1], \n",
    "              \"reg_gamma\": np.logspace(-2, 2, 5)}\n",
    "grid = GridSearchCV(SIMClassifier(degree=2, knot_num=20, spline=\"a_spline\", random_state=0), \n",
    "                    cv=KFold(3, shuffle=True, random_state=0), \n",
    "                    scoring={\"auc\": make_scorer(roc_auc_score)},\n",
    "                    param_grid=param_grid, n_jobs=-1, verbose=2, refit=\"auc\", error_score=np.nan)\n",
    "grid.fit(x, y)"
   ]
  },
  {
   "cell_type": "code",
   "execution_count": 12,
   "metadata": {},
   "outputs": [
    {
     "data": {
      "text/plain": [
       "{'method': 'second_order', 'reg_gamma': 10.0, 'reg_lambda': 0.05}"
      ]
     },
     "execution_count": 12,
     "metadata": {},
     "output_type": "execute_result"
    }
   ],
   "source": [
    "grid.best_params_"
   ]
  },
  {
   "cell_type": "markdown",
   "metadata": {},
   "source": [
    "**NB**: The second-order Setin's method is selected, as $\\mathbb{E}[f^{\\prime}(u)]=0$. Therefore, the first order method cannot provide any information about the projection coefficients. "
   ]
  },
  {
   "cell_type": "code",
   "execution_count": 13,
   "metadata": {},
   "outputs": [
    {
     "data": {
      "text/plain": [
       "SIMClassifier(degree=2, knot_num=20, method='second_order', random_state=0,\n",
       "              reg_gamma=10.0, reg_lambda=0.05, spline='a_spline')"
      ]
     },
     "execution_count": 13,
     "metadata": {},
     "output_type": "execute_result"
    }
   ],
   "source": [
    "clf = grid.best_estimator_\n",
    "clf"
   ]
  },
  {
   "cell_type": "code",
   "execution_count": 14,
   "metadata": {},
   "outputs": [
    {
     "data": {
      "image/png": "[encoded data removed]",
      "text/plain": [
       "<Figure size 432x288 with 1 Axes>"
      ]
     },
     "metadata": {
      "needs_background": "light"
     },
     "output_type": "display_data"
    }
   ],
   "source": [
    "plt.plot(clf.beta_, \"o\")\n",
    "plt.plot(beta, \"o\")\n",
    "plt.legend([\"Estimated\", \"Ground Truth\"])\n",
    "plt.show()"
   ]
  },
  {
   "cell_type": "code",
   "execution_count": 15,
   "metadata": {
    "scrolled": true
   },
   "outputs": [
    {
     "data": {
      "image/png": "[encoded data removed]",
      "text/plain": [
       "<Figure size 864x288 with 2 Axes>"
      ]
     },
     "metadata": {
      "needs_background": "light"
     },
     "output_type": "display_data"
    }
   ],
   "source": [
    "grid.best_estimator_.visualize()"
   ]
  },
  {
   "cell_type": "code",
   "execution_count": null,
   "metadata": {},
   "outputs": [],
   "source": [
    "x = np.dot(x, grid.best_estimator_.beta_)\n",
    "y = y"
   ]
  },
  {
   "cell_type": "code",
   "execution_count": 51,
   "metadata": {
    "scrolled": true
   },
   "outputs": [
    {
     "name": "stdout",
     "output_type": "stream",
     "text": [
      "10000\n",
      "10000\n",
      "10000\n",
      "10000\n",
      "10000\n",
      "10000\n",
      "10000\n",
      "10000\n",
      "10000\n",
      "10000\n",
      "10000\n",
      "10000\n",
      "10000\n",
      "10000\n",
      "10000\n",
      "10000\n",
      "10000\n",
      "10000\n",
      "10000\n",
      "10000\n",
      "10000\n",
      "10000\n",
      "10000\n",
      "10000\n",
      "10000\n",
      "10000\n",
      "10000\n",
      "10000\n",
      "10000\n",
      "10000\n",
      "10000\n",
      "10000\n",
      "10000\n",
      "10000\n",
      "10000\n",
      "10000\n",
      "10000\n",
      "10000\n",
      "10000\n",
      "10000\n",
      "10000\n",
      "10000\n",
      "10000\n",
      "10000\n",
      "10000\n",
      "10000\n",
      "10000\n",
      "10000\n",
      "10000\n",
      "10000\n",
      "10000\n",
      "10000\n",
      "10000\n",
      "10000\n",
      "10000\n",
      "10000\n",
      "10000\n",
      "10000\n",
      "10000\n",
      "10000\n",
      "10000\n",
      "10000\n",
      "10000\n",
      "10000\n",
      "10000\n",
      "10000\n",
      "10000\n",
      "10000\n",
      "10000\n",
      "10000\n",
      "10000\n",
      "10000\n",
      "10000\n",
      "10000\n",
      "10000\n",
      "10000\n",
      "10000\n",
      "10000\n",
      "10000\n",
      "10000\n",
      "10000\n",
      "10000\n",
      "10000\n",
      "10000\n",
      "10000\n",
      "10000\n",
      "10000\n",
      "10000\n",
      "10000\n",
      "10000\n",
      "10000\n",
      "10000\n",
      "10000\n",
      "10000\n",
      "10000\n",
      "10000\n",
      "10000\n",
      "10000\n",
      "10000\n",
      "10000\n",
      "[-5.32339074 -2.66880811 -6.01089924  6.48520625  1.52955668  8.41717809]\n",
      "CPU times: user 10.6 s, sys: 23.6 s, total: 34.2 s\n",
      "Wall time: 583 ms\n"
     ]
    }
   ],
   "source": [
    "%%time \n",
    "\n",
    "from patsy import dmatrix, build_design_matrices\n",
    "\n",
    "def diff_matrix(order, knot_num):\n",
    "    results = [] # a container to collect the rows\n",
    "    n_rows = order + 2\n",
    "    for _ in range(n_rows): \n",
    "        row = [1] # a starter 1 in the row\n",
    "        if results: # then we're in the second row or beyond\n",
    "            last_row = results[-1] # reference the previous row\n",
    "            row.extend([sum(pair) for pair in zip(last_row, last_row[1:])])\n",
    "            row.append(1)\n",
    "        results.append(row) # add the row to the results.\n",
    "\n",
    "    diss_operator = [] # a container to collect the rows\n",
    "    for i, item in enumerate(np.array(row)):\n",
    "        diss_operator.append(item * (-1) ** i)\n",
    "    diss_operator.reverse()\n",
    "    D = np.zeros((knot_num, knot_num + order + 1), dtype=np.float32)\n",
    "    for i in range(knot_num):\n",
    "        D[i,i:(i+order+2)] = diss_operator\n",
    "    return D\n",
    "\n",
    "\n",
    "# x = np.dot(x, grid.best_estimator_.beta_)\n",
    "# y = y\n",
    "clf = grid.best_estimator_.shape_fit_\n",
    "n_samples = x.shape[0]\n",
    "sample_weight = np.ones(n_samples)\n",
    "\n",
    "knots = list(np.linspace(clf.xmin, clf.xmax, clf.knot_num + 2, dtype=np.float32)[1:-1])\n",
    "xphi = dmatrix(\"bs(x, knots = knots, degree=degree, include_intercept=True) - 1\",\n",
    "               {\"x\": [clf.xmin, clf.xmax], \"knots\": knots, \"degree\": clf.degree})\n",
    "init_basis = np.asarray(build_design_matrices([xphi.design_info],\n",
    "                  {\"x\": x, \"knots\": knots, \"degree\": clf.degree})[0])\n",
    "D = diff_matrix(clf.degree, clf.knot_num)\n",
    "w = np.ones([clf.knot_num], dtype=np.float32) \n",
    "W = np.diag(w)\n",
    "\n",
    "tempy = y.copy()\n",
    "tempy[tempy==0] = 0.01\n",
    "tempy[tempy==1] = 0.99\n",
    "BWB = np.tensordot(init_basis, init_basis, axes=([0], [0]))\n",
    "BWY = np.tensordot(init_basis, clf.inv_link(tempy), axes=([0], [0]))\n",
    "update_a = np.dot(np.linalg.pinv(BWB), BWY)\n",
    "for i in range(clf.maxiter):\n",
    "    for j in range(clf.maxiter_irls):\n",
    "        lp = np.dot(init_basis, update_a)\n",
    "        mu = clf.link(lp)\n",
    "        omega = mu * (1 - mu)\n",
    "        mask = (np.abs(omega) >= clf.EPS) * np.isfinite(omega)\n",
    "        mask = mask.ravel()\n",
    "        if np.sum(mask) == 0:\n",
    "            break\n",
    "        print(mask.sum())\n",
    "        BW = init_basis[mask, :]\n",
    "        BWOB = np.tensordot(BW * omega[mask].reshape([-1, 1]), init_basis[mask, :], axes=([0], [0]))\n",
    "        update_a = np.dot(np.linalg.pinv(BWOB + clf.reg_gamma * D.T.dot(W).dot(D)),\n",
    "                    BWOB.dot(update_a) + np.tensordot(BW, tempy[mask] - mu[mask], axes=([0], [0])))\n",
    "    update_w = 1 / (np.dot(D, update_a) ** 2 + clf.epsilon ** 2)\n",
    "    W = np.diag(update_w.reshape([-1]))\n",
    "\n",
    "clf.selected_knots_ = list(np.array(knots)[np.reshape(update_w * np.dot(D, update_a) ** 2 > clf.threshold, [-1])])\n",
    "clf.selected_xphi_ = dmatrix(\"bs(x, knots = knots, degree=degree, include_intercept=True) - 1\", \n",
    "       {\"x\": [clf.xmin, clf.xmax], \"knots\": clf.selected_knots_, \"degree\": clf.degree})\n",
    "selected_basis = np.asarray(build_design_matrices([clf.selected_xphi_.design_info],\n",
    "                  {\"x\": x, \"knots\": clf.selected_knots_, \"degree\": clf.degree})[0])\n",
    "\n",
    "seBWB = np.tensordot(selected_basis, selected_basis, axes=([0], [0]))\n",
    "seBWY = np.tensordot(selected_basis, clf.inv_link(tempy), axes=([0], [0]))\n",
    "clf.coef_ = np.dot(np.linalg.pinv(seBWB), seBWY)\n",
    "print(clf.coef_)"
   ]
  },
  {
   "cell_type": "code",
   "execution_count": 46,
   "metadata": {},
   "outputs": [
    {
     "name": "stdout",
     "output_type": "stream",
     "text": [
      "[-5.32339074 -2.66880811 -6.01089924  6.48520625  1.52955668  8.41717809]\n",
      "CPU times: user 14.2 s, sys: 32.6 s, total: 46.7 s\n",
      "Wall time: 785 ms\n"
     ]
    }
   ],
   "source": [
    "%%time \n",
    "\n",
    "knots = list(np.linspace(clf.xmin, clf.xmax, clf.knot_num + 2, dtype=np.float32)[1:-1])\n",
    "xphi = dmatrix(\"bs(x, knots = knots, degree=degree, include_intercept=True) - 1\",\n",
    "               {\"x\": [clf.xmin, clf.xmax], \"knots\": knots, \"degree\": clf.degree})\n",
    "init_basis = np.asarray(build_design_matrices([xphi.design_info],\n",
    "                  {\"x\": x, \"knots\": knots, \"degree\": clf.degree})[0])\n",
    "D = diff_matrix(clf.degree, clf.knot_num)\n",
    "w = np.ones([clf.knot_num], dtype=np.float32) \n",
    "W = np.diag(w)\n",
    "\n",
    "tempy = y.copy()\n",
    "tempy[tempy==0] = 0.01\n",
    "tempy[tempy==1] = 0.99\n",
    "BWB = np.tensordot(init_basis * sample_weight.reshape([-1, 1]), init_basis, axes=([0], [0]))\n",
    "BWY = np.tensordot(init_basis * sample_weight.reshape([-1, 1]), clf.inv_link(tempy), axes=([0], [0]))\n",
    "update_a = np.dot(np.linalg.pinv(BWB + clf.reg_gamma * D.T.dot(W).dot(D)), BWY)\n",
    "for i in range(clf.maxiter):\n",
    "    for j in range(clf.maxiter_irls):\n",
    "        lp = np.dot(init_basis, update_a)\n",
    "        mu = clf.link(lp)\n",
    "        omega = mu * (1 - mu)\n",
    "        mask = (np.abs(omega) >= clf.EPS) * np.isfinite(omega)\n",
    "        mask = mask.ravel()\n",
    "        if np.sum(mask) == 0:\n",
    "            break\n",
    "\n",
    "        BW = init_basis[mask, :] * sample_weight[mask].reshape([-1, 1])\n",
    "        BWOB = np.tensordot(BW * omega[mask].reshape([-1, 1]), init_basis[mask, :], axes=([0], [0]))\n",
    "        update_a = np.dot(np.linalg.pinv(BWOB + clf.reg_gamma * D.T.dot(W).dot(D)),\n",
    "                    BWOB.dot(update_a) + np.tensordot(BW, tempy[mask] - mu[mask], axes=([0], [0])))\n",
    "    update_w = 1 / (np.dot(D, update_a) ** 2 + clf.epsilon ** 2)\n",
    "    W = np.diag(update_w.reshape([-1]))\n",
    "\n",
    "clf.selected_knots_ = list(np.array(knots)[np.reshape(update_w * np.dot(D, update_a) ** 2 > clf.threshold, [-1])])\n",
    "clf.selected_xphi_ = dmatrix(\"bs(x, knots = knots, degree=degree, include_intercept=True) - 1\", \n",
    "       {\"x\": [clf.xmin, clf.xmax], \"knots\": clf.selected_knots_, \"degree\": clf.degree})\n",
    "selected_basis = np.asarray(build_design_matrices([clf.selected_xphi_.design_info],\n",
    "                  {\"x\": x, \"knots\": clf.selected_knots_, \"degree\": clf.degree})[0])\n",
    "\n",
    "seBWB = np.tensordot(selected_basis * sample_weight.reshape([-1, 1]), selected_basis, axes=([0], [0]))\n",
    "seBWY = np.tensordot(selected_basis * sample_weight.reshape([-1, 1]), clf.inv_link(tempy), axes=([0], [0]))\n",
    "clf.coef_ = np.dot(np.linalg.pinv(seBWB), seBWY)\n",
    "print(clf.coef_)"
   ]
  },
  {
   "cell_type": "code",
   "execution_count": 64,
   "metadata": {
    "scrolled": true
   },
   "outputs": [
    {
     "name": "stdout",
     "output_type": "stream",
     "text": [
      "10000\n",
      "9999\n",
      "9999\n",
      "8469\n",
      "7129\n",
      "6833\n",
      "6791\n",
      "6790\n",
      "6790\n",
      "6790\n",
      "[ 13.69183982   6.57780799   0.53847991  -4.42614443  -8.31606502\n",
      " -11.13128187 -12.87179498 -13.53760434 -13.12870996 -11.64511183\n",
      "  -9.08680997  -5.45380436  -0.746095     5.03631809   9.57201688\n",
      "  12.86100135  14.9032715   15.69882735  15.24766888  13.54979609\n",
      "  10.60520899   6.41390758   0.97589186]\n",
      "CPU times: user 2.29 s, sys: 5.3 s, total: 7.59 s\n",
      "Wall time: 136 ms\n"
     ]
    }
   ],
   "source": [
    "%%time \n",
    "\n",
    "tempy = y.copy()\n",
    "tempy[tempy==0] = 0.01\n",
    "tempy[tempy==1] = 0.99\n",
    "update_a = np.dot(np.linalg.pinv(np.dot(init_basis.T, init_basis)), np.dot(init_basis.T, clf.inv_link(tempy)))\n",
    "for i in range(1):\n",
    "    tempy = y.copy()\n",
    "    basis = init_basis.copy()\n",
    "    # The original implementation of matrix inversion is very slow and so it is commented. \n",
    "    for j in range(clf.maxiter_irls):\n",
    "        lp = np.dot(basis, update_a)\n",
    "        mu = clf.link(lp)\n",
    "        omega = mu * (1 - mu)\n",
    "        mask = (np.abs(omega) >= clf.EPS) * np.isfinite(omega)\n",
    "        mask = mask.ravel()\n",
    "        if np.sum(mask) == 0:\n",
    "            break\n",
    "        print(mask.sum())\n",
    "        tempy = tempy[mask] \n",
    "        lp = lp[mask] \n",
    "        mu = mu[mask] \n",
    "        omega = omega[mask] \n",
    "        basis = basis[mask,:]\n",
    "\n",
    "        BB = np.tensordot(basis * omega.reshape([-1, 1]), basis, axes=([0], [0]))\n",
    "        left = np.linalg.pinv(BB + clf.reg_gamma * D.T.dot(W).dot(D))\n",
    "        right = BB.dot(update_a) + basis.T.dot(tempy - mu)\n",
    "        update_a = np.dot(left, right)\n",
    "    update_w = 1 / (np.dot(D, update_a) ** 2 + clf.epsilon ** 2)\n",
    "    W = np.diag(update_w.reshape([-1]))\n",
    "print(update_a)"
   ]
  },
  {
   "cell_type": "code",
   "execution_count": 99,
   "metadata": {},
   "outputs": [],
   "source": [
    "def entropy_loss(label, pred):\n",
    "    return - np.mean(label * np.log(pred) + (1 - label) * np.log(1 - pred))"
   ]
  },
  {
   "cell_type": "code",
   "execution_count": 103,
   "metadata": {
    "scrolled": true
   },
   "outputs": [
    {
     "name": "stdout",
     "output_type": "stream",
     "text": [
      "0.09511391266677043\n",
      "0.09511391266677043\n",
      "0.0945406968528478\n",
      "0.08882262234305133\n",
      "0.08745047333616093\n",
      "0.08726063283990276\n",
      "0.08724425199517583\n",
      "0.08724425199517583\n",
      "0.08724425199517583\n",
      "0.08724425199517583\n",
      "0.08724021750061227\n",
      "0.08722949746651522\n",
      "0.08722949746651522\n",
      "0.08722949746651522\n",
      "0.08722949746651522\n",
      "0.08722949746651522\n",
      "0.08722936733332083\n",
      "[ 13.83916178   6.65519496   0.55634133  -4.45739911  -8.38602635\n",
      " -11.22954039 -12.98794125 -13.6612289  -13.24940337 -11.75246464\n",
      "  -9.17041271  -5.5032476   -0.75096928   5.08642222   9.69478144\n",
      "  13.07410838  15.22440303  16.14566539  15.83789546  14.30109325\n",
      "  11.53525875   7.54039196   2.31649289]\n"
     ]
    }
   ],
   "source": [
    "tempy = y.copy()\n",
    "tempy[tempy==0] = 0.01\n",
    "tempy[tempy==1] = 0.99\n",
    "update_a = np.dot(np.linalg.pinv(np.dot(init_basis.T, init_basis)), np.dot(init_basis.T, clf.inv_link(tempy)))\n",
    "best_loss = entropy_loss(y, clf.link(np.dot(init_basis, update_a)))\n",
    "for i in range(10):\n",
    "    # The original implementation of matrix inversion is very slow and so it is commented. \n",
    "    for j in range(5):\n",
    "        lp = np.dot(init_basis, update_a)\n",
    "        mu = clf.link(lp)\n",
    "        omega = mu * (1 - mu)\n",
    "        mask = (np.abs(omega) >= clf.EPS) * np.isfinite(omega)\n",
    "        if np.sum(mask) == 0:\n",
    "            break\n",
    "\n",
    "        BB = np.tensordot(init_basis[mask] * omega[mask].reshape([-1, 1]), init_basis[mask], axes=([0], [0]))\n",
    "        left = np.linalg.pinv(BB + clf.reg_gamma * D.T.dot(W).dot(D))\n",
    "        right = BB.dot(update_a) + init_basis[mask].T.dot(y[mask] - mu[mask])\n",
    "        update_a = np.dot(left, right)\n",
    "        new_loss = entropy_loss(y, clf.link(np.dot(init_basis, update_a)))\n",
    "        if new_loss - best_loss > 0:\n",
    "            break\n",
    "        best_loss = new_loss\n",
    "    update_w = 1 / (np.dot(D, update_a) ** 2 + clf.epsilon ** 2)\n",
    "    W = np.diag(update_w.reshape([-1]))\n",
    "print(update_a_new)"
   ]
  },
  {
   "cell_type": "code",
   "execution_count": 90,
   "metadata": {},
   "outputs": [
    {
     "data": {
      "text/plain": [
       "0.6248727527238025"
      ]
     },
     "execution_count": 90,
     "metadata": {},
     "output_type": "execute_result"
    }
   ],
   "source": [
    "np.dot(init_basis, update_a_new)"
   ]
  },
  {
   "cell_type": "code",
   "execution_count": 83,
   "metadata": {},
   "outputs": [
    {
     "data": {
      "text/plain": [
       "47.552492655445285"
      ]
     },
     "execution_count": 83,
     "metadata": {},
     "output_type": "execute_result"
    }
   ],
   "source": [
    "np.sum(update_a_new)"
   ]
  }
 ],
 "metadata": {
  "kernelspec": {
   "display_name": "Python (tf2)",
   "language": "python",
   "name": "tf2"
  },
  "language_info": {
   "codemirror_mode": {
    "name": "ipython",
    "version": 3
   },
   "file_extension": ".py",
   "mimetype": "text/x-python",
   "name": "python",
   "nbconvert_exporter": "python",
   "pygments_lexer": "ipython3",
   "version": "3.6.8"
  }
 },
 "nbformat": 4,
 "nbformat_minor": 2
}
