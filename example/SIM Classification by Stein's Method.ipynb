{
 "cells": [
  {
   "cell_type": "markdown",
   "metadata": {},
   "source": [
    "## SIM Training by Stein's Method"
   ]
  },
  {
   "cell_type": "code",
   "execution_count": 1,
   "metadata": {},
   "outputs": [],
   "source": [
    "import numpy as np\n",
    "from matplotlib import pylab as plt\n",
    "from sklearn.model_selection import KFold\n",
    "from sklearn.model_selection import GridSearchCV\n",
    "from sklearn.preprocessing import MinMaxScaler\n",
    "from sklearn.metrics import make_scorer, roc_auc_score\n",
    "\n",
    "from pysim import SimClassifier"
   ]
  },
  {
   "cell_type": "markdown",
   "metadata": {},
   "source": [
    "## pySIM - A python package for Sparse SIM "
   ]
  },
  {
   "cell_type": "markdown",
   "metadata": {},
   "source": [
    "**To install**:\n",
    "    \n",
    "```sheel\n",
    "    pip install git+https://github.com/Zebinyang/pysim.git\n",
    "```\n",
    "\n",
    "Note pysim will call the R package fps (https://github.com/vqv/fps) using rpy2 interface. "
   ]
  },
  {
   "cell_type": "markdown",
   "metadata": {},
   "source": [
    "```python\n",
    "from pysim import SimClassifier\n",
    "clf = SimClassifier(method=\"first_order\", reg_lambda=0.1, reg_gamma=10, knot_num=20, degree=2, random_state=0)\n",
    "## clf.fit(x, y)\n",
    "```"
   ]
  },
  {
   "cell_type": "markdown",
   "metadata": {},
   "source": [
    "**Usage**"
   ]
  },
  {
   "cell_type": "markdown",
   "metadata": {},
   "source": [
    "**Hyperparameters**\n",
    "\n",
    "- method: the base method for estimating the projection coefficients in sparse SIM. default=\"first_order\"\n",
    "\n",
    "        \"first_order\": First-order Stein's Identity via sparse PCA solver\n",
    "\n",
    "        \"second_order\": Second-order Stein's Identity via sparse PCA solver\n",
    "\n",
    "        \"first_order_thres\": First-order Stein's Identity via hard thresholding (A simplified verison)        \n",
    "    \n",
    "- reg_lambda: The regularization strength of sparsity of beta. default=0.1, from 0 to 1 \n",
    "\n",
    "- reg_gamma: The regularization strength of the spline algorithm. default=10, from 0 to $+\\infty$\n",
    "\n",
    "- degree: The order of the spline basis. default=2\n",
    "\n",
    "- knot_num: The number of knots spanned uniformly over the domain. default=20\n",
    "\n",
    "- random_state: the random seed. default=0"
   ]
  },
  {
   "cell_type": "markdown",
   "metadata": {},
   "source": [
    "# Case 1: Logit Function"
   ]
  },
  {
   "cell_type": "code",
   "execution_count": 2,
   "metadata": {
    "scrolled": true
   },
   "outputs": [],
   "source": [
    "s_star = 5\n",
    "n_features = 100\n",
    "n_samples = 10000\n",
    "\n",
    "np.random.seed(1)\n",
    "beta = np.zeros(n_features)\n",
    "supp_ids = np.random.choice(n_features, s_star)\n",
    "beta[supp_ids]=np.random.choice((-1, 1), s_star) / np.sqrt(s_star)\n",
    "\n",
    "x = np.random.normal(0, 0.3, size=(n_samples, n_features))\n",
    "y = 1 / (1 + np.exp(-(np.dot(x, beta)))) + 0.1 * np.random.randn(n_samples)\n",
    "y = y - np.mean(y)\n",
    "y[y <= 0] = 0\n",
    "y[y > 0] = 1"
   ]
  },
  {
   "cell_type": "markdown",
   "metadata": {},
   "source": [
    "The best hyperparameter combination can be selected via cross-validation"
   ]
  },
  {
   "cell_type": "code",
   "execution_count": 3,
   "metadata": {
    "scrolled": true
   },
   "outputs": [
    {
     "name": "stdout",
     "output_type": "stream",
     "text": [
      "Fitting 3 folds for each of 30 candidates, totalling 90 fits\n"
     ]
    },
    {
     "name": "stderr",
     "output_type": "stream",
     "text": [
      "[Parallel(n_jobs=-1)]: Using backend LokyBackend with 64 concurrent workers.\n",
      "[Parallel(n_jobs=-1)]: Done   9 out of  90 | elapsed:   20.3s remaining:  3.0min\n",
      "[Parallel(n_jobs=-1)]: Done  55 out of  90 | elapsed:   46.8s remaining:   29.8s\n",
      "[Parallel(n_jobs=-1)]: Done  90 out of  90 | elapsed:   53.6s finished\n"
     ]
    },
    {
     "name": "stdout",
     "output_type": "stream",
     "text": [
      "CPU times: user 9.03 s, sys: 28.8 s, total: 37.8 s\n",
      "Wall time: 54.8 s\n"
     ]
    }
   ],
   "source": [
    "%%time \n",
    "\n",
    "param_grid = {\"method\": [\"first_order\", \"second_order\"],\n",
    "              \"reg_lambda\": [0.1, 0.2, 0.3, 0.4, 0.5],\n",
    "              \"reg_gamma\": np.logspace(-1, 1, 3)}\n",
    "grid = GridSearchCV(SimClassifier(degree=2, knot_num=20, random_state=0), \n",
    "                    cv=KFold(3, shuffle=True, random_state=0), \n",
    "                    scoring={\"auc\": make_scorer(roc_auc_score)},\n",
    "                    param_grid=param_grid, n_jobs=-1, verbose=2, refit=\"auc\", error_score=np.nan)\n",
    "grid.fit(x, y)"
   ]
  },
  {
   "cell_type": "code",
   "execution_count": 4,
   "metadata": {},
   "outputs": [
    {
     "data": {
      "text/plain": [
       "{'method': 'first_order', 'reg_gamma': 0.1, 'reg_lambda': 0.2}"
      ]
     },
     "execution_count": 4,
     "metadata": {},
     "output_type": "execute_result"
    }
   ],
   "source": [
    "grid.best_params_"
   ]
  },
  {
   "cell_type": "markdown",
   "metadata": {},
   "source": [
    "**NB**: The first-order Setin's method is selected, as $\\mathbb{E}[f^{\\prime\\prime}(u)]=0$. Therefore, the second order method cannot provide any information about the projection coefficients. "
   ]
  },
  {
   "cell_type": "markdown",
   "metadata": {},
   "source": [
    "In this case, the first-order Setin's method is selected. "
   ]
  },
  {
   "cell_type": "code",
   "execution_count": 5,
   "metadata": {},
   "outputs": [
    {
     "data": {
      "text/plain": [
       "SimClassifier(degree=2, knot_num=20, method='first_order', random_state=0,\n",
       "              reg_gamma=0.1, reg_lambda=0.2)"
      ]
     },
     "execution_count": 5,
     "metadata": {},
     "output_type": "execute_result"
    }
   ],
   "source": [
    "clf = grid.best_estimator_\n",
    "clf"
   ]
  },
  {
   "cell_type": "code",
   "execution_count": 6,
   "metadata": {},
   "outputs": [
    {
     "data": {
      "image/png": "[encoded data removed]",
      "text/plain": [
       "<Figure size 432x288 with 1 Axes>"
      ]
     },
     "metadata": {
      "needs_background": "light"
     },
     "output_type": "display_data"
    }
   ],
   "source": [
    "plt.plot(clf.beta_, \"o\")\n",
    "plt.plot(beta, \"o\")\n",
    "plt.legend([\"Estimated\", \"Ground Truth\"])\n",
    "plt.show()"
   ]
  },
  {
   "cell_type": "code",
   "execution_count": 7,
   "metadata": {
    "scrolled": true
   },
   "outputs": [
    {
     "data": {
      "image/png": "[encoded data removed]",
      "text/plain": [
       "<Figure size 864x288 with 3 Axes>"
      ]
     },
     "metadata": {
      "needs_background": "light"
     },
     "output_type": "display_data"
    }
   ],
   "source": [
    "grid.best_estimator_.visualize()"
   ]
  },
  {
   "cell_type": "code",
   "execution_count": 8,
   "metadata": {},
   "outputs": [
    {
     "data": {
      "text/plain": [
       "0.7765179279005547"
      ]
     },
     "execution_count": 8,
     "metadata": {},
     "output_type": "execute_result"
    }
   ],
   "source": [
    "roc_auc_score(y, grid.predict_proba(x))"
   ]
  },
  {
   "cell_type": "markdown",
   "metadata": {},
   "source": [
    "## Case 2: Quadratic Ridge Function"
   ]
  },
  {
   "cell_type": "code",
   "execution_count": 9,
   "metadata": {
    "scrolled": true
   },
   "outputs": [],
   "source": [
    "s_star = 5\n",
    "n_features = 100\n",
    "n_samples = 10000\n",
    "\n",
    "np.random.seed(1)\n",
    "beta = np.zeros(n_features)\n",
    "supp_ids = np.random.choice(n_features, s_star)\n",
    "beta[supp_ids]=np.random.choice((-1, 1), s_star) / np.sqrt(s_star)\n",
    "\n",
    "x = np.random.normal(0, 0.3, size=(n_samples, n_features))\n",
    "y = 5 * np.dot(x, beta) ** 2 + 0.1 * np.random.randn(n_samples)\n",
    "ymu = np.mean(y)\n",
    "y[y > ymu] = 1\n",
    "y[y <= ymu] = 0"
   ]
  },
  {
   "cell_type": "code",
   "execution_count": 10,
   "metadata": {
    "scrolled": true
   },
   "outputs": [
    {
     "name": "stdout",
     "output_type": "stream",
     "text": [
      "Fitting 3 folds for each of 30 candidates, totalling 90 fits\n"
     ]
    },
    {
     "name": "stderr",
     "output_type": "stream",
     "text": [
      "[Parallel(n_jobs=-1)]: Using backend LokyBackend with 64 concurrent workers.\n",
      "[Parallel(n_jobs=-1)]: Done   9 out of  90 | elapsed:   18.3s remaining:  2.7min\n",
      "[Parallel(n_jobs=-1)]: Done  55 out of  90 | elapsed:   32.9s remaining:   20.9s\n",
      "[Parallel(n_jobs=-1)]: Done  90 out of  90 | elapsed:   39.1s finished\n"
     ]
    },
    {
     "name": "stdout",
     "output_type": "stream",
     "text": [
      "CPU times: user 14 s, sys: 36.5 s, total: 50.5 s\n",
      "Wall time: 40.2 s\n"
     ]
    }
   ],
   "source": [
    "%%time \n",
    "\n",
    "param_grid = {\"method\": [\"first_order\", \"second_order\"],\n",
    "              \"reg_lambda\": [0.1, 0.2, 0.3, 0.4, 0.5],\n",
    "              \"reg_gamma\": np.logspace(-1, 1, 3)}\n",
    "grid = GridSearchCV(SimClassifier(degree=2, knot_num=20, random_state=0), \n",
    "                    cv=KFold(3, shuffle=True, random_state=0), \n",
    "                    scoring={\"auc\": make_scorer(roc_auc_score)},\n",
    "                    param_grid=param_grid, n_jobs=-1, verbose=2, refit=\"auc\", error_score=np.nan)\n",
    "grid.fit(x, y)"
   ]
  },
  {
   "cell_type": "code",
   "execution_count": 11,
   "metadata": {},
   "outputs": [
    {
     "data": {
      "text/plain": [
       "{'method': 'second_order', 'reg_gamma': 0.1, 'reg_lambda': 0.4}"
      ]
     },
     "execution_count": 11,
     "metadata": {},
     "output_type": "execute_result"
    }
   ],
   "source": [
    "grid.best_params_"
   ]
  },
  {
   "cell_type": "markdown",
   "metadata": {},
   "source": [
    "**NB**: The second-order Setin's method is selected, as $\\mathbb{E}[f^{\\prime}(u)]=0$. Therefore, the first order method cannot provide any information about the projection coefficients. "
   ]
  },
  {
   "cell_type": "code",
   "execution_count": 12,
   "metadata": {},
   "outputs": [
    {
     "data": {
      "text/plain": [
       "SimClassifier(degree=2, knot_num=20, method='second_order', random_state=0,\n",
       "              reg_gamma=0.1, reg_lambda=0.4)"
      ]
     },
     "execution_count": 12,
     "metadata": {},
     "output_type": "execute_result"
    }
   ],
   "source": [
    "clf = grid.best_estimator_\n",
    "clf"
   ]
  },
  {
   "cell_type": "code",
   "execution_count": 13,
   "metadata": {},
   "outputs": [
    {
     "data": {
      "image/png": "[encoded data removed]",
      "text/plain": [
       "<Figure size 432x288 with 1 Axes>"
      ]
     },
     "metadata": {
      "needs_background": "light"
     },
     "output_type": "display_data"
    }
   ],
   "source": [
    "plt.plot(clf.beta_, \"o\")\n",
    "plt.plot(beta, \"o\")\n",
    "plt.legend([\"Estimated\", \"Ground Truth\"])\n",
    "plt.show()"
   ]
  },
  {
   "cell_type": "code",
   "execution_count": 14,
   "metadata": {
    "scrolled": false
   },
   "outputs": [
    {
     "data": {
      "image/png": "[encoded data removed]",
      "text/plain": [
       "<Figure size 864x288 with 3 Axes>"
      ]
     },
     "metadata": {
      "needs_background": "light"
     },
     "output_type": "display_data"
    }
   ],
   "source": [
    "grid.best_estimator_.visualize()"
   ]
  },
  {
   "cell_type": "markdown",
   "metadata": {},
   "source": [
    "## Case 3: Improve a rough estimator via inner update"
   ]
  },
  {
   "cell_type": "code",
   "execution_count": 15,
   "metadata": {
    "scrolled": true
   },
   "outputs": [],
   "source": [
    "s_star = 5\n",
    "n_features = 100\n",
    "n_samples = 10000\n",
    "\n",
    "np.random.seed(1)\n",
    "beta = np.zeros(n_features)\n",
    "supp_ids = np.random.choice(n_features, s_star)\n",
    "beta[supp_ids]=np.random.choice((-1, 1), s_star) / np.sqrt(s_star)\n",
    "\n",
    "x = np.random.gamma(1, 0.3, size=(n_samples, n_features))\n",
    "y = 5 * np.dot(x, beta) ** 2 + 0.1 * np.random.randn(n_samples)\n",
    "ymu = np.mean(y)\n",
    "y[y > ymu] = 1\n",
    "y[y <= ymu] = 0"
   ]
  },
  {
   "cell_type": "code",
   "execution_count": 16,
   "metadata": {
    "scrolled": true
   },
   "outputs": [
    {
     "name": "stdout",
     "output_type": "stream",
     "text": [
      "CPU times: user 7.44 s, sys: 20.5 s, total: 27.9 s\n",
      "Wall time: 635 ms\n"
     ]
    }
   ],
   "source": [
    "%%time \n",
    "\n",
    "clf = SimClassifier(degree=2, knot_num=20, reg_lambda=0.2, reg_gamma=1, random_state=0)\n",
    "clf.fit(x, y)"
   ]
  },
  {
   "cell_type": "code",
   "execution_count": 17,
   "metadata": {
    "scrolled": true
   },
   "outputs": [
    {
     "data": {
      "image/png": "[encoded data removed]",
      "text/plain": [
       "<Figure size 864x288 with 3 Axes>"
      ]
     },
     "metadata": {
      "needs_background": "light"
     },
     "output_type": "display_data"
    }
   ],
   "source": [
    "clf.visualize()"
   ]
  },
  {
   "cell_type": "markdown",
   "metadata": {},
   "source": [
    "**Remark**：The data does not follow a normal distribution, so the performance is relatively poor."
   ]
  },
  {
   "cell_type": "code",
   "execution_count": 22,
   "metadata": {
    "scrolled": true
   },
   "outputs": [
    {
     "name": "stdout",
     "output_type": "stream",
     "text": [
      "Inner iter: 1 epoch: 1 with validation loss: 0.50545\n",
      "Inner iter: 1 epoch: 2 with validation loss: 0.49849\n",
      "Inner iter: 1 epoch: 3 with validation loss: 0.49273\n",
      "Inner iter: 1 epoch: 4 with validation loss: 0.49014\n",
      "Inner iter: 1 epoch: 5 with validation loss: 0.48375\n",
      "Inner iter: 1 epoch: 6 with validation loss: 0.4826\n",
      "Inner iter: 1 epoch: 7 with validation loss: 0.48347\n",
      "Inner iter: 1 epoch: 8 with validation loss: 0.47723\n",
      "Inner iter: 1 epoch: 9 with validation loss: 0.4756\n",
      "Inner iter: 1 epoch: 10 with validation loss: 0.47596\n",
      "Inner iter: 1 epoch: 11 with validation loss: 0.47358\n",
      "Inner iter: 1 epoch: 12 with validation loss: 0.47582\n",
      "Inner iter: 1 epoch: 13 with validation loss: 0.47213\n",
      "Inner iter: 1 epoch: 14 with validation loss: 0.47189\n",
      "Inner iter: 1 epoch: 15 with validation loss: 0.47113\n",
      "Inner iter: 2 epoch: 1 with validation loss: 0.44458\n",
      "Inner iter: 2 epoch: 2 with validation loss: 0.44472\n",
      "Inner iter: 3 epoch: 1 with validation loss: 0.44324\n",
      "Inner iter: 3 epoch: 2 with validation loss: 0.44436\n",
      "Inner iter: 3 epoch: 3 with validation loss: 0.44466\n",
      "Inner iter: 3 epoch: 4 with validation loss: 0.44385\n",
      "Inner iter: 3 epoch: 5 with validation loss: 0.44146\n",
      "Inner iter: 3 epoch: 6 with validation loss: 0.43757\n",
      "Inner iter: 3 epoch: 7 with validation loss: 0.43308\n",
      "Inner iter: 3 epoch: 8 with validation loss: 0.42332\n",
      "Inner iter: 3 epoch: 9 with validation loss: 0.41569\n",
      "Inner iter: 3 epoch: 10 with validation loss: 0.4077\n",
      "Inner iter: 3 epoch: 11 with validation loss: 0.39922\n",
      "Inner iter: 3 epoch: 12 with validation loss: 0.39159\n",
      "Inner iter: 3 epoch: 13 with validation loss: 0.3856\n",
      "Inner iter: 3 epoch: 14 with validation loss: 0.37911\n",
      "Inner iter: 3 epoch: 15 with validation loss: 0.37386\n",
      "Inner iter: 3 epoch: 16 with validation loss: 0.36987\n",
      "Inner iter: 3 epoch: 17 with validation loss: 0.36491\n",
      "Inner iter: 3 epoch: 18 with validation loss: 0.36098\n",
      "Inner iter: 3 epoch: 19 with validation loss: 0.3577\n",
      "Inner iter: 3 epoch: 20 with validation loss: 0.35435\n",
      "Inner iter: 3 epoch: 21 with validation loss: 0.35272\n",
      "Inner iter: 3 epoch: 22 with validation loss: 0.34854\n",
      "Inner iter: 3 epoch: 23 with validation loss: 0.34601\n",
      "Inner iter: 3 epoch: 24 with validation loss: 0.34469\n",
      "Inner iter: 3 epoch: 25 with validation loss: 0.34162\n",
      "Inner iter: 3 epoch: 26 with validation loss: 0.33938\n",
      "Inner iter: 3 epoch: 27 with validation loss: 0.33742\n",
      "Inner iter: 3 epoch: 28 with validation loss: 0.33544\n",
      "Inner iter: 3 epoch: 29 with validation loss: 0.33399\n",
      "Inner iter: 3 epoch: 30 with validation loss: 0.332\n",
      "Inner iter: 3 epoch: 31 with validation loss: 0.33173\n",
      "Inner iter: 3 epoch: 32 with validation loss: 0.32894\n",
      "Inner iter: 3 epoch: 33 with validation loss: 0.32783\n",
      "Inner iter: 3 epoch: 34 with validation loss: 0.32816\n",
      "Inner iter: 3 epoch: 35 with validation loss: 0.32509\n",
      "Inner iter: 3 epoch: 36 with validation loss: 0.32424\n",
      "Inner iter: 3 epoch: 37 with validation loss: 0.3226\n",
      "Inner iter: 3 epoch: 38 with validation loss: 0.3221\n",
      "Inner iter: 3 epoch: 39 with validation loss: 0.3209\n",
      "Inner iter: 3 epoch: 40 with validation loss: 0.31924\n",
      "Inner iter: 3 epoch: 41 with validation loss: 0.31839\n",
      "Inner iter: 3 epoch: 42 with validation loss: 0.31764\n",
      "Inner iter: 3 epoch: 43 with validation loss: 0.31669\n",
      "Inner iter: 3 epoch: 44 with validation loss: 0.31573\n",
      "Inner iter: 3 epoch: 45 with validation loss: 0.31537\n",
      "Inner iter: 3 epoch: 46 with validation loss: 0.314\n",
      "Inner iter: 3 epoch: 47 with validation loss: 0.31475\n",
      "Inner iter: 3 epoch: 48 with validation loss: 0.31319\n",
      "Inner iter: 3 epoch: 49 with validation loss: 0.31186\n",
      "Inner iter: 3 epoch: 50 with validation loss: 0.31143\n",
      "Inner iter: 4 epoch: 1 with validation loss: 0.50873\n",
      "Inner iter: 4 epoch: 2 with validation loss: 0.49873\n",
      "Inner iter: 4 epoch: 3 with validation loss: 0.49426\n",
      "Inner iter: 4 epoch: 4 with validation loss: 0.48748\n",
      "Inner iter: 4 epoch: 5 with validation loss: 0.48356\n",
      "Inner iter: 4 epoch: 6 with validation loss: 0.47804\n",
      "Inner iter: 4 epoch: 7 with validation loss: 0.4826\n",
      "Inner iter: 4 epoch: 8 with validation loss: 0.47793\n",
      "Inner iter: 4 epoch: 9 with validation loss: 0.48173\n",
      "Inner iter: 4 epoch: 10 with validation loss: 0.47091\n",
      "Inner iter: 4 epoch: 11 with validation loss: 0.47143\n",
      "Inner iter: 4 epoch: 12 with validation loss: 0.47073\n",
      "Inner iter: 4 epoch: 13 with validation loss: 0.46892\n",
      "Inner iter: 4 epoch: 14 with validation loss: 0.46843\n",
      "Inner iter: 4 epoch: 15 with validation loss: 0.4703\n",
      "Inner iter: 4 epoch: 16 with validation loss: 0.46734\n",
      "Inner iter: 5 epoch: 1 with validation loss: 0.44562\n",
      "Inner iter: 5 epoch: 2 with validation loss: 0.44498\n",
      "Inner iter: 5 epoch: 3 with validation loss: 0.44471\n",
      "Inner iter: 5 epoch: 4 with validation loss: 0.44542\n",
      "Inner iter: 5 epoch: 5 with validation loss: 0.43986\n",
      "Inner iter: 5 epoch: 6 with validation loss: 0.43471\n",
      "Inner iter: 5 epoch: 7 with validation loss: 0.42816\n",
      "Inner iter: 5 epoch: 8 with validation loss: 0.41896\n",
      "Inner iter: 5 epoch: 9 with validation loss: 0.41047\n",
      "Inner iter: 5 epoch: 10 with validation loss: 0.40225\n",
      "Inner iter: 5 epoch: 11 with validation loss: 0.39458\n",
      "Inner iter: 5 epoch: 12 with validation loss: 0.38717\n",
      "Inner iter: 5 epoch: 13 with validation loss: 0.38142\n",
      "Inner iter: 5 epoch: 14 with validation loss: 0.37571\n",
      "Inner iter: 5 epoch: 15 with validation loss: 0.37058\n",
      "Inner iter: 5 epoch: 16 with validation loss: 0.3678\n",
      "Inner iter: 5 epoch: 17 with validation loss: 0.3654\n",
      "Inner iter: 5 epoch: 18 with validation loss: 0.35871\n",
      "Inner iter: 5 epoch: 19 with validation loss: 0.35551\n",
      "Inner iter: 5 epoch: 20 with validation loss: 0.35271\n",
      "Inner iter: 5 epoch: 21 with validation loss: 0.34922\n",
      "Inner iter: 5 epoch: 22 with validation loss: 0.34697\n",
      "Inner iter: 5 epoch: 23 with validation loss: 0.34652\n",
      "Inner iter: 5 epoch: 24 with validation loss: 0.34208\n",
      "Inner iter: 5 epoch: 25 with validation loss: 0.33973\n",
      "Inner iter: 5 epoch: 26 with validation loss: 0.33769\n",
      "Inner iter: 5 epoch: 27 with validation loss: 0.33615\n",
      "Inner iter: 5 epoch: 28 with validation loss: 0.33413\n",
      "Inner iter: 5 epoch: 29 with validation loss: 0.33238\n",
      "Inner iter: 5 epoch: 30 with validation loss: 0.33113\n",
      "Inner iter: 5 epoch: 31 with validation loss: 0.32931\n",
      "Inner iter: 5 epoch: 32 with validation loss: 0.32962\n",
      "Inner iter: 5 epoch: 33 with validation loss: 0.32669\n",
      "Inner iter: 5 epoch: 34 with validation loss: 0.32535\n",
      "Inner iter: 5 epoch: 35 with validation loss: 0.32393\n",
      "Inner iter: 5 epoch: 36 with validation loss: 0.32284\n",
      "Inner iter: 5 epoch: 37 with validation loss: 0.3218\n",
      "Inner iter: 5 epoch: 38 with validation loss: 0.32051\n",
      "Inner iter: 5 epoch: 39 with validation loss: 0.3204\n",
      "Inner iter: 5 epoch: 40 with validation loss: 0.31863\n",
      "Inner iter: 5 epoch: 41 with validation loss: 0.31757\n",
      "Inner iter: 5 epoch: 42 with validation loss: 0.31686\n",
      "Inner iter: 5 epoch: 43 with validation loss: 0.31617\n",
      "Inner iter: 5 epoch: 44 with validation loss: 0.31575\n",
      "Inner iter: 5 epoch: 45 with validation loss: 0.31416\n",
      "Inner iter: 5 epoch: 46 with validation loss: 0.31346\n",
      "Inner iter: 5 epoch: 47 with validation loss: 0.31318\n",
      "Inner iter: 5 epoch: 48 with validation loss: 0.31303\n",
      "Inner iter: 5 epoch: 49 with validation loss: 0.31149\n",
      "Inner iter: 5 epoch: 50 with validation loss: 0.31067\n"
     ]
    }
   ],
   "source": [
    "clf.fit_inner_update(x, y, max_inner_iter=5, epoches=50, n_iter_no_change=1,\n",
    "                     batch_size=100, val_ratio=0.2, learning_rate=1e-3, beta_1=0.9, beta_2=0.999, verbose=True)"
   ]
  },
  {
   "cell_type": "code",
   "execution_count": 23,
   "metadata": {
    "scrolled": true
   },
   "outputs": [
    {
     "data": {
      "image/png": "[encoded data removed]",
      "text/plain": [
       "<Figure size 864x288 with 3 Axes>"
      ]
     },
     "metadata": {
      "needs_background": "light"
     },
     "output_type": "display_data"
    }
   ],
   "source": [
    "clf.visualize()"
   ]
  },
  {
   "cell_type": "code",
   "execution_count": 24,
   "metadata": {},
   "outputs": [
    {
     "data": {
      "text/plain": [
       "[0.16666667, 0.33333334, 0.5, 0.6666667, 0.8333333]"
      ]
     },
     "execution_count": 24,
     "metadata": {},
     "output_type": "execute_result"
    }
   ],
   "source": [
    " list(np.linspace(0, 1, 5 + 2, dtype=np.float32)[1:-1])"
   ]
  }
 ],
 "metadata": {
  "kernelspec": {
   "display_name": "Python (tf2)",
   "language": "python",
   "name": "tf2"
  },
  "language_info": {
   "codemirror_mode": {
    "name": "ipython",
    "version": 3
   },
   "file_extension": ".py",
   "mimetype": "text/x-python",
   "name": "python",
   "nbconvert_exporter": "python",
   "pygments_lexer": "ipython3",
   "version": "3.6.8"
  }
 },
 "nbformat": 4,
 "nbformat_minor": 2
}
