{
 "cells": [
  {
   "cell_type": "markdown",
   "metadata": {},
   "source": [
    "## SIM Training by Stein's Method"
   ]
  },
  {
   "cell_type": "code",
   "execution_count": 1,
   "metadata": {},
   "outputs": [],
   "source": [
    "import numpy as np\n",
    "from matplotlib import pylab as plt\n",
    "from sklearn.model_selection import KFold\n",
    "from sklearn.model_selection import GridSearchCV\n",
    "from sklearn.preprocessing import MinMaxScaler\n",
    "from sklearn.metrics import make_scorer, roc_auc_score\n",
    "\n",
    "from pysim import SimClassifier"
   ]
  },
  {
   "cell_type": "markdown",
   "metadata": {},
   "source": [
    "## pySIM - A python package for Sparse SIM "
   ]
  },
  {
   "cell_type": "markdown",
   "metadata": {},
   "source": [
    "**To install**:\n",
    "    \n",
    "```sheel\n",
    "    pip install git+https://github.com/Zebinyang/pysim.git\n",
    "```\n",
    "\n",
    "Note pysim will call the R package fps (https://github.com/vqv/fps) using rpy2 interface. "
   ]
  },
  {
   "cell_type": "markdown",
   "metadata": {},
   "source": [
    "```python\n",
    "from pysim import SimClassifier\n",
    "clf = SimClassifier(method=\"first_order\", reg_lambda=0.1, reg_gamma=10, knot_num=20, degree=2, random_state=0)\n",
    "## clf.fit(x, y)\n",
    "```"
   ]
  },
  {
   "cell_type": "markdown",
   "metadata": {},
   "source": [
    "**Usage**"
   ]
  },
  {
   "cell_type": "markdown",
   "metadata": {},
   "source": [
    "**Hyperparameters**\n",
    "\n",
    "- method: the base method for estimating the projection coefficients in sparse SIM. default=\"first_order\"\n",
    "\n",
    "        \"first_order\": First-order Stein's Identity via sparse PCA solver\n",
    "\n",
    "        \"second_order\": Second-order Stein's Identity via sparse PCA solver\n",
    "\n",
    "        \"first_order_thres\": First-order Stein's Identity via hard thresholding (A simplified verison)        \n",
    "    \n",
    "- reg_lambda: The regularization strength of sparsity of beta. default=0.1, from 0 to 1 \n",
    "\n",
    "- reg_gamma: The regularization strength of the spline algorithm. default=10, from 0 to $+\\infty$\n",
    "\n",
    "- degree: The order of the spline basis. default=2\n",
    "\n",
    "- knot_num: The number of knots spanned uniformly over the domain. default=20\n",
    "\n",
    "- random_state: the random seed. default=0"
   ]
  },
  {
   "cell_type": "markdown",
   "metadata": {},
   "source": [
    "# Case 1: Sine Ridge Function"
   ]
  },
  {
   "cell_type": "markdown",
   "metadata": {},
   "source": [
    "- covariates: $x\\sim N(0, 0.3^2)$\n",
    "- ridge function: $ f(u) = \\sin{(u\\pi)} $\n",
    "- projection: $ u = \\beta^{T} x $, where $\\beta$ has 5 non-zero entries\n",
    "- noise: $N(0, 1)$\n",
    "- sample size: 10000\n",
    "- feature size: 100"
   ]
  },
  {
   "cell_type": "code",
   "execution_count": 2,
   "metadata": {
    "scrolled": true
   },
   "outputs": [],
   "source": [
    "s_star = 5\n",
    "n_features = 100\n",
    "n_samples = 10000\n",
    "\n",
    "np.random.seed(0)\n",
    "beta = np.zeros(n_features)\n",
    "supp_ids = np.random.choice(n_features, s_star)\n",
    "beta[supp_ids]=np.random.choice((-1, 1), s_star) / np.sqrt(s_star)\n",
    "\n",
    "x = np.random.normal(0, 0.3, size=(n_samples, n_features))\n",
    "y = 1 / (1 + np.exp(-(np.dot(x, beta)))) + 0.05 * np.random.randn(n_samples)\n",
    "y = y - np.mean(y)\n",
    "y[y <= 0] = 0\n",
    "y[y > 0] = 1"
   ]
  },
  {
   "cell_type": "code",
   "execution_count": 3,
   "metadata": {},
   "outputs": [
    {
     "data": {
      "text/plain": [
       "<matplotlib.collections.PathCollection at 0x7f341888a2e8>"
      ]
     },
     "execution_count": 3,
     "metadata": {},
     "output_type": "execute_result"
    },
    {
     "data": {
      "image/png": "[encoded data removed]",
      "text/plain": [
       "<Figure size 432x288 with 1 Axes>"
      ]
     },
     "metadata": {
      "needs_background": "light"
     },
     "output_type": "display_data"
    }
   ],
   "source": [
    "plt.scatter(np.dot(x, beta), y)"
   ]
  },
  {
   "cell_type": "markdown",
   "metadata": {},
   "source": [
    "The best hyperparameter combination can be selected via cross-validation"
   ]
  },
  {
   "cell_type": "code",
   "execution_count": 4,
   "metadata": {
    "scrolled": true
   },
   "outputs": [
    {
     "name": "stdout",
     "output_type": "stream",
     "text": [
      "Fitting 3 folds for each of 30 candidates, totalling 90 fits\n"
     ]
    },
    {
     "name": "stderr",
     "output_type": "stream",
     "text": [
      "[Parallel(n_jobs=-1)]: Using backend LokyBackend with 64 concurrent workers.\n",
      "[Parallel(n_jobs=-1)]: Done   9 out of  90 | elapsed:   14.9s remaining:  2.2min\n",
      "[Parallel(n_jobs=-1)]: Done  55 out of  90 | elapsed:   32.4s remaining:   20.6s\n",
      "[Parallel(n_jobs=-1)]: Done  90 out of  90 | elapsed:   38.3s finished\n",
      "/home/r7user1/anaconda2_local/envs/tf2/lib/python3.6/site-packages/sklearn/model_selection/_search.py:813: DeprecationWarning: The default of the `iid` parameter will change from True to False in version 0.22 and will be removed in 0.24. This will change numeric results when test-set sizes are unequal.\n",
      "  DeprecationWarning)\n"
     ]
    },
    {
     "name": "stdout",
     "output_type": "stream",
     "text": [
      "CPU times: user 8.83 s, sys: 26.7 s, total: 35.5 s\n",
      "Wall time: 39.4 s\n"
     ]
    }
   ],
   "source": [
    "%%time \n",
    "\n",
    "param_grid = {\"method\": [\"first_order\", \"second_order\"],\n",
    "              \"reg_lambda\": [0.01, 0.05, 0.1],\n",
    "              \"reg_gamma\": np.logspace(-2, 2, 5)}\n",
    "grid = GridSearchCV(SimClassifier(degree=2, knot_num=20, random_state=0), \n",
    "                    cv=KFold(3, shuffle=True, random_state=0), \n",
    "                    scoring={\"auc\": make_scorer(roc_auc_score)},\n",
    "                    param_grid=param_grid, n_jobs=-1, verbose=2, refit=\"auc\", error_score=np.nan)\n",
    "grid.fit(x, y)"
   ]
  },
  {
   "cell_type": "code",
   "execution_count": 5,
   "metadata": {},
   "outputs": [
    {
     "data": {
      "text/plain": [
       "{'method': 'first_order', 'reg_gamma': 10.0, 'reg_lambda': 0.01}"
      ]
     },
     "execution_count": 5,
     "metadata": {},
     "output_type": "execute_result"
    }
   ],
   "source": [
    "grid.best_params_"
   ]
  },
  {
   "cell_type": "markdown",
   "metadata": {},
   "source": [
    "**NB**: The first-order Setin's method is selected, as $\\mathbb{E}[f^{\\prime\\prime}(u)]=0$. Therefore, the second order method cannot provide any information about the projection coefficients. "
   ]
  },
  {
   "cell_type": "markdown",
   "metadata": {},
   "source": [
    "In this case, the first-order Setin's method is selected. "
   ]
  },
  {
   "cell_type": "code",
   "execution_count": 6,
   "metadata": {},
   "outputs": [
    {
     "data": {
      "text/plain": [
       "SimClassifier(degree=2, knot_num=20, method='first_order', random_state=0,\n",
       "              reg_gamma=10.0, reg_lambda=0.01)"
      ]
     },
     "execution_count": 6,
     "metadata": {},
     "output_type": "execute_result"
    }
   ],
   "source": [
    "clf = grid.best_estimator_\n",
    "clf"
   ]
  },
  {
   "cell_type": "code",
   "execution_count": 7,
   "metadata": {},
   "outputs": [
    {
     "data": {
      "image/png": "[encoded data removed]",
      "text/plain": [
       "<Figure size 432x288 with 1 Axes>"
      ]
     },
     "metadata": {
      "needs_background": "light"
     },
     "output_type": "display_data"
    }
   ],
   "source": [
    "plt.plot(clf.beta_, \"o\")\n",
    "plt.plot(beta, \"o\")\n",
    "plt.legend([\"Estimated\", \"Ground Truth\"])\n",
    "plt.show()"
   ]
  },
  {
   "cell_type": "code",
   "execution_count": 8,
   "metadata": {
    "scrolled": true
   },
   "outputs": [
    {
     "data": {
      "image/png": "[encoded data removed]",
      "text/plain": [
       "<Figure size 864x288 with 3 Axes>"
      ]
     },
     "metadata": {
      "needs_background": "light"
     },
     "output_type": "display_data"
    }
   ],
   "source": [
    "grid.best_estimator_.visualize()"
   ]
  },
  {
   "cell_type": "code",
   "execution_count": 9,
   "metadata": {},
   "outputs": [
    {
     "data": {
      "text/plain": [
       "0.8827909198558643"
      ]
     },
     "execution_count": 9,
     "metadata": {},
     "output_type": "execute_result"
    }
   ],
   "source": [
    "roc_auc_score(y, grid.predict_proba(x))"
   ]
  },
  {
   "cell_type": "markdown",
   "metadata": {},
   "source": [
    "## Case 2: Quadratic Ridge Function"
   ]
  },
  {
   "cell_type": "markdown",
   "metadata": {},
   "source": [
    "- covariates: $x\\sim N(0, 0.3^2)$\n",
    "- ridge function: $ f(u) = u^{2} $\n",
    "- projection: $ u = \\beta^{T} x $, where $\\beta$ has 5 non-zero entries\n",
    "- noise: $N(0, 1)$\n",
    "- sample size: 10000\n",
    "- feature size: 100"
   ]
  },
  {
   "cell_type": "code",
   "execution_count": 10,
   "metadata": {
    "scrolled": true
   },
   "outputs": [],
   "source": [
    "s_star = 5\n",
    "n_features = 100\n",
    "n_samples = 10000\n",
    "\n",
    "np.random.seed(0)\n",
    "beta = np.zeros(n_features)\n",
    "supp_ids = np.random.choice(n_features, s_star)\n",
    "beta[supp_ids]=np.random.choice((-1, 1), s_star) / np.sqrt(s_star)\n",
    "\n",
    "x = np.random.normal(0, 0.3, size=(n_samples, n_features))\n",
    "y = 5 * np.dot(x, beta) ** 2 + 0.1 * np.random.randn(n_samples)\n",
    "ymu = np.mean(y)\n",
    "y[y > ymu] = 1\n",
    "y[y <= ymu] = 0"
   ]
  },
  {
   "cell_type": "code",
   "execution_count": 11,
   "metadata": {},
   "outputs": [
    {
     "data": {
      "text/plain": [
       "<matplotlib.collections.PathCollection at 0x7f341102b4a8>"
      ]
     },
     "execution_count": 11,
     "metadata": {},
     "output_type": "execute_result"
    },
    {
     "data": {
      "image/png": "[encoded data removed]",
      "text/plain": [
       "<Figure size 432x288 with 1 Axes>"
      ]
     },
     "metadata": {
      "needs_background": "light"
     },
     "output_type": "display_data"
    }
   ],
   "source": [
    "plt.scatter(np.dot(x, beta), y)"
   ]
  },
  {
   "cell_type": "code",
   "execution_count": 12,
   "metadata": {
    "scrolled": true
   },
   "outputs": [
    {
     "name": "stdout",
     "output_type": "stream",
     "text": [
      "Fitting 3 folds for each of 18 candidates, totalling 54 fits\n"
     ]
    },
    {
     "name": "stderr",
     "output_type": "stream",
     "text": [
      "[Parallel(n_jobs=-1)]: Using backend LokyBackend with 64 concurrent workers.\n",
      "[Parallel(n_jobs=-1)]: Done  11 out of  54 | elapsed:    9.6s remaining:   37.7s\n",
      "[Parallel(n_jobs=-1)]: Done  39 out of  54 | elapsed:   13.5s remaining:    5.2s\n",
      "[Parallel(n_jobs=-1)]: Done  54 out of  54 | elapsed:   16.5s finished\n"
     ]
    },
    {
     "name": "stdout",
     "output_type": "stream",
     "text": [
      "CPU times: user 4.52 s, sys: 18.4 s, total: 22.9 s\n",
      "Wall time: 18.7 s\n"
     ]
    }
   ],
   "source": [
    "%%time \n",
    "\n",
    "param_grid = {\"method\": [\"first_order\", \"second_order\"],\n",
    "              \"reg_lambda\": [0.01, 0.05, 0.1],\n",
    "              \"reg_gamma\": np.logspace(-1, 1, 3)}\n",
    "grid = GridSearchCV(SimClassifier(degree=2, knot_num=20, random_state=0), \n",
    "                    cv=KFold(3, shuffle=True, random_state=0), \n",
    "                    scoring={\"auc\": make_scorer(roc_auc_score)},\n",
    "                    param_grid=param_grid, n_jobs=-1, verbose=2, refit=\"auc\", error_score=np.nan)\n",
    "grid.fit(x, y)"
   ]
  },
  {
   "cell_type": "code",
   "execution_count": 13,
   "metadata": {},
   "outputs": [
    {
     "data": {
      "text/plain": [
       "{'method': 'second_order', 'reg_gamma': 1.0, 'reg_lambda': 0.05}"
      ]
     },
     "execution_count": 13,
     "metadata": {},
     "output_type": "execute_result"
    }
   ],
   "source": [
    "grid.best_params_"
   ]
  },
  {
   "cell_type": "markdown",
   "metadata": {},
   "source": [
    "**NB**: The second-order Setin's method is selected, as $\\mathbb{E}[f^{\\prime}(u)]=0$. Therefore, the first order method cannot provide any information about the projection coefficients. "
   ]
  },
  {
   "cell_type": "code",
   "execution_count": 14,
   "metadata": {},
   "outputs": [
    {
     "data": {
      "text/plain": [
       "SimClassifier(degree=2, knot_num=20, method='second_order', random_state=0,\n",
       "              reg_gamma=1.0, reg_lambda=0.05)"
      ]
     },
     "execution_count": 14,
     "metadata": {},
     "output_type": "execute_result"
    }
   ],
   "source": [
    "clf = grid.best_estimator_\n",
    "clf"
   ]
  },
  {
   "cell_type": "code",
   "execution_count": 15,
   "metadata": {},
   "outputs": [
    {
     "data": {
      "image/png": "[encoded data removed]",
      "text/plain": [
       "<Figure size 432x288 with 1 Axes>"
      ]
     },
     "metadata": {
      "needs_background": "light"
     },
     "output_type": "display_data"
    }
   ],
   "source": [
    "plt.plot(clf.beta_, \"o\")\n",
    "plt.plot(beta, \"o\")\n",
    "plt.legend([\"Estimated\", \"Ground Truth\"])\n",
    "plt.show()"
   ]
  },
  {
   "cell_type": "code",
   "execution_count": 16,
   "metadata": {
    "scrolled": false
   },
   "outputs": [
    {
     "data": {
      "image/png": "[encoded data removed]",
      "text/plain": [
       "<Figure size 864x288 with 3 Axes>"
      ]
     },
     "metadata": {
      "needs_background": "light"
     },
     "output_type": "display_data"
    }
   ],
   "source": [
    "grid.best_estimator_.visualize()"
   ]
  },
  {
   "cell_type": "markdown",
   "metadata": {},
   "source": [
    "## Case 3: Improve a rough estimator with inner update"
   ]
  },
  {
   "cell_type": "code",
   "execution_count": 59,
   "metadata": {
    "scrolled": true
   },
   "outputs": [],
   "source": [
    "s_star = 5\n",
    "n_features = 100\n",
    "n_samples = 10000\n",
    "\n",
    "np.random.seed(0)\n",
    "beta = np.zeros(n_features)\n",
    "supp_ids = np.random.choice(n_features, s_star)\n",
    "beta[supp_ids]=np.random.choice((-1, 1), s_star) / np.sqrt(s_star)\n",
    "\n",
    "x = np.random.gamma(1, 0.3, size=(n_samples, n_features))\n",
    "y = 5 * np.dot(x, beta) ** 2 + 0.1 * np.random.randn(n_samples)\n",
    "ymu = np.mean(y)\n",
    "y[y > ymu] = 1\n",
    "y[y <= ymu] = 0"
   ]
  },
  {
   "cell_type": "code",
   "execution_count": 18,
   "metadata": {
    "scrolled": true
   },
   "outputs": [
    {
     "name": "stdout",
     "output_type": "stream",
     "text": [
      "CPU times: user 2.76 s, sys: 11.2 s, total: 13.9 s\n",
      "Wall time: 701 ms\n"
     ]
    }
   ],
   "source": [
    "%%time \n",
    "\n",
    "clf = SimClassifier(degree=2, knot_num=20, reg_lambda=0.05, random_state=0)\n",
    "clf.fit(x, y)"
   ]
  },
  {
   "cell_type": "code",
   "execution_count": 19,
   "metadata": {
    "scrolled": true
   },
   "outputs": [
    {
     "data": {
      "image/png": "[encoded data removed]",
      "text/plain": [
       "<Figure size 864x288 with 3 Axes>"
      ]
     },
     "metadata": {
      "needs_background": "light"
     },
     "output_type": "display_data"
    }
   ],
   "source": [
    "clf.visualize()"
   ]
  },
  {
   "cell_type": "markdown",
   "metadata": {},
   "source": [
    "**Remark**：The data does not follow a normal distribution, so the performance is relatively poor."
   ]
  },
  {
   "cell_type": "code",
   "execution_count": 20,
   "metadata": {
    "scrolled": true
   },
   "outputs": [
    {
     "name": "stdout",
     "output_type": "stream",
     "text": [
      "Inner iter: 1 epoch: 1 with validation loss: 0.26283\n",
      "Inner iter: 1 epoch: 2 with validation loss: 0.25634\n",
      "Inner iter: 1 epoch: 3 with validation loss: 0.24938\n",
      "Inner iter: 1 epoch: 4 with validation loss: 0.24269\n",
      "Inner iter: 1 epoch: 5 with validation loss: 0.23541\n",
      "Inner iter: 1 epoch: 6 with validation loss: 0.2274\n",
      "Inner iter: 1 epoch: 7 with validation loss: 0.21668\n",
      "Inner iter: 1 epoch: 8 with validation loss: 0.21603\n",
      "Inner iter: 1 epoch: 9 with validation loss: 0.20325\n",
      "Inner iter: 1 epoch: 10 with validation loss: 0.19797\n",
      "Inner iter: 2 epoch: 1 with validation loss: 0.10636\n",
      "Inner iter: 2 epoch: 2 with validation loss: 0.10749\n",
      "Inner iter: 2 epoch: 3 with validation loss: 0.09991\n",
      "Inner iter: 2 epoch: 4 with validation loss: 0.09686\n",
      "Inner iter: 2 epoch: 5 with validation loss: 0.11904\n",
      "Inner iter: 2 epoch: 6 with validation loss: 0.09749\n",
      "Inner iter: 2 epoch: 7 with validation loss: 0.09829\n",
      "Inner iter: 2 epoch: 8 with validation loss: 0.09681\n",
      "Inner iter: 2 epoch: 9 with validation loss: 0.09613\n",
      "Inner iter: 2 epoch: 10 with validation loss: 0.09909\n",
      "Inner iter: 3 epoch: 1 with validation loss: 20.46459\n",
      "Inner iter: 3 epoch: 2 with validation loss: 13.45314\n",
      "Inner iter: 3 epoch: 3 with validation loss: 14.6275\n",
      "Inner iter: 3 epoch: 4 with validation loss: 16.0609\n",
      "Inner iter: 3 epoch: 5 with validation loss: 17.21797\n",
      "Inner iter: 3 epoch: 6 with validation loss: 17.75334\n",
      "Inner iter: 3 epoch: 7 with validation loss: 18.23689\n",
      "Inner iter: 3 epoch: 8 with validation loss: 18.58229\n",
      "Inner iter: 3 epoch: 9 with validation loss: 18.99676\n",
      "Inner iter: 3 epoch: 10 with validation loss: 19.51486\n",
      "Inner iter: 4 epoch: 1 with validation loss: 0.27399\n",
      "Inner iter: 4 epoch: 2 with validation loss: 0.26926\n",
      "Inner iter: 4 epoch: 3 with validation loss: 0.26513\n",
      "Inner iter: 4 epoch: 4 with validation loss: 0.26255\n",
      "Inner iter: 4 epoch: 5 with validation loss: 0.25754\n",
      "Inner iter: 4 epoch: 6 with validation loss: 0.25152\n",
      "Inner iter: 4 epoch: 7 with validation loss: 0.2448\n",
      "Inner iter: 4 epoch: 8 with validation loss: 0.23666\n",
      "Inner iter: 4 epoch: 9 with validation loss: 0.22838\n",
      "Inner iter: 4 epoch: 10 with validation loss: 0.2219\n",
      "Inner iter: 5 epoch: 1 with validation loss: 0.14353\n",
      "Inner iter: 5 epoch: 2 with validation loss: 0.12913\n",
      "Inner iter: 5 epoch: 3 with validation loss: 0.12094\n",
      "Inner iter: 5 epoch: 4 with validation loss: 0.11784\n",
      "Inner iter: 5 epoch: 5 with validation loss: 0.12059\n",
      "Inner iter: 5 epoch: 6 with validation loss: 0.12105\n",
      "Inner iter: 5 epoch: 7 with validation loss: 0.11548\n",
      "Inner iter: 5 epoch: 8 with validation loss: 0.11714\n",
      "Inner iter: 5 epoch: 9 with validation loss: 0.11502\n",
      "Inner iter: 5 epoch: 10 with validation loss: 0.11533\n"
     ]
    }
   ],
   "source": [
    "clf.fit_inner_update(x, y, max_inner_iter=5, epoches=10, n_iter_no_change=1,\n",
    "                     batch_size=100, val_ratio=0.2, learning_rate=1e-3, beta_1=0.9, beta_2=0.999, verbose=True)"
   ]
  },
  {
   "cell_type": "code",
   "execution_count": 21,
   "metadata": {
    "scrolled": true
   },
   "outputs": [
    {
     "data": {
      "image/png": "[encoded data removed]",
      "text/plain": [
       "<Figure size 864x288 with 3 Axes>"
      ]
     },
     "metadata": {
      "needs_background": "light"
     },
     "output_type": "display_data"
    }
   ],
   "source": [
    "clf.visualize()"
   ]
  },
  {
   "cell_type": "code",
   "execution_count": 22,
   "metadata": {},
   "outputs": [
    {
     "data": {
      "text/plain": [
       "<matplotlib.collections.PathCollection at 0x7f34050190f0>"
      ]
     },
     "execution_count": 22,
     "metadata": {},
     "output_type": "execute_result"
    },
    {
     "data": {
      "image/png": "[encoded data removed]",
      "text/plain": [
       "<Figure size 432x288 with 1 Axes>"
      ]
     },
     "metadata": {
      "needs_background": "light"
     },
     "output_type": "display_data"
    }
   ],
   "source": [
    "plt.scatter(clf.predict_proba(x), y)"
   ]
  },
  {
   "cell_type": "code",
   "execution_count": 82,
   "metadata": {},
   "outputs": [
    {
     "data": {
      "text/plain": [
       "(3.287643009190328e-05, 0.3967529359693092)"
      ]
     },
     "execution_count": 82,
     "metadata": {},
     "output_type": "execute_result"
    }
   ],
   "source": [
    "mu = np.average(x, axis=0) \n",
    "cov = np.cov(x.T)\n",
    "inv_cov = np.linalg.pinv(cov)\n",
    "s1 = np.dot(inv_cov, (x - mu).T).T\n",
    "zbar = np.average(y.reshape(-1, 1) * s1, axis=0)\n",
    "sigmat = np.dot(zbar.reshape([-1, 1]), zbar.reshape([-1, 1]).T)\n",
    "u, s, v = np.linalg.svd(sigmat)\n",
    "sigmat = np.dot(np.dot(u, np.diag(s)), u.T)\n",
    "np.max(np.abs(sigmat), axis=0).min(), np.max(np.abs(sigmat), axis=0).max()"
   ]
  },
  {
   "cell_type": "code",
   "execution_count": 87,
   "metadata": {},
   "outputs": [
    {
     "data": {
      "text/plain": [
       "[<matplotlib.lines.Line2D at 0x7f32e83f1160>]"
      ]
     },
     "execution_count": 87,
     "metadata": {},
     "output_type": "execute_result"
    },
    {
     "data": {
      "image/png": "[encoded data removed]",
      "text/plain": [
       "<Figure size 432x288 with 1 Axes>"
      ]
     },
     "metadata": {
      "needs_background": "light"
     },
     "output_type": "display_data"
    }
   ],
   "source": [
    "from rpy2 import robjects as ro\n",
    "from rpy2.robjects import numpy2ri\n",
    "from rpy2.robjects.packages import importr\n",
    "\n",
    "utils = importr(\"utils\")\n",
    "utils.install_packages(\"fps\")\n",
    "\n",
    "fps = importr(\"fps\")\n",
    "numpy2ri.activate()\n",
    "\n",
    "spca_solver = fps.fps(sigmat, 1, 1, -1, -1, ro.r.c(0.01))\n",
    "beta = np.array(fps.coef_fps(spca_solver, 550 * np.sum(np.abs(zbar))))\n",
    "plt.plot(beta)"
   ]
  },
  {
   "cell_type": "code",
   "execution_count": 60,
   "metadata": {
    "scrolled": true
   },
   "outputs": [
    {
     "data": {
      "text/plain": [
       "(array([44, 47, 64, 67]),)"
      ]
     },
     "execution_count": 60,
     "metadata": {},
     "output_type": "execute_result"
    }
   ],
   "source": [
    "np.where(np.abs(beta)>0)"
   ]
  },
  {
   "cell_type": "code",
   "execution_count": 69,
   "metadata": {},
   "outputs": [
    {
     "data": {
      "text/plain": [
       "(array([24, 25, 44, 47, 59, 67]), array([0, 0, 0, 0, 0, 0]))"
      ]
     },
     "execution_count": 69,
     "metadata": {},
     "output_type": "execute_result"
    },
    {
     "data": {
      "image/png": "[encoded data removed]",
      "text/plain": [
       "<Figure size 432x288 with 1 Axes>"
      ]
     },
     "metadata": {
      "needs_background": "light"
     },
     "output_type": "display_data"
    }
   ],
   "source": [
    "from rpy2 import robjects as ro\n",
    "from rpy2.robjects import numpy2ri\n",
    "from rpy2.robjects.packages import importr\n",
    "\n",
    "utils = importr(\"utils\")\n",
    "utils.install_packages(\"fps\")\n",
    "\n",
    "fps = importr(\"fps\")\n",
    "numpy2ri.activate()\n",
    "\n",
    "spca_solver = fps.fps(sigmat, 1, 1, -1, -1, ro.r.c(550 * np.sum(np.abs(zbar))))\n",
    "beta = np.array(fps.coef_fps(spca_solver, 550 * np.sum(np.abs(zbar))))\n",
    "plt.plot(beta)\n",
    "np.where(np.abs(beta)>0)"
   ]
  },
  {
   "cell_type": "code",
   "execution_count": 136,
   "metadata": {},
   "outputs": [
    {
     "data": {
      "text/plain": [
       "(1109.6920752538954, 7178.661754331979)"
      ]
     },
     "execution_count": 136,
     "metadata": {},
     "output_type": "execute_result"
    }
   ],
   "source": [
    "s1 = np.dot(inv_cov, (x - mu).T).T\n",
    "sigmat = np.tensordot(s1 * y.reshape([-1, 1]), s1, axes=([0], [0]))\n",
    "sigmat -= np.average(y, axis=0) * inv_cov\n"
   ]
  },
  {
   "cell_type": "code",
   "execution_count": 122,
   "metadata": {},
   "outputs": [
    {
     "data": {
      "text/plain": [
       "700.0"
      ]
     },
     "execution_count": 122,
     "metadata": {},
     "output_type": "execute_result"
    }
   ],
   "source": [
    "7000 * 0.1"
   ]
  },
  {
   "cell_type": "code",
   "execution_count": 150,
   "metadata": {},
   "outputs": [
    {
     "data": {
      "text/plain": [
       "1707.8000000000002"
      ]
     },
     "execution_count": 150,
     "metadata": {},
     "output_type": "execute_result"
    }
   ],
   "source": [
    "(7178 - 1100) * 0.1 + 1100"
   ]
  },
  {
   "cell_type": "code",
   "execution_count": 153,
   "metadata": {},
   "outputs": [
    {
     "data": {
      "text/plain": [
       "[<matplotlib.lines.Line2D at 0x7f32de735438>]"
      ]
     },
     "execution_count": 153,
     "metadata": {},
     "output_type": "execute_result"
    },
    {
     "data": {
      "image/png": "[encoded data removed]",
      "text/plain": [
       "<Figure size 432x288 with 1 Axes>"
      ]
     },
     "metadata": {
      "needs_background": "light"
     },
     "output_type": "display_data"
    }
   ],
   "source": [
    "spca_solver = fps.fps(sigmat, 1, 1, -1, -1, ro.r.c(1500))\n",
    "beta1 = np.array(fps.coef_fps(spca_solver, 1))\n",
    "plt.plot(beta1)"
   ]
  },
  {
   "cell_type": "code",
   "execution_count": 135,
   "metadata": {},
   "outputs": [
    {
     "data": {
      "text/plain": [
       "[<matplotlib.lines.Line2D at 0x7f32debdfc18>]"
      ]
     },
     "execution_count": 135,
     "metadata": {},
     "output_type": "execute_result"
    },
    {
     "data": {
      "image/png": "[encoded data removed]",
      "text/plain": [
       "<Figure size 432x288 with 1 Axes>"
      ]
     },
     "metadata": {
      "needs_background": "light"
     },
     "output_type": "display_data"
    }
   ],
   "source": [
    "spca_solver = fps.fps(sigmat, 1, 1, -1, -1, ro.r.c(000))\n",
    "beta2 = np.array(fps.coef_fps(spca_solver, 1))\n",
    "plt.plot(beta)"
   ]
  },
  {
   "cell_type": "code",
   "execution_count": 131,
   "metadata": {},
   "outputs": [
    {
     "data": {
      "text/plain": [
       "array([[-3.31266261e-03],\n",
       "       [-5.65067272e-03],\n",
       "       [-2.92261651e-03],\n",
       "       [-2.94419502e-02],\n",
       "       [ 9.14235187e-03],\n",
       "       [-3.03400901e-02],\n",
       "       [-3.86992848e-03],\n",
       "       [-1.89691153e-03],\n",
       "       [ 1.28075684e-02],\n",
       "       [-7.28630085e-03],\n",
       "       [ 1.25001225e-03],\n",
       "       [-2.14940741e-02],\n",
       "       [-8.75546213e-03],\n",
       "       [-6.88763413e-03],\n",
       "       [-2.86758315e-02],\n",
       "       [-2.78460552e-03],\n",
       "       [-2.30798760e-02],\n",
       "       [ 3.67235140e-04],\n",
       "       [-2.95849983e-02],\n",
       "       [-7.41988732e-03],\n",
       "       [-2.09597646e-03],\n",
       "       [ 1.36422805e-02],\n",
       "       [ 2.51258948e-02],\n",
       "       [ 1.85145600e-02],\n",
       "       [ 2.62260057e-02],\n",
       "       [ 1.94766034e-03],\n",
       "       [ 1.12328279e-02],\n",
       "       [ 1.23237314e-02],\n",
       "       [ 1.25069321e-02],\n",
       "       [-6.53021385e-03],\n",
       "       [-1.81994200e-02],\n",
       "       [ 1.49385724e-02],\n",
       "       [ 2.11921651e-02],\n",
       "       [-1.25817107e-02],\n",
       "       [ 2.11758694e-02],\n",
       "       [ 1.84456388e-02],\n",
       "       [-1.91884631e-02],\n",
       "       [-7.06549358e-03],\n",
       "       [-1.06902916e-02],\n",
       "       [ 1.34680043e-03],\n",
       "       [-2.08745249e-03],\n",
       "       [-2.94985678e-02],\n",
       "       [ 2.97426999e-02],\n",
       "       [-1.85490191e-02],\n",
       "       [-1.90532032e+00],\n",
       "       [ 2.23699359e-03],\n",
       "       [ 1.15111257e-02],\n",
       "       [ 4.35276187e-01],\n",
       "       [-4.30965036e-03],\n",
       "       [-1.13318942e-02],\n",
       "       [ 5.22059082e-03],\n",
       "       [ 2.51233332e-02],\n",
       "       [ 3.58399660e-02],\n",
       "       [ 1.26324715e-02],\n",
       "       [-1.95634936e-02],\n",
       "       [-5.61092039e-03],\n",
       "       [-1.64561885e-02],\n",
       "       [-1.54181575e-02],\n",
       "       [ 8.66742195e-03],\n",
       "       [ 5.51669972e-02],\n",
       "       [-1.32570757e-02],\n",
       "       [-5.66897133e-03],\n",
       "       [-1.02687180e-02],\n",
       "       [ 9.58986462e-03],\n",
       "       [ 1.87740460e-01],\n",
       "       [ 1.12122486e-02],\n",
       "       [ 1.70943358e-03],\n",
       "       [ 1.40235337e-01],\n",
       "       [ 1.29277704e-02],\n",
       "       [ 1.32878171e-02],\n",
       "       [ 2.28308014e-02],\n",
       "       [-1.74515318e-02],\n",
       "       [-2.87246482e-02],\n",
       "       [-2.36831723e-02],\n",
       "       [-4.00845146e-03],\n",
       "       [ 1.40673011e-02],\n",
       "       [-2.10044259e-02],\n",
       "       [-1.36092844e-02],\n",
       "       [ 1.52731683e-02],\n",
       "       [-7.28893128e-03],\n",
       "       [-2.93712181e-03],\n",
       "       [-1.47747718e-02],\n",
       "       [-6.63106822e-03],\n",
       "       [-1.69676786e-02],\n",
       "       [-1.31216674e-02],\n",
       "       [-1.84831535e-03],\n",
       "       [ 9.63071889e-03],\n",
       "       [-1.86082555e-02],\n",
       "       [-2.58165024e-03],\n",
       "       [-1.07130710e-02],\n",
       "       [ 1.46337684e-02],\n",
       "       [ 6.58086258e-03],\n",
       "       [ 8.02500180e-03],\n",
       "       [ 5.16439663e-03],\n",
       "       [-2.62866879e-03],\n",
       "       [ 1.33120677e-02],\n",
       "       [ 1.37905728e-02],\n",
       "       [ 3.02255085e-02],\n",
       "       [-6.41510076e-03],\n",
       "       [-1.84469776e-02]])"
      ]
     },
     "execution_count": 131,
     "metadata": {},
     "output_type": "execute_result"
    }
   ],
   "source": [
    "beta1 - beta2"
   ]
  }
 ],
 "metadata": {
  "kernelspec": {
   "display_name": "Python (tf2)",
   "language": "python",
   "name": "tf2"
  },
  "language_info": {
   "codemirror_mode": {
    "name": "ipython",
    "version": 3
   },
   "file_extension": ".py",
   "mimetype": "text/x-python",
   "name": "python",
   "nbconvert_exporter": "python",
   "pygments_lexer": "ipython3",
   "version": "3.6.8"
  }
 },
 "nbformat": 4,
 "nbformat_minor": 2
}
