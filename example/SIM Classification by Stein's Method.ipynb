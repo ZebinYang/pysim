{
 "cells": [
  {
   "cell_type": "markdown",
   "metadata": {},
   "source": [
    "## SIM Training by Stein's Method"
   ]
  },
  {
   "cell_type": "code",
   "execution_count": 1,
   "metadata": {},
   "outputs": [],
   "source": [
    "import numpy as np\n",
    "from matplotlib import pylab as plt\n",
    "from sklearn.model_selection import KFold\n",
    "from sklearn.model_selection import GridSearchCV\n",
    "from sklearn.preprocessing import MinMaxScaler\n",
    "from sklearn.metrics import make_scorer, roc_auc_score\n",
    "\n",
    "from pysim import SimClassifier"
   ]
  },
  {
   "cell_type": "markdown",
   "metadata": {},
   "source": [
    "## pySIM - A python package for Sparse SIM "
   ]
  },
  {
   "cell_type": "markdown",
   "metadata": {},
   "source": [
    "**To install**:\n",
    "    \n",
    "```sheel\n",
    "    pip install git+https://github.com/Zebinyang/pysim.git\n",
    "```\n",
    "\n",
    "Note pysim will call the R package fps (https://github.com/vqv/fps) using rpy2 interface. "
   ]
  },
  {
   "cell_type": "markdown",
   "metadata": {},
   "source": [
    "```python\n",
    "from pysim import SimClassifier\n",
    "clf = SimClassifier(method=\"first_order\", reg_lambda=0.1, reg_gamma=10, knot_num=20, degree=2, random_state=0)\n",
    "## clf.fit(x, y)\n",
    "```"
   ]
  },
  {
   "cell_type": "markdown",
   "metadata": {},
   "source": [
    "**Usage**"
   ]
  },
  {
   "cell_type": "markdown",
   "metadata": {},
   "source": [
    "**Hyperparameters**\n",
    "\n",
    "- method: the base method for estimating the projection coefficients in sparse SIM. default=\"first_order\"\n",
    "\n",
    "        \"first_order\": First-order Stein's Identity via sparse PCA solver\n",
    "\n",
    "        \"second_order\": Second-order Stein's Identity via sparse PCA solver\n",
    "\n",
    "        \"first_order_thres\": First-order Stein's Identity via hard thresholding (A simplified verison)        \n",
    "    \n",
    "- reg_lambda: The regularization strength of sparsity of beta. default=0.1, from 0 to 1 \n",
    "\n",
    "- reg_gamma: The regularization strength of the spline algorithm. default=10, from 0 to $+\\infty$\n",
    "\n",
    "- degree: The order of the spline basis. default=2\n",
    "\n",
    "- knot_num: The number of knots spanned uniformly over the domain. default=20\n",
    "\n",
    "- random_state: the random seed. default=0"
   ]
  },
  {
   "cell_type": "markdown",
   "metadata": {},
   "source": [
    "# Case 1: Logit Function"
   ]
  },
  {
   "cell_type": "code",
   "execution_count": 2,
   "metadata": {
    "scrolled": true
   },
   "outputs": [],
   "source": [
    "s_star = 5\n",
    "n_features = 100\n",
    "n_samples = 10000\n",
    "\n",
    "np.random.seed(0)\n",
    "beta = np.zeros(n_features)\n",
    "supp_ids = np.random.choice(n_features, s_star)\n",
    "beta[supp_ids]=np.random.choice((-1, 1), s_star) / np.sqrt(s_star)\n",
    "\n",
    "x = np.random.normal(0, 0.3, size=(n_samples, n_features))\n",
    "y = 1 / (1 + np.exp(-(np.dot(x, beta)))) + 0.1 * np.random.randn(n_samples)\n",
    "y = y - np.mean(y)\n",
    "y[y <= 0] = 0\n",
    "y[y > 0] = 1"
   ]
  },
  {
   "cell_type": "code",
   "execution_count": 3,
   "metadata": {},
   "outputs": [
    {
     "data": {
      "text/plain": [
       "<matplotlib.collections.PathCollection at 0x7fb555080358>"
      ]
     },
     "execution_count": 3,
     "metadata": {},
     "output_type": "execute_result"
    },
    {
     "data": {
      "image/png": "[encoded data removed]",
      "text/plain": [
       "<Figure size 432x288 with 1 Axes>"
      ]
     },
     "metadata": {
      "needs_background": "light"
     },
     "output_type": "display_data"
    }
   ],
   "source": [
    "plt.scatter(np.dot(x, beta), y)"
   ]
  },
  {
   "cell_type": "markdown",
   "metadata": {},
   "source": [
    "The best hyperparameter combination can be selected via cross-validation"
   ]
  },
  {
   "cell_type": "code",
   "execution_count": 4,
   "metadata": {
    "scrolled": true
   },
   "outputs": [
    {
     "name": "stdout",
     "output_type": "stream",
     "text": [
      "Fitting 3 folds for each of 30 candidates, totalling 90 fits\n"
     ]
    },
    {
     "name": "stderr",
     "output_type": "stream",
     "text": [
      "[Parallel(n_jobs=-1)]: Using backend LokyBackend with 64 concurrent workers.\n",
      "[Parallel(n_jobs=-1)]: Done   9 out of  90 | elapsed:   13.8s remaining:  2.1min\n",
      "[Parallel(n_jobs=-1)]: Done  55 out of  90 | elapsed:   31.5s remaining:   20.1s\n",
      "[Parallel(n_jobs=-1)]: Done  90 out of  90 | elapsed:   36.7s finished\n"
     ]
    },
    {
     "name": "stdout",
     "output_type": "stream",
     "text": [
      "CPU times: user 2.27 s, sys: 6.28 s, total: 8.56 s\n",
      "Wall time: 36.9 s\n"
     ]
    }
   ],
   "source": [
    "%%time \n",
    "\n",
    "param_grid = {\"method\": [\"first_order\", \"second_order\"],\n",
    "              \"reg_lambda\": [0.1, 0.2, 0.3],\n",
    "              \"reg_gamma\": np.logspace(-2, 2, 5)}\n",
    "grid = GridSearchCV(SimClassifier(degree=2, knot_num=20, random_state=0), \n",
    "                    cv=KFold(3, shuffle=True, random_state=0), \n",
    "                    scoring={\"auc\": make_scorer(roc_auc_score)},\n",
    "                    param_grid=param_grid, n_jobs=-1, verbose=2, refit=\"auc\", error_score=np.nan)\n",
    "grid.fit(x, y)"
   ]
  },
  {
   "cell_type": "code",
   "execution_count": 5,
   "metadata": {},
   "outputs": [
    {
     "data": {
      "text/plain": [
       "{'method': 'first_order', 'reg_gamma': 0.01, 'reg_lambda': 0.3}"
      ]
     },
     "execution_count": 5,
     "metadata": {},
     "output_type": "execute_result"
    }
   ],
   "source": [
    "grid.best_params_"
   ]
  },
  {
   "cell_type": "markdown",
   "metadata": {},
   "source": [
    "**NB**: The first-order Setin's method is selected, as $\\mathbb{E}[f^{\\prime\\prime}(u)]=0$. Therefore, the second order method cannot provide any information about the projection coefficients. "
   ]
  },
  {
   "cell_type": "markdown",
   "metadata": {},
   "source": [
    "In this case, the first-order Setin's method is selected. "
   ]
  },
  {
   "cell_type": "code",
   "execution_count": 6,
   "metadata": {},
   "outputs": [
    {
     "data": {
      "text/plain": [
       "SimClassifier(degree=2, knot_num=20, method='first_order', random_state=0,\n",
       "              reg_gamma=0.01, reg_lambda=0.3)"
      ]
     },
     "execution_count": 6,
     "metadata": {},
     "output_type": "execute_result"
    }
   ],
   "source": [
    "clf = grid.best_estimator_\n",
    "clf"
   ]
  },
  {
   "cell_type": "code",
   "execution_count": 7,
   "metadata": {},
   "outputs": [
    {
     "data": {
      "image/png": "[encoded data removed]",
      "text/plain": [
       "<Figure size 432x288 with 1 Axes>"
      ]
     },
     "metadata": {
      "needs_background": "light"
     },
     "output_type": "display_data"
    }
   ],
   "source": [
    "plt.plot(clf.beta_, \"o\")\n",
    "plt.plot(beta, \"o\")\n",
    "plt.legend([\"Estimated\", \"Ground Truth\"])\n",
    "plt.show()"
   ]
  },
  {
   "cell_type": "code",
   "execution_count": 8,
   "metadata": {
    "scrolled": true
   },
   "outputs": [
    {
     "data": {
      "image/png": "[encoded data removed]",
      "text/plain": [
       "<Figure size 864x288 with 3 Axes>"
      ]
     },
     "metadata": {
      "needs_background": "light"
     },
     "output_type": "display_data"
    }
   ],
   "source": [
    "grid.best_estimator_.visualize()"
   ]
  },
  {
   "cell_type": "code",
   "execution_count": 9,
   "metadata": {},
   "outputs": [
    {
     "data": {
      "text/plain": [
       "0.7548338635178491"
      ]
     },
     "execution_count": 9,
     "metadata": {},
     "output_type": "execute_result"
    }
   ],
   "source": [
    "roc_auc_score(y, grid.predict_proba(x))"
   ]
  },
  {
   "cell_type": "markdown",
   "metadata": {},
   "source": [
    "## Case 2: Quadratic Ridge Function"
   ]
  },
  {
   "cell_type": "code",
   "execution_count": 10,
   "metadata": {
    "scrolled": true
   },
   "outputs": [],
   "source": [
    "s_star = 5\n",
    "n_features = 100\n",
    "n_samples = 10000\n",
    "\n",
    "np.random.seed(0)\n",
    "beta = np.zeros(n_features)\n",
    "supp_ids = np.random.choice(n_features, s_star)\n",
    "beta[supp_ids]=np.random.choice((-1, 1), s_star) / np.sqrt(s_star)\n",
    "\n",
    "x = np.random.normal(0, 0.3, size=(n_samples, n_features))\n",
    "y = 5 * np.dot(x, beta) ** 2 + 0.1 * np.random.randn(n_samples)\n",
    "ymu = np.mean(y)\n",
    "y[y > ymu] = 1\n",
    "y[y <= ymu] = 0"
   ]
  },
  {
   "cell_type": "code",
   "execution_count": 11,
   "metadata": {},
   "outputs": [
    {
     "data": {
      "text/plain": [
       "<matplotlib.collections.PathCollection at 0x7fb5500a8518>"
      ]
     },
     "execution_count": 11,
     "metadata": {},
     "output_type": "execute_result"
    },
    {
     "data": {
      "image/png": "[encoded data removed]",
      "text/plain": [
       "<Figure size 432x288 with 1 Axes>"
      ]
     },
     "metadata": {
      "needs_background": "light"
     },
     "output_type": "display_data"
    }
   ],
   "source": [
    "plt.scatter(np.dot(x, beta), y)"
   ]
  },
  {
   "cell_type": "code",
   "execution_count": 12,
   "metadata": {
    "scrolled": true
   },
   "outputs": [
    {
     "name": "stdout",
     "output_type": "stream",
     "text": [
      "Fitting 3 folds for each of 18 candidates, totalling 54 fits\n"
     ]
    },
    {
     "name": "stderr",
     "output_type": "stream",
     "text": [
      "[Parallel(n_jobs=-1)]: Using backend LokyBackend with 64 concurrent workers.\n",
      "[Parallel(n_jobs=-1)]: Done  11 out of  54 | elapsed:   10.7s remaining:   41.9s\n",
      "[Parallel(n_jobs=-1)]: Done  39 out of  54 | elapsed:   14.5s remaining:    5.6s\n",
      "[Parallel(n_jobs=-1)]: Done  54 out of  54 | elapsed:   15.7s finished\n"
     ]
    },
    {
     "name": "stdout",
     "output_type": "stream",
     "text": [
      "CPU times: user 3.78 s, sys: 8.86 s, total: 12.6 s\n",
      "Wall time: 16 s\n"
     ]
    }
   ],
   "source": [
    "%%time \n",
    "\n",
    "param_grid = {\"method\": [\"first_order\", \"second_order\"],\n",
    "              \"reg_lambda\": [0.01, 0.05, 0.1],\n",
    "              \"reg_gamma\": np.logspace(-1, 1, 3)}\n",
    "grid = GridSearchCV(SimClassifier(degree=2, knot_num=20, random_state=0), \n",
    "                    cv=KFold(3, shuffle=True, random_state=0), \n",
    "                    scoring={\"auc\": make_scorer(roc_auc_score)},\n",
    "                    param_grid=param_grid, n_jobs=-1, verbose=2, refit=\"auc\", error_score=np.nan)\n",
    "grid.fit(x, y)"
   ]
  },
  {
   "cell_type": "code",
   "execution_count": 13,
   "metadata": {},
   "outputs": [
    {
     "data": {
      "text/plain": [
       "{'method': 'second_order', 'reg_gamma': 1.0, 'reg_lambda': 0.1}"
      ]
     },
     "execution_count": 13,
     "metadata": {},
     "output_type": "execute_result"
    }
   ],
   "source": [
    "grid.best_params_"
   ]
  },
  {
   "cell_type": "markdown",
   "metadata": {},
   "source": [
    "**NB**: The second-order Setin's method is selected, as $\\mathbb{E}[f^{\\prime}(u)]=0$. Therefore, the first order method cannot provide any information about the projection coefficients. "
   ]
  },
  {
   "cell_type": "code",
   "execution_count": 14,
   "metadata": {},
   "outputs": [
    {
     "data": {
      "text/plain": [
       "SimClassifier(degree=2, knot_num=20, method='second_order', random_state=0,\n",
       "              reg_gamma=1.0, reg_lambda=0.1)"
      ]
     },
     "execution_count": 14,
     "metadata": {},
     "output_type": "execute_result"
    }
   ],
   "source": [
    "clf = grid.best_estimator_\n",
    "clf"
   ]
  },
  {
   "cell_type": "code",
   "execution_count": 15,
   "metadata": {},
   "outputs": [
    {
     "data": {
      "image/png": "[encoded data removed]",
      "text/plain": [
       "<Figure size 432x288 with 1 Axes>"
      ]
     },
     "metadata": {
      "needs_background": "light"
     },
     "output_type": "display_data"
    }
   ],
   "source": [
    "plt.plot(clf.beta_, \"o\")\n",
    "plt.plot(beta, \"o\")\n",
    "plt.legend([\"Estimated\", \"Ground Truth\"])\n",
    "plt.show()"
   ]
  },
  {
   "cell_type": "code",
   "execution_count": 16,
   "metadata": {
    "scrolled": false
   },
   "outputs": [
    {
     "data": {
      "image/png": "[encoded data removed]",
      "text/plain": [
       "<Figure size 864x288 with 3 Axes>"
      ]
     },
     "metadata": {
      "needs_background": "light"
     },
     "output_type": "display_data"
    }
   ],
   "source": [
    "grid.best_estimator_.visualize()"
   ]
  },
  {
   "cell_type": "markdown",
   "metadata": {},
   "source": [
    "## Case 3: Improve a rough estimator via inner update"
   ]
  },
  {
   "cell_type": "code",
   "execution_count": 17,
   "metadata": {
    "scrolled": true
   },
   "outputs": [],
   "source": [
    "s_star = 5\n",
    "n_features = 100\n",
    "n_samples = 10000\n",
    "\n",
    "np.random.seed(0)\n",
    "beta = np.zeros(n_features)\n",
    "supp_ids = np.random.choice(n_features, s_star)\n",
    "beta[supp_ids]=np.random.choice((-1, 1), s_star) / np.sqrt(s_star)\n",
    "\n",
    "x = np.random.gamma(1, 0.3, size=(n_samples, n_features))\n",
    "y = 5 * np.dot(x, beta) ** 2 + 0.1 * np.random.randn(n_samples)\n",
    "ymu = np.mean(y)\n",
    "y[y > ymu] = 1\n",
    "y[y <= ymu] = 0"
   ]
  },
  {
   "cell_type": "code",
   "execution_count": 36,
   "metadata": {
    "scrolled": true
   },
   "outputs": [
    {
     "name": "stdout",
     "output_type": "stream",
     "text": [
      "CPU times: user 6 s, sys: 13.9 s, total: 19.9 s\n",
      "Wall time: 466 ms\n"
     ]
    }
   ],
   "source": [
    "%%time \n",
    "\n",
    "clf = SimClassifier(degree=2, knot_num=20, reg_lambda=0.05, random_state=0)\n",
    "clf.fit(x, y)"
   ]
  },
  {
   "cell_type": "code",
   "execution_count": 37,
   "metadata": {
    "scrolled": true
   },
   "outputs": [
    {
     "data": {
      "image/png": "[encoded data removed]",
      "text/plain": [
       "<Figure size 864x288 with 3 Axes>"
      ]
     },
     "metadata": {
      "needs_background": "light"
     },
     "output_type": "display_data"
    }
   ],
   "source": [
    "clf.visualize()"
   ]
  },
  {
   "cell_type": "markdown",
   "metadata": {},
   "source": [
    "**Remark**：The data does not follow a normal distribution, so the performance is relatively poor."
   ]
  },
  {
   "cell_type": "code",
   "execution_count": 20,
   "metadata": {
    "scrolled": true
   },
   "outputs": [
    {
     "name": "stdout",
     "output_type": "stream",
     "text": [
      "Inner iter: 1 epoch: 1 with validation loss: 0.15929\n",
      "Inner iter: 1 epoch: 2 with validation loss: 0.14135\n",
      "Inner iter: 1 epoch: 3 with validation loss: 0.13212\n",
      "Inner iter: 1 epoch: 4 with validation loss: 0.13086\n",
      "Inner iter: 1 epoch: 5 with validation loss: 0.12746\n",
      "Inner iter: 1 epoch: 6 with validation loss: 0.12681\n",
      "Inner iter: 1 epoch: 7 with validation loss: 0.12398\n",
      "Inner iter: 1 epoch: 8 with validation loss: 0.12531\n",
      "Inner iter: 1 epoch: 9 with validation loss: 0.1232\n",
      "Inner iter: 1 epoch: 10 with validation loss: 0.12396\n",
      "Inner iter: 2 epoch: 1 with validation loss: 13.9193\n",
      "Inner iter: 2 epoch: 2 with validation loss: 7.08056\n",
      "Inner iter: 2 epoch: 3 with validation loss: 7.77137\n",
      "Inner iter: 2 epoch: 4 with validation loss: 8.6694\n",
      "Inner iter: 2 epoch: 5 with validation loss: 9.25658\n",
      "Inner iter: 2 epoch: 6 with validation loss: 9.63652\n",
      "Inner iter: 2 epoch: 7 with validation loss: 9.72287\n",
      "Inner iter: 2 epoch: 8 with validation loss: 9.86103\n",
      "Inner iter: 2 epoch: 9 with validation loss: 9.93011\n",
      "Inner iter: 2 epoch: 10 with validation loss: 10.01646\n",
      "Inner iter: 3 epoch: 1 with validation loss: 0.2688\n",
      "Inner iter: 3 epoch: 2 with validation loss: 0.25216\n",
      "Inner iter: 3 epoch: 3 with validation loss: 0.24345\n",
      "Inner iter: 3 epoch: 4 with validation loss: 0.23727\n",
      "Inner iter: 3 epoch: 5 with validation loss: 0.23311\n",
      "Inner iter: 3 epoch: 6 with validation loss: 0.23067\n",
      "Inner iter: 3 epoch: 7 with validation loss: 0.22946\n",
      "Inner iter: 3 epoch: 8 with validation loss: 0.22988\n",
      "Inner iter: 3 epoch: 9 with validation loss: 0.23077\n",
      "Inner iter: 3 epoch: 10 with validation loss: 0.23159\n",
      "Inner iter: 4 epoch: 1 with validation loss: 0.10496\n",
      "Inner iter: 4 epoch: 2 with validation loss: 0.11126\n",
      "Inner iter: 4 epoch: 3 with validation loss: 0.10218\n",
      "Inner iter: 4 epoch: 4 with validation loss: 0.10397\n",
      "Inner iter: 4 epoch: 5 with validation loss: 0.09714\n",
      "Inner iter: 4 epoch: 6 with validation loss: 0.09668\n",
      "Inner iter: 4 epoch: 7 with validation loss: 0.10021\n",
      "Inner iter: 4 epoch: 8 with validation loss: 0.10347\n",
      "Inner iter: 4 epoch: 9 with validation loss: 0.10151\n",
      "Inner iter: 4 epoch: 10 with validation loss: 0.09841\n",
      "Inner iter: 5 epoch: 1 with validation loss: 13.74661\n",
      "Inner iter: 5 epoch: 2 with validation loss: 7.52958\n",
      "Inner iter: 5 epoch: 3 with validation loss: 8.27219\n",
      "Inner iter: 5 epoch: 4 with validation loss: 9.60198\n",
      "Inner iter: 5 epoch: 5 with validation loss: 10.08553\n",
      "Inner iter: 5 epoch: 6 with validation loss: 10.29277\n",
      "Inner iter: 5 epoch: 7 with validation loss: 10.50001\n",
      "Inner iter: 5 epoch: 8 with validation loss: 10.55182\n",
      "Inner iter: 5 epoch: 9 with validation loss: 10.53455\n",
      "Inner iter: 5 epoch: 10 with validation loss: 10.65544\n"
     ]
    }
   ],
   "source": [
    "clf.fit_inner_update(x, y, max_inner_iter=5, epoches=10, n_iter_no_change=1,\n",
    "                     batch_size=100, val_ratio=0.2, learning_rate=1e-3, beta_1=0.9, beta_2=0.999, verbose=True)"
   ]
  },
  {
   "cell_type": "code",
   "execution_count": 21,
   "metadata": {
    "scrolled": true
   },
   "outputs": [
    {
     "data": {
      "image/png": "[encoded data removed]",
      "text/plain": [
       "<Figure size 864x288 with 3 Axes>"
      ]
     },
     "metadata": {
      "needs_background": "light"
     },
     "output_type": "display_data"
    }
   ],
   "source": [
    "clf.visualize()"
   ]
  },
  {
   "cell_type": "code",
   "execution_count": 61,
   "metadata": {
    "scrolled": true
   },
   "outputs": [
    {
     "name": "stdout",
     "output_type": "stream",
     "text": [
      "Inner iter: 1 epoch: 1 with validation loss: 0.15929\n",
      "Inner iter: 1 epoch: 2 with validation loss: 0.14135\n",
      "Inner iter: 1 epoch: 3 with validation loss: 0.13212\n",
      "Inner iter: 1 epoch: 4 with validation loss: 0.13086\n",
      "Inner iter: 1 epoch: 5 with validation loss: 0.12746\n",
      "Inner iter: 1 epoch: 6 with validation loss: 0.12681\n",
      "Inner iter: 1 epoch: 7 with validation loss: 0.12398\n",
      "Inner iter: 1 epoch: 8 with validation loss: 0.12531\n",
      "Inner iter: 1 epoch: 9 with validation loss: 0.1232\n",
      "Inner iter: 1 epoch: 10 with validation loss: 0.12396\n"
     ]
    }
   ],
   "source": [
    "from sklearn.model_selection import train_test_split\n",
    "\n",
    "sample_weight=None\n",
    "proj_mat=None\n",
    "\n",
    "max_inner_iter=1\n",
    "epoches=10\n",
    "n_iter_no_change=10\n",
    "batch_size=100\n",
    "val_ratio=0.2\n",
    "learning_rate=1e-3\n",
    "beta_1=0.9\n",
    "beta_2=0.999\n",
    "tol=0.0001\n",
    "verbose=True\n",
    "    \n",
    "    \n",
    "clf = SimClassifier(degree=2, knot_num=20, reg_lambda=0.05, random_state=0)\n",
    "clf.fit(x, y)\n",
    "\n",
    "x, y = clf._validate_input(x, y)\n",
    "n_samples = x.shape[0]\n",
    "sample_weight = clf._validate_sample_weight(n_samples, sample_weight)\n",
    "\n",
    "idx1, idx2 = train_test_split(np.arange(n_samples),test_size=val_ratio, random_state=clf.random_state)\n",
    "tr_x, tr_y, val_x, val_y = x[idx1], y[idx1], x[idx2], y[idx2]\n",
    "\n",
    "for inner_iter in range(max_inner_iter):\n",
    "\n",
    "    m_t = 0 # moving average of the gradient\n",
    "    v_t = 0 # moving average of the gradient square\n",
    "    no_change = 0\n",
    "    num_updates = 0\n",
    "    theta_0 = clf.beta_ \n",
    "    val_loss_best = np.inf\n",
    "    train_size = tr_x.shape[0]\n",
    "    for epoch in range(epoches):\n",
    "\n",
    "        shuffle_index = np.arange(tr_x.shape[0])\n",
    "        np.random.shuffle(shuffle_index)\n",
    "        tr_x = tr_x[shuffle_index]\n",
    "        tr_y = tr_y[shuffle_index]\n",
    "\n",
    "        for iterations in range(train_size // batch_size):\n",
    "\n",
    "            num_updates += 1\n",
    "            offset = (iterations * batch_size) % train_size\n",
    "            batch_xx = tr_x[offset:(offset + batch_size), :]\n",
    "            batch_yy = tr_y[offset:(offset + batch_size)]\n",
    "            batch_sample_weight = sample_weight[offset:(offset + batch_size)]\n",
    "\n",
    "            xb = np.dot(batch_xx, theta_0)\n",
    "            r = batch_yy - clf.shape_fit_.predict_proba(xb)\n",
    "\n",
    "            # gradient\n",
    "            dfxb = clf.shape_fit_.diff(xb, order=1)\n",
    "            g_t = np.average((- dfxb * r).reshape(-1, 1) * batch_xx, axis=0,\n",
    "                        weights=batch_sample_weight).reshape(-1, 1)\n",
    "\n",
    "            # update the moving average \n",
    "            m_t = beta_1 * m_t + (1 - beta_1) * g_t\n",
    "            v_t = beta_2 * v_t + (1 - beta_2) * (g_t * g_t)\n",
    "            # calculates the bias-corrected estimates\n",
    "            m_cap = m_t / (1 - (beta_1 ** (num_updates + 1)))  \n",
    "            v_cap = v_t / (1 - (beta_2 ** (num_updates + 1)))\n",
    "            # updates the parameters\n",
    "            theta_0 = theta_0 - (learning_rate * m_cap) / (np.sqrt(v_cap) + 1e-8)\n",
    "\n",
    "        # validation loss\n",
    "        val_xb = np.dot(val_x, theta_0)\n",
    "        val_p = clf.shape_fit_.predict_proba(val_xb)\n",
    "        val_p = np.clip(val_p, 1e-15, 1 - 1e-15)\n",
    "        val_loss = np.average(- val_y * np.log(val_p) - (1 - val_y) * np.log(1 - val_p),\n",
    "                              axis=0, weights=sample_weight[idx2])\n",
    "        # stop criterion\n",
    "        if np.abs(val_loss_best - val_loss) > tol:\n",
    "            val_loss_best = val_loss\n",
    "            no_change = 0\n",
    "        else:\n",
    "            no_change += 1\n",
    "        if no_change >= n_iter_no_change:\n",
    "            break\n",
    "        if verbose:\n",
    "            print(\"Inner iter:\", inner_iter + 1, \"epoch:\", epoch + 1, \"with validation loss:\", np.round(val_loss, 5))\n",
    "\n",
    "    ## thresholding and normalization\n",
    "    theta_0 = np.sign(theta_0) * np.maximum(np.abs(theta_0) - clf.reg_lambda * np.max(np.abs(theta_0)), 0)\n",
    "    if proj_mat is not None:\n",
    "        theta_0 = np.dot(proj_mat, theta_0)\n",
    "    if np.linalg.norm(theta_0) > 0:\n",
    "        theta_0 = theta_0 / np.linalg.norm(theta_0)\n",
    "    else:\n",
    "        theta_0 = theta_0\n",
    "\n",
    "    if len(theta_0[np.abs(theta_0) > 0]) > 0:\n",
    "        if (theta_0[np.abs(theta_0) > 0][0] < 0):\n",
    "            theta_0 = - theta_0\n",
    "\n",
    "    # ridge update\n",
    "    clf.beta_ = theta_0\n",
    "    xb = np.dot(x, clf.beta_)\n",
    "    clf._estimate_shape(xb, y, sample_weight, xmin=np.min(xb), xmax=np.max(xb))\n"
   ]
  },
  {
   "cell_type": "code",
   "execution_count": 72,
   "metadata": {},
   "outputs": [
    {
     "data": {
      "text/plain": [
       "ASplineClassifier(degree=2, epsilon=1e-05, knot_num=20, maxiter=10,\n",
       "                  maxiter_irls=10, reg_gamma=10, threshold=0.99,\n",
       "                  xmax=2.4173467043128545, xmin=-0.7932313774076112)"
      ]
     },
     "execution_count": 72,
     "metadata": {},
     "output_type": "execute_result"
    }
   ],
   "source": [
    "from pysim.aspline import ASplineClassifier\n",
    "shape_fit_ = ASplineClassifier(knot_num=clf.knot_num, reg_gamma=clf.reg_gamma,\n",
    "                         xmin=xb.min(), xmax=xb.max(), degree=clf.degree)\n",
    "shape_fit_.fit(xb, y)"
   ]
  },
  {
   "cell_type": "code",
   "execution_count": 86,
   "metadata": {},
   "outputs": [
    {
     "data": {
      "text/plain": [
       "array([-21.96123564,  11.47807785,  16.06874244])"
      ]
     },
     "execution_count": 86,
     "metadata": {},
     "output_type": "execute_result"
    }
   ],
   "source": [
    "from patsy import dmatrix, build_design_matrices\n",
    "\n",
    "tempy = y.copy().astype(np.float32)\n",
    "tempy[tempy==0] = 0.01\n",
    "tempy[tempy==1] = 0.99\n",
    "\n",
    "selected_basis = np.asarray(build_design_matrices([shape_fit_.selected_xphi_.design_info],\n",
    "                  {\"x\": xb, \"knots\": shape_fit_.selected_knots_, \"degree\": shape_fit_.degree})[0])\n",
    "\n",
    "seBWB = np.tensordot(selected_basis * sample_weight.reshape([-1, 1]), selected_basis, axes=([0], [0]))\n",
    "seBWY = np.tensordot(selected_basis * sample_weight.reshape([-1, 1]), shape_fit_._inv_link(tempy), axes=([0], [0]))\n",
    "shape_fit_.coef_ = np.dot(np.linalg.pinv(seBWB, rcond=1e-5), seBWY)\n",
    "for j in range(shape_fit_.maxiter_irls):\n",
    "    lp = np.dot(selected_basis, shape_fit_.coef_)\n",
    "    mu = shape_fit_._link(lp)\n",
    "    omega = mu * (1 - mu)\n",
    "    mask = (np.abs(omega) >= shape_fit_.EPS) * np.isfinite(omega)\n",
    "    mask = mask.ravel()\n",
    "    if np.sum(mask) == 0:\n",
    "        break\n",
    "    seBW = selected_basis[mask] * sample_weight[mask].reshape([-1, 1])\n",
    "    seBWOB = np.tensordot(seBW * omega[mask].reshape([-1, 1]), selected_basis[mask], axes=([0], [0]))\n",
    "    shape_fit_.coef_ = np.dot(np.linalg.pinv(seBWOB, rcond=1e-3),\n",
    "                  seBWOB.dot(shape_fit_.coef_) + np.tensordot(seBW, y[mask] - mu[mask], axes=([0], [0])))\n",
    "shape_fit_.coef_"
   ]
  },
  {
   "cell_type": "code",
   "execution_count": 83,
   "metadata": {},
   "outputs": [
    {
     "data": {
      "text/plain": [
       "array([ 2.40821799e+08, -3.50254439e+07,  3.92583299e+05])"
      ]
     },
     "execution_count": 83,
     "metadata": {},
     "output_type": "execute_result"
    }
   ],
   "source": []
  },
  {
   "cell_type": "code",
   "execution_count": 68,
   "metadata": {},
   "outputs": [
    {
     "data": {
      "text/plain": [
       "<matplotlib.collections.PathCollection at 0x7fb53c07f278>"
      ]
     },
     "execution_count": 68,
     "metadata": {},
     "output_type": "execute_result"
    },
    {
     "data": {
      "image/png": "[encoded data removed]",
      "text/plain": [
       "<Figure size 432x288 with 1 Axes>"
      ]
     },
     "metadata": {
      "needs_background": "light"
     },
     "output_type": "display_data"
    }
   ],
   "source": [
    "plt.scatter(xb, y)"
   ]
  },
  {
   "cell_type": "code",
   "execution_count": 62,
   "metadata": {},
   "outputs": [
    {
     "data": {
      "text/plain": [
       "0.9999999999999999"
      ]
     },
     "execution_count": 62,
     "metadata": {},
     "output_type": "execute_result"
    }
   ],
   "source": [
    "np.linalg.norm(clf.beta_)"
   ]
  },
  {
   "cell_type": "code",
   "execution_count": 64,
   "metadata": {},
   "outputs": [
    {
     "data": {
      "text/plain": [
       "array([1., 1., 1., ..., 1., 1., 1.])"
      ]
     },
     "execution_count": 64,
     "metadata": {},
     "output_type": "execute_result"
    }
   ],
   "source": [
    "val_p = clf.shape_fit_.predict_proba(val_xb)\n",
    "val_p = np.clip(val_p, 1e-15, 1 - 1e-15)\n",
    "val_p"
   ]
  },
  {
   "cell_type": "code",
   "execution_count": 65,
   "metadata": {},
   "outputs": [
    {
     "data": {
      "text/plain": [
       "array([3.45395760e+01, 3.45395760e+01, 3.45395760e+01, ...,\n",
       "       9.99200722e-16, 3.45395760e+01, 3.45395760e+01])"
      ]
     },
     "execution_count": 65,
     "metadata": {},
     "output_type": "execute_result"
    }
   ],
   "source": [
    "- val_y * np.log(val_p) - (1 - val_y) * np.log(1 - val_p)"
   ]
  },
  {
   "cell_type": "code",
   "execution_count": 66,
   "metadata": {},
   "outputs": [
    {
     "data": {
      "text/plain": [
       "0.9989999999999987"
      ]
     },
     "execution_count": 66,
     "metadata": {},
     "output_type": "execute_result"
    }
   ],
   "source": [
    "val_p.mean()"
   ]
  },
  {
   "cell_type": "code",
   "execution_count": 41,
   "metadata": {},
   "outputs": [
    {
     "ename": "NameError",
     "evalue": "name 'gridspec' is not defined",
     "output_type": "error",
     "traceback": [
      "\u001b[0;31m---------------------------------------------------------------------------\u001b[0m",
      "\u001b[0;31mNameError\u001b[0m                                 Traceback (most recent call last)",
      "\u001b[0;32m<ipython-input-41-9e00b610da41>\u001b[0m in \u001b[0;36m<module>\u001b[0;34m\u001b[0m\n\u001b[0;32m----> 1\u001b[0;31m \u001b[0mclf\u001b[0m\u001b[0;34m.\u001b[0m\u001b[0mshape_fit_\u001b[0m\u001b[0;34m.\u001b[0m\u001b[0mvisualize\u001b[0m\u001b[0;34m(\u001b[0m\u001b[0;34m)\u001b[0m\u001b[0;34m\u001b[0m\u001b[0;34m\u001b[0m\u001b[0m\n\u001b[0m",
      "\u001b[0;32m~/anaconda2_local/envs/tf2/lib/python3.6/site-packages/pysim/aspline.py\u001b[0m in \u001b[0;36mvisualize\u001b[0;34m(self)\u001b[0m\n\u001b[1;32m    154\u001b[0m \u001b[0;34m\u001b[0m\u001b[0m\n\u001b[1;32m    155\u001b[0m         \u001b[0mfig\u001b[0m \u001b[0;34m=\u001b[0m \u001b[0mplt\u001b[0m\u001b[0;34m.\u001b[0m\u001b[0mfigure\u001b[0m\u001b[0;34m(\u001b[0m\u001b[0mfigsize\u001b[0m\u001b[0;34m=\u001b[0m\u001b[0;34m(\u001b[0m\u001b[0;36m6\u001b[0m\u001b[0;34m,\u001b[0m \u001b[0;36m4\u001b[0m\u001b[0;34m)\u001b[0m\u001b[0;34m)\u001b[0m\u001b[0;34m\u001b[0m\u001b[0;34m\u001b[0m\u001b[0m\n\u001b[0;32m--> 156\u001b[0;31m         \u001b[0minner\u001b[0m \u001b[0;34m=\u001b[0m \u001b[0mgridspec\u001b[0m\u001b[0;34m.\u001b[0m\u001b[0mGridSpec\u001b[0m\u001b[0;34m(\u001b[0m\u001b[0;36m2\u001b[0m\u001b[0;34m,\u001b[0m \u001b[0;36m1\u001b[0m\u001b[0;34m,\u001b[0m \u001b[0mhspace\u001b[0m\u001b[0;34m=\u001b[0m\u001b[0;36m0.1\u001b[0m\u001b[0;34m,\u001b[0m \u001b[0mheight_ratios\u001b[0m\u001b[0;34m=\u001b[0m\u001b[0;34m[\u001b[0m\u001b[0;36m6\u001b[0m\u001b[0;34m,\u001b[0m \u001b[0;36m1\u001b[0m\u001b[0;34m]\u001b[0m\u001b[0;34m)\u001b[0m\u001b[0;34m\u001b[0m\u001b[0;34m\u001b[0m\u001b[0m\n\u001b[0m\u001b[1;32m    157\u001b[0m         \u001b[0max1_main\u001b[0m \u001b[0;34m=\u001b[0m \u001b[0mplt\u001b[0m\u001b[0;34m.\u001b[0m\u001b[0mSubplot\u001b[0m\u001b[0;34m(\u001b[0m\u001b[0mfig\u001b[0m\u001b[0;34m,\u001b[0m \u001b[0minner\u001b[0m\u001b[0;34m[\u001b[0m\u001b[0;36m0\u001b[0m\u001b[0;34m]\u001b[0m\u001b[0;34m)\u001b[0m\u001b[0;34m\u001b[0m\u001b[0;34m\u001b[0m\u001b[0m\n\u001b[1;32m    158\u001b[0m         \u001b[0mxgrid\u001b[0m \u001b[0;34m=\u001b[0m \u001b[0mnp\u001b[0m\u001b[0;34m.\u001b[0m\u001b[0mlinspace\u001b[0m\u001b[0;34m(\u001b[0m\u001b[0mself\u001b[0m\u001b[0;34m.\u001b[0m\u001b[0mxmin\u001b[0m\u001b[0;34m,\u001b[0m \u001b[0mself\u001b[0m\u001b[0;34m.\u001b[0m\u001b[0mxmax\u001b[0m\u001b[0;34m,\u001b[0m \u001b[0;36m100\u001b[0m\u001b[0;34m)\u001b[0m\u001b[0;34m.\u001b[0m\u001b[0mreshape\u001b[0m\u001b[0;34m(\u001b[0m\u001b[0;34m[\u001b[0m\u001b[0;34m-\u001b[0m\u001b[0;36m1\u001b[0m\u001b[0;34m,\u001b[0m \u001b[0;36m1\u001b[0m\u001b[0;34m]\u001b[0m\u001b[0;34m)\u001b[0m\u001b[0;34m\u001b[0m\u001b[0;34m\u001b[0m\u001b[0m\n",
      "\u001b[0;31mNameError\u001b[0m: name 'gridspec' is not defined"
     ]
    },
    {
     "data": {
      "text/plain": [
       "<Figure size 432x288 with 0 Axes>"
      ]
     },
     "metadata": {},
     "output_type": "display_data"
    }
   ],
   "source": [
    "clf.shape_fit_.visualize()"
   ]
  }
 ],
 "metadata": {
  "kernelspec": {
   "display_name": "Python (tf2)",
   "language": "python",
   "name": "tf2"
  },
  "language_info": {
   "codemirror_mode": {
    "name": "ipython",
    "version": 3
   },
   "file_extension": ".py",
   "mimetype": "text/x-python",
   "name": "python",
   "nbconvert_exporter": "python",
   "pygments_lexer": "ipython3",
   "version": "3.6.8"
  }
 },
 "nbformat": 4,
 "nbformat_minor": 2
}
