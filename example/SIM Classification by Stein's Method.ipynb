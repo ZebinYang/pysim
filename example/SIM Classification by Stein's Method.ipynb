{
 "cells": [
  {
   "cell_type": "markdown",
   "metadata": {},
   "source": [
    "## SIM Training by Stein's Method"
   ]
  },
  {
   "cell_type": "code",
   "execution_count": 1,
   "metadata": {
    "ExecuteTime": {
     "end_time": "2020-05-21T11:08:18.200002Z",
     "start_time": "2020-05-21T11:08:11.150381Z"
    }
   },
   "outputs": [],
   "source": [
    "import numpy as np\n",
    "from matplotlib import pylab as plt\n",
    "from sklearn.model_selection import KFold\n",
    "from sklearn.model_selection import GridSearchCV\n",
    "from sklearn.preprocessing import MinMaxScaler\n",
    "from sklearn.metrics import make_scorer, roc_auc_score\n",
    "\n",
    "from pysim import SimClassifier"
   ]
  },
  {
   "cell_type": "markdown",
   "metadata": {},
   "source": [
    "## pySIM - A python package for Sparse SIM "
   ]
  },
  {
   "cell_type": "markdown",
   "metadata": {},
   "source": [
    "**To install**:\n",
    "    \n",
    "```sheel\n",
    "    pip install git+https://github.com/Zebinyang/pysim.git\n",
    "```\n",
    "\n",
    "Note pysim will call the R package fps (https://github.com/vqv/fps) using rpy2 interface. "
   ]
  },
  {
   "cell_type": "markdown",
   "metadata": {},
   "source": [
    "```python\n",
    "from pysim import SimClassifier\n",
    "clf = SimClassifier(method=\"first_order\", reg_lambda=0.1, spline=\"smoothing_spline\", reg_gamma=10, knot_num=20, knot_dist=\"uniform\", degree=2, random_state=0)\n",
    "## clf.fit(x, y)\n",
    "```"
   ]
  },
  {
   "cell_type": "markdown",
   "metadata": {},
   "source": [
    "**Usage**"
   ]
  },
  {
   "cell_type": "markdown",
   "metadata": {},
   "source": [
    "**Hyperparameters**\n",
    "\n",
    "- method: the base method for estimating the projection coefficients in sparse SIM. default=\"first_order\"\n",
    "\n",
    "\n",
    "        \"first_order\": First-order Stein's Identity via sparse PCA solver\n",
    "\n",
    "        \"second_order\": Second-order Stein's Identity via sparse PCA solver\n",
    "\n",
    "        \"first_order_thres\": First-order Stein's Identity via hard thresholding (A simplified verison)     \n",
    "        \n",
    "        \"ols\": Least squares estimation subject to hard thresholding.\n",
    "        \n",
    "- reg_lambda: The regularization strength of sparsity of beta. default=0.1, from 0 to 1 \n",
    "\n",
    "- spline: The type of spline for fitting the curve. default=\"smoothing_spline\"\n",
    "        \n",
    "        \"smoothing_spline\": Smoothing spline\n",
    "\n",
    "        \"p_spline\": P-spline\n",
    "\n",
    "        \"mono_p_spline\": P-spline with monotonic constraint\n",
    "        \n",
    "        \"a_spline\": Adaptive B-spline\n",
    "\n",
    "- reg_gamma: The regularization strength of the spline algorithm. default=0.1.\n",
    "\n",
    "        For spline=\"smoothing_spline\", it ranges from 0 to 1 \n",
    "        \n",
    "        For spline=\"p_spline\",\"mono_p_spline\" or \"a_spline\", it ranges from 0 to $+\\infty$.\n",
    "\n",
    "- degree: The order of the spline basis, not used in \"smoothing_spline\". default=2\n",
    "\n",
    "- knot_num: The number of knots. default=20\n",
    "\n",
    "- knot_dist: The method of specifying the knots. default=\"uniform\"\n",
    "\n",
    "        \"uniform\": uniformly over the domain\n",
    "        \n",
    "        \"quantile\": uniform quantiles of the given input data (not available when spline=\"p_spline\" or \"mono_p_spline\")\n",
    "\n",
    "- random_state: the random seed. default=0"
   ]
  },
  {
   "cell_type": "markdown",
   "metadata": {},
   "source": [
    "# Case 1: Logit Function"
   ]
  },
  {
   "cell_type": "code",
   "execution_count": 2,
   "metadata": {
    "ExecuteTime": {
     "end_time": "2020-05-21T11:08:18.287669Z",
     "start_time": "2020-05-21T11:08:18.203976Z"
    },
    "scrolled": true
   },
   "outputs": [],
   "source": [
    "s_star = 5\n",
    "n_features = 100\n",
    "n_samples = 10000\n",
    "\n",
    "np.random.seed(1)\n",
    "beta = np.zeros(n_features)\n",
    "supp_ids = np.random.choice(n_features, s_star)\n",
    "beta[supp_ids]=np.random.choice((-1, 1), s_star) / np.sqrt(s_star)\n",
    "\n",
    "x = np.random.normal(0, 0.3, size=(n_samples, n_features))\n",
    "y = 1 / (1 + np.exp(-(np.dot(x, beta)))) + 0.1 * np.random.randn(n_samples)\n",
    "y = y - np.mean(y)\n",
    "y[y <= 0] = 0\n",
    "y[y > 0] = 1"
   ]
  },
  {
   "cell_type": "markdown",
   "metadata": {},
   "source": [
    "The best hyperparameter combination can be selected via cross-validation"
   ]
  },
  {
   "cell_type": "code",
   "execution_count": 3,
   "metadata": {
    "ExecuteTime": {
     "end_time": "2020-05-21T11:08:39.348324Z",
     "start_time": "2020-05-21T11:08:18.291086Z"
    },
    "scrolled": true
   },
   "outputs": [
    {
     "name": "stdout",
     "output_type": "stream",
     "text": [
      "Fitting 3 folds for each of 200 candidates, totalling 600 fits\n"
     ]
    },
    {
     "name": "stderr",
     "output_type": "stream",
     "text": [
      "[Parallel(n_jobs=-1)]: Using backend LokyBackend with 64 concurrent workers.\n",
      "[Parallel(n_jobs=-1)]: Done  34 tasks      | elapsed:   13.9s\n",
      "[Parallel(n_jobs=-1)]: Done 237 tasks      | elapsed:   16.1s\n",
      "[Parallel(n_jobs=-1)]: Done 600 out of 600 | elapsed:   20.4s finished\n",
      "/home/r7user1/anaconda2_local/envs/tf2/lib/python3.6/site-packages/sklearn/model_selection/_search.py:823: FutureWarning: The parameter 'iid' is deprecated in 0.22 and will be removed in 0.24.\n",
      "  \"removed in 0.24.\", FutureWarning\n"
     ]
    },
    {
     "name": "stdout",
     "output_type": "stream",
     "text": [
      "CPU times: user 3.38 s, sys: 7.88 s, total: 11.3 s\n",
      "Wall time: 21 s\n"
     ]
    }
   ],
   "source": [
    "%%time \n",
    "\n",
    "param_grid = {\"method\": [\"first_order\", \"second_order\", \"first_order_thres\", \"ols\"],\n",
    "              \"knot_dist\": [\"uniform\", \"quantile\"],\n",
    "              \"reg_lambda\": [0.1, 0.2, 0.3, 0.4, 0.5], \n",
    "              \"reg_gamma\": [0.2, 0.4, 0.6, 0.8, 1.0]}\n",
    "grid = GridSearchCV(SimClassifier(spline=\"smoothing_spline\", knot_num=20, random_state=0), iid=False,\n",
    "                    cv=KFold(3, shuffle=True, random_state=0), param_grid=param_grid, n_jobs=-1, verbose=2, error_score=np.nan)\n",
    "grid.fit(x, y)"
   ]
  },
  {
   "cell_type": "code",
   "execution_count": 4,
   "metadata": {
    "ExecuteTime": {
     "end_time": "2020-05-21T11:08:39.366565Z",
     "start_time": "2020-05-21T11:08:39.352163Z"
    }
   },
   "outputs": [
    {
     "data": {
      "text/plain": [
       "{'knot_dist': 'quantile',\n",
       " 'method': 'first_order',\n",
       " 'reg_gamma': 0.2,\n",
       " 'reg_lambda': 0.2}"
      ]
     },
     "execution_count": 4,
     "metadata": {},
     "output_type": "execute_result"
    }
   ],
   "source": [
    "grid.best_params_"
   ]
  },
  {
   "cell_type": "markdown",
   "metadata": {},
   "source": [
    "**NB**: The first-order Setin's method is selected, as $\\mathbb{E}[f^{\\prime\\prime}(u)]=0$. Therefore, the second order method cannot provide any information about the projection coefficients. "
   ]
  },
  {
   "cell_type": "markdown",
   "metadata": {},
   "source": [
    "In this case, the first-order Setin's method is selected. "
   ]
  },
  {
   "cell_type": "code",
   "execution_count": 5,
   "metadata": {
    "ExecuteTime": {
     "end_time": "2020-05-21T11:08:39.379020Z",
     "start_time": "2020-05-21T11:08:39.369231Z"
    }
   },
   "outputs": [
    {
     "data": {
      "text/plain": [
       "SimClassifier(degree=2, knot_dist='quantile', knot_num=20, method='first_order',\n",
       "              random_state=0, reg_gamma=0.2, reg_lambda=0.2,\n",
       "              spline='smoothing_spline')"
      ]
     },
     "execution_count": 5,
     "metadata": {},
     "output_type": "execute_result"
    }
   ],
   "source": [
    "clf = grid.best_estimator_\n",
    "clf"
   ]
  },
  {
   "cell_type": "code",
   "execution_count": 6,
   "metadata": {
    "ExecuteTime": {
     "end_time": "2020-05-21T11:08:39.912215Z",
     "start_time": "2020-05-21T11:08:39.382062Z"
    }
   },
   "outputs": [
    {
     "data": {
      "image/png": "[encoded data removed]",
      "text/plain": [
       "<Figure size 432x288 with 1 Axes>"
      ]
     },
     "metadata": {
      "needs_background": "light"
     },
     "output_type": "display_data"
    }
   ],
   "source": [
    "plt.plot(np.abs(clf.beta_), \"o\")\n",
    "plt.plot(np.abs(beta), \"o\")\n",
    "plt.legend([\"Estimated\", \"Ground Truth\"])\n",
    "plt.show()"
   ]
  },
  {
   "cell_type": "code",
   "execution_count": 7,
   "metadata": {
    "ExecuteTime": {
     "end_time": "2020-05-21T11:08:41.104080Z",
     "start_time": "2020-05-21T11:08:39.914940Z"
    },
    "scrolled": true
   },
   "outputs": [
    {
     "data": {
      "image/png": "[encoded data removed]",
      "text/plain": [
       "<Figure size 864x288 with 3 Axes>"
      ]
     },
     "metadata": {
      "needs_background": "light"
     },
     "output_type": "display_data"
    }
   ],
   "source": [
    "grid.best_estimator_.visualize()"
   ]
  },
  {
   "cell_type": "code",
   "execution_count": 8,
   "metadata": {
    "ExecuteTime": {
     "end_time": "2020-05-21T11:08:41.204622Z",
     "start_time": "2020-05-21T11:08:41.107897Z"
    }
   },
   "outputs": [
    {
     "data": {
      "text/plain": [
       "0.7765310080031027"
      ]
     },
     "execution_count": 8,
     "metadata": {},
     "output_type": "execute_result"
    }
   ],
   "source": [
    "roc_auc_score(y, grid.predict_proba(x))"
   ]
  },
  {
   "cell_type": "markdown",
   "metadata": {},
   "source": [
    "## Case 2: Quadratic Ridge Function"
   ]
  },
  {
   "cell_type": "code",
   "execution_count": 9,
   "metadata": {
    "ExecuteTime": {
     "end_time": "2020-05-21T11:08:41.385841Z",
     "start_time": "2020-05-21T11:08:41.211805Z"
    },
    "scrolled": true
   },
   "outputs": [],
   "source": [
    "s_star = 5\n",
    "n_features = 100\n",
    "n_samples = 10000\n",
    "\n",
    "np.random.seed(1)\n",
    "beta = np.zeros(n_features)\n",
    "supp_ids = np.random.choice(n_features, s_star)\n",
    "beta[supp_ids]=np.random.choice((-1, 1), s_star) / np.sqrt(s_star)\n",
    "\n",
    "x = np.random.normal(0, 0.3, size=(n_samples, n_features))\n",
    "y = 5 * np.dot(x, beta) ** 2 + 0.1 * np.random.randn(n_samples)\n",
    "ymu = np.mean(y)\n",
    "y[y > ymu] = 1\n",
    "y[y <= ymu] = 0"
   ]
  },
  {
   "cell_type": "code",
   "execution_count": 10,
   "metadata": {
    "ExecuteTime": {
     "end_time": "2020-05-21T11:08:47.288591Z",
     "start_time": "2020-05-21T11:08:41.392130Z"
    },
    "scrolled": true
   },
   "outputs": [
    {
     "name": "stdout",
     "output_type": "stream",
     "text": [
      "Fitting 3 folds for each of 200 candidates, totalling 600 fits\n"
     ]
    },
    {
     "name": "stderr",
     "output_type": "stream",
     "text": [
      "[Parallel(n_jobs=-1)]: Using backend LokyBackend with 64 concurrent workers.\n",
      "[Parallel(n_jobs=-1)]: Done  34 tasks      | elapsed:    0.7s\n",
      "[Parallel(n_jobs=-1)]: Done 346 tasks      | elapsed:    3.7s\n",
      "[Parallel(n_jobs=-1)]: Done 600 out of 600 | elapsed:    5.4s finished\n",
      "/home/r7user1/anaconda2_local/envs/tf2/lib/python3.6/site-packages/sklearn/model_selection/_search.py:823: FutureWarning: The parameter 'iid' is deprecated in 0.22 and will be removed in 0.24.\n",
      "  \"removed in 0.24.\", FutureWarning\n"
     ]
    },
    {
     "name": "stdout",
     "output_type": "stream",
     "text": [
      "CPU times: user 2.96 s, sys: 6.49 s, total: 9.45 s\n",
      "Wall time: 5.88 s\n"
     ]
    }
   ],
   "source": [
    "%%time \n",
    "\n",
    "param_grid = {\"method\": [\"first_order\", \"second_order\", \"first_order_thres\", \"ols\"],\n",
    "              \"knot_dist\": [\"uniform\", \"quantile\"],\n",
    "              \"reg_lambda\": [0.1, 0.2, 0.3, 0.4, 0.5], \n",
    "              \"reg_gamma\": [0.2, 0.4, 0.6, 0.8, 1.0]}\n",
    "grid = GridSearchCV(SimClassifier(spline=\"smoothing_spline\", knot_num=20, random_state=0), iid=False,\n",
    "                    cv=KFold(3, shuffle=True, random_state=0), param_grid=param_grid, n_jobs=-1, verbose=2, error_score=np.nan)\n",
    "grid.fit(x, y)"
   ]
  },
  {
   "cell_type": "code",
   "execution_count": 11,
   "metadata": {
    "ExecuteTime": {
     "end_time": "2020-05-21T11:08:47.297426Z",
     "start_time": "2020-05-21T11:08:47.291449Z"
    }
   },
   "outputs": [
    {
     "data": {
      "text/plain": [
       "{'knot_dist': 'quantile',\n",
       " 'method': 'second_order',\n",
       " 'reg_gamma': 0.4,\n",
       " 'reg_lambda': 0.1}"
      ]
     },
     "execution_count": 11,
     "metadata": {},
     "output_type": "execute_result"
    }
   ],
   "source": [
    "grid.best_params_"
   ]
  },
  {
   "cell_type": "markdown",
   "metadata": {},
   "source": [
    "**NB**: The second-order Setin's method is selected, as $\\mathbb{E}[f^{\\prime}(u)]=0$. Therefore, the first order method cannot provide any information about the projection coefficients. "
   ]
  },
  {
   "cell_type": "code",
   "execution_count": 12,
   "metadata": {
    "ExecuteTime": {
     "end_time": "2020-05-21T11:08:47.312344Z",
     "start_time": "2020-05-21T11:08:47.301757Z"
    }
   },
   "outputs": [
    {
     "data": {
      "text/plain": [
       "SimClassifier(degree=2, knot_dist='quantile', knot_num=20,\n",
       "              method='second_order', random_state=0, reg_gamma=0.4,\n",
       "              reg_lambda=0.1, spline='smoothing_spline')"
      ]
     },
     "execution_count": 12,
     "metadata": {},
     "output_type": "execute_result"
    }
   ],
   "source": [
    "clf = grid.best_estimator_\n",
    "clf"
   ]
  },
  {
   "cell_type": "code",
   "execution_count": 13,
   "metadata": {
    "ExecuteTime": {
     "end_time": "2020-05-21T11:08:47.982251Z",
     "start_time": "2020-05-21T11:08:47.316800Z"
    }
   },
   "outputs": [
    {
     "data": {
      "image/png": "[encoded data removed]",
      "text/plain": [
       "<Figure size 432x288 with 1 Axes>"
      ]
     },
     "metadata": {
      "needs_background": "light"
     },
     "output_type": "display_data"
    }
   ],
   "source": [
    "plt.plot(clf.beta_, \"o\")\n",
    "plt.plot(beta, \"o\")\n",
    "plt.legend([\"Estimated\", \"Ground Truth\"])\n",
    "plt.show()"
   ]
  },
  {
   "cell_type": "code",
   "execution_count": 14,
   "metadata": {
    "ExecuteTime": {
     "end_time": "2020-05-21T11:08:49.405066Z",
     "start_time": "2020-05-21T11:08:47.984448Z"
    },
    "scrolled": false
   },
   "outputs": [
    {
     "data": {
      "image/png": "[encoded data removed]",
      "text/plain": [
       "<Figure size 864x288 with 3 Axes>"
      ]
     },
     "metadata": {
      "needs_background": "light"
     },
     "output_type": "display_data"
    }
   ],
   "source": [
    "grid.best_estimator_.visualize()"
   ]
  },
  {
   "cell_type": "markdown",
   "metadata": {},
   "source": [
    "## Case 3: Improve a rough estimator via inner update"
   ]
  },
  {
   "cell_type": "code",
   "execution_count": 15,
   "metadata": {
    "ExecuteTime": {
     "end_time": "2020-05-21T11:08:49.616979Z",
     "start_time": "2020-05-21T11:08:49.407582Z"
    },
    "scrolled": true
   },
   "outputs": [],
   "source": [
    "s_star = 5\n",
    "n_features = 100\n",
    "n_samples = 10000\n",
    "\n",
    "np.random.seed(1)\n",
    "beta = np.zeros(n_features)\n",
    "supp_ids = np.random.choice(n_features, s_star)\n",
    "beta[supp_ids]=np.random.choice((-1, 1), s_star) / np.sqrt(s_star)\n",
    "\n",
    "x = np.random.gamma(1, 0.3, size=(n_samples, n_features))\n",
    "y = 5 * np.dot(x, beta) ** 2 + 0.1 * np.random.randn(n_samples)\n",
    "ymu = np.mean(y)\n",
    "y[y > ymu] = 1\n",
    "y[y <= ymu] = 0"
   ]
  },
  {
   "cell_type": "code",
   "execution_count": 16,
   "metadata": {
    "ExecuteTime": {
     "end_time": "2020-05-21T11:08:52.140723Z",
     "start_time": "2020-05-21T11:08:49.622707Z"
    },
    "scrolled": true
   },
   "outputs": [
    {
     "data": {
      "image/png": "[encoded data removed]",
      "text/plain": [
       "<Figure size 864x288 with 3 Axes>"
      ]
     },
     "metadata": {
      "needs_background": "light"
     },
     "output_type": "display_data"
    },
    {
     "name": "stdout",
     "output_type": "stream",
     "text": [
      "CPU times: user 4.97 s, sys: 18.6 s, total: 23.6 s\n",
      "Wall time: 2.5 s\n"
     ]
    }
   ],
   "source": [
    "%%time \n",
    "\n",
    "clf = SimClassifier(degree=2, knot_num=20, reg_lambda=0.1, reg_gamma=0.4, spline=\"a_spline\", random_state=0)\n",
    "clf.fit(x, y)\n",
    "clf.visualize()"
   ]
  },
  {
   "cell_type": "markdown",
   "metadata": {},
   "source": [
    "To improve the solution, we provide two options for inner update: **adam optimizer** and **BFGS optimizer**."
   ]
  },
  {
   "cell_type": "code",
   "execution_count": 17,
   "metadata": {
    "ExecuteTime": {
     "end_time": "2020-05-21T11:09:35.470787Z",
     "start_time": "2020-05-21T11:08:52.144894Z"
    },
    "scrolled": true
   },
   "outputs": [
    {
     "name": "stdout",
     "output_type": "stream",
     "text": [
      "Inner iter: 1 epoch: 1 with validation loss: 0.42561\n",
      "Inner iter: 1 epoch: 2 with validation loss: 0.42303\n",
      "Inner iter: 1 epoch: 3 with validation loss: 0.42298\n",
      "Inner iter: 1 epoch: 4 with validation loss: 0.42287\n",
      "Inner iter: 1 epoch: 5 with validation loss: 0.42304\n",
      "Inner iter: 1 epoch: 6 with validation loss: 0.42261\n",
      "Inner iter: 1 epoch: 7 with validation loss: 0.42248\n",
      "Inner iter: 1 epoch: 8 with validation loss: 0.42178\n",
      "Inner iter: 1 epoch: 9 with validation loss: 0.42114\n",
      "Inner iter: 1 epoch: 10 with validation loss: 0.42207\n",
      "Inner iter: 1 epoch: 11 with validation loss: 0.42101\n",
      "Inner iter: 1 epoch: 12 with validation loss: 0.42157\n",
      "Inner iter: 1 epoch: 13 with validation loss: 0.42206\n",
      "Inner iter: 1 epoch: 14 with validation loss: 0.41996\n",
      "Inner iter: 1 epoch: 15 with validation loss: 0.4215\n",
      "Inner iter: 1 epoch: 16 with validation loss: 0.42005\n",
      "Inner iter: 1 epoch: 17 with validation loss: 0.42023\n",
      "Inner iter: 1 epoch: 18 with validation loss: 0.41942\n",
      "Inner iter: 1 epoch: 19 with validation loss: 0.42275\n",
      "Inner iter: 1 epoch: 20 with validation loss: 0.41954\n",
      "Inner iter: 1 epoch: 21 with validation loss: 0.41937\n",
      "Inner iter: 1 epoch: 22 with validation loss: 0.42087\n",
      "Inner iter: 1 epoch: 23 with validation loss: 0.42338\n",
      "Inner iter: 2 epoch: 1 with validation loss: 0.42516\n",
      "Inner iter: 2 epoch: 2 with validation loss: 0.42069\n",
      "Inner iter: 2 epoch: 3 with validation loss: 0.422\n",
      "Inner iter: 2 epoch: 4 with validation loss: 0.41861\n",
      "Inner iter: 2 epoch: 5 with validation loss: 0.41738\n",
      "Inner iter: 2 epoch: 6 with validation loss: 0.4169\n",
      "Inner iter: 2 epoch: 7 with validation loss: 0.41564\n",
      "Inner iter: 2 epoch: 8 with validation loss: 0.41516\n",
      "Inner iter: 2 epoch: 9 with validation loss: 0.41558\n",
      "Inner iter: 2 epoch: 10 with validation loss: 0.41429\n",
      "Inner iter: 2 epoch: 11 with validation loss: 0.41236\n",
      "Inner iter: 2 epoch: 12 with validation loss: 0.41385\n",
      "Inner iter: 2 epoch: 13 with validation loss: 0.41177\n",
      "Inner iter: 2 epoch: 14 with validation loss: 0.41493\n",
      "Inner iter: 2 epoch: 15 with validation loss: 0.41568\n",
      "Inner iter: 2 epoch: 16 with validation loss: 0.41286\n",
      "Inner iter: 2 epoch: 17 with validation loss: 0.40949\n",
      "Inner iter: 2 epoch: 18 with validation loss: 0.41012\n",
      "Inner iter: 2 epoch: 19 with validation loss: 0.40959\n",
      "Inner iter: 2 epoch: 20 with validation loss: 0.4111\n",
      "Inner iter: 2 epoch: 21 with validation loss: 0.41153\n",
      "Inner iter: 2 epoch: 22 with validation loss: 0.41081\n",
      "Inner iter: 3 epoch: 1 with validation loss: 0.40992\n",
      "Inner iter: 3 epoch: 2 with validation loss: 0.40444\n",
      "Inner iter: 3 epoch: 3 with validation loss: 0.39781\n",
      "Inner iter: 3 epoch: 4 with validation loss: 0.39409\n",
      "Inner iter: 3 epoch: 5 with validation loss: 0.38761\n",
      "Inner iter: 3 epoch: 6 with validation loss: 0.38264\n",
      "Inner iter: 3 epoch: 7 with validation loss: 0.37782\n",
      "Inner iter: 3 epoch: 8 with validation loss: 0.37341\n",
      "Inner iter: 3 epoch: 9 with validation loss: 0.37105\n",
      "Inner iter: 3 epoch: 10 with validation loss: 0.36611\n",
      "Inner iter: 3 epoch: 11 with validation loss: 0.36358\n",
      "Inner iter: 3 epoch: 12 with validation loss: 0.36037\n",
      "Inner iter: 3 epoch: 13 with validation loss: 0.35828\n",
      "Inner iter: 3 epoch: 14 with validation loss: 0.35545\n",
      "Inner iter: 3 epoch: 15 with validation loss: 0.35502\n",
      "Inner iter: 3 epoch: 16 with validation loss: 0.35556\n",
      "Inner iter: 3 epoch: 17 with validation loss: 0.35045\n",
      "Inner iter: 3 epoch: 18 with validation loss: 0.35787\n",
      "Inner iter: 3 epoch: 19 with validation loss: 0.35059\n",
      "Inner iter: 3 epoch: 20 with validation loss: 0.35128\n",
      "Inner iter: 3 epoch: 21 with validation loss: 0.3455\n",
      "Inner iter: 3 epoch: 22 with validation loss: 0.35335\n",
      "Inner iter: 3 epoch: 23 with validation loss: 0.3483\n",
      "Inner iter: 3 epoch: 24 with validation loss: 0.34251\n",
      "Inner iter: 3 epoch: 25 with validation loss: 0.34196\n",
      "Inner iter: 3 epoch: 26 with validation loss: 0.34311\n",
      "Inner iter: 3 epoch: 27 with validation loss: 0.34241\n",
      "Inner iter: 3 epoch: 28 with validation loss: 0.33987\n",
      "Inner iter: 3 epoch: 29 with validation loss: 0.34303\n",
      "Inner iter: 3 epoch: 30 with validation loss: 0.34513\n",
      "Inner iter: 3 epoch: 31 with validation loss: 0.3409\n",
      "Inner iter: 3 epoch: 32 with validation loss: 0.34091\n",
      "Inner iter: 3 epoch: 33 with validation loss: 0.34206\n",
      "Inner iter: 4 epoch: 1 with validation loss: 0.336\n",
      "Inner iter: 4 epoch: 2 with validation loss: 0.31601\n",
      "Inner iter: 4 epoch: 3 with validation loss: 0.30127\n",
      "Inner iter: 4 epoch: 4 with validation loss: 0.29122\n",
      "Inner iter: 4 epoch: 5 with validation loss: 0.28461\n",
      "Inner iter: 4 epoch: 6 with validation loss: 0.28259\n",
      "Inner iter: 4 epoch: 7 with validation loss: 0.27948\n",
      "Inner iter: 4 epoch: 8 with validation loss: 0.27886\n",
      "Inner iter: 4 epoch: 9 with validation loss: 0.27819\n",
      "Inner iter: 4 epoch: 10 with validation loss: 0.2782\n",
      "Inner iter: 4 epoch: 11 with validation loss: 0.2801\n",
      "Inner iter: 4 epoch: 12 with validation loss: 0.27816\n",
      "Inner iter: 4 epoch: 13 with validation loss: 0.27883\n",
      "Inner iter: 4 epoch: 14 with validation loss: 0.27914\n",
      "Inner iter: 5 epoch: 1 with validation loss: 0.15\n",
      "Inner iter: 5 epoch: 2 with validation loss: 0.15363\n",
      "Inner iter: 5 epoch: 3 with validation loss: 0.15322\n",
      "Inner iter: 5 epoch: 4 with validation loss: 0.14962\n",
      "Inner iter: 5 epoch: 5 with validation loss: 0.15021\n",
      "Inner iter: 5 epoch: 6 with validation loss: 0.14988\n",
      "Inner iter: 5 epoch: 7 with validation loss: 0.15407\n",
      "Inner iter: 5 epoch: 8 with validation loss: 0.15346\n",
      "Inner iter: 5 epoch: 9 with validation loss: 0.15024\n",
      "Inner iter: 6 epoch: 1 with validation loss: 0.14676\n",
      "Inner iter: 6 epoch: 2 with validation loss: 0.14501\n",
      "Inner iter: 6 epoch: 3 with validation loss: 0.14988\n",
      "Inner iter: 6 epoch: 4 with validation loss: 0.153\n",
      "Inner iter: 6 epoch: 5 with validation loss: 0.14696\n",
      "Inner iter: 6 epoch: 6 with validation loss: 0.14596\n",
      "Inner iter: 6 epoch: 7 with validation loss: 0.14694\n",
      "Inner iter: 7 epoch: 1 with validation loss: 0.15195\n",
      "Inner iter: 7 epoch: 2 with validation loss: 0.14729\n",
      "Inner iter: 7 epoch: 3 with validation loss: 0.14399\n",
      "Inner iter: 7 epoch: 4 with validation loss: 0.14537\n",
      "Inner iter: 7 epoch: 5 with validation loss: 0.14535\n",
      "Inner iter: 7 epoch: 6 with validation loss: 0.15962\n",
      "Inner iter: 7 epoch: 7 with validation loss: 0.14553\n",
      "Inner iter: 7 epoch: 8 with validation loss: 0.14669\n",
      "Inner iter: 8 epoch: 1 with validation loss: 0.15003\n",
      "Inner iter: 8 epoch: 2 with validation loss: 0.1448\n",
      "Inner iter: 8 epoch: 3 with validation loss: 0.14405\n",
      "Inner iter: 8 epoch: 4 with validation loss: 0.14529\n",
      "Inner iter: 8 epoch: 5 with validation loss: 0.14505\n",
      "Inner iter: 8 epoch: 6 with validation loss: 0.14573\n",
      "Inner iter: 8 epoch: 7 with validation loss: 0.14856\n",
      "Inner iter: 8 epoch: 8 with validation loss: 0.14502\n"
     ]
    },
    {
     "data": {
      "image/png": "[encoded data removed]",
      "text/plain": [
       "<Figure size 864x288 with 3 Axes>"
      ]
     },
     "metadata": {
      "needs_background": "light"
     },
     "output_type": "display_data"
    }
   ],
   "source": [
    "clf = SimClassifier(degree=2, knot_num=20, reg_lambda=0.1, reg_gamma=0.4, spline=\"a_spline\", random_state=0)\n",
    "clf.fit(x, y)\n",
    "clf.fit_inner_update(x, y, method=\"adam\", n_inner_iter_no_change=1, verbose=True)\n",
    "clf.visualize()"
   ]
  },
  {
   "cell_type": "code",
   "execution_count": 18,
   "metadata": {
    "ExecuteTime": {
     "end_time": "2020-05-21T11:09:41.465756Z",
     "start_time": "2020-05-21T11:09:35.473254Z"
    }
   },
   "outputs": [
    {
     "name": "stdout",
     "output_type": "stream",
     "text": [
      "Inner iter: 1 with validation loss: 0.42279\n",
      "Inner iter: 2 with validation loss: 0.42279\n"
     ]
    },
    {
     "data": {
      "image/png": "[encoded data removed]",
      "text/plain": [
       "<Figure size 864x288 with 3 Axes>"
      ]
     },
     "metadata": {
      "needs_background": "light"
     },
     "output_type": "display_data"
    }
   ],
   "source": [
    "clf = SimClassifier(degree=2, knot_num=20, reg_lambda=0.1, reg_gamma=0.4, spline=\"a_spline\", random_state=0)\n",
    "clf.fit(x, y)\n",
    "clf.fit_inner_update(x, y, method=\"bfgs\", n_inner_iter_no_change=1, verbose=True)\n",
    "clf.visualize()"
   ]
  },
  {
   "cell_type": "markdown",
   "metadata": {},
   "source": [
    "**Remark**: fit_inner_update is not available for spline=\"p_spline\" or \"mono_p_spline\""
   ]
  }
 ],
 "metadata": {
  "kernelspec": {
   "display_name": "Python (tf2)",
   "language": "python",
   "name": "tf2"
  },
  "language_info": {
   "codemirror_mode": {
    "name": "ipython",
    "version": 3
   },
   "file_extension": ".py",
   "mimetype": "text/x-python",
   "name": "python",
   "nbconvert_exporter": "python",
   "pygments_lexer": "ipython3",
   "version": "3.6.8"
  },
  "latex_envs": {
   "LaTeX_envs_menu_present": true,
   "autoclose": false,
   "autocomplete": true,
   "bibliofile": "biblio.bib",
   "cite_by": "apalike",
   "current_citInitial": 1,
   "eqLabelWithNumbers": true,
   "eqNumInitial": 1,
   "hotkeys": {
    "equation": "Ctrl-E",
    "itemize": "Ctrl-I"
   },
   "labels_anchors": false,
   "latex_user_defs": false,
   "report_style_numbering": false,
   "user_envs_cfg": false
  },
  "varInspector": {
   "cols": {
    "lenName": 16,
    "lenType": 16,
    "lenVar": 40
   },
   "kernels_config": {
    "python": {
     "delete_cmd_postfix": "",
     "delete_cmd_prefix": "del ",
     "library": "var_list.py",
     "varRefreshCmd": "print(var_dic_list())"
    },
    "r": {
     "delete_cmd_postfix": ") ",
     "delete_cmd_prefix": "rm(",
     "library": "var_list.r",
     "varRefreshCmd": "cat(var_dic_list()) "
    }
   },
   "types_to_exclude": [
    "module",
    "function",
    "builtin_function_or_method",
    "instance",
    "_Feature"
   ],
   "window_display": false
  }
 },
 "nbformat": 4,
 "nbformat_minor": 2
}
