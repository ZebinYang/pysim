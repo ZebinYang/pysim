{
 "cells": [
  {
   "cell_type": "code",
   "execution_count": 1,
   "metadata": {},
   "outputs": [],
   "source": [
    "import numpy as np\n",
    "import pandas as pd\n",
    "import matplotlib.pyplot as plt\n",
    "from scipy.stats import truncnorm\n",
    "from sklearn.model_selection import train_test_split\n",
    "from sklearn.metrics import mean_squared_error, roc_auc_score\n",
    "from sklearn.model_selection import GridSearchCV, PredefinedSplit\n",
    "\n",
    "from pysim import SIMBoostRegressor, SIMAdaBoostClassifier, SIMLogitBoostClassifier"
   ]
  },
  {
   "cell_type": "markdown",
   "metadata": {},
   "source": [
    "**Hyperparameters**\n",
    "\n",
    "- n_estimators: the maximum number of sim estimators. default=5\n",
    "\n",
    "- val_ratio: the ratio of validation set for tuning hyperparameters of each sim estimator and early stopping. default=0.2\n",
    "\n",
    "- early_stop_thres: early stop threshold, the boosting will stop if the validation accuracy does not improve for early_stop_thres times. default=1\n",
    "\n",
    "- random_state: the random seed. default=0"
   ]
  },
  {
   "cell_type": "markdown",
   "metadata": {},
   "source": [
    "## Regression"
   ]
  },
  {
   "cell_type": "markdown",
   "metadata": {},
   "source": [
    "```python\n",
    "from pysim import SIMBoostRegressor\n",
    "clf = SIMBoostRegressor(n_estimators=5, val_ratio=0.2, early_stop_thres=1, random_state=0)\n",
    "## clf.fit(x, y)\n",
    "```"
   ]
  },
  {
   "cell_type": "code",
   "execution_count": 2,
   "metadata": {},
   "outputs": [],
   "source": [
    "def data_generator1_reg(random_state=0):\n",
    "    \n",
    "    np.random.seed(random_state)\n",
    "    # data generation\n",
    "    beta1 = np.array([.2, 0.3, 0.5, 0, 0, 0, 0, 0, 0, 0])\n",
    "    beta2 = np.array([0, .2, 0.3, 0.5, 0, 0, 0, 0, 0, 0])\n",
    "    beta3 = np.array([0, 0, 0.2, 0.3, 0.5, 0, 0, 0, 0, 0])\n",
    "    \n",
    "    beta = np.vstack([beta1,beta2,beta3])\n",
    "    model_list = [lambda x: 0.2*np.exp(-4*x), lambda x: 3*x**2, lambda x: 2.5*np.sin(1.5 * np.pi*x)]\n",
    "    \n",
    "    x = truncnorm.rvs(a=-3,b=3,loc = 0, scale=1/3, size=(20000,10),random_state=random_state)\n",
    "    noise = np.random.randn(20000).reshape(-1, 1)\n",
    "    y = np.reshape(0.2 * np.exp(-4 * np.dot(x, beta1)) + \\\n",
    "                   3 * (np.dot(x, beta2))**2 + 2.5 * np.sin(np.pi * 1.5 * np.dot(x, beta3)), [-1, 1]) + noise\n",
    "    train_x, test_x, train_y, test_y = train_test_split(x, y, test_size=0.2, random_state=random_state)\n",
    "    return beta, model_list, train_x, test_x, train_y, test_y"
   ]
  },
  {
   "cell_type": "code",
   "execution_count": 3,
   "metadata": {
    "scrolled": false
   },
   "outputs": [
    {
     "data": {
      "text/plain": [
       "1.023658664723158"
      ]
     },
     "execution_count": 3,
     "metadata": {},
     "output_type": "execute_result"
    }
   ],
   "source": [
    "beta, model_list, train_x, test_x, train_y, test_y = data_generator1_reg()\n",
    "\n",
    "clf = SIMBoostRegressor(n_estimators=5)\n",
    "clf.fit(train_x, train_y)\n",
    "mean_squared_error(test_y, clf.predict(test_x))"
   ]
  },
  {
   "cell_type": "code",
   "execution_count": null,
   "metadata": {},
   "outputs": [],
   "source": [
    "clf.visualize()"
   ]
  },
  {
   "cell_type": "markdown",
   "metadata": {},
   "source": [
    "## Classification"
   ]
  },
  {
   "cell_type": "markdown",
   "metadata": {},
   "source": [
    "```python\n",
    "from pysim import SIMLogitBoostClassifier\n",
    "clf = SIMLogitBoostClassifier(n_estimators=5, val_ratio=0.2, early_stop_thres=1, random_state=0)\n",
    "## clf.fit(x, y)\n",
    "```"
   ]
  },
  {
   "cell_type": "code",
   "execution_count": null,
   "metadata": {},
   "outputs": [],
   "source": [
    "def data_generator1_cls(random_state=0):\n",
    "    \n",
    "    np.random.seed(random_state)\n",
    "    # data generation\n",
    "    beta1 = np.array([.2, 0.3, 0.5, 0, 0, 0, 0, 0, 0, 0])\n",
    "    beta2 = np.array([0, .2, 0.3, 0.5, 0, 0, 0, 0, 0, 0])\n",
    "    beta3 = np.array([0, 0, 0.2, 0.3, 0.5, 0, 0, 0, 0, 0])\n",
    "    \n",
    "    beta = np.vstack([beta1,beta2,beta3])\n",
    "    model_list = [lambda x: 0.2*np.exp(-4*x), lambda x: 3*x**2, lambda x: 2.5*np.sin(1.5 * np.pi*x)]\n",
    "    \n",
    "    x = truncnorm.rvs(a=-3,b=3,loc = 0, scale=1/3, size=(20000,10),random_state=random_state)\n",
    "    noise = np.random.randn(20000).reshape(-1, 1)\n",
    "    y = np.reshape(0.2 * np.exp(-4 * np.dot(x, beta1)) + \\\n",
    "                   3 * (np.dot(x, beta2))**2 + 2.5 * np.sin(np.pi * 1.5 * np.dot(x, beta3)), [-1, 1]) + noise\n",
    "    y = np.sign(y)\n",
    "    y = (y + 1) / 2 \n",
    "    train_x, test_x, train_y, test_y = train_test_split(x, y, test_size=0.2, random_state=random_state)\n",
    "    return beta, model_list, train_x, test_x, train_y, test_y"
   ]
  },
  {
   "cell_type": "code",
   "execution_count": null,
   "metadata": {},
   "outputs": [],
   "source": [
    "beta, model_list, train_x, test_x, train_y, test_y = data_generator1_cls()\n",
    "\n",
    "clf = SIMLogitBoostClassifier(n_estimators=5, early_stop_thres=1)\n",
    "clf.fit(train_x, train_y)\n",
    "roc_auc_score(test_y, clf.predict_proba(test_x))"
   ]
  },
  {
   "cell_type": "code",
   "execution_count": null,
   "metadata": {},
   "outputs": [],
   "source": [
    "clf.visualize()"
   ]
  },
  {
   "cell_type": "code",
   "execution_count": null,
   "metadata": {},
   "outputs": [],
   "source": [
    "beta, model_list, train_x, test_x, train_y, test_y = data_generator1_cls()\n",
    "\n",
    "clf = SIMAdaBoostClassifier(n_estimators=5, early_stop_thres=1)\n",
    "clf.fit(train_x, train_y)\n",
    "roc_auc_score(test_y, clf.predict_proba(test_x))"
   ]
  },
  {
   "cell_type": "code",
   "execution_count": null,
   "metadata": {},
   "outputs": [],
   "source": [
    "clf.visualize()"
   ]
  },
  {
   "cell_type": "code",
   "execution_count": null,
   "metadata": {},
   "outputs": [],
   "source": [
    "# import scipy\n",
    "# import numpy as np\n",
    "# import pandas as pd \n",
    "# from scipy.linalg import cholesky\n",
    "# from matplotlib import pyplot as plt\n",
    "\n",
    "# from sklearn.datasets import make_classification\n",
    "# from patsy import dmatrix, build_design_matrices\n",
    "\n",
    "# from pysim import SIMClassifier\n",
    "# from pysim.aspline import ASplineClassifier\n",
    "\n",
    "# X, y = make_classification(n_samples=1000, n_features=4,\n",
    "#                            n_informative=2, n_redundant=0,\n",
    "#                            random_state=0, shuffle=False)\n",
    "\n",
    "# x = X[:, [1]]\n",
    "# clf = ASplineClassifier(xmin=x.min(), xmax=x.max(), knot_num=10)\n",
    "# n_samples, n_features = x.shape\n",
    "# sample_weight = np.ones(n_samples) / n_samples\n",
    "# def diff_matrix(order, knot_num):\n",
    "#     results = [] # a container to collect the rows\n",
    "#     n_rows = order + 2\n",
    "#     for _ in range(n_rows): \n",
    "#         row = [1] # a starter 1 in the row\n",
    "#         if results: # then we're in the second row or beyond\n",
    "#             last_row = results[-1] # reference the previous row\n",
    "#             row.extend([sum(pair) for pair in zip(last_row, last_row[1:])])\n",
    "#             row.append(1)\n",
    "#         results.append(row) # add the row to the results.\n",
    "\n",
    "#     diss_operator = [] # a container to collect the rows\n",
    "#     for i, item in enumerate(np.array(row)):\n",
    "#         diss_operator.append(item * (-1) ** i)\n",
    "#     diss_operator.reverse()\n",
    "#     D = np.zeros((knot_num, knot_num + order + 1), dtype=np.float32)\n",
    "#     for i in range(knot_num):\n",
    "#         D[i,i:(i+order+2)] = diss_operator\n",
    "#     return D\n",
    "\n",
    "# def link(x):\n",
    "#     with np.errstate(divide='ignore', over='ignore'):\n",
    "#         return 1 / (1 + np.exp(-x))\n",
    "\n",
    "# def inv_link(x):\n",
    "#     with np.errstate(divide='ignore', over='ignore'):\n",
    "#         return np.log(x) - np.log(1 - x)\n",
    "\n",
    "# def get_loss(label, pred):\n",
    "#     with np.errstate(divide='ignore', over='ignore'):\n",
    "#         pred = np.clip(pred, 10**(-8), 1. -  10**(-8))\n",
    "#         return - np.mean(label * np.log(pred) + (1 - label) * np.log(1 - pred))\n",
    "\n",
    "# x = xb\n",
    "# y = y\n",
    "# sample_weight = np.ones(n_samples)\n",
    "\n",
    "# knots = list(np.linspace(x.min(), x.max(), clf.knot_num + 2, dtype=np.float32)[1:-1])\n",
    "# xphi = dmatrix(\"bs(x, knots = knots, degree=degree, include_intercept=True) - 1\",\n",
    "#                {\"x\": [x.min(), x.max()], \"knots\": knots, \"degree\": clf.degree})\n",
    "# init_basis = np.asarray(build_design_matrices([xphi.design_info],\n",
    "#                   {\"x\": x, \"knots\": knots, \"degree\": clf.degree})[0])\n",
    "\n",
    "# tempy = 1.0 * y.copy()\n",
    "# tempy[tempy==0] = 0.01\n",
    "# tempy[tempy==1] = 0.99\n",
    "# D = diff_matrix(clf.degree, clf.knot_num)\n",
    "# update_w = np.ones([clf.knot_num, 1], dtype=np.float32) \n",
    "# DWD = np.tensordot(D * update_w.reshape([-1, 1]), D, axes=([0], [0]))\n",
    "# BWB = np.tensordot(init_basis * sample_weight.reshape([-1, 1]), init_basis, axes=([0], [0]))\n",
    "# BWY = np.tensordot(init_basis * sample_weight.reshape([-1, 1]), inv_link(tempy), axes=([0], [0]))\n",
    "# update_a = np.dot(np.linalg.pinv(BWB + clf.reg_gamma * DWD), BWY)\n",
    "# best_loss = get_loss(y, link(np.dot(init_basis, update_a)))\n",
    "# for i in range(100):\n",
    "#     best_loss_irls = np.inf\n",
    "#     for j in range(10):\n",
    "#         lp = np.dot(init_basis, update_a)\n",
    "#         mu = link(lp)\n",
    "#         omega = mu * (1 - mu)\n",
    "#         mask = (np.abs(omega) >= 10**(-8)) * np.isfinite(omega)\n",
    "#         mask = mask.ravel()\n",
    "#         if np.sum(mask) == 0:\n",
    "#             break\n",
    "\n",
    "#         BW = init_basis[mask, :] * sample_weight[mask].reshape([-1, 1])\n",
    "#         DWD = np.tensordot(D * update_w.reshape([-1, 1]), D, axes=([0], [0]))\n",
    "#         BWOB = np.tensordot(BW * omega[mask].reshape([-1, 1]), init_basis[mask, :], axes=([0], [0]))\n",
    "#         update_a_temp = np.dot(np.linalg.pinv(BWOB + clf.reg_gamma * DWD),\n",
    "#                         BWOB.dot(update_a) + np.tensordot(BW, y[mask] - mu[mask], axes=([0], [0])))\n",
    "#         new_loss = get_loss(y, link(np.dot(init_basis, update_a_temp)))\n",
    "#         print(new_loss)\n",
    "#         if new_loss - best_loss_irls >= 0:\n",
    "#             break\n",
    "#         best_loss_irls = new_loss\n",
    "#         update_a = update_a_temp\n",
    "\n",
    "#     print(\"Outer\", best_loss_irls, best_loss)\n",
    "#     if best_loss_irls - best_loss >= 0:\n",
    "#         break\n",
    "#     best_loss = best_loss_irls\n",
    "#     update_w = 1 / (np.dot(D, update_a) ** 2 + 0.00001 ** 2)"
   ]
  }
 ],
 "metadata": {
  "kernelspec": {
   "display_name": "Python (tf2)",
   "language": "python",
   "name": "tf2"
  },
  "language_info": {
   "codemirror_mode": {
    "name": "ipython",
    "version": 3
   },
   "file_extension": ".py",
   "mimetype": "text/x-python",
   "name": "python",
   "nbconvert_exporter": "python",
   "pygments_lexer": "ipython3",
   "version": "3.6.8"
  }
 },
 "nbformat": 4,
 "nbformat_minor": 2
}
